{
 "cells": [
  {
   "cell_type": "code",
   "execution_count": 1,
   "metadata": {},
   "outputs": [],
   "source": [
    "%load_ext autoreload\n",
    "%autoreload"
   ]
  },
  {
   "cell_type": "code",
   "execution_count": 2,
   "metadata": {},
   "outputs": [],
   "source": [
    "import time\n",
    "import re\n",
    "import os\n",
    "import requests\n",
    "import subprocess\n",
    "import tarfile\n",
    "import json\n",
    "import pandas as pd\n",
    "from datetime import datetime\n",
    "import shutil\n",
    "from tqdm._tqdm_notebook import tqdm_notebook as tqdm "
   ]
  },
  {
   "cell_type": "code",
   "execution_count": 3,
   "metadata": {},
   "outputs": [],
   "source": [
    "import sys\n",
    "sys.path.append('../')"
   ]
  },
  {
   "cell_type": "code",
   "execution_count": 4,
   "metadata": {},
   "outputs": [],
   "source": [
    "from gdc.download import gdc_tool_download, api_download_iterative, api_download_batch"
   ]
  },
  {
   "cell_type": "markdown",
   "metadata": {},
   "source": [
    "Custom libraries"
   ]
  },
  {
   "cell_type": "code",
   "execution_count": 5,
   "metadata": {},
   "outputs": [],
   "source": [
    "GDC_CLIENT_TOOL = '/Users/portizdegalisteo/Google\\ Drive/Master/TFM/Pablo\\ Ortiz/gdc-client'\n",
    "DATA_ENDPOINT = \"https://api.gdc.cancer.gov/data/\"\n",
    "DATA_DIR = 'data'\n",
    "\n",
    "RESULTS_FILE = 'test_results.csv'\n",
    "RESULTS_FIELDS = ['dataset', 'n_files', 'avg_size', 'total_size', 'tool', \n",
    "                  'stream', 'iterative', 'time', 'speed', 'multiprocess', 'status']\n",
    "\n",
    "DEFAULT_CHUNK_SIZE = 1\n",
    "\n",
    "TMP_DIR = os.path.abspath(os.path.join(DATA_DIR, 'tmp'))"
   ]
  },
  {
   "cell_type": "markdown",
   "metadata": {},
   "source": [
    "Tests"
   ]
  },
  {
   "cell_type": "code",
   "execution_count": 6,
   "metadata": {},
   "outputs": [],
   "source": [
    "tests = [\n",
    "         {'dataset': 'dataset_4.csv', 'tool': 'gdc'},\n",
    "         {'dataset': 'dataset_4.csv', 'tool': 'api', 'stream': True, 'iterative': True},\n",
    "         {'dataset': 'dataset_4.csv', 'tool': 'api', 'stream': False, 'iterative': True},\n",
    "         \n",
    "         {'dataset': 'dataset_5.csv', 'tool': 'gdc'},\n",
    "         {'dataset': 'dataset_5.csv', 'tool': 'api', 'stream': True, 'iterative': False},\n",
    "         {'dataset': 'dataset_5.csv', 'tool': 'api', 'stream': False, 'iterative': False},\n",
    "    \n",
    "         {'dataset': 'dataset_6.csv', 'tool': 'api', 'stream': True, 'iterative': True},\n",
    "         {'dataset': 'dataset_6.csv', 'tool': 'api', 'stream': True, 'iterative': True, 'multiprocess': 2},\n",
    "         {'dataset': 'dataset_6.csv', 'tool': 'api', 'stream': True, 'iterative': True, 'multiprocess': 4},\n",
    "         {'dataset': 'dataset_6.csv', 'tool': 'api', 'stream': True, 'iterative': True, 'multiprocess': 8},\n",
    "         {'dataset': 'dataset_6.csv', 'tool': 'api', 'stream': True, 'iterative': True, 'multiprocess': 16},\n",
    "    \n",
    "    \n",
    "         {'dataset': 'dataset_1.csv', 'tool': 'gdc'},\n",
    "         {'dataset': 'dataset_1.csv', 'tool': 'api', 'stream': True, 'iterative': False},\n",
    "         {'dataset': 'dataset_1.csv', 'tool': 'api', 'stream': True, 'iterative': True},\n",
    "         {'dataset': 'dataset_2.csv', 'tool': 'api', 'stream': False, 'iterative': False},\n",
    "         {'dataset': 'dataset_2.csv', 'tool': 'api', 'stream': False, 'iterative': True},\n",
    "\n",
    "         \n",
    "         {'dataset': 'dataset_2.csv', 'tool': 'gdc'},\n",
    "         {'dataset': 'dataset_2.csv', 'tool': 'api', 'stream': True, 'iterative': False},\n",
    "         {'dataset': 'dataset_2.csv', 'tool': 'api', 'stream': True, 'iterative': True},\n",
    "         {'dataset': 'dataset_2.csv', 'tool': 'api', 'stream': False, 'iterative': False},\n",
    "         {'dataset': 'dataset_2.csv', 'tool': 'api', 'stream': False, 'iterative': True},\n",
    "\n",
    "         \n",
    "         {'dataset': 'dataset_3.csv', 'tool': 'gdc'},\n",
    "         {'dataset': 'dataset_3.csv', 'tool': 'api', 'stream': True, 'iterative': False},\n",
    "         {'dataset': 'dataset_3.csv', 'tool': 'api', 'stream': True, 'iterative': True},\n",
    "         {'dataset': 'dataset_3.csv', 'tool': 'api', 'stream': False, 'iterative': False},\n",
    "         {'dataset': 'dataset_3.csv', 'tool': 'api', 'stream': False, 'iterative': True}\n",
    "        ]"
   ]
  },
  {
   "cell_type": "markdown",
   "metadata": {},
   "source": [
    "Auxiliary functions"
   ]
  },
  {
   "cell_type": "code",
   "execution_count": 107,
   "metadata": {},
   "outputs": [],
   "source": [
    "def clear_dir(directory):\n",
    "    \n",
    "    if os.path.exists(TMP_DIR):\n",
    "        shutil.rmtree(TMP_DIR)\n",
    "\n",
    "    os.mkdir(TMP_DIR)\n",
    "    \n",
    "def data_summary(df, printed=True):\n",
    "    \n",
    "    n_files = len(df)\n",
    "    avg_size = round(df['file_size'].mean(), 2)\n",
    "    total_size = round(df['file_size'].sum(), 2)\n",
    "    \n",
    "    if printed:\n",
    "        print('Number of files: {0:>8}'.format(n_files))\n",
    "        print('Avg size (MB):{0:>11.2f}'.format(avg_size))\n",
    "        print('Total size (MB):{0:>9.2f}'.format(total_size))\n",
    "    \n",
    "    return {'n_files': n_files, 'avg_size': avg_size, 'total_size': total_size}\n",
    "\n",
    "def run_test(test):\n",
    "    \n",
    "    print('Running test...\\n')\n",
    "    for x in test:\n",
    "        print ('\\t', x,': ', test[x], sep='')\n",
    "    print()\n",
    "    \n",
    "    df = pd.read_csv(os.path.join(DATA_DIR, test['dataset']), sep='|')\n",
    "    \n",
    "    results = data_summary(df, printed=True)\n",
    "    results = {**test, **results}\n",
    "    print()\n",
    "    \n",
    "    time_start = time.time()\n",
    "    \n",
    "    chunk_size = test['chunk_size'] if 'chunk_size' in test else DEFAULT_CHUNK_SIZE        \n",
    "\n",
    "    try:\n",
    "\n",
    "        if test['tool'] == 'gdc':\n",
    "            gdc_tool_download(df, TMP_DIR, GDC_CLIENT_TOOL)\n",
    "        elif (test['tool'] == 'api') & (test['iterative'] is True):\n",
    "            multiprocess = False if 'multiprocess' not in test else test['multiprocess']\n",
    "            api_download_iterative(df, TMP_DIR, stream=test['stream'], chunk_size=chunk_size, \n",
    "                                   multiprocess=multiprocess)        \n",
    "        elif (test['tool'] == 'api') & (test['iterative'] is False):\n",
    "            api_download_batch(df, TMP_DIR, stream=test['stream'], chunk_size=chunk_size)\n",
    "        else:\n",
    "            raise ValueError('Invalid test parameters combination')\n",
    "\n",
    "    except Exception as e: \n",
    "        print('ERROR!')\n",
    "        print(type(e).__name__, e.args) \n",
    "        results['status'] = 'ERROR'\n",
    "\n",
    "    else:\n",
    "\n",
    "        print('OK\\n')\n",
    "\n",
    "        time_elapsed = round(time.time() - time_start, 2)\n",
    "        speed = round(results['total_size'] / time_elapsed, 2)\n",
    "\n",
    "        results['time'] = time_elapsed\n",
    "        results['speed'] = speed\n",
    "        results['status'] = 'OK'\n",
    "\n",
    "        print('Time: {}s'.format(time_elapsed))\n",
    "        print('Speed: {}MB/s'.format(round(results['total_size'] / time_elapsed, 2)))\n",
    "    \n",
    "    print('-' * 80 + '\\n')\n",
    "        \n",
    "    return results"
   ]
  },
  {
   "cell_type": "markdown",
   "metadata": {},
   "source": [
    "Clear tmp dir"
   ]
  },
  {
   "cell_type": "code",
   "execution_count": 108,
   "metadata": {},
   "outputs": [],
   "source": [
    "clear_dir(TMP_DIR)"
   ]
  },
  {
   "cell_type": "markdown",
   "metadata": {},
   "source": [
    "## Datasets Info"
   ]
  },
  {
   "cell_type": "code",
   "execution_count": 109,
   "metadata": {},
   "outputs": [],
   "source": [
    "datasets = sorted(list(set([x['dataset'] for x in tests])))\n",
    "datasets = {x: pd.read_csv(os.path.join(DATA_DIR, x), sep='|') for x in datasets}"
   ]
  },
  {
   "cell_type": "code",
   "execution_count": 110,
   "metadata": {},
   "outputs": [
    {
     "name": "stdout",
     "output_type": "stream",
     "text": [
      "Dataset: dataset_1.csv\n",
      "Number of files:       10\n",
      "Avg size (MB):       0.44\n",
      "Total size (MB):     4.36\n",
      "\n",
      "Dataset: dataset_2.csv\n",
      "Number of files:        4\n",
      "Avg size (MB):      26.54\n",
      "Total size (MB):   106.18\n",
      "\n",
      "Dataset: dataset_3.csv\n",
      "Number of files:        4\n",
      "Avg size (MB):     199.11\n",
      "Total size (MB):   796.45\n",
      "\n",
      "Dataset: dataset_4.csv\n",
      "Number of files:        1\n",
      "Avg size (MB):    1503.25\n",
      "Total size (MB):  1503.25\n",
      "\n",
      "Dataset: dataset_5.csv\n",
      "Number of files:        3\n",
      "Avg size (MB):    3280.28\n",
      "Total size (MB):  9840.83\n",
      "\n",
      "Dataset: dataset_6.csv\n",
      "Number of files:       29\n",
      "Avg size (MB):      41.52\n",
      "Total size (MB):  1204.07\n",
      "\n"
     ]
    }
   ],
   "source": [
    "for name,df in datasets.items():\n",
    "    print('Dataset:', name)\n",
    "    data_summary(df)\n",
    "    print()"
   ]
  },
  {
   "cell_type": "markdown",
   "metadata": {},
   "source": [
    "## Run Tests"
   ]
  },
  {
   "cell_type": "code",
   "execution_count": 111,
   "metadata": {},
   "outputs": [],
   "source": [
    "with open(RESULTS_FILE, 'w') as f:\n",
    "    f.write('|'.join(RESULTS_FIELDS) + '\\n')"
   ]
  },
  {
   "cell_type": "code",
   "execution_count": 112,
   "metadata": {},
   "outputs": [
    {
     "name": "stdout",
     "output_type": "stream",
     "text": [
      "Running test...\n",
      "\n",
      "\tdataset: dataset_4.csv\n",
      "\ttool: gdc\n",
      "\n",
      "Number of files:        1\n",
      "Avg size (MB):    1503.25\n",
      "Total size (MB):  1503.25\n",
      "\n",
      "100% [#############################################] Time: 0:04:49   5.19 MB/s \n",
      "\u001b[32mSuccessfully downloaded\u001b[0m: 1\n",
      "\n",
      "OK\n",
      "\n",
      "Time: 297.32s\n",
      "Speed: 5.06MB/s\n",
      "--------------------------------------------------------------------------------\n",
      "\n",
      "Running test...\n",
      "\n",
      "\tdataset: dataset_4.csv\n",
      "\ttool: api\n",
      "\tstream: True\n",
      "\titerative: True\n",
      "\n",
      "Number of files:        1\n",
      "Avg size (MB):    1503.25\n",
      "Total size (MB):  1503.25\n",
      "\n"
     ]
    },
    {
     "data": {
      "application/vnd.jupyter.widget-view+json": {
       "model_id": "e10df495bc6945ceb43d200cb8f3a757",
       "version_major": 2,
       "version_minor": 0
      },
      "text/plain": [
       "HBox(children=(IntProgress(value=0, description='Files', max=1, style=ProgressStyle(description_width='initial…"
      ]
     },
     "metadata": {},
     "output_type": "display_data"
    },
    {
     "name": "stdout",
     "output_type": "stream",
     "text": [
      " \r"
     ]
    },
    {
     "data": {
      "application/vnd.jupyter.widget-view+json": {
       "model_id": "",
       "version_major": 2,
       "version_minor": 0
      },
      "text/plain": [
       "HBox(children=(IntProgress(value=0, description='TCGA-IB-7889-01Z-00-DX1.6D4EE9ED-5AE0-4AC2-B75C-2B26F562D346.…"
      ]
     },
     "metadata": {},
     "output_type": "display_data"
    },
    {
     "name": "stdout",
     "output_type": "stream",
     "text": [
      "OK\n",
      "\n",
      "Time: 479.87s\n",
      "Speed: 3.13MB/s\n",
      "--------------------------------------------------------------------------------\n",
      "\n",
      "Running test...\n",
      "\n",
      "\tdataset: dataset_4.csv\n",
      "\ttool: api\n",
      "\tstream: False\n",
      "\titerative: True\n",
      "\n",
      "Number of files:        1\n",
      "Avg size (MB):    1503.25\n",
      "Total size (MB):  1503.25\n",
      "\n"
     ]
    },
    {
     "data": {
      "application/vnd.jupyter.widget-view+json": {
       "model_id": "e2aafcea7c01487280b438a917fe3a97",
       "version_major": 2,
       "version_minor": 0
      },
      "text/plain": [
       "HBox(children=(IntProgress(value=0, description='Files', max=1, style=ProgressStyle(description_width='initial…"
      ]
     },
     "metadata": {},
     "output_type": "display_data"
    },
    {
     "name": "stdout",
     "output_type": "stream",
     "text": [
      "OK\n",
      "\n",
      "Time: 496.55s\n",
      "Speed: 3.03MB/s\n",
      "--------------------------------------------------------------------------------\n",
      "\n",
      "Running test...\n",
      "\n",
      "\tdataset: dataset_5.csv\n",
      "\ttool: gdc\n",
      "\n",
      "Number of files:        3\n",
      "Avg size (MB):    3280.28\n",
      "Total size (MB):  9840.83\n",
      "\n",
      "100% [#############################################] Time: 0:11:27   4.92 MB/s \n",
      "100% [#############################################] Time: 0:12:26   4.18 MB/s \n",
      "100% [#############################################] Time: 0:13:11   4.21 MB/s \n",
      "\u001b[32mSuccessfully downloaded\u001b[0m: 3\n",
      "\n",
      "OK\n",
      "\n",
      "Time: 2259.63s\n",
      "Speed: 4.36MB/s\n",
      "--------------------------------------------------------------------------------\n",
      "\n",
      "Running test...\n",
      "\n",
      "\tdataset: dataset_5.csv\n",
      "\ttool: api\n",
      "\tstream: True\n",
      "\titerative: False\n",
      "\n",
      "Number of files:        3\n",
      "Avg size (MB):    3280.28\n",
      "Total size (MB):  9840.83\n",
      "\n",
      " \r"
     ]
    },
    {
     "data": {
      "application/vnd.jupyter.widget-view+json": {
       "model_id": "",
       "version_major": 2,
       "version_minor": 0
      },
      "text/plain": [
       "HBox(children=(IntProgress(value=0, description='gdc_download_20190424_233542.354135.tar.gz', max=7751546, sty…"
      ]
     },
     "metadata": {},
     "output_type": "display_data"
    },
    {
     "name": "stdout",
     "output_type": "stream",
     "text": [
      "OK\n",
      "\n",
      "Time: 3071.39s\n",
      "Speed: 3.2MB/s\n",
      "--------------------------------------------------------------------------------\n",
      "\n",
      "Running test...\n",
      "\n",
      "\tdataset: dataset_5.csv\n",
      "\ttool: api\n",
      "\tstream: False\n",
      "\titerative: False\n",
      "\n",
      "Number of files:        3\n",
      "Avg size (MB):    3280.28\n",
      "Total size (MB):  9840.83\n",
      "\n",
      "ERROR!\n",
      "OSError (22, 'Invalid argument')\n",
      "--------------------------------------------------------------------------------\n",
      "\n",
      "Running test...\n",
      "\n",
      "\tdataset: dataset_6.csv\n",
      "\ttool: api\n",
      "\tstream: True\n",
      "\titerative: True\n",
      "\n",
      "Number of files:       29\n",
      "Avg size (MB):      41.52\n",
      "Total size (MB):  1204.07\n",
      "\n"
     ]
    },
    {
     "data": {
      "application/vnd.jupyter.widget-view+json": {
       "model_id": "aa59b162da3c4065bb3270378e869943",
       "version_major": 2,
       "version_minor": 0
      },
      "text/plain": [
       "HBox(children=(IntProgress(value=0, description='Files', max=29, style=ProgressStyle(description_width='initia…"
      ]
     },
     "metadata": {},
     "output_type": "display_data"
    },
    {
     "name": "stdout",
     "output_type": "stream",
     "text": [
      " \r"
     ]
    },
    {
     "data": {
      "application/vnd.jupyter.widget-view+json": {
       "model_id": "",
       "version_major": 2,
       "version_minor": 0
      },
      "text/plain": [
       "HBox(children=(IntProgress(value=0, description='TCGA-IB-8126-01A-01-TS1.098769c8-f708-45d8-af6e-96747786553a.…"
      ]
     },
     "metadata": {},
     "output_type": "display_data"
    },
    {
     "name": "stdout",
     "output_type": "stream",
     "text": [
      " \r"
     ]
    },
    {
     "data": {
      "application/vnd.jupyter.widget-view+json": {
       "model_id": "",
       "version_major": 2,
       "version_minor": 0
      },
      "text/plain": [
       "HBox(children=(IntProgress(value=0, description='TCGA-IB-7651-01A-01-TS1.93957f30-932b-4a10-a325-d5eaeaf990a5.…"
      ]
     },
     "metadata": {},
     "output_type": "display_data"
    },
    {
     "name": "stdout",
     "output_type": "stream",
     "text": [
      " \r"
     ]
    },
    {
     "data": {
      "application/vnd.jupyter.widget-view+json": {
       "model_id": "",
       "version_major": 2,
       "version_minor": 0
      },
      "text/plain": [
       "HBox(children=(IntProgress(value=0, description='TCGA-2L-AAQA-11A-01-TSA.C5F0A098-9D08-46AA-9468-CD9D7C47C906.…"
      ]
     },
     "metadata": {},
     "output_type": "display_data"
    },
    {
     "name": "stdout",
     "output_type": "stream",
     "text": [
      " \r"
     ]
    },
    {
     "data": {
      "application/vnd.jupyter.widget-view+json": {
       "model_id": "",
       "version_major": 2,
       "version_minor": 0
      },
      "text/plain": [
       "HBox(children=(IntProgress(value=0, description='TCGA-US-A774-11A-01-TSA.79454D5B-6D4E-4E1F-BE79-C745E8FD09E4.…"
      ]
     },
     "metadata": {},
     "output_type": "display_data"
    },
    {
     "name": "stdout",
     "output_type": "stream",
     "text": [
      " \r"
     ]
    },
    {
     "data": {
      "application/vnd.jupyter.widget-view+json": {
       "model_id": "",
       "version_major": 2,
       "version_minor": 0
      },
      "text/plain": [
       "HBox(children=(IntProgress(value=0, description='TCGA-HZ-7926-01Z-00-DX1.b3bf02d3-bad0-4451-9c39-b0593f19154c.…"
      ]
     },
     "metadata": {},
     "output_type": "display_data"
    },
    {
     "name": "stdout",
     "output_type": "stream",
     "text": [
      " \r"
     ]
    },
    {
     "data": {
      "application/vnd.jupyter.widget-view+json": {
       "model_id": "",
       "version_major": 2,
       "version_minor": 0
      },
      "text/plain": [
       "HBox(children=(IntProgress(value=0, description='TCGA-IB-7647-01A-01-TS1.60574eeb-7935-4607-9ca8-5e1c21684ea5.…"
      ]
     },
     "metadata": {},
     "output_type": "display_data"
    },
    {
     "name": "stdout",
     "output_type": "stream",
     "text": [
      " \r"
     ]
    },
    {
     "data": {
      "application/vnd.jupyter.widget-view+json": {
       "model_id": "",
       "version_major": 2,
       "version_minor": 0
      },
      "text/plain": [
       "HBox(children=(IntProgress(value=0, description='TCGA-IB-7649-01A-01-TS1.bbd1df8b-ea7f-473d-8898-ce66f8c7a9c9.…"
      ]
     },
     "metadata": {},
     "output_type": "display_data"
    },
    {
     "name": "stdout",
     "output_type": "stream",
     "text": [
      " \r"
     ]
    },
    {
     "data": {
      "application/vnd.jupyter.widget-view+json": {
       "model_id": "",
       "version_major": 2,
       "version_minor": 0
      },
      "text/plain": [
       "HBox(children=(IntProgress(value=0, description='TCGA-FB-AAQ1-11A-01-TSA.44562F27-B936-4A9D-A176-0A6FA6E1832F.…"
      ]
     },
     "metadata": {},
     "output_type": "display_data"
    },
    {
     "name": "stdout",
     "output_type": "stream",
     "text": [
      " \r"
     ]
    },
    {
     "data": {
      "application/vnd.jupyter.widget-view+json": {
       "model_id": "",
       "version_major": 2,
       "version_minor": 0
      },
      "text/plain": [
       "HBox(children=(IntProgress(value=0, description='TCGA-US-A77E-11A-01-TSA.D46122D7-776B-4346-8918-7C38CD6A77C0.…"
      ]
     },
     "metadata": {},
     "output_type": "display_data"
    },
    {
     "name": "stdout",
     "output_type": "stream",
     "text": [
      " \r"
     ]
    },
    {
     "data": {
      "application/vnd.jupyter.widget-view+json": {
       "model_id": "",
       "version_major": 2,
       "version_minor": 0
      },
      "text/plain": [
       "HBox(children=(IntProgress(value=0, description='TCGA-IB-7646-01A-01-TS1.15de8678-3471-493d-b49a-1e28ab861713.…"
      ]
     },
     "metadata": {},
     "output_type": "display_data"
    },
    {
     "name": "stdout",
     "output_type": "stream",
     "text": [
      " \r"
     ]
    },
    {
     "data": {
      "application/vnd.jupyter.widget-view+json": {
       "model_id": "",
       "version_major": 2,
       "version_minor": 0
      },
      "text/plain": [
       "HBox(children=(IntProgress(value=0, description='TCGA-FB-AAPY-11A-01-TSA.088BA594-513D-40BB-90FA-A01BDA16C584.…"
      ]
     },
     "metadata": {},
     "output_type": "display_data"
    },
    {
     "name": "stdout",
     "output_type": "stream",
     "text": [
      " \r"
     ]
    },
    {
     "data": {
      "application/vnd.jupyter.widget-view+json": {
       "model_id": "",
       "version_major": 2,
       "version_minor": 0
      },
      "text/plain": [
       "HBox(children=(IntProgress(value=0, description='TCGA-HV-A5A5-01A-01-TS1.3BB38FAB-0506-4223-B017-10425E9329D7.…"
      ]
     },
     "metadata": {},
     "output_type": "display_data"
    },
    {
     "name": "stdout",
     "output_type": "stream",
     "text": [
      " \r"
     ]
    },
    {
     "data": {
      "application/vnd.jupyter.widget-view+json": {
       "model_id": "",
       "version_major": 2,
       "version_minor": 0
      },
      "text/plain": [
       "HBox(children=(IntProgress(value=0, description='TCGA-2L-AAQJ-11A-01-TS1.27AB61A2-4F5B-4B8E-AC5D-AE1D0E5C7C7A.…"
      ]
     },
     "metadata": {},
     "output_type": "display_data"
    },
    {
     "name": "stdout",
     "output_type": "stream",
     "text": [
      " \r"
     ]
    },
    {
     "data": {
      "application/vnd.jupyter.widget-view+json": {
       "model_id": "",
       "version_major": 2,
       "version_minor": 0
      },
      "text/plain": [
       "HBox(children=(IntProgress(value=0, description='TCGA-F2-6880-01A-01-TS1.b92d57ab-e336-45cb-919f-6fdf5fbacb39.…"
      ]
     },
     "metadata": {},
     "output_type": "display_data"
    },
    {
     "name": "stdout",
     "output_type": "stream",
     "text": [
      " \r"
     ]
    },
    {
     "data": {
      "application/vnd.jupyter.widget-view+json": {
       "model_id": "",
       "version_major": 2,
       "version_minor": 0
      },
      "text/plain": [
       "HBox(children=(IntProgress(value=0, description='TCGA-H6-8124-11A-01-TS1.3be454f5-83ee-4cd0-8a00-f341ce8f3ba2.…"
      ]
     },
     "metadata": {},
     "output_type": "display_data"
    },
    {
     "name": "stdout",
     "output_type": "stream",
     "text": [
      " \r"
     ]
    },
    {
     "data": {
      "application/vnd.jupyter.widget-view+json": {
       "model_id": "",
       "version_major": 2,
       "version_minor": 0
      },
      "text/plain": [
       "HBox(children=(IntProgress(value=0, description='TCGA-US-A77G-11A-01-TSA.18AC9F41-1554-4C39-BDA0-2D139AE487AD.…"
      ]
     },
     "metadata": {},
     "output_type": "display_data"
    },
    {
     "name": "stdout",
     "output_type": "stream",
     "text": [
      " \r"
     ]
    },
    {
     "data": {
      "application/vnd.jupyter.widget-view+json": {
       "model_id": "",
       "version_major": 2,
       "version_minor": 0
      },
      "text/plain": [
       "HBox(children=(IntProgress(value=0, description='TCGA-US-A779-11A-01-TS1.C060211E-6AFE-4D64-AC9C-D1B3D5633CC4.…"
      ]
     },
     "metadata": {},
     "output_type": "display_data"
    },
    {
     "name": "stdout",
     "output_type": "stream",
     "text": [
      " \r"
     ]
    },
    {
     "data": {
      "application/vnd.jupyter.widget-view+json": {
       "model_id": "",
       "version_major": 2,
       "version_minor": 0
      },
      "text/plain": [
       "HBox(children=(IntProgress(value=0, description='TCGA-IB-7887-01A-01-TS1.8ce76657-42b6-48a8-ba12-c2b697173e10.…"
      ]
     },
     "metadata": {},
     "output_type": "display_data"
    },
    {
     "name": "stdout",
     "output_type": "stream",
     "text": [
      " \r"
     ]
    },
    {
     "data": {
      "application/vnd.jupyter.widget-view+json": {
       "model_id": "",
       "version_major": 2,
       "version_minor": 0
      },
      "text/plain": [
       "HBox(children=(IntProgress(value=0, description='TCGA-YB-A89D-11A-01-TS1.F56832D3-37EC-49D5-8803-7132516B25EE.…"
      ]
     },
     "metadata": {},
     "output_type": "display_data"
    },
    {
     "name": "stdout",
     "output_type": "stream",
     "text": [
      " \r"
     ]
    },
    {
     "data": {
      "application/vnd.jupyter.widget-view+json": {
       "model_id": "",
       "version_major": 2,
       "version_minor": 0
      },
      "text/plain": [
       "HBox(children=(IntProgress(value=0, description='TCGA-FB-AAPQ-11A-01-TS1.22B96FE6-C6AB-465F-8F09-83BA9F32609B.…"
      ]
     },
     "metadata": {},
     "output_type": "display_data"
    },
    {
     "name": "stdout",
     "output_type": "stream",
     "text": [
      " \r"
     ]
    },
    {
     "data": {
      "application/vnd.jupyter.widget-view+json": {
       "model_id": "",
       "version_major": 2,
       "version_minor": 0
      },
      "text/plain": [
       "HBox(children=(IntProgress(value=0, description='TCGA-FB-AAQ6-11A-01-TSA.9BFA20EC-9D05-413E-8385-405829239799.…"
      ]
     },
     "metadata": {},
     "output_type": "display_data"
    },
    {
     "name": "stdout",
     "output_type": "stream",
     "text": [
      " \r"
     ]
    },
    {
     "data": {
      "application/vnd.jupyter.widget-view+json": {
       "model_id": "",
       "version_major": 2,
       "version_minor": 0
      },
      "text/plain": [
       "HBox(children=(IntProgress(value=0, description='TCGA-IB-7644-01A-01-TS1.8fcd72ca-6fb6-4c0a-9dca-9c13bc4272e8.…"
      ]
     },
     "metadata": {},
     "output_type": "display_data"
    },
    {
     "name": "stdout",
     "output_type": "stream",
     "text": [
      " \r"
     ]
    },
    {
     "data": {
      "application/vnd.jupyter.widget-view+json": {
       "model_id": "",
       "version_major": 2,
       "version_minor": 0
      },
      "text/plain": [
       "HBox(children=(IntProgress(value=0, description='TCGA-F2-7276-01A-01-TS1.010dd1db-9ead-4399-84b9-5381e189054e.…"
      ]
     },
     "metadata": {},
     "output_type": "display_data"
    },
    {
     "name": "stdout",
     "output_type": "stream",
     "text": [
      " \r"
     ]
    },
    {
     "data": {
      "application/vnd.jupyter.widget-view+json": {
       "model_id": "",
       "version_major": 2,
       "version_minor": 0
      },
      "text/plain": [
       "HBox(children=(IntProgress(value=0, description='TCGA-HV-A5A3-11A-01-TS1.29B3EF24-5DA2-4353-848D-7E5B63A1C226.…"
      ]
     },
     "metadata": {},
     "output_type": "display_data"
    },
    {
     "name": "stdout",
     "output_type": "stream",
     "text": [
      " \r"
     ]
    },
    {
     "data": {
      "application/vnd.jupyter.widget-view+json": {
       "model_id": "",
       "version_major": 2,
       "version_minor": 0
      },
      "text/plain": [
       "HBox(children=(IntProgress(value=0, description='TCGA-HZ-8001-01A-01-TS1.d3738e44-a683-4e1f-9794-b0f76ee0bd61.…"
      ]
     },
     "metadata": {},
     "output_type": "display_data"
    },
    {
     "name": "stdout",
     "output_type": "stream",
     "text": [
      " \r"
     ]
    },
    {
     "data": {
      "application/vnd.jupyter.widget-view+json": {
       "model_id": "",
       "version_major": 2,
       "version_minor": 0
      },
      "text/plain": [
       "HBox(children=(IntProgress(value=0, description='TCGA-HZ-7923-01A-01-TS1.e1b46c76-7d5f-434e-b613-1ca91c043f06.…"
      ]
     },
     "metadata": {},
     "output_type": "display_data"
    },
    {
     "name": "stdout",
     "output_type": "stream",
     "text": [
      " \r"
     ]
    },
    {
     "data": {
      "application/vnd.jupyter.widget-view+json": {
       "model_id": "",
       "version_major": 2,
       "version_minor": 0
      },
      "text/plain": [
       "HBox(children=(IntProgress(value=0, description='TCGA-FZ-5924-11A-01-TS1.725380e8-0c30-4507-83a5-5e726e2cc533.…"
      ]
     },
     "metadata": {},
     "output_type": "display_data"
    },
    {
     "name": "stdout",
     "output_type": "stream",
     "text": [
      " \r"
     ]
    },
    {
     "data": {
      "application/vnd.jupyter.widget-view+json": {
       "model_id": "",
       "version_major": 2,
       "version_minor": 0
      },
      "text/plain": [
       "HBox(children=(IntProgress(value=0, description='TCGA-FZ-5924-01A-01-TS1.493daee4-9604-4259-8611-120a6bc241b3.…"
      ]
     },
     "metadata": {},
     "output_type": "display_data"
    },
    {
     "name": "stdout",
     "output_type": "stream",
     "text": [
      " \r"
     ]
    },
    {
     "data": {
      "application/vnd.jupyter.widget-view+json": {
       "model_id": "",
       "version_major": 2,
       "version_minor": 0
      },
      "text/plain": [
       "HBox(children=(IntProgress(value=0, description='TCGA-US-A77J-11A-01-TS1.27A65F65-2CBA-49B7-8F6F-639A0F7AC912.…"
      ]
     },
     "metadata": {},
     "output_type": "display_data"
    },
    {
     "name": "stdout",
     "output_type": "stream",
     "text": [
      "OK\n",
      "\n",
      "Time: 555.96s\n",
      "Speed: 2.17MB/s\n",
      "--------------------------------------------------------------------------------\n",
      "\n",
      "Running test...\n",
      "\n",
      "\tdataset: dataset_6.csv\n",
      "\ttool: api\n",
      "\tstream: True\n",
      "\titerative: True\n",
      "\tmultiprocess: 2\n",
      "\n",
      "Number of files:       29\n",
      "Avg size (MB):      41.52\n",
      "Total size (MB):  1204.07\n",
      "\n"
     ]
    },
    {
     "data": {
      "application/vnd.jupyter.widget-view+json": {
       "model_id": "b37d18fa17da43eeb1049c1710892834",
       "version_major": 2,
       "version_minor": 0
      },
      "text/plain": [
       "HBox(children=(IntProgress(value=0, description='Files', max=29, style=ProgressStyle(description_width='initia…"
      ]
     },
     "metadata": {},
     "output_type": "display_data"
    },
    {
     "name": "stdout",
     "output_type": "stream",
     "text": [
      " \r"
     ]
    },
    {
     "data": {
      "application/vnd.jupyter.widget-view+json": {
       "model_id": "",
       "version_major": 2,
       "version_minor": 0
      },
      "text/plain": [
       "HBox(children=(IntProgress(value=0, description='TCGA-IB-7651-01A-01-TS1.93957f30-932b-4a10-a325-d5eaeaf990a5.…"
      ]
     },
     "metadata": {},
     "output_type": "display_data"
    },
    {
     "data": {
      "application/vnd.jupyter.widget-view+json": {
       "model_id": "",
       "version_major": 2,
       "version_minor": 0
      },
      "text/plain": [
       "HBox(children=(IntProgress(value=0, description='TCGA-IB-8126-01A-01-TS1.098769c8-f708-45d8-af6e-96747786553a.…"
      ]
     },
     "metadata": {},
     "output_type": "display_data"
    },
    {
     "name": "stdout",
     "output_type": "stream",
     "text": [
      " \r"
     ]
    },
    {
     "data": {
      "application/vnd.jupyter.widget-view+json": {
       "model_id": "",
       "version_major": 2,
       "version_minor": 0
      },
      "text/plain": [
       "HBox(children=(IntProgress(value=0, description='TCGA-2L-AAQA-11A-01-TSA.C5F0A098-9D08-46AA-9468-CD9D7C47C906.…"
      ]
     },
     "metadata": {},
     "output_type": "display_data"
    },
    {
     "name": "stdout",
     "output_type": "stream",
     "text": [
      " \r"
     ]
    },
    {
     "data": {
      "application/vnd.jupyter.widget-view+json": {
       "model_id": "",
       "version_major": 2,
       "version_minor": 0
      },
      "text/plain": [
       "HBox(children=(IntProgress(value=0, description='TCGA-US-A774-11A-01-TSA.79454D5B-6D4E-4E1F-BE79-C745E8FD09E4.…"
      ]
     },
     "metadata": {},
     "output_type": "display_data"
    },
    {
     "name": "stdout",
     "output_type": "stream",
     "text": [
      " \r"
     ]
    },
    {
     "data": {
      "application/vnd.jupyter.widget-view+json": {
       "model_id": "",
       "version_major": 2,
       "version_minor": 0
      },
      "text/plain": [
       "HBox(children=(IntProgress(value=0, description='TCGA-HZ-7926-01Z-00-DX1.b3bf02d3-bad0-4451-9c39-b0593f19154c.…"
      ]
     },
     "metadata": {},
     "output_type": "display_data"
    },
    {
     "name": "stdout",
     "output_type": "stream",
     "text": [
      " \r"
     ]
    },
    {
     "data": {
      "application/vnd.jupyter.widget-view+json": {
       "model_id": "",
       "version_major": 2,
       "version_minor": 0
      },
      "text/plain": [
       "HBox(children=(IntProgress(value=0, description='TCGA-IB-7647-01A-01-TS1.60574eeb-7935-4607-9ca8-5e1c21684ea5.…"
      ]
     },
     "metadata": {},
     "output_type": "display_data"
    },
    {
     "name": "stdout",
     "output_type": "stream",
     "text": [
      " \r"
     ]
    },
    {
     "data": {
      "application/vnd.jupyter.widget-view+json": {
       "model_id": "",
       "version_major": 2,
       "version_minor": 0
      },
      "text/plain": [
       "HBox(children=(IntProgress(value=0, description='TCGA-IB-7649-01A-01-TS1.bbd1df8b-ea7f-473d-8898-ce66f8c7a9c9.…"
      ]
     },
     "metadata": {},
     "output_type": "display_data"
    },
    {
     "name": "stdout",
     "output_type": "stream",
     "text": [
      " \r"
     ]
    },
    {
     "data": {
      "application/vnd.jupyter.widget-view+json": {
       "model_id": "",
       "version_major": 2,
       "version_minor": 0
      },
      "text/plain": [
       "HBox(children=(IntProgress(value=0, description='TCGA-FB-AAQ1-11A-01-TSA.44562F27-B936-4A9D-A176-0A6FA6E1832F.…"
      ]
     },
     "metadata": {},
     "output_type": "display_data"
    },
    {
     "name": "stdout",
     "output_type": "stream",
     "text": [
      " \r"
     ]
    },
    {
     "data": {
      "application/vnd.jupyter.widget-view+json": {
       "model_id": "",
       "version_major": 2,
       "version_minor": 0
      },
      "text/plain": [
       "HBox(children=(IntProgress(value=0, description='TCGA-US-A77E-11A-01-TSA.D46122D7-776B-4346-8918-7C38CD6A77C0.…"
      ]
     },
     "metadata": {},
     "output_type": "display_data"
    },
    {
     "name": "stdout",
     "output_type": "stream",
     "text": [
      " \r"
     ]
    },
    {
     "data": {
      "application/vnd.jupyter.widget-view+json": {
       "model_id": "",
       "version_major": 2,
       "version_minor": 0
      },
      "text/plain": [
       "HBox(children=(IntProgress(value=0, description='TCGA-IB-7646-01A-01-TS1.15de8678-3471-493d-b49a-1e28ab861713.…"
      ]
     },
     "metadata": {},
     "output_type": "display_data"
    },
    {
     "name": "stdout",
     "output_type": "stream",
     "text": [
      " \r"
     ]
    },
    {
     "data": {
      "application/vnd.jupyter.widget-view+json": {
       "model_id": "",
       "version_major": 2,
       "version_minor": 0
      },
      "text/plain": [
       "HBox(children=(IntProgress(value=0, description='TCGA-FB-AAPY-11A-01-TSA.088BA594-513D-40BB-90FA-A01BDA16C584.…"
      ]
     },
     "metadata": {},
     "output_type": "display_data"
    },
    {
     "name": "stdout",
     "output_type": "stream",
     "text": [
      " \r"
     ]
    },
    {
     "data": {
      "application/vnd.jupyter.widget-view+json": {
       "model_id": "",
       "version_major": 2,
       "version_minor": 0
      },
      "text/plain": [
       "HBox(children=(IntProgress(value=0, description='TCGA-HV-A5A5-01A-01-TS1.3BB38FAB-0506-4223-B017-10425E9329D7.…"
      ]
     },
     "metadata": {},
     "output_type": "display_data"
    },
    {
     "name": "stdout",
     "output_type": "stream",
     "text": [
      " \r"
     ]
    },
    {
     "data": {
      "application/vnd.jupyter.widget-view+json": {
       "model_id": "",
       "version_major": 2,
       "version_minor": 0
      },
      "text/plain": [
       "HBox(children=(IntProgress(value=0, description='TCGA-2L-AAQJ-11A-01-TS1.27AB61A2-4F5B-4B8E-AC5D-AE1D0E5C7C7A.…"
      ]
     },
     "metadata": {},
     "output_type": "display_data"
    },
    {
     "name": "stdout",
     "output_type": "stream",
     "text": [
      " \r"
     ]
    },
    {
     "data": {
      "application/vnd.jupyter.widget-view+json": {
       "model_id": "",
       "version_major": 2,
       "version_minor": 0
      },
      "text/plain": [
       "HBox(children=(IntProgress(value=0, description='TCGA-F2-6880-01A-01-TS1.b92d57ab-e336-45cb-919f-6fdf5fbacb39.…"
      ]
     },
     "metadata": {},
     "output_type": "display_data"
    },
    {
     "name": "stdout",
     "output_type": "stream",
     "text": [
      " \r"
     ]
    },
    {
     "data": {
      "application/vnd.jupyter.widget-view+json": {
       "model_id": "",
       "version_major": 2,
       "version_minor": 0
      },
      "text/plain": [
       "HBox(children=(IntProgress(value=0, description='TCGA-H6-8124-11A-01-TS1.3be454f5-83ee-4cd0-8a00-f341ce8f3ba2.…"
      ]
     },
     "metadata": {},
     "output_type": "display_data"
    },
    {
     "name": "stdout",
     "output_type": "stream",
     "text": [
      " \r"
     ]
    },
    {
     "data": {
      "application/vnd.jupyter.widget-view+json": {
       "model_id": "",
       "version_major": 2,
       "version_minor": 0
      },
      "text/plain": [
       "HBox(children=(IntProgress(value=0, description='TCGA-US-A77G-11A-01-TSA.18AC9F41-1554-4C39-BDA0-2D139AE487AD.…"
      ]
     },
     "metadata": {},
     "output_type": "display_data"
    },
    {
     "name": "stdout",
     "output_type": "stream",
     "text": [
      " \r"
     ]
    },
    {
     "data": {
      "application/vnd.jupyter.widget-view+json": {
       "model_id": "",
       "version_major": 2,
       "version_minor": 0
      },
      "text/plain": [
       "HBox(children=(IntProgress(value=0, description='TCGA-US-A779-11A-01-TS1.C060211E-6AFE-4D64-AC9C-D1B3D5633CC4.…"
      ]
     },
     "metadata": {},
     "output_type": "display_data"
    },
    {
     "name": "stdout",
     "output_type": "stream",
     "text": [
      " \r"
     ]
    },
    {
     "data": {
      "application/vnd.jupyter.widget-view+json": {
       "model_id": "",
       "version_major": 2,
       "version_minor": 0
      },
      "text/plain": [
       "HBox(children=(IntProgress(value=0, description='TCGA-IB-7887-01A-01-TS1.8ce76657-42b6-48a8-ba12-c2b697173e10.…"
      ]
     },
     "metadata": {},
     "output_type": "display_data"
    },
    {
     "name": "stdout",
     "output_type": "stream",
     "text": [
      " \r"
     ]
    },
    {
     "data": {
      "application/vnd.jupyter.widget-view+json": {
       "model_id": "",
       "version_major": 2,
       "version_minor": 0
      },
      "text/plain": [
       "HBox(children=(IntProgress(value=0, description='TCGA-YB-A89D-11A-01-TS1.F56832D3-37EC-49D5-8803-7132516B25EE.…"
      ]
     },
     "metadata": {},
     "output_type": "display_data"
    },
    {
     "name": "stdout",
     "output_type": "stream",
     "text": [
      " \r"
     ]
    },
    {
     "data": {
      "application/vnd.jupyter.widget-view+json": {
       "model_id": "",
       "version_major": 2,
       "version_minor": 0
      },
      "text/plain": [
       "HBox(children=(IntProgress(value=0, description='TCGA-FB-AAPQ-11A-01-TS1.22B96FE6-C6AB-465F-8F09-83BA9F32609B.…"
      ]
     },
     "metadata": {},
     "output_type": "display_data"
    },
    {
     "name": "stdout",
     "output_type": "stream",
     "text": [
      " \r"
     ]
    },
    {
     "data": {
      "application/vnd.jupyter.widget-view+json": {
       "model_id": "",
       "version_major": 2,
       "version_minor": 0
      },
      "text/plain": [
       "HBox(children=(IntProgress(value=0, description='TCGA-FB-AAQ6-11A-01-TSA.9BFA20EC-9D05-413E-8385-405829239799.…"
      ]
     },
     "metadata": {},
     "output_type": "display_data"
    },
    {
     "name": "stdout",
     "output_type": "stream",
     "text": [
      " \r"
     ]
    },
    {
     "data": {
      "application/vnd.jupyter.widget-view+json": {
       "model_id": "",
       "version_major": 2,
       "version_minor": 0
      },
      "text/plain": [
       "HBox(children=(IntProgress(value=0, description='TCGA-IB-7644-01A-01-TS1.8fcd72ca-6fb6-4c0a-9dca-9c13bc4272e8.…"
      ]
     },
     "metadata": {},
     "output_type": "display_data"
    },
    {
     "name": "stdout",
     "output_type": "stream",
     "text": [
      " \r"
     ]
    },
    {
     "data": {
      "application/vnd.jupyter.widget-view+json": {
       "model_id": "",
       "version_major": 2,
       "version_minor": 0
      },
      "text/plain": [
       "HBox(children=(IntProgress(value=0, description='TCGA-F2-7276-01A-01-TS1.010dd1db-9ead-4399-84b9-5381e189054e.…"
      ]
     },
     "metadata": {},
     "output_type": "display_data"
    },
    {
     "name": "stdout",
     "output_type": "stream",
     "text": [
      " \r"
     ]
    },
    {
     "data": {
      "application/vnd.jupyter.widget-view+json": {
       "model_id": "",
       "version_major": 2,
       "version_minor": 0
      },
      "text/plain": [
       "HBox(children=(IntProgress(value=0, description='TCGA-HV-A5A3-11A-01-TS1.29B3EF24-5DA2-4353-848D-7E5B63A1C226.…"
      ]
     },
     "metadata": {},
     "output_type": "display_data"
    },
    {
     "name": "stdout",
     "output_type": "stream",
     "text": [
      " \r"
     ]
    },
    {
     "data": {
      "application/vnd.jupyter.widget-view+json": {
       "model_id": "",
       "version_major": 2,
       "version_minor": 0
      },
      "text/plain": [
       "HBox(children=(IntProgress(value=0, description='TCGA-HZ-8001-01A-01-TS1.d3738e44-a683-4e1f-9794-b0f76ee0bd61.…"
      ]
     },
     "metadata": {},
     "output_type": "display_data"
    },
    {
     "name": "stdout",
     "output_type": "stream",
     "text": [
      " \r"
     ]
    },
    {
     "data": {
      "application/vnd.jupyter.widget-view+json": {
       "model_id": "",
       "version_major": 2,
       "version_minor": 0
      },
      "text/plain": [
       "HBox(children=(IntProgress(value=0, description='TCGA-HZ-7923-01A-01-TS1.e1b46c76-7d5f-434e-b613-1ca91c043f06.…"
      ]
     },
     "metadata": {},
     "output_type": "display_data"
    },
    {
     "name": "stdout",
     "output_type": "stream",
     "text": [
      " \r"
     ]
    },
    {
     "data": {
      "application/vnd.jupyter.widget-view+json": {
       "model_id": "",
       "version_major": 2,
       "version_minor": 0
      },
      "text/plain": [
       "HBox(children=(IntProgress(value=0, description='TCGA-FZ-5924-11A-01-TS1.725380e8-0c30-4507-83a5-5e726e2cc533.…"
      ]
     },
     "metadata": {},
     "output_type": "display_data"
    },
    {
     "name": "stdout",
     "output_type": "stream",
     "text": [
      " \r"
     ]
    },
    {
     "data": {
      "application/vnd.jupyter.widget-view+json": {
       "model_id": "",
       "version_major": 2,
       "version_minor": 0
      },
      "text/plain": [
       "HBox(children=(IntProgress(value=0, description='TCGA-FZ-5924-01A-01-TS1.493daee4-9604-4259-8611-120a6bc241b3.…"
      ]
     },
     "metadata": {},
     "output_type": "display_data"
    },
    {
     "name": "stdout",
     "output_type": "stream",
     "text": [
      " \r"
     ]
    },
    {
     "data": {
      "application/vnd.jupyter.widget-view+json": {
       "model_id": "",
       "version_major": 2,
       "version_minor": 0
      },
      "text/plain": [
       "HBox(children=(IntProgress(value=0, description='TCGA-US-A77J-11A-01-TS1.27A65F65-2CBA-49B7-8F6F-639A0F7AC912.…"
      ]
     },
     "metadata": {},
     "output_type": "display_data"
    },
    {
     "name": "stdout",
     "output_type": "stream",
     "text": [
      "OK\n",
      "\n",
      "Time: 246.69s\n",
      "Speed: 4.88MB/s\n",
      "--------------------------------------------------------------------------------\n",
      "\n",
      "Running test...\n",
      "\n",
      "\tdataset: dataset_6.csv\n",
      "\ttool: api\n",
      "\tstream: True\n",
      "\titerative: True\n",
      "\tmultiprocess: 4\n",
      "\n",
      "Number of files:       29\n",
      "Avg size (MB):      41.52\n",
      "Total size (MB):  1204.07\n",
      "\n"
     ]
    },
    {
     "data": {
      "application/vnd.jupyter.widget-view+json": {
       "model_id": "69bbd12f062949a2b0e4a89a8f39a17d",
       "version_major": 2,
       "version_minor": 0
      },
      "text/plain": [
       "HBox(children=(IntProgress(value=0, description='Files', max=29, style=ProgressStyle(description_width='initia…"
      ]
     },
     "metadata": {},
     "output_type": "display_data"
    },
    {
     "name": "stdout",
     "output_type": "stream",
     "text": [
      " \r"
     ]
    },
    {
     "data": {
      "application/vnd.jupyter.widget-view+json": {
       "model_id": "",
       "version_major": 2,
       "version_minor": 0
      },
      "text/plain": [
       "HBox(children=(IntProgress(value=0, description='TCGA-IB-8126-01A-01-TS1.098769c8-f708-45d8-af6e-96747786553a.…"
      ]
     },
     "metadata": {},
     "output_type": "display_data"
    },
    {
     "name": "stdout",
     "output_type": "stream",
     "text": [
      " \r"
     ]
    },
    {
     "data": {
      "application/vnd.jupyter.widget-view+json": {
       "model_id": "",
       "version_major": 2,
       "version_minor": 0
      },
      "text/plain": [
       "HBox(children=(IntProgress(value=0, description='TCGA-IB-7651-01A-01-TS1.93957f30-932b-4a10-a325-d5eaeaf990a5.…"
      ]
     },
     "metadata": {},
     "output_type": "display_data"
    },
    {
     "data": {
      "application/vnd.jupyter.widget-view+json": {
       "model_id": "",
       "version_major": 2,
       "version_minor": 0
      },
      "text/plain": [
       "HBox(children=(IntProgress(value=0, description='TCGA-US-A774-11A-01-TSA.79454D5B-6D4E-4E1F-BE79-C745E8FD09E4.…"
      ]
     },
     "metadata": {},
     "output_type": "display_data"
    },
    {
     "data": {
      "application/vnd.jupyter.widget-view+json": {
       "model_id": "",
       "version_major": 2,
       "version_minor": 0
      },
      "text/plain": [
       "HBox(children=(IntProgress(value=0, description='TCGA-2L-AAQA-11A-01-TSA.C5F0A098-9D08-46AA-9468-CD9D7C47C906.…"
      ]
     },
     "metadata": {},
     "output_type": "display_data"
    },
    {
     "name": "stdout",
     "output_type": "stream",
     "text": [
      " \r"
     ]
    },
    {
     "data": {
      "application/vnd.jupyter.widget-view+json": {
       "model_id": "",
       "version_major": 2,
       "version_minor": 0
      },
      "text/plain": [
       "HBox(children=(IntProgress(value=0, description='TCGA-HZ-7926-01Z-00-DX1.b3bf02d3-bad0-4451-9c39-b0593f19154c.…"
      ]
     },
     "metadata": {},
     "output_type": "display_data"
    },
    {
     "name": "stdout",
     "output_type": "stream",
     "text": [
      " \r"
     ]
    },
    {
     "data": {
      "application/vnd.jupyter.widget-view+json": {
       "model_id": "",
       "version_major": 2,
       "version_minor": 0
      },
      "text/plain": [
       "HBox(children=(IntProgress(value=0, description='TCGA-IB-7647-01A-01-TS1.60574eeb-7935-4607-9ca8-5e1c21684ea5.…"
      ]
     },
     "metadata": {},
     "output_type": "display_data"
    },
    {
     "name": "stdout",
     "output_type": "stream",
     "text": [
      " \r"
     ]
    },
    {
     "data": {
      "application/vnd.jupyter.widget-view+json": {
       "model_id": "",
       "version_major": 2,
       "version_minor": 0
      },
      "text/plain": [
       "HBox(children=(IntProgress(value=0, description='TCGA-IB-7649-01A-01-TS1.bbd1df8b-ea7f-473d-8898-ce66f8c7a9c9.…"
      ]
     },
     "metadata": {},
     "output_type": "display_data"
    },
    {
     "name": "stdout",
     "output_type": "stream",
     "text": [
      " \r"
     ]
    },
    {
     "data": {
      "application/vnd.jupyter.widget-view+json": {
       "model_id": "",
       "version_major": 2,
       "version_minor": 0
      },
      "text/plain": [
       "HBox(children=(IntProgress(value=0, description='TCGA-FB-AAQ1-11A-01-TSA.44562F27-B936-4A9D-A176-0A6FA6E1832F.…"
      ]
     },
     "metadata": {},
     "output_type": "display_data"
    },
    {
     "name": "stdout",
     "output_type": "stream",
     "text": [
      " \r"
     ]
    },
    {
     "data": {
      "application/vnd.jupyter.widget-view+json": {
       "model_id": "",
       "version_major": 2,
       "version_minor": 0
      },
      "text/plain": [
       "HBox(children=(IntProgress(value=0, description='TCGA-US-A77E-11A-01-TSA.D46122D7-776B-4346-8918-7C38CD6A77C0.…"
      ]
     },
     "metadata": {},
     "output_type": "display_data"
    },
    {
     "name": "stdout",
     "output_type": "stream",
     "text": [
      " \r"
     ]
    },
    {
     "data": {
      "application/vnd.jupyter.widget-view+json": {
       "model_id": "",
       "version_major": 2,
       "version_minor": 0
      },
      "text/plain": [
       "HBox(children=(IntProgress(value=0, description='TCGA-IB-7646-01A-01-TS1.15de8678-3471-493d-b49a-1e28ab861713.…"
      ]
     },
     "metadata": {},
     "output_type": "display_data"
    },
    {
     "name": "stdout",
     "output_type": "stream",
     "text": [
      " \r"
     ]
    },
    {
     "data": {
      "application/vnd.jupyter.widget-view+json": {
       "model_id": "",
       "version_major": 2,
       "version_minor": 0
      },
      "text/plain": [
       "HBox(children=(IntProgress(value=0, description='TCGA-FB-AAPY-11A-01-TSA.088BA594-513D-40BB-90FA-A01BDA16C584.…"
      ]
     },
     "metadata": {},
     "output_type": "display_data"
    },
    {
     "name": "stdout",
     "output_type": "stream",
     "text": [
      " \r"
     ]
    },
    {
     "data": {
      "application/vnd.jupyter.widget-view+json": {
       "model_id": "",
       "version_major": 2,
       "version_minor": 0
      },
      "text/plain": [
       "HBox(children=(IntProgress(value=0, description='TCGA-HV-A5A5-01A-01-TS1.3BB38FAB-0506-4223-B017-10425E9329D7.…"
      ]
     },
     "metadata": {},
     "output_type": "display_data"
    },
    {
     "name": "stdout",
     "output_type": "stream",
     "text": [
      " \r"
     ]
    },
    {
     "data": {
      "application/vnd.jupyter.widget-view+json": {
       "model_id": "",
       "version_major": 2,
       "version_minor": 0
      },
      "text/plain": [
       "HBox(children=(IntProgress(value=0, description='TCGA-2L-AAQJ-11A-01-TS1.27AB61A2-4F5B-4B8E-AC5D-AE1D0E5C7C7A.…"
      ]
     },
     "metadata": {},
     "output_type": "display_data"
    },
    {
     "name": "stdout",
     "output_type": "stream",
     "text": [
      " \r"
     ]
    },
    {
     "data": {
      "application/vnd.jupyter.widget-view+json": {
       "model_id": "",
       "version_major": 2,
       "version_minor": 0
      },
      "text/plain": [
       "HBox(children=(IntProgress(value=0, description='TCGA-F2-6880-01A-01-TS1.b92d57ab-e336-45cb-919f-6fdf5fbacb39.…"
      ]
     },
     "metadata": {},
     "output_type": "display_data"
    },
    {
     "name": "stdout",
     "output_type": "stream",
     "text": [
      " \r"
     ]
    },
    {
     "data": {
      "application/vnd.jupyter.widget-view+json": {
       "model_id": "",
       "version_major": 2,
       "version_minor": 0
      },
      "text/plain": [
       "HBox(children=(IntProgress(value=0, description='TCGA-H6-8124-11A-01-TS1.3be454f5-83ee-4cd0-8a00-f341ce8f3ba2.…"
      ]
     },
     "metadata": {},
     "output_type": "display_data"
    },
    {
     "name": "stdout",
     "output_type": "stream",
     "text": [
      " \r"
     ]
    },
    {
     "data": {
      "application/vnd.jupyter.widget-view+json": {
       "model_id": "",
       "version_major": 2,
       "version_minor": 0
      },
      "text/plain": [
       "HBox(children=(IntProgress(value=0, description='TCGA-US-A77G-11A-01-TSA.18AC9F41-1554-4C39-BDA0-2D139AE487AD.…"
      ]
     },
     "metadata": {},
     "output_type": "display_data"
    },
    {
     "name": "stdout",
     "output_type": "stream",
     "text": [
      " \r"
     ]
    },
    {
     "data": {
      "application/vnd.jupyter.widget-view+json": {
       "model_id": "",
       "version_major": 2,
       "version_minor": 0
      },
      "text/plain": [
       "HBox(children=(IntProgress(value=0, description='TCGA-US-A779-11A-01-TS1.C060211E-6AFE-4D64-AC9C-D1B3D5633CC4.…"
      ]
     },
     "metadata": {},
     "output_type": "display_data"
    },
    {
     "name": "stdout",
     "output_type": "stream",
     "text": [
      " \r"
     ]
    },
    {
     "data": {
      "application/vnd.jupyter.widget-view+json": {
       "model_id": "",
       "version_major": 2,
       "version_minor": 0
      },
      "text/plain": [
       "HBox(children=(IntProgress(value=0, description='TCGA-IB-7887-01A-01-TS1.8ce76657-42b6-48a8-ba12-c2b697173e10.…"
      ]
     },
     "metadata": {},
     "output_type": "display_data"
    },
    {
     "name": "stdout",
     "output_type": "stream",
     "text": [
      " \r"
     ]
    },
    {
     "data": {
      "application/vnd.jupyter.widget-view+json": {
       "model_id": "",
       "version_major": 2,
       "version_minor": 0
      },
      "text/plain": [
       "HBox(children=(IntProgress(value=0, description='TCGA-YB-A89D-11A-01-TS1.F56832D3-37EC-49D5-8803-7132516B25EE.…"
      ]
     },
     "metadata": {},
     "output_type": "display_data"
    },
    {
     "name": "stdout",
     "output_type": "stream",
     "text": [
      " \r"
     ]
    },
    {
     "data": {
      "application/vnd.jupyter.widget-view+json": {
       "model_id": "",
       "version_major": 2,
       "version_minor": 0
      },
      "text/plain": [
       "HBox(children=(IntProgress(value=0, description='TCGA-FB-AAPQ-11A-01-TS1.22B96FE6-C6AB-465F-8F09-83BA9F32609B.…"
      ]
     },
     "metadata": {},
     "output_type": "display_data"
    },
    {
     "name": "stdout",
     "output_type": "stream",
     "text": [
      " \r"
     ]
    },
    {
     "data": {
      "application/vnd.jupyter.widget-view+json": {
       "model_id": "",
       "version_major": 2,
       "version_minor": 0
      },
      "text/plain": [
       "HBox(children=(IntProgress(value=0, description='TCGA-FB-AAQ6-11A-01-TSA.9BFA20EC-9D05-413E-8385-405829239799.…"
      ]
     },
     "metadata": {},
     "output_type": "display_data"
    },
    {
     "name": "stdout",
     "output_type": "stream",
     "text": [
      " \r"
     ]
    },
    {
     "data": {
      "application/vnd.jupyter.widget-view+json": {
       "model_id": "",
       "version_major": 2,
       "version_minor": 0
      },
      "text/plain": [
       "HBox(children=(IntProgress(value=0, description='TCGA-IB-7644-01A-01-TS1.8fcd72ca-6fb6-4c0a-9dca-9c13bc4272e8.…"
      ]
     },
     "metadata": {},
     "output_type": "display_data"
    },
    {
     "name": "stdout",
     "output_type": "stream",
     "text": [
      " \r"
     ]
    },
    {
     "data": {
      "application/vnd.jupyter.widget-view+json": {
       "model_id": "",
       "version_major": 2,
       "version_minor": 0
      },
      "text/plain": [
       "HBox(children=(IntProgress(value=0, description='TCGA-F2-7276-01A-01-TS1.010dd1db-9ead-4399-84b9-5381e189054e.…"
      ]
     },
     "metadata": {},
     "output_type": "display_data"
    },
    {
     "name": "stdout",
     "output_type": "stream",
     "text": [
      " \r"
     ]
    },
    {
     "data": {
      "application/vnd.jupyter.widget-view+json": {
       "model_id": "",
       "version_major": 2,
       "version_minor": 0
      },
      "text/plain": [
       "HBox(children=(IntProgress(value=0, description='TCGA-HV-A5A3-11A-01-TS1.29B3EF24-5DA2-4353-848D-7E5B63A1C226.…"
      ]
     },
     "metadata": {},
     "output_type": "display_data"
    },
    {
     "name": "stdout",
     "output_type": "stream",
     "text": [
      " \r"
     ]
    },
    {
     "data": {
      "application/vnd.jupyter.widget-view+json": {
       "model_id": "",
       "version_major": 2,
       "version_minor": 0
      },
      "text/plain": [
       "HBox(children=(IntProgress(value=0, description='TCGA-HZ-8001-01A-01-TS1.d3738e44-a683-4e1f-9794-b0f76ee0bd61.…"
      ]
     },
     "metadata": {},
     "output_type": "display_data"
    },
    {
     "name": "stdout",
     "output_type": "stream",
     "text": [
      " \r"
     ]
    },
    {
     "data": {
      "application/vnd.jupyter.widget-view+json": {
       "model_id": "",
       "version_major": 2,
       "version_minor": 0
      },
      "text/plain": [
       "HBox(children=(IntProgress(value=0, description='TCGA-HZ-7923-01A-01-TS1.e1b46c76-7d5f-434e-b613-1ca91c043f06.…"
      ]
     },
     "metadata": {},
     "output_type": "display_data"
    },
    {
     "name": "stdout",
     "output_type": "stream",
     "text": [
      " \r"
     ]
    },
    {
     "data": {
      "application/vnd.jupyter.widget-view+json": {
       "model_id": "",
       "version_major": 2,
       "version_minor": 0
      },
      "text/plain": [
       "HBox(children=(IntProgress(value=0, description='TCGA-FZ-5924-11A-01-TS1.725380e8-0c30-4507-83a5-5e726e2cc533.…"
      ]
     },
     "metadata": {},
     "output_type": "display_data"
    },
    {
     "name": "stdout",
     "output_type": "stream",
     "text": [
      " \r"
     ]
    },
    {
     "data": {
      "application/vnd.jupyter.widget-view+json": {
       "model_id": "",
       "version_major": 2,
       "version_minor": 0
      },
      "text/plain": [
       "HBox(children=(IntProgress(value=0, description='TCGA-FZ-5924-01A-01-TS1.493daee4-9604-4259-8611-120a6bc241b3.…"
      ]
     },
     "metadata": {},
     "output_type": "display_data"
    },
    {
     "name": "stdout",
     "output_type": "stream",
     "text": [
      " \r"
     ]
    },
    {
     "data": {
      "application/vnd.jupyter.widget-view+json": {
       "model_id": "",
       "version_major": 2,
       "version_minor": 0
      },
      "text/plain": [
       "HBox(children=(IntProgress(value=0, description='TCGA-US-A77J-11A-01-TS1.27A65F65-2CBA-49B7-8F6F-639A0F7AC912.…"
      ]
     },
     "metadata": {},
     "output_type": "display_data"
    },
    {
     "name": "stdout",
     "output_type": "stream",
     "text": [
      "OK\n",
      "\n",
      "Time: 206.66s\n",
      "Speed: 5.83MB/s\n",
      "--------------------------------------------------------------------------------\n",
      "\n",
      "Running test...\n",
      "\n",
      "\tdataset: dataset_6.csv\n",
      "\ttool: api\n",
      "\tstream: True\n",
      "\titerative: True\n",
      "\tmultiprocess: 8\n",
      "\n",
      "Number of files:       29\n",
      "Avg size (MB):      41.52\n",
      "Total size (MB):  1204.07\n",
      "\n"
     ]
    },
    {
     "data": {
      "application/vnd.jupyter.widget-view+json": {
       "model_id": "ce28c8b19b3f483d8e3a44bb6c5fae1a",
       "version_major": 2,
       "version_minor": 0
      },
      "text/plain": [
       "HBox(children=(IntProgress(value=0, description='Files', max=29, style=ProgressStyle(description_width='initia…"
      ]
     },
     "metadata": {},
     "output_type": "display_data"
    },
    {
     "name": "stdout",
     "output_type": "stream",
     "text": [
      " \r"
     ]
    },
    {
     "data": {
      "application/vnd.jupyter.widget-view+json": {
       "model_id": "",
       "version_major": 2,
       "version_minor": 0
      },
      "text/plain": [
       "HBox(children=(IntProgress(value=0, description='TCGA-IB-8126-01A-01-TS1.098769c8-f708-45d8-af6e-96747786553a.…"
      ]
     },
     "metadata": {},
     "output_type": "display_data"
    },
    {
     "data": {
      "application/vnd.jupyter.widget-view+json": {
       "model_id": "",
       "version_major": 2,
       "version_minor": 0
      },
      "text/plain": [
       "HBox(children=(IntProgress(value=0, description='TCGA-2L-AAQA-11A-01-TSA.C5F0A098-9D08-46AA-9468-CD9D7C47C906.…"
      ]
     },
     "metadata": {},
     "output_type": "display_data"
    },
    {
     "name": "stdout",
     "output_type": "stream",
     "text": [
      " \r"
     ]
    },
    {
     "data": {
      "application/vnd.jupyter.widget-view+json": {
       "model_id": "",
       "version_major": 2,
       "version_minor": 0
      },
      "text/plain": [
       "HBox(children=(IntProgress(value=0, description='TCGA-IB-7647-01A-01-TS1.60574eeb-7935-4607-9ca8-5e1c21684ea5.…"
      ]
     },
     "metadata": {},
     "output_type": "display_data"
    },
    {
     "name": "stdout",
     "output_type": "stream",
     "text": [
      " \r"
     ]
    },
    {
     "data": {
      "application/vnd.jupyter.widget-view+json": {
       "model_id": "",
       "version_major": 2,
       "version_minor": 0
      },
      "text/plain": [
       "HBox(children=(IntProgress(value=0, description='TCGA-HZ-7926-01Z-00-DX1.b3bf02d3-bad0-4451-9c39-b0593f19154c.…"
      ]
     },
     "metadata": {},
     "output_type": "display_data"
    },
    {
     "name": "stdout",
     "output_type": "stream",
     "text": [
      " \r"
     ]
    },
    {
     "data": {
      "application/vnd.jupyter.widget-view+json": {
       "model_id": "",
       "version_major": 2,
       "version_minor": 0
      },
      "text/plain": [
       "HBox(children=(IntProgress(value=0, description='TCGA-IB-7651-01A-01-TS1.93957f30-932b-4a10-a325-d5eaeaf990a5.…"
      ]
     },
     "metadata": {},
     "output_type": "display_data"
    },
    {
     "name": "stdout",
     "output_type": "stream",
     "text": [
      " \r"
     ]
    },
    {
     "data": {
      "application/vnd.jupyter.widget-view+json": {
       "model_id": "",
       "version_major": 2,
       "version_minor": 0
      },
      "text/plain": [
       "HBox(children=(IntProgress(value=0, description='TCGA-FB-AAQ1-11A-01-TSA.44562F27-B936-4A9D-A176-0A6FA6E1832F.…"
      ]
     },
     "metadata": {},
     "output_type": "display_data"
    },
    {
     "data": {
      "application/vnd.jupyter.widget-view+json": {
       "model_id": "",
       "version_major": 2,
       "version_minor": 0
      },
      "text/plain": [
       "HBox(children=(IntProgress(value=0, description='TCGA-US-A774-11A-01-TSA.79454D5B-6D4E-4E1F-BE79-C745E8FD09E4.…"
      ]
     },
     "metadata": {},
     "output_type": "display_data"
    },
    {
     "data": {
      "application/vnd.jupyter.widget-view+json": {
       "model_id": "",
       "version_major": 2,
       "version_minor": 0
      },
      "text/plain": [
       "HBox(children=(IntProgress(value=0, description='TCGA-IB-7649-01A-01-TS1.bbd1df8b-ea7f-473d-8898-ce66f8c7a9c9.…"
      ]
     },
     "metadata": {},
     "output_type": "display_data"
    },
    {
     "name": "stdout",
     "output_type": "stream",
     "text": [
      " \r"
     ]
    },
    {
     "data": {
      "application/vnd.jupyter.widget-view+json": {
       "model_id": "",
       "version_major": 2,
       "version_minor": 0
      },
      "text/plain": [
       "HBox(children=(IntProgress(value=0, description='TCGA-US-A77E-11A-01-TSA.D46122D7-776B-4346-8918-7C38CD6A77C0.…"
      ]
     },
     "metadata": {},
     "output_type": "display_data"
    },
    {
     "name": "stdout",
     "output_type": "stream",
     "text": [
      " \r"
     ]
    },
    {
     "data": {
      "application/vnd.jupyter.widget-view+json": {
       "model_id": "",
       "version_major": 2,
       "version_minor": 0
      },
      "text/plain": [
       "HBox(children=(IntProgress(value=0, description='TCGA-IB-7646-01A-01-TS1.15de8678-3471-493d-b49a-1e28ab861713.…"
      ]
     },
     "metadata": {},
     "output_type": "display_data"
    },
    {
     "name": "stdout",
     "output_type": "stream",
     "text": [
      " \r"
     ]
    },
    {
     "data": {
      "application/vnd.jupyter.widget-view+json": {
       "model_id": "",
       "version_major": 2,
       "version_minor": 0
      },
      "text/plain": [
       "HBox(children=(IntProgress(value=0, description='TCGA-FB-AAPY-11A-01-TSA.088BA594-513D-40BB-90FA-A01BDA16C584.…"
      ]
     },
     "metadata": {},
     "output_type": "display_data"
    },
    {
     "name": "stdout",
     "output_type": "stream",
     "text": [
      " \r"
     ]
    },
    {
     "data": {
      "application/vnd.jupyter.widget-view+json": {
       "model_id": "",
       "version_major": 2,
       "version_minor": 0
      },
      "text/plain": [
       "HBox(children=(IntProgress(value=0, description='TCGA-HV-A5A5-01A-01-TS1.3BB38FAB-0506-4223-B017-10425E9329D7.…"
      ]
     },
     "metadata": {},
     "output_type": "display_data"
    },
    {
     "name": "stdout",
     "output_type": "stream",
     "text": [
      " \r"
     ]
    },
    {
     "data": {
      "application/vnd.jupyter.widget-view+json": {
       "model_id": "",
       "version_major": 2,
       "version_minor": 0
      },
      "text/plain": [
       "HBox(children=(IntProgress(value=0, description='TCGA-2L-AAQJ-11A-01-TS1.27AB61A2-4F5B-4B8E-AC5D-AE1D0E5C7C7A.…"
      ]
     },
     "metadata": {},
     "output_type": "display_data"
    },
    {
     "name": "stdout",
     "output_type": "stream",
     "text": [
      " \r"
     ]
    },
    {
     "data": {
      "application/vnd.jupyter.widget-view+json": {
       "model_id": "",
       "version_major": 2,
       "version_minor": 0
      },
      "text/plain": [
       "HBox(children=(IntProgress(value=0, description='TCGA-H6-8124-11A-01-TS1.3be454f5-83ee-4cd0-8a00-f341ce8f3ba2.…"
      ]
     },
     "metadata": {},
     "output_type": "display_data"
    },
    {
     "name": "stdout",
     "output_type": "stream",
     "text": [
      " \r"
     ]
    },
    {
     "data": {
      "application/vnd.jupyter.widget-view+json": {
       "model_id": "",
       "version_major": 2,
       "version_minor": 0
      },
      "text/plain": [
       "HBox(children=(IntProgress(value=0, description='TCGA-F2-6880-01A-01-TS1.b92d57ab-e336-45cb-919f-6fdf5fbacb39.…"
      ]
     },
     "metadata": {},
     "output_type": "display_data"
    },
    {
     "name": "stdout",
     "output_type": "stream",
     "text": [
      " \r"
     ]
    },
    {
     "data": {
      "application/vnd.jupyter.widget-view+json": {
       "model_id": "",
       "version_major": 2,
       "version_minor": 0
      },
      "text/plain": [
       "HBox(children=(IntProgress(value=0, description='TCGA-US-A77G-11A-01-TSA.18AC9F41-1554-4C39-BDA0-2D139AE487AD.…"
      ]
     },
     "metadata": {},
     "output_type": "display_data"
    },
    {
     "name": "stdout",
     "output_type": "stream",
     "text": [
      " \r"
     ]
    },
    {
     "data": {
      "application/vnd.jupyter.widget-view+json": {
       "model_id": "",
       "version_major": 2,
       "version_minor": 0
      },
      "text/plain": [
       "HBox(children=(IntProgress(value=0, description='TCGA-US-A779-11A-01-TS1.C060211E-6AFE-4D64-AC9C-D1B3D5633CC4.…"
      ]
     },
     "metadata": {},
     "output_type": "display_data"
    },
    {
     "name": "stdout",
     "output_type": "stream",
     "text": [
      " \r"
     ]
    },
    {
     "data": {
      "application/vnd.jupyter.widget-view+json": {
       "model_id": "",
       "version_major": 2,
       "version_minor": 0
      },
      "text/plain": [
       "HBox(children=(IntProgress(value=0, description='TCGA-IB-7887-01A-01-TS1.8ce76657-42b6-48a8-ba12-c2b697173e10.…"
      ]
     },
     "metadata": {},
     "output_type": "display_data"
    },
    {
     "name": "stdout",
     "output_type": "stream",
     "text": [
      " \r"
     ]
    },
    {
     "data": {
      "application/vnd.jupyter.widget-view+json": {
       "model_id": "",
       "version_major": 2,
       "version_minor": 0
      },
      "text/plain": [
       "HBox(children=(IntProgress(value=0, description='TCGA-YB-A89D-11A-01-TS1.F56832D3-37EC-49D5-8803-7132516B25EE.…"
      ]
     },
     "metadata": {},
     "output_type": "display_data"
    },
    {
     "name": "stdout",
     "output_type": "stream",
     "text": [
      " \r"
     ]
    },
    {
     "data": {
      "application/vnd.jupyter.widget-view+json": {
       "model_id": "",
       "version_major": 2,
       "version_minor": 0
      },
      "text/plain": [
       "HBox(children=(IntProgress(value=0, description='TCGA-FB-AAPQ-11A-01-TS1.22B96FE6-C6AB-465F-8F09-83BA9F32609B.…"
      ]
     },
     "metadata": {},
     "output_type": "display_data"
    },
    {
     "name": "stdout",
     "output_type": "stream",
     "text": [
      " \r"
     ]
    },
    {
     "data": {
      "application/vnd.jupyter.widget-view+json": {
       "model_id": "",
       "version_major": 2,
       "version_minor": 0
      },
      "text/plain": [
       "HBox(children=(IntProgress(value=0, description='TCGA-FB-AAQ6-11A-01-TSA.9BFA20EC-9D05-413E-8385-405829239799.…"
      ]
     },
     "metadata": {},
     "output_type": "display_data"
    },
    {
     "name": "stdout",
     "output_type": "stream",
     "text": [
      " \r"
     ]
    },
    {
     "data": {
      "application/vnd.jupyter.widget-view+json": {
       "model_id": "",
       "version_major": 2,
       "version_minor": 0
      },
      "text/plain": [
       "HBox(children=(IntProgress(value=0, description='TCGA-IB-7644-01A-01-TS1.8fcd72ca-6fb6-4c0a-9dca-9c13bc4272e8.…"
      ]
     },
     "metadata": {},
     "output_type": "display_data"
    },
    {
     "name": "stdout",
     "output_type": "stream",
     "text": [
      " \r"
     ]
    },
    {
     "data": {
      "application/vnd.jupyter.widget-view+json": {
       "model_id": "",
       "version_major": 2,
       "version_minor": 0
      },
      "text/plain": [
       "HBox(children=(IntProgress(value=0, description='TCGA-F2-7276-01A-01-TS1.010dd1db-9ead-4399-84b9-5381e189054e.…"
      ]
     },
     "metadata": {},
     "output_type": "display_data"
    },
    {
     "name": "stdout",
     "output_type": "stream",
     "text": [
      " \r"
     ]
    },
    {
     "data": {
      "application/vnd.jupyter.widget-view+json": {
       "model_id": "",
       "version_major": 2,
       "version_minor": 0
      },
      "text/plain": [
       "HBox(children=(IntProgress(value=0, description='TCGA-HZ-8001-01A-01-TS1.d3738e44-a683-4e1f-9794-b0f76ee0bd61.…"
      ]
     },
     "metadata": {},
     "output_type": "display_data"
    },
    {
     "name": "stdout",
     "output_type": "stream",
     "text": [
      " \r"
     ]
    },
    {
     "data": {
      "application/vnd.jupyter.widget-view+json": {
       "model_id": "",
       "version_major": 2,
       "version_minor": 0
      },
      "text/plain": [
       "HBox(children=(IntProgress(value=0, description='TCGA-HV-A5A3-11A-01-TS1.29B3EF24-5DA2-4353-848D-7E5B63A1C226.…"
      ]
     },
     "metadata": {},
     "output_type": "display_data"
    },
    {
     "name": "stdout",
     "output_type": "stream",
     "text": [
      " \r"
     ]
    },
    {
     "data": {
      "application/vnd.jupyter.widget-view+json": {
       "model_id": "",
       "version_major": 2,
       "version_minor": 0
      },
      "text/plain": [
       "HBox(children=(IntProgress(value=0, description='TCGA-HZ-7923-01A-01-TS1.e1b46c76-7d5f-434e-b613-1ca91c043f06.…"
      ]
     },
     "metadata": {},
     "output_type": "display_data"
    },
    {
     "name": "stdout",
     "output_type": "stream",
     "text": [
      " \r"
     ]
    },
    {
     "data": {
      "application/vnd.jupyter.widget-view+json": {
       "model_id": "",
       "version_major": 2,
       "version_minor": 0
      },
      "text/plain": [
       "HBox(children=(IntProgress(value=0, description='TCGA-FZ-5924-11A-01-TS1.725380e8-0c30-4507-83a5-5e726e2cc533.…"
      ]
     },
     "metadata": {},
     "output_type": "display_data"
    },
    {
     "name": "stdout",
     "output_type": "stream",
     "text": [
      " \r"
     ]
    },
    {
     "data": {
      "application/vnd.jupyter.widget-view+json": {
       "model_id": "",
       "version_major": 2,
       "version_minor": 0
      },
      "text/plain": [
       "HBox(children=(IntProgress(value=0, description='TCGA-FZ-5924-01A-01-TS1.493daee4-9604-4259-8611-120a6bc241b3.…"
      ]
     },
     "metadata": {},
     "output_type": "display_data"
    },
    {
     "name": "stdout",
     "output_type": "stream",
     "text": [
      " \r"
     ]
    },
    {
     "data": {
      "application/vnd.jupyter.widget-view+json": {
       "model_id": "",
       "version_major": 2,
       "version_minor": 0
      },
      "text/plain": [
       "HBox(children=(IntProgress(value=0, description='TCGA-US-A77J-11A-01-TS1.27A65F65-2CBA-49B7-8F6F-639A0F7AC912.…"
      ]
     },
     "metadata": {},
     "output_type": "display_data"
    },
    {
     "name": "stdout",
     "output_type": "stream",
     "text": [
      "OK\n",
      "\n",
      "Time: 273.68s\n",
      "Speed: 4.4MB/s\n",
      "--------------------------------------------------------------------------------\n",
      "\n",
      "Running test...\n",
      "\n",
      "\tdataset: dataset_6.csv\n",
      "\ttool: api\n",
      "\tstream: True\n",
      "\titerative: True\n",
      "\tmultiprocess: 16\n",
      "\n",
      "Number of files:       29\n",
      "Avg size (MB):      41.52\n",
      "Total size (MB):  1204.07\n",
      "\n"
     ]
    },
    {
     "data": {
      "application/vnd.jupyter.widget-view+json": {
       "model_id": "ea6f60f259bd4309a0a5ff421d9b3428",
       "version_major": 2,
       "version_minor": 0
      },
      "text/plain": [
       "HBox(children=(IntProgress(value=0, description='Files', max=29, style=ProgressStyle(description_width='initia…"
      ]
     },
     "metadata": {},
     "output_type": "display_data"
    },
    {
     "name": "stdout",
     "output_type": "stream",
     "text": [
      " \r"
     ]
    },
    {
     "data": {
      "application/vnd.jupyter.widget-view+json": {
       "model_id": "",
       "version_major": 2,
       "version_minor": 0
      },
      "text/plain": [
       "HBox(children=(IntProgress(value=0, description='TCGA-IB-7651-01A-01-TS1.93957f30-932b-4a10-a325-d5eaeaf990a5.…"
      ]
     },
     "metadata": {},
     "output_type": "display_data"
    },
    {
     "name": "stdout",
     "output_type": "stream",
     "text": [
      " \r"
     ]
    },
    {
     "data": {
      "application/vnd.jupyter.widget-view+json": {
       "model_id": "",
       "version_major": 2,
       "version_minor": 0
      },
      "text/plain": [
       "HBox(children=(IntProgress(value=0, description='TCGA-FB-AAQ1-11A-01-TSA.44562F27-B936-4A9D-A176-0A6FA6E1832F.…"
      ]
     },
     "metadata": {},
     "output_type": "display_data"
    },
    {
     "name": "stdout",
     "output_type": "stream",
     "text": [
      " \r"
     ]
    },
    {
     "data": {
      "application/vnd.jupyter.widget-view+json": {
       "model_id": "",
       "version_major": 2,
       "version_minor": 0
      },
      "text/plain": [
       "HBox(children=(IntProgress(value=0, description='TCGA-US-A774-11A-01-TSA.79454D5B-6D4E-4E1F-BE79-C745E8FD09E4.…"
      ]
     },
     "metadata": {},
     "output_type": "display_data"
    },
    {
     "name": "stdout",
     "output_type": "stream",
     "text": [
      " \r"
     ]
    },
    {
     "data": {
      "application/vnd.jupyter.widget-view+json": {
       "model_id": "",
       "version_major": 2,
       "version_minor": 0
      },
      "text/plain": [
       "HBox(children=(IntProgress(value=0, description='TCGA-IB-7646-01A-01-TS1.15de8678-3471-493d-b49a-1e28ab861713.…"
      ]
     },
     "metadata": {},
     "output_type": "display_data"
    },
    {
     "name": "stdout",
     "output_type": "stream",
     "text": [
      " \r"
     ]
    },
    {
     "data": {
      "application/vnd.jupyter.widget-view+json": {
       "model_id": "",
       "version_major": 2,
       "version_minor": 0
      },
      "text/plain": [
       "HBox(children=(IntProgress(value=0, description='TCGA-HZ-7926-01Z-00-DX1.b3bf02d3-bad0-4451-9c39-b0593f19154c.…"
      ]
     },
     "metadata": {},
     "output_type": "display_data"
    },
    {
     "name": "stdout",
     "output_type": "stream",
     "text": [
      " \r"
     ]
    },
    {
     "data": {
      "application/vnd.jupyter.widget-view+json": {
       "model_id": "",
       "version_major": 2,
       "version_minor": 0
      },
      "text/plain": [
       "HBox(children=(IntProgress(value=0, description='TCGA-US-A77G-11A-01-TSA.18AC9F41-1554-4C39-BDA0-2D139AE487AD.…"
      ]
     },
     "metadata": {},
     "output_type": "display_data"
    },
    {
     "name": "stdout",
     "output_type": "stream",
     "text": [
      " \r"
     ]
    },
    {
     "data": {
      "application/vnd.jupyter.widget-view+json": {
       "model_id": "",
       "version_major": 2,
       "version_minor": 0
      },
      "text/plain": [
       "HBox(children=(IntProgress(value=0, description='TCGA-US-A77E-11A-01-TSA.D46122D7-776B-4346-8918-7C38CD6A77C0.…"
      ]
     },
     "metadata": {},
     "output_type": "display_data"
    },
    {
     "name": "stdout",
     "output_type": "stream",
     "text": [
      " \r"
     ]
    },
    {
     "data": {
      "application/vnd.jupyter.widget-view+json": {
       "model_id": "",
       "version_major": 2,
       "version_minor": 0
      },
      "text/plain": [
       "HBox(children=(IntProgress(value=0, description='TCGA-FB-AAPY-11A-01-TSA.088BA594-513D-40BB-90FA-A01BDA16C584.…"
      ]
     },
     "metadata": {},
     "output_type": "display_data"
    },
    {
     "name": "stdout",
     "output_type": "stream",
     "text": [
      " \r"
     ]
    },
    {
     "data": {
      "application/vnd.jupyter.widget-view+json": {
       "model_id": "",
       "version_major": 2,
       "version_minor": 0
      },
      "text/plain": [
       "HBox(children=(IntProgress(value=0, description='TCGA-HV-A5A5-01A-01-TS1.3BB38FAB-0506-4223-B017-10425E9329D7.…"
      ]
     },
     "metadata": {},
     "output_type": "display_data"
    },
    {
     "data": {
      "application/vnd.jupyter.widget-view+json": {
       "model_id": "",
       "version_major": 2,
       "version_minor": 0
      },
      "text/plain": [
       "HBox(children=(IntProgress(value=0, description='TCGA-IB-8126-01A-01-TS1.098769c8-f708-45d8-af6e-96747786553a.…"
      ]
     },
     "metadata": {},
     "output_type": "display_data"
    },
    {
     "name": "stdout",
     "output_type": "stream",
     "text": [
      " \r"
     ]
    },
    {
     "data": {
      "application/vnd.jupyter.widget-view+json": {
       "model_id": "",
       "version_major": 2,
       "version_minor": 0
      },
      "text/plain": [
       "HBox(children=(IntProgress(value=0, description='TCGA-2L-AAQA-11A-01-TSA.C5F0A098-9D08-46AA-9468-CD9D7C47C906.…"
      ]
     },
     "metadata": {},
     "output_type": "display_data"
    },
    {
     "data": {
      "application/vnd.jupyter.widget-view+json": {
       "model_id": "",
       "version_major": 2,
       "version_minor": 0
      },
      "text/plain": [
       "HBox(children=(IntProgress(value=0, description='TCGA-F2-6880-01A-01-TS1.b92d57ab-e336-45cb-919f-6fdf5fbacb39.…"
      ]
     },
     "metadata": {},
     "output_type": "display_data"
    },
    {
     "data": {
      "application/vnd.jupyter.widget-view+json": {
       "model_id": "",
       "version_major": 2,
       "version_minor": 0
      },
      "text/plain": [
       "HBox(children=(IntProgress(value=0, description='TCGA-H6-8124-11A-01-TS1.3be454f5-83ee-4cd0-8a00-f341ce8f3ba2.…"
      ]
     },
     "metadata": {},
     "output_type": "display_data"
    },
    {
     "name": "stdout",
     "output_type": "stream",
     "text": [
      " \r"
     ]
    },
    {
     "data": {
      "application/vnd.jupyter.widget-view+json": {
       "model_id": "",
       "version_major": 2,
       "version_minor": 0
      },
      "text/plain": [
       "HBox(children=(IntProgress(value=0, description='TCGA-IB-7649-01A-01-TS1.bbd1df8b-ea7f-473d-8898-ce66f8c7a9c9.…"
      ]
     },
     "metadata": {},
     "output_type": "display_data"
    },
    {
     "data": {
      "application/vnd.jupyter.widget-view+json": {
       "model_id": "",
       "version_major": 2,
       "version_minor": 0
      },
      "text/plain": [
       "HBox(children=(IntProgress(value=0, description='TCGA-2L-AAQJ-11A-01-TS1.27AB61A2-4F5B-4B8E-AC5D-AE1D0E5C7C7A.…"
      ]
     },
     "metadata": {},
     "output_type": "display_data"
    },
    {
     "data": {
      "application/vnd.jupyter.widget-view+json": {
       "model_id": "",
       "version_major": 2,
       "version_minor": 0
      },
      "text/plain": [
       "HBox(children=(IntProgress(value=0, description='TCGA-IB-7647-01A-01-TS1.60574eeb-7935-4607-9ca8-5e1c21684ea5.…"
      ]
     },
     "metadata": {},
     "output_type": "display_data"
    },
    {
     "name": "stdout",
     "output_type": "stream",
     "text": [
      " \r"
     ]
    },
    {
     "data": {
      "application/vnd.jupyter.widget-view+json": {
       "model_id": "",
       "version_major": 2,
       "version_minor": 0
      },
      "text/plain": [
       "HBox(children=(IntProgress(value=0, description='TCGA-US-A779-11A-01-TS1.C060211E-6AFE-4D64-AC9C-D1B3D5633CC4.…"
      ]
     },
     "metadata": {},
     "output_type": "display_data"
    },
    {
     "name": "stdout",
     "output_type": "stream",
     "text": [
      " \r"
     ]
    },
    {
     "data": {
      "application/vnd.jupyter.widget-view+json": {
       "model_id": "",
       "version_major": 2,
       "version_minor": 0
      },
      "text/plain": [
       "HBox(children=(IntProgress(value=0, description='TCGA-IB-7887-01A-01-TS1.8ce76657-42b6-48a8-ba12-c2b697173e10.…"
      ]
     },
     "metadata": {},
     "output_type": "display_data"
    },
    {
     "name": "stdout",
     "output_type": "stream",
     "text": [
      " \r"
     ]
    },
    {
     "data": {
      "application/vnd.jupyter.widget-view+json": {
       "model_id": "",
       "version_major": 2,
       "version_minor": 0
      },
      "text/plain": [
       "HBox(children=(IntProgress(value=0, description='TCGA-YB-A89D-11A-01-TS1.F56832D3-37EC-49D5-8803-7132516B25EE.…"
      ]
     },
     "metadata": {},
     "output_type": "display_data"
    },
    {
     "name": "stdout",
     "output_type": "stream",
     "text": [
      " \r"
     ]
    },
    {
     "data": {
      "application/vnd.jupyter.widget-view+json": {
       "model_id": "",
       "version_major": 2,
       "version_minor": 0
      },
      "text/plain": [
       "HBox(children=(IntProgress(value=0, description='TCGA-FB-AAQ6-11A-01-TSA.9BFA20EC-9D05-413E-8385-405829239799.…"
      ]
     },
     "metadata": {},
     "output_type": "display_data"
    },
    {
     "name": "stdout",
     "output_type": "stream",
     "text": [
      " \r"
     ]
    },
    {
     "data": {
      "application/vnd.jupyter.widget-view+json": {
       "model_id": "",
       "version_major": 2,
       "version_minor": 0
      },
      "text/plain": [
       "HBox(children=(IntProgress(value=0, description='TCGA-IB-7644-01A-01-TS1.8fcd72ca-6fb6-4c0a-9dca-9c13bc4272e8.…"
      ]
     },
     "metadata": {},
     "output_type": "display_data"
    },
    {
     "name": "stdout",
     "output_type": "stream",
     "text": [
      " \r"
     ]
    },
    {
     "data": {
      "application/vnd.jupyter.widget-view+json": {
       "model_id": "",
       "version_major": 2,
       "version_minor": 0
      },
      "text/plain": [
       "HBox(children=(IntProgress(value=0, description='TCGA-F2-7276-01A-01-TS1.010dd1db-9ead-4399-84b9-5381e189054e.…"
      ]
     },
     "metadata": {},
     "output_type": "display_data"
    },
    {
     "name": "stdout",
     "output_type": "stream",
     "text": [
      " \r"
     ]
    },
    {
     "data": {
      "application/vnd.jupyter.widget-view+json": {
       "model_id": "",
       "version_major": 2,
       "version_minor": 0
      },
      "text/plain": [
       "HBox(children=(IntProgress(value=0, description='TCGA-FB-AAPQ-11A-01-TS1.22B96FE6-C6AB-465F-8F09-83BA9F32609B.…"
      ]
     },
     "metadata": {},
     "output_type": "display_data"
    },
    {
     "name": "stdout",
     "output_type": "stream",
     "text": [
      " \r"
     ]
    },
    {
     "data": {
      "application/vnd.jupyter.widget-view+json": {
       "model_id": "",
       "version_major": 2,
       "version_minor": 0
      },
      "text/plain": [
       "HBox(children=(IntProgress(value=0, description='TCGA-HV-A5A3-11A-01-TS1.29B3EF24-5DA2-4353-848D-7E5B63A1C226.…"
      ]
     },
     "metadata": {},
     "output_type": "display_data"
    },
    {
     "name": "stdout",
     "output_type": "stream",
     "text": [
      " \r"
     ]
    },
    {
     "data": {
      "application/vnd.jupyter.widget-view+json": {
       "model_id": "",
       "version_major": 2,
       "version_minor": 0
      },
      "text/plain": [
       "HBox(children=(IntProgress(value=0, description='TCGA-HZ-7923-01A-01-TS1.e1b46c76-7d5f-434e-b613-1ca91c043f06.…"
      ]
     },
     "metadata": {},
     "output_type": "display_data"
    },
    {
     "name": "stdout",
     "output_type": "stream",
     "text": [
      " \r"
     ]
    },
    {
     "data": {
      "application/vnd.jupyter.widget-view+json": {
       "model_id": "",
       "version_major": 2,
       "version_minor": 0
      },
      "text/plain": [
       "HBox(children=(IntProgress(value=0, description='TCGA-FZ-5924-11A-01-TS1.725380e8-0c30-4507-83a5-5e726e2cc533.…"
      ]
     },
     "metadata": {},
     "output_type": "display_data"
    },
    {
     "name": "stdout",
     "output_type": "stream",
     "text": [
      " \r"
     ]
    },
    {
     "data": {
      "application/vnd.jupyter.widget-view+json": {
       "model_id": "",
       "version_major": 2,
       "version_minor": 0
      },
      "text/plain": [
       "HBox(children=(IntProgress(value=0, description='TCGA-FZ-5924-01A-01-TS1.493daee4-9604-4259-8611-120a6bc241b3.…"
      ]
     },
     "metadata": {},
     "output_type": "display_data"
    },
    {
     "name": "stdout",
     "output_type": "stream",
     "text": [
      " \r"
     ]
    },
    {
     "data": {
      "application/vnd.jupyter.widget-view+json": {
       "model_id": "",
       "version_major": 2,
       "version_minor": 0
      },
      "text/plain": [
       "HBox(children=(IntProgress(value=0, description='TCGA-HZ-8001-01A-01-TS1.d3738e44-a683-4e1f-9794-b0f76ee0bd61.…"
      ]
     },
     "metadata": {},
     "output_type": "display_data"
    },
    {
     "name": "stdout",
     "output_type": "stream",
     "text": [
      " \r"
     ]
    },
    {
     "data": {
      "application/vnd.jupyter.widget-view+json": {
       "model_id": "",
       "version_major": 2,
       "version_minor": 0
      },
      "text/plain": [
       "HBox(children=(IntProgress(value=0, description='TCGA-US-A77J-11A-01-TS1.27A65F65-2CBA-49B7-8F6F-639A0F7AC912.…"
      ]
     },
     "metadata": {},
     "output_type": "display_data"
    },
    {
     "name": "stdout",
     "output_type": "stream",
     "text": [
      "OK\n",
      "\n",
      "Time: 261.88s\n",
      "Speed: 4.6MB/s\n",
      "--------------------------------------------------------------------------------\n",
      "\n",
      "Running test...\n",
      "\n",
      "\tdataset: dataset_1.csv\n",
      "\ttool: gdc\n",
      "\n",
      "Number of files:       10\n",
      "Avg size (MB):       0.44\n",
      "Total size (MB):     4.36\n",
      "\n",
      "100% [#############################################] Time: 0:00:01   0.57  B/s \n",
      "100% [#############################################] Time: 0:00:01   0.57  B/s \n",
      "100% [#############################################] Time: 0:00:01   0.61  B/s \n",
      "100% [#############################################] Time: 0:00:01 286.57 kB/s \n",
      "100% [#############################################] Time: 0:00:01 213.01 kB/s \n",
      "\u001b[32mSuccessfully downloaded\u001b[0m: 10\n",
      "\n",
      "OK\n",
      "\n",
      "Time: 14.4s\n",
      "Speed: 0.3MB/s\n",
      "--------------------------------------------------------------------------------\n",
      "\n",
      "Running test...\n",
      "\n",
      "\tdataset: dataset_1.csv\n",
      "\ttool: api\n",
      "\tstream: True\n",
      "\titerative: False\n",
      "\n",
      "Number of files:       10\n",
      "Avg size (MB):       0.44\n",
      "Total size (MB):     4.36\n",
      "\n",
      " \r"
     ]
    },
    {
     "data": {
      "application/vnd.jupyter.widget-view+json": {
       "model_id": "",
       "version_major": 2,
       "version_minor": 0
      },
      "text/plain": [
       "HBox(children=(IntProgress(value=0, description='gdc_download_20190425_014656.258701.tar.gz', max=5120, style=…"
      ]
     },
     "metadata": {},
     "output_type": "display_data"
    },
    {
     "name": "stdout",
     "output_type": "stream",
     "text": [
      "OK\n",
      "\n",
      "Time: 3.58s\n",
      "Speed: 1.22MB/s\n",
      "--------------------------------------------------------------------------------\n",
      "\n",
      "Running test...\n",
      "\n",
      "\tdataset: dataset_1.csv\n",
      "\ttool: api\n",
      "\tstream: True\n",
      "\titerative: True\n",
      "\n",
      "Number of files:       10\n",
      "Avg size (MB):       0.44\n",
      "Total size (MB):     4.36\n",
      "\n"
     ]
    },
    {
     "data": {
      "application/vnd.jupyter.widget-view+json": {
       "model_id": "2ac4256a7856401a8ff724d976e22970",
       "version_major": 2,
       "version_minor": 0
      },
      "text/plain": [
       "HBox(children=(IntProgress(value=0, description='Files', max=10, style=ProgressStyle(description_width='initia…"
      ]
     },
     "metadata": {},
     "output_type": "display_data"
    },
    {
     "name": "stdout",
     "output_type": "stream",
     "text": [
      " \r"
     ]
    },
    {
     "data": {
      "application/vnd.jupyter.widget-view+json": {
       "model_id": "",
       "version_major": 2,
       "version_minor": 0
      },
      "text/plain": [
       "HBox(children=(IntProgress(value=0, description='a2a33be8-232b-44bf-a003-349017a5bc5a.FPKM.txt.gz', max=532, s…"
      ]
     },
     "metadata": {},
     "output_type": "display_data"
    },
    {
     "name": "stdout",
     "output_type": "stream",
     "text": [
      " \r"
     ]
    },
    {
     "data": {
      "application/vnd.jupyter.widget-view+json": {
       "model_id": "",
       "version_major": 2,
       "version_minor": 0
      },
      "text/plain": [
       "HBox(children=(IntProgress(value=0, description='dd2f0366-10f3-40e4-90d5-c5c2c7a65289.FPKM-UQ.txt.gz', max=532…"
      ]
     },
     "metadata": {},
     "output_type": "display_data"
    },
    {
     "name": "stdout",
     "output_type": "stream",
     "text": [
      " \r"
     ]
    },
    {
     "data": {
      "application/vnd.jupyter.widget-view+json": {
       "model_id": "",
       "version_major": 2,
       "version_minor": 0
      },
      "text/plain": [
       "HBox(children=(IntProgress(value=0, description='4172e3f8-3578-4f33-9168-6f8c2b8d0783.FPKM.txt.gz', max=543, s…"
      ]
     },
     "metadata": {},
     "output_type": "display_data"
    },
    {
     "name": "stdout",
     "output_type": "stream",
     "text": [
      " \r"
     ]
    },
    {
     "data": {
      "application/vnd.jupyter.widget-view+json": {
       "model_id": "",
       "version_major": 2,
       "version_minor": 0
      },
      "text/plain": [
       "HBox(children=(IntProgress(value=0, description='c1f4dcd4-26b5-4b90-9564-44e03242e8e2.htseq.counts.gz', max=26…"
      ]
     },
     "metadata": {},
     "output_type": "display_data"
    },
    {
     "name": "stdout",
     "output_type": "stream",
     "text": [
      " \r"
     ]
    },
    {
     "data": {
      "application/vnd.jupyter.widget-view+json": {
       "model_id": "",
       "version_major": 2,
       "version_minor": 0
      },
      "text/plain": [
       "HBox(children=(IntProgress(value=0, description='7051e52f-069d-48d5-966e-064a01bf2725.FPKM-UQ.txt.gz', max=522…"
      ]
     },
     "metadata": {},
     "output_type": "display_data"
    },
    {
     "name": "stdout",
     "output_type": "stream",
     "text": [
      " \r"
     ]
    },
    {
     "data": {
      "application/vnd.jupyter.widget-view+json": {
       "model_id": "",
       "version_major": 2,
       "version_minor": 0
      },
      "text/plain": [
       "HBox(children=(IntProgress(value=0, description='69675771-14b4-4edf-bbda-63c38051ca1c.htseq.counts.gz', max=25…"
      ]
     },
     "metadata": {},
     "output_type": "display_data"
    },
    {
     "name": "stdout",
     "output_type": "stream",
     "text": [
      " \r"
     ]
    },
    {
     "data": {
      "application/vnd.jupyter.widget-view+json": {
       "model_id": "",
       "version_major": 2,
       "version_minor": 0
      },
      "text/plain": [
       "HBox(children=(IntProgress(value=0, description='51d0123d-f082-4ce1-8f06-e3dafd224a88.htseq.counts.gz', max=25…"
      ]
     },
     "metadata": {},
     "output_type": "display_data"
    },
    {
     "name": "stdout",
     "output_type": "stream",
     "text": [
      " \r"
     ]
    },
    {
     "data": {
      "application/vnd.jupyter.widget-view+json": {
       "model_id": "",
       "version_major": 2,
       "version_minor": 0
      },
      "text/plain": [
       "HBox(children=(IntProgress(value=0, description='0be94b2f-fccb-4482-b0ea-695c101aa65a.FPKM-UQ.txt.gz', max=502…"
      ]
     },
     "metadata": {},
     "output_type": "display_data"
    },
    {
     "name": "stdout",
     "output_type": "stream",
     "text": [
      " \r"
     ]
    },
    {
     "data": {
      "application/vnd.jupyter.widget-view+json": {
       "model_id": "",
       "version_major": 2,
       "version_minor": 0
      },
      "text/plain": [
       "HBox(children=(IntProgress(value=0, description='7d0fbed4-b5e1-4633-ac04-e0ee614b90ee.FPKM-UQ.txt.gz', max=512…"
      ]
     },
     "metadata": {},
     "output_type": "display_data"
    },
    {
     "name": "stdout",
     "output_type": "stream",
     "text": [
      " \r"
     ]
    },
    {
     "data": {
      "application/vnd.jupyter.widget-view+json": {
       "model_id": "",
       "version_major": 2,
       "version_minor": 0
      },
      "text/plain": [
       "HBox(children=(IntProgress(value=0, description='e228d8be-74db-4b34-90d6-5d757f15310b.FPKM-UQ.txt.gz', max=543…"
      ]
     },
     "metadata": {},
     "output_type": "display_data"
    },
    {
     "name": "stdout",
     "output_type": "stream",
     "text": [
      "OK\n",
      "\n",
      "Time: 13.19s\n",
      "Speed: 0.33MB/s\n",
      "--------------------------------------------------------------------------------\n",
      "\n",
      "Running test...\n",
      "\n",
      "\tdataset: dataset_2.csv\n",
      "\ttool: api\n",
      "\tstream: False\n",
      "\titerative: False\n",
      "\n",
      "Number of files:        4\n",
      "Avg size (MB):      26.54\n",
      "Total size (MB):   106.18\n",
      "\n",
      "OK\n",
      "\n",
      "Time: 29.51s\n",
      "Speed: 3.6MB/s\n",
      "--------------------------------------------------------------------------------\n",
      "\n",
      "Running test...\n",
      "\n",
      "\tdataset: dataset_2.csv\n",
      "\ttool: api\n",
      "\tstream: False\n",
      "\titerative: True\n",
      "\n",
      "Number of files:        4\n",
      "Avg size (MB):      26.54\n",
      "Total size (MB):   106.18\n",
      "\n"
     ]
    },
    {
     "data": {
      "application/vnd.jupyter.widget-view+json": {
       "model_id": "bcf54449ee0f49cdb0bcbecbb3305099",
       "version_major": 2,
       "version_minor": 0
      },
      "text/plain": [
       "HBox(children=(IntProgress(value=0, description='Files', max=4, style=ProgressStyle(description_width='initial…"
      ]
     },
     "metadata": {},
     "output_type": "display_data"
    },
    {
     "name": "stdout",
     "output_type": "stream",
     "text": [
      "OK\n",
      "\n",
      "Time: 37.75s\n",
      "Speed: 2.81MB/s\n",
      "--------------------------------------------------------------------------------\n",
      "\n",
      "Running test...\n",
      "\n",
      "\tdataset: dataset_2.csv\n",
      "\ttool: gdc\n",
      "\n",
      "Number of files:        4\n",
      "Avg size (MB):      26.54\n",
      "Total size (MB):   106.18\n",
      "\n",
      "100% [#############################################] Time: 0:00:07   4.17 MB/s \n",
      "100% [#############################################] Time: 0:00:06   4.06 MB/s \n",
      "100% [#############################################] Time: 0:00:05   4.13 MB/s \n",
      "100% [#############################################] Time: 0:00:05   4.45 MB/s \n",
      "\u001b[32mSuccessfully downloaded\u001b[0m: 4\n",
      "\n",
      "OK\n",
      "\n",
      "Time: 31.87s\n",
      "Speed: 3.33MB/s\n",
      "--------------------------------------------------------------------------------\n",
      "\n",
      "Running test...\n",
      "\n",
      "\tdataset: dataset_2.csv\n",
      "\ttool: api\n",
      "\tstream: True\n",
      "\titerative: False\n",
      "\n",
      "Number of files:        4\n",
      "Avg size (MB):      26.54\n",
      "Total size (MB):   106.18\n",
      "\n",
      " \r"
     ]
    },
    {
     "data": {
      "application/vnd.jupyter.widget-view+json": {
       "model_id": "",
       "version_major": 2,
       "version_minor": 0
      },
      "text/plain": [
       "HBox(children=(IntProgress(value=0, description='gdc_download_20190425_014851.802503.tar.gz', max=83637, style…"
      ]
     },
     "metadata": {},
     "output_type": "display_data"
    },
    {
     "name": "stdout",
     "output_type": "stream",
     "text": [
      "OK\n",
      "\n",
      "Time: 26.93s\n",
      "Speed: 3.94MB/s\n",
      "--------------------------------------------------------------------------------\n",
      "\n",
      "Running test...\n",
      "\n",
      "\tdataset: dataset_2.csv\n",
      "\ttool: api\n",
      "\tstream: True\n",
      "\titerative: True\n",
      "\n",
      "Number of files:        4\n",
      "Avg size (MB):      26.54\n",
      "Total size (MB):   106.18\n",
      "\n"
     ]
    },
    {
     "data": {
      "application/vnd.jupyter.widget-view+json": {
       "model_id": "314e96d10a6147e59dee7a8f30e9f500",
       "version_major": 2,
       "version_minor": 0
      },
      "text/plain": [
       "HBox(children=(IntProgress(value=0, description='Files', max=4, style=ProgressStyle(description_width='initial…"
      ]
     },
     "metadata": {},
     "output_type": "display_data"
    },
    {
     "name": "stdout",
     "output_type": "stream",
     "text": [
      " \r"
     ]
    },
    {
     "data": {
      "application/vnd.jupyter.widget-view+json": {
       "model_id": "",
       "version_major": 2,
       "version_minor": 0
      },
      "text/plain": [
       "HBox(children=(IntProgress(value=0, description='TCGA-HZ-7926-01Z-00-DX1.b3bf02d3-bad0-4451-9c39-b0593f19154c.…"
      ]
     },
     "metadata": {},
     "output_type": "display_data"
    },
    {
     "name": "stdout",
     "output_type": "stream",
     "text": [
      " \r"
     ]
    },
    {
     "data": {
      "application/vnd.jupyter.widget-view+json": {
       "model_id": "",
       "version_major": 2,
       "version_minor": 0
      },
      "text/plain": [
       "HBox(children=(IntProgress(value=0, description='TCGA-US-A77G-11A-01-TSA.18AC9F41-1554-4C39-BDA0-2D139AE487AD.…"
      ]
     },
     "metadata": {},
     "output_type": "display_data"
    },
    {
     "name": "stdout",
     "output_type": "stream",
     "text": [
      " \r"
     ]
    },
    {
     "data": {
      "application/vnd.jupyter.widget-view+json": {
       "model_id": "",
       "version_major": 2,
       "version_minor": 0
      },
      "text/plain": [
       "HBox(children=(IntProgress(value=0, description='TCGA-IB-7644-01A-01-TS1.8fcd72ca-6fb6-4c0a-9dca-9c13bc4272e8.…"
      ]
     },
     "metadata": {},
     "output_type": "display_data"
    },
    {
     "name": "stdout",
     "output_type": "stream",
     "text": [
      " \r"
     ]
    },
    {
     "data": {
      "application/vnd.jupyter.widget-view+json": {
       "model_id": "",
       "version_major": 2,
       "version_minor": 0
      },
      "text/plain": [
       "HBox(children=(IntProgress(value=0, description='TCGA-HV-A5A3-11A-01-TS1.29B3EF24-5DA2-4353-848D-7E5B63A1C226.…"
      ]
     },
     "metadata": {},
     "output_type": "display_data"
    },
    {
     "name": "stdout",
     "output_type": "stream",
     "text": [
      "OK\n",
      "\n",
      "Time: 38.04s\n",
      "Speed: 2.79MB/s\n",
      "--------------------------------------------------------------------------------\n",
      "\n",
      "Running test...\n",
      "\n",
      "\tdataset: dataset_2.csv\n",
      "\ttool: api\n",
      "\tstream: False\n",
      "\titerative: False\n",
      "\n",
      "Number of files:        4\n",
      "Avg size (MB):      26.54\n",
      "Total size (MB):   106.18\n",
      "\n",
      "OK\n",
      "\n",
      "Time: 28.52s\n",
      "Speed: 3.72MB/s\n",
      "--------------------------------------------------------------------------------\n",
      "\n",
      "Running test...\n",
      "\n",
      "\tdataset: dataset_2.csv\n",
      "\ttool: api\n",
      "\tstream: False\n",
      "\titerative: True\n",
      "\n",
      "Number of files:        4\n",
      "Avg size (MB):      26.54\n",
      "Total size (MB):   106.18\n",
      "\n"
     ]
    },
    {
     "data": {
      "application/vnd.jupyter.widget-view+json": {
       "model_id": "e2558b09891b4d7390c30a9ca7067021",
       "version_major": 2,
       "version_minor": 0
      },
      "text/plain": [
       "HBox(children=(IntProgress(value=0, description='Files', max=4, style=ProgressStyle(description_width='initial…"
      ]
     },
     "metadata": {},
     "output_type": "display_data"
    },
    {
     "name": "stdout",
     "output_type": "stream",
     "text": [
      "OK\n",
      "\n",
      "Time: 41.77s\n",
      "Speed: 2.54MB/s\n",
      "--------------------------------------------------------------------------------\n",
      "\n",
      "Running test...\n",
      "\n",
      "\tdataset: dataset_3.csv\n",
      "\ttool: gdc\n",
      "\n",
      "Number of files:        4\n",
      "Avg size (MB):     199.11\n",
      "Total size (MB):   796.45\n",
      "\n",
      "100% [#############################################] Time: 0:00:40   4.92 MB/s \n",
      "100% [#############################################] Time: 0:00:37   5.33 MB/s \n",
      "100% [#############################################] Time: 0:00:38   5.25 MB/s \n",
      "100% [#############################################] Time: 0:00:39   5.06 MB/s \n",
      "\u001b[32mSuccessfully downloaded\u001b[0m: 4\n",
      "\n",
      "OK\n",
      "\n",
      "Time: 163.97s\n",
      "Speed: 4.86MB/s\n",
      "--------------------------------------------------------------------------------\n",
      "\n",
      "Running test...\n",
      "\n",
      "\tdataset: dataset_3.csv\n",
      "\ttool: api\n",
      "\tstream: True\n",
      "\titerative: False\n",
      "\n",
      "Number of files:        4\n",
      "Avg size (MB):     199.11\n",
      "Total size (MB):   796.45\n",
      "\n",
      " \r"
     ]
    },
    {
     "data": {
      "application/vnd.jupyter.widget-view+json": {
       "model_id": "",
       "version_major": 2,
       "version_minor": 0
      },
      "text/plain": [
       "HBox(children=(IntProgress(value=0, description='gdc_download_20190425_015351.222525.tar.gz', max=627358, styl…"
      ]
     },
     "metadata": {},
     "output_type": "display_data"
    },
    {
     "name": "stdout",
     "output_type": "stream",
     "text": [
      "OK\n",
      "\n",
      "Time: 186.29s\n",
      "Speed: 4.28MB/s\n",
      "--------------------------------------------------------------------------------\n",
      "\n",
      "Running test...\n",
      "\n",
      "\tdataset: dataset_3.csv\n",
      "\ttool: api\n",
      "\tstream: True\n",
      "\titerative: True\n",
      "\n",
      "Number of files:        4\n",
      "Avg size (MB):     199.11\n",
      "Total size (MB):   796.45\n",
      "\n"
     ]
    },
    {
     "data": {
      "application/vnd.jupyter.widget-view+json": {
       "model_id": "d6eb71efc9cc46f59ebce3cc7b850810",
       "version_major": 2,
       "version_minor": 0
      },
      "text/plain": [
       "HBox(children=(IntProgress(value=0, description='Files', max=4, style=ProgressStyle(description_width='initial…"
      ]
     },
     "metadata": {},
     "output_type": "display_data"
    },
    {
     "name": "stdout",
     "output_type": "stream",
     "text": [
      " \r"
     ]
    },
    {
     "data": {
      "application/vnd.jupyter.widget-view+json": {
       "model_id": "",
       "version_major": 2,
       "version_minor": 0
      },
      "text/plain": [
       "HBox(children=(IntProgress(value=0, description='TCGA-FZ-5920-01A-01-TS1.ed875f57-3afb-4d20-8e2d-e250ddb6c462.…"
      ]
     },
     "metadata": {},
     "output_type": "display_data"
    },
    {
     "name": "stdout",
     "output_type": "stream",
     "text": [
      " \r"
     ]
    },
    {
     "data": {
      "application/vnd.jupyter.widget-view+json": {
       "model_id": "",
       "version_major": 2,
       "version_minor": 0
      },
      "text/plain": [
       "HBox(children=(IntProgress(value=0, description='TCGA-3A-A9I9-01A-01-TS1.B7DF9D8A-653C-4748-8B02-5FDCB3ED9EB6.…"
      ]
     },
     "metadata": {},
     "output_type": "display_data"
    },
    {
     "name": "stdout",
     "output_type": "stream",
     "text": [
      " \r"
     ]
    },
    {
     "data": {
      "application/vnd.jupyter.widget-view+json": {
       "model_id": "",
       "version_major": 2,
       "version_minor": 0
      },
      "text/plain": [
       "HBox(children=(IntProgress(value=0, description='TCGA-2J-AAB8-01A-01-TSA.62840521-53CE-4FE7-B653-892E62CFC996.…"
      ]
     },
     "metadata": {},
     "output_type": "display_data"
    },
    {
     "name": "stdout",
     "output_type": "stream",
     "text": [
      " \r"
     ]
    },
    {
     "data": {
      "application/vnd.jupyter.widget-view+json": {
       "model_id": "",
       "version_major": 2,
       "version_minor": 0
      },
      "text/plain": [
       "HBox(children=(IntProgress(value=0, description='TCGA-2J-AABA-01A-02-TS2.5D2E8749-33EE-40B8-8D84-591FC71EBE03.…"
      ]
     },
     "metadata": {},
     "output_type": "display_data"
    },
    {
     "name": "stdout",
     "output_type": "stream",
     "text": [
      "OK\n",
      "\n",
      "Time: 311.05s\n",
      "Speed: 2.56MB/s\n",
      "--------------------------------------------------------------------------------\n",
      "\n",
      "Running test...\n",
      "\n",
      "\tdataset: dataset_3.csv\n",
      "\ttool: api\n",
      "\tstream: False\n",
      "\titerative: False\n",
      "\n",
      "Number of files:        4\n",
      "Avg size (MB):     199.11\n",
      "Total size (MB):   796.45\n",
      "\n",
      "OK\n",
      "\n",
      "Time: 249.02s\n",
      "Speed: 3.2MB/s\n",
      "--------------------------------------------------------------------------------\n",
      "\n",
      "Running test...\n",
      "\n",
      "\tdataset: dataset_3.csv\n",
      "\ttool: api\n",
      "\tstream: False\n",
      "\titerative: True\n",
      "\n",
      "Number of files:        4\n",
      "Avg size (MB):     199.11\n",
      "Total size (MB):   796.45\n",
      "\n"
     ]
    },
    {
     "data": {
      "application/vnd.jupyter.widget-view+json": {
       "model_id": "b1cd95e4605b407bb455a3662306954d",
       "version_major": 2,
       "version_minor": 0
      },
      "text/plain": [
       "HBox(children=(IntProgress(value=0, description='Files', max=4, style=ProgressStyle(description_width='initial…"
      ]
     },
     "metadata": {},
     "output_type": "display_data"
    },
    {
     "name": "stdout",
     "output_type": "stream",
     "text": [
      "OK\n",
      "\n",
      "Time: 320.47s\n",
      "Speed: 2.49MB/s\n",
      "--------------------------------------------------------------------------------\n",
      "\n"
     ]
    }
   ],
   "source": [
    "for test in tests:\n",
    "    \n",
    "    results = run_test(test)\n",
    "\n",
    "    clear_dir(TMP_DIR)\n",
    "\n",
    "    with open(RESULTS_FILE, 'a') as f:\n",
    "        f.write('|'.join([str(results.get(x, '')) for x in RESULTS_FIELDS]) + '\\n')"
   ]
  },
  {
   "cell_type": "code",
   "execution_count": null,
   "metadata": {},
   "outputs": [],
   "source": []
  }
 ],
 "metadata": {
  "kernelspec": {
   "display_name": "Python 3",
   "language": "python",
   "name": "python3"
  },
  "language_info": {
   "codemirror_mode": {
    "name": "ipython",
    "version": 3
   },
   "file_extension": ".py",
   "mimetype": "text/x-python",
   "name": "python",
   "nbconvert_exporter": "python",
   "pygments_lexer": "ipython3",
   "version": "3.7.1"
  }
 },
 "nbformat": 4,
 "nbformat_minor": 2
}
