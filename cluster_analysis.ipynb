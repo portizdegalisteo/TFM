{
 "cells": [
  {
   "cell_type": "code",
   "execution_count": 1,
   "metadata": {},
   "outputs": [],
   "source": [
    "%load_ext autoreload\n",
    "%autoreload 2"
   ]
  },
  {
   "cell_type": "code",
   "execution_count": 2,
   "metadata": {},
   "outputs": [],
   "source": [
    "%matplotlib inline"
   ]
  },
  {
   "cell_type": "code",
   "execution_count": 3,
   "metadata": {},
   "outputs": [],
   "source": [
    "import yaml\n",
    "import os"
   ]
  },
  {
   "cell_type": "code",
   "execution_count": 4,
   "metadata": {},
   "outputs": [],
   "source": [
    "import pandas as pd"
   ]
  },
  {
   "cell_type": "code",
   "execution_count": 5,
   "metadata": {},
   "outputs": [],
   "source": [
    "from sklearn.decomposition import PCA\n",
    "from sklearn.manifold import TSNE\n",
    "\n",
    "from sklearn.cluster import KMeans"
   ]
  },
  {
   "cell_type": "code",
   "execution_count": 6,
   "metadata": {},
   "outputs": [
    {
     "name": "stderr",
     "output_type": "stream",
     "text": [
      "Using TensorFlow backend.\n"
     ]
    }
   ],
   "source": [
    "from utils import plot_paired_imgs\n",
    "from utils import plot_sample_imgs\n",
    "from utils import read_images\n",
    "\n",
    "from model.cae import CAE"
   ]
  },
  {
   "cell_type": "code",
   "execution_count": 7,
   "metadata": {},
   "outputs": [],
   "source": [
    "from keras.preprocessing.image import ImageDataGenerator"
   ]
  },
  {
   "cell_type": "markdown",
   "metadata": {},
   "source": [
    "## Read data"
   ]
  },
  {
   "cell_type": "code",
   "execution_count": 8,
   "metadata": {},
   "outputs": [
    {
     "name": "stderr",
     "output_type": "stream",
     "text": [
      "/usr/local/lib/python3.5/dist-packages/ipykernel_launcher.py:2: YAMLLoadWarning: calling yaml.load() without Loader=... is deprecated, as the default Loader is unsafe. Please read https://msg.pyyaml.org/load for full details.\n",
      "  \n"
     ]
    }
   ],
   "source": [
    "with open('conf/user_conf.yaml', 'r') as f:\n",
    "    conf = yaml.load(f)"
   ]
  },
  {
   "cell_type": "code",
   "execution_count": 9,
   "metadata": {},
   "outputs": [],
   "source": [
    "patches_path = os.path.join(conf['data_path'], 'slides', 'patches')\n",
    "image_size = conf['wsi']['patch_size']"
   ]
  },
  {
   "cell_type": "code",
   "execution_count": 11,
   "metadata": {},
   "outputs": [],
   "source": [
    "train_df = pd.read_csv(os.path.join(conf['data_path'], 'train.csv'), sep='|')\n",
    "test_df = pd.read_csv(os.path.join(conf['data_path'], 'test.csv'), sep='|')"
   ]
  },
  {
   "cell_type": "code",
   "execution_count": 13,
   "metadata": {},
   "outputs": [
    {
     "data": {
      "text/html": [
       "<div>\n",
       "<style scoped>\n",
       "    .dataframe tbody tr th:only-of-type {\n",
       "        vertical-align: middle;\n",
       "    }\n",
       "\n",
       "    .dataframe tbody tr th {\n",
       "        vertical-align: top;\n",
       "    }\n",
       "\n",
       "    .dataframe thead th {\n",
       "        text-align: right;\n",
       "    }\n",
       "</style>\n",
       "<table border=\"1\" class=\"dataframe\">\n",
       "  <thead>\n",
       "    <tr style=\"text-align: right;\">\n",
       "      <th></th>\n",
       "      <th>filename</th>\n",
       "      <th>slide_id</th>\n",
       "      <th>case_id</th>\n",
       "      <th>sample_id</th>\n",
       "      <th>disease_type</th>\n",
       "      <th>sample_type</th>\n",
       "      <th>percent_normal_cells</th>\n",
       "      <th>percent_stromal_cells</th>\n",
       "      <th>percent_tumor_cells</th>\n",
       "      <th>percent_tumor_nuclei</th>\n",
       "    </tr>\n",
       "  </thead>\n",
       "  <tbody>\n",
       "    <tr>\n",
       "      <th>0</th>\n",
       "      <td>TCGA-HZ-8317-01A-01-TS1_42_07.png</td>\n",
       "      <td>TCGA-HZ-8317-01A-01-TS1</td>\n",
       "      <td>TCGA-HZ-8317</td>\n",
       "      <td>TCGA-HZ-8317-01A</td>\n",
       "      <td>Ductal and Lobular Neoplasms</td>\n",
       "      <td>Primary Tumor</td>\n",
       "      <td>26.0</td>\n",
       "      <td>42.0</td>\n",
       "      <td>32.0</td>\n",
       "      <td>10.0</td>\n",
       "    </tr>\n",
       "    <tr>\n",
       "      <th>1</th>\n",
       "      <td>TCGA-FZ-5920-01A-01-BS1_047_086.png</td>\n",
       "      <td>TCGA-FZ-5920-01A-01-BS1</td>\n",
       "      <td>TCGA-FZ-5920</td>\n",
       "      <td>TCGA-FZ-5920-01A</td>\n",
       "      <td>Ductal and Lobular Neoplasms</td>\n",
       "      <td>Primary Tumor</td>\n",
       "      <td>5.0</td>\n",
       "      <td>40.0</td>\n",
       "      <td>55.0</td>\n",
       "      <td>75.0</td>\n",
       "    </tr>\n",
       "    <tr>\n",
       "      <th>2</th>\n",
       "      <td>TCGA-F2-6879-01A-01-TS1_35_47.png</td>\n",
       "      <td>TCGA-F2-6879-01A-01-TS1</td>\n",
       "      <td>TCGA-F2-6879</td>\n",
       "      <td>TCGA-F2-6879-01A</td>\n",
       "      <td>Adenomas and Adenocarcinomas</td>\n",
       "      <td>Primary Tumor</td>\n",
       "      <td>NaN</td>\n",
       "      <td>40.0</td>\n",
       "      <td>55.0</td>\n",
       "      <td>80.0</td>\n",
       "    </tr>\n",
       "  </tbody>\n",
       "</table>\n",
       "</div>"
      ],
      "text/plain": [
       "                              filename                 slide_id       case_id  \\\n",
       "0    TCGA-HZ-8317-01A-01-TS1_42_07.png  TCGA-HZ-8317-01A-01-TS1  TCGA-HZ-8317   \n",
       "1  TCGA-FZ-5920-01A-01-BS1_047_086.png  TCGA-FZ-5920-01A-01-BS1  TCGA-FZ-5920   \n",
       "2    TCGA-F2-6879-01A-01-TS1_35_47.png  TCGA-F2-6879-01A-01-TS1  TCGA-F2-6879   \n",
       "\n",
       "          sample_id                  disease_type    sample_type  \\\n",
       "0  TCGA-HZ-8317-01A  Ductal and Lobular Neoplasms  Primary Tumor   \n",
       "1  TCGA-FZ-5920-01A  Ductal and Lobular Neoplasms  Primary Tumor   \n",
       "2  TCGA-F2-6879-01A  Adenomas and Adenocarcinomas  Primary Tumor   \n",
       "\n",
       "   percent_normal_cells  percent_stromal_cells  percent_tumor_cells  \\\n",
       "0                  26.0                   42.0                 32.0   \n",
       "1                   5.0                   40.0                 55.0   \n",
       "2                   NaN                   40.0                 55.0   \n",
       "\n",
       "   percent_tumor_nuclei  \n",
       "0                  10.0  \n",
       "1                  75.0  \n",
       "2                  80.0  "
      ]
     },
     "execution_count": 13,
     "metadata": {},
     "output_type": "execute_result"
    }
   ],
   "source": [
    "test_df.head(3)"
   ]
  },
  {
   "cell_type": "code",
   "execution_count": 14,
   "metadata": {},
   "outputs": [
    {
     "name": "stdout",
     "output_type": "stream",
     "text": [
      "Found 58948 images.\n",
      "Found 13317 images.\n"
     ]
    }
   ],
   "source": [
    "imgen = ImageDataGenerator(rescale=1/255)\n",
    "\n",
    "train_generator = imgen.flow_from_dataframe(train_df, directory=patches_path, x_col='filename', \n",
    "                                            target_size=(image_size, image_size), color_mode='rgb', class_mode=None, shuffle=False)\n",
    "\n",
    "test_generator = imgen.flow_from_dataframe(test_df, directory=patches_path, x_col='filename', \n",
    "                                           target_size=(image_size, image_size), color_mode='rgb', class_mode=None, shuffle=False)"
   ]
  },
  {
   "cell_type": "markdown",
   "metadata": {},
   "source": [
    "## CAE Predictions "
   ]
  },
  {
   "cell_type": "markdown",
   "metadata": {},
   "source": [
    "__Load CAE__"
   ]
  },
  {
   "cell_type": "code",
   "execution_count": 15,
   "metadata": {},
   "outputs": [],
   "source": [
    "model = 'model_test'"
   ]
  },
  {
   "cell_type": "code",
   "execution_count": 16,
   "metadata": {},
   "outputs": [
    {
     "data": {
      "text/plain": [
       "'/home/jupyter/data/modelling/models/model_test'"
      ]
     },
     "execution_count": 16,
     "metadata": {},
     "output_type": "execute_result"
    }
   ],
   "source": [
    "os.path.join(conf['data_path'], 'modelling', 'models', model)"
   ]
  },
  {
   "cell_type": "code",
   "execution_count": 18,
   "metadata": {},
   "outputs": [
    {
     "name": "stdout",
     "output_type": "stream",
     "text": [
      "WARNING:tensorflow:From /usr/local/lib/python3.5/dist-packages/tensorflow/python/framework/op_def_library.py:263: colocate_with (from tensorflow.python.framework.ops) is deprecated and will be removed in a future version.\n",
      "Instructions for updating:\n",
      "Colocations handled automatically by placer.\n"
     ]
    },
    {
     "name": "stderr",
     "output_type": "stream",
     "text": [
      "/home/jupyter/TFM/model/cae.py:80: YAMLLoadWarning: calling yaml.load() without Loader=... is deprecated, as the default Loader is unsafe. Please read https://msg.pyyaml.org/load for full details.\n",
      "  params = yaml.load(f)\n"
     ]
    }
   ],
   "source": [
    "cae = CAE(path=os.path.join(conf['data_path'], 'models', model), load=True)"
   ]
  },
  {
   "cell_type": "code",
   "execution_count": null,
   "metadata": {},
   "outputs": [],
   "source": [
    "test_enc = cae.encoder.p"
   ]
  }
 ],
 "metadata": {
  "kernelspec": {
   "display_name": "Python 3",
   "language": "python",
   "name": "python3"
  },
  "language_info": {
   "codemirror_mode": {
    "name": "ipython",
    "version": 3
   },
   "file_extension": ".py",
   "mimetype": "text/x-python",
   "name": "python",
   "nbconvert_exporter": "python",
   "pygments_lexer": "ipython3",
   "version": "3.5.3"
  }
 },
 "nbformat": 4,
 "nbformat_minor": 2
}
