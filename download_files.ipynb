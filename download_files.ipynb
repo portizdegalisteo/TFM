{
 "cells": [
  {
   "cell_type": "code",
   "execution_count": 31,
   "metadata": {},
   "outputs": [
    {
     "name": "stdout",
     "output_type": "stream",
     "text": [
      "The autoreload extension is already loaded. To reload it, use:\n",
      "  %reload_ext autoreload\n"
     ]
    }
   ],
   "source": [
    "%load_ext autoreload\n",
    "%autoreload 2"
   ]
  },
  {
   "cell_type": "code",
   "execution_count": 32,
   "metadata": {},
   "outputs": [],
   "source": [
    "import requests\n",
    "import yaml\n",
    "import json\n",
    "import os\n",
    "import pandas as pd\n",
    "import gzip\n",
    "import shutil"
   ]
  },
  {
   "cell_type": "code",
   "execution_count": 33,
   "metadata": {},
   "outputs": [],
   "source": [
    "from gdc.download import api_download_iterative"
   ]
  },
  {
   "cell_type": "markdown",
   "metadata": {},
   "source": [
    "Config"
   ]
  },
  {
   "cell_type": "code",
   "execution_count": 22,
   "metadata": {},
   "outputs": [
    {
     "name": "stdout",
     "output_type": "stream",
     "text": [
      "__init__.py  user_conf.yaml\n"
     ]
    }
   ],
   "source": [
    "%ls conf/"
   ]
  },
  {
   "cell_type": "code",
   "execution_count": 23,
   "metadata": {},
   "outputs": [],
   "source": [
    "with open('conf/user_conf.yaml', 'r') as f:\n",
    "    conf = yaml.load(f, Loader=yaml.FullLoader)"
   ]
  },
  {
   "cell_type": "markdown",
   "metadata": {},
   "source": [
    "Paths"
   ]
  },
  {
   "cell_type": "code",
   "execution_count": 24,
   "metadata": {},
   "outputs": [],
   "source": [
    "slides_metadata_file = os.path.join(conf['data_path'], 'slides_metadata.csv')\n",
    "rnaseq_metadata_file = os.path.join(conf['data_path'], 'rnaseq_metadata.csv')"
   ]
  },
  {
   "cell_type": "code",
   "execution_count": 25,
   "metadata": {},
   "outputs": [],
   "source": [
    "slides_path = os.path.join(conf['data_path'], 'slides', 'svs')\n",
    "if not os.path.exists(slides_path):\n",
    "    os.mkdir(slides_path)"
   ]
  },
  {
   "cell_type": "code",
   "execution_count": 26,
   "metadata": {},
   "outputs": [],
   "source": [
    "rnaseq_path = os.path.join(conf['data_path'], 'rnaseq')\n",
    "\n",
    "if not os.path.exists(rnaseq_path):\n",
    "    os.mkdir(rnaseq_path)"
   ]
  },
  {
   "cell_type": "markdown",
   "metadata": {},
   "source": [
    "# Download Files"
   ]
  },
  {
   "cell_type": "markdown",
   "metadata": {},
   "source": [
    "Read metadata"
   ]
  },
  {
   "cell_type": "code",
   "execution_count": null,
   "metadata": {},
   "outputs": [],
   "source": [
    "slides_df = pd.read_csv(slides_metadata_file, sep='|')\n",
    "slides_df = slides_df[['file_name', 'file_id', 'file_size', 'sample_id', 'experimental_strategy']]\n",
    "slides_df.head(3)"
   ]
  },
  {
   "cell_type": "code",
   "execution_count": null,
   "metadata": {},
   "outputs": [],
   "source": [
    "rnaseq_df = pd.read_csv(rnaseq_metadata_file, sep='|')\n",
    "rnaseq_df = rnaseq_df[['file_name', 'file_id', 'file_size', 'sample_id', 'workflow_type']]\n",
    "rnaseq_df.head(3)"
   ]
  },
  {
   "cell_type": "markdown",
   "metadata": {},
   "source": [
    "## Slides"
   ]
  },
  {
   "cell_type": "markdown",
   "metadata": {},
   "source": [
    "*Keep only the ones with RNASeq related data?*\n",
    "*Keep only tissue slides?*"
   ]
  },
  {
   "cell_type": "markdown",
   "metadata": {},
   "source": [
    "Number of files and count"
   ]
  },
  {
   "cell_type": "code",
   "execution_count": null,
   "metadata": {},
   "outputs": [],
   "source": [
    "summary = slides_df.groupby('experimental_strategy').agg({'file_name': 'size', 'file_size': 'sum'})\n",
    "summary = summary.rename(columns={'file_name': 'count', 'file_size': 'total_size (gb)'})\n",
    "summary['total_size (gb)'] = round(summary['total_size (gb)'] / 1000, 2)\n",
    "\n",
    "summary"
   ]
  },
  {
   "cell_type": "code",
   "execution_count": null,
   "metadata": {},
   "outputs": [],
   "source": [
    "rna_seq_samples = rnaseq_df['sample_id'].unique()"
   ]
  },
  {
   "cell_type": "code",
   "execution_count": null,
   "metadata": {},
   "outputs": [],
   "source": [
    "slides_df = slides_df[slides_df['sample_id'].isin(rna_seq_samples)]"
   ]
  },
  {
   "cell_type": "code",
   "execution_count": null,
   "metadata": {},
   "outputs": [],
   "source": [
    "summary = slides_df.groupby('experimental_strategy').agg({'file_name': 'size', 'file_size': 'sum'})\n",
    "summary = summary.rename(columns={'file_name': 'count', 'file_size': 'total_size (gb)'})\n",
    "summary['total_size (gb)'] = round(summary['total_size (gb)'] / 1000, 2)\n",
    "\n",
    "summary"
   ]
  },
  {
   "cell_type": "code",
   "execution_count": null,
   "metadata": {},
   "outputs": [],
   "source": [
    "# Download only failed\n",
    "files_downloaded = os.listdir(slides_path)\n",
    "slides_df = slides_df[-slides_df['file_name'].isin(files_downloaded)]"
   ]
  },
  {
   "cell_type": "code",
   "execution_count": null,
   "metadata": {},
   "outputs": [],
   "source": [
    "summary = slides_df.groupby('experimental_strategy').agg({'file_name': 'size', 'file_size': 'sum'})\n",
    "summary = summary.rename(columns={'file_name': 'count', 'file_size': 'total_size (gb)'})\n",
    "summary['total_size (gb)'] = round(summary['total_size (gb)'] / 1000, 2)\n",
    "\n",
    "summary"
   ]
  },
  {
   "cell_type": "code",
   "execution_count": null,
   "metadata": {},
   "outputs": [],
   "source": [
    "api_download_iterative(slides_df, slides_path, multiprocess=4)"
   ]
  },
  {
   "cell_type": "markdown",
   "metadata": {},
   "source": [
    "## RNA-Seq"
   ]
  },
  {
   "cell_type": "code",
   "execution_count": null,
   "metadata": {},
   "outputs": [],
   "source": [
    "summary = rnaseq_df.groupby('workflow_type').size()\n",
    "summary.reset_index()"
   ]
  },
  {
   "cell_type": "code",
   "execution_count": null,
   "metadata": {},
   "outputs": [],
   "source": [
    "summary = rnaseq_df.groupby('workflow_type').agg({'file_name': 'size', 'file_size': 'sum'})\n",
    "summary = summary.rename(columns={'file_name': 'count', 'file_size': 'total_size (gb)'})\n",
    "summary['total_size (gb)'] = round(summary['total_size (gb)'] / 1000, 2)\n",
    "\n",
    "summary"
   ]
  },
  {
   "cell_type": "code",
   "execution_count": null,
   "metadata": {},
   "outputs": [],
   "source": [
    "slides_samples = slides_df['sample_id'].unique()"
   ]
  },
  {
   "cell_type": "code",
   "execution_count": null,
   "metadata": {},
   "outputs": [],
   "source": [
    "rnaseq_df = rnaseq_df[rnaseq_df['sample_id'].isin(slides_samples)]"
   ]
  },
  {
   "cell_type": "code",
   "execution_count": null,
   "metadata": {},
   "outputs": [],
   "source": [
    "summary = rnaseq_df.groupby('workflow_type').agg({'file_name': 'size', 'file_size': 'sum'})\n",
    "summary = summary.rename(columns={'file_name': 'count', 'file_size': 'total_size (gb)'})\n",
    "summary['total_size (gb)'] = round(summary['total_size (gb)'] / 1000, 2)\n",
    "\n",
    "summary"
   ]
  },
  {
   "cell_type": "code",
   "execution_count": null,
   "metadata": {
    "collapsed": true
   },
   "outputs": [],
   "source": [
    "files = api_download_iterative(rnaseq_df, rnaseq_path, multiprocess=8)"
   ]
  },
  {
   "cell_type": "code",
   "execution_count": null,
   "metadata": {},
   "outputs": [],
   "source": [
    "def gunzip(source_filepath, dest_filepath):\n",
    "    with gzip.open(source_filepath, 'rb') as s_file:\n",
    "        with open(dest_filepath, 'wb') as d_file:\n",
    "            shutil.copyfileobj(s_file, d_file)"
   ]
  },
  {
   "cell_type": "code",
   "execution_count": null,
   "metadata": {},
   "outputs": [],
   "source": [
    "for file_name in files:\n",
    "    \n",
    "    source_filepath = os.path.join(rnaseq_path, file_name)\n",
    "    dest_filepath = re.sub('\\.gz$', '', source_filepath)\n",
    "    \n",
    "    gunzip(source_filepath, dest_filepath)\n",
    "    os.remove(source_filepath)"
   ]
  }
 ],
 "metadata": {
  "kernelspec": {
   "display_name": "Python 3",
   "language": "python",
   "name": "python3"
  },
  "language_info": {
   "codemirror_mode": {
    "name": "ipython",
    "version": 3
   },
   "file_extension": ".py",
   "mimetype": "text/x-python",
   "name": "python",
   "nbconvert_exporter": "python",
   "pygments_lexer": "ipython3",
   "version": "3.5.3"
  }
 },
 "nbformat": 4,
 "nbformat_minor": 2
}
