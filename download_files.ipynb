{
 "cells": [
  {
   "cell_type": "code",
   "execution_count": 50,
   "metadata": {},
   "outputs": [
    {
     "name": "stdout",
     "output_type": "stream",
     "text": [
      "The autoreload extension is already loaded. To reload it, use:\n",
      "  %reload_ext autoreload\n"
     ]
    }
   ],
   "source": [
    "%load_ext autoreload\n",
    "%autoreload 2"
   ]
  },
  {
   "cell_type": "code",
   "execution_count": 51,
   "metadata": {},
   "outputs": [],
   "source": [
    "import requests\n",
    "import yaml\n",
    "import json\n",
    "import os\n",
    "import pandas as pd\n",
    "import gzip\n",
    "import shutil"
   ]
  },
  {
   "cell_type": "code",
   "execution_count": 52,
   "metadata": {},
   "outputs": [],
   "source": [
    "from gdc.download import api_download_iterative"
   ]
  },
  {
   "cell_type": "markdown",
   "metadata": {},
   "source": [
    "Config"
   ]
  },
  {
   "cell_type": "code",
   "execution_count": 53,
   "metadata": {},
   "outputs": [],
   "source": [
    "with open('conf/user_conf.yaml', 'r') as f:\n",
    "    conf = yaml.load(f, Loader=yaml.FullLoader)"
   ]
  },
  {
   "cell_type": "markdown",
   "metadata": {},
   "source": [
    "Paths"
   ]
  },
  {
   "cell_type": "code",
   "execution_count": 54,
   "metadata": {},
   "outputs": [],
   "source": [
    "slides_metadata_file = os.path.join(conf['data_path'], 'slides_metadata.csv')\n",
    "rnaseq_metadata_file = os.path.join(conf['data_path'], 'rnaseq_metadata.csv')"
   ]
  },
  {
   "cell_type": "code",
   "execution_count": 55,
   "metadata": {},
   "outputs": [],
   "source": [
    "slides_path = os.path.join(conf['data_path'], 'slides', 'svs')\n",
    "if not os.path.exists(slides_path):\n",
    "    os.mkdir(slides_path)"
   ]
  },
  {
   "cell_type": "code",
   "execution_count": 56,
   "metadata": {},
   "outputs": [],
   "source": [
    "rnaseq_path = os.path.join(conf['data_path'], 'rnaseq')\n",
    "\n",
    "if not os.path.exists(rnaseq_path):\n",
    "    os.mkdir(rnaseq_path)"
   ]
  },
  {
   "cell_type": "markdown",
   "metadata": {},
   "source": [
    "# Download Files"
   ]
  },
  {
   "cell_type": "markdown",
   "metadata": {},
   "source": [
    "Read metadata"
   ]
  },
  {
   "cell_type": "code",
   "execution_count": 57,
   "metadata": {},
   "outputs": [
    {
     "data": {
      "text/html": [
       "<div>\n",
       "<style scoped>\n",
       "    .dataframe tbody tr th:only-of-type {\n",
       "        vertical-align: middle;\n",
       "    }\n",
       "\n",
       "    .dataframe tbody tr th {\n",
       "        vertical-align: top;\n",
       "    }\n",
       "\n",
       "    .dataframe thead th {\n",
       "        text-align: right;\n",
       "    }\n",
       "</style>\n",
       "<table border=\"1\" class=\"dataframe\">\n",
       "  <thead>\n",
       "    <tr style=\"text-align: right;\">\n",
       "      <th></th>\n",
       "      <th>file_name</th>\n",
       "      <th>file_id</th>\n",
       "      <th>file_size</th>\n",
       "      <th>sample_id</th>\n",
       "      <th>experimental_strategy</th>\n",
       "    </tr>\n",
       "  </thead>\n",
       "  <tbody>\n",
       "    <tr>\n",
       "      <th>0</th>\n",
       "      <td>TCGA-2L-AAQM-11A-01-TSA.svs</td>\n",
       "      <td>ddce0ab5-47b7-43c2-8d67-3d50c48d8ae7</td>\n",
       "      <td>60.99</td>\n",
       "      <td>TCGA-2L-AAQM-11A</td>\n",
       "      <td>Tissue Slide</td>\n",
       "    </tr>\n",
       "    <tr>\n",
       "      <th>1</th>\n",
       "      <td>TCGA-HZ-A49I-01A-01-TS1.svs</td>\n",
       "      <td>7ec5c9d0-8c22-4e30-bae8-605c3dcfe744</td>\n",
       "      <td>293.72</td>\n",
       "      <td>TCGA-HZ-A49I-01A</td>\n",
       "      <td>Tissue Slide</td>\n",
       "    </tr>\n",
       "    <tr>\n",
       "      <th>2</th>\n",
       "      <td>TCGA-3A-A9IZ-01A-01-TS1.svs</td>\n",
       "      <td>265adb6b-913e-490c-8cea-32d67c1440a2</td>\n",
       "      <td>166.95</td>\n",
       "      <td>TCGA-3A-A9IZ-01A</td>\n",
       "      <td>Tissue Slide</td>\n",
       "    </tr>\n",
       "  </tbody>\n",
       "</table>\n",
       "</div>"
      ],
      "text/plain": [
       "                     file_name                               file_id  \\\n",
       "0  TCGA-2L-AAQM-11A-01-TSA.svs  ddce0ab5-47b7-43c2-8d67-3d50c48d8ae7   \n",
       "1  TCGA-HZ-A49I-01A-01-TS1.svs  7ec5c9d0-8c22-4e30-bae8-605c3dcfe744   \n",
       "2  TCGA-3A-A9IZ-01A-01-TS1.svs  265adb6b-913e-490c-8cea-32d67c1440a2   \n",
       "\n",
       "   file_size         sample_id experimental_strategy  \n",
       "0      60.99  TCGA-2L-AAQM-11A          Tissue Slide  \n",
       "1     293.72  TCGA-HZ-A49I-01A          Tissue Slide  \n",
       "2     166.95  TCGA-3A-A9IZ-01A          Tissue Slide  "
      ]
     },
     "execution_count": 57,
     "metadata": {},
     "output_type": "execute_result"
    }
   ],
   "source": [
    "slides_df = pd.read_csv(slides_metadata_file, sep='|')\n",
    "slides_df = slides_df[['file_name', 'file_id', 'file_size', 'sample_id', 'experimental_strategy']]\n",
    "slides_df.head(3)"
   ]
  },
  {
   "cell_type": "code",
   "execution_count": 58,
   "metadata": {},
   "outputs": [
    {
     "data": {
      "text/html": [
       "<div>\n",
       "<style scoped>\n",
       "    .dataframe tbody tr th:only-of-type {\n",
       "        vertical-align: middle;\n",
       "    }\n",
       "\n",
       "    .dataframe tbody tr th {\n",
       "        vertical-align: top;\n",
       "    }\n",
       "\n",
       "    .dataframe thead th {\n",
       "        text-align: right;\n",
       "    }\n",
       "</style>\n",
       "<table border=\"1\" class=\"dataframe\">\n",
       "  <thead>\n",
       "    <tr style=\"text-align: right;\">\n",
       "      <th></th>\n",
       "      <th>file_name</th>\n",
       "      <th>file_id</th>\n",
       "      <th>file_size</th>\n",
       "      <th>sample_id</th>\n",
       "      <th>workflow_type</th>\n",
       "    </tr>\n",
       "  </thead>\n",
       "  <tbody>\n",
       "    <tr>\n",
       "      <th>0</th>\n",
       "      <td>TCGA-FB-AAPS-01A_HTSeq-FPKM-UQ.txt.gz</td>\n",
       "      <td>1e0be26b-da47-4e56-926c-9afc259a2bd0</td>\n",
       "      <td>0.53</td>\n",
       "      <td>TCGA-FB-AAPS-01A</td>\n",
       "      <td>HTSeq - FPKM-UQ</td>\n",
       "    </tr>\n",
       "    <tr>\n",
       "      <th>1</th>\n",
       "      <td>TCGA-FB-AAQ3-01A_HTSeq-FPKM-UQ.txt.gz</td>\n",
       "      <td>2803abb9-bf21-4b75-a3c9-687c87b75701</td>\n",
       "      <td>0.50</td>\n",
       "      <td>TCGA-FB-AAQ3-01A</td>\n",
       "      <td>HTSeq - FPKM-UQ</td>\n",
       "    </tr>\n",
       "    <tr>\n",
       "      <th>2</th>\n",
       "      <td>TCGA-HZ-8005-01A_HTSeq-Counts.txt.gz</td>\n",
       "      <td>4d98a852-c30a-437b-a214-ee81015d674b</td>\n",
       "      <td>0.25</td>\n",
       "      <td>TCGA-HZ-8005-01A</td>\n",
       "      <td>HTSeq - Counts</td>\n",
       "    </tr>\n",
       "  </tbody>\n",
       "</table>\n",
       "</div>"
      ],
      "text/plain": [
       "                               file_name  \\\n",
       "0  TCGA-FB-AAPS-01A_HTSeq-FPKM-UQ.txt.gz   \n",
       "1  TCGA-FB-AAQ3-01A_HTSeq-FPKM-UQ.txt.gz   \n",
       "2   TCGA-HZ-8005-01A_HTSeq-Counts.txt.gz   \n",
       "\n",
       "                                file_id  file_size         sample_id  \\\n",
       "0  1e0be26b-da47-4e56-926c-9afc259a2bd0       0.53  TCGA-FB-AAPS-01A   \n",
       "1  2803abb9-bf21-4b75-a3c9-687c87b75701       0.50  TCGA-FB-AAQ3-01A   \n",
       "2  4d98a852-c30a-437b-a214-ee81015d674b       0.25  TCGA-HZ-8005-01A   \n",
       "\n",
       "     workflow_type  \n",
       "0  HTSeq - FPKM-UQ  \n",
       "1  HTSeq - FPKM-UQ  \n",
       "2   HTSeq - Counts  "
      ]
     },
     "execution_count": 58,
     "metadata": {},
     "output_type": "execute_result"
    }
   ],
   "source": [
    "rnaseq_df = pd.read_csv(rnaseq_metadata_file, sep='|')\n",
    "rnaseq_df = rnaseq_df[['file_name', 'file_id', 'file_size', 'sample_id', 'workflow_type']]\n",
    "rnaseq_df.head(3)"
   ]
  },
  {
   "cell_type": "markdown",
   "metadata": {},
   "source": [
    "## Slides"
   ]
  },
  {
   "cell_type": "markdown",
   "metadata": {},
   "source": [
    "*Keep only the ones with RNASeq related data?*\n",
    "*Keep only tissue slides?*"
   ]
  },
  {
   "cell_type": "markdown",
   "metadata": {},
   "source": [
    "Number of files and count"
   ]
  },
  {
   "cell_type": "code",
   "execution_count": 59,
   "metadata": {},
   "outputs": [
    {
     "data": {
      "text/html": [
       "<div>\n",
       "<style scoped>\n",
       "    .dataframe tbody tr th:only-of-type {\n",
       "        vertical-align: middle;\n",
       "    }\n",
       "\n",
       "    .dataframe tbody tr th {\n",
       "        vertical-align: top;\n",
       "    }\n",
       "\n",
       "    .dataframe thead th {\n",
       "        text-align: right;\n",
       "    }\n",
       "</style>\n",
       "<table border=\"1\" class=\"dataframe\">\n",
       "  <thead>\n",
       "    <tr style=\"text-align: right;\">\n",
       "      <th></th>\n",
       "      <th>count</th>\n",
       "      <th>total_size (gb)</th>\n",
       "    </tr>\n",
       "    <tr>\n",
       "      <th>experimental_strategy</th>\n",
       "      <th></th>\n",
       "      <th></th>\n",
       "    </tr>\n",
       "  </thead>\n",
       "  <tbody>\n",
       "    <tr>\n",
       "      <th>Diagnostic Slide</th>\n",
       "      <td>209</td>\n",
       "      <td>244.53</td>\n",
       "    </tr>\n",
       "    <tr>\n",
       "      <th>Tissue Slide</th>\n",
       "      <td>257</td>\n",
       "      <td>57.48</td>\n",
       "    </tr>\n",
       "  </tbody>\n",
       "</table>\n",
       "</div>"
      ],
      "text/plain": [
       "                       count  total_size (gb)\n",
       "experimental_strategy                        \n",
       "Diagnostic Slide         209           244.53\n",
       "Tissue Slide             257            57.48"
      ]
     },
     "execution_count": 59,
     "metadata": {},
     "output_type": "execute_result"
    }
   ],
   "source": [
    "summary = slides_df.groupby('experimental_strategy').agg({'file_name': 'size', 'file_size': 'sum'})\n",
    "summary = summary.rename(columns={'file_name': 'count', 'file_size': 'total_size (gb)'})\n",
    "summary['total_size (gb)'] = round(summary['total_size (gb)'] / 1000, 2)\n",
    "\n",
    "summary"
   ]
  },
  {
   "cell_type": "code",
   "execution_count": 60,
   "metadata": {},
   "outputs": [],
   "source": [
    "rna_seq_samples = rnaseq_df['sample_id'].unique()"
   ]
  },
  {
   "cell_type": "markdown",
   "metadata": {},
   "source": [
    "Keep only the ones with rnaseq data"
   ]
  },
  {
   "cell_type": "code",
   "execution_count": 63,
   "metadata": {},
   "outputs": [],
   "source": [
    "# slides_df = slides_df[slides_df['sample_id'].isin(rna_seq_samples)]"
   ]
  },
  {
   "cell_type": "markdown",
   "metadata": {},
   "source": [
    "Keep only Tissue Slides"
   ]
  },
  {
   "cell_type": "code",
   "execution_count": null,
   "metadata": {},
   "outputs": [],
   "source": [
    "# slides_df = slides_df[slides_df['experimental_strategy'] == 'Tissue Slide']"
   ]
  },
  {
   "cell_type": "code",
   "execution_count": 64,
   "metadata": {},
   "outputs": [
    {
     "data": {
      "text/html": [
       "<div>\n",
       "<style scoped>\n",
       "    .dataframe tbody tr th:only-of-type {\n",
       "        vertical-align: middle;\n",
       "    }\n",
       "\n",
       "    .dataframe tbody tr th {\n",
       "        vertical-align: top;\n",
       "    }\n",
       "\n",
       "    .dataframe thead th {\n",
       "        text-align: right;\n",
       "    }\n",
       "</style>\n",
       "<table border=\"1\" class=\"dataframe\">\n",
       "  <thead>\n",
       "    <tr style=\"text-align: right;\">\n",
       "      <th></th>\n",
       "      <th>count</th>\n",
       "      <th>total_size (gb)</th>\n",
       "    </tr>\n",
       "    <tr>\n",
       "      <th>experimental_strategy</th>\n",
       "      <th></th>\n",
       "      <th></th>\n",
       "    </tr>\n",
       "  </thead>\n",
       "  <tbody>\n",
       "    <tr>\n",
       "      <th>Tissue Slide</th>\n",
       "      <td>257</td>\n",
       "      <td>57.48</td>\n",
       "    </tr>\n",
       "  </tbody>\n",
       "</table>\n",
       "</div>"
      ],
      "text/plain": [
       "                       count  total_size (gb)\n",
       "experimental_strategy                        \n",
       "Tissue Slide             257            57.48"
      ]
     },
     "execution_count": 64,
     "metadata": {},
     "output_type": "execute_result"
    }
   ],
   "source": [
    "summary = slides_df.groupby('experimental_strategy').agg({'file_name': 'size', 'file_size': 'sum'})\n",
    "summary = summary.rename(columns={'file_name': 'count', 'file_size': 'total_size (gb)'})\n",
    "summary['total_size (gb)'] = round(summary['total_size (gb)'] / 1000, 2)\n",
    "\n",
    "summary"
   ]
  },
  {
   "cell_type": "code",
   "execution_count": 65,
   "metadata": {},
   "outputs": [],
   "source": [
    "# Download only failed\n",
    "files_downloaded = os.listdir(slides_path)\n",
    "slides_df = slides_df[-slides_df['file_name'].isin(files_downloaded)]"
   ]
  },
  {
   "cell_type": "code",
   "execution_count": 67,
   "metadata": {},
   "outputs": [
    {
     "data": {
      "text/html": [
       "<div>\n",
       "<style scoped>\n",
       "    .dataframe tbody tr th:only-of-type {\n",
       "        vertical-align: middle;\n",
       "    }\n",
       "\n",
       "    .dataframe tbody tr th {\n",
       "        vertical-align: top;\n",
       "    }\n",
       "\n",
       "    .dataframe thead th {\n",
       "        text-align: right;\n",
       "    }\n",
       "</style>\n",
       "<table border=\"1\" class=\"dataframe\">\n",
       "  <thead>\n",
       "    <tr style=\"text-align: right;\">\n",
       "      <th></th>\n",
       "      <th>count</th>\n",
       "      <th>total_size (gb)</th>\n",
       "    </tr>\n",
       "    <tr>\n",
       "      <th>experimental_strategy</th>\n",
       "      <th></th>\n",
       "      <th></th>\n",
       "    </tr>\n",
       "  </thead>\n",
       "  <tbody>\n",
       "    <tr>\n",
       "      <th>Tissue Slide</th>\n",
       "      <td>48</td>\n",
       "      <td>5.68</td>\n",
       "    </tr>\n",
       "  </tbody>\n",
       "</table>\n",
       "</div>"
      ],
      "text/plain": [
       "                       count  total_size (gb)\n",
       "experimental_strategy                        \n",
       "Tissue Slide              48             5.68"
      ]
     },
     "execution_count": 67,
     "metadata": {},
     "output_type": "execute_result"
    }
   ],
   "source": [
    "summary = slides_df.groupby('experimental_strategy').agg({'file_name': 'size', 'file_size': 'sum'})\n",
    "summary = summary.rename(columns={'file_name': 'count', 'file_size': 'total_size (gb)'})\n",
    "summary['total_size (gb)'] = round(summary['total_size (gb)'] / 1000, 2)\n",
    "\n",
    "summary"
   ]
  },
  {
   "cell_type": "code",
   "execution_count": 68,
   "metadata": {},
   "outputs": [
    {
     "data": {
      "application/vnd.jupyter.widget-view+json": {
       "model_id": "dbca053475bc43d9bd37dc2c26c3ff73",
       "version_major": 2,
       "version_minor": 0
      },
      "text/plain": [
       "HBox(children=(IntProgress(value=0, description='Files', max=48, style=ProgressStyle(description_width='initia…"
      ]
     },
     "metadata": {},
     "output_type": "display_data"
    },
    {
     "name": "stdout",
     "output_type": "stream",
     "text": []
    },
    {
     "data": {
      "application/vnd.jupyter.widget-view+json": {
       "model_id": "",
       "version_major": 2,
       "version_minor": 0
      },
      "text/plain": [
       "HBox(children=(IntProgress(value=0, description='TCGA-L1-A7W4-11A-01-TSA.svs', max=131011, style=ProgressStyle…"
      ]
     },
     "metadata": {},
     "output_type": "display_data"
    },
    {
     "name": "stdout",
     "output_type": "stream",
     "text": []
    },
    {
     "name": "stdout",
     "output_type": "stream",
     "text": []
    },
    {
     "name": "stdout",
     "output_type": "stream",
     "text": []
    },
    {
     "name": "stdout",
     "output_type": "stream",
     "text": []
    },
    {
     "name": "stdout",
     "output_type": "stream",
     "text": []
    },
    {
     "name": "stdout",
     "output_type": "stream",
     "text": []
    },
    {
     "data": {
      "application/vnd.jupyter.widget-view+json": {
       "model_id": "",
       "version_major": 2,
       "version_minor": 0
      },
      "text/plain": [
       "HBox(children=(IntProgress(value=0, description='TCGA-FZ-5922-11A-01-TS1.svs', max=76739, style=ProgressStyle(…"
      ]
     },
     "metadata": {},
     "output_type": "display_data"
    },
    {
     "data": {
      "application/vnd.jupyter.widget-view+json": {
       "model_id": "",
       "version_major": 2,
       "version_minor": 0
      },
      "text/plain": [
       "HBox(children=(IntProgress(value=0, description='TCGA-FZ-5920-11A-01-TS1.svs', max=269732, style=ProgressStyle…"
      ]
     },
     "metadata": {},
     "output_type": "display_data"
    },
    {
     "name": "stdout",
     "output_type": "stream",
     "text": []
    },
    {
     "data": {
      "application/vnd.jupyter.widget-view+json": {
       "model_id": "",
       "version_major": 2,
       "version_minor": 0
      },
      "text/plain": [
       "HBox(children=(IntProgress(value=0, description='TCGA-FZ-5920-01A-01-BS1.svs', max=247450, style=ProgressStyle…"
      ]
     },
     "metadata": {},
     "output_type": "display_data"
    },
    {
     "data": {
      "application/vnd.jupyter.widget-view+json": {
       "model_id": "",
       "version_major": 2,
       "version_minor": 0
      },
      "text/plain": [
       "HBox(children=(IntProgress(value=0, description='TCGA-2L-AAQA-11A-01-TSA.svs', max=56259, style=ProgressStyle(…"
      ]
     },
     "metadata": {},
     "output_type": "display_data"
    },
    {
     "data": {
      "application/vnd.jupyter.widget-view+json": {
       "model_id": "",
       "version_major": 2,
       "version_minor": 0
      },
      "text/plain": [
       "HBox(children=(IntProgress(value=0, description='TCGA-PZ-A5RE-11A-01-TS1.svs', max=103127, style=ProgressStyle…"
      ]
     },
     "metadata": {},
     "output_type": "display_data"
    },
    {
     "data": {
      "application/vnd.jupyter.widget-view+json": {
       "model_id": "",
       "version_major": 2,
       "version_minor": 0
      },
      "text/plain": [
       "HBox(children=(IntProgress(value=0, description='TCGA-2L-AAQM-11A-01-TSA.svs', max=62454, style=ProgressStyle(…"
      ]
     },
     "metadata": {},
     "output_type": "display_data"
    },
    {
     "data": {
      "application/vnd.jupyter.widget-view+json": {
       "model_id": "",
       "version_major": 2,
       "version_minor": 0
      },
      "text/plain": [
       "HBox(children=(IntProgress(value=0, description='TCGA-FZ-5922-01A-01-TS1.svs', max=107776, style=ProgressStyle…"
      ]
     },
     "metadata": {},
     "output_type": "display_data"
    },
    {
     "name": "stdout",
     "output_type": "stream",
     "text": []
    },
    {
     "data": {
      "application/vnd.jupyter.widget-view+json": {
       "model_id": "",
       "version_major": 2,
       "version_minor": 0
      },
      "text/plain": [
       "HBox(children=(IntProgress(value=0, description='TCGA-US-A774-11A-01-TSA.svs', max=33751, style=ProgressStyle(…"
      ]
     },
     "metadata": {},
     "output_type": "display_data"
    },
    {
     "name": "stdout",
     "output_type": "stream",
     "text": []
    },
    {
     "data": {
      "application/vnd.jupyter.widget-view+json": {
       "model_id": "",
       "version_major": 2,
       "version_minor": 0
      },
      "text/plain": [
       "HBox(children=(IntProgress(value=0, description='TCGA-IB-7647-01A-01-TS1.svs', max=8591, style=ProgressStyle(d…"
      ]
     },
     "metadata": {},
     "output_type": "display_data"
    },
    {
     "name": "stdout",
     "output_type": "stream",
     "text": []
    },
    {
     "data": {
      "application/vnd.jupyter.widget-view+json": {
       "model_id": "",
       "version_major": 2,
       "version_minor": 0
      },
      "text/plain": [
       "HBox(children=(IntProgress(value=0, description='TCGA-IB-7647-01A-01-BS1.svs', max=762460, style=ProgressStyle…"
      ]
     },
     "metadata": {},
     "output_type": "display_data"
    },
    {
     "name": "stdout",
     "output_type": "stream",
     "text": []
    },
    {
     "data": {
      "application/vnd.jupyter.widget-view+json": {
       "model_id": "",
       "version_major": 2,
       "version_minor": 0
      },
      "text/plain": [
       "HBox(children=(IntProgress(value=0, description='TCGA-FB-AAQ1-11A-01-TSA.svs', max=49510, style=ProgressStyle(…"
      ]
     },
     "metadata": {},
     "output_type": "display_data"
    },
    {
     "name": "stdout",
     "output_type": "stream",
     "text": []
    },
    {
     "data": {
      "application/vnd.jupyter.widget-view+json": {
       "model_id": "",
       "version_major": 2,
       "version_minor": 0
      },
      "text/plain": [
       "HBox(children=(IntProgress(value=0, description='TCGA-FZ-5919-01A-01-TS1.svs', max=154388, style=ProgressStyle…"
      ]
     },
     "metadata": {},
     "output_type": "display_data"
    },
    {
     "name": "stdout",
     "output_type": "stream",
     "text": []
    },
    {
     "data": {
      "application/vnd.jupyter.widget-view+json": {
       "model_id": "",
       "version_major": 2,
       "version_minor": 0
      },
      "text/plain": [
       "HBox(children=(IntProgress(value=0, description='TCGA-FB-AAQ0-11A-01-TSA.svs', max=72223, style=ProgressStyle(…"
      ]
     },
     "metadata": {},
     "output_type": "display_data"
    },
    {
     "name": "stdout",
     "output_type": "stream",
     "text": []
    },
    {
     "data": {
      "application/vnd.jupyter.widget-view+json": {
       "model_id": "",
       "version_major": 2,
       "version_minor": 0
      },
      "text/plain": [
       "HBox(children=(IntProgress(value=0, description='TCGA-2L-AAQE-11A-01-TS1.svs', max=80681, style=ProgressStyle(…"
      ]
     },
     "metadata": {},
     "output_type": "display_data"
    },
    {
     "name": "stdout",
     "output_type": "stream",
     "text": []
    },
    {
     "data": {
      "application/vnd.jupyter.widget-view+json": {
       "model_id": "",
       "version_major": 2,
       "version_minor": 0
      },
      "text/plain": [
       "HBox(children=(IntProgress(value=0, description='TCGA-US-A77E-11A-01-TSA.svs', max=39936, style=ProgressStyle(…"
      ]
     },
     "metadata": {},
     "output_type": "display_data"
    },
    {
     "name": "stdout",
     "output_type": "stream",
     "text": []
    },
    {
     "data": {
      "application/vnd.jupyter.widget-view+json": {
       "model_id": "",
       "version_major": 2,
       "version_minor": 0
      },
      "text/plain": [
       "HBox(children=(IntProgress(value=0, description='TCGA-FZ-5919-11A-01-TS1.svs', max=321690, style=ProgressStyle…"
      ]
     },
     "metadata": {},
     "output_type": "display_data"
    },
    {
     "name": "stdout",
     "output_type": "stream",
     "text": []
    },
    {
     "data": {
      "application/vnd.jupyter.widget-view+json": {
       "model_id": "",
       "version_major": 2,
       "version_minor": 0
      },
      "text/plain": [
       "HBox(children=(IntProgress(value=0, description='TCGA-FZ-5920-01A-01-TS1.svs', max=204237, style=ProgressStyle…"
      ]
     },
     "metadata": {},
     "output_type": "display_data"
    },
    {
     "name": "stdout",
     "output_type": "stream",
     "text": []
    },
    {
     "data": {
      "application/vnd.jupyter.widget-view+json": {
       "model_id": "",
       "version_major": 2,
       "version_minor": 0
      },
      "text/plain": [
       "HBox(children=(IntProgress(value=0, description='TCGA-FZ-5923-11A-01-TS1.svs', max=201554, style=ProgressStyle…"
      ]
     },
     "metadata": {},
     "output_type": "display_data"
    },
    {
     "name": "stdout",
     "output_type": "stream",
     "text": []
    },
    {
     "data": {
      "application/vnd.jupyter.widget-view+json": {
       "model_id": "",
       "version_major": 2,
       "version_minor": 0
      },
      "text/plain": [
       "HBox(children=(IntProgress(value=0, description='TCGA-FB-AAPY-11A-01-TSA.svs', max=53064, style=ProgressStyle(…"
      ]
     },
     "metadata": {},
     "output_type": "display_data"
    },
    {
     "name": "stdout",
     "output_type": "stream",
     "text": []
    },
    {
     "data": {
      "application/vnd.jupyter.widget-view+json": {
       "model_id": "",
       "version_major": 2,
       "version_minor": 0
      },
      "text/plain": [
       "HBox(children=(IntProgress(value=0, description='TCGA-FB-AAPU-11A-01-TSA.svs', max=65976, style=ProgressStyle(…"
      ]
     },
     "metadata": {},
     "output_type": "display_data"
    },
    {
     "name": "stdout",
     "output_type": "stream",
     "text": []
    },
    {
     "data": {
      "application/vnd.jupyter.widget-view+json": {
       "model_id": "",
       "version_major": 2,
       "version_minor": 0
      },
      "text/plain": [
       "HBox(children=(IntProgress(value=0, description='TCGA-2L-AAQJ-11A-01-TS1.svs', max=35021, style=ProgressStyle(…"
      ]
     },
     "metadata": {},
     "output_type": "display_data"
    },
    {
     "name": "stdout",
     "output_type": "stream",
     "text": []
    },
    {
     "data": {
      "application/vnd.jupyter.widget-view+json": {
       "model_id": "",
       "version_major": 2,
       "version_minor": 0
      },
      "text/plain": [
       "HBox(children=(IntProgress(value=0, description='TCGA-FZ-5922-01A-01-BS1.svs', max=95027, style=ProgressStyle(…"
      ]
     },
     "metadata": {},
     "output_type": "display_data"
    },
    {
     "name": "stdout",
     "output_type": "stream",
     "text": []
    },
    {
     "data": {
      "application/vnd.jupyter.widget-view+json": {
       "model_id": "",
       "version_major": 2,
       "version_minor": 0
      },
      "text/plain": [
       "HBox(children=(IntProgress(value=0, description='TCGA-FZ-5926-01A-01-BS1.svs', max=107459, style=ProgressStyle…"
      ]
     },
     "metadata": {},
     "output_type": "display_data"
    },
    {
     "name": "stdout",
     "output_type": "stream",
     "text": []
    },
    {
     "data": {
      "application/vnd.jupyter.widget-view+json": {
       "model_id": "",
       "version_major": 2,
       "version_minor": 0
      },
      "text/plain": [
       "HBox(children=(IntProgress(value=0, description='TCGA-US-A77G-11A-01-TSA.svs', max=25334, style=ProgressStyle(…"
      ]
     },
     "metadata": {},
     "output_type": "display_data"
    },
    {
     "name": "stdout",
     "output_type": "stream",
     "text": []
    },
    {
     "data": {
      "application/vnd.jupyter.widget-view+json": {
       "model_id": "",
       "version_major": 2,
       "version_minor": 0
      },
      "text/plain": [
       "HBox(children=(IntProgress(value=0, description='TCGA-FB-AAQ2-11A-01-TSA.svs', max=78162, style=ProgressStyle(…"
      ]
     },
     "metadata": {},
     "output_type": "display_data"
    },
    {
     "name": "stdout",
     "output_type": "stream",
     "text": []
    },
    {
     "data": {
      "application/vnd.jupyter.widget-view+json": {
       "model_id": "",
       "version_major": 2,
       "version_minor": 0
      },
      "text/plain": [
       "HBox(children=(IntProgress(value=0, description='TCGA-FZ-5921-01A-01-BS1.svs', max=266578, style=ProgressStyle…"
      ]
     },
     "metadata": {},
     "output_type": "display_data"
    },
    {
     "name": "stdout",
     "output_type": "stream",
     "text": []
    },
    {
     "data": {
      "application/vnd.jupyter.widget-view+json": {
       "model_id": "",
       "version_major": 2,
       "version_minor": 0
      },
      "text/plain": [
       "HBox(children=(IntProgress(value=0, description='TCGA-US-A779-11A-01-TS1.svs', max=33608, style=ProgressStyle(…"
      ]
     },
     "metadata": {},
     "output_type": "display_data"
    },
    {
     "name": "stdout",
     "output_type": "stream",
     "text": []
    },
    {
     "data": {
      "application/vnd.jupyter.widget-view+json": {
       "model_id": "",
       "version_major": 2,
       "version_minor": 0
      },
      "text/plain": [
       "HBox(children=(IntProgress(value=0, description='TCGA-FB-AAQ3-11A-01-TSA.svs', max=92713, style=ProgressStyle(…"
      ]
     },
     "metadata": {},
     "output_type": "display_data"
    },
    {
     "name": "stdout",
     "output_type": "stream",
     "text": []
    },
    {
     "data": {
      "application/vnd.jupyter.widget-view+json": {
       "model_id": "",
       "version_major": 2,
       "version_minor": 0
      },
      "text/plain": [
       "HBox(children=(IntProgress(value=0, description='TCGA-XD-AAUH-11A-01-TSA.svs', max=62044, style=ProgressStyle(…"
      ]
     },
     "metadata": {},
     "output_type": "display_data"
    },
    {
     "name": "stdout",
     "output_type": "stream",
     "text": []
    },
    {
     "data": {
      "application/vnd.jupyter.widget-view+json": {
       "model_id": "",
       "version_major": 2,
       "version_minor": 0
      },
      "text/plain": [
       "HBox(children=(IntProgress(value=0, description='TCGA-FB-AAPQ-11A-01-TS1.svs', max=41196, style=ProgressStyle(…"
      ]
     },
     "metadata": {},
     "output_type": "display_data"
    },
    {
     "name": "stdout",
     "output_type": "stream",
     "text": []
    },
    {
     "data": {
      "application/vnd.jupyter.widget-view+json": {
       "model_id": "",
       "version_major": 2,
       "version_minor": 0
      },
      "text/plain": [
       "HBox(children=(IntProgress(value=0, description='TCGA-FB-AAQ6-11A-01-TSA.svs', max=52193, style=ProgressStyle(…"
      ]
     },
     "metadata": {},
     "output_type": "display_data"
    },
    {
     "name": "stdout",
     "output_type": "stream",
     "text": []
    },
    {
     "data": {
      "application/vnd.jupyter.widget-view+json": {
       "model_id": "",
       "version_major": 2,
       "version_minor": 0
      },
      "text/plain": [
       "HBox(children=(IntProgress(value=0, description='TCGA-FZ-5919-01A-01-BS1.svs', max=170906, style=ProgressStyle…"
      ]
     },
     "metadata": {},
     "output_type": "display_data"
    },
    {
     "name": "stdout",
     "output_type": "stream",
     "text": []
    },
    {
     "name": "stdout",
     "output_type": "stream",
     "text": []
    },
    {
     "data": {
      "application/vnd.jupyter.widget-view+json": {
       "model_id": "",
       "version_major": 2,
       "version_minor": 0
      },
      "text/plain": [
       "HBox(children=(IntProgress(value=0, description='TCGA-FZ-5923-01A-01-TS1.svs', max=221676, style=ProgressStyle…"
      ]
     },
     "metadata": {},
     "output_type": "display_data"
    },
    {
     "data": {
      "application/vnd.jupyter.widget-view+json": {
       "model_id": "",
       "version_major": 2,
       "version_minor": 0
      },
      "text/plain": [
       "HBox(children=(IntProgress(value=0, description='TCGA-2L-AAQI-11A-01-TS1.svs', max=69734, style=ProgressStyle(…"
      ]
     },
     "metadata": {},
     "output_type": "display_data"
    },
    {
     "name": "stdout",
     "output_type": "stream",
     "text": []
    },
    {
     "data": {
      "application/vnd.jupyter.widget-view+json": {
       "model_id": "",
       "version_major": 2,
       "version_minor": 0
      },
      "text/plain": [
       "HBox(children=(IntProgress(value=0, description='TCGA-FZ-5926-11A-01-TS1.svs', max=87562, style=ProgressStyle(…"
      ]
     },
     "metadata": {},
     "output_type": "display_data"
    },
    {
     "name": "stdout",
     "output_type": "stream",
     "text": []
    },
    {
     "data": {
      "application/vnd.jupyter.widget-view+json": {
       "model_id": "",
       "version_major": 2,
       "version_minor": 0
      },
      "text/plain": [
       "HBox(children=(IntProgress(value=0, description='TCGA-FB-AAPZ-11A-01-TSA.svs', max=126065, style=ProgressStyle…"
      ]
     },
     "metadata": {},
     "output_type": "display_data"
    },
    {
     "name": "stdout",
     "output_type": "stream",
     "text": []
    },
    {
     "data": {
      "application/vnd.jupyter.widget-view+json": {
       "model_id": "",
       "version_major": 2,
       "version_minor": 0
      },
      "text/plain": [
       "HBox(children=(IntProgress(value=0, description='TCGA-FZ-5926-01A-01-TS1.svs', max=169574, style=ProgressStyle…"
      ]
     },
     "metadata": {},
     "output_type": "display_data"
    },
    {
     "name": "stdout",
     "output_type": "stream",
     "text": []
    },
    {
     "data": {
      "application/vnd.jupyter.widget-view+json": {
       "model_id": "",
       "version_major": 2,
       "version_minor": 0
      },
      "text/plain": [
       "HBox(children=(IntProgress(value=0, description='TCGA-FB-AAPS-11A-01-TSA.svs', max=71107, style=ProgressStyle(…"
      ]
     },
     "metadata": {},
     "output_type": "display_data"
    },
    {
     "name": "stdout",
     "output_type": "stream",
     "text": []
    },
    {
     "data": {
      "application/vnd.jupyter.widget-view+json": {
       "model_id": "",
       "version_major": 2,
       "version_minor": 0
      },
      "text/plain": [
       "HBox(children=(IntProgress(value=0, description='TCGA-FB-AAPP-11A-01-TSA.svs', max=85780, style=ProgressStyle(…"
      ]
     },
     "metadata": {},
     "output_type": "display_data"
    },
    {
     "name": "stdout",
     "output_type": "stream",
     "text": []
    },
    {
     "data": {
      "application/vnd.jupyter.widget-view+json": {
       "model_id": "",
       "version_major": 2,
       "version_minor": 0
      },
      "text/plain": [
       "HBox(children=(IntProgress(value=0, description='TCGA-FZ-5923-01A-01-BS1.svs', max=146985, style=ProgressStyle…"
      ]
     },
     "metadata": {},
     "output_type": "display_data"
    },
    {
     "name": "stdout",
     "output_type": "stream",
     "text": []
    },
    {
     "data": {
      "application/vnd.jupyter.widget-view+json": {
       "model_id": "",
       "version_major": 2,
       "version_minor": 0
      },
      "text/plain": [
       "HBox(children=(IntProgress(value=0, description='TCGA-FZ-5924-11A-01-TS1.svs', max=60815, style=ProgressStyle(…"
      ]
     },
     "metadata": {},
     "output_type": "display_data"
    },
    {
     "name": "stdout",
     "output_type": "stream",
     "text": []
    },
    {
     "data": {
      "application/vnd.jupyter.widget-view+json": {
       "model_id": "",
       "version_major": 2,
       "version_minor": 0
      },
      "text/plain": [
       "HBox(children=(IntProgress(value=0, description='TCGA-US-A776-11A-01-TSA.svs', max=68925, style=ProgressStyle(…"
      ]
     },
     "metadata": {},
     "output_type": "display_data"
    },
    {
     "name": "stdout",
     "output_type": "stream",
     "text": []
    },
    {
     "data": {
      "application/vnd.jupyter.widget-view+json": {
       "model_id": "",
       "version_major": 2,
       "version_minor": 0
      },
      "text/plain": [
       "HBox(children=(IntProgress(value=0, description='TCGA-2L-AAQL-11A-01-TS1.svs', max=121999, style=ProgressStyle…"
      ]
     },
     "metadata": {},
     "output_type": "display_data"
    },
    {
     "name": "stdout",
     "output_type": "stream",
     "text": []
    },
    {
     "data": {
      "application/vnd.jupyter.widget-view+json": {
       "model_id": "",
       "version_major": 2,
       "version_minor": 0
      },
      "text/plain": [
       "HBox(children=(IntProgress(value=0, description='TCGA-FZ-5924-01A-01-TS1.svs', max=53934, style=ProgressStyle(…"
      ]
     },
     "metadata": {},
     "output_type": "display_data"
    },
    {
     "name": "stdout",
     "output_type": "stream",
     "text": []
    },
    {
     "data": {
      "application/vnd.jupyter.widget-view+json": {
       "model_id": "",
       "version_major": 2,
       "version_minor": 0
      },
      "text/plain": [
       "HBox(children=(IntProgress(value=0, description='TCGA-FZ-5921-11A-01-TS1.svs', max=70789, style=ProgressStyle(…"
      ]
     },
     "metadata": {},
     "output_type": "display_data"
    },
    {
     "name": "stdout",
     "output_type": "stream",
     "text": []
    },
    {
     "data": {
      "application/vnd.jupyter.widget-view+json": {
       "model_id": "",
       "version_major": 2,
       "version_minor": 0
      },
      "text/plain": [
       "HBox(children=(IntProgress(value=0, description='TCGA-US-A77J-11A-01-TS1.svs', max=30925, style=ProgressStyle(…"
      ]
     },
     "metadata": {},
     "output_type": "display_data"
    },
    {
     "name": "stdout",
     "output_type": "stream",
     "text": []
    },
    {
     "data": {
      "application/vnd.jupyter.widget-view+json": {
       "model_id": "",
       "version_major": 2,
       "version_minor": 0
      },
      "text/plain": [
       "HBox(children=(IntProgress(value=0, description='TCGA-FZ-5921-01A-01-TS1.svs', max=264960, style=ProgressStyle…"
      ]
     },
     "metadata": {},
     "output_type": "display_data"
    },
    {
     "name": "stdout",
     "output_type": "stream",
     "text": []
    },
    {
     "name": "stdout",
     "output_type": "stream",
     "text": [
      "\n"
     ]
    },
    {
     "data": {
      "text/plain": [
       "['TCGA-2L-AAQA-11A-01-TSA.svs',\n",
       " 'TCGA-2L-AAQM-11A-01-TSA.svs',\n",
       " 'TCGA-FZ-5922-11A-01-TS1.svs',\n",
       " 'TCGA-IB-7647-01A-01-TS1.svs',\n",
       " 'TCGA-US-A774-11A-01-TSA.svs',\n",
       " 'TCGA-PZ-A5RE-11A-01-TS1.svs',\n",
       " 'TCGA-FZ-5922-01A-01-TS1.svs',\n",
       " 'TCGA-L1-A7W4-11A-01-TSA.svs',\n",
       " 'TCGA-FB-AAQ1-11A-01-TSA.svs',\n",
       " 'TCGA-US-A77E-11A-01-TSA.svs',\n",
       " 'TCGA-FB-AAQ0-11A-01-TSA.svs',\n",
       " 'TCGA-2L-AAQE-11A-01-TS1.svs',\n",
       " 'TCGA-FZ-5920-01A-01-BS1.svs',\n",
       " 'TCGA-FB-AAPY-11A-01-TSA.svs',\n",
       " 'TCGA-FZ-5919-01A-01-TS1.svs',\n",
       " 'TCGA-FZ-5920-11A-01-TS1.svs',\n",
       " 'TCGA-2L-AAQJ-11A-01-TS1.svs',\n",
       " 'TCGA-FB-AAPU-11A-01-TSA.svs',\n",
       " 'TCGA-US-A77G-11A-01-TSA.svs',\n",
       " 'TCGA-FZ-5922-01A-01-BS1.svs',\n",
       " 'TCGA-FZ-5926-01A-01-BS1.svs',\n",
       " 'TCGA-FB-AAQ2-11A-01-TSA.svs',\n",
       " 'TCGA-FZ-5923-11A-01-TS1.svs',\n",
       " 'TCGA-FZ-5920-01A-01-TS1.svs',\n",
       " 'TCGA-US-A779-11A-01-TS1.svs',\n",
       " 'TCGA-FB-AAPQ-11A-01-TS1.svs',\n",
       " 'TCGA-FB-AAQ6-11A-01-TSA.svs',\n",
       " 'TCGA-XD-AAUH-11A-01-TSA.svs',\n",
       " 'TCGA-FB-AAQ3-11A-01-TSA.svs',\n",
       " 'TCGA-FZ-5919-11A-01-TS1.svs',\n",
       " 'TCGA-2L-AAQI-11A-01-TS1.svs',\n",
       " 'TCGA-FZ-5926-11A-01-TS1.svs',\n",
       " 'TCGA-FZ-5919-01A-01-BS1.svs',\n",
       " 'TCGA-FZ-5921-01A-01-BS1.svs',\n",
       " 'TCGA-FB-AAPZ-11A-01-TSA.svs',\n",
       " 'TCGA-FB-AAPS-11A-01-TSA.svs',\n",
       " 'TCGA-FB-AAPP-11A-01-TSA.svs',\n",
       " 'TCGA-FZ-5924-11A-01-TS1.svs',\n",
       " 'TCGA-FZ-5926-01A-01-TS1.svs',\n",
       " 'TCGA-US-A776-11A-01-TSA.svs',\n",
       " 'TCGA-FZ-5923-01A-01-TS1.svs',\n",
       " 'TCGA-US-A77J-11A-01-TS1.svs',\n",
       " 'TCGA-FZ-5924-01A-01-TS1.svs',\n",
       " 'TCGA-FZ-5921-11A-01-TS1.svs',\n",
       " 'TCGA-FZ-5923-01A-01-BS1.svs',\n",
       " 'TCGA-2L-AAQL-11A-01-TS1.svs',\n",
       " 'TCGA-IB-7647-01A-01-BS1.svs',\n",
       " 'TCGA-FZ-5921-01A-01-TS1.svs']"
      ]
     },
     "execution_count": 68,
     "metadata": {},
     "output_type": "execute_result"
    }
   ],
   "source": [
    "api_download_iterative(slides_df, slides_path, multiprocess=8)"
   ]
  },
  {
   "cell_type": "markdown",
   "metadata": {},
   "source": [
    "## RNA-Seq"
   ]
  },
  {
   "cell_type": "code",
   "execution_count": null,
   "metadata": {},
   "outputs": [],
   "source": [
    "summary = rnaseq_df.groupby('workflow_type').size()\n",
    "summary.reset_index()"
   ]
  },
  {
   "cell_type": "code",
   "execution_count": null,
   "metadata": {},
   "outputs": [],
   "source": [
    "summary = rnaseq_df.groupby('workflow_type').agg({'file_name': 'size', 'file_size': 'sum'})\n",
    "summary = summary.rename(columns={'file_name': 'count', 'file_size': 'total_size (gb)'})\n",
    "summary['total_size (gb)'] = round(summary['total_size (gb)'] / 1000, 2)\n",
    "\n",
    "summary"
   ]
  },
  {
   "cell_type": "code",
   "execution_count": null,
   "metadata": {},
   "outputs": [],
   "source": [
    "slides_samples = slides_df['sample_id'].unique()"
   ]
  },
  {
   "cell_type": "code",
   "execution_count": null,
   "metadata": {},
   "outputs": [],
   "source": [
    "rnaseq_df = rnaseq_df[rnaseq_df['sample_id'].isin(slides_samples)]"
   ]
  },
  {
   "cell_type": "code",
   "execution_count": null,
   "metadata": {},
   "outputs": [],
   "source": [
    "summary = rnaseq_df.groupby('workflow_type').agg({'file_name': 'size', 'file_size': 'sum'})\n",
    "summary = summary.rename(columns={'file_name': 'count', 'file_size': 'total_size (gb)'})\n",
    "summary['total_size (gb)'] = round(summary['total_size (gb)'] / 1000, 2)\n",
    "\n",
    "summary"
   ]
  },
  {
   "cell_type": "code",
   "execution_count": null,
   "metadata": {
    "collapsed": true
   },
   "outputs": [],
   "source": [
    "files = api_download_iterative(rnaseq_df, rnaseq_path, multiprocess=8)"
   ]
  },
  {
   "cell_type": "code",
   "execution_count": null,
   "metadata": {},
   "outputs": [],
   "source": [
    "def gunzip(source_filepath, dest_filepath):\n",
    "    with gzip.open(source_filepath, 'rb') as s_file:\n",
    "        with open(dest_filepath, 'wb') as d_file:\n",
    "            shutil.copyfileobj(s_file, d_file)"
   ]
  },
  {
   "cell_type": "code",
   "execution_count": null,
   "metadata": {},
   "outputs": [],
   "source": [
    "for file_name in files:\n",
    "    \n",
    "    source_filepath = os.path.join(rnaseq_path, file_name)\n",
    "    dest_filepath = re.sub('\\.gz$', '', source_filepath)\n",
    "    \n",
    "    gunzip(source_filepath, dest_filepath)\n",
    "    os.remove(source_filepath)"
   ]
  }
 ],
 "metadata": {
  "kernelspec": {
   "display_name": "Python 3",
   "language": "python",
   "name": "python3"
  },
  "language_info": {
   "codemirror_mode": {
    "name": "ipython",
    "version": 3
   },
   "file_extension": ".py",
   "mimetype": "text/x-python",
   "name": "python",
   "nbconvert_exporter": "python",
   "pygments_lexer": "ipython3",
   "version": "3.5.3"
  }
 },
 "nbformat": 4,
 "nbformat_minor": 2
}
