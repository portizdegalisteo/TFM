{
 "cells": [
  {
   "cell_type": "code",
   "execution_count": 96,
   "metadata": {},
   "outputs": [
    {
     "name": "stdout",
     "output_type": "stream",
     "text": [
      "The autoreload extension is already loaded. To reload it, use:\n",
      "  %reload_ext autoreload\n"
     ]
    }
   ],
   "source": [
    "%load_ext autoreload\n",
    "%autoreload 2"
   ]
  },
  {
   "cell_type": "code",
   "execution_count": 97,
   "metadata": {},
   "outputs": [],
   "source": [
    "import requests\n",
    "import yaml\n",
    "import json\n",
    "import os\n",
    "import pandas as pd\n",
    "import gzip\n",
    "import shutil"
   ]
  },
  {
   "cell_type": "code",
   "execution_count": 98,
   "metadata": {},
   "outputs": [],
   "source": [
    "from gdc.download import api_download_iterative"
   ]
  },
  {
   "cell_type": "markdown",
   "metadata": {},
   "source": [
    "Config"
   ]
  },
  {
   "cell_type": "code",
   "execution_count": 99,
   "metadata": {},
   "outputs": [],
   "source": [
    "with open('conf/user_conf.yaml', 'r') as f:\n",
    "    user_conf = yaml.load(f)"
   ]
  },
  {
   "cell_type": "code",
   "execution_count": 100,
   "metadata": {},
   "outputs": [],
   "source": [
    "with open('conf/sys_conf.yaml', 'r') as f:\n",
    "    sys_conf = yaml.load(f)"
   ]
  },
  {
   "cell_type": "code",
   "execution_count": 101,
   "metadata": {},
   "outputs": [],
   "source": [
    "conf = {**user_conf, **sys_conf}"
   ]
  },
  {
   "cell_type": "markdown",
   "metadata": {},
   "source": [
    "Paths"
   ]
  },
  {
   "cell_type": "code",
   "execution_count": 102,
   "metadata": {},
   "outputs": [],
   "source": [
    "slides_metadata_file = os.path.join(conf['data_path'], 'slides_metadata.csv')\n",
    "rnaseq_metadata_file = os.path.join(conf['data_path'], 'rnaseq_metadata.csv')"
   ]
  },
  {
   "cell_type": "code",
   "execution_count": 103,
   "metadata": {},
   "outputs": [],
   "source": [
    "slides_path = os.path.join(conf['data_path'], 'slides')\n",
    "if not os.path.exists(slides_path):\n",
    "    os.mkdir(slides_path)"
   ]
  },
  {
   "cell_type": "code",
   "execution_count": 104,
   "metadata": {},
   "outputs": [],
   "source": [
    "rnaseq_path = os.path.join(conf['data_path'], 'rnaseq')\n",
    "\n",
    "if not os.path.exists(rnaseq_path):\n",
    "    os.mkdir(rnaseq_path)"
   ]
  },
  {
   "cell_type": "markdown",
   "metadata": {},
   "source": [
    "# Download Files"
   ]
  },
  {
   "cell_type": "markdown",
   "metadata": {},
   "source": [
    "Read metadata"
   ]
  },
  {
   "cell_type": "code",
   "execution_count": 105,
   "metadata": {},
   "outputs": [
    {
     "data": {
      "text/html": [
       "<div>\n",
       "<style scoped>\n",
       "    .dataframe tbody tr th:only-of-type {\n",
       "        vertical-align: middle;\n",
       "    }\n",
       "\n",
       "    .dataframe tbody tr th {\n",
       "        vertical-align: top;\n",
       "    }\n",
       "\n",
       "    .dataframe thead th {\n",
       "        text-align: right;\n",
       "    }\n",
       "</style>\n",
       "<table border=\"1\" class=\"dataframe\">\n",
       "  <thead>\n",
       "    <tr style=\"text-align: right;\">\n",
       "      <th></th>\n",
       "      <th>file_name</th>\n",
       "      <th>file_id</th>\n",
       "      <th>file_size</th>\n",
       "      <th>sample_id</th>\n",
       "      <th>experimental_strategy</th>\n",
       "    </tr>\n",
       "  </thead>\n",
       "  <tbody>\n",
       "    <tr>\n",
       "      <th>0</th>\n",
       "      <td>TCGA-2L-AAQM-11A-01-TSA.svs</td>\n",
       "      <td>ddce0ab5-47b7-43c2-8d67-3d50c48d8ae7</td>\n",
       "      <td>60.99</td>\n",
       "      <td>TCGA-2L-AAQM-11A</td>\n",
       "      <td>Tissue Slide</td>\n",
       "    </tr>\n",
       "    <tr>\n",
       "      <th>1</th>\n",
       "      <td>TCGA-HZ-A49I-01A-01-TS1.svs</td>\n",
       "      <td>7ec5c9d0-8c22-4e30-bae8-605c3dcfe744</td>\n",
       "      <td>293.72</td>\n",
       "      <td>TCGA-HZ-A49I-01A</td>\n",
       "      <td>Tissue Slide</td>\n",
       "    </tr>\n",
       "    <tr>\n",
       "      <th>2</th>\n",
       "      <td>TCGA-3A-A9IZ-01A-01-TS1.svs</td>\n",
       "      <td>265adb6b-913e-490c-8cea-32d67c1440a2</td>\n",
       "      <td>166.95</td>\n",
       "      <td>TCGA-3A-A9IZ-01A</td>\n",
       "      <td>Tissue Slide</td>\n",
       "    </tr>\n",
       "  </tbody>\n",
       "</table>\n",
       "</div>"
      ],
      "text/plain": [
       "                     file_name                               file_id  \\\n",
       "0  TCGA-2L-AAQM-11A-01-TSA.svs  ddce0ab5-47b7-43c2-8d67-3d50c48d8ae7   \n",
       "1  TCGA-HZ-A49I-01A-01-TS1.svs  7ec5c9d0-8c22-4e30-bae8-605c3dcfe744   \n",
       "2  TCGA-3A-A9IZ-01A-01-TS1.svs  265adb6b-913e-490c-8cea-32d67c1440a2   \n",
       "\n",
       "   file_size         sample_id experimental_strategy  \n",
       "0      60.99  TCGA-2L-AAQM-11A          Tissue Slide  \n",
       "1     293.72  TCGA-HZ-A49I-01A          Tissue Slide  \n",
       "2     166.95  TCGA-3A-A9IZ-01A          Tissue Slide  "
      ]
     },
     "execution_count": 105,
     "metadata": {},
     "output_type": "execute_result"
    }
   ],
   "source": [
    "slides_df = pd.read_csv(slides_metadata_file, sep='|')\n",
    "slides_df = slides_df[['file_name', 'file_id', 'file_size', 'sample_id', 'experimental_strategy']]\n",
    "slides_df.head(3)"
   ]
  },
  {
   "cell_type": "code",
   "execution_count": 106,
   "metadata": {},
   "outputs": [
    {
     "data": {
      "text/html": [
       "<div>\n",
       "<style scoped>\n",
       "    .dataframe tbody tr th:only-of-type {\n",
       "        vertical-align: middle;\n",
       "    }\n",
       "\n",
       "    .dataframe tbody tr th {\n",
       "        vertical-align: top;\n",
       "    }\n",
       "\n",
       "    .dataframe thead th {\n",
       "        text-align: right;\n",
       "    }\n",
       "</style>\n",
       "<table border=\"1\" class=\"dataframe\">\n",
       "  <thead>\n",
       "    <tr style=\"text-align: right;\">\n",
       "      <th></th>\n",
       "      <th>file_name</th>\n",
       "      <th>file_id</th>\n",
       "      <th>file_size</th>\n",
       "      <th>sample_id</th>\n",
       "      <th>workflow_type</th>\n",
       "    </tr>\n",
       "  </thead>\n",
       "  <tbody>\n",
       "    <tr>\n",
       "      <th>0</th>\n",
       "      <td>TCGA-FB-AAPS-01A_HTSeq-FPKM-UQ.txt.gz</td>\n",
       "      <td>1e0be26b-da47-4e56-926c-9afc259a2bd0</td>\n",
       "      <td>0.53</td>\n",
       "      <td>TCGA-FB-AAPS-01A</td>\n",
       "      <td>HTSeq - FPKM-UQ</td>\n",
       "    </tr>\n",
       "    <tr>\n",
       "      <th>1</th>\n",
       "      <td>TCGA-FB-AAQ3-01A_HTSeq-FPKM-UQ.txt.gz</td>\n",
       "      <td>2803abb9-bf21-4b75-a3c9-687c87b75701</td>\n",
       "      <td>0.50</td>\n",
       "      <td>TCGA-FB-AAQ3-01A</td>\n",
       "      <td>HTSeq - FPKM-UQ</td>\n",
       "    </tr>\n",
       "    <tr>\n",
       "      <th>2</th>\n",
       "      <td>TCGA-HZ-8005-01A_HTSeq-Counts.txt.gz</td>\n",
       "      <td>4d98a852-c30a-437b-a214-ee81015d674b</td>\n",
       "      <td>0.25</td>\n",
       "      <td>TCGA-HZ-8005-01A</td>\n",
       "      <td>HTSeq - Counts</td>\n",
       "    </tr>\n",
       "  </tbody>\n",
       "</table>\n",
       "</div>"
      ],
      "text/plain": [
       "                               file_name  \\\n",
       "0  TCGA-FB-AAPS-01A_HTSeq-FPKM-UQ.txt.gz   \n",
       "1  TCGA-FB-AAQ3-01A_HTSeq-FPKM-UQ.txt.gz   \n",
       "2   TCGA-HZ-8005-01A_HTSeq-Counts.txt.gz   \n",
       "\n",
       "                                file_id  file_size         sample_id  \\\n",
       "0  1e0be26b-da47-4e56-926c-9afc259a2bd0       0.53  TCGA-FB-AAPS-01A   \n",
       "1  2803abb9-bf21-4b75-a3c9-687c87b75701       0.50  TCGA-FB-AAQ3-01A   \n",
       "2  4d98a852-c30a-437b-a214-ee81015d674b       0.25  TCGA-HZ-8005-01A   \n",
       "\n",
       "     workflow_type  \n",
       "0  HTSeq - FPKM-UQ  \n",
       "1  HTSeq - FPKM-UQ  \n",
       "2   HTSeq - Counts  "
      ]
     },
     "execution_count": 106,
     "metadata": {},
     "output_type": "execute_result"
    }
   ],
   "source": [
    "rnaseq_df = pd.read_csv(rnaseq_metadata_file, sep='|')\n",
    "rnaseq_df = rnaseq_df[['file_name', 'file_id', 'file_size', 'sample_id', 'workflow_type']]\n",
    "rnaseq_df.head(3)"
   ]
  },
  {
   "cell_type": "code",
   "execution_count": 111,
   "metadata": {},
   "outputs": [],
   "source": []
  },
  {
   "cell_type": "code",
   "execution_count": 112,
   "metadata": {},
   "outputs": [
    {
     "data": {
      "text/html": [
       "<div>\n",
       "<style scoped>\n",
       "    .dataframe tbody tr th:only-of-type {\n",
       "        vertical-align: middle;\n",
       "    }\n",
       "\n",
       "    .dataframe tbody tr th {\n",
       "        vertical-align: top;\n",
       "    }\n",
       "\n",
       "    .dataframe thead th {\n",
       "        text-align: right;\n",
       "    }\n",
       "</style>\n",
       "<table border=\"1\" class=\"dataframe\">\n",
       "  <thead>\n",
       "    <tr style=\"text-align: right;\">\n",
       "      <th></th>\n",
       "      <th>file_name</th>\n",
       "      <th>file_id</th>\n",
       "      <th>file_size</th>\n",
       "      <th>sample_id</th>\n",
       "      <th>experimental_strategy</th>\n",
       "    </tr>\n",
       "  </thead>\n",
       "  <tbody>\n",
       "    <tr>\n",
       "      <th>1</th>\n",
       "      <td>TCGA-HZ-A49I-01A-01-TS1.svs</td>\n",
       "      <td>7ec5c9d0-8c22-4e30-bae8-605c3dcfe744</td>\n",
       "      <td>293.72</td>\n",
       "      <td>TCGA-HZ-A49I-01A</td>\n",
       "      <td>Tissue Slide</td>\n",
       "    </tr>\n",
       "    <tr>\n",
       "      <th>2</th>\n",
       "      <td>TCGA-3A-A9IZ-01A-01-TS1.svs</td>\n",
       "      <td>265adb6b-913e-490c-8cea-32d67c1440a2</td>\n",
       "      <td>166.95</td>\n",
       "      <td>TCGA-3A-A9IZ-01A</td>\n",
       "      <td>Tissue Slide</td>\n",
       "    </tr>\n",
       "    <tr>\n",
       "      <th>3</th>\n",
       "      <td>TCGA-IB-7891-01A-01-BS1.svs</td>\n",
       "      <td>8b5ee711-7836-47e9-a96c-5a1dafdccaec</td>\n",
       "      <td>703.26</td>\n",
       "      <td>TCGA-IB-7891-01A</td>\n",
       "      <td>Tissue Slide</td>\n",
       "    </tr>\n",
       "    <tr>\n",
       "      <th>4</th>\n",
       "      <td>TCGA-IB-A5ST-01A-01-TSA.svs</td>\n",
       "      <td>8587e7dc-95b2-4a30-8223-664a8ab7bfe6</td>\n",
       "      <td>366.12</td>\n",
       "      <td>TCGA-IB-A5ST-01A</td>\n",
       "      <td>Tissue Slide</td>\n",
       "    </tr>\n",
       "    <tr>\n",
       "      <th>7</th>\n",
       "      <td>TCGA-FB-AAQ2-01A-03-TSC.svs</td>\n",
       "      <td>638c0e4c-9419-416c-8355-8ac023d8edb2</td>\n",
       "      <td>304.14</td>\n",
       "      <td>TCGA-FB-AAQ2-01A</td>\n",
       "      <td>Tissue Slide</td>\n",
       "    </tr>\n",
       "    <tr>\n",
       "      <th>8</th>\n",
       "      <td>TCGA-H8-A6C1-01A-01-TS1.svs</td>\n",
       "      <td>1cff51cc-2a5c-4996-9895-bfe6f227a0e3</td>\n",
       "      <td>151.85</td>\n",
       "      <td>TCGA-H8-A6C1-01A</td>\n",
       "      <td>Tissue Slide</td>\n",
       "    </tr>\n",
       "    <tr>\n",
       "      <th>10</th>\n",
       "      <td>TCGA-HZ-7920-01A-01-TS1.svs</td>\n",
       "      <td>eb2d2ac5-c29d-48b3-b922-893404259e75</td>\n",
       "      <td>61.02</td>\n",
       "      <td>TCGA-HZ-7920-01A</td>\n",
       "      <td>Tissue Slide</td>\n",
       "    </tr>\n",
       "    <tr>\n",
       "      <th>11</th>\n",
       "      <td>TCGA-3A-A9IC-01A-01-TS1.svs</td>\n",
       "      <td>b01cdb94-a2be-4c44-ba87-5057912cb74e</td>\n",
       "      <td>348.22</td>\n",
       "      <td>TCGA-3A-A9IC-01A</td>\n",
       "      <td>Tissue Slide</td>\n",
       "    </tr>\n",
       "    <tr>\n",
       "      <th>12</th>\n",
       "      <td>TCGA-HZ-8519-01A-01-TS1.svs</td>\n",
       "      <td>63ebeb64-60d4-49c7-b63a-d7556bfe052e</td>\n",
       "      <td>68.78</td>\n",
       "      <td>TCGA-HZ-8519-01A</td>\n",
       "      <td>Tissue Slide</td>\n",
       "    </tr>\n",
       "    <tr>\n",
       "      <th>13</th>\n",
       "      <td>TCGA-IB-8126-01A-01-TS1.svs</td>\n",
       "      <td>b0f1ee22-b711-4c53-8d88-c0f96c9fe7e5</td>\n",
       "      <td>59.41</td>\n",
       "      <td>TCGA-IB-8126-01A</td>\n",
       "      <td>Tissue Slide</td>\n",
       "    </tr>\n",
       "    <tr>\n",
       "      <th>15</th>\n",
       "      <td>TCGA-S4-A8RP-01A-01-TSA.svs</td>\n",
       "      <td>74e3ee6f-815b-4833-b69c-bd57d965c8c8</td>\n",
       "      <td>134.23</td>\n",
       "      <td>TCGA-S4-A8RP-01A</td>\n",
       "      <td>Tissue Slide</td>\n",
       "    </tr>\n",
       "    <tr>\n",
       "      <th>16</th>\n",
       "      <td>TCGA-IB-7651-01A-01-TS1.svs</td>\n",
       "      <td>ea95da1a-7b4a-4875-9bdc-c959669a0919</td>\n",
       "      <td>55.08</td>\n",
       "      <td>TCGA-IB-7651-01A</td>\n",
       "      <td>Tissue Slide</td>\n",
       "    </tr>\n",
       "    <tr>\n",
       "      <th>21</th>\n",
       "      <td>TCGA-IB-AAUS-01A-01-TSA.svs</td>\n",
       "      <td>7b625bee-ebab-49a5-9ac6-9b293e43be18</td>\n",
       "      <td>435.54</td>\n",
       "      <td>TCGA-IB-AAUS-01A</td>\n",
       "      <td>Tissue Slide</td>\n",
       "    </tr>\n",
       "    <tr>\n",
       "      <th>22</th>\n",
       "      <td>TCGA-LB-A9Q5-01A-01-TS1.svs</td>\n",
       "      <td>a11fde2c-54d5-4c3a-ba5f-46bc1aebc97a</td>\n",
       "      <td>290.76</td>\n",
       "      <td>TCGA-LB-A9Q5-01A</td>\n",
       "      <td>Tissue Slide</td>\n",
       "    </tr>\n",
       "    <tr>\n",
       "      <th>24</th>\n",
       "      <td>TCGA-FB-A78T-01A-01-TSA.svs</td>\n",
       "      <td>af925f00-6f94-484c-8996-adc0b6bbee91</td>\n",
       "      <td>269.97</td>\n",
       "      <td>TCGA-FB-A78T-01A</td>\n",
       "      <td>Tissue Slide</td>\n",
       "    </tr>\n",
       "    <tr>\n",
       "      <th>28</th>\n",
       "      <td>TCGA-FB-AAPS-01A-01-TS1.svs</td>\n",
       "      <td>b608ced0-afdb-41bf-83f8-61c1e0d321dc</td>\n",
       "      <td>317.82</td>\n",
       "      <td>TCGA-FB-AAPS-01A</td>\n",
       "      <td>Tissue Slide</td>\n",
       "    </tr>\n",
       "    <tr>\n",
       "      <th>34</th>\n",
       "      <td>TCGA-HZ-8002-01A-01-BS1.svs</td>\n",
       "      <td>b3968bbf-ae61-42aa-a9a7-060656b775c5</td>\n",
       "      <td>66.07</td>\n",
       "      <td>TCGA-HZ-8002-01A</td>\n",
       "      <td>Tissue Slide</td>\n",
       "    </tr>\n",
       "    <tr>\n",
       "      <th>35</th>\n",
       "      <td>TCGA-3A-A9I5-01A-01-TS1.svs</td>\n",
       "      <td>1deacc62-ec04-486e-b1c7-48d178638541</td>\n",
       "      <td>148.97</td>\n",
       "      <td>TCGA-3A-A9I5-01A</td>\n",
       "      <td>Tissue Slide</td>\n",
       "    </tr>\n",
       "    <tr>\n",
       "      <th>38</th>\n",
       "      <td>TCGA-HZ-A4BK-01A-01-TS1.svs</td>\n",
       "      <td>59831780-7a1d-4ed4-9394-c7a864e2dcae</td>\n",
       "      <td>223.23</td>\n",
       "      <td>TCGA-HZ-A4BK-01A</td>\n",
       "      <td>Tissue Slide</td>\n",
       "    </tr>\n",
       "    <tr>\n",
       "      <th>45</th>\n",
       "      <td>TCGA-IB-AAUV-01A-01-TSA.svs</td>\n",
       "      <td>47b5b4b8-ed91-4eaf-b8a1-e15ceb4d649d</td>\n",
       "      <td>372.60</td>\n",
       "      <td>TCGA-IB-AAUV-01A</td>\n",
       "      <td>Tissue Slide</td>\n",
       "    </tr>\n",
       "    <tr>\n",
       "      <th>52</th>\n",
       "      <td>TCGA-M8-A5N4-01A-01-TS1.svs</td>\n",
       "      <td>3760e743-88f8-4e10-b691-248a908791ea</td>\n",
       "      <td>361.70</td>\n",
       "      <td>TCGA-M8-A5N4-01A</td>\n",
       "      <td>Tissue Slide</td>\n",
       "    </tr>\n",
       "    <tr>\n",
       "      <th>57</th>\n",
       "      <td>TCGA-IB-7649-01A-01-TS1.svs</td>\n",
       "      <td>70dd113a-2064-4ced-8b6f-dd3230758832</td>\n",
       "      <td>43.59</td>\n",
       "      <td>TCGA-IB-7649-01A</td>\n",
       "      <td>Tissue Slide</td>\n",
       "    </tr>\n",
       "    <tr>\n",
       "      <th>59</th>\n",
       "      <td>TCGA-2L-AAQE-01A-01-TS1.svs</td>\n",
       "      <td>4777bed9-6df0-44d3-b16d-21a072c43e74</td>\n",
       "      <td>207.39</td>\n",
       "      <td>TCGA-2L-AAQE-01A</td>\n",
       "      <td>Tissue Slide</td>\n",
       "    </tr>\n",
       "    <tr>\n",
       "      <th>61</th>\n",
       "      <td>TCGA-XN-A8T5-01A-01-TS1.svs</td>\n",
       "      <td>e72b8da9-caa3-42df-8e02-692bf47fc43e</td>\n",
       "      <td>219.15</td>\n",
       "      <td>TCGA-XN-A8T5-01A</td>\n",
       "      <td>Tissue Slide</td>\n",
       "    </tr>\n",
       "    <tr>\n",
       "      <th>62</th>\n",
       "      <td>TCGA-IB-AAUW-01A-01-TS1.svs</td>\n",
       "      <td>e668dbf1-d791-431f-82dd-f61e25bec647</td>\n",
       "      <td>223.11</td>\n",
       "      <td>TCGA-IB-AAUW-01A</td>\n",
       "      <td>Tissue Slide</td>\n",
       "    </tr>\n",
       "    <tr>\n",
       "      <th>63</th>\n",
       "      <td>TCGA-IB-A5SP-01A-01-TSA.svs</td>\n",
       "      <td>beeb4618-8d0c-4a11-981d-74cd24f8828e</td>\n",
       "      <td>344.56</td>\n",
       "      <td>TCGA-IB-A5SP-01A</td>\n",
       "      <td>Tissue Slide</td>\n",
       "    </tr>\n",
       "    <tr>\n",
       "      <th>69</th>\n",
       "      <td>TCGA-H6-A45N-11A-01-TS1.svs</td>\n",
       "      <td>5675a0f1-0b8f-4699-94cc-e09c1f9a70f9</td>\n",
       "      <td>103.71</td>\n",
       "      <td>TCGA-H6-A45N-11A</td>\n",
       "      <td>Tissue Slide</td>\n",
       "    </tr>\n",
       "    <tr>\n",
       "      <th>70</th>\n",
       "      <td>TCGA-HV-A5A4-01A-01-TS1.svs</td>\n",
       "      <td>e62e673d-cd0d-40e6-8704-5841253b871e</td>\n",
       "      <td>83.99</td>\n",
       "      <td>TCGA-HV-A5A4-01A</td>\n",
       "      <td>Tissue Slide</td>\n",
       "    </tr>\n",
       "    <tr>\n",
       "      <th>71</th>\n",
       "      <td>TCGA-HZ-7289-01A-01-TS1.svs</td>\n",
       "      <td>19d4a22a-765e-4ed1-8716-fa5f82077909</td>\n",
       "      <td>61.09</td>\n",
       "      <td>TCGA-HZ-7289-01A</td>\n",
       "      <td>Tissue Slide</td>\n",
       "    </tr>\n",
       "    <tr>\n",
       "      <th>72</th>\n",
       "      <td>TCGA-3A-A9IU-01A-01-TS1.svs</td>\n",
       "      <td>fd01a1d2-726b-4a61-98e6-8579c44b5306</td>\n",
       "      <td>329.88</td>\n",
       "      <td>TCGA-3A-A9IU-01A</td>\n",
       "      <td>Tissue Slide</td>\n",
       "    </tr>\n",
       "    <tr>\n",
       "      <th>...</th>\n",
       "      <td>...</td>\n",
       "      <td>...</td>\n",
       "      <td>...</td>\n",
       "      <td>...</td>\n",
       "      <td>...</td>\n",
       "    </tr>\n",
       "    <tr>\n",
       "      <th>406</th>\n",
       "      <td>TCGA-HZ-7926-01A-01-TS1.svs</td>\n",
       "      <td>df866ab2-b017-4401-b8ff-b337fd1dc96d</td>\n",
       "      <td>94.50</td>\n",
       "      <td>TCGA-HZ-7926-01A</td>\n",
       "      <td>Tissue Slide</td>\n",
       "    </tr>\n",
       "    <tr>\n",
       "      <th>412</th>\n",
       "      <td>TCGA-OE-A75W-01A-01-TSA.svs</td>\n",
       "      <td>435b38e9-f2ef-40b4-a3a1-fee492665d1d</td>\n",
       "      <td>331.20</td>\n",
       "      <td>TCGA-OE-A75W-01A</td>\n",
       "      <td>Tissue Slide</td>\n",
       "    </tr>\n",
       "    <tr>\n",
       "      <th>415</th>\n",
       "      <td>TCGA-IB-7654-01A-01-TS1.svs</td>\n",
       "      <td>b8618062-3702-4310-8578-dc86f92ca298</td>\n",
       "      <td>63.30</td>\n",
       "      <td>TCGA-IB-7654-01A</td>\n",
       "      <td>Tissue Slide</td>\n",
       "    </tr>\n",
       "    <tr>\n",
       "      <th>424</th>\n",
       "      <td>TCGA-3E-AAAY-01A-01-TS1.svs</td>\n",
       "      <td>48c59b61-2f3b-4ca3-963e-a14d805a40db</td>\n",
       "      <td>73.83</td>\n",
       "      <td>TCGA-3E-AAAY-01A</td>\n",
       "      <td>Tissue Slide</td>\n",
       "    </tr>\n",
       "    <tr>\n",
       "      <th>426</th>\n",
       "      <td>TCGA-US-A77E-01A-01-TSA.svs</td>\n",
       "      <td>8ddd4b89-51ec-4991-a877-d52c18ed3417</td>\n",
       "      <td>133.29</td>\n",
       "      <td>TCGA-US-A77E-01A</td>\n",
       "      <td>Tissue Slide</td>\n",
       "    </tr>\n",
       "    <tr>\n",
       "      <th>428</th>\n",
       "      <td>TCGA-HZ-A9TJ-06A-01-TS1.svs</td>\n",
       "      <td>751bfb1d-69fb-47b3-b156-3b7dfb9bab30</td>\n",
       "      <td>244.28</td>\n",
       "      <td>TCGA-HZ-A9TJ-06A</td>\n",
       "      <td>Tissue Slide</td>\n",
       "    </tr>\n",
       "    <tr>\n",
       "      <th>429</th>\n",
       "      <td>TCGA-RL-AAAS-01A-03-TSC.svs</td>\n",
       "      <td>a26863b6-c94f-4ce0-8066-980b6d9b6069</td>\n",
       "      <td>185.68</td>\n",
       "      <td>TCGA-RL-AAAS-01A</td>\n",
       "      <td>Tissue Slide</td>\n",
       "    </tr>\n",
       "    <tr>\n",
       "      <th>430</th>\n",
       "      <td>TCGA-FB-AAQ3-01A-01-TS1.svs</td>\n",
       "      <td>c8c304be-9fb1-4e8a-9989-f55e3ebe2aba</td>\n",
       "      <td>304.78</td>\n",
       "      <td>TCGA-FB-AAQ3-01A</td>\n",
       "      <td>Tissue Slide</td>\n",
       "    </tr>\n",
       "    <tr>\n",
       "      <th>431</th>\n",
       "      <td>TCGA-HV-A5A6-01A-01-TS1.svs</td>\n",
       "      <td>b2e7be5a-7551-4eb4-989e-5c36b6219455</td>\n",
       "      <td>553.78</td>\n",
       "      <td>TCGA-HV-A5A6-01A</td>\n",
       "      <td>Tissue Slide</td>\n",
       "    </tr>\n",
       "    <tr>\n",
       "      <th>432</th>\n",
       "      <td>TCGA-F2-6879-01A-01-BS1.svs</td>\n",
       "      <td>b87dbff5-7dfb-4197-b94d-95faa87ddf87</td>\n",
       "      <td>68.55</td>\n",
       "      <td>TCGA-F2-6879-01A</td>\n",
       "      <td>Tissue Slide</td>\n",
       "    </tr>\n",
       "    <tr>\n",
       "      <th>433</th>\n",
       "      <td>TCGA-IB-A6UF-01A-02-TSB.svs</td>\n",
       "      <td>b6125fcd-cb28-4d21-85e3-31bbef1e84e8</td>\n",
       "      <td>508.57</td>\n",
       "      <td>TCGA-IB-A6UF-01A</td>\n",
       "      <td>Tissue Slide</td>\n",
       "    </tr>\n",
       "    <tr>\n",
       "      <th>434</th>\n",
       "      <td>TCGA-XD-AAUG-01A-06-TSF.svs</td>\n",
       "      <td>291d9b57-0e69-42dc-93e2-33f70ef608d8</td>\n",
       "      <td>294.95</td>\n",
       "      <td>TCGA-XD-AAUG-01A</td>\n",
       "      <td>Tissue Slide</td>\n",
       "    </tr>\n",
       "    <tr>\n",
       "      <th>437</th>\n",
       "      <td>TCGA-HZ-A4BH-01A-01-TS1.svs</td>\n",
       "      <td>101a411d-fa3a-4a14-a1de-d5fa8f368de7</td>\n",
       "      <td>345.95</td>\n",
       "      <td>TCGA-HZ-A4BH-01A</td>\n",
       "      <td>Tissue Slide</td>\n",
       "    </tr>\n",
       "    <tr>\n",
       "      <th>438</th>\n",
       "      <td>TCGA-FB-A5VM-01A-01-TSA.svs</td>\n",
       "      <td>0a12512e-3f61-453c-af31-d55bcc2eac51</td>\n",
       "      <td>182.62</td>\n",
       "      <td>TCGA-FB-A5VM-01A</td>\n",
       "      <td>Tissue Slide</td>\n",
       "    </tr>\n",
       "    <tr>\n",
       "      <th>439</th>\n",
       "      <td>TCGA-3A-A9IJ-01A-01-TS1.svs</td>\n",
       "      <td>e01b9056-d0aa-49d9-b72d-7ec34549f7df</td>\n",
       "      <td>639.01</td>\n",
       "      <td>TCGA-3A-A9IJ-01A</td>\n",
       "      <td>Tissue Slide</td>\n",
       "    </tr>\n",
       "    <tr>\n",
       "      <th>441</th>\n",
       "      <td>TCGA-IB-7893-01A-01-BS1.svs</td>\n",
       "      <td>fa8c095e-62e3-4fee-a71b-f817ebe7174e</td>\n",
       "      <td>516.43</td>\n",
       "      <td>TCGA-IB-7893-01A</td>\n",
       "      <td>Tissue Slide</td>\n",
       "    </tr>\n",
       "    <tr>\n",
       "      <th>442</th>\n",
       "      <td>TCGA-2J-AABF-01A-03-TS3.svs</td>\n",
       "      <td>f4d037b8-672c-4df2-983f-07e8dee16699</td>\n",
       "      <td>220.47</td>\n",
       "      <td>TCGA-2J-AABF-01A</td>\n",
       "      <td>Tissue Slide</td>\n",
       "    </tr>\n",
       "    <tr>\n",
       "      <th>444</th>\n",
       "      <td>TCGA-HZ-A49H-01A-01-TS1.svs</td>\n",
       "      <td>c54c430b-61d8-4240-929c-3cfeb041c2ef</td>\n",
       "      <td>367.12</td>\n",
       "      <td>TCGA-HZ-A49H-01A</td>\n",
       "      <td>Tissue Slide</td>\n",
       "    </tr>\n",
       "    <tr>\n",
       "      <th>447</th>\n",
       "      <td>TCGA-3E-AAAZ-01A-01-TSA.svs</td>\n",
       "      <td>fdb05f2a-4f9c-4087-83d8-880492242afb</td>\n",
       "      <td>488.15</td>\n",
       "      <td>TCGA-3E-AAAZ-01A</td>\n",
       "      <td>Tissue Slide</td>\n",
       "    </tr>\n",
       "    <tr>\n",
       "      <th>448</th>\n",
       "      <td>TCGA-US-A776-01A-01-TSA.svs</td>\n",
       "      <td>b679d570-4934-42a6-8a7e-53e359dbd08b</td>\n",
       "      <td>145.72</td>\n",
       "      <td>TCGA-US-A776-01A</td>\n",
       "      <td>Tissue Slide</td>\n",
       "    </tr>\n",
       "    <tr>\n",
       "      <th>450</th>\n",
       "      <td>TCGA-Q3-A5QY-01A-01-TSA.svs</td>\n",
       "      <td>ed52c4e9-216b-4e29-942f-4cab57d3c002</td>\n",
       "      <td>277.83</td>\n",
       "      <td>TCGA-Q3-A5QY-01A</td>\n",
       "      <td>Tissue Slide</td>\n",
       "    </tr>\n",
       "    <tr>\n",
       "      <th>451</th>\n",
       "      <td>TCGA-HZ-7925-01A-01-BS1.svs</td>\n",
       "      <td>5e1bf29f-a734-4d3d-8e6a-5af4b8c83f12</td>\n",
       "      <td>390.72</td>\n",
       "      <td>TCGA-HZ-7925-01A</td>\n",
       "      <td>Tissue Slide</td>\n",
       "    </tr>\n",
       "    <tr>\n",
       "      <th>452</th>\n",
       "      <td>TCGA-HZ-A8P0-01A-01-TS1.svs</td>\n",
       "      <td>8cb1d515-8cc1-4009-bbf2-fc027487ec07</td>\n",
       "      <td>225.45</td>\n",
       "      <td>TCGA-HZ-A8P0-01A</td>\n",
       "      <td>Tissue Slide</td>\n",
       "    </tr>\n",
       "    <tr>\n",
       "      <th>453</th>\n",
       "      <td>TCGA-IB-A5SQ-01A-01-TSA.svs</td>\n",
       "      <td>1570947f-3b1f-494e-9068-7596f0f8de1c</td>\n",
       "      <td>286.13</td>\n",
       "      <td>TCGA-IB-A5SQ-01A</td>\n",
       "      <td>Tissue Slide</td>\n",
       "    </tr>\n",
       "    <tr>\n",
       "      <th>455</th>\n",
       "      <td>TCGA-IB-7893-01A-01-TS1.svs</td>\n",
       "      <td>7c93f282-d0bc-4eff-a265-4cd7d4e64b17</td>\n",
       "      <td>68.49</td>\n",
       "      <td>TCGA-IB-7893-01A</td>\n",
       "      <td>Tissue Slide</td>\n",
       "    </tr>\n",
       "    <tr>\n",
       "      <th>457</th>\n",
       "      <td>TCGA-RB-AA9M-01A-01-TS1.svs</td>\n",
       "      <td>967aa38e-6cdf-4d3b-8991-d22fc08e0551</td>\n",
       "      <td>355.24</td>\n",
       "      <td>TCGA-RB-AA9M-01A</td>\n",
       "      <td>Tissue Slide</td>\n",
       "    </tr>\n",
       "    <tr>\n",
       "      <th>459</th>\n",
       "      <td>TCGA-FB-AAPY-01A-01-TS1.svs</td>\n",
       "      <td>144b9207-2398-4df8-8cf6-de2c2cf0e14c</td>\n",
       "      <td>381.09</td>\n",
       "      <td>TCGA-FB-AAPY-01A</td>\n",
       "      <td>Tissue Slide</td>\n",
       "    </tr>\n",
       "    <tr>\n",
       "      <th>460</th>\n",
       "      <td>TCGA-2J-AABK-01A-03-TS3.svs</td>\n",
       "      <td>fce4f1bc-e56b-4a9f-9565-88c7795427f8</td>\n",
       "      <td>328.65</td>\n",
       "      <td>TCGA-2J-AABK-01A</td>\n",
       "      <td>Tissue Slide</td>\n",
       "    </tr>\n",
       "    <tr>\n",
       "      <th>461</th>\n",
       "      <td>TCGA-2J-AABA-01A-02-TS2.svs</td>\n",
       "      <td>d7cbf628-9f03-4872-be52-ac0c305e1308</td>\n",
       "      <td>197.87</td>\n",
       "      <td>TCGA-2J-AABA-01A</td>\n",
       "      <td>Tissue Slide</td>\n",
       "    </tr>\n",
       "    <tr>\n",
       "      <th>462</th>\n",
       "      <td>TCGA-HZ-A77O-01A-01-TS1.svs</td>\n",
       "      <td>8ceee345-b355-4b2a-a08b-097beca25d84</td>\n",
       "      <td>160.72</td>\n",
       "      <td>TCGA-HZ-A77O-01A</td>\n",
       "      <td>Tissue Slide</td>\n",
       "    </tr>\n",
       "  </tbody>\n",
       "</table>\n",
       "<p>209 rows × 5 columns</p>\n",
       "</div>"
      ],
      "text/plain": [
       "                       file_name                               file_id  \\\n",
       "1    TCGA-HZ-A49I-01A-01-TS1.svs  7ec5c9d0-8c22-4e30-bae8-605c3dcfe744   \n",
       "2    TCGA-3A-A9IZ-01A-01-TS1.svs  265adb6b-913e-490c-8cea-32d67c1440a2   \n",
       "3    TCGA-IB-7891-01A-01-BS1.svs  8b5ee711-7836-47e9-a96c-5a1dafdccaec   \n",
       "4    TCGA-IB-A5ST-01A-01-TSA.svs  8587e7dc-95b2-4a30-8223-664a8ab7bfe6   \n",
       "7    TCGA-FB-AAQ2-01A-03-TSC.svs  638c0e4c-9419-416c-8355-8ac023d8edb2   \n",
       "8    TCGA-H8-A6C1-01A-01-TS1.svs  1cff51cc-2a5c-4996-9895-bfe6f227a0e3   \n",
       "10   TCGA-HZ-7920-01A-01-TS1.svs  eb2d2ac5-c29d-48b3-b922-893404259e75   \n",
       "11   TCGA-3A-A9IC-01A-01-TS1.svs  b01cdb94-a2be-4c44-ba87-5057912cb74e   \n",
       "12   TCGA-HZ-8519-01A-01-TS1.svs  63ebeb64-60d4-49c7-b63a-d7556bfe052e   \n",
       "13   TCGA-IB-8126-01A-01-TS1.svs  b0f1ee22-b711-4c53-8d88-c0f96c9fe7e5   \n",
       "15   TCGA-S4-A8RP-01A-01-TSA.svs  74e3ee6f-815b-4833-b69c-bd57d965c8c8   \n",
       "16   TCGA-IB-7651-01A-01-TS1.svs  ea95da1a-7b4a-4875-9bdc-c959669a0919   \n",
       "21   TCGA-IB-AAUS-01A-01-TSA.svs  7b625bee-ebab-49a5-9ac6-9b293e43be18   \n",
       "22   TCGA-LB-A9Q5-01A-01-TS1.svs  a11fde2c-54d5-4c3a-ba5f-46bc1aebc97a   \n",
       "24   TCGA-FB-A78T-01A-01-TSA.svs  af925f00-6f94-484c-8996-adc0b6bbee91   \n",
       "28   TCGA-FB-AAPS-01A-01-TS1.svs  b608ced0-afdb-41bf-83f8-61c1e0d321dc   \n",
       "34   TCGA-HZ-8002-01A-01-BS1.svs  b3968bbf-ae61-42aa-a9a7-060656b775c5   \n",
       "35   TCGA-3A-A9I5-01A-01-TS1.svs  1deacc62-ec04-486e-b1c7-48d178638541   \n",
       "38   TCGA-HZ-A4BK-01A-01-TS1.svs  59831780-7a1d-4ed4-9394-c7a864e2dcae   \n",
       "45   TCGA-IB-AAUV-01A-01-TSA.svs  47b5b4b8-ed91-4eaf-b8a1-e15ceb4d649d   \n",
       "52   TCGA-M8-A5N4-01A-01-TS1.svs  3760e743-88f8-4e10-b691-248a908791ea   \n",
       "57   TCGA-IB-7649-01A-01-TS1.svs  70dd113a-2064-4ced-8b6f-dd3230758832   \n",
       "59   TCGA-2L-AAQE-01A-01-TS1.svs  4777bed9-6df0-44d3-b16d-21a072c43e74   \n",
       "61   TCGA-XN-A8T5-01A-01-TS1.svs  e72b8da9-caa3-42df-8e02-692bf47fc43e   \n",
       "62   TCGA-IB-AAUW-01A-01-TS1.svs  e668dbf1-d791-431f-82dd-f61e25bec647   \n",
       "63   TCGA-IB-A5SP-01A-01-TSA.svs  beeb4618-8d0c-4a11-981d-74cd24f8828e   \n",
       "69   TCGA-H6-A45N-11A-01-TS1.svs  5675a0f1-0b8f-4699-94cc-e09c1f9a70f9   \n",
       "70   TCGA-HV-A5A4-01A-01-TS1.svs  e62e673d-cd0d-40e6-8704-5841253b871e   \n",
       "71   TCGA-HZ-7289-01A-01-TS1.svs  19d4a22a-765e-4ed1-8716-fa5f82077909   \n",
       "72   TCGA-3A-A9IU-01A-01-TS1.svs  fd01a1d2-726b-4a61-98e6-8579c44b5306   \n",
       "..                           ...                                   ...   \n",
       "406  TCGA-HZ-7926-01A-01-TS1.svs  df866ab2-b017-4401-b8ff-b337fd1dc96d   \n",
       "412  TCGA-OE-A75W-01A-01-TSA.svs  435b38e9-f2ef-40b4-a3a1-fee492665d1d   \n",
       "415  TCGA-IB-7654-01A-01-TS1.svs  b8618062-3702-4310-8578-dc86f92ca298   \n",
       "424  TCGA-3E-AAAY-01A-01-TS1.svs  48c59b61-2f3b-4ca3-963e-a14d805a40db   \n",
       "426  TCGA-US-A77E-01A-01-TSA.svs  8ddd4b89-51ec-4991-a877-d52c18ed3417   \n",
       "428  TCGA-HZ-A9TJ-06A-01-TS1.svs  751bfb1d-69fb-47b3-b156-3b7dfb9bab30   \n",
       "429  TCGA-RL-AAAS-01A-03-TSC.svs  a26863b6-c94f-4ce0-8066-980b6d9b6069   \n",
       "430  TCGA-FB-AAQ3-01A-01-TS1.svs  c8c304be-9fb1-4e8a-9989-f55e3ebe2aba   \n",
       "431  TCGA-HV-A5A6-01A-01-TS1.svs  b2e7be5a-7551-4eb4-989e-5c36b6219455   \n",
       "432  TCGA-F2-6879-01A-01-BS1.svs  b87dbff5-7dfb-4197-b94d-95faa87ddf87   \n",
       "433  TCGA-IB-A6UF-01A-02-TSB.svs  b6125fcd-cb28-4d21-85e3-31bbef1e84e8   \n",
       "434  TCGA-XD-AAUG-01A-06-TSF.svs  291d9b57-0e69-42dc-93e2-33f70ef608d8   \n",
       "437  TCGA-HZ-A4BH-01A-01-TS1.svs  101a411d-fa3a-4a14-a1de-d5fa8f368de7   \n",
       "438  TCGA-FB-A5VM-01A-01-TSA.svs  0a12512e-3f61-453c-af31-d55bcc2eac51   \n",
       "439  TCGA-3A-A9IJ-01A-01-TS1.svs  e01b9056-d0aa-49d9-b72d-7ec34549f7df   \n",
       "441  TCGA-IB-7893-01A-01-BS1.svs  fa8c095e-62e3-4fee-a71b-f817ebe7174e   \n",
       "442  TCGA-2J-AABF-01A-03-TS3.svs  f4d037b8-672c-4df2-983f-07e8dee16699   \n",
       "444  TCGA-HZ-A49H-01A-01-TS1.svs  c54c430b-61d8-4240-929c-3cfeb041c2ef   \n",
       "447  TCGA-3E-AAAZ-01A-01-TSA.svs  fdb05f2a-4f9c-4087-83d8-880492242afb   \n",
       "448  TCGA-US-A776-01A-01-TSA.svs  b679d570-4934-42a6-8a7e-53e359dbd08b   \n",
       "450  TCGA-Q3-A5QY-01A-01-TSA.svs  ed52c4e9-216b-4e29-942f-4cab57d3c002   \n",
       "451  TCGA-HZ-7925-01A-01-BS1.svs  5e1bf29f-a734-4d3d-8e6a-5af4b8c83f12   \n",
       "452  TCGA-HZ-A8P0-01A-01-TS1.svs  8cb1d515-8cc1-4009-bbf2-fc027487ec07   \n",
       "453  TCGA-IB-A5SQ-01A-01-TSA.svs  1570947f-3b1f-494e-9068-7596f0f8de1c   \n",
       "455  TCGA-IB-7893-01A-01-TS1.svs  7c93f282-d0bc-4eff-a265-4cd7d4e64b17   \n",
       "457  TCGA-RB-AA9M-01A-01-TS1.svs  967aa38e-6cdf-4d3b-8991-d22fc08e0551   \n",
       "459  TCGA-FB-AAPY-01A-01-TS1.svs  144b9207-2398-4df8-8cf6-de2c2cf0e14c   \n",
       "460  TCGA-2J-AABK-01A-03-TS3.svs  fce4f1bc-e56b-4a9f-9565-88c7795427f8   \n",
       "461  TCGA-2J-AABA-01A-02-TS2.svs  d7cbf628-9f03-4872-be52-ac0c305e1308   \n",
       "462  TCGA-HZ-A77O-01A-01-TS1.svs  8ceee345-b355-4b2a-a08b-097beca25d84   \n",
       "\n",
       "     file_size         sample_id experimental_strategy  \n",
       "1       293.72  TCGA-HZ-A49I-01A          Tissue Slide  \n",
       "2       166.95  TCGA-3A-A9IZ-01A          Tissue Slide  \n",
       "3       703.26  TCGA-IB-7891-01A          Tissue Slide  \n",
       "4       366.12  TCGA-IB-A5ST-01A          Tissue Slide  \n",
       "7       304.14  TCGA-FB-AAQ2-01A          Tissue Slide  \n",
       "8       151.85  TCGA-H8-A6C1-01A          Tissue Slide  \n",
       "10       61.02  TCGA-HZ-7920-01A          Tissue Slide  \n",
       "11      348.22  TCGA-3A-A9IC-01A          Tissue Slide  \n",
       "12       68.78  TCGA-HZ-8519-01A          Tissue Slide  \n",
       "13       59.41  TCGA-IB-8126-01A          Tissue Slide  \n",
       "15      134.23  TCGA-S4-A8RP-01A          Tissue Slide  \n",
       "16       55.08  TCGA-IB-7651-01A          Tissue Slide  \n",
       "21      435.54  TCGA-IB-AAUS-01A          Tissue Slide  \n",
       "22      290.76  TCGA-LB-A9Q5-01A          Tissue Slide  \n",
       "24      269.97  TCGA-FB-A78T-01A          Tissue Slide  \n",
       "28      317.82  TCGA-FB-AAPS-01A          Tissue Slide  \n",
       "34       66.07  TCGA-HZ-8002-01A          Tissue Slide  \n",
       "35      148.97  TCGA-3A-A9I5-01A          Tissue Slide  \n",
       "38      223.23  TCGA-HZ-A4BK-01A          Tissue Slide  \n",
       "45      372.60  TCGA-IB-AAUV-01A          Tissue Slide  \n",
       "52      361.70  TCGA-M8-A5N4-01A          Tissue Slide  \n",
       "57       43.59  TCGA-IB-7649-01A          Tissue Slide  \n",
       "59      207.39  TCGA-2L-AAQE-01A          Tissue Slide  \n",
       "61      219.15  TCGA-XN-A8T5-01A          Tissue Slide  \n",
       "62      223.11  TCGA-IB-AAUW-01A          Tissue Slide  \n",
       "63      344.56  TCGA-IB-A5SP-01A          Tissue Slide  \n",
       "69      103.71  TCGA-H6-A45N-11A          Tissue Slide  \n",
       "70       83.99  TCGA-HV-A5A4-01A          Tissue Slide  \n",
       "71       61.09  TCGA-HZ-7289-01A          Tissue Slide  \n",
       "72      329.88  TCGA-3A-A9IU-01A          Tissue Slide  \n",
       "..         ...               ...                   ...  \n",
       "406      94.50  TCGA-HZ-7926-01A          Tissue Slide  \n",
       "412     331.20  TCGA-OE-A75W-01A          Tissue Slide  \n",
       "415      63.30  TCGA-IB-7654-01A          Tissue Slide  \n",
       "424      73.83  TCGA-3E-AAAY-01A          Tissue Slide  \n",
       "426     133.29  TCGA-US-A77E-01A          Tissue Slide  \n",
       "428     244.28  TCGA-HZ-A9TJ-06A          Tissue Slide  \n",
       "429     185.68  TCGA-RL-AAAS-01A          Tissue Slide  \n",
       "430     304.78  TCGA-FB-AAQ3-01A          Tissue Slide  \n",
       "431     553.78  TCGA-HV-A5A6-01A          Tissue Slide  \n",
       "432      68.55  TCGA-F2-6879-01A          Tissue Slide  \n",
       "433     508.57  TCGA-IB-A6UF-01A          Tissue Slide  \n",
       "434     294.95  TCGA-XD-AAUG-01A          Tissue Slide  \n",
       "437     345.95  TCGA-HZ-A4BH-01A          Tissue Slide  \n",
       "438     182.62  TCGA-FB-A5VM-01A          Tissue Slide  \n",
       "439     639.01  TCGA-3A-A9IJ-01A          Tissue Slide  \n",
       "441     516.43  TCGA-IB-7893-01A          Tissue Slide  \n",
       "442     220.47  TCGA-2J-AABF-01A          Tissue Slide  \n",
       "444     367.12  TCGA-HZ-A49H-01A          Tissue Slide  \n",
       "447     488.15  TCGA-3E-AAAZ-01A          Tissue Slide  \n",
       "448     145.72  TCGA-US-A776-01A          Tissue Slide  \n",
       "450     277.83  TCGA-Q3-A5QY-01A          Tissue Slide  \n",
       "451     390.72  TCGA-HZ-7925-01A          Tissue Slide  \n",
       "452     225.45  TCGA-HZ-A8P0-01A          Tissue Slide  \n",
       "453     286.13  TCGA-IB-A5SQ-01A          Tissue Slide  \n",
       "455      68.49  TCGA-IB-7893-01A          Tissue Slide  \n",
       "457     355.24  TCGA-RB-AA9M-01A          Tissue Slide  \n",
       "459     381.09  TCGA-FB-AAPY-01A          Tissue Slide  \n",
       "460     328.65  TCGA-2J-AABK-01A          Tissue Slide  \n",
       "461     197.87  TCGA-2J-AABA-01A          Tissue Slide  \n",
       "462     160.72  TCGA-HZ-A77O-01A          Tissue Slide  \n",
       "\n",
       "[209 rows x 5 columns]"
      ]
     },
     "execution_count": 112,
     "metadata": {},
     "output_type": "execute_result"
    }
   ],
   "source": [
    "slides_df"
   ]
  },
  {
   "cell_type": "markdown",
   "metadata": {},
   "source": [
    "## Slides"
   ]
  },
  {
   "cell_type": "markdown",
   "metadata": {},
   "source": [
    "*Keep only the ones with RNASeq related data?*\n",
    "*Keep only tissue slides?*"
   ]
  },
  {
   "cell_type": "markdown",
   "metadata": {},
   "source": [
    "Number of files and count"
   ]
  },
  {
   "cell_type": "code",
   "execution_count": 28,
   "metadata": {},
   "outputs": [
    {
     "data": {
      "text/html": [
       "<div>\n",
       "<style scoped>\n",
       "    .dataframe tbody tr th:only-of-type {\n",
       "        vertical-align: middle;\n",
       "    }\n",
       "\n",
       "    .dataframe tbody tr th {\n",
       "        vertical-align: top;\n",
       "    }\n",
       "\n",
       "    .dataframe thead th {\n",
       "        text-align: right;\n",
       "    }\n",
       "</style>\n",
       "<table border=\"1\" class=\"dataframe\">\n",
       "  <thead>\n",
       "    <tr style=\"text-align: right;\">\n",
       "      <th></th>\n",
       "      <th>count</th>\n",
       "      <th>total_size (gb)</th>\n",
       "    </tr>\n",
       "    <tr>\n",
       "      <th>experimental_strategy</th>\n",
       "      <th></th>\n",
       "      <th></th>\n",
       "    </tr>\n",
       "  </thead>\n",
       "  <tbody>\n",
       "    <tr>\n",
       "      <th>Diagnostic Slide</th>\n",
       "      <td>209</td>\n",
       "      <td>244.53</td>\n",
       "    </tr>\n",
       "    <tr>\n",
       "      <th>Tissue Slide</th>\n",
       "      <td>257</td>\n",
       "      <td>57.48</td>\n",
       "    </tr>\n",
       "  </tbody>\n",
       "</table>\n",
       "</div>"
      ],
      "text/plain": [
       "                       count  total_size (gb)\n",
       "experimental_strategy                        \n",
       "Diagnostic Slide         209           244.53\n",
       "Tissue Slide             257            57.48"
      ]
     },
     "execution_count": 28,
     "metadata": {},
     "output_type": "execute_result"
    }
   ],
   "source": [
    "summary = slides_df.groupby('experimental_strategy').agg({'file_name': 'size', 'file_size': 'sum'})\n",
    "summary = summary.rename(columns={'file_name': 'count', 'file_size': 'total_size (gb)'})\n",
    "summary['total_size (gb)'] = round(summary['total_size (gb)'] / 1000, 2)\n",
    "\n",
    "summary"
   ]
  },
  {
   "cell_type": "code",
   "execution_count": 14,
   "metadata": {},
   "outputs": [],
   "source": [
    "rna_seq_samples = rnaseq_df['sample_id'].unique()"
   ]
  },
  {
   "cell_type": "code",
   "execution_count": 15,
   "metadata": {},
   "outputs": [],
   "source": [
    "slides_df = slides_df[slides_df['sample_id'].isin(rna_seq_samples)]"
   ]
  },
  {
   "cell_type": "code",
   "execution_count": 16,
   "metadata": {},
   "outputs": [
    {
     "data": {
      "text/html": [
       "<div>\n",
       "<style scoped>\n",
       "    .dataframe tbody tr th:only-of-type {\n",
       "        vertical-align: middle;\n",
       "    }\n",
       "\n",
       "    .dataframe tbody tr th {\n",
       "        vertical-align: top;\n",
       "    }\n",
       "\n",
       "    .dataframe thead th {\n",
       "        text-align: right;\n",
       "    }\n",
       "</style>\n",
       "<table border=\"1\" class=\"dataframe\">\n",
       "  <thead>\n",
       "    <tr style=\"text-align: right;\">\n",
       "      <th></th>\n",
       "      <th>count</th>\n",
       "      <th>total_size (gb)</th>\n",
       "    </tr>\n",
       "    <tr>\n",
       "      <th>experimental_strategy</th>\n",
       "      <th></th>\n",
       "      <th></th>\n",
       "    </tr>\n",
       "  </thead>\n",
       "  <tbody>\n",
       "    <tr>\n",
       "      <th>Tissue Slide</th>\n",
       "      <td>209</td>\n",
       "      <td>51.8</td>\n",
       "    </tr>\n",
       "  </tbody>\n",
       "</table>\n",
       "</div>"
      ],
      "text/plain": [
       "                       count  total_size (gb)\n",
       "experimental_strategy                        \n",
       "Tissue Slide             209             51.8"
      ]
     },
     "execution_count": 16,
     "metadata": {},
     "output_type": "execute_result"
    }
   ],
   "source": [
    "summary = slides_df.groupby('experimental_strategy').agg({'file_name': 'size', 'file_size': 'sum'})\n",
    "summary = summary.rename(columns={'file_name': 'count', 'file_size': 'total_size (gb)'})\n",
    "summary['total_size (gb)'] = round(summary['total_size (gb)'] / 1000, 2)\n",
    "\n",
    "summary"
   ]
  },
  {
   "cell_type": "code",
   "execution_count": 17,
   "metadata": {},
   "outputs": [],
   "source": [
    "# Download only failed\n",
    "files_downloaded = os.listdir(slides_path)\n",
    "slides_df = slides_df[-slides_df['file_name'].isin(files_downloaded)]"
   ]
  },
  {
   "cell_type": "code",
   "execution_count": 18,
   "metadata": {},
   "outputs": [
    {
     "data": {
      "text/html": [
       "<div>\n",
       "<style scoped>\n",
       "    .dataframe tbody tr th:only-of-type {\n",
       "        vertical-align: middle;\n",
       "    }\n",
       "\n",
       "    .dataframe tbody tr th {\n",
       "        vertical-align: top;\n",
       "    }\n",
       "\n",
       "    .dataframe thead th {\n",
       "        text-align: right;\n",
       "    }\n",
       "</style>\n",
       "<table border=\"1\" class=\"dataframe\">\n",
       "  <thead>\n",
       "    <tr style=\"text-align: right;\">\n",
       "      <th></th>\n",
       "      <th>count</th>\n",
       "      <th>total_size (gb)</th>\n",
       "    </tr>\n",
       "    <tr>\n",
       "      <th>experimental_strategy</th>\n",
       "      <th></th>\n",
       "      <th></th>\n",
       "    </tr>\n",
       "  </thead>\n",
       "  <tbody>\n",
       "    <tr>\n",
       "      <th>Tissue Slide</th>\n",
       "      <td>48</td>\n",
       "      <td>12.59</td>\n",
       "    </tr>\n",
       "  </tbody>\n",
       "</table>\n",
       "</div>"
      ],
      "text/plain": [
       "                       count  total_size (gb)\n",
       "experimental_strategy                        \n",
       "Tissue Slide              48            12.59"
      ]
     },
     "execution_count": 18,
     "metadata": {},
     "output_type": "execute_result"
    }
   ],
   "source": [
    "summary = slides_df.groupby('experimental_strategy').agg({'file_name': 'size', 'file_size': 'sum'})\n",
    "summary = summary.rename(columns={'file_name': 'count', 'file_size': 'total_size (gb)'})\n",
    "summary['total_size (gb)'] = round(summary['total_size (gb)'] / 1000, 2)\n",
    "\n",
    "summary"
   ]
  },
  {
   "cell_type": "code",
   "execution_count": null,
   "metadata": {
    "collapsed": true
   },
   "outputs": [
    {
     "data": {
      "application/vnd.jupyter.widget-view+json": {
       "model_id": "40de4a0523924b4abc5733674a9b7a0d",
       "version_major": 2,
       "version_minor": 0
      },
      "text/plain": [
       "HBox(children=(IntProgress(value=0, description='Files', max=52, style=ProgressStyle(description_width='initia…"
      ]
     },
     "metadata": {},
     "output_type": "display_data"
    },
    {
     "name": "stdout",
     "output_type": "stream",
     "text": [
      " \r"
     ]
    },
    {
     "data": {
      "application/vnd.jupyter.widget-view+json": {
       "model_id": "7b3fd513268e4905a965cc9bd5289d4c",
       "version_major": 2,
       "version_minor": 0
      },
      "text/plain": [
       "HBox(children=(IntProgress(value=0, description='TCGA-HZ-A9TJ-01A-01-TS1.svs', max=258499, style=ProgressStyle…"
      ]
     },
     "metadata": {},
     "output_type": "display_data"
    },
    {
     "name": "stdout",
     "output_type": "stream",
     "text": [
      " \r"
     ]
    },
    {
     "data": {
      "application/vnd.jupyter.widget-view+json": {
       "model_id": "dd5b1fe998444e9da57042f01eff27a6",
       "version_major": 2,
       "version_minor": 0
      },
      "text/plain": [
       "HBox(children=(IntProgress(value=0, description='TCGA-IB-AAUM-01A-01-TSA.svs', max=531876, style=ProgressStyle…"
      ]
     },
     "metadata": {},
     "output_type": "display_data"
    },
    {
     "name": "stdout",
     "output_type": "stream",
     "text": [
      " \r"
     ]
    },
    {
     "data": {
      "application/vnd.jupyter.widget-view+json": {
       "model_id": "6ffcffdd2bbb4e0d92ee734584767574",
       "version_major": 2,
       "version_minor": 0
      },
      "text/plain": [
       "HBox(children=(IntProgress(value=0, description='TCGA-HZ-7923-01A-01-TS1.svs', max=39813, style=ProgressStyle(…"
      ]
     },
     "metadata": {},
     "output_type": "display_data"
    },
    {
     "data": {
      "application/vnd.jupyter.widget-view+json": {
       "model_id": "a9877c39705d4c04a983c3e95e827599",
       "version_major": 2,
       "version_minor": 0
      },
      "text/plain": [
       "HBox(children=(IntProgress(value=0, description='TCGA-IB-7887-01A-01-BS1.svs', max=581028, style=ProgressStyle…"
      ]
     },
     "metadata": {},
     "output_type": "display_data"
    }
   ],
   "source": [
    "api_download_iterative(slides_df, slides_path, multiprocess=4)"
   ]
  },
  {
   "cell_type": "markdown",
   "metadata": {},
   "source": [
    "## RNA-Seq"
   ]
  },
  {
   "cell_type": "code",
   "execution_count": 119,
   "metadata": {},
   "outputs": [
    {
     "data": {
      "text/html": [
       "<div>\n",
       "<style scoped>\n",
       "    .dataframe tbody tr th:only-of-type {\n",
       "        vertical-align: middle;\n",
       "    }\n",
       "\n",
       "    .dataframe tbody tr th {\n",
       "        vertical-align: top;\n",
       "    }\n",
       "\n",
       "    .dataframe thead th {\n",
       "        text-align: right;\n",
       "    }\n",
       "</style>\n",
       "<table border=\"1\" class=\"dataframe\">\n",
       "  <thead>\n",
       "    <tr style=\"text-align: right;\">\n",
       "      <th></th>\n",
       "      <th>workflow_type</th>\n",
       "      <th>0</th>\n",
       "    </tr>\n",
       "  </thead>\n",
       "  <tbody>\n",
       "    <tr>\n",
       "      <th>0</th>\n",
       "      <td>HTSeq - Counts</td>\n",
       "      <td>182</td>\n",
       "    </tr>\n",
       "    <tr>\n",
       "      <th>1</th>\n",
       "      <td>HTSeq - FPKM</td>\n",
       "      <td>182</td>\n",
       "    </tr>\n",
       "    <tr>\n",
       "      <th>2</th>\n",
       "      <td>HTSeq - FPKM-UQ</td>\n",
       "      <td>182</td>\n",
       "    </tr>\n",
       "  </tbody>\n",
       "</table>\n",
       "</div>"
      ],
      "text/plain": [
       "     workflow_type    0\n",
       "0   HTSeq - Counts  182\n",
       "1     HTSeq - FPKM  182\n",
       "2  HTSeq - FPKM-UQ  182"
      ]
     },
     "execution_count": 119,
     "metadata": {},
     "output_type": "execute_result"
    }
   ],
   "source": [
    "summary = rnaseq_df.groupby('workflow_type').size()\n",
    "summary.reset_index()"
   ]
  },
  {
   "cell_type": "code",
   "execution_count": 32,
   "metadata": {},
   "outputs": [
    {
     "data": {
      "text/html": [
       "<div>\n",
       "<style scoped>\n",
       "    .dataframe tbody tr th:only-of-type {\n",
       "        vertical-align: middle;\n",
       "    }\n",
       "\n",
       "    .dataframe tbody tr th {\n",
       "        vertical-align: top;\n",
       "    }\n",
       "\n",
       "    .dataframe thead th {\n",
       "        text-align: right;\n",
       "    }\n",
       "</style>\n",
       "<table border=\"1\" class=\"dataframe\">\n",
       "  <thead>\n",
       "    <tr style=\"text-align: right;\">\n",
       "      <th></th>\n",
       "      <th>count</th>\n",
       "      <th>total_size (gb)</th>\n",
       "    </tr>\n",
       "    <tr>\n",
       "      <th>workflow_type</th>\n",
       "      <th></th>\n",
       "      <th></th>\n",
       "    </tr>\n",
       "  </thead>\n",
       "  <tbody>\n",
       "    <tr>\n",
       "      <th>HTSeq - Counts</th>\n",
       "      <td>182</td>\n",
       "      <td>0.05</td>\n",
       "    </tr>\n",
       "    <tr>\n",
       "      <th>HTSeq - FPKM</th>\n",
       "      <td>182</td>\n",
       "      <td>0.09</td>\n",
       "    </tr>\n",
       "    <tr>\n",
       "      <th>HTSeq - FPKM-UQ</th>\n",
       "      <td>182</td>\n",
       "      <td>0.09</td>\n",
       "    </tr>\n",
       "  </tbody>\n",
       "</table>\n",
       "</div>"
      ],
      "text/plain": [
       "                 count  total_size (gb)\n",
       "workflow_type                          \n",
       "HTSeq - Counts     182             0.05\n",
       "HTSeq - FPKM       182             0.09\n",
       "HTSeq - FPKM-UQ    182             0.09"
      ]
     },
     "execution_count": 32,
     "metadata": {},
     "output_type": "execute_result"
    }
   ],
   "source": [
    "summary = rnaseq_df.groupby('workflow_type').agg({'file_name': 'size', 'file_size': 'sum'})\n",
    "summary = summary.rename(columns={'file_name': 'count', 'file_size': 'total_size (gb)'})\n",
    "summary['total_size (gb)'] = round(summary['total_size (gb)'] / 1000, 2)\n",
    "\n",
    "summary"
   ]
  },
  {
   "cell_type": "code",
   "execution_count": 34,
   "metadata": {},
   "outputs": [],
   "source": [
    "slides_samples = slides_df['sample_id'].unique()"
   ]
  },
  {
   "cell_type": "code",
   "execution_count": 36,
   "metadata": {},
   "outputs": [],
   "source": [
    "rnaseq_df = rnaseq_df[rnaseq_df['sample_id'].isin(slides_samples)]"
   ]
  },
  {
   "cell_type": "code",
   "execution_count": 37,
   "metadata": {},
   "outputs": [
    {
     "data": {
      "text/html": [
       "<div>\n",
       "<style scoped>\n",
       "    .dataframe tbody tr th:only-of-type {\n",
       "        vertical-align: middle;\n",
       "    }\n",
       "\n",
       "    .dataframe tbody tr th {\n",
       "        vertical-align: top;\n",
       "    }\n",
       "\n",
       "    .dataframe thead th {\n",
       "        text-align: right;\n",
       "    }\n",
       "</style>\n",
       "<table border=\"1\" class=\"dataframe\">\n",
       "  <thead>\n",
       "    <tr style=\"text-align: right;\">\n",
       "      <th></th>\n",
       "      <th>count</th>\n",
       "      <th>total_size (gb)</th>\n",
       "    </tr>\n",
       "    <tr>\n",
       "      <th>workflow_type</th>\n",
       "      <th></th>\n",
       "      <th></th>\n",
       "    </tr>\n",
       "  </thead>\n",
       "  <tbody>\n",
       "    <tr>\n",
       "      <th>HTSeq - Counts</th>\n",
       "      <td>182</td>\n",
       "      <td>0.05</td>\n",
       "    </tr>\n",
       "    <tr>\n",
       "      <th>HTSeq - FPKM</th>\n",
       "      <td>182</td>\n",
       "      <td>0.09</td>\n",
       "    </tr>\n",
       "    <tr>\n",
       "      <th>HTSeq - FPKM-UQ</th>\n",
       "      <td>182</td>\n",
       "      <td>0.09</td>\n",
       "    </tr>\n",
       "  </tbody>\n",
       "</table>\n",
       "</div>"
      ],
      "text/plain": [
       "                 count  total_size (gb)\n",
       "workflow_type                          \n",
       "HTSeq - Counts     182             0.05\n",
       "HTSeq - FPKM       182             0.09\n",
       "HTSeq - FPKM-UQ    182             0.09"
      ]
     },
     "execution_count": 37,
     "metadata": {},
     "output_type": "execute_result"
    }
   ],
   "source": [
    "summary = rnaseq_df.groupby('workflow_type').agg({'file_name': 'size', 'file_size': 'sum'})\n",
    "summary = summary.rename(columns={'file_name': 'count', 'file_size': 'total_size (gb)'})\n",
    "summary['total_size (gb)'] = round(summary['total_size (gb)'] / 1000, 2)\n",
    "\n",
    "summary"
   ]
  },
  {
   "cell_type": "code",
   "execution_count": 39,
   "metadata": {
    "collapsed": true
   },
   "outputs": [
    {
     "data": {
      "application/vnd.jupyter.widget-view+json": {
       "model_id": "ed37c40abce14e45a828ed076fbb9dbb",
       "version_major": 2,
       "version_minor": 0
      },
      "text/plain": [
       "HBox(children=(IntProgress(value=0, description='Files', max=546, style=ProgressStyle(description_width='initi…"
      ]
     },
     "metadata": {},
     "output_type": "display_data"
    },
    {
     "name": "stdout",
     "output_type": "stream",
     "text": [
      " \r"
     ]
    },
    {
     "data": {
      "application/vnd.jupyter.widget-view+json": {
       "model_id": "",
       "version_major": 2,
       "version_minor": 0
      },
      "text/plain": [
       "HBox(children=(IntProgress(value=0, description='TCGA-HZ-8005-01A_HTSeq-Counts.txt.gz', max=256, style=Progres…"
      ]
     },
     "metadata": {},
     "output_type": "display_data"
    },
    {
     "data": {
      "application/vnd.jupyter.widget-view+json": {
       "model_id": "",
       "version_major": 2,
       "version_minor": 0
      },
      "text/plain": [
       "HBox(children=(IntProgress(value=0, description='TCGA-HV-A7OL-01A_HTSeq-FPKM.txt.gz', max=512, style=ProgressS…"
      ]
     },
     "metadata": {},
     "output_type": "display_data"
    },
    {
     "name": "stdout",
     "output_type": "stream",
     "text": [
      " \r"
     ]
    },
    {
     "data": {
      "application/vnd.jupyter.widget-view+json": {
       "model_id": "",
       "version_major": 2,
       "version_minor": 0
      },
      "text/plain": [
       "HBox(children=(IntProgress(value=0, description='TCGA-FB-AAPQ-01A_HTSeq-FPKM.txt.gz', max=502, style=ProgressS…"
      ]
     },
     "metadata": {},
     "output_type": "display_data"
    },
    {
     "name": "stdout",
     "output_type": "stream",
     "text": [
      " \r"
     ]
    },
    {
     "data": {
      "application/vnd.jupyter.widget-view+json": {
       "model_id": "",
       "version_major": 2,
       "version_minor": 0
      },
      "text/plain": [
       "HBox(children=(IntProgress(value=0, description='TCGA-FB-AAPS-01A_HTSeq-FPKM-UQ.txt.gz', max=543, style=Progre…"
      ]
     },
     "metadata": {},
     "output_type": "display_data"
    },
    {
     "data": {
      "application/vnd.jupyter.widget-view+json": {
       "model_id": "",
       "version_major": 2,
       "version_minor": 0
      },
      "text/plain": [
       "HBox(children=(IntProgress(value=0, description='TCGA-3A-A9IB-01A_HTSeq-FPKM.txt.gz', max=543, style=ProgressS…"
      ]
     },
     "metadata": {},
     "output_type": "display_data"
    },
    {
     "name": "stdout",
     "output_type": "stream",
     "text": [
      " \r"
     ]
    },
    {
     "data": {
      "application/vnd.jupyter.widget-view+json": {
       "model_id": "",
       "version_major": 2,
       "version_minor": 0
      },
      "text/plain": [
       "HBox(children=(IntProgress(value=0, description='TCGA-FB-AAQ3-01A_HTSeq-FPKM-UQ.txt.gz', max=512, style=Progre…"
      ]
     },
     "metadata": {},
     "output_type": "display_data"
    },
    {
     "data": {
      "application/vnd.jupyter.widget-view+json": {
       "model_id": "",
       "version_major": 2,
       "version_minor": 0
      },
      "text/plain": [
       "HBox(children=(IntProgress(value=0, description='TCGA-H6-A45N-11A_HTSeq-FPKM-UQ.txt.gz', max=584, style=Progre…"
      ]
     },
     "metadata": {},
     "output_type": "display_data"
    },
    {
     "name": "stdout",
     "output_type": "stream",
     "text": [
      " \r"
     ]
    },
    {
     "data": {
      "application/vnd.jupyter.widget-view+json": {
       "model_id": "",
       "version_major": 2,
       "version_minor": 0
      },
      "text/plain": [
       "HBox(children=(IntProgress(value=0, description='TCGA-IB-AAUU-01A_HTSeq-FPKM-UQ.txt.gz', max=543, style=Progre…"
      ]
     },
     "metadata": {},
     "output_type": "display_data"
    },
    {
     "name": "stdout",
     "output_type": "stream",
     "text": [
      "\r",
      " \r"
     ]
    },
    {
     "data": {
      "application/vnd.jupyter.widget-view+json": {
       "model_id": "",
       "version_major": 2,
       "version_minor": 0
      },
      "text/plain": [
       "HBox(children=(IntProgress(value=0, description='TCGA-PZ-A5RE-01A_HTSeq-Counts.txt.gz', max=256, style=Progres…"
      ]
     },
     "metadata": {},
     "output_type": "display_data"
    },
    {
     "name": "stdout",
     "output_type": "stream",
     "text": [
      "\r",
      " \r"
     ]
    },
    {
     "data": {
      "application/vnd.jupyter.widget-view+json": {
       "model_id": "",
       "version_major": 2,
       "version_minor": 0
      },
      "text/plain": [
       "HBox(children=(IntProgress(value=0, description='TCGA-IB-7891-01A_HTSeq-Counts.txt.gz', max=256, style=Progres…"
      ]
     },
     "metadata": {},
     "output_type": "display_data"
    },
    {
     "name": "stdout",
     "output_type": "stream",
     "text": [
      "\r",
      " \r"
     ]
    },
    {
     "data": {
      "application/vnd.jupyter.widget-view+json": {
       "model_id": "",
       "version_major": 2,
       "version_minor": 0
      },
      "text/plain": [
       "HBox(children=(IntProgress(value=0, description='TCGA-OE-A75W-01A_HTSeq-FPKM-UQ.txt.gz', max=522, style=Progre…"
      ]
     },
     "metadata": {},
     "output_type": "display_data"
    },
    {
     "name": "stdout",
     "output_type": "stream",
     "text": [
      "\r",
      " \r"
     ]
    },
    {
     "data": {
      "application/vnd.jupyter.widget-view+json": {
       "model_id": "",
       "version_major": 2,
       "version_minor": 0
      },
      "text/plain": [
       "HBox(children=(IntProgress(value=0, description='TCGA-2L-AAQE-01A_HTSeq-FPKM.txt.gz', max=522, style=ProgressS…"
      ]
     },
     "metadata": {},
     "output_type": "display_data"
    },
    {
     "name": "stdout",
     "output_type": "stream",
     "text": [
      "\r",
      " \r"
     ]
    },
    {
     "data": {
      "application/vnd.jupyter.widget-view+json": {
       "model_id": "",
       "version_major": 2,
       "version_minor": 0
      },
      "text/plain": [
       "HBox(children=(IntProgress(value=0, description='TCGA-F2-A7TX-01A_HTSeq-Counts.txt.gz', max=256, style=Progres…"
      ]
     },
     "metadata": {},
     "output_type": "display_data"
    },
    {
     "name": "stdout",
     "output_type": "stream",
     "text": [
      "\r",
      " \r"
     ]
    },
    {
     "data": {
      "application/vnd.jupyter.widget-view+json": {
       "model_id": "",
       "version_major": 2,
       "version_minor": 0
      },
      "text/plain": [
       "HBox(children=(IntProgress(value=0, description='TCGA-HZ-7289-01A_HTSeq-Counts.txt.gz', max=256, style=Progres…"
      ]
     },
     "metadata": {},
     "output_type": "display_data"
    },
    {
     "name": "stdout",
     "output_type": "stream",
     "text": [
      "\r",
      " \r"
     ]
    },
    {
     "data": {
      "application/vnd.jupyter.widget-view+json": {
       "model_id": "",
       "version_major": 2,
       "version_minor": 0
      },
      "text/plain": [
       "HBox(children=(IntProgress(value=0, description='TCGA-IB-AAUM-01A_HTSeq-FPKM-UQ.txt.gz', max=543, style=Progre…"
      ]
     },
     "metadata": {},
     "output_type": "display_data"
    },
    {
     "name": "stdout",
     "output_type": "stream",
     "text": [
      "\r",
      " \r"
     ]
    },
    {
     "data": {
      "application/vnd.jupyter.widget-view+json": {
       "model_id": "",
       "version_major": 2,
       "version_minor": 0
      },
      "text/plain": [
       "HBox(children=(IntProgress(value=0, description='TCGA-IB-7649-01A_HTSeq-FPKM-UQ.txt.gz', max=512, style=Progre…"
      ]
     },
     "metadata": {},
     "output_type": "display_data"
    },
    {
     "name": "stdout",
     "output_type": "stream",
     "text": [
      "\r",
      " \r"
     ]
    },
    {
     "data": {
      "application/vnd.jupyter.widget-view+json": {
       "model_id": "",
       "version_major": 2,
       "version_minor": 0
      },
      "text/plain": [
       "HBox(children=(IntProgress(value=0, description='TCGA-3A-A9IO-01A_HTSeq-FPKM-UQ.txt.gz', max=522, style=Progre…"
      ]
     },
     "metadata": {},
     "output_type": "display_data"
    },
    {
     "name": "stdout",
     "output_type": "stream",
     "text": [
      "\r",
      " \r"
     ]
    },
    {
     "data": {
      "application/vnd.jupyter.widget-view+json": {
       "model_id": "",
       "version_major": 2,
       "version_minor": 0
      },
      "text/plain": [
       "HBox(children=(IntProgress(value=0, description='TCGA-IB-A7LX-01A_HTSeq-FPKM-UQ.txt.gz', max=543, style=Progre…"
      ]
     },
     "metadata": {},
     "output_type": "display_data"
    },
    {
     "name": "stdout",
     "output_type": "stream",
     "text": [
      "\r",
      " \r"
     ]
    },
    {
     "data": {
      "application/vnd.jupyter.widget-view+json": {
       "model_id": "",
       "version_major": 2,
       "version_minor": 0
      },
      "text/plain": [
       "HBox(children=(IntProgress(value=0, description='TCGA-IB-A5SP-01A_HTSeq-FPKM.txt.gz', max=532, style=ProgressS…"
      ]
     },
     "metadata": {},
     "output_type": "display_data"
    },
    {
     "name": "stdout",
     "output_type": "stream",
     "text": [
      "\r",
      " \r"
     ]
    },
    {
     "data": {
      "application/vnd.jupyter.widget-view+json": {
       "model_id": "",
       "version_major": 2,
       "version_minor": 0
      },
      "text/plain": [
       "HBox(children=(IntProgress(value=0, description='TCGA-IB-AAUR-01A_HTSeq-Counts.txt.gz', max=266, style=Progres…"
      ]
     },
     "metadata": {},
     "output_type": "display_data"
    },
    {
     "name": "stdout",
     "output_type": "stream",
     "text": [
      "\r",
      " \r"
     ]
    },
    {
     "data": {
      "application/vnd.jupyter.widget-view+json": {
       "model_id": "",
       "version_major": 2,
       "version_minor": 0
      },
      "text/plain": [
       "HBox(children=(IntProgress(value=0, description='TCGA-HZ-8636-01A_HTSeq-FPKM.txt.gz', max=563, style=ProgressS…"
      ]
     },
     "metadata": {},
     "output_type": "display_data"
    },
    {
     "name": "stdout",
     "output_type": "stream",
     "text": [
      "\r",
      " \r"
     ]
    },
    {
     "data": {
      "application/vnd.jupyter.widget-view+json": {
       "model_id": "",
       "version_major": 2,
       "version_minor": 0
      },
      "text/plain": [
       "HBox(children=(IntProgress(value=0, description='TCGA-3A-A9I7-01A_HTSeq-Counts.txt.gz', max=256, style=Progres…"
      ]
     },
     "metadata": {},
     "output_type": "display_data"
    },
    {
     "name": "stdout",
     "output_type": "stream",
     "text": [
      "\r",
      " \r"
     ]
    },
    {
     "data": {
      "application/vnd.jupyter.widget-view+json": {
       "model_id": "",
       "version_major": 2,
       "version_minor": 0
      },
      "text/plain": [
       "HBox(children=(IntProgress(value=0, description='TCGA-2L-AAQM-01A_HTSeq-Counts.txt.gz', max=256, style=Progres…"
      ]
     },
     "metadata": {},
     "output_type": "display_data"
    },
    {
     "name": "stdout",
     "output_type": "stream",
     "text": [
      "\r",
      " \r"
     ]
    },
    {
     "data": {
      "application/vnd.jupyter.widget-view+json": {
       "model_id": "",
       "version_major": 2,
       "version_minor": 0
      },
      "text/plain": [
       "HBox(children=(IntProgress(value=0, description='TCGA-3A-A9IH-01A_HTSeq-FPKM-UQ.txt.gz', max=532, style=Progre…"
      ]
     },
     "metadata": {},
     "output_type": "display_data"
    },
    {
     "name": "stdout",
     "output_type": "stream",
     "text": [
      "\r",
      " \r"
     ]
    },
    {
     "data": {
      "application/vnd.jupyter.widget-view+json": {
       "model_id": "",
       "version_major": 2,
       "version_minor": 0
      },
      "text/plain": [
       "HBox(children=(IntProgress(value=0, description='TCGA-IB-AAUV-01A_HTSeq-FPKM.txt.gz', max=553, style=ProgressS…"
      ]
     },
     "metadata": {},
     "output_type": "display_data"
    },
    {
     "name": "stdout",
     "output_type": "stream",
     "text": [
      "\r",
      " \r"
     ]
    },
    {
     "data": {
      "application/vnd.jupyter.widget-view+json": {
       "model_id": "",
       "version_major": 2,
       "version_minor": 0
      },
      "text/plain": [
       "HBox(children=(IntProgress(value=0, description='TCGA-3A-A9IU-01A_HTSeq-FPKM.txt.gz', max=532, style=ProgressS…"
      ]
     },
     "metadata": {},
     "output_type": "display_data"
    },
    {
     "name": "stdout",
     "output_type": "stream",
     "text": [
      "\r",
      " \r"
     ]
    },
    {
     "data": {
      "application/vnd.jupyter.widget-view+json": {
       "model_id": "",
       "version_major": 2,
       "version_minor": 0
      },
      "text/plain": [
       "HBox(children=(IntProgress(value=0, description='TCGA-HZ-8317-01A_HTSeq-FPKM-UQ.txt.gz', max=543, style=Progre…"
      ]
     },
     "metadata": {},
     "output_type": "display_data"
    },
    {
     "name": "stdout",
     "output_type": "stream",
     "text": [
      "\r",
      " \r"
     ]
    },
    {
     "data": {
      "application/vnd.jupyter.widget-view+json": {
       "model_id": "",
       "version_major": 2,
       "version_minor": 0
      },
      "text/plain": [
       "HBox(children=(IntProgress(value=0, description='TCGA-IB-7897-01A_HTSeq-Counts.txt.gz', max=266, style=Progres…"
      ]
     },
     "metadata": {},
     "output_type": "display_data"
    },
    {
     "name": "stdout",
     "output_type": "stream",
     "text": [
      "\r",
      " \r"
     ]
    },
    {
     "data": {
      "application/vnd.jupyter.widget-view+json": {
       "model_id": "",
       "version_major": 2,
       "version_minor": 0
      },
      "text/plain": [
       "HBox(children=(IntProgress(value=0, description='TCGA-IB-A6UG-01A_HTSeq-FPKM-UQ.txt.gz', max=543, style=Progre…"
      ]
     },
     "metadata": {},
     "output_type": "display_data"
    },
    {
     "name": "stdout",
     "output_type": "stream",
     "text": [
      "\r",
      " \r"
     ]
    },
    {
     "data": {
      "application/vnd.jupyter.widget-view+json": {
       "model_id": "",
       "version_major": 2,
       "version_minor": 0
      },
      "text/plain": [
       "HBox(children=(IntProgress(value=0, description='TCGA-3A-A9J0-01A_HTSeq-FPKM-UQ.txt.gz', max=522, style=Progre…"
      ]
     },
     "metadata": {},
     "output_type": "display_data"
    },
    {
     "name": "stdout",
     "output_type": "stream",
     "text": [
      "\r",
      " \r"
     ]
    },
    {
     "data": {
      "application/vnd.jupyter.widget-view+json": {
       "model_id": "",
       "version_major": 2,
       "version_minor": 0
      },
      "text/plain": [
       "HBox(children=(IntProgress(value=0, description='TCGA-H8-A6C1-01A_HTSeq-Counts.txt.gz', max=256, style=Progres…"
      ]
     },
     "metadata": {},
     "output_type": "display_data"
    },
    {
     "name": "stdout",
     "output_type": "stream",
     "text": [
      "\r",
      " \r"
     ]
    },
    {
     "data": {
      "application/vnd.jupyter.widget-view+json": {
       "model_id": "",
       "version_major": 2,
       "version_minor": 0
      },
      "text/plain": [
       "HBox(children=(IntProgress(value=0, description='TCGA-XD-AAUG-01A_HTSeq-FPKM-UQ.txt.gz', max=532, style=Progre…"
      ]
     },
     "metadata": {},
     "output_type": "display_data"
    },
    {
     "name": "stdout",
     "output_type": "stream",
     "text": [
      "\r",
      " \r"
     ]
    },
    {
     "data": {
      "application/vnd.jupyter.widget-view+json": {
       "model_id": "",
       "version_major": 2,
       "version_minor": 0
      },
      "text/plain": [
       "HBox(children=(IntProgress(value=0, description='TCGA-FB-A4P6-01A_HTSeq-FPKM.txt.gz', max=532, style=ProgressS…"
      ]
     },
     "metadata": {},
     "output_type": "display_data"
    },
    {
     "name": "stdout",
     "output_type": "stream",
     "text": [
      "\r",
      " \r"
     ]
    },
    {
     "data": {
      "application/vnd.jupyter.widget-view+json": {
       "model_id": "",
       "version_major": 2,
       "version_minor": 0
      },
      "text/plain": [
       "HBox(children=(IntProgress(value=0, description='TCGA-2J-AABV-01A_HTSeq-FPKM-UQ.txt.gz', max=492, style=Progre…"
      ]
     },
     "metadata": {},
     "output_type": "display_data"
    },
    {
     "name": "stdout",
     "output_type": "stream",
     "text": [
      "\r",
      " \r"
     ]
    },
    {
     "data": {
      "application/vnd.jupyter.widget-view+json": {
       "model_id": "",
       "version_major": 2,
       "version_minor": 0
      },
      "text/plain": [
       "HBox(children=(IntProgress(value=0, description='TCGA-HZ-7926-01A_HTSeq-FPKM-UQ.txt.gz', max=543, style=Progre…"
      ]
     },
     "metadata": {},
     "output_type": "display_data"
    },
    {
     "name": "stdout",
     "output_type": "stream",
     "text": [
      "\r",
      " \r"
     ]
    },
    {
     "data": {
      "application/vnd.jupyter.widget-view+json": {
       "model_id": "",
       "version_major": 2,
       "version_minor": 0
      },
      "text/plain": [
       "HBox(children=(IntProgress(value=0, description='TCGA-3A-A9IN-01A_HTSeq-FPKM.txt.gz', max=543, style=ProgressS…"
      ]
     },
     "metadata": {},
     "output_type": "display_data"
    },
    {
     "name": "stdout",
     "output_type": "stream",
     "text": [
      "\r",
      " \r"
     ]
    },
    {
     "data": {
      "application/vnd.jupyter.widget-view+json": {
       "model_id": "",
       "version_major": 2,
       "version_minor": 0
      },
      "text/plain": [
       "HBox(children=(IntProgress(value=0, description='TCGA-FB-AAQ6-01A_HTSeq-FPKM.txt.gz', max=502, style=ProgressS…"
      ]
     },
     "metadata": {},
     "output_type": "display_data"
    },
    {
     "name": "stdout",
     "output_type": "stream",
     "text": [
      "\r",
      " \r"
     ]
    },
    {
     "data": {
      "application/vnd.jupyter.widget-view+json": {
       "model_id": "",
       "version_major": 2,
       "version_minor": 0
      },
      "text/plain": [
       "HBox(children=(IntProgress(value=0, description='TCGA-HZ-A49G-01A_HTSeq-FPKM.txt.gz', max=532, style=ProgressS…"
      ]
     },
     "metadata": {},
     "output_type": "display_data"
    },
    {
     "name": "stdout",
     "output_type": "stream",
     "text": [
      "\r",
      " \r"
     ]
    },
    {
     "data": {
      "application/vnd.jupyter.widget-view+json": {
       "model_id": "",
       "version_major": 2,
       "version_minor": 0
      },
      "text/plain": [
       "HBox(children=(IntProgress(value=0, description='TCGA-F2-6879-01A_HTSeq-FPKM.txt.gz', max=543, style=ProgressS…"
      ]
     },
     "metadata": {},
     "output_type": "display_data"
    },
    {
     "name": "stdout",
     "output_type": "stream",
     "text": [
      "\r",
      " \r"
     ]
    },
    {
     "data": {
      "application/vnd.jupyter.widget-view+json": {
       "model_id": "",
       "version_major": 2,
       "version_minor": 0
      },
      "text/plain": [
       "HBox(children=(IntProgress(value=0, description='TCGA-2J-AAB8-01A_HTSeq-FPKM-UQ.txt.gz', max=512, style=Progre…"
      ]
     },
     "metadata": {},
     "output_type": "display_data"
    },
    {
     "name": "stdout",
     "output_type": "stream",
     "text": [
      "\r",
      " \r"
     ]
    },
    {
     "data": {
      "application/vnd.jupyter.widget-view+json": {
       "model_id": "",
       "version_major": 2,
       "version_minor": 0
      },
      "text/plain": [
       "HBox(children=(IntProgress(value=0, description='TCGA-IB-A7LX-01A_HTSeq-Counts.txt.gz', max=266, style=Progres…"
      ]
     },
     "metadata": {},
     "output_type": "display_data"
    },
    {
     "name": "stdout",
     "output_type": "stream",
     "text": [
      "\r",
      " \r"
     ]
    },
    {
     "data": {
      "application/vnd.jupyter.widget-view+json": {
       "model_id": "",
       "version_major": 2,
       "version_minor": 0
      },
      "text/plain": [
       "HBox(children=(IntProgress(value=0, description='TCGA-YH-A8SY-01A_HTSeq-FPKM.txt.gz', max=522, style=ProgressS…"
      ]
     },
     "metadata": {},
     "output_type": "display_data"
    },
    {
     "name": "stdout",
     "output_type": "stream",
     "text": [
      "\r",
      " \r"
     ]
    },
    {
     "data": {
      "application/vnd.jupyter.widget-view+json": {
       "model_id": "",
       "version_major": 2,
       "version_minor": 0
      },
      "text/plain": [
       "HBox(children=(IntProgress(value=0, description='TCGA-2J-AAB1-01A_HTSeq-FPKM.txt.gz', max=522, style=ProgressS…"
      ]
     },
     "metadata": {},
     "output_type": "display_data"
    },
    {
     "name": "stdout",
     "output_type": "stream",
     "text": [
      "\r",
      " \r"
     ]
    },
    {
     "data": {
      "application/vnd.jupyter.widget-view+json": {
       "model_id": "",
       "version_major": 2,
       "version_minor": 0
      },
      "text/plain": [
       "HBox(children=(IntProgress(value=0, description='TCGA-H6-8124-01A_HTSeq-Counts.txt.gz', max=266, style=Progres…"
      ]
     },
     "metadata": {},
     "output_type": "display_data"
    },
    {
     "name": "stdout",
     "output_type": "stream",
     "text": [
      "\r",
      " \r"
     ]
    },
    {
     "data": {
      "application/vnd.jupyter.widget-view+json": {
       "model_id": "",
       "version_major": 2,
       "version_minor": 0
      },
      "text/plain": [
       "HBox(children=(IntProgress(value=0, description='TCGA-YB-A89D-11A_HTSeq-FPKM-UQ.txt.gz', max=532, style=Progre…"
      ]
     },
     "metadata": {},
     "output_type": "display_data"
    },
    {
     "name": "stdout",
     "output_type": "stream",
     "text": [
      "\r",
      " \r"
     ]
    },
    {
     "data": {
      "application/vnd.jupyter.widget-view+json": {
       "model_id": "",
       "version_major": 2,
       "version_minor": 0
      },
      "text/plain": [
       "HBox(children=(IntProgress(value=0, description='TCGA-2L-AAQA-01A_HTSeq-Counts.txt.gz', max=266, style=Progres…"
      ]
     },
     "metadata": {},
     "output_type": "display_data"
    },
    {
     "name": "stdout",
     "output_type": "stream",
     "text": [
      "\r",
      " \r"
     ]
    },
    {
     "data": {
      "application/vnd.jupyter.widget-view+json": {
       "model_id": "",
       "version_major": 2,
       "version_minor": 0
      },
      "text/plain": [
       "HBox(children=(IntProgress(value=0, description='TCGA-XN-A8T5-01A_HTSeq-FPKM-UQ.txt.gz', max=532, style=Progre…"
      ]
     },
     "metadata": {},
     "output_type": "display_data"
    },
    {
     "name": "stdout",
     "output_type": "stream",
     "text": [
      "\r",
      " \r"
     ]
    },
    {
     "data": {
      "application/vnd.jupyter.widget-view+json": {
       "model_id": "",
       "version_major": 2,
       "version_minor": 0
      },
      "text/plain": [
       "HBox(children=(IntProgress(value=0, description='TCGA-HZ-A9TJ-06A_HTSeq-FPKM-UQ.txt.gz', max=532, style=Progre…"
      ]
     },
     "metadata": {},
     "output_type": "display_data"
    },
    {
     "name": "stdout",
     "output_type": "stream",
     "text": [
      "\r",
      " \r"
     ]
    },
    {
     "data": {
      "application/vnd.jupyter.widget-view+json": {
       "model_id": "",
       "version_major": 2,
       "version_minor": 0
      },
      "text/plain": [
       "HBox(children=(IntProgress(value=0, description='TCGA-Q3-AA2A-01A_HTSeq-FPKM.txt.gz', max=522, style=ProgressS…"
      ]
     },
     "metadata": {},
     "output_type": "display_data"
    },
    {
     "name": "stdout",
     "output_type": "stream",
     "text": [
      "\r",
      " \r"
     ]
    },
    {
     "data": {
      "application/vnd.jupyter.widget-view+json": {
       "model_id": "",
       "version_major": 2,
       "version_minor": 0
      },
      "text/plain": [
       "HBox(children=(IntProgress(value=0, description='TCGA-IB-7645-01A_HTSeq-FPKM-UQ.txt.gz', max=532, style=Progre…"
      ]
     },
     "metadata": {},
     "output_type": "display_data"
    },
    {
     "name": "stdout",
     "output_type": "stream",
     "text": [
      "\r",
      " \r"
     ]
    },
    {
     "data": {
      "application/vnd.jupyter.widget-view+json": {
       "model_id": "",
       "version_major": 2,
       "version_minor": 0
      },
      "text/plain": [
       "HBox(children=(IntProgress(value=0, description='TCGA-3A-A9IL-01A_HTSeq-FPKM-UQ.txt.gz', max=543, style=Progre…"
      ]
     },
     "metadata": {},
     "output_type": "display_data"
    },
    {
     "name": "stdout",
     "output_type": "stream",
     "text": [
      "\r",
      " \r"
     ]
    },
    {
     "data": {
      "application/vnd.jupyter.widget-view+json": {
       "model_id": "",
       "version_major": 2,
       "version_minor": 0
      },
      "text/plain": [
       "HBox(children=(IntProgress(value=0, description='TCGA-IB-7649-01A_HTSeq-FPKM.txt.gz', max=512, style=ProgressS…"
      ]
     },
     "metadata": {},
     "output_type": "display_data"
    },
    {
     "name": "stdout",
     "output_type": "stream",
     "text": [
      "\r",
      " \r"
     ]
    },
    {
     "data": {
      "application/vnd.jupyter.widget-view+json": {
       "model_id": "",
       "version_major": 2,
       "version_minor": 0
      },
      "text/plain": [
       "HBox(children=(IntProgress(value=0, description='TCGA-IB-A5SO-01A_HTSeq-FPKM-UQ.txt.gz', max=553, style=Progre…"
      ]
     },
     "metadata": {},
     "output_type": "display_data"
    },
    {
     "name": "stdout",
     "output_type": "stream",
     "text": [
      "\r",
      " \r"
     ]
    },
    {
     "data": {
      "application/vnd.jupyter.widget-view+json": {
       "model_id": "",
       "version_major": 2,
       "version_minor": 0
      },
      "text/plain": [
       "HBox(children=(IntProgress(value=0, description='TCGA-2J-AABI-01A_HTSeq-Counts.txt.gz', max=266, style=Progres…"
      ]
     },
     "metadata": {},
     "output_type": "display_data"
    },
    {
     "name": "stdout",
     "output_type": "stream",
     "text": [
      "\r",
      " \r"
     ]
    },
    {
     "data": {
      "application/vnd.jupyter.widget-view+json": {
       "model_id": "",
       "version_major": 2,
       "version_minor": 0
      },
      "text/plain": [
       "HBox(children=(IntProgress(value=0, description='TCGA-IB-A6UG-01A_HTSeq-Counts.txt.gz', max=256, style=Progres…"
      ]
     },
     "metadata": {},
     "output_type": "display_data"
    },
    {
     "name": "stdout",
     "output_type": "stream",
     "text": [
      "\r",
      " \r"
     ]
    },
    {
     "data": {
      "application/vnd.jupyter.widget-view+json": {
       "model_id": "",
       "version_major": 2,
       "version_minor": 0
      },
      "text/plain": [
       "HBox(children=(IntProgress(value=0, description='TCGA-IB-7893-01A_HTSeq-Counts.txt.gz', max=256, style=Progres…"
      ]
     },
     "metadata": {},
     "output_type": "display_data"
    },
    {
     "name": "stdout",
     "output_type": "stream",
     "text": [
      "\r",
      " \r"
     ]
    },
    {
     "data": {
      "application/vnd.jupyter.widget-view+json": {
       "model_id": "",
       "version_major": 2,
       "version_minor": 0
      },
      "text/plain": [
       "HBox(children=(IntProgress(value=0, description='TCGA-2L-AAQL-01A_HTSeq-Counts.txt.gz', max=256, style=Progres…"
      ]
     },
     "metadata": {},
     "output_type": "display_data"
    },
    {
     "name": "stdout",
     "output_type": "stream",
     "text": [
      "\r",
      " \r"
     ]
    },
    {
     "data": {
      "application/vnd.jupyter.widget-view+json": {
       "model_id": "",
       "version_major": 2,
       "version_minor": 0
      },
      "text/plain": [
       "HBox(children=(IntProgress(value=0, description='TCGA-HZ-8638-01A_HTSeq-FPKM.txt.gz', max=553, style=ProgressS…"
      ]
     },
     "metadata": {},
     "output_type": "display_data"
    },
    {
     "name": "stdout",
     "output_type": "stream",
     "text": [
      "\r",
      " \r"
     ]
    },
    {
     "data": {
      "application/vnd.jupyter.widget-view+json": {
       "model_id": "",
       "version_major": 2,
       "version_minor": 0
      },
      "text/plain": [
       "HBox(children=(IntProgress(value=0, description='TCGA-3A-A9I5-01A_HTSeq-FPKM-UQ.txt.gz', max=522, style=Progre…"
      ]
     },
     "metadata": {},
     "output_type": "display_data"
    },
    {
     "name": "stdout",
     "output_type": "stream",
     "text": [
      "\r",
      " \r"
     ]
    },
    {
     "data": {
      "application/vnd.jupyter.widget-view+json": {
       "model_id": "",
       "version_major": 2,
       "version_minor": 0
      },
      "text/plain": [
       "HBox(children=(IntProgress(value=0, description='TCGA-2L-AAQA-01A_HTSeq-FPKM-UQ.txt.gz', max=543, style=Progre…"
      ]
     },
     "metadata": {},
     "output_type": "display_data"
    },
    {
     "name": "stdout",
     "output_type": "stream",
     "text": [
      "\r",
      " \r"
     ]
    },
    {
     "data": {
      "application/vnd.jupyter.widget-view+json": {
       "model_id": "",
       "version_major": 2,
       "version_minor": 0
      },
      "text/plain": [
       "HBox(children=(IntProgress(value=0, description='TCGA-2J-AAB9-01A_HTSeq-FPKM.txt.gz', max=502, style=ProgressS…"
      ]
     },
     "metadata": {},
     "output_type": "display_data"
    },
    {
     "name": "stdout",
     "output_type": "stream",
     "text": [
      "\r",
      " \r"
     ]
    },
    {
     "data": {
      "application/vnd.jupyter.widget-view+json": {
       "model_id": "",
       "version_major": 2,
       "version_minor": 0
      },
      "text/plain": [
       "HBox(children=(IntProgress(value=0, description='TCGA-3A-A9IU-01A_HTSeq-Counts.txt.gz', max=256, style=Progres…"
      ]
     },
     "metadata": {},
     "output_type": "display_data"
    },
    {
     "name": "stdout",
     "output_type": "stream",
     "text": [
      "\r",
      " \r"
     ]
    },
    {
     "data": {
      "application/vnd.jupyter.widget-view+json": {
       "model_id": "",
       "version_major": 2,
       "version_minor": 0
      },
      "text/plain": [
       "HBox(children=(IntProgress(value=0, description='TCGA-3E-AAAY-01A_HTSeq-Counts.txt.gz', max=266, style=Progres…"
      ]
     },
     "metadata": {},
     "output_type": "display_data"
    },
    {
     "name": "stdout",
     "output_type": "stream",
     "text": [
      "\r",
      " \r"
     ]
    },
    {
     "data": {
      "application/vnd.jupyter.widget-view+json": {
       "model_id": "",
       "version_major": 2,
       "version_minor": 0
      },
      "text/plain": [
       "HBox(children=(IntProgress(value=0, description='TCGA-HZ-7919-01A_HTSeq-Counts.txt.gz', max=256, style=Progres…"
      ]
     },
     "metadata": {},
     "output_type": "display_data"
    },
    {
     "name": "stdout",
     "output_type": "stream",
     "text": [
      "\r",
      " \r"
     ]
    },
    {
     "data": {
      "application/vnd.jupyter.widget-view+json": {
       "model_id": "",
       "version_major": 2,
       "version_minor": 0
      },
      "text/plain": [
       "HBox(children=(IntProgress(value=0, description='TCGA-3A-A9IH-01A_HTSeq-FPKM.txt.gz', max=543, style=ProgressS…"
      ]
     },
     "metadata": {},
     "output_type": "display_data"
    },
    {
     "name": "stdout",
     "output_type": "stream",
     "text": [
      "\r",
      " \r"
     ]
    },
    {
     "data": {
      "application/vnd.jupyter.widget-view+json": {
       "model_id": "",
       "version_major": 2,
       "version_minor": 0
      },
      "text/plain": [
       "HBox(children=(IntProgress(value=0, description='TCGA-HZ-A9TJ-01A_HTSeq-FPKM-UQ.txt.gz', max=522, style=Progre…"
      ]
     },
     "metadata": {},
     "output_type": "display_data"
    },
    {
     "name": "stdout",
     "output_type": "stream",
     "text": [
      "\r",
      " \r"
     ]
    },
    {
     "data": {
      "application/vnd.jupyter.widget-view+json": {
       "model_id": "",
       "version_major": 2,
       "version_minor": 0
      },
      "text/plain": [
       "HBox(children=(IntProgress(value=0, description='TCGA-F2-7276-01A_HTSeq-FPKM-UQ.txt.gz', max=543, style=Progre…"
      ]
     },
     "metadata": {},
     "output_type": "display_data"
    },
    {
     "name": "stdout",
     "output_type": "stream",
     "text": [
      "\r",
      " \r"
     ]
    },
    {
     "data": {
      "application/vnd.jupyter.widget-view+json": {
       "model_id": "",
       "version_major": 2,
       "version_minor": 0
      },
      "text/plain": [
       "HBox(children=(IntProgress(value=0, description='TCGA-IB-AAUO-01A_HTSeq-FPKM.txt.gz', max=543, style=ProgressS…"
      ]
     },
     "metadata": {},
     "output_type": "display_data"
    },
    {
     "name": "stdout",
     "output_type": "stream",
     "text": [
      "\r",
      " \r"
     ]
    },
    {
     "data": {
      "application/vnd.jupyter.widget-view+json": {
       "model_id": "",
       "version_major": 2,
       "version_minor": 0
      },
      "text/plain": [
       "HBox(children=(IntProgress(value=0, description='TCGA-FB-AAQ3-01A_HTSeq-Counts.txt.gz', max=256, style=Progres…"
      ]
     },
     "metadata": {},
     "output_type": "display_data"
    },
    {
     "name": "stdout",
     "output_type": "stream",
     "text": [
      "\r",
      " \r"
     ]
    },
    {
     "data": {
      "application/vnd.jupyter.widget-view+json": {
       "model_id": "",
       "version_major": 2,
       "version_minor": 0
      },
      "text/plain": [
       "HBox(children=(IntProgress(value=0, description='TCGA-RB-A7B8-01A_HTSeq-FPKM-UQ.txt.gz', max=543, style=Progre…"
      ]
     },
     "metadata": {},
     "output_type": "display_data"
    },
    {
     "name": "stdout",
     "output_type": "stream",
     "text": [
      "\r",
      " \r"
     ]
    },
    {
     "data": {
      "application/vnd.jupyter.widget-view+json": {
       "model_id": "",
       "version_major": 2,
       "version_minor": 0
      },
      "text/plain": [
       "HBox(children=(IntProgress(value=0, description='TCGA-RB-AA9M-01A_HTSeq-Counts.txt.gz', max=266, style=Progres…"
      ]
     },
     "metadata": {},
     "output_type": "display_data"
    },
    {
     "name": "stdout",
     "output_type": "stream",
     "text": [
      "\r",
      " \r"
     ]
    },
    {
     "data": {
      "application/vnd.jupyter.widget-view+json": {
       "model_id": "",
       "version_major": 2,
       "version_minor": 0
      },
      "text/plain": [
       "HBox(children=(IntProgress(value=0, description='TCGA-FB-AAPY-01A_HTSeq-FPKM.txt.gz', max=532, style=ProgressS…"
      ]
     },
     "metadata": {},
     "output_type": "display_data"
    },
    {
     "name": "stdout",
     "output_type": "stream",
     "text": [
      "\r",
      " \r"
     ]
    },
    {
     "data": {
      "application/vnd.jupyter.widget-view+json": {
       "model_id": "",
       "version_major": 2,
       "version_minor": 0
      },
      "text/plain": [
       "HBox(children=(IntProgress(value=0, description='TCGA-2J-AAB9-01A_HTSeq-FPKM-UQ.txt.gz', max=502, style=Progre…"
      ]
     },
     "metadata": {},
     "output_type": "display_data"
    },
    {
     "name": "stdout",
     "output_type": "stream",
     "text": [
      "\r",
      " \r"
     ]
    },
    {
     "data": {
      "application/vnd.jupyter.widget-view+json": {
       "model_id": "",
       "version_major": 2,
       "version_minor": 0
      },
      "text/plain": [
       "HBox(children=(IntProgress(value=0, description='TCGA-3A-A9IO-01A_HTSeq-FPKM.txt.gz', max=522, style=ProgressS…"
      ]
     },
     "metadata": {},
     "output_type": "display_data"
    },
    {
     "name": "stdout",
     "output_type": "stream",
     "text": [
      "\r",
      " \r"
     ]
    },
    {
     "data": {
      "application/vnd.jupyter.widget-view+json": {
       "model_id": "",
       "version_major": 2,
       "version_minor": 0
      },
      "text/plain": [
       "HBox(children=(IntProgress(value=0, description='TCGA-3A-A9IR-01A_HTSeq-FPKM.txt.gz', max=532, style=ProgressS…"
      ]
     },
     "metadata": {},
     "output_type": "display_data"
    },
    {
     "name": "stdout",
     "output_type": "stream",
     "text": [
      "\r",
      " \r"
     ]
    },
    {
     "data": {
      "application/vnd.jupyter.widget-view+json": {
       "model_id": "",
       "version_major": 2,
       "version_minor": 0
      },
      "text/plain": [
       "HBox(children=(IntProgress(value=0, description='TCGA-US-A776-01A_HTSeq-FPKM.txt.gz', max=532, style=ProgressS…"
      ]
     },
     "metadata": {},
     "output_type": "display_data"
    },
    {
     "name": "stdout",
     "output_type": "stream",
     "text": [
      "\r",
      " \r"
     ]
    },
    {
     "data": {
      "application/vnd.jupyter.widget-view+json": {
       "model_id": "",
       "version_major": 2,
       "version_minor": 0
      },
      "text/plain": [
       "HBox(children=(IntProgress(value=0, description='TCGA-IB-7646-01A_HTSeq-FPKM.txt.gz', max=512, style=ProgressS…"
      ]
     },
     "metadata": {},
     "output_type": "display_data"
    },
    {
     "name": "stdout",
     "output_type": "stream",
     "text": [
      "\r",
      " \r"
     ]
    },
    {
     "data": {
      "application/vnd.jupyter.widget-view+json": {
       "model_id": "",
       "version_major": 2,
       "version_minor": 0
      },
      "text/plain": [
       "HBox(children=(IntProgress(value=0, description='TCGA-IB-7646-01A_HTSeq-FPKM-UQ.txt.gz', max=512, style=Progre…"
      ]
     },
     "metadata": {},
     "output_type": "display_data"
    },
    {
     "name": "stdout",
     "output_type": "stream",
     "text": [
      "\r",
      " \r"
     ]
    },
    {
     "data": {
      "application/vnd.jupyter.widget-view+json": {
       "model_id": "",
       "version_major": 2,
       "version_minor": 0
      },
      "text/plain": [
       "HBox(children=(IntProgress(value=0, description='TCGA-HV-A5A3-01A_HTSeq-FPKM-UQ.txt.gz', max=512, style=Progre…"
      ]
     },
     "metadata": {},
     "output_type": "display_data"
    },
    {
     "name": "stdout",
     "output_type": "stream",
     "text": [
      "\r",
      " \r"
     ]
    },
    {
     "data": {
      "application/vnd.jupyter.widget-view+json": {
       "model_id": "",
       "version_major": 2,
       "version_minor": 0
      },
      "text/plain": [
       "HBox(children=(IntProgress(value=0, description='TCGA-HZ-7920-01A_HTSeq-FPKM-UQ.txt.gz', max=553, style=Progre…"
      ]
     },
     "metadata": {},
     "output_type": "display_data"
    },
    {
     "name": "stdout",
     "output_type": "stream",
     "text": [
      "\r",
      " \r"
     ]
    },
    {
     "data": {
      "application/vnd.jupyter.widget-view+json": {
       "model_id": "",
       "version_major": 2,
       "version_minor": 0
      },
      "text/plain": [
       "HBox(children=(IntProgress(value=0, description='TCGA-3A-A9I9-01A_HTSeq-Counts.txt.gz', max=256, style=Progres…"
      ]
     },
     "metadata": {},
     "output_type": "display_data"
    },
    {
     "name": "stdout",
     "output_type": "stream",
     "text": [
      "\r",
      " \r"
     ]
    },
    {
     "data": {
      "application/vnd.jupyter.widget-view+json": {
       "model_id": "",
       "version_major": 2,
       "version_minor": 0
      },
      "text/plain": [
       "HBox(children=(IntProgress(value=0, description='TCGA-IB-7654-01A_HTSeq-FPKM-UQ.txt.gz', max=532, style=Progre…"
      ]
     },
     "metadata": {},
     "output_type": "display_data"
    },
    {
     "name": "stdout",
     "output_type": "stream",
     "text": [
      "\r",
      " \r"
     ]
    },
    {
     "data": {
      "application/vnd.jupyter.widget-view+json": {
       "model_id": "",
       "version_major": 2,
       "version_minor": 0
      },
      "text/plain": [
       "HBox(children=(IntProgress(value=0, description='TCGA-HZ-7918-01A_HTSeq-FPKM.txt.gz', max=522, style=ProgressS…"
      ]
     },
     "metadata": {},
     "output_type": "display_data"
    },
    {
     "name": "stdout",
     "output_type": "stream",
     "text": [
      "\r",
      " \r"
     ]
    },
    {
     "data": {
      "application/vnd.jupyter.widget-view+json": {
       "model_id": "",
       "version_major": 2,
       "version_minor": 0
      },
      "text/plain": [
       "HBox(children=(IntProgress(value=0, description='TCGA-2L-AAQE-01A_HTSeq-Counts.txt.gz', max=256, style=Progres…"
      ]
     },
     "metadata": {},
     "output_type": "display_data"
    },
    {
     "name": "stdout",
     "output_type": "stream",
     "text": [
      "\r",
      " \r"
     ]
    },
    {
     "data": {
      "application/vnd.jupyter.widget-view+json": {
       "model_id": "",
       "version_major": 2,
       "version_minor": 0
      },
      "text/plain": [
       "HBox(children=(IntProgress(value=0, description='TCGA-2J-AAB6-01A_HTSeq-FPKM.txt.gz', max=512, style=ProgressS…"
      ]
     },
     "metadata": {},
     "output_type": "display_data"
    },
    {
     "name": "stdout",
     "output_type": "stream",
     "text": [
      "\r",
      " \r"
     ]
    },
    {
     "data": {
      "application/vnd.jupyter.widget-view+json": {
       "model_id": "",
       "version_major": 2,
       "version_minor": 0
      },
      "text/plain": [
       "HBox(children=(IntProgress(value=0, description='TCGA-HZ-8317-01A_HTSeq-FPKM.txt.gz', max=532, style=ProgressS…"
      ]
     },
     "metadata": {},
     "output_type": "display_data"
    },
    {
     "name": "stdout",
     "output_type": "stream",
     "text": [
      "\r",
      " \r"
     ]
    },
    {
     "data": {
      "application/vnd.jupyter.widget-view+json": {
       "model_id": "",
       "version_major": 2,
       "version_minor": 0
      },
      "text/plain": [
       "HBox(children=(IntProgress(value=0, description='TCGA-HZ-7923-01A_HTSeq-Counts.txt.gz', max=266, style=Progres…"
      ]
     },
     "metadata": {},
     "output_type": "display_data"
    },
    {
     "name": "stdout",
     "output_type": "stream",
     "text": [
      "\r",
      " \r"
     ]
    },
    {
     "data": {
      "application/vnd.jupyter.widget-view+json": {
       "model_id": "",
       "version_major": 2,
       "version_minor": 0
      },
      "text/plain": [
       "HBox(children=(IntProgress(value=0, description='TCGA-H6-A45N-01A_HTSeq-FPKM.txt.gz', max=532, style=ProgressS…"
      ]
     },
     "metadata": {},
     "output_type": "display_data"
    },
    {
     "name": "stdout",
     "output_type": "stream",
     "text": [
      "\r",
      " \r"
     ]
    },
    {
     "data": {
      "application/vnd.jupyter.widget-view+json": {
       "model_id": "",
       "version_major": 2,
       "version_minor": 0
      },
      "text/plain": [
       "HBox(children=(IntProgress(value=0, description='TCGA-L1-A7W4-01A_HTSeq-Counts.txt.gz', max=256, style=Progres…"
      ]
     },
     "metadata": {},
     "output_type": "display_data"
    },
    {
     "name": "stdout",
     "output_type": "stream",
     "text": [
      "\r",
      " \r"
     ]
    },
    {
     "data": {
      "application/vnd.jupyter.widget-view+json": {
       "model_id": "",
       "version_major": 2,
       "version_minor": 0
      },
      "text/plain": [
       "HBox(children=(IntProgress(value=0, description='TCGA-2J-AABF-01A_HTSeq-Counts.txt.gz', max=266, style=Progres…"
      ]
     },
     "metadata": {},
     "output_type": "display_data"
    },
    {
     "name": "stdout",
     "output_type": "stream",
     "text": [
      "\r",
      " \r"
     ]
    },
    {
     "data": {
      "application/vnd.jupyter.widget-view+json": {
       "model_id": "",
       "version_major": 2,
       "version_minor": 0
      },
      "text/plain": [
       "HBox(children=(IntProgress(value=0, description='TCGA-HV-A5A6-01A_HTSeq-FPKM-UQ.txt.gz', max=522, style=Progre…"
      ]
     },
     "metadata": {},
     "output_type": "display_data"
    },
    {
     "name": "stdout",
     "output_type": "stream",
     "text": [
      "\r",
      " \r"
     ]
    },
    {
     "data": {
      "application/vnd.jupyter.widget-view+json": {
       "model_id": "",
       "version_major": 2,
       "version_minor": 0
      },
      "text/plain": [
       "HBox(children=(IntProgress(value=0, description='TCGA-XD-AAUH-01A_HTSeq-FPKM.txt.gz', max=532, style=ProgressS…"
      ]
     },
     "metadata": {},
     "output_type": "display_data"
    },
    {
     "name": "stdout",
     "output_type": "stream",
     "text": [
      "\r",
      " \r"
     ]
    },
    {
     "data": {
      "application/vnd.jupyter.widget-view+json": {
       "model_id": "",
       "version_major": 2,
       "version_minor": 0
      },
      "text/plain": [
       "HBox(children=(IntProgress(value=0, description='TCGA-HZ-7922-01A_HTSeq-FPKM.txt.gz', max=532, style=ProgressS…"
      ]
     },
     "metadata": {},
     "output_type": "display_data"
    },
    {
     "name": "stdout",
     "output_type": "stream",
     "text": [
      "\r",
      " \r"
     ]
    },
    {
     "data": {
      "application/vnd.jupyter.widget-view+json": {
       "model_id": "",
       "version_major": 2,
       "version_minor": 0
      },
      "text/plain": [
       "HBox(children=(IntProgress(value=0, description='TCGA-2J-AABP-01A_HTSeq-FPKM-UQ.txt.gz', max=522, style=Progre…"
      ]
     },
     "metadata": {},
     "output_type": "display_data"
    },
    {
     "name": "stdout",
     "output_type": "stream",
     "text": [
      "\r",
      " \r"
     ]
    },
    {
     "data": {
      "application/vnd.jupyter.widget-view+json": {
       "model_id": "",
       "version_major": 2,
       "version_minor": 0
      },
      "text/plain": [
       "HBox(children=(IntProgress(value=0, description='TCGA-IB-A7LX-01A_HTSeq-FPKM.txt.gz', max=543, style=ProgressS…"
      ]
     },
     "metadata": {},
     "output_type": "display_data"
    },
    {
     "name": "stdout",
     "output_type": "stream",
     "text": [
      "\r",
      " \r"
     ]
    },
    {
     "data": {
      "application/vnd.jupyter.widget-view+json": {
       "model_id": "",
       "version_major": 2,
       "version_minor": 0
      },
      "text/plain": [
       "HBox(children=(IntProgress(value=0, description='TCGA-IB-7890-01A_HTSeq-FPKM.txt.gz', max=512, style=ProgressS…"
      ]
     },
     "metadata": {},
     "output_type": "display_data"
    },
    {
     "name": "stdout",
     "output_type": "stream",
     "text": [
      "\r",
      " \r"
     ]
    },
    {
     "data": {
      "application/vnd.jupyter.widget-view+json": {
       "model_id": "",
       "version_major": 2,
       "version_minor": 0
      },
      "text/plain": [
       "HBox(children=(IntProgress(value=0, description='TCGA-US-A779-01A_HTSeq-Counts.txt.gz', max=256, style=Progres…"
      ]
     },
     "metadata": {},
     "output_type": "display_data"
    },
    {
     "name": "stdout",
     "output_type": "stream",
     "text": [
      "\r",
      " \r"
     ]
    },
    {
     "data": {
      "application/vnd.jupyter.widget-view+json": {
       "model_id": "",
       "version_major": 2,
       "version_minor": 0
      },
      "text/plain": [
       "HBox(children=(IntProgress(value=0, description='TCGA-F2-7276-01A_HTSeq-FPKM.txt.gz', max=543, style=ProgressS…"
      ]
     },
     "metadata": {},
     "output_type": "display_data"
    },
    {
     "name": "stdout",
     "output_type": "stream",
     "text": [
      "\r",
      " \r"
     ]
    },
    {
     "data": {
      "application/vnd.jupyter.widget-view+json": {
       "model_id": "",
       "version_major": 2,
       "version_minor": 0
      },
      "text/plain": [
       "HBox(children=(IntProgress(value=0, description='TCGA-IB-7891-01A_HTSeq-FPKM-UQ.txt.gz', max=522, style=Progre…"
      ]
     },
     "metadata": {},
     "output_type": "display_data"
    },
    {
     "name": "stdout",
     "output_type": "stream",
     "text": [
      "\r",
      " \r"
     ]
    },
    {
     "data": {
      "application/vnd.jupyter.widget-view+json": {
       "model_id": "",
       "version_major": 2,
       "version_minor": 0
      },
      "text/plain": [
       "HBox(children=(IntProgress(value=0, description='TCGA-3A-A9IS-01A_HTSeq-FPKM-UQ.txt.gz', max=512, style=Progre…"
      ]
     },
     "metadata": {},
     "output_type": "display_data"
    },
    {
     "name": "stdout",
     "output_type": "stream",
     "text": [
      "\r",
      " \r"
     ]
    },
    {
     "data": {
      "application/vnd.jupyter.widget-view+json": {
       "model_id": "",
       "version_major": 2,
       "version_minor": 0
      },
      "text/plain": [
       "HBox(children=(IntProgress(value=0, description='TCGA-3A-A9I7-01A_HTSeq-FPKM.txt.gz', max=543, style=ProgressS…"
      ]
     },
     "metadata": {},
     "output_type": "display_data"
    },
    {
     "name": "stdout",
     "output_type": "stream",
     "text": [
      "\r",
      " \r"
     ]
    },
    {
     "data": {
      "application/vnd.jupyter.widget-view+json": {
       "model_id": "",
       "version_major": 2,
       "version_minor": 0
      },
      "text/plain": [
       "HBox(children=(IntProgress(value=0, description='TCGA-IB-AAUT-01A_HTSeq-FPKM-UQ.txt.gz', max=532, style=Progre…"
      ]
     },
     "metadata": {},
     "output_type": "display_data"
    },
    {
     "name": "stdout",
     "output_type": "stream",
     "text": [
      "\r",
      " \r"
     ]
    },
    {
     "data": {
      "application/vnd.jupyter.widget-view+json": {
       "model_id": "",
       "version_major": 2,
       "version_minor": 0
      },
      "text/plain": [
       "HBox(children=(IntProgress(value=0, description='TCGA-FB-A5VM-01A_HTSeq-FPKM.txt.gz', max=522, style=ProgressS…"
      ]
     },
     "metadata": {},
     "output_type": "display_data"
    },
    {
     "name": "stdout",
     "output_type": "stream",
     "text": [
      "\r",
      " \r"
     ]
    },
    {
     "data": {
      "application/vnd.jupyter.widget-view+json": {
       "model_id": "",
       "version_major": 2,
       "version_minor": 0
      },
      "text/plain": [
       "HBox(children=(IntProgress(value=0, description='TCGA-IB-AAUO-01A_HTSeq-Counts.txt.gz', max=266, style=Progres…"
      ]
     },
     "metadata": {},
     "output_type": "display_data"
    },
    {
     "name": "stdout",
     "output_type": "stream",
     "text": [
      "\r",
      " \r"
     ]
    },
    {
     "data": {
      "application/vnd.jupyter.widget-view+json": {
       "model_id": "",
       "version_major": 2,
       "version_minor": 0
      },
      "text/plain": [
       "HBox(children=(IntProgress(value=0, description='TCGA-IB-7886-01A_HTSeq-Counts.txt.gz', max=256, style=Progres…"
      ]
     },
     "metadata": {},
     "output_type": "display_data"
    },
    {
     "name": "stdout",
     "output_type": "stream",
     "text": [
      "\r",
      " \r"
     ]
    },
    {
     "data": {
      "application/vnd.jupyter.widget-view+json": {
       "model_id": "",
       "version_major": 2,
       "version_minor": 0
      },
      "text/plain": [
       "HBox(children=(IntProgress(value=0, description='TCGA-2J-AAB4-01A_HTSeq-FPKM.txt.gz', max=532, style=ProgressS…"
      ]
     },
     "metadata": {},
     "output_type": "display_data"
    },
    {
     "name": "stdout",
     "output_type": "stream",
     "text": [
      "\r",
      " \r"
     ]
    },
    {
     "data": {
      "application/vnd.jupyter.widget-view+json": {
       "model_id": "",
       "version_major": 2,
       "version_minor": 0
      },
      "text/plain": [
       "HBox(children=(IntProgress(value=0, description='TCGA-F2-6880-01A_HTSeq-FPKM.txt.gz', max=502, style=ProgressS…"
      ]
     },
     "metadata": {},
     "output_type": "display_data"
    },
    {
     "name": "stdout",
     "output_type": "stream",
     "text": [
      "\r",
      " \r"
     ]
    },
    {
     "data": {
      "application/vnd.jupyter.widget-view+json": {
       "model_id": "",
       "version_major": 2,
       "version_minor": 0
      },
      "text/plain": [
       "HBox(children=(IntProgress(value=0, description='TCGA-2J-AABU-01A_HTSeq-Counts.txt.gz', max=246, style=Progres…"
      ]
     },
     "metadata": {},
     "output_type": "display_data"
    },
    {
     "name": "stdout",
     "output_type": "stream",
     "text": [
      "\r",
      " \r"
     ]
    },
    {
     "data": {
      "application/vnd.jupyter.widget-view+json": {
       "model_id": "",
       "version_major": 2,
       "version_minor": 0
      },
      "text/plain": [
       "HBox(children=(IntProgress(value=0, description='TCGA-XD-AAUI-01A_HTSeq-FPKM-UQ.txt.gz', max=543, style=Progre…"
      ]
     },
     "metadata": {},
     "output_type": "display_data"
    },
    {
     "name": "stdout",
     "output_type": "stream",
     "text": [
      "\r",
      " \r"
     ]
    },
    {
     "data": {
      "application/vnd.jupyter.widget-view+json": {
       "model_id": "",
       "version_major": 2,
       "version_minor": 0
      },
      "text/plain": [
       "HBox(children=(IntProgress(value=0, description='TCGA-3A-A9IR-01A_HTSeq-Counts.txt.gz', max=266, style=Progres…"
      ]
     },
     "metadata": {},
     "output_type": "display_data"
    },
    {
     "name": "stdout",
     "output_type": "stream",
     "text": [
      "\r",
      " \r"
     ]
    },
    {
     "data": {
      "application/vnd.jupyter.widget-view+json": {
       "model_id": "",
       "version_major": 2,
       "version_minor": 0
      },
      "text/plain": [
       "HBox(children=(IntProgress(value=0, description='TCGA-HZ-A9TJ-01A_HTSeq-Counts.txt.gz', max=256, style=Progres…"
      ]
     },
     "metadata": {},
     "output_type": "display_data"
    },
    {
     "name": "stdout",
     "output_type": "stream",
     "text": [
      "\r",
      " \r"
     ]
    },
    {
     "data": {
      "application/vnd.jupyter.widget-view+json": {
       "model_id": "",
       "version_major": 2,
       "version_minor": 0
      },
      "text/plain": [
       "HBox(children=(IntProgress(value=0, description='TCGA-HZ-8636-01A_HTSeq-Counts.txt.gz', max=266, style=Progres…"
      ]
     },
     "metadata": {},
     "output_type": "display_data"
    },
    {
     "name": "stdout",
     "output_type": "stream",
     "text": [
      "\r",
      " \r"
     ]
    },
    {
     "data": {
      "application/vnd.jupyter.widget-view+json": {
       "model_id": "",
       "version_major": 2,
       "version_minor": 0
      },
      "text/plain": [
       "HBox(children=(IntProgress(value=0, description='TCGA-IB-8127-01A_HTSeq-FPKM-UQ.txt.gz', max=563, style=Progre…"
      ]
     },
     "metadata": {},
     "output_type": "display_data"
    },
    {
     "name": "stdout",
     "output_type": "stream",
     "text": [
      "\r",
      " \r"
     ]
    },
    {
     "data": {
      "application/vnd.jupyter.widget-view+json": {
       "model_id": "",
       "version_major": 2,
       "version_minor": 0
      },
      "text/plain": [
       "HBox(children=(IntProgress(value=0, description='TCGA-FB-AAPY-01A_HTSeq-FPKM-UQ.txt.gz', max=543, style=Progre…"
      ]
     },
     "metadata": {},
     "output_type": "display_data"
    },
    {
     "name": "stdout",
     "output_type": "stream",
     "text": [
      "\r",
      " \r"
     ]
    },
    {
     "data": {
      "application/vnd.jupyter.widget-view+json": {
       "model_id": "",
       "version_major": 2,
       "version_minor": 0
      },
      "text/plain": [
       "HBox(children=(IntProgress(value=0, description='TCGA-2J-AABE-01A_HTSeq-Counts.txt.gz', max=256, style=Progres…"
      ]
     },
     "metadata": {},
     "output_type": "display_data"
    },
    {
     "name": "stdout",
     "output_type": "stream",
     "text": [
      "\r",
      " \r"
     ]
    },
    {
     "data": {
      "application/vnd.jupyter.widget-view+json": {
       "model_id": "",
       "version_major": 2,
       "version_minor": 0
      },
      "text/plain": [
       "HBox(children=(IntProgress(value=0, description='TCGA-HZ-8003-01A_HTSeq-FPKM.txt.gz', max=532, style=ProgressS…"
      ]
     },
     "metadata": {},
     "output_type": "display_data"
    },
    {
     "name": "stdout",
     "output_type": "stream",
     "text": [
      "\r",
      " \r"
     ]
    },
    {
     "data": {
      "application/vnd.jupyter.widget-view+json": {
       "model_id": "",
       "version_major": 2,
       "version_minor": 0
      },
      "text/plain": [
       "HBox(children=(IntProgress(value=0, description='TCGA-HZ-7920-01A_HTSeq-FPKM.txt.gz', max=543, style=ProgressS…"
      ]
     },
     "metadata": {},
     "output_type": "display_data"
    },
    {
     "name": "stdout",
     "output_type": "stream",
     "text": [
      "\r",
      " \r"
     ]
    },
    {
     "data": {
      "application/vnd.jupyter.widget-view+json": {
       "model_id": "",
       "version_major": 2,
       "version_minor": 0
      },
      "text/plain": [
       "HBox(children=(IntProgress(value=0, description='TCGA-FB-AAPZ-01A_HTSeq-FPKM.txt.gz', max=512, style=ProgressS…"
      ]
     },
     "metadata": {},
     "output_type": "display_data"
    },
    {
     "name": "stdout",
     "output_type": "stream",
     "text": [
      "\r",
      " \r"
     ]
    },
    {
     "data": {
      "application/vnd.jupyter.widget-view+json": {
       "model_id": "",
       "version_major": 2,
       "version_minor": 0
      },
      "text/plain": [
       "HBox(children=(IntProgress(value=0, description='TCGA-2J-AABU-01A_HTSeq-FPKM.txt.gz', max=492, style=ProgressS…"
      ]
     },
     "metadata": {},
     "output_type": "display_data"
    },
    {
     "name": "stdout",
     "output_type": "stream",
     "text": [
      "\r",
      " \r"
     ]
    },
    {
     "data": {
      "application/vnd.jupyter.widget-view+json": {
       "model_id": "",
       "version_major": 2,
       "version_minor": 0
      },
      "text/plain": [
       "HBox(children=(IntProgress(value=0, description='TCGA-IB-A5ST-01A_HTSeq-FPKM-UQ.txt.gz', max=543, style=Progre…"
      ]
     },
     "metadata": {},
     "output_type": "display_data"
    },
    {
     "name": "stdout",
     "output_type": "stream",
     "text": [
      "\r",
      " \r"
     ]
    },
    {
     "data": {
      "application/vnd.jupyter.widget-view+json": {
       "model_id": "",
       "version_major": 2,
       "version_minor": 0
      },
      "text/plain": [
       "HBox(children=(IntProgress(value=0, description='TCGA-IB-AAUW-01A_HTSeq-FPKM.txt.gz', max=553, style=ProgressS…"
      ]
     },
     "metadata": {},
     "output_type": "display_data"
    },
    {
     "name": "stdout",
     "output_type": "stream",
     "text": [
      "\r",
      " \r"
     ]
    },
    {
     "data": {
      "application/vnd.jupyter.widget-view+json": {
       "model_id": "",
       "version_major": 2,
       "version_minor": 0
      },
      "text/plain": [
       "HBox(children=(IntProgress(value=0, description='TCGA-HV-A5A6-01A_HTSeq-FPKM.txt.gz', max=522, style=ProgressS…"
      ]
     },
     "metadata": {},
     "output_type": "display_data"
    },
    {
     "name": "stdout",
     "output_type": "stream",
     "text": [
      "\r",
      " \r"
     ]
    },
    {
     "data": {
      "application/vnd.jupyter.widget-view+json": {
       "model_id": "",
       "version_major": 2,
       "version_minor": 0
      },
      "text/plain": [
       "HBox(children=(IntProgress(value=0, description='TCGA-HZ-8637-01A_HTSeq-FPKM.txt.gz', max=563, style=ProgressS…"
      ]
     },
     "metadata": {},
     "output_type": "display_data"
    },
    {
     "name": "stdout",
     "output_type": "stream",
     "text": [
      "\r",
      " \r"
     ]
    },
    {
     "data": {
      "application/vnd.jupyter.widget-view+json": {
       "model_id": "",
       "version_major": 2,
       "version_minor": 0
      },
      "text/plain": [
       "HBox(children=(IntProgress(value=0, description='TCGA-IB-AAUP-01A_HTSeq-FPKM-UQ.txt.gz', max=553, style=Progre…"
      ]
     },
     "metadata": {},
     "output_type": "display_data"
    },
    {
     "name": "stdout",
     "output_type": "stream",
     "text": [
      "\r",
      " \r"
     ]
    },
    {
     "data": {
      "application/vnd.jupyter.widget-view+json": {
       "model_id": "",
       "version_major": 2,
       "version_minor": 0
      },
      "text/plain": [
       "HBox(children=(IntProgress(value=0, description='TCGA-M8-A5N4-01A_HTSeq-FPKM.txt.gz', max=522, style=ProgressS…"
      ]
     },
     "metadata": {},
     "output_type": "display_data"
    },
    {
     "name": "stdout",
     "output_type": "stream",
     "text": [
      "\r",
      " \r"
     ]
    },
    {
     "data": {
      "application/vnd.jupyter.widget-view+json": {
       "model_id": "",
       "version_major": 2,
       "version_minor": 0
      },
      "text/plain": [
       "HBox(children=(IntProgress(value=0, description='TCGA-IB-A5SS-01A_HTSeq-FPKM-UQ.txt.gz', max=522, style=Progre…"
      ]
     },
     "metadata": {},
     "output_type": "display_data"
    },
    {
     "name": "stdout",
     "output_type": "stream",
     "text": [
      "\r",
      " \r"
     ]
    },
    {
     "data": {
      "application/vnd.jupyter.widget-view+json": {
       "model_id": "",
       "version_major": 2,
       "version_minor": 0
      },
      "text/plain": [
       "HBox(children=(IntProgress(value=0, description='TCGA-HV-A7OP-01A_HTSeq-FPKM.txt.gz', max=512, style=ProgressS…"
      ]
     },
     "metadata": {},
     "output_type": "display_data"
    },
    {
     "name": "stdout",
     "output_type": "stream",
     "text": [
      "\r",
      " \r"
     ]
    },
    {
     "data": {
      "application/vnd.jupyter.widget-view+json": {
       "model_id": "",
       "version_major": 2,
       "version_minor": 0
      },
      "text/plain": [
       "HBox(children=(IntProgress(value=0, description='TCGA-HV-A5A3-11A_HTSeq-FPKM-UQ.txt.gz', max=522, style=Progre…"
      ]
     },
     "metadata": {},
     "output_type": "display_data"
    },
    {
     "name": "stdout",
     "output_type": "stream",
     "text": [
      "\r",
      " \r"
     ]
    },
    {
     "data": {
      "application/vnd.jupyter.widget-view+json": {
       "model_id": "",
       "version_major": 2,
       "version_minor": 0
      },
      "text/plain": [
       "HBox(children=(IntProgress(value=0, description='TCGA-3E-AAAY-01A_HTSeq-FPKM.txt.gz', max=553, style=ProgressS…"
      ]
     },
     "metadata": {},
     "output_type": "display_data"
    },
    {
     "name": "stdout",
     "output_type": "stream",
     "text": [
      "\r",
      " \r"
     ]
    },
    {
     "data": {
      "application/vnd.jupyter.widget-view+json": {
       "model_id": "",
       "version_major": 2,
       "version_minor": 0
      },
      "text/plain": [
       "HBox(children=(IntProgress(value=0, description='TCGA-3A-A9IJ-01A_HTSeq-FPKM-UQ.txt.gz', max=512, style=Progre…"
      ]
     },
     "metadata": {},
     "output_type": "display_data"
    },
    {
     "name": "stdout",
     "output_type": "stream",
     "text": [
      "\r",
      " \r"
     ]
    },
    {
     "data": {
      "application/vnd.jupyter.widget-view+json": {
       "model_id": "",
       "version_major": 2,
       "version_minor": 0
      },
      "text/plain": [
       "HBox(children=(IntProgress(value=0, description='TCGA-HZ-A49I-01A_HTSeq-FPKM.txt.gz', max=532, style=ProgressS…"
      ]
     },
     "metadata": {},
     "output_type": "display_data"
    },
    {
     "name": "stdout",
     "output_type": "stream",
     "text": [
      "\r",
      " \r"
     ]
    },
    {
     "data": {
      "application/vnd.jupyter.widget-view+json": {
       "model_id": "",
       "version_major": 2,
       "version_minor": 0
      },
      "text/plain": [
       "HBox(children=(IntProgress(value=0, description='TCGA-IB-A5SQ-01A_HTSeq-Counts.txt.gz', max=256, style=Progres…"
      ]
     },
     "metadata": {},
     "output_type": "display_data"
    },
    {
     "name": "stdout",
     "output_type": "stream",
     "text": [
      "\r",
      " \r"
     ]
    },
    {
     "data": {
      "application/vnd.jupyter.widget-view+json": {
       "model_id": "",
       "version_major": 2,
       "version_minor": 0
      },
      "text/plain": [
       "HBox(children=(IntProgress(value=0, description='TCGA-3A-A9IR-01A_HTSeq-FPKM-UQ.txt.gz', max=532, style=Progre…"
      ]
     },
     "metadata": {},
     "output_type": "display_data"
    },
    {
     "name": "stdout",
     "output_type": "stream",
     "text": [
      " \r"
     ]
    },
    {
     "data": {
      "application/vnd.jupyter.widget-view+json": {
       "model_id": "",
       "version_major": 2,
       "version_minor": 0
      },
      "text/plain": [
       "HBox(children=(IntProgress(value=0, description='TCGA-S4-A8RP-01A_HTSeq-Counts.txt.gz', max=266, style=Progres…"
      ]
     },
     "metadata": {},
     "output_type": "display_data"
    },
    {
     "data": {
      "application/vnd.jupyter.widget-view+json": {
       "model_id": "",
       "version_major": 2,
       "version_minor": 0
      },
      "text/plain": [
       "HBox(children=(IntProgress(value=0, description='TCGA-HZ-A4BH-01A_HTSeq-FPKM-UQ.txt.gz', max=532, style=Progre…"
      ]
     },
     "metadata": {},
     "output_type": "display_data"
    },
    {
     "data": {
      "application/vnd.jupyter.widget-view+json": {
       "model_id": "",
       "version_major": 2,
       "version_minor": 0
      },
      "text/plain": [
       "HBox(children=(IntProgress(value=0, description='TCGA-3A-A9I5-01A_HTSeq-FPKM.txt.gz', max=522, style=ProgressS…"
      ]
     },
     "metadata": {},
     "output_type": "display_data"
    },
    {
     "name": "stdout",
     "output_type": "stream",
     "text": [
      "\r",
      " \r"
     ]
    },
    {
     "data": {
      "application/vnd.jupyter.widget-view+json": {
       "model_id": "",
       "version_major": 2,
       "version_minor": 0
      },
      "text/plain": [
       "HBox(children=(IntProgress(value=0, description='TCGA-IB-7646-01A_HTSeq-Counts.txt.gz', max=256, style=Progres…"
      ]
     },
     "metadata": {},
     "output_type": "display_data"
    },
    {
     "name": "stdout",
     "output_type": "stream",
     "text": [
      "\r",
      " \r"
     ]
    },
    {
     "data": {
      "application/vnd.jupyter.widget-view+json": {
       "model_id": "",
       "version_major": 2,
       "version_minor": 0
      },
      "text/plain": [
       "HBox(children=(IntProgress(value=0, description='TCGA-LB-A9Q5-01A_HTSeq-FPKM-UQ.txt.gz', max=512, style=Progre…"
      ]
     },
     "metadata": {},
     "output_type": "display_data"
    },
    {
     "name": "stdout",
     "output_type": "stream",
     "text": [
      "\r",
      " \r"
     ]
    },
    {
     "data": {
      "application/vnd.jupyter.widget-view+json": {
       "model_id": "",
       "version_major": 2,
       "version_minor": 0
      },
      "text/plain": [
       "HBox(children=(IntProgress(value=0, description='TCGA-HZ-8638-01A_HTSeq-Counts.txt.gz', max=266, style=Progres…"
      ]
     },
     "metadata": {},
     "output_type": "display_data"
    },
    {
     "name": "stdout",
     "output_type": "stream",
     "text": [
      "\r",
      " \r"
     ]
    },
    {
     "data": {
      "application/vnd.jupyter.widget-view+json": {
       "model_id": "",
       "version_major": 2,
       "version_minor": 0
      },
      "text/plain": [
       "HBox(children=(IntProgress(value=0, description='TCGA-FB-A78T-01A_HTSeq-FPKM.txt.gz', max=543, style=ProgressS…"
      ]
     },
     "metadata": {},
     "output_type": "display_data"
    },
    {
     "name": "stdout",
     "output_type": "stream",
     "text": [
      "\r",
      " \r"
     ]
    },
    {
     "data": {
      "application/vnd.jupyter.widget-view+json": {
       "model_id": "",
       "version_major": 2,
       "version_minor": 0
      },
      "text/plain": [
       "HBox(children=(IntProgress(value=0, description='TCGA-YY-A8LH-01A_HTSeq-Counts.txt.gz', max=256, style=Progres…"
      ]
     },
     "metadata": {},
     "output_type": "display_data"
    },
    {
     "name": "stdout",
     "output_type": "stream",
     "text": [
      "\r",
      " \r"
     ]
    },
    {
     "data": {
      "application/vnd.jupyter.widget-view+json": {
       "model_id": "",
       "version_major": 2,
       "version_minor": 0
      },
      "text/plain": [
       "HBox(children=(IntProgress(value=0, description='TCGA-2L-AAQE-01A_HTSeq-FPKM-UQ.txt.gz', max=522, style=Progre…"
      ]
     },
     "metadata": {},
     "output_type": "display_data"
    },
    {
     "name": "stdout",
     "output_type": "stream",
     "text": [
      "\r",
      " \r"
     ]
    },
    {
     "data": {
      "application/vnd.jupyter.widget-view+json": {
       "model_id": "",
       "version_major": 2,
       "version_minor": 0
      },
      "text/plain": [
       "HBox(children=(IntProgress(value=0, description='TCGA-L1-A7W4-01A_HTSeq-FPKM.txt.gz', max=532, style=ProgressS…"
      ]
     },
     "metadata": {},
     "output_type": "display_data"
    },
    {
     "name": "stdout",
     "output_type": "stream",
     "text": [
      "\r",
      " \r"
     ]
    },
    {
     "data": {
      "application/vnd.jupyter.widget-view+json": {
       "model_id": "",
       "version_major": 2,
       "version_minor": 0
      },
      "text/plain": [
       "HBox(children=(IntProgress(value=0, description='TCGA-US-A77G-01A_HTSeq-Counts.txt.gz', max=256, style=Progres…"
      ]
     },
     "metadata": {},
     "output_type": "display_data"
    },
    {
     "name": "stdout",
     "output_type": "stream",
     "text": [
      " \r"
     ]
    },
    {
     "data": {
      "application/vnd.jupyter.widget-view+json": {
       "model_id": "",
       "version_major": 2,
       "version_minor": 0
      },
      "text/plain": [
       "HBox(children=(IntProgress(value=0, description='TCGA-RL-AAAS-01A_HTSeq-Counts.txt.gz', max=256, style=Progres…"
      ]
     },
     "metadata": {},
     "output_type": "display_data"
    },
    {
     "data": {
      "application/vnd.jupyter.widget-view+json": {
       "model_id": "",
       "version_major": 2,
       "version_minor": 0
      },
      "text/plain": [
       "HBox(children=(IntProgress(value=0, description='TCGA-HZ-A49I-01A_HTSeq-Counts.txt.gz', max=256, style=Progres…"
      ]
     },
     "metadata": {},
     "output_type": "display_data"
    },
    {
     "name": "stdout",
     "output_type": "stream",
     "text": [
      "\r",
      " \r"
     ]
    },
    {
     "data": {
      "application/vnd.jupyter.widget-view+json": {
       "model_id": "",
       "version_major": 2,
       "version_minor": 0
      },
      "text/plain": [
       "HBox(children=(IntProgress(value=0, description='TCGA-Q3-AA2A-01A_HTSeq-FPKM-UQ.txt.gz', max=522, style=Progre…"
      ]
     },
     "metadata": {},
     "output_type": "display_data"
    },
    {
     "name": "stdout",
     "output_type": "stream",
     "text": [
      "\r",
      " \r"
     ]
    },
    {
     "data": {
      "application/vnd.jupyter.widget-view+json": {
       "model_id": "",
       "version_major": 2,
       "version_minor": 0
      },
      "text/plain": [
       "HBox(children=(IntProgress(value=0, description='TCGA-FB-AAQ6-01A_HTSeq-FPKM-UQ.txt.gz', max=502, style=Progre…"
      ]
     },
     "metadata": {},
     "output_type": "display_data"
    },
    {
     "name": "stdout",
     "output_type": "stream",
     "text": [
      "\r",
      " \r"
     ]
    },
    {
     "data": {
      "application/vnd.jupyter.widget-view+json": {
       "model_id": "",
       "version_major": 2,
       "version_minor": 0
      },
      "text/plain": [
       "HBox(children=(IntProgress(value=0, description='TCGA-3A-A9IC-01A_HTSeq-Counts.txt.gz', max=256, style=Progres…"
      ]
     },
     "metadata": {},
     "output_type": "display_data"
    },
    {
     "name": "stdout",
     "output_type": "stream",
     "text": [
      "\r",
      " \r"
     ]
    },
    {
     "data": {
      "application/vnd.jupyter.widget-view+json": {
       "model_id": "",
       "version_major": 2,
       "version_minor": 0
      },
      "text/plain": [
       "HBox(children=(IntProgress(value=0, description='TCGA-M8-A5N4-01A_HTSeq-FPKM-UQ.txt.gz', max=532, style=Progre…"
      ]
     },
     "metadata": {},
     "output_type": "display_data"
    },
    {
     "name": "stdout",
     "output_type": "stream",
     "text": [
      "\r",
      " \r"
     ]
    },
    {
     "data": {
      "application/vnd.jupyter.widget-view+json": {
       "model_id": "",
       "version_major": 2,
       "version_minor": 0
      },
      "text/plain": [
       "HBox(children=(IntProgress(value=0, description='TCGA-YY-A8LH-01A_HTSeq-FPKM.txt.gz', max=532, style=ProgressS…"
      ]
     },
     "metadata": {},
     "output_type": "display_data"
    },
    {
     "name": "stdout",
     "output_type": "stream",
     "text": [
      "\r",
      " \r"
     ]
    },
    {
     "data": {
      "application/vnd.jupyter.widget-view+json": {
       "model_id": "",
       "version_major": 2,
       "version_minor": 0
      },
      "text/plain": [
       "HBox(children=(IntProgress(value=0, description='TCGA-IB-7649-01A_HTSeq-Counts.txt.gz', max=256, style=Progres…"
      ]
     },
     "metadata": {},
     "output_type": "display_data"
    },
    {
     "name": "stdout",
     "output_type": "stream",
     "text": [
      "\r",
      " \r"
     ]
    },
    {
     "data": {
      "application/vnd.jupyter.widget-view+json": {
       "model_id": "",
       "version_major": 2,
       "version_minor": 0
      },
      "text/plain": [
       "HBox(children=(IntProgress(value=0, description='TCGA-HV-A5A4-01A_HTSeq-FPKM.txt.gz', max=532, style=ProgressS…"
      ]
     },
     "metadata": {},
     "output_type": "display_data"
    },
    {
     "name": "stdout",
     "output_type": "stream",
     "text": [
      "\r",
      " \r"
     ]
    },
    {
     "data": {
      "application/vnd.jupyter.widget-view+json": {
       "model_id": "",
       "version_major": 2,
       "version_minor": 0
      },
      "text/plain": [
       "HBox(children=(IntProgress(value=0, description='TCGA-FB-A545-01A_HTSeq-Counts.txt.gz', max=256, style=Progres…"
      ]
     },
     "metadata": {},
     "output_type": "display_data"
    },
    {
     "name": "stdout",
     "output_type": "stream",
     "text": [
      "\r",
      " \r"
     ]
    },
    {
     "data": {
      "application/vnd.jupyter.widget-view+json": {
       "model_id": "",
       "version_major": 2,
       "version_minor": 0
      },
      "text/plain": [
       "HBox(children=(IntProgress(value=0, description='TCGA-H6-8124-01A_HTSeq-FPKM-UQ.txt.gz', max=543, style=Progre…"
      ]
     },
     "metadata": {},
     "output_type": "display_data"
    },
    {
     "name": "stdout",
     "output_type": "stream",
     "text": [
      "\r",
      " \r"
     ]
    },
    {
     "data": {
      "application/vnd.jupyter.widget-view+json": {
       "model_id": "",
       "version_major": 2,
       "version_minor": 0
      },
      "text/plain": [
       "HBox(children=(IntProgress(value=0, description='TCGA-IB-7644-01A_HTSeq-Counts.txt.gz', max=256, style=Progres…"
      ]
     },
     "metadata": {},
     "output_type": "display_data"
    },
    {
     "name": "stdout",
     "output_type": "stream",
     "text": [
      "\r",
      " \r"
     ]
    },
    {
     "data": {
      "application/vnd.jupyter.widget-view+json": {
       "model_id": "",
       "version_major": 2,
       "version_minor": 0
      },
      "text/plain": [
       "HBox(children=(IntProgress(value=0, description='TCGA-HZ-8519-01A_HTSeq-FPKM.txt.gz', max=563, style=ProgressS…"
      ]
     },
     "metadata": {},
     "output_type": "display_data"
    },
    {
     "name": "stdout",
     "output_type": "stream",
     "text": [
      "\r",
      " \r"
     ]
    },
    {
     "data": {
      "application/vnd.jupyter.widget-view+json": {
       "model_id": "",
       "version_major": 2,
       "version_minor": 0
      },
      "text/plain": [
       "HBox(children=(IntProgress(value=0, description='TCGA-HV-A5A3-11A_HTSeq-Counts.txt.gz', max=256, style=Progres…"
      ]
     },
     "metadata": {},
     "output_type": "display_data"
    },
    {
     "name": "stdout",
     "output_type": "stream",
     "text": [
      "\r",
      " \r"
     ]
    },
    {
     "data": {
      "application/vnd.jupyter.widget-view+json": {
       "model_id": "",
       "version_major": 2,
       "version_minor": 0
      },
      "text/plain": [
       "HBox(children=(IntProgress(value=0, description='TCGA-HV-AA8X-01A_HTSeq-Counts.txt.gz', max=256, style=Progres…"
      ]
     },
     "metadata": {},
     "output_type": "display_data"
    },
    {
     "name": "stdout",
     "output_type": "stream",
     "text": [
      "\r",
      " \r"
     ]
    },
    {
     "data": {
      "application/vnd.jupyter.widget-view+json": {
       "model_id": "",
       "version_major": 2,
       "version_minor": 0
      },
      "text/plain": [
       "HBox(children=(IntProgress(value=0, description='TCGA-2J-AABV-01A_HTSeq-FPKM.txt.gz', max=481, style=ProgressS…"
      ]
     },
     "metadata": {},
     "output_type": "display_data"
    },
    {
     "name": "stdout",
     "output_type": "stream",
     "text": [
      "\r",
      " \r"
     ]
    },
    {
     "data": {
      "application/vnd.jupyter.widget-view+json": {
       "model_id": "",
       "version_major": 2,
       "version_minor": 0
      },
      "text/plain": [
       "HBox(children=(IntProgress(value=0, description='TCGA-Z5-AAPL-01A_HTSeq-FPKM.txt.gz', max=522, style=ProgressS…"
      ]
     },
     "metadata": {},
     "output_type": "display_data"
    },
    {
     "name": "stdout",
     "output_type": "stream",
     "text": [
      "\r",
      " \r"
     ]
    },
    {
     "data": {
      "application/vnd.jupyter.widget-view+json": {
       "model_id": "",
       "version_major": 2,
       "version_minor": 0
      },
      "text/plain": [
       "HBox(children=(IntProgress(value=0, description='TCGA-FB-AAPY-01A_HTSeq-Counts.txt.gz', max=256, style=Progres…"
      ]
     },
     "metadata": {},
     "output_type": "display_data"
    },
    {
     "name": "stdout",
     "output_type": "stream",
     "text": [
      "\r",
      " \r"
     ]
    },
    {
     "data": {
      "application/vnd.jupyter.widget-view+json": {
       "model_id": "",
       "version_major": 2,
       "version_minor": 0
      },
      "text/plain": [
       "HBox(children=(IntProgress(value=0, description='TCGA-IB-A5SQ-01A_HTSeq-FPKM-UQ.txt.gz', max=532, style=Progre…"
      ]
     },
     "metadata": {},
     "output_type": "display_data"
    },
    {
     "name": "stdout",
     "output_type": "stream",
     "text": [
      "\r",
      " \r"
     ]
    },
    {
     "data": {
      "application/vnd.jupyter.widget-view+json": {
       "model_id": "",
       "version_major": 2,
       "version_minor": 0
      },
      "text/plain": [
       "HBox(children=(IntProgress(value=0, description='TCGA-IB-7652-01A_HTSeq-FPKM-UQ.txt.gz', max=543, style=Progre…"
      ]
     },
     "metadata": {},
     "output_type": "display_data"
    },
    {
     "name": "stdout",
     "output_type": "stream",
     "text": [
      "\r",
      " \r"
     ]
    },
    {
     "data": {
      "application/vnd.jupyter.widget-view+json": {
       "model_id": "",
       "version_major": 2,
       "version_minor": 0
      },
      "text/plain": [
       "HBox(children=(IntProgress(value=0, description='TCGA-LB-A8F3-01A_HTSeq-Counts.txt.gz', max=256, style=Progres…"
      ]
     },
     "metadata": {},
     "output_type": "display_data"
    },
    {
     "name": "stdout",
     "output_type": "stream",
     "text": [
      "\r",
      " \r"
     ]
    },
    {
     "data": {
      "application/vnd.jupyter.widget-view+json": {
       "model_id": "",
       "version_major": 2,
       "version_minor": 0
      },
      "text/plain": [
       "HBox(children=(IntProgress(value=0, description='TCGA-HZ-8315-01A_HTSeq-Counts.txt.gz', max=266, style=Progres…"
      ]
     },
     "metadata": {},
     "output_type": "display_data"
    },
    {
     "name": "stdout",
     "output_type": "stream",
     "text": [
      "\r",
      " \r"
     ]
    },
    {
     "data": {
      "application/vnd.jupyter.widget-view+json": {
       "model_id": "",
       "version_major": 2,
       "version_minor": 0
      },
      "text/plain": [
       "HBox(children=(IntProgress(value=0, description='TCGA-FB-AAQ0-01A_HTSeq-Counts.txt.gz', max=256, style=Progres…"
      ]
     },
     "metadata": {},
     "output_type": "display_data"
    },
    {
     "name": "stdout",
     "output_type": "stream",
     "text": [
      "\r",
      " \r"
     ]
    },
    {
     "data": {
      "application/vnd.jupyter.widget-view+json": {
       "model_id": "",
       "version_major": 2,
       "version_minor": 0
      },
      "text/plain": [
       "HBox(children=(IntProgress(value=0, description='TCGA-HV-A7OL-01A_HTSeq-FPKM-UQ.txt.gz', max=522, style=Progre…"
      ]
     },
     "metadata": {},
     "output_type": "display_data"
    },
    {
     "name": "stdout",
     "output_type": "stream",
     "text": [
      "\r",
      " \r"
     ]
    },
    {
     "data": {
      "application/vnd.jupyter.widget-view+json": {
       "model_id": "",
       "version_major": 2,
       "version_minor": 0
      },
      "text/plain": [
       "HBox(children=(IntProgress(value=0, description='TCGA-HZ-8315-01A_HTSeq-FPKM-UQ.txt.gz', max=553, style=Progre…"
      ]
     },
     "metadata": {},
     "output_type": "display_data"
    },
    {
     "name": "stdout",
     "output_type": "stream",
     "text": [
      "\r",
      " \r"
     ]
    },
    {
     "data": {
      "application/vnd.jupyter.widget-view+json": {
       "model_id": "",
       "version_major": 2,
       "version_minor": 0
      },
      "text/plain": [
       "HBox(children=(IntProgress(value=0, description='TCGA-HZ-8317-01A_HTSeq-Counts.txt.gz', max=256, style=Progres…"
      ]
     },
     "metadata": {},
     "output_type": "display_data"
    },
    {
     "name": "stdout",
     "output_type": "stream",
     "text": [
      "\r",
      " \r"
     ]
    },
    {
     "data": {
      "application/vnd.jupyter.widget-view+json": {
       "model_id": "",
       "version_major": 2,
       "version_minor": 0
      },
      "text/plain": [
       "HBox(children=(IntProgress(value=0, description='TCGA-HZ-A49G-01A_HTSeq-FPKM-UQ.txt.gz', max=532, style=Progre…"
      ]
     },
     "metadata": {},
     "output_type": "display_data"
    },
    {
     "name": "stdout",
     "output_type": "stream",
     "text": [
      "\r",
      " \r"
     ]
    },
    {
     "data": {
      "application/vnd.jupyter.widget-view+json": {
       "model_id": "",
       "version_major": 2,
       "version_minor": 0
      },
      "text/plain": [
       "HBox(children=(IntProgress(value=0, description='TCGA-2J-AAB6-01A_HTSeq-FPKM-UQ.txt.gz', max=512, style=Progre…"
      ]
     },
     "metadata": {},
     "output_type": "display_data"
    },
    {
     "name": "stdout",
     "output_type": "stream",
     "text": [
      "\r",
      " \r"
     ]
    },
    {
     "data": {
      "application/vnd.jupyter.widget-view+json": {
       "model_id": "",
       "version_major": 2,
       "version_minor": 0
      },
      "text/plain": [
       "HBox(children=(IntProgress(value=0, description='TCGA-HZ-A8P1-01A_HTSeq-FPKM-UQ.txt.gz', max=532, style=Progre…"
      ]
     },
     "metadata": {},
     "output_type": "display_data"
    },
    {
     "name": "stdout",
     "output_type": "stream",
     "text": [
      "\r",
      " \r"
     ]
    },
    {
     "data": {
      "application/vnd.jupyter.widget-view+json": {
       "model_id": "",
       "version_major": 2,
       "version_minor": 0
      },
      "text/plain": [
       "HBox(children=(IntProgress(value=0, description='TCGA-IB-AAUN-01A_HTSeq-Counts.txt.gz', max=256, style=Progres…"
      ]
     },
     "metadata": {},
     "output_type": "display_data"
    },
    {
     "name": "stdout",
     "output_type": "stream",
     "text": [
      "\r",
      " \r"
     ]
    },
    {
     "data": {
      "application/vnd.jupyter.widget-view+json": {
       "model_id": "",
       "version_major": 2,
       "version_minor": 0
      },
      "text/plain": [
       "HBox(children=(IntProgress(value=0, description='TCGA-2J-AABO-01A_HTSeq-FPKM.txt.gz', max=512, style=ProgressS…"
      ]
     },
     "metadata": {},
     "output_type": "display_data"
    },
    {
     "name": "stdout",
     "output_type": "stream",
     "text": [
      "\r",
      " \r"
     ]
    },
    {
     "data": {
      "application/vnd.jupyter.widget-view+json": {
       "model_id": "",
       "version_major": 2,
       "version_minor": 0
      },
      "text/plain": [
       "HBox(children=(IntProgress(value=0, description='TCGA-HZ-8519-01A_HTSeq-FPKM-UQ.txt.gz', max=573, style=Progre…"
      ]
     },
     "metadata": {},
     "output_type": "display_data"
    },
    {
     "name": "stdout",
     "output_type": "stream",
     "text": [
      "\r",
      " \r"
     ]
    },
    {
     "data": {
      "application/vnd.jupyter.widget-view+json": {
       "model_id": "",
       "version_major": 2,
       "version_minor": 0
      },
      "text/plain": [
       "HBox(children=(IntProgress(value=0, description='TCGA-2L-AAQI-01A_HTSeq-FPKM.txt.gz', max=532, style=ProgressS…"
      ]
     },
     "metadata": {},
     "output_type": "display_data"
    },
    {
     "name": "stdout",
     "output_type": "stream",
     "text": [
      "\r",
      " \r"
     ]
    },
    {
     "data": {
      "application/vnd.jupyter.widget-view+json": {
       "model_id": "",
       "version_major": 2,
       "version_minor": 0
      },
      "text/plain": [
       "HBox(children=(IntProgress(value=0, description='TCGA-FB-AAPZ-01A_HTSeq-FPKM-UQ.txt.gz', max=522, style=Progre…"
      ]
     },
     "metadata": {},
     "output_type": "display_data"
    },
    {
     "name": "stdout",
     "output_type": "stream",
     "text": [
      "\r",
      " \r"
     ]
    },
    {
     "data": {
      "application/vnd.jupyter.widget-view+json": {
       "model_id": "",
       "version_major": 2,
       "version_minor": 0
      },
      "text/plain": [
       "HBox(children=(IntProgress(value=0, description='TCGA-3A-A9I9-01A_HTSeq-FPKM-UQ.txt.gz', max=532, style=Progre…"
      ]
     },
     "metadata": {},
     "output_type": "display_data"
    },
    {
     "name": "stdout",
     "output_type": "stream",
     "text": [
      "\r",
      " \r"
     ]
    },
    {
     "data": {
      "application/vnd.jupyter.widget-view+json": {
       "model_id": "",
       "version_major": 2,
       "version_minor": 0
      },
      "text/plain": [
       "HBox(children=(IntProgress(value=0, description='TCGA-IB-7889-01A_HTSeq-Counts.txt.gz', max=256, style=Progres…"
      ]
     },
     "metadata": {},
     "output_type": "display_data"
    },
    {
     "name": "stdout",
     "output_type": "stream",
     "text": [
      "\r",
      " \r"
     ]
    },
    {
     "data": {
      "application/vnd.jupyter.widget-view+json": {
       "model_id": "",
       "version_major": 2,
       "version_minor": 0
      },
      "text/plain": [
       "HBox(children=(IntProgress(value=0, description='TCGA-2J-AABK-01A_HTSeq-FPKM-UQ.txt.gz', max=553, style=Progre…"
      ]
     },
     "metadata": {},
     "output_type": "display_data"
    },
    {
     "name": "stdout",
     "output_type": "stream",
     "text": [
      "\r",
      " \r"
     ]
    },
    {
     "data": {
      "application/vnd.jupyter.widget-view+json": {
       "model_id": "",
       "version_major": 2,
       "version_minor": 0
      },
      "text/plain": [
       "HBox(children=(IntProgress(value=0, description='TCGA-IB-AAUT-01A_HTSeq-Counts.txt.gz', max=256, style=Progres…"
      ]
     },
     "metadata": {},
     "output_type": "display_data"
    },
    {
     "name": "stdout",
     "output_type": "stream",
     "text": [
      "\r",
      " \r"
     ]
    },
    {
     "data": {
      "application/vnd.jupyter.widget-view+json": {
       "model_id": "",
       "version_major": 2,
       "version_minor": 0
      },
      "text/plain": [
       "HBox(children=(IntProgress(value=0, description='TCGA-US-A774-01A_HTSeq-FPKM.txt.gz', max=532, style=ProgressS…"
      ]
     },
     "metadata": {},
     "output_type": "display_data"
    },
    {
     "name": "stdout",
     "output_type": "stream",
     "text": [
      "\r",
      " \r"
     ]
    },
    {
     "data": {
      "application/vnd.jupyter.widget-view+json": {
       "model_id": "",
       "version_major": 2,
       "version_minor": 0
      },
      "text/plain": [
       "HBox(children=(IntProgress(value=0, description='TCGA-IB-A5SS-01A_HTSeq-FPKM.txt.gz', max=522, style=ProgressS…"
      ]
     },
     "metadata": {},
     "output_type": "display_data"
    },
    {
     "name": "stdout",
     "output_type": "stream",
     "text": [
      "\r",
      " \r"
     ]
    },
    {
     "data": {
      "application/vnd.jupyter.widget-view+json": {
       "model_id": "",
       "version_major": 2,
       "version_minor": 0
      },
      "text/plain": [
       "HBox(children=(IntProgress(value=0, description='TCGA-FB-AAQ3-01A_HTSeq-FPKM.txt.gz', max=512, style=ProgressS…"
      ]
     },
     "metadata": {},
     "output_type": "display_data"
    },
    {
     "name": "stdout",
     "output_type": "stream",
     "text": [
      "\r",
      " \r"
     ]
    },
    {
     "data": {
      "application/vnd.jupyter.widget-view+json": {
       "model_id": "",
       "version_major": 2,
       "version_minor": 0
      },
      "text/plain": [
       "HBox(children=(IntProgress(value=0, description='TCGA-2L-AAQA-01A_HTSeq-FPKM.txt.gz', max=543, style=ProgressS…"
      ]
     },
     "metadata": {},
     "output_type": "display_data"
    },
    {
     "name": "stdout",
     "output_type": "stream",
     "text": [
      "\r",
      " \r"
     ]
    },
    {
     "data": {
      "application/vnd.jupyter.widget-view+json": {
       "model_id": "",
       "version_major": 2,
       "version_minor": 0
      },
      "text/plain": [
       "HBox(children=(IntProgress(value=0, description='TCGA-HV-A7OP-01A_HTSeq-FPKM-UQ.txt.gz', max=522, style=Progre…"
      ]
     },
     "metadata": {},
     "output_type": "display_data"
    },
    {
     "name": "stdout",
     "output_type": "stream",
     "text": [
      "\r",
      " \r"
     ]
    },
    {
     "data": {
      "application/vnd.jupyter.widget-view+json": {
       "model_id": "",
       "version_major": 2,
       "version_minor": 0
      },
      "text/plain": [
       "HBox(children=(IntProgress(value=0, description='TCGA-HV-AA8X-01A_HTSeq-FPKM-UQ.txt.gz', max=532, style=Progre…"
      ]
     },
     "metadata": {},
     "output_type": "display_data"
    },
    {
     "name": "stdout",
     "output_type": "stream",
     "text": [
      "\r",
      " \r"
     ]
    },
    {
     "data": {
      "application/vnd.jupyter.widget-view+json": {
       "model_id": "",
       "version_major": 2,
       "version_minor": 0
      },
      "text/plain": [
       "HBox(children=(IntProgress(value=0, description='TCGA-H6-A45N-01A_HTSeq-Counts.txt.gz', max=256, style=Progres…"
      ]
     },
     "metadata": {},
     "output_type": "display_data"
    },
    {
     "name": "stdout",
     "output_type": "stream",
     "text": [
      "\r",
      " \r"
     ]
    },
    {
     "data": {
      "application/vnd.jupyter.widget-view+json": {
       "model_id": "",
       "version_major": 2,
       "version_minor": 0
      },
      "text/plain": [
       "HBox(children=(IntProgress(value=0, description='TCGA-XD-AAUL-01A_HTSeq-FPKM.txt.gz', max=532, style=ProgressS…"
      ]
     },
     "metadata": {},
     "output_type": "display_data"
    },
    {
     "name": "stdout",
     "output_type": "stream",
     "text": [
      "\r",
      " \r"
     ]
    },
    {
     "data": {
      "application/vnd.jupyter.widget-view+json": {
       "model_id": "",
       "version_major": 2,
       "version_minor": 0
      },
      "text/plain": [
       "HBox(children=(IntProgress(value=0, description='TCGA-YB-A89D-01A_HTSeq-FPKM.txt.gz', max=532, style=ProgressS…"
      ]
     },
     "metadata": {},
     "output_type": "display_data"
    },
    {
     "name": "stdout",
     "output_type": "stream",
     "text": [
      "\r",
      " \r"
     ]
    },
    {
     "data": {
      "application/vnd.jupyter.widget-view+json": {
       "model_id": "",
       "version_major": 2,
       "version_minor": 0
      },
      "text/plain": [
       "HBox(children=(IntProgress(value=0, description='TCGA-US-A779-01A_HTSeq-FPKM-UQ.txt.gz', max=532, style=Progre…"
      ]
     },
     "metadata": {},
     "output_type": "display_data"
    },
    {
     "name": "stdout",
     "output_type": "stream",
     "text": [
      "\r",
      " \r"
     ]
    },
    {
     "data": {
      "application/vnd.jupyter.widget-view+json": {
       "model_id": "",
       "version_major": 2,
       "version_minor": 0
      },
      "text/plain": [
       "HBox(children=(IntProgress(value=0, description='TCGA-IB-A5SQ-01A_HTSeq-FPKM.txt.gz', max=532, style=ProgressS…"
      ]
     },
     "metadata": {},
     "output_type": "display_data"
    },
    {
     "name": "stdout",
     "output_type": "stream",
     "text": [
      "\r",
      " \r"
     ]
    },
    {
     "data": {
      "application/vnd.jupyter.widget-view+json": {
       "model_id": "",
       "version_major": 2,
       "version_minor": 0
      },
      "text/plain": [
       "HBox(children=(IntProgress(value=0, description='TCGA-IB-7651-01A_HTSeq-Counts.txt.gz', max=266, style=Progres…"
      ]
     },
     "metadata": {},
     "output_type": "display_data"
    },
    {
     "name": "stdout",
     "output_type": "stream",
     "text": [
      "\r",
      " \r"
     ]
    },
    {
     "data": {
      "application/vnd.jupyter.widget-view+json": {
       "model_id": "",
       "version_major": 2,
       "version_minor": 0
      },
      "text/plain": [
       "HBox(children=(IntProgress(value=0, description='TCGA-2J-AABA-01A_HTSeq-Counts.txt.gz', max=256, style=Progres…"
      ]
     },
     "metadata": {},
     "output_type": "display_data"
    },
    {
     "name": "stdout",
     "output_type": "stream",
     "text": [
      "\r",
      " \r"
     ]
    },
    {
     "data": {
      "application/vnd.jupyter.widget-view+json": {
       "model_id": "",
       "version_major": 2,
       "version_minor": 0
      },
      "text/plain": [
       "HBox(children=(IntProgress(value=0, description='TCGA-2J-AABF-01A_HTSeq-FPKM.txt.gz', max=553, style=ProgressS…"
      ]
     },
     "metadata": {},
     "output_type": "display_data"
    },
    {
     "name": "stdout",
     "output_type": "stream",
     "text": [
      "\r",
      " \r"
     ]
    },
    {
     "data": {
      "application/vnd.jupyter.widget-view+json": {
       "model_id": "",
       "version_major": 2,
       "version_minor": 0
      },
      "text/plain": [
       "HBox(children=(IntProgress(value=0, description='TCGA-F2-A44H-01A_HTSeq-Counts.txt.gz', max=246, style=Progres…"
      ]
     },
     "metadata": {},
     "output_type": "display_data"
    },
    {
     "name": "stdout",
     "output_type": "stream",
     "text": [
      "\r",
      " \r"
     ]
    },
    {
     "data": {
      "application/vnd.jupyter.widget-view+json": {
       "model_id": "",
       "version_major": 2,
       "version_minor": 0
      },
      "text/plain": [
       "HBox(children=(IntProgress(value=0, description='TCGA-3A-A9IN-01A_HTSeq-FPKM-UQ.txt.gz', max=543, style=Progre…"
      ]
     },
     "metadata": {},
     "output_type": "display_data"
    },
    {
     "name": "stdout",
     "output_type": "stream",
     "text": [
      "\r",
      " \r"
     ]
    },
    {
     "data": {
      "application/vnd.jupyter.widget-view+json": {
       "model_id": "",
       "version_major": 2,
       "version_minor": 0
      },
      "text/plain": [
       "HBox(children=(IntProgress(value=0, description='TCGA-F2-7273-01A_HTSeq-FPKM-UQ.txt.gz', max=543, style=Progre…"
      ]
     },
     "metadata": {},
     "output_type": "display_data"
    },
    {
     "name": "stdout",
     "output_type": "stream",
     "text": [
      "\r",
      " \r"
     ]
    },
    {
     "data": {
      "application/vnd.jupyter.widget-view+json": {
       "model_id": "",
       "version_major": 2,
       "version_minor": 0
      },
      "text/plain": [
       "HBox(children=(IntProgress(value=0, description='TCGA-HZ-8003-01A_HTSeq-FPKM-UQ.txt.gz', max=543, style=Progre…"
      ]
     },
     "metadata": {},
     "output_type": "display_data"
    },
    {
     "name": "stdout",
     "output_type": "stream",
     "text": [
      "\r",
      " \r"
     ]
    },
    {
     "data": {
      "application/vnd.jupyter.widget-view+json": {
       "model_id": "",
       "version_major": 2,
       "version_minor": 0
      },
      "text/plain": [
       "HBox(children=(IntProgress(value=0, description='TCGA-2J-AABE-01A_HTSeq-FPKM.txt.gz', max=522, style=ProgressS…"
      ]
     },
     "metadata": {},
     "output_type": "display_data"
    },
    {
     "name": "stdout",
     "output_type": "stream",
     "text": [
      "\r",
      " \r"
     ]
    },
    {
     "data": {
      "application/vnd.jupyter.widget-view+json": {
       "model_id": "",
       "version_major": 2,
       "version_minor": 0
      },
      "text/plain": [
       "HBox(children=(IntProgress(value=0, description='TCGA-HZ-8315-01A_HTSeq-FPKM.txt.gz', max=553, style=ProgressS…"
      ]
     },
     "metadata": {},
     "output_type": "display_data"
    },
    {
     "name": "stdout",
     "output_type": "stream",
     "text": [
      "\r",
      " \r"
     ]
    },
    {
     "data": {
      "application/vnd.jupyter.widget-view+json": {
       "model_id": "",
       "version_major": 2,
       "version_minor": 0
      },
      "text/plain": [
       "HBox(children=(IntProgress(value=0, description='TCGA-IB-7652-01A_HTSeq-FPKM.txt.gz', max=543, style=ProgressS…"
      ]
     },
     "metadata": {},
     "output_type": "display_data"
    },
    {
     "name": "stdout",
     "output_type": "stream",
     "text": [
      "\r",
      " \r"
     ]
    },
    {
     "data": {
      "application/vnd.jupyter.widget-view+json": {
       "model_id": "",
       "version_major": 2,
       "version_minor": 0
      },
      "text/plain": [
       "HBox(children=(IntProgress(value=0, description='TCGA-H6-A45N-11A_HTSeq-FPKM.txt.gz', max=573, style=ProgressS…"
      ]
     },
     "metadata": {},
     "output_type": "display_data"
    },
    {
     "name": "stdout",
     "output_type": "stream",
     "text": [
      "\r",
      " \r"
     ]
    },
    {
     "data": {
      "application/vnd.jupyter.widget-view+json": {
       "model_id": "",
       "version_major": 2,
       "version_minor": 0
      },
      "text/plain": [
       "HBox(children=(IntProgress(value=0, description='TCGA-IB-7897-01A_HTSeq-FPKM.txt.gz', max=553, style=ProgressS…"
      ]
     },
     "metadata": {},
     "output_type": "display_data"
    },
    {
     "name": "stdout",
     "output_type": "stream",
     "text": [
      "\r",
      " \r"
     ]
    },
    {
     "data": {
      "application/vnd.jupyter.widget-view+json": {
       "model_id": "",
       "version_major": 2,
       "version_minor": 0
      },
      "text/plain": [
       "HBox(children=(IntProgress(value=0, description='TCGA-3A-A9IC-01A_HTSeq-FPKM-UQ.txt.gz', max=532, style=Progre…"
      ]
     },
     "metadata": {},
     "output_type": "display_data"
    },
    {
     "name": "stdout",
     "output_type": "stream",
     "text": [
      "\r",
      " \r"
     ]
    },
    {
     "data": {
      "application/vnd.jupyter.widget-view+json": {
       "model_id": "",
       "version_major": 2,
       "version_minor": 0
      },
      "text/plain": [
       "HBox(children=(IntProgress(value=0, description='TCGA-3A-A9I9-01A_HTSeq-FPKM.txt.gz', max=532, style=ProgressS…"
      ]
     },
     "metadata": {},
     "output_type": "display_data"
    },
    {
     "name": "stdout",
     "output_type": "stream",
     "text": [
      "\r",
      " \r"
     ]
    },
    {
     "data": {
      "application/vnd.jupyter.widget-view+json": {
       "model_id": "",
       "version_major": 2,
       "version_minor": 0
      },
      "text/plain": [
       "HBox(children=(IntProgress(value=0, description='TCGA-FB-A5VM-01A_HTSeq-Counts.txt.gz', max=256, style=Progres…"
      ]
     },
     "metadata": {},
     "output_type": "display_data"
    },
    {
     "name": "stdout",
     "output_type": "stream",
     "text": [
      "\r",
      " \r"
     ]
    },
    {
     "data": {
      "application/vnd.jupyter.widget-view+json": {
       "model_id": "",
       "version_major": 2,
       "version_minor": 0
      },
      "text/plain": [
       "HBox(children=(IntProgress(value=0, description='TCGA-2J-AAB6-01A_HTSeq-Counts.txt.gz', max=256, style=Progres…"
      ]
     },
     "metadata": {},
     "output_type": "display_data"
    },
    {
     "name": "stdout",
     "output_type": "stream",
     "text": [
      "\r",
      " \r"
     ]
    },
    {
     "data": {
      "application/vnd.jupyter.widget-view+json": {
       "model_id": "",
       "version_major": 2,
       "version_minor": 0
      },
      "text/plain": [
       "HBox(children=(IntProgress(value=0, description='TCGA-F2-7276-01A_HTSeq-Counts.txt.gz', max=266, style=Progres…"
      ]
     },
     "metadata": {},
     "output_type": "display_data"
    },
    {
     "name": "stdout",
     "output_type": "stream",
     "text": [
      "\r",
      " \r"
     ]
    },
    {
     "data": {
      "application/vnd.jupyter.widget-view+json": {
       "model_id": "",
       "version_major": 2,
       "version_minor": 0
      },
      "text/plain": [
       "HBox(children=(IntProgress(value=0, description='TCGA-IB-8126-01A_HTSeq-FPKM-UQ.txt.gz', max=532, style=Progre…"
      ]
     },
     "metadata": {},
     "output_type": "display_data"
    },
    {
     "name": "stdout",
     "output_type": "stream",
     "text": [
      "\r",
      " \r"
     ]
    },
    {
     "data": {
      "application/vnd.jupyter.widget-view+json": {
       "model_id": "",
       "version_major": 2,
       "version_minor": 0
      },
      "text/plain": [
       "HBox(children=(IntProgress(value=0, description='TCGA-HZ-A4BK-01A_HTSeq-FPKM.txt.gz', max=532, style=ProgressS…"
      ]
     },
     "metadata": {},
     "output_type": "display_data"
    },
    {
     "name": "stdout",
     "output_type": "stream",
     "text": [
      "\r",
      " \r"
     ]
    },
    {
     "data": {
      "application/vnd.jupyter.widget-view+json": {
       "model_id": "",
       "version_major": 2,
       "version_minor": 0
      },
      "text/plain": [
       "HBox(children=(IntProgress(value=0, description='TCGA-2J-AAB4-01A_HTSeq-FPKM-UQ.txt.gz', max=543, style=Progre…"
      ]
     },
     "metadata": {},
     "output_type": "display_data"
    },
    {
     "name": "stdout",
     "output_type": "stream",
     "text": [
      "\r",
      " \r"
     ]
    },
    {
     "data": {
      "application/vnd.jupyter.widget-view+json": {
       "model_id": "",
       "version_major": 2,
       "version_minor": 0
      },
      "text/plain": [
       "HBox(children=(IntProgress(value=0, description='TCGA-IB-A5SS-01A_HTSeq-Counts.txt.gz', max=256, style=Progres…"
      ]
     },
     "metadata": {},
     "output_type": "display_data"
    },
    {
     "name": "stdout",
     "output_type": "stream",
     "text": [
      "\r",
      " \r"
     ]
    },
    {
     "data": {
      "application/vnd.jupyter.widget-view+json": {
       "model_id": "",
       "version_major": 2,
       "version_minor": 0
      },
      "text/plain": [
       "HBox(children=(IntProgress(value=0, description='TCGA-XD-AAUI-01A_HTSeq-FPKM.txt.gz', max=543, style=ProgressS…"
      ]
     },
     "metadata": {},
     "output_type": "display_data"
    },
    {
     "name": "stdout",
     "output_type": "stream",
     "text": [
      "\r",
      " \r"
     ]
    },
    {
     "data": {
      "application/vnd.jupyter.widget-view+json": {
       "model_id": "",
       "version_major": 2,
       "version_minor": 0
      },
      "text/plain": [
       "HBox(children=(IntProgress(value=0, description='TCGA-XN-A8T3-01A_HTSeq-FPKM.txt.gz', max=543, style=ProgressS…"
      ]
     },
     "metadata": {},
     "output_type": "display_data"
    },
    {
     "name": "stdout",
     "output_type": "stream",
     "text": [
      "\r",
      " \r"
     ]
    },
    {
     "data": {
      "application/vnd.jupyter.widget-view+json": {
       "model_id": "",
       "version_major": 2,
       "version_minor": 0
      },
      "text/plain": [
       "HBox(children=(IntProgress(value=0, description='TCGA-HZ-8638-01A_HTSeq-FPKM-UQ.txt.gz', max=563, style=Progre…"
      ]
     },
     "metadata": {},
     "output_type": "display_data"
    },
    {
     "name": "stdout",
     "output_type": "stream",
     "text": [
      "\r",
      " \r"
     ]
    },
    {
     "data": {
      "application/vnd.jupyter.widget-view+json": {
       "model_id": "",
       "version_major": 2,
       "version_minor": 0
      },
      "text/plain": [
       "HBox(children=(IntProgress(value=0, description='TCGA-RL-AAAS-01A_HTSeq-FPKM.txt.gz', max=522, style=ProgressS…"
      ]
     },
     "metadata": {},
     "output_type": "display_data"
    },
    {
     "name": "stdout",
     "output_type": "stream",
     "text": [
      "\r",
      " \r"
     ]
    },
    {
     "data": {
      "application/vnd.jupyter.widget-view+json": {
       "model_id": "",
       "version_major": 2,
       "version_minor": 0
      },
      "text/plain": [
       "HBox(children=(IntProgress(value=0, description='TCGA-IB-AAUN-01A_HTSeq-FPKM-UQ.txt.gz', max=532, style=Progre…"
      ]
     },
     "metadata": {},
     "output_type": "display_data"
    },
    {
     "name": "stdout",
     "output_type": "stream",
     "text": [
      "\r",
      " \r"
     ]
    },
    {
     "data": {
      "application/vnd.jupyter.widget-view+json": {
       "model_id": "",
       "version_major": 2,
       "version_minor": 0
      },
      "text/plain": [
       "HBox(children=(IntProgress(value=0, description='TCGA-XD-AAUH-01A_HTSeq-Counts.txt.gz', max=256, style=Progres…"
      ]
     },
     "metadata": {},
     "output_type": "display_data"
    },
    {
     "name": "stdout",
     "output_type": "stream",
     "text": [
      "\r",
      " \r"
     ]
    },
    {
     "data": {
      "application/vnd.jupyter.widget-view+json": {
       "model_id": "",
       "version_major": 2,
       "version_minor": 0
      },
      "text/plain": [
       "HBox(children=(IntProgress(value=0, description='TCGA-2J-AAB4-01A_HTSeq-Counts.txt.gz', max=266, style=Progres…"
      ]
     },
     "metadata": {},
     "output_type": "display_data"
    },
    {
     "name": "stdout",
     "output_type": "stream",
     "text": [
      "\r",
      " \r"
     ]
    },
    {
     "data": {
      "application/vnd.jupyter.widget-view+json": {
       "model_id": "",
       "version_major": 2,
       "version_minor": 0
      },
      "text/plain": [
       "HBox(children=(IntProgress(value=0, description='TCGA-HZ-8002-01A_HTSeq-FPKM.txt.gz', max=543, style=ProgressS…"
      ]
     },
     "metadata": {},
     "output_type": "display_data"
    },
    {
     "name": "stdout",
     "output_type": "stream",
     "text": [
      "\r",
      " \r"
     ]
    },
    {
     "data": {
      "application/vnd.jupyter.widget-view+json": {
       "model_id": "",
       "version_major": 2,
       "version_minor": 0
      },
      "text/plain": [
       "HBox(children=(IntProgress(value=0, description='TCGA-US-A774-01A_HTSeq-FPKM-UQ.txt.gz', max=543, style=Progre…"
      ]
     },
     "metadata": {},
     "output_type": "display_data"
    },
    {
     "name": "stdout",
     "output_type": "stream",
     "text": [
      "\r",
      " \r"
     ]
    },
    {
     "data": {
      "application/vnd.jupyter.widget-view+json": {
       "model_id": "",
       "version_major": 2,
       "version_minor": 0
      },
      "text/plain": [
       "HBox(children=(IntProgress(value=0, description='TCGA-HZ-7923-01A_HTSeq-FPKM.txt.gz', max=563, style=ProgressS…"
      ]
     },
     "metadata": {},
     "output_type": "display_data"
    },
    {
     "name": "stdout",
     "output_type": "stream",
     "text": [
      "\r",
      " \r"
     ]
    },
    {
     "data": {
      "application/vnd.jupyter.widget-view+json": {
       "model_id": "",
       "version_major": 2,
       "version_minor": 0
      },
      "text/plain": [
       "HBox(children=(IntProgress(value=0, description='TCGA-IB-7651-01A_HTSeq-FPKM.txt.gz', max=543, style=ProgressS…"
      ]
     },
     "metadata": {},
     "output_type": "display_data"
    },
    {
     "name": "stdout",
     "output_type": "stream",
     "text": [
      "\r",
      " \r"
     ]
    },
    {
     "data": {
      "application/vnd.jupyter.widget-view+json": {
       "model_id": "",
       "version_major": 2,
       "version_minor": 0
      },
      "text/plain": [
       "HBox(children=(IntProgress(value=0, description='TCGA-IB-AAUS-01A_HTSeq-FPKM-UQ.txt.gz', max=543, style=Progre…"
      ]
     },
     "metadata": {},
     "output_type": "display_data"
    },
    {
     "name": "stdout",
     "output_type": "stream",
     "text": [
      "\r",
      " \r"
     ]
    },
    {
     "data": {
      "application/vnd.jupyter.widget-view+json": {
       "model_id": "",
       "version_major": 2,
       "version_minor": 0
      },
      "text/plain": [
       "HBox(children=(IntProgress(value=0, description='TCGA-IB-7651-01A_HTSeq-FPKM-UQ.txt.gz', max=543, style=Progre…"
      ]
     },
     "metadata": {},
     "output_type": "display_data"
    },
    {
     "name": "stdout",
     "output_type": "stream",
     "text": [
      "\r",
      " \r"
     ]
    },
    {
     "data": {
      "application/vnd.jupyter.widget-view+json": {
       "model_id": "",
       "version_major": 2,
       "version_minor": 0
      },
      "text/plain": [
       "HBox(children=(IntProgress(value=0, description='TCGA-2J-AAB1-01A_HTSeq-FPKM-UQ.txt.gz', max=522, style=Progre…"
      ]
     },
     "metadata": {},
     "output_type": "display_data"
    },
    {
     "name": "stdout",
     "output_type": "stream",
     "text": [
      "\r",
      " \r"
     ]
    },
    {
     "data": {
      "application/vnd.jupyter.widget-view+json": {
       "model_id": "",
       "version_major": 2,
       "version_minor": 0
      },
      "text/plain": [
       "HBox(children=(IntProgress(value=0, description='TCGA-FB-A4P6-01A_HTSeq-Counts.txt.gz', max=256, style=Progres…"
      ]
     },
     "metadata": {},
     "output_type": "display_data"
    },
    {
     "name": "stdout",
     "output_type": "stream",
     "text": [
      "\r",
      " \r"
     ]
    },
    {
     "data": {
      "application/vnd.jupyter.widget-view+json": {
       "model_id": "",
       "version_major": 2,
       "version_minor": 0
      },
      "text/plain": [
       "HBox(children=(IntProgress(value=0, description='TCGA-IB-AAUR-01A_HTSeq-FPKM.txt.gz', max=553, style=ProgressS…"
      ]
     },
     "metadata": {},
     "output_type": "display_data"
    },
    {
     "name": "stdout",
     "output_type": "stream",
     "text": [
      "\r",
      " \r"
     ]
    },
    {
     "data": {
      "application/vnd.jupyter.widget-view+json": {
       "model_id": "",
       "version_major": 2,
       "version_minor": 0
      },
      "text/plain": [
       "HBox(children=(IntProgress(value=0, description='TCGA-3E-AAAY-01A_HTSeq-FPKM-UQ.txt.gz', max=553, style=Progre…"
      ]
     },
     "metadata": {},
     "output_type": "display_data"
    },
    {
     "name": "stdout",
     "output_type": "stream",
     "text": [
      "\r",
      " \r"
     ]
    },
    {
     "data": {
      "application/vnd.jupyter.widget-view+json": {
       "model_id": "",
       "version_major": 2,
       "version_minor": 0
      },
      "text/plain": [
       "HBox(children=(IntProgress(value=0, description='TCGA-IB-8126-01A_HTSeq-FPKM.txt.gz', max=532, style=ProgressS…"
      ]
     },
     "metadata": {},
     "output_type": "display_data"
    },
    {
     "name": "stdout",
     "output_type": "stream",
     "text": [
      "\r",
      " \r"
     ]
    },
    {
     "data": {
      "application/vnd.jupyter.widget-view+json": {
       "model_id": "",
       "version_major": 2,
       "version_minor": 0
      },
      "text/plain": [
       "HBox(children=(IntProgress(value=0, description='TCGA-3A-A9IX-01A_HTSeq-FPKM.txt.gz', max=532, style=ProgressS…"
      ]
     },
     "metadata": {},
     "output_type": "display_data"
    },
    {
     "name": "stdout",
     "output_type": "stream",
     "text": [
      "\r",
      " \r"
     ]
    },
    {
     "data": {
      "application/vnd.jupyter.widget-view+json": {
       "model_id": "",
       "version_major": 2,
       "version_minor": 0
      },
      "text/plain": [
       "HBox(children=(IntProgress(value=0, description='TCGA-IB-7893-01A_HTSeq-FPKM-UQ.txt.gz', max=522, style=Progre…"
      ]
     },
     "metadata": {},
     "output_type": "display_data"
    },
    {
     "name": "stdout",
     "output_type": "stream",
     "text": [
      "\r",
      " \r"
     ]
    },
    {
     "data": {
      "application/vnd.jupyter.widget-view+json": {
       "model_id": "",
       "version_major": 2,
       "version_minor": 0
      },
      "text/plain": [
       "HBox(children=(IntProgress(value=0, description='TCGA-IB-AAUN-01A_HTSeq-FPKM.txt.gz', max=532, style=ProgressS…"
      ]
     },
     "metadata": {},
     "output_type": "display_data"
    },
    {
     "name": "stdout",
     "output_type": "stream",
     "text": [
      "\r",
      " \r"
     ]
    },
    {
     "data": {
      "application/vnd.jupyter.widget-view+json": {
       "model_id": "",
       "version_major": 2,
       "version_minor": 0
      },
      "text/plain": [
       "HBox(children=(IntProgress(value=0, description='TCGA-3A-A9IJ-01A_HTSeq-Counts.txt.gz', max=256, style=Progres…"
      ]
     },
     "metadata": {},
     "output_type": "display_data"
    },
    {
     "name": "stdout",
     "output_type": "stream",
     "text": [
      "\r",
      " \r"
     ]
    },
    {
     "data": {
      "application/vnd.jupyter.widget-view+json": {
       "model_id": "",
       "version_major": 2,
       "version_minor": 0
      },
      "text/plain": [
       "HBox(children=(IntProgress(value=0, description='TCGA-Z5-AAPL-01A_HTSeq-Counts.txt.gz', max=256, style=Progres…"
      ]
     },
     "metadata": {},
     "output_type": "display_data"
    },
    {
     "name": "stdout",
     "output_type": "stream",
     "text": [
      "\r",
      " \r"
     ]
    },
    {
     "data": {
      "application/vnd.jupyter.widget-view+json": {
       "model_id": "",
       "version_major": 2,
       "version_minor": 0
      },
      "text/plain": [
       "HBox(children=(IntProgress(value=0, description='TCGA-2L-AAQL-01A_HTSeq-FPKM-UQ.txt.gz', max=512, style=Progre…"
      ]
     },
     "metadata": {},
     "output_type": "display_data"
    },
    {
     "name": "stdout",
     "output_type": "stream",
     "text": [
      "\r",
      " \r"
     ]
    },
    {
     "data": {
      "application/vnd.jupyter.widget-view+json": {
       "model_id": "",
       "version_major": 2,
       "version_minor": 0
      },
      "text/plain": [
       "HBox(children=(IntProgress(value=0, description='TCGA-LB-A7SX-01A_HTSeq-Counts.txt.gz', max=266, style=Progres…"
      ]
     },
     "metadata": {},
     "output_type": "display_data"
    },
    {
     "name": "stdout",
     "output_type": "stream",
     "text": [
      "\r",
      " \r"
     ]
    },
    {
     "data": {
      "application/vnd.jupyter.widget-view+json": {
       "model_id": "",
       "version_major": 2,
       "version_minor": 0
      },
      "text/plain": [
       "HBox(children=(IntProgress(value=0, description='TCGA-F2-A7TX-01A_HTSeq-FPKM.txt.gz', max=522, style=ProgressS…"
      ]
     },
     "metadata": {},
     "output_type": "display_data"
    },
    {
     "name": "stdout",
     "output_type": "stream",
     "text": [
      "\r",
      " \r"
     ]
    },
    {
     "data": {
      "application/vnd.jupyter.widget-view+json": {
       "model_id": "",
       "version_major": 2,
       "version_minor": 0
      },
      "text/plain": [
       "HBox(children=(IntProgress(value=0, description='TCGA-HZ-8003-01A_HTSeq-Counts.txt.gz', max=256, style=Progres…"
      ]
     },
     "metadata": {},
     "output_type": "display_data"
    },
    {
     "name": "stdout",
     "output_type": "stream",
     "text": [
      "\r",
      " \r"
     ]
    },
    {
     "data": {
      "application/vnd.jupyter.widget-view+json": {
       "model_id": "",
       "version_major": 2,
       "version_minor": 0
      },
      "text/plain": [
       "HBox(children=(IntProgress(value=0, description='TCGA-IB-7890-01A_HTSeq-Counts.txt.gz', max=256, style=Progres…"
      ]
     },
     "metadata": {},
     "output_type": "display_data"
    },
    {
     "name": "stdout",
     "output_type": "stream",
     "text": [
      "\r",
      " \r"
     ]
    },
    {
     "data": {
      "application/vnd.jupyter.widget-view+json": {
       "model_id": "",
       "version_major": 2,
       "version_minor": 0
      },
      "text/plain": [
       "HBox(children=(IntProgress(value=0, description='TCGA-FB-A545-01A_HTSeq-FPKM.txt.gz', max=522, style=ProgressS…"
      ]
     },
     "metadata": {},
     "output_type": "display_data"
    },
    {
     "name": "stdout",
     "output_type": "stream",
     "text": [
      "\r",
      " \r"
     ]
    },
    {
     "data": {
      "application/vnd.jupyter.widget-view+json": {
       "model_id": "",
       "version_major": 2,
       "version_minor": 0
      },
      "text/plain": [
       "HBox(children=(IntProgress(value=0, description='TCGA-HZ-A49G-01A_HTSeq-Counts.txt.gz', max=256, style=Progres…"
      ]
     },
     "metadata": {},
     "output_type": "display_data"
    },
    {
     "name": "stdout",
     "output_type": "stream",
     "text": [
      "\r",
      " \r"
     ]
    },
    {
     "data": {
      "application/vnd.jupyter.widget-view+json": {
       "model_id": "",
       "version_major": 2,
       "version_minor": 0
      },
      "text/plain": [
       "HBox(children=(IntProgress(value=0, description='TCGA-IB-7887-01A_HTSeq-FPKM-UQ.txt.gz', max=543, style=Progre…"
      ]
     },
     "metadata": {},
     "output_type": "display_data"
    },
    {
     "name": "stdout",
     "output_type": "stream",
     "text": [
      "\r",
      " \r"
     ]
    },
    {
     "data": {
      "application/vnd.jupyter.widget-view+json": {
       "model_id": "",
       "version_major": 2,
       "version_minor": 0
      },
      "text/plain": [
       "HBox(children=(IntProgress(value=0, description='TCGA-HZ-8002-01A_HTSeq-FPKM-UQ.txt.gz', max=543, style=Progre…"
      ]
     },
     "metadata": {},
     "output_type": "display_data"
    },
    {
     "name": "stdout",
     "output_type": "stream",
     "text": [
      "\r",
      " \r"
     ]
    },
    {
     "data": {
      "application/vnd.jupyter.widget-view+json": {
       "model_id": "",
       "version_major": 2,
       "version_minor": 0
      },
      "text/plain": [
       "HBox(children=(IntProgress(value=0, description='TCGA-LB-A7SX-01A_HTSeq-FPKM-UQ.txt.gz', max=553, style=Progre…"
      ]
     },
     "metadata": {},
     "output_type": "display_data"
    },
    {
     "name": "stdout",
     "output_type": "stream",
     "text": [
      "\r",
      " \r"
     ]
    },
    {
     "data": {
      "application/vnd.jupyter.widget-view+json": {
       "model_id": "",
       "version_major": 2,
       "version_minor": 0
      },
      "text/plain": [
       "HBox(children=(IntProgress(value=0, description='TCGA-FB-AAQ2-01A_HTSeq-FPKM-UQ.txt.gz', max=532, style=Progre…"
      ]
     },
     "metadata": {},
     "output_type": "display_data"
    },
    {
     "name": "stdout",
     "output_type": "stream",
     "text": [
      "\r",
      " \r"
     ]
    },
    {
     "data": {
      "application/vnd.jupyter.widget-view+json": {
       "model_id": "",
       "version_major": 2,
       "version_minor": 0
      },
      "text/plain": [
       "HBox(children=(IntProgress(value=0, description='TCGA-IB-8127-01A_HTSeq-FPKM.txt.gz', max=553, style=ProgressS…"
      ]
     },
     "metadata": {},
     "output_type": "display_data"
    },
    {
     "name": "stdout",
     "output_type": "stream",
     "text": [
      "\r",
      " \r"
     ]
    },
    {
     "data": {
      "application/vnd.jupyter.widget-view+json": {
       "model_id": "",
       "version_major": 2,
       "version_minor": 0
      },
      "text/plain": [
       "HBox(children=(IntProgress(value=0, description='TCGA-IB-7645-01A_HTSeq-FPKM.txt.gz', max=532, style=ProgressS…"
      ]
     },
     "metadata": {},
     "output_type": "display_data"
    },
    {
     "name": "stdout",
     "output_type": "stream",
     "text": [
      "\r",
      " \r"
     ]
    },
    {
     "data": {
      "application/vnd.jupyter.widget-view+json": {
       "model_id": "",
       "version_major": 2,
       "version_minor": 0
      },
      "text/plain": [
       "HBox(children=(IntProgress(value=0, description='TCGA-Q3-A5QY-01A_HTSeq-Counts.txt.gz', max=256, style=Progres…"
      ]
     },
     "metadata": {},
     "output_type": "display_data"
    },
    {
     "name": "stdout",
     "output_type": "stream",
     "text": [
      "\r",
      " \r"
     ]
    },
    {
     "data": {
      "application/vnd.jupyter.widget-view+json": {
       "model_id": "",
       "version_major": 2,
       "version_minor": 0
      },
      "text/plain": [
       "HBox(children=(IntProgress(value=0, description='TCGA-F2-7273-01A_HTSeq-FPKM.txt.gz', max=543, style=ProgressS…"
      ]
     },
     "metadata": {},
     "output_type": "display_data"
    },
    {
     "name": "stdout",
     "output_type": "stream",
     "text": [
      "\r",
      " \r"
     ]
    },
    {
     "data": {
      "application/vnd.jupyter.widget-view+json": {
       "model_id": "",
       "version_major": 2,
       "version_minor": 0
      },
      "text/plain": [
       "HBox(children=(IntProgress(value=0, description='TCGA-3A-A9IX-01A_HTSeq-FPKM-UQ.txt.gz', max=543, style=Progre…"
      ]
     },
     "metadata": {},
     "output_type": "display_data"
    },
    {
     "name": "stdout",
     "output_type": "stream",
     "text": [
      "\r",
      " \r"
     ]
    },
    {
     "data": {
      "application/vnd.jupyter.widget-view+json": {
       "model_id": "",
       "version_major": 2,
       "version_minor": 0
      },
      "text/plain": [
       "HBox(children=(IntProgress(value=0, description='TCGA-F2-A8YN-01A_HTSeq-FPKM-UQ.txt.gz', max=522, style=Progre…"
      ]
     },
     "metadata": {},
     "output_type": "display_data"
    },
    {
     "name": "stdout",
     "output_type": "stream",
     "text": [
      "\r",
      " \r"
     ]
    },
    {
     "data": {
      "application/vnd.jupyter.widget-view+json": {
       "model_id": "",
       "version_major": 2,
       "version_minor": 0
      },
      "text/plain": [
       "HBox(children=(IntProgress(value=0, description='TCGA-YB-A89D-01A_HTSeq-Counts.txt.gz', max=256, style=Progres…"
      ]
     },
     "metadata": {},
     "output_type": "display_data"
    },
    {
     "name": "stdout",
     "output_type": "stream",
     "text": [
      "\r",
      " \r"
     ]
    },
    {
     "data": {
      "application/vnd.jupyter.widget-view+json": {
       "model_id": "",
       "version_major": 2,
       "version_minor": 0
      },
      "text/plain": [
       "HBox(children=(IntProgress(value=0, description='TCGA-HV-AA8V-01A_HTSeq-FPKM-UQ.txt.gz', max=543, style=Progre…"
      ]
     },
     "metadata": {},
     "output_type": "display_data"
    },
    {
     "name": "stdout",
     "output_type": "stream",
     "text": [
      "\r",
      " \r"
     ]
    },
    {
     "data": {
      "application/vnd.jupyter.widget-view+json": {
       "model_id": "",
       "version_major": 2,
       "version_minor": 0
      },
      "text/plain": [
       "HBox(children=(IntProgress(value=0, description='TCGA-L1-A7W4-01A_HTSeq-FPKM-UQ.txt.gz', max=543, style=Progre…"
      ]
     },
     "metadata": {},
     "output_type": "display_data"
    },
    {
     "name": "stdout",
     "output_type": "stream",
     "text": [
      "\r",
      " \r"
     ]
    },
    {
     "data": {
      "application/vnd.jupyter.widget-view+json": {
       "model_id": "",
       "version_major": 2,
       "version_minor": 0
      },
      "text/plain": [
       "HBox(children=(IntProgress(value=0, description='TCGA-LB-A8F3-01A_HTSeq-FPKM.txt.gz', max=522, style=ProgressS…"
      ]
     },
     "metadata": {},
     "output_type": "display_data"
    },
    {
     "name": "stdout",
     "output_type": "stream",
     "text": [
      "\r",
      " \r"
     ]
    },
    {
     "data": {
      "application/vnd.jupyter.widget-view+json": {
       "model_id": "",
       "version_major": 2,
       "version_minor": 0
      },
      "text/plain": [
       "HBox(children=(IntProgress(value=0, description='TCGA-YH-A8SY-01A_HTSeq-FPKM-UQ.txt.gz', max=532, style=Progre…"
      ]
     },
     "metadata": {},
     "output_type": "display_data"
    },
    {
     "name": "stdout",
     "output_type": "stream",
     "text": [
      "\r",
      " \r"
     ]
    },
    {
     "data": {
      "application/vnd.jupyter.widget-view+json": {
       "model_id": "",
       "version_major": 2,
       "version_minor": 0
      },
      "text/plain": [
       "HBox(children=(IntProgress(value=0, description='TCGA-HZ-7925-01A_HTSeq-Counts.txt.gz', max=266, style=Progres…"
      ]
     },
     "metadata": {},
     "output_type": "display_data"
    },
    {
     "name": "stdout",
     "output_type": "stream",
     "text": [
      "\r",
      " \r"
     ]
    },
    {
     "data": {
      "application/vnd.jupyter.widget-view+json": {
       "model_id": "",
       "version_major": 2,
       "version_minor": 0
      },
      "text/plain": [
       "HBox(children=(IntProgress(value=0, description='TCGA-IB-7889-01A_HTSeq-FPKM-UQ.txt.gz', max=522, style=Progre…"
      ]
     },
     "metadata": {},
     "output_type": "display_data"
    },
    {
     "name": "stdout",
     "output_type": "stream",
     "text": [
      "\r",
      " \r"
     ]
    },
    {
     "data": {
      "application/vnd.jupyter.widget-view+json": {
       "model_id": "",
       "version_major": 2,
       "version_minor": 0
      },
      "text/plain": [
       "HBox(children=(IntProgress(value=0, description='TCGA-3A-A9IS-01A_HTSeq-Counts.txt.gz', max=256, style=Progres…"
      ]
     },
     "metadata": {},
     "output_type": "display_data"
    },
    {
     "name": "stdout",
     "output_type": "stream",
     "text": [
      "\r",
      " \r"
     ]
    },
    {
     "data": {
      "application/vnd.jupyter.widget-view+json": {
       "model_id": "",
       "version_major": 2,
       "version_minor": 0
      },
      "text/plain": [
       "HBox(children=(IntProgress(value=0, description='TCGA-HZ-8001-01A_HTSeq-FPKM.txt.gz', max=532, style=ProgressS…"
      ]
     },
     "metadata": {},
     "output_type": "display_data"
    },
    {
     "name": "stdout",
     "output_type": "stream",
     "text": [
      "\r",
      " \r"
     ]
    },
    {
     "data": {
      "application/vnd.jupyter.widget-view+json": {
       "model_id": "",
       "version_major": 2,
       "version_minor": 0
      },
      "text/plain": [
       "HBox(children=(IntProgress(value=0, description='TCGA-HZ-A77P-01A_HTSeq-FPKM.txt.gz', max=543, style=ProgressS…"
      ]
     },
     "metadata": {},
     "output_type": "display_data"
    },
    {
     "name": "stdout",
     "output_type": "stream",
     "text": [
      "\r",
      " \r"
     ]
    },
    {
     "data": {
      "application/vnd.jupyter.widget-view+json": {
       "model_id": "",
       "version_major": 2,
       "version_minor": 0
      },
      "text/plain": [
       "HBox(children=(IntProgress(value=0, description='TCGA-2L-AAQM-01A_HTSeq-FPKM.txt.gz', max=522, style=ProgressS…"
      ]
     },
     "metadata": {},
     "output_type": "display_data"
    },
    {
     "name": "stdout",
     "output_type": "stream",
     "text": [
      "\r",
      " \r"
     ]
    },
    {
     "data": {
      "application/vnd.jupyter.widget-view+json": {
       "model_id": "",
       "version_major": 2,
       "version_minor": 0
      },
      "text/plain": [
       "HBox(children=(IntProgress(value=0, description='TCGA-IB-A6UG-01A_HTSeq-FPKM.txt.gz', max=543, style=ProgressS…"
      ]
     },
     "metadata": {},
     "output_type": "display_data"
    },
    {
     "name": "stdout",
     "output_type": "stream",
     "text": [
      "\r",
      " \r"
     ]
    },
    {
     "data": {
      "application/vnd.jupyter.widget-view+json": {
       "model_id": "",
       "version_major": 2,
       "version_minor": 0
      },
      "text/plain": [
       "HBox(children=(IntProgress(value=0, description='TCGA-2J-AAB9-01A_HTSeq-Counts.txt.gz', max=246, style=Progres…"
      ]
     },
     "metadata": {},
     "output_type": "display_data"
    },
    {
     "name": "stdout",
     "output_type": "stream",
     "text": [
      "\r",
      " \r"
     ]
    },
    {
     "data": {
      "application/vnd.jupyter.widget-view+json": {
       "model_id": "",
       "version_major": 2,
       "version_minor": 0
      },
      "text/plain": [
       "HBox(children=(IntProgress(value=0, description='TCGA-US-A776-01A_HTSeq-FPKM-UQ.txt.gz', max=532, style=Progre…"
      ]
     },
     "metadata": {},
     "output_type": "display_data"
    },
    {
     "name": "stdout",
     "output_type": "stream",
     "text": [
      "\r",
      " \r"
     ]
    },
    {
     "data": {
      "application/vnd.jupyter.widget-view+json": {
       "model_id": "",
       "version_major": 2,
       "version_minor": 0
      },
      "text/plain": [
       "HBox(children=(IntProgress(value=0, description='TCGA-3A-A9J0-01A_HTSeq-FPKM.txt.gz', max=522, style=ProgressS…"
      ]
     },
     "metadata": {},
     "output_type": "display_data"
    },
    {
     "name": "stdout",
     "output_type": "stream",
     "text": [
      "\r",
      " \r"
     ]
    },
    {
     "data": {
      "application/vnd.jupyter.widget-view+json": {
       "model_id": "",
       "version_major": 2,
       "version_minor": 0
      },
      "text/plain": [
       "HBox(children=(IntProgress(value=0, description='TCGA-YH-A8SY-01A_HTSeq-Counts.txt.gz', max=256, style=Progres…"
      ]
     },
     "metadata": {},
     "output_type": "display_data"
    },
    {
     "name": "stdout",
     "output_type": "stream",
     "text": [
      "\r",
      " \r"
     ]
    },
    {
     "data": {
      "application/vnd.jupyter.widget-view+json": {
       "model_id": "",
       "version_major": 2,
       "version_minor": 0
      },
      "text/plain": [
       "HBox(children=(IntProgress(value=0, description='TCGA-HZ-A4BK-01A_HTSeq-Counts.txt.gz', max=256, style=Progres…"
      ]
     },
     "metadata": {},
     "output_type": "display_data"
    },
    {
     "name": "stdout",
     "output_type": "stream",
     "text": [
      "\r",
      " \r"
     ]
    },
    {
     "data": {
      "application/vnd.jupyter.widget-view+json": {
       "model_id": "",
       "version_major": 2,
       "version_minor": 0
      },
      "text/plain": [
       "HBox(children=(IntProgress(value=0, description='TCGA-3A-A9I5-01A_HTSeq-Counts.txt.gz', max=256, style=Progres…"
      ]
     },
     "metadata": {},
     "output_type": "display_data"
    },
    {
     "name": "stdout",
     "output_type": "stream",
     "text": [
      "\r",
      " \r"
     ]
    },
    {
     "data": {
      "application/vnd.jupyter.widget-view+json": {
       "model_id": "",
       "version_major": 2,
       "version_minor": 0
      },
      "text/plain": [
       "HBox(children=(IntProgress(value=0, description='TCGA-IB-7891-01A_HTSeq-FPKM.txt.gz', max=522, style=ProgressS…"
      ]
     },
     "metadata": {},
     "output_type": "display_data"
    },
    {
     "name": "stdout",
     "output_type": "stream",
     "text": [
      "\r",
      " \r"
     ]
    },
    {
     "data": {
      "application/vnd.jupyter.widget-view+json": {
       "model_id": "",
       "version_major": 2,
       "version_minor": 0
      },
      "text/plain": [
       "HBox(children=(IntProgress(value=0, description='TCGA-LB-A8F3-01A_HTSeq-FPKM-UQ.txt.gz', max=522, style=Progre…"
      ]
     },
     "metadata": {},
     "output_type": "display_data"
    },
    {
     "name": "stdout",
     "output_type": "stream",
     "text": [
      "\r",
      " \r"
     ]
    },
    {
     "data": {
      "application/vnd.jupyter.widget-view+json": {
       "model_id": "",
       "version_major": 2,
       "version_minor": 0
      },
      "text/plain": [
       "HBox(children=(IntProgress(value=0, description='TCGA-YB-A89D-11A_HTSeq-Counts.txt.gz', max=256, style=Progres…"
      ]
     },
     "metadata": {},
     "output_type": "display_data"
    },
    {
     "name": "stdout",
     "output_type": "stream",
     "text": [
      "\r",
      " \r"
     ]
    },
    {
     "data": {
      "application/vnd.jupyter.widget-view+json": {
       "model_id": "",
       "version_major": 2,
       "version_minor": 0
      },
      "text/plain": [
       "HBox(children=(IntProgress(value=0, description='TCGA-OE-A75W-01A_HTSeq-Counts.txt.gz', max=256, style=Progres…"
      ]
     },
     "metadata": {},
     "output_type": "display_data"
    },
    {
     "name": "stdout",
     "output_type": "stream",
     "text": [
      "\r",
      " \r"
     ]
    },
    {
     "data": {
      "application/vnd.jupyter.widget-view+json": {
       "model_id": "",
       "version_major": 2,
       "version_minor": 0
      },
      "text/plain": [
       "HBox(children=(IntProgress(value=0, description='TCGA-3A-A9IJ-01A_HTSeq-FPKM.txt.gz', max=512, style=ProgressS…"
      ]
     },
     "metadata": {},
     "output_type": "display_data"
    },
    {
     "name": "stdout",
     "output_type": "stream",
     "text": [
      "\r",
      " \r"
     ]
    },
    {
     "data": {
      "application/vnd.jupyter.widget-view+json": {
       "model_id": "",
       "version_major": 2,
       "version_minor": 0
      },
      "text/plain": [
       "HBox(children=(IntProgress(value=0, description='TCGA-H8-A6C1-01A_HTSeq-FPKM-UQ.txt.gz', max=543, style=Progre…"
      ]
     },
     "metadata": {},
     "output_type": "display_data"
    },
    {
     "name": "stdout",
     "output_type": "stream",
     "text": [
      "\r",
      " \r"
     ]
    },
    {
     "data": {
      "application/vnd.jupyter.widget-view+json": {
       "model_id": "",
       "version_major": 2,
       "version_minor": 0
      },
      "text/plain": [
       "HBox(children=(IntProgress(value=0, description='TCGA-F2-A7TX-01A_HTSeq-FPKM-UQ.txt.gz', max=532, style=Progre…"
      ]
     },
     "metadata": {},
     "output_type": "display_data"
    },
    {
     "name": "stdout",
     "output_type": "stream",
     "text": [
      "\r",
      " \r"
     ]
    },
    {
     "data": {
      "application/vnd.jupyter.widget-view+json": {
       "model_id": "",
       "version_major": 2,
       "version_minor": 0
      },
      "text/plain": [
       "HBox(children=(IntProgress(value=0, description='TCGA-FB-AAQ1-01A_HTSeq-FPKM.txt.gz', max=522, style=ProgressS…"
      ]
     },
     "metadata": {},
     "output_type": "display_data"
    },
    {
     "name": "stdout",
     "output_type": "stream",
     "text": [
      "\r",
      " \r"
     ]
    },
    {
     "data": {
      "application/vnd.jupyter.widget-view+json": {
       "model_id": "",
       "version_major": 2,
       "version_minor": 0
      },
      "text/plain": [
       "HBox(children=(IntProgress(value=0, description='TCGA-3A-A9IL-01A_HTSeq-Counts.txt.gz', max=256, style=Progres…"
      ]
     },
     "metadata": {},
     "output_type": "display_data"
    },
    {
     "name": "stdout",
     "output_type": "stream",
     "text": [
      "\r",
      " \r"
     ]
    },
    {
     "data": {
      "application/vnd.jupyter.widget-view+json": {
       "model_id": "",
       "version_major": 2,
       "version_minor": 0
      },
      "text/plain": [
       "HBox(children=(IntProgress(value=0, description='TCGA-IB-7654-01A_HTSeq-Counts.txt.gz', max=256, style=Progres…"
      ]
     },
     "metadata": {},
     "output_type": "display_data"
    },
    {
     "name": "stdout",
     "output_type": "stream",
     "text": [
      "\r",
      " \r"
     ]
    },
    {
     "data": {
      "application/vnd.jupyter.widget-view+json": {
       "model_id": "",
       "version_major": 2,
       "version_minor": 0
      },
      "text/plain": [
       "HBox(children=(IntProgress(value=0, description='TCGA-FB-A7DR-01A_HTSeq-Counts.txt.gz', max=256, style=Progres…"
      ]
     },
     "metadata": {},
     "output_type": "display_data"
    },
    {
     "name": "stdout",
     "output_type": "stream",
     "text": [
      "\r",
      " \r"
     ]
    },
    {
     "data": {
      "application/vnd.jupyter.widget-view+json": {
       "model_id": "",
       "version_major": 2,
       "version_minor": 0
      },
      "text/plain": [
       "HBox(children=(IntProgress(value=0, description='TCGA-IB-AAUQ-01A_HTSeq-Counts.txt.gz', max=256, style=Progres…"
      ]
     },
     "metadata": {},
     "output_type": "display_data"
    },
    {
     "name": "stdout",
     "output_type": "stream",
     "text": [
      "\r",
      " \r"
     ]
    },
    {
     "data": {
      "application/vnd.jupyter.widget-view+json": {
       "model_id": "",
       "version_major": 2,
       "version_minor": 0
      },
      "text/plain": [
       "HBox(children=(IntProgress(value=0, description='TCGA-IB-A7M4-01A_HTSeq-FPKM-UQ.txt.gz', max=532, style=Progre…"
      ]
     },
     "metadata": {},
     "output_type": "display_data"
    },
    {
     "name": "stdout",
     "output_type": "stream",
     "text": [
      "\r",
      " \r"
     ]
    },
    {
     "data": {
      "application/vnd.jupyter.widget-view+json": {
       "model_id": "",
       "version_major": 2,
       "version_minor": 0
      },
      "text/plain": [
       "HBox(children=(IntProgress(value=0, description='TCGA-3A-A9IH-01A_HTSeq-Counts.txt.gz', max=256, style=Progres…"
      ]
     },
     "metadata": {},
     "output_type": "display_data"
    },
    {
     "name": "stdout",
     "output_type": "stream",
     "text": [
      "\r",
      " \r"
     ]
    },
    {
     "data": {
      "application/vnd.jupyter.widget-view+json": {
       "model_id": "",
       "version_major": 2,
       "version_minor": 0
      },
      "text/plain": [
       "HBox(children=(IntProgress(value=0, description='TCGA-3A-A9IZ-01A_HTSeq-FPKM-UQ.txt.gz', max=522, style=Progre…"
      ]
     },
     "metadata": {},
     "output_type": "display_data"
    },
    {
     "name": "stdout",
     "output_type": "stream",
     "text": [
      "\r",
      " \r"
     ]
    },
    {
     "data": {
      "application/vnd.jupyter.widget-view+json": {
       "model_id": "",
       "version_major": 2,
       "version_minor": 0
      },
      "text/plain": [
       "HBox(children=(IntProgress(value=0, description='TCGA-HZ-A9TJ-06A_HTSeq-FPKM.txt.gz', max=532, style=ProgressS…"
      ]
     },
     "metadata": {},
     "output_type": "display_data"
    },
    {
     "name": "stdout",
     "output_type": "stream",
     "text": [
      "\r",
      " \r"
     ]
    },
    {
     "data": {
      "application/vnd.jupyter.widget-view+json": {
       "model_id": "",
       "version_major": 2,
       "version_minor": 0
      },
      "text/plain": [
       "HBox(children=(IntProgress(value=0, description='TCGA-YB-A89D-11A_HTSeq-FPKM.txt.gz', max=532, style=ProgressS…"
      ]
     },
     "metadata": {},
     "output_type": "display_data"
    },
    {
     "name": "stdout",
     "output_type": "stream",
     "text": [
      "\r",
      " \r"
     ]
    },
    {
     "data": {
      "application/vnd.jupyter.widget-view+json": {
       "model_id": "",
       "version_major": 2,
       "version_minor": 0
      },
      "text/plain": [
       "HBox(children=(IntProgress(value=0, description='TCGA-HZ-A77O-01A_HTSeq-Counts.txt.gz', max=256, style=Progres…"
      ]
     },
     "metadata": {},
     "output_type": "display_data"
    },
    {
     "name": "stdout",
     "output_type": "stream",
     "text": [
      "\r",
      " \r"
     ]
    },
    {
     "data": {
      "application/vnd.jupyter.widget-view+json": {
       "model_id": "",
       "version_major": 2,
       "version_minor": 0
      },
      "text/plain": [
       "HBox(children=(IntProgress(value=0, description='TCGA-Q3-AA2A-01A_HTSeq-Counts.txt.gz', max=256, style=Progres…"
      ]
     },
     "metadata": {},
     "output_type": "display_data"
    },
    {
     "name": "stdout",
     "output_type": "stream",
     "text": [
      "\r",
      " \r"
     ]
    },
    {
     "data": {
      "application/vnd.jupyter.widget-view+json": {
       "model_id": "",
       "version_major": 2,
       "version_minor": 0
      },
      "text/plain": [
       "HBox(children=(IntProgress(value=0, description='TCGA-3E-AAAZ-01A_HTSeq-FPKM.txt.gz', max=543, style=ProgressS…"
      ]
     },
     "metadata": {},
     "output_type": "display_data"
    },
    {
     "name": "stdout",
     "output_type": "stream",
     "text": [
      "\r",
      " \r"
     ]
    },
    {
     "data": {
      "application/vnd.jupyter.widget-view+json": {
       "model_id": "",
       "version_major": 2,
       "version_minor": 0
      },
      "text/plain": [
       "HBox(children=(IntProgress(value=0, description='TCGA-HZ-7918-01A_HTSeq-Counts.txt.gz', max=256, style=Progres…"
      ]
     },
     "metadata": {},
     "output_type": "display_data"
    },
    {
     "name": "stdout",
     "output_type": "stream",
     "text": [
      "\r",
      " \r"
     ]
    },
    {
     "data": {
      "application/vnd.jupyter.widget-view+json": {
       "model_id": "",
       "version_major": 2,
       "version_minor": 0
      },
      "text/plain": [
       "HBox(children=(IntProgress(value=0, description='TCGA-IB-AAUM-01A_HTSeq-Counts.txt.gz', max=256, style=Progres…"
      ]
     },
     "metadata": {},
     "output_type": "display_data"
    },
    {
     "name": "stdout",
     "output_type": "stream",
     "text": [
      "\r",
      " \r"
     ]
    },
    {
     "data": {
      "application/vnd.jupyter.widget-view+json": {
       "model_id": "",
       "version_major": 2,
       "version_minor": 0
      },
      "text/plain": [
       "HBox(children=(IntProgress(value=0, description='TCGA-2J-AABR-01A_HTSeq-FPKM.txt.gz', max=522, style=ProgressS…"
      ]
     },
     "metadata": {},
     "output_type": "display_data"
    },
    {
     "name": "stdout",
     "output_type": "stream",
     "text": [
      "\r",
      " \r"
     ]
    },
    {
     "data": {
      "application/vnd.jupyter.widget-view+json": {
       "model_id": "",
       "version_major": 2,
       "version_minor": 0
      },
      "text/plain": [
       "HBox(children=(IntProgress(value=0, description='TCGA-HZ-A8P0-01A_HTSeq-Counts.txt.gz', max=256, style=Progres…"
      ]
     },
     "metadata": {},
     "output_type": "display_data"
    },
    {
     "name": "stdout",
     "output_type": "stream",
     "text": [
      "\r",
      " \r"
     ]
    },
    {
     "data": {
      "application/vnd.jupyter.widget-view+json": {
       "model_id": "",
       "version_major": 2,
       "version_minor": 0
      },
      "text/plain": [
       "HBox(children=(IntProgress(value=0, description='TCGA-FB-AAPS-01A_HTSeq-FPKM.txt.gz', max=532, style=ProgressS…"
      ]
     },
     "metadata": {},
     "output_type": "display_data"
    },
    {
     "name": "stdout",
     "output_type": "stream",
     "text": [
      "\r",
      " \r"
     ]
    },
    {
     "data": {
      "application/vnd.jupyter.widget-view+json": {
       "model_id": "",
       "version_major": 2,
       "version_minor": 0
      },
      "text/plain": [
       "HBox(children=(IntProgress(value=0, description='TCGA-IB-7886-01A_HTSeq-FPKM.txt.gz', max=543, style=ProgressS…"
      ]
     },
     "metadata": {},
     "output_type": "display_data"
    },
    {
     "name": "stdout",
     "output_type": "stream",
     "text": [
      "\r",
      " \r"
     ]
    },
    {
     "data": {
      "application/vnd.jupyter.widget-view+json": {
       "model_id": "",
       "version_major": 2,
       "version_minor": 0
      },
      "text/plain": [
       "HBox(children=(IntProgress(value=0, description='TCGA-HZ-A9TJ-06A_HTSeq-Counts.txt.gz', max=256, style=Progres…"
      ]
     },
     "metadata": {},
     "output_type": "display_data"
    },
    {
     "name": "stdout",
     "output_type": "stream",
     "text": [
      "\r",
      " \r"
     ]
    },
    {
     "data": {
      "application/vnd.jupyter.widget-view+json": {
       "model_id": "",
       "version_major": 2,
       "version_minor": 0
      },
      "text/plain": [
       "HBox(children=(IntProgress(value=0, description='TCGA-H6-A45N-11A_HTSeq-Counts.txt.gz', max=266, style=Progres…"
      ]
     },
     "metadata": {},
     "output_type": "display_data"
    },
    {
     "name": "stdout",
     "output_type": "stream",
     "text": [
      "\r",
      " \r"
     ]
    },
    {
     "data": {
      "application/vnd.jupyter.widget-view+json": {
       "model_id": "",
       "version_major": 2,
       "version_minor": 0
      },
      "text/plain": [
       "HBox(children=(IntProgress(value=0, description='TCGA-HZ-7919-01A_HTSeq-FPKM-UQ.txt.gz', max=532, style=Progre…"
      ]
     },
     "metadata": {},
     "output_type": "display_data"
    },
    {
     "name": "stdout",
     "output_type": "stream",
     "text": [
      "\r",
      " \r"
     ]
    },
    {
     "data": {
      "application/vnd.jupyter.widget-view+json": {
       "model_id": "",
       "version_major": 2,
       "version_minor": 0
      },
      "text/plain": [
       "HBox(children=(IntProgress(value=0, description='TCGA-FB-AAQ1-01A_HTSeq-Counts.txt.gz', max=256, style=Progres…"
      ]
     },
     "metadata": {},
     "output_type": "display_data"
    },
    {
     "name": "stdout",
     "output_type": "stream",
     "text": [
      "\r",
      " \r"
     ]
    },
    {
     "data": {
      "application/vnd.jupyter.widget-view+json": {
       "model_id": "",
       "version_major": 2,
       "version_minor": 0
      },
      "text/plain": [
       "HBox(children=(IntProgress(value=0, description='TCGA-H6-8124-01A_HTSeq-FPKM.txt.gz', max=543, style=ProgressS…"
      ]
     },
     "metadata": {},
     "output_type": "display_data"
    },
    {
     "name": "stdout",
     "output_type": "stream",
     "text": [
      "\r",
      " \r"
     ]
    },
    {
     "data": {
      "application/vnd.jupyter.widget-view+json": {
       "model_id": "",
       "version_major": 2,
       "version_minor": 0
      },
      "text/plain": [
       "HBox(children=(IntProgress(value=0, description='TCGA-H6-8124-11A_HTSeq-FPKM-UQ.txt.gz', max=543, style=Progre…"
      ]
     },
     "metadata": {},
     "output_type": "display_data"
    },
    {
     "name": "stdout",
     "output_type": "stream",
     "text": [
      "\r",
      " \r"
     ]
    },
    {
     "data": {
      "application/vnd.jupyter.widget-view+json": {
       "model_id": "",
       "version_major": 2,
       "version_minor": 0
      },
      "text/plain": [
       "HBox(children=(IntProgress(value=0, description='TCGA-2J-AABF-01A_HTSeq-FPKM-UQ.txt.gz', max=553, style=Progre…"
      ]
     },
     "metadata": {},
     "output_type": "display_data"
    },
    {
     "name": "stdout",
     "output_type": "stream",
     "text": [
      "\r",
      " \r"
     ]
    },
    {
     "data": {
      "application/vnd.jupyter.widget-view+json": {
       "model_id": "",
       "version_major": 2,
       "version_minor": 0
      },
      "text/plain": [
       "HBox(children=(IntProgress(value=0, description='TCGA-IB-7893-01A_HTSeq-FPKM.txt.gz', max=522, style=ProgressS…"
      ]
     },
     "metadata": {},
     "output_type": "display_data"
    },
    {
     "name": "stdout",
     "output_type": "stream",
     "text": [
      "\r",
      " \r"
     ]
    },
    {
     "data": {
      "application/vnd.jupyter.widget-view+json": {
       "model_id": "",
       "version_major": 2,
       "version_minor": 0
      },
      "text/plain": [
       "HBox(children=(IntProgress(value=0, description='TCGA-HZ-7924-01A_HTSeq-FPKM-UQ.txt.gz', max=553, style=Progre…"
      ]
     },
     "metadata": {},
     "output_type": "display_data"
    },
    {
     "name": "stdout",
     "output_type": "stream",
     "text": [
      "\r",
      " \r"
     ]
    },
    {
     "data": {
      "application/vnd.jupyter.widget-view+json": {
       "model_id": "",
       "version_major": 2,
       "version_minor": 0
      },
      "text/plain": [
       "HBox(children=(IntProgress(value=0, description='TCGA-US-A77G-01A_HTSeq-FPKM-UQ.txt.gz', max=532, style=Progre…"
      ]
     },
     "metadata": {},
     "output_type": "display_data"
    },
    {
     "name": "stdout",
     "output_type": "stream",
     "text": [
      "\r",
      " \r"
     ]
    },
    {
     "data": {
      "application/vnd.jupyter.widget-view+json": {
       "model_id": "",
       "version_major": 2,
       "version_minor": 0
      },
      "text/plain": [
       "HBox(children=(IntProgress(value=0, description='TCGA-2J-AABT-01A_HTSeq-FPKM.txt.gz', max=522, style=ProgressS…"
      ]
     },
     "metadata": {},
     "output_type": "display_data"
    },
    {
     "name": "stdout",
     "output_type": "stream",
     "text": [
      "\r",
      " \r"
     ]
    },
    {
     "data": {
      "application/vnd.jupyter.widget-view+json": {
       "model_id": "",
       "version_major": 2,
       "version_minor": 0
      },
      "text/plain": [
       "HBox(children=(IntProgress(value=0, description='TCGA-Z5-AAPL-01A_HTSeq-FPKM-UQ.txt.gz', max=532, style=Progre…"
      ]
     },
     "metadata": {},
     "output_type": "display_data"
    },
    {
     "name": "stdout",
     "output_type": "stream",
     "text": [
      "\r",
      " \r"
     ]
    },
    {
     "data": {
      "application/vnd.jupyter.widget-view+json": {
       "model_id": "",
       "version_major": 2,
       "version_minor": 0
      },
      "text/plain": [
       "HBox(children=(IntProgress(value=0, description='TCGA-HZ-8637-01A_HTSeq-Counts.txt.gz', max=266, style=Progres…"
      ]
     },
     "metadata": {},
     "output_type": "display_data"
    },
    {
     "name": "stdout",
     "output_type": "stream",
     "text": [
      "\r",
      " \r"
     ]
    },
    {
     "data": {
      "application/vnd.jupyter.widget-view+json": {
       "model_id": "",
       "version_major": 2,
       "version_minor": 0
      },
      "text/plain": [
       "HBox(children=(IntProgress(value=0, description='TCGA-HV-A5A3-01A_HTSeq-Counts.txt.gz', max=256, style=Progres…"
      ]
     },
     "metadata": {},
     "output_type": "display_data"
    },
    {
     "name": "stdout",
     "output_type": "stream",
     "text": [
      "\r",
      " \r"
     ]
    },
    {
     "data": {
      "application/vnd.jupyter.widget-view+json": {
       "model_id": "",
       "version_major": 2,
       "version_minor": 0
      },
      "text/plain": [
       "HBox(children=(IntProgress(value=0, description='TCGA-HZ-A77Q-01A_HTSeq-FPKM-UQ.txt.gz', max=532, style=Progre…"
      ]
     },
     "metadata": {},
     "output_type": "display_data"
    },
    {
     "name": "stdout",
     "output_type": "stream",
     "text": [
      "\r",
      " \r"
     ]
    },
    {
     "data": {
      "application/vnd.jupyter.widget-view+json": {
       "model_id": "",
       "version_major": 2,
       "version_minor": 0
      },
      "text/plain": [
       "HBox(children=(IntProgress(value=0, description='TCGA-H8-A6C1-01A_HTSeq-FPKM.txt.gz', max=543, style=ProgressS…"
      ]
     },
     "metadata": {},
     "output_type": "display_data"
    },
    {
     "name": "stdout",
     "output_type": "stream",
     "text": [
      "\r",
      " \r"
     ]
    },
    {
     "data": {
      "application/vnd.jupyter.widget-view+json": {
       "model_id": "",
       "version_major": 2,
       "version_minor": 0
      },
      "text/plain": [
       "HBox(children=(IntProgress(value=0, description='TCGA-FB-A7DR-01A_HTSeq-FPKM.txt.gz', max=532, style=ProgressS…"
      ]
     },
     "metadata": {},
     "output_type": "display_data"
    },
    {
     "name": "stdout",
     "output_type": "stream",
     "text": [
      "\r",
      " \r"
     ]
    },
    {
     "data": {
      "application/vnd.jupyter.widget-view+json": {
       "model_id": "",
       "version_major": 2,
       "version_minor": 0
      },
      "text/plain": [
       "HBox(children=(IntProgress(value=0, description='TCGA-FB-A545-01A_HTSeq-FPKM-UQ.txt.gz', max=522, style=Progre…"
      ]
     },
     "metadata": {},
     "output_type": "display_data"
    },
    {
     "name": "stdout",
     "output_type": "stream",
     "text": [
      "\r",
      " \r"
     ]
    },
    {
     "data": {
      "application/vnd.jupyter.widget-view+json": {
       "model_id": "",
       "version_major": 2,
       "version_minor": 0
      },
      "text/plain": [
       "HBox(children=(IntProgress(value=0, description='TCGA-FB-AAPQ-01A_HTSeq-FPKM-UQ.txt.gz', max=512, style=Progre…"
      ]
     },
     "metadata": {},
     "output_type": "display_data"
    },
    {
     "name": "stdout",
     "output_type": "stream",
     "text": [
      "\r",
      " \r"
     ]
    },
    {
     "data": {
      "application/vnd.jupyter.widget-view+json": {
       "model_id": "",
       "version_major": 2,
       "version_minor": 0
      },
      "text/plain": [
       "HBox(children=(IntProgress(value=0, description='TCGA-2J-AABR-01A_HTSeq-FPKM-UQ.txt.gz', max=532, style=Progre…"
      ]
     },
     "metadata": {},
     "output_type": "display_data"
    },
    {
     "name": "stdout",
     "output_type": "stream",
     "text": [
      "\r",
      " \r"
     ]
    },
    {
     "data": {
      "application/vnd.jupyter.widget-view+json": {
       "model_id": "",
       "version_major": 2,
       "version_minor": 0
      },
      "text/plain": [
       "HBox(children=(IntProgress(value=0, description='TCGA-RB-AA9M-01A_HTSeq-FPKM-UQ.txt.gz', max=543, style=Progre…"
      ]
     },
     "metadata": {},
     "output_type": "display_data"
    },
    {
     "name": "stdout",
     "output_type": "stream",
     "text": [
      "\r",
      " \r"
     ]
    },
    {
     "data": {
      "application/vnd.jupyter.widget-view+json": {
       "model_id": "",
       "version_major": 2,
       "version_minor": 0
      },
      "text/plain": [
       "HBox(children=(IntProgress(value=0, description='TCGA-H6-8124-11A_HTSeq-Counts.txt.gz', max=266, style=Progres…"
      ]
     },
     "metadata": {},
     "output_type": "display_data"
    },
    {
     "name": "stdout",
     "output_type": "stream",
     "text": [
      "\r",
      " \r"
     ]
    },
    {
     "data": {
      "application/vnd.jupyter.widget-view+json": {
       "model_id": "",
       "version_major": 2,
       "version_minor": 0
      },
      "text/plain": [
       "HBox(children=(IntProgress(value=0, description='TCGA-3A-A9IV-01A_HTSeq-FPKM.txt.gz', max=512, style=ProgressS…"
      ]
     },
     "metadata": {},
     "output_type": "display_data"
    },
    {
     "name": "stdout",
     "output_type": "stream",
     "text": [
      "\r",
      " \r"
     ]
    },
    {
     "data": {
      "application/vnd.jupyter.widget-view+json": {
       "model_id": "",
       "version_major": 2,
       "version_minor": 0
      },
      "text/plain": [
       "HBox(children=(IntProgress(value=0, description='TCGA-3A-A9IZ-01A_HTSeq-FPKM.txt.gz', max=522, style=ProgressS…"
      ]
     },
     "metadata": {},
     "output_type": "display_data"
    },
    {
     "name": "stdout",
     "output_type": "stream",
     "text": [
      "\r",
      " \r"
     ]
    },
    {
     "data": {
      "application/vnd.jupyter.widget-view+json": {
       "model_id": "",
       "version_major": 2,
       "version_minor": 0
      },
      "text/plain": [
       "HBox(children=(IntProgress(value=0, description='TCGA-IB-7887-01A_HTSeq-FPKM.txt.gz', max=543, style=ProgressS…"
      ]
     },
     "metadata": {},
     "output_type": "display_data"
    },
    {
     "name": "stdout",
     "output_type": "stream",
     "text": [
      "\r",
      " \r"
     ]
    },
    {
     "data": {
      "application/vnd.jupyter.widget-view+json": {
       "model_id": "",
       "version_major": 2,
       "version_minor": 0
      },
      "text/plain": [
       "HBox(children=(IntProgress(value=0, description='TCGA-3A-A9IU-01A_HTSeq-FPKM-UQ.txt.gz', max=543, style=Progre…"
      ]
     },
     "metadata": {},
     "output_type": "display_data"
    },
    {
     "name": "stdout",
     "output_type": "stream",
     "text": [
      "\r",
      " \r"
     ]
    },
    {
     "data": {
      "application/vnd.jupyter.widget-view+json": {
       "model_id": "",
       "version_major": 2,
       "version_minor": 0
      },
      "text/plain": [
       "HBox(children=(IntProgress(value=0, description='TCGA-IB-A6UF-01A_HTSeq-Counts.txt.gz', max=256, style=Progres…"
      ]
     },
     "metadata": {},
     "output_type": "display_data"
    },
    {
     "name": "stdout",
     "output_type": "stream",
     "text": [
      "\r",
      " \r"
     ]
    },
    {
     "data": {
      "application/vnd.jupyter.widget-view+json": {
       "model_id": "",
       "version_major": 2,
       "version_minor": 0
      },
      "text/plain": [
       "HBox(children=(IntProgress(value=0, description='TCGA-F2-A8YN-01A_HTSeq-Counts.txt.gz', max=256, style=Progres…"
      ]
     },
     "metadata": {},
     "output_type": "display_data"
    },
    {
     "name": "stdout",
     "output_type": "stream",
     "text": [
      " \r"
     ]
    },
    {
     "data": {
      "application/vnd.jupyter.widget-view+json": {
       "model_id": "",
       "version_major": 2,
       "version_minor": 0
      },
      "text/plain": [
       "HBox(children=(IntProgress(value=0, description='TCGA-3A-A9I7-01A_HTSeq-FPKM-UQ.txt.gz', max=543, style=Progre…"
      ]
     },
     "metadata": {},
     "output_type": "display_data"
    },
    {
     "data": {
      "application/vnd.jupyter.widget-view+json": {
       "model_id": "",
       "version_major": 2,
       "version_minor": 0
      },
      "text/plain": [
       "HBox(children=(IntProgress(value=0, description='TCGA-HZ-8637-01A_HTSeq-FPKM-UQ.txt.gz', max=573, style=Progre…"
      ]
     },
     "metadata": {},
     "output_type": "display_data"
    },
    {
     "name": "stdout",
     "output_type": "stream",
     "text": [
      "\r",
      " \r"
     ]
    },
    {
     "data": {
      "application/vnd.jupyter.widget-view+json": {
       "model_id": "",
       "version_major": 2,
       "version_minor": 0
      },
      "text/plain": [
       "HBox(children=(IntProgress(value=0, description='TCGA-FB-AAPU-01A_HTSeq-FPKM-UQ.txt.gz', max=532, style=Progre…"
      ]
     },
     "metadata": {},
     "output_type": "display_data"
    },
    {
     "name": "stdout",
     "output_type": "stream",
     "text": [
      "\r",
      " \r"
     ]
    },
    {
     "data": {
      "application/vnd.jupyter.widget-view+json": {
       "model_id": "",
       "version_major": 2,
       "version_minor": 0
      },
      "text/plain": [
       "HBox(children=(IntProgress(value=0, description='TCGA-IB-AAUV-01A_HTSeq-Counts.txt.gz', max=266, style=Progres…"
      ]
     },
     "metadata": {},
     "output_type": "display_data"
    },
    {
     "name": "stdout",
     "output_type": "stream",
     "text": [
      "\r",
      " \r"
     ]
    },
    {
     "data": {
      "application/vnd.jupyter.widget-view+json": {
       "model_id": "",
       "version_major": 2,
       "version_minor": 0
      },
      "text/plain": [
       "HBox(children=(IntProgress(value=0, description='TCGA-IB-7888-01A_HTSeq-FPKM-UQ.txt.gz', max=522, style=Progre…"
      ]
     },
     "metadata": {},
     "output_type": "display_data"
    },
    {
     "name": "stdout",
     "output_type": "stream",
     "text": [
      "\r",
      " \r"
     ]
    },
    {
     "data": {
      "application/vnd.jupyter.widget-view+json": {
       "model_id": "",
       "version_major": 2,
       "version_minor": 0
      },
      "text/plain": [
       "HBox(children=(IntProgress(value=0, description='TCGA-3A-A9J0-01A_HTSeq-Counts.txt.gz', max=256, style=Progres…"
      ]
     },
     "metadata": {},
     "output_type": "display_data"
    },
    {
     "name": "stdout",
     "output_type": "stream",
     "text": [
      "\r",
      " \r"
     ]
    },
    {
     "data": {
      "application/vnd.jupyter.widget-view+json": {
       "model_id": "",
       "version_major": 2,
       "version_minor": 0
      },
      "text/plain": [
       "HBox(children=(IntProgress(value=0, description='TCGA-Q3-A5QY-01A_HTSeq-FPKM.txt.gz', max=543, style=ProgressS…"
      ]
     },
     "metadata": {},
     "output_type": "display_data"
    },
    {
     "name": "stdout",
     "output_type": "stream",
     "text": [
      "\r",
      " \r"
     ]
    },
    {
     "data": {
      "application/vnd.jupyter.widget-view+json": {
       "model_id": "",
       "version_major": 2,
       "version_minor": 0
      },
      "text/plain": [
       "HBox(children=(IntProgress(value=0, description='TCGA-2L-AAQL-01A_HTSeq-FPKM.txt.gz', max=512, style=ProgressS…"
      ]
     },
     "metadata": {},
     "output_type": "display_data"
    },
    {
     "name": "stdout",
     "output_type": "stream",
     "text": [
      "\r",
      " \r"
     ]
    },
    {
     "data": {
      "application/vnd.jupyter.widget-view+json": {
       "model_id": "",
       "version_major": 2,
       "version_minor": 0
      },
      "text/plain": [
       "HBox(children=(IntProgress(value=0, description='TCGA-IB-7888-01A_HTSeq-Counts.txt.gz', max=256, style=Progres…"
      ]
     },
     "metadata": {},
     "output_type": "display_data"
    },
    {
     "name": "stdout",
     "output_type": "stream",
     "text": [
      "\r",
      " \r"
     ]
    },
    {
     "data": {
      "application/vnd.jupyter.widget-view+json": {
       "model_id": "",
       "version_major": 2,
       "version_minor": 0
      },
      "text/plain": [
       "HBox(children=(IntProgress(value=0, description='TCGA-S4-A8RM-01A_HTSeq-FPKM-UQ.txt.gz', max=553, style=Progre…"
      ]
     },
     "metadata": {},
     "output_type": "display_data"
    },
    {
     "name": "stdout",
     "output_type": "stream",
     "text": [
      "\r",
      " \r"
     ]
    },
    {
     "data": {
      "application/vnd.jupyter.widget-view+json": {
       "model_id": "",
       "version_major": 2,
       "version_minor": 0
      },
      "text/plain": [
       "HBox(children=(IntProgress(value=0, description='TCGA-IB-AAUM-01A_HTSeq-FPKM.txt.gz', max=532, style=ProgressS…"
      ]
     },
     "metadata": {},
     "output_type": "display_data"
    },
    {
     "name": "stdout",
     "output_type": "stream",
     "text": [
      "\r",
      " \r"
     ]
    },
    {
     "data": {
      "application/vnd.jupyter.widget-view+json": {
       "model_id": "",
       "version_major": 2,
       "version_minor": 0
      },
      "text/plain": [
       "HBox(children=(IntProgress(value=0, description='TCGA-HZ-A49H-01A_HTSeq-Counts.txt.gz', max=256, style=Progres…"
      ]
     },
     "metadata": {},
     "output_type": "display_data"
    },
    {
     "name": "stdout",
     "output_type": "stream",
     "text": [
      "\r",
      " \r"
     ]
    },
    {
     "data": {
      "application/vnd.jupyter.widget-view+json": {
       "model_id": "",
       "version_major": 2,
       "version_minor": 0
      },
      "text/plain": [
       "HBox(children=(IntProgress(value=0, description='TCGA-HV-A5A3-11A_HTSeq-FPKM.txt.gz', max=522, style=ProgressS…"
      ]
     },
     "metadata": {},
     "output_type": "display_data"
    },
    {
     "name": "stdout",
     "output_type": "stream",
     "text": [
      "\r",
      " \r"
     ]
    },
    {
     "data": {
      "application/vnd.jupyter.widget-view+json": {
       "model_id": "",
       "version_major": 2,
       "version_minor": 0
      },
      "text/plain": [
       "HBox(children=(IntProgress(value=0, description='TCGA-F2-6879-01A_HTSeq-Counts.txt.gz', max=266, style=Progres…"
      ]
     },
     "metadata": {},
     "output_type": "display_data"
    },
    {
     "name": "stdout",
     "output_type": "stream",
     "text": [
      "\r",
      " \r"
     ]
    },
    {
     "data": {
      "application/vnd.jupyter.widget-view+json": {
       "model_id": "",
       "version_major": 2,
       "version_minor": 0
      },
      "text/plain": [
       "HBox(children=(IntProgress(value=0, description='TCGA-YB-A89D-01A_HTSeq-FPKM-UQ.txt.gz', max=532, style=Progre…"
      ]
     },
     "metadata": {},
     "output_type": "display_data"
    },
    {
     "name": "stdout",
     "output_type": "stream",
     "text": [
      "\r",
      " \r"
     ]
    },
    {
     "data": {
      "application/vnd.jupyter.widget-view+json": {
       "model_id": "",
       "version_major": 2,
       "version_minor": 0
      },
      "text/plain": [
       "HBox(children=(IntProgress(value=0, description='TCGA-IB-A7M4-01A_HTSeq-Counts.txt.gz', max=256, style=Progres…"
      ]
     },
     "metadata": {},
     "output_type": "display_data"
    },
    {
     "name": "stdout",
     "output_type": "stream",
     "text": [
      "\r",
      " \r"
     ]
    },
    {
     "data": {
      "application/vnd.jupyter.widget-view+json": {
       "model_id": "",
       "version_major": 2,
       "version_minor": 0
      },
      "text/plain": [
       "HBox(children=(IntProgress(value=0, description='TCGA-3A-A9IV-01A_HTSeq-Counts.txt.gz', max=256, style=Progres…"
      ]
     },
     "metadata": {},
     "output_type": "display_data"
    },
    {
     "name": "stdout",
     "output_type": "stream",
     "text": [
      "\r",
      " \r"
     ]
    },
    {
     "data": {
      "application/vnd.jupyter.widget-view+json": {
       "model_id": "",
       "version_major": 2,
       "version_minor": 0
      },
      "text/plain": [
       "HBox(children=(IntProgress(value=0, description='TCGA-HZ-A77P-01A_HTSeq-Counts.txt.gz', max=266, style=Progres…"
      ]
     },
     "metadata": {},
     "output_type": "display_data"
    },
    {
     "name": "stdout",
     "output_type": "stream",
     "text": [
      "\r",
      " \r"
     ]
    },
    {
     "data": {
      "application/vnd.jupyter.widget-view+json": {
       "model_id": "",
       "version_major": 2,
       "version_minor": 0
      },
      "text/plain": [
       "HBox(children=(IntProgress(value=0, description='TCGA-IB-7885-01A_HTSeq-FPKM-UQ.txt.gz', max=532, style=Progre…"
      ]
     },
     "metadata": {},
     "output_type": "display_data"
    },
    {
     "name": "stdout",
     "output_type": "stream",
     "text": [
      "\r",
      " \r"
     ]
    },
    {
     "data": {
      "application/vnd.jupyter.widget-view+json": {
       "model_id": "",
       "version_major": 2,
       "version_minor": 0
      },
      "text/plain": [
       "HBox(children=(IntProgress(value=0, description='TCGA-IB-7889-01A_HTSeq-FPKM.txt.gz', max=522, style=ProgressS…"
      ]
     },
     "metadata": {},
     "output_type": "display_data"
    },
    {
     "name": "stdout",
     "output_type": "stream",
     "text": [
      "\r",
      " \r"
     ]
    },
    {
     "data": {
      "application/vnd.jupyter.widget-view+json": {
       "model_id": "",
       "version_major": 2,
       "version_minor": 0
      },
      "text/plain": [
       "HBox(children=(IntProgress(value=0, description='TCGA-HZ-8002-01A_HTSeq-Counts.txt.gz', max=266, style=Progres…"
      ]
     },
     "metadata": {},
     "output_type": "display_data"
    },
    {
     "name": "stdout",
     "output_type": "stream",
     "text": [
      "\r",
      " \r"
     ]
    },
    {
     "data": {
      "application/vnd.jupyter.widget-view+json": {
       "model_id": "",
       "version_major": 2,
       "version_minor": 0
      },
      "text/plain": [
       "HBox(children=(IntProgress(value=0, description='TCGA-HZ-A9TJ-01A_HTSeq-FPKM.txt.gz', max=522, style=ProgressS…"
      ]
     },
     "metadata": {},
     "output_type": "display_data"
    },
    {
     "name": "stdout",
     "output_type": "stream",
     "text": [
      "\r",
      " \r"
     ]
    },
    {
     "data": {
      "application/vnd.jupyter.widget-view+json": {
       "model_id": "",
       "version_major": 2,
       "version_minor": 0
      },
      "text/plain": [
       "HBox(children=(IntProgress(value=0, description='TCGA-2J-AAB8-01A_HTSeq-Counts.txt.gz', max=256, style=Progres…"
      ]
     },
     "metadata": {},
     "output_type": "display_data"
    },
    {
     "name": "stdout",
     "output_type": "stream",
     "text": [
      "\r",
      " \r"
     ]
    },
    {
     "data": {
      "application/vnd.jupyter.widget-view+json": {
       "model_id": "",
       "version_major": 2,
       "version_minor": 0
      },
      "text/plain": [
       "HBox(children=(IntProgress(value=0, description='TCGA-FB-AAQ6-01A_HTSeq-Counts.txt.gz', max=246, style=Progres…"
      ]
     },
     "metadata": {},
     "output_type": "display_data"
    },
    {
     "name": "stdout",
     "output_type": "stream",
     "text": [
      "\r",
      " \r"
     ]
    },
    {
     "data": {
      "application/vnd.jupyter.widget-view+json": {
       "model_id": "",
       "version_major": 2,
       "version_minor": 0
      },
      "text/plain": [
       "HBox(children=(IntProgress(value=0, description='TCGA-XN-A8T3-01A_HTSeq-Counts.txt.gz', max=256, style=Progres…"
      ]
     },
     "metadata": {},
     "output_type": "display_data"
    },
    {
     "name": "stdout",
     "output_type": "stream",
     "text": [
      "\r",
      " \r"
     ]
    },
    {
     "data": {
      "application/vnd.jupyter.widget-view+json": {
       "model_id": "",
       "version_major": 2,
       "version_minor": 0
      },
      "text/plain": [
       "HBox(children=(IntProgress(value=0, description='TCGA-FB-A78T-01A_HTSeq-FPKM-UQ.txt.gz', max=553, style=Progre…"
      ]
     },
     "metadata": {},
     "output_type": "display_data"
    },
    {
     "name": "stdout",
     "output_type": "stream",
     "text": [
      "\r",
      " \r"
     ]
    },
    {
     "data": {
      "application/vnd.jupyter.widget-view+json": {
       "model_id": "",
       "version_major": 2,
       "version_minor": 0
      },
      "text/plain": [
       "HBox(children=(IntProgress(value=0, description='TCGA-2J-AABK-01A_HTSeq-FPKM.txt.gz', max=543, style=ProgressS…"
      ]
     },
     "metadata": {},
     "output_type": "display_data"
    },
    {
     "name": "stdout",
     "output_type": "stream",
     "text": [
      "\r",
      " \r"
     ]
    },
    {
     "data": {
      "application/vnd.jupyter.widget-view+json": {
       "model_id": "",
       "version_major": 2,
       "version_minor": 0
      },
      "text/plain": [
       "HBox(children=(IntProgress(value=0, description='TCGA-HZ-A49H-01A_HTSeq-FPKM.txt.gz', max=522, style=ProgressS…"
      ]
     },
     "metadata": {},
     "output_type": "display_data"
    },
    {
     "name": "stdout",
     "output_type": "stream",
     "text": [
      "\r",
      " \r"
     ]
    },
    {
     "data": {
      "application/vnd.jupyter.widget-view+json": {
       "model_id": "",
       "version_major": 2,
       "version_minor": 0
      },
      "text/plain": [
       "HBox(children=(IntProgress(value=0, description='TCGA-HZ-A77O-01A_HTSeq-FPKM.txt.gz', max=522, style=ProgressS…"
      ]
     },
     "metadata": {},
     "output_type": "display_data"
    },
    {
     "name": "stdout",
     "output_type": "stream",
     "text": [
      "\r",
      " \r"
     ]
    },
    {
     "data": {
      "application/vnd.jupyter.widget-view+json": {
       "model_id": "",
       "version_major": 2,
       "version_minor": 0
      },
      "text/plain": [
       "HBox(children=(IntProgress(value=0, description='TCGA-F2-A8YN-01A_HTSeq-FPKM.txt.gz', max=522, style=ProgressS…"
      ]
     },
     "metadata": {},
     "output_type": "display_data"
    },
    {
     "name": "stdout",
     "output_type": "stream",
     "text": [
      "\r",
      " \r"
     ]
    },
    {
     "data": {
      "application/vnd.jupyter.widget-view+json": {
       "model_id": "",
       "version_major": 2,
       "version_minor": 0
      },
      "text/plain": [
       "HBox(children=(IntProgress(value=0, description='TCGA-3A-A9IZ-01A_HTSeq-Counts.txt.gz', max=256, style=Progres…"
      ]
     },
     "metadata": {},
     "output_type": "display_data"
    },
    {
     "name": "stdout",
     "output_type": "stream",
     "text": [
      "\r",
      " \r"
     ]
    },
    {
     "data": {
      "application/vnd.jupyter.widget-view+json": {
       "model_id": "",
       "version_major": 2,
       "version_minor": 0
      },
      "text/plain": [
       "HBox(children=(IntProgress(value=0, description='TCGA-US-A77G-01A_HTSeq-FPKM.txt.gz', max=532, style=ProgressS…"
      ]
     },
     "metadata": {},
     "output_type": "display_data"
    },
    {
     "name": "stdout",
     "output_type": "stream",
     "text": [
      "\r",
      " \r"
     ]
    },
    {
     "data": {
      "application/vnd.jupyter.widget-view+json": {
       "model_id": "",
       "version_major": 2,
       "version_minor": 0
      },
      "text/plain": [
       "HBox(children=(IntProgress(value=0, description='TCGA-IB-AAUW-01A_HTSeq-Counts.txt.gz', max=266, style=Progres…"
      ]
     },
     "metadata": {},
     "output_type": "display_data"
    },
    {
     "name": "stdout",
     "output_type": "stream",
     "text": [
      "\r",
      " \r"
     ]
    },
    {
     "data": {
      "application/vnd.jupyter.widget-view+json": {
       "model_id": "",
       "version_major": 2,
       "version_minor": 0
      },
      "text/plain": [
       "HBox(children=(IntProgress(value=0, description='TCGA-HV-A5A5-01A_HTSeq-Counts.txt.gz', max=256, style=Progres…"
      ]
     },
     "metadata": {},
     "output_type": "display_data"
    },
    {
     "name": "stdout",
     "output_type": "stream",
     "text": [
      "\r",
      " \r"
     ]
    },
    {
     "data": {
      "application/vnd.jupyter.widget-view+json": {
       "model_id": "",
       "version_major": 2,
       "version_minor": 0
      },
      "text/plain": [
       "HBox(children=(IntProgress(value=0, description='TCGA-XD-AAUI-01A_HTSeq-Counts.txt.gz', max=256, style=Progres…"
      ]
     },
     "metadata": {},
     "output_type": "display_data"
    },
    {
     "name": "stdout",
     "output_type": "stream",
     "text": [
      "\r",
      " \r"
     ]
    },
    {
     "data": {
      "application/vnd.jupyter.widget-view+json": {
       "model_id": "",
       "version_major": 2,
       "version_minor": 0
      },
      "text/plain": [
       "HBox(children=(IntProgress(value=0, description='TCGA-2L-AAQI-01A_HTSeq-FPKM-UQ.txt.gz', max=532, style=Progre…"
      ]
     },
     "metadata": {},
     "output_type": "display_data"
    },
    {
     "name": "stdout",
     "output_type": "stream",
     "text": [
      "\r",
      " \r"
     ]
    },
    {
     "data": {
      "application/vnd.jupyter.widget-view+json": {
       "model_id": "",
       "version_major": 2,
       "version_minor": 0
      },
      "text/plain": [
       "HBox(children=(IntProgress(value=0, description='TCGA-US-A779-01A_HTSeq-FPKM.txt.gz', max=532, style=ProgressS…"
      ]
     },
     "metadata": {},
     "output_type": "display_data"
    },
    {
     "name": "stdout",
     "output_type": "stream",
     "text": [
      "\r",
      " \r"
     ]
    },
    {
     "data": {
      "application/vnd.jupyter.widget-view+json": {
       "model_id": "",
       "version_major": 2,
       "version_minor": 0
      },
      "text/plain": [
       "HBox(children=(IntProgress(value=0, description='TCGA-YY-A8LH-01A_HTSeq-FPKM-UQ.txt.gz', max=543, style=Progre…"
      ]
     },
     "metadata": {},
     "output_type": "display_data"
    },
    {
     "name": "stdout",
     "output_type": "stream",
     "text": [
      "\r",
      " \r"
     ]
    },
    {
     "data": {
      "application/vnd.jupyter.widget-view+json": {
       "model_id": "",
       "version_major": 2,
       "version_minor": 0
      },
      "text/plain": [
       "HBox(children=(IntProgress(value=0, description='TCGA-IB-8126-01A_HTSeq-Counts.txt.gz', max=256, style=Progres…"
      ]
     },
     "metadata": {},
     "output_type": "display_data"
    },
    {
     "name": "stdout",
     "output_type": "stream",
     "text": [
      "\r",
      " \r"
     ]
    },
    {
     "data": {
      "application/vnd.jupyter.widget-view+json": {
       "model_id": "",
       "version_major": 2,
       "version_minor": 0
      },
      "text/plain": [
       "HBox(children=(IntProgress(value=0, description='TCGA-S4-A8RP-01A_HTSeq-FPKM.txt.gz', max=543, style=ProgressS…"
      ]
     },
     "metadata": {},
     "output_type": "display_data"
    },
    {
     "name": "stdout",
     "output_type": "stream",
     "text": [
      "\r",
      " \r"
     ]
    },
    {
     "data": {
      "application/vnd.jupyter.widget-view+json": {
       "model_id": "",
       "version_major": 2,
       "version_minor": 0
      },
      "text/plain": [
       "HBox(children=(IntProgress(value=0, description='TCGA-FB-AAQ1-01A_HTSeq-FPKM-UQ.txt.gz', max=522, style=Progre…"
      ]
     },
     "metadata": {},
     "output_type": "display_data"
    },
    {
     "name": "stdout",
     "output_type": "stream",
     "text": [
      "\r",
      " \r"
     ]
    },
    {
     "data": {
      "application/vnd.jupyter.widget-view+json": {
       "model_id": "",
       "version_major": 2,
       "version_minor": 0
      },
      "text/plain": [
       "HBox(children=(IntProgress(value=0, description='TCGA-HV-A7OP-01A_HTSeq-Counts.txt.gz', max=246, style=Progres…"
      ]
     },
     "metadata": {},
     "output_type": "display_data"
    },
    {
     "name": "stdout",
     "output_type": "stream",
     "text": [
      "\r",
      " \r"
     ]
    },
    {
     "data": {
      "application/vnd.jupyter.widget-view+json": {
       "model_id": "",
       "version_major": 2,
       "version_minor": 0
      },
      "text/plain": [
       "HBox(children=(IntProgress(value=0, description='TCGA-HZ-7924-01A_HTSeq-FPKM.txt.gz', max=543, style=ProgressS…"
      ]
     },
     "metadata": {},
     "output_type": "display_data"
    },
    {
     "name": "stdout",
     "output_type": "stream",
     "text": [
      "\r",
      " \r"
     ]
    },
    {
     "data": {
      "application/vnd.jupyter.widget-view+json": {
       "model_id": "",
       "version_major": 2,
       "version_minor": 0
      },
      "text/plain": [
       "HBox(children=(IntProgress(value=0, description='TCGA-LB-A9Q5-01A_HTSeq-Counts.txt.gz', max=256, style=Progres…"
      ]
     },
     "metadata": {},
     "output_type": "display_data"
    },
    {
     "name": "stdout",
     "output_type": "stream",
     "text": [
      "\r",
      " \r"
     ]
    },
    {
     "data": {
      "application/vnd.jupyter.widget-view+json": {
       "model_id": "",
       "version_major": 2,
       "version_minor": 0
      },
      "text/plain": [
       "HBox(children=(IntProgress(value=0, description='TCGA-2J-AABT-01A_HTSeq-Counts.txt.gz', max=256, style=Progres…"
      ]
     },
     "metadata": {},
     "output_type": "display_data"
    },
    {
     "name": "stdout",
     "output_type": "stream",
     "text": [
      "\r",
      " \r"
     ]
    },
    {
     "data": {
      "application/vnd.jupyter.widget-view+json": {
       "model_id": "",
       "version_major": 2,
       "version_minor": 0
      },
      "text/plain": [
       "HBox(children=(IntProgress(value=0, description='TCGA-HV-A5A4-01A_HTSeq-Counts.txt.gz', max=256, style=Progres…"
      ]
     },
     "metadata": {},
     "output_type": "display_data"
    },
    {
     "name": "stdout",
     "output_type": "stream",
     "text": [
      "\r",
      " \r"
     ]
    },
    {
     "data": {
      "application/vnd.jupyter.widget-view+json": {
       "model_id": "",
       "version_major": 2,
       "version_minor": 0
      },
      "text/plain": [
       "HBox(children=(IntProgress(value=0, description='TCGA-FB-AAPP-01A_HTSeq-FPKM-UQ.txt.gz', max=492, style=Progre…"
      ]
     },
     "metadata": {},
     "output_type": "display_data"
    },
    {
     "name": "stdout",
     "output_type": "stream",
     "text": [
      "\r",
      " \r"
     ]
    },
    {
     "data": {
      "application/vnd.jupyter.widget-view+json": {
       "model_id": "",
       "version_major": 2,
       "version_minor": 0
      },
      "text/plain": [
       "HBox(children=(IntProgress(value=0, description='TCGA-PZ-A5RE-01A_HTSeq-FPKM.txt.gz', max=522, style=ProgressS…"
      ]
     },
     "metadata": {},
     "output_type": "display_data"
    },
    {
     "name": "stdout",
     "output_type": "stream",
     "text": [
      "\r",
      " \r"
     ]
    },
    {
     "data": {
      "application/vnd.jupyter.widget-view+json": {
       "model_id": "",
       "version_major": 2,
       "version_minor": 0
      },
      "text/plain": [
       "HBox(children=(IntProgress(value=0, description='TCGA-IB-AAUS-01A_HTSeq-Counts.txt.gz', max=256, style=Progres…"
      ]
     },
     "metadata": {},
     "output_type": "display_data"
    },
    {
     "name": "stdout",
     "output_type": "stream",
     "text": [
      "\r",
      " \r"
     ]
    },
    {
     "data": {
      "application/vnd.jupyter.widget-view+json": {
       "model_id": "",
       "version_major": 2,
       "version_minor": 0
      },
      "text/plain": [
       "HBox(children=(IntProgress(value=0, description='TCGA-IB-8127-01A_HTSeq-Counts.txt.gz', max=266, style=Progres…"
      ]
     },
     "metadata": {},
     "output_type": "display_data"
    },
    {
     "name": "stdout",
     "output_type": "stream",
     "text": [
      "\r",
      " \r"
     ]
    },
    {
     "data": {
      "application/vnd.jupyter.widget-view+json": {
       "model_id": "",
       "version_major": 2,
       "version_minor": 0
      },
      "text/plain": [
       "HBox(children=(IntProgress(value=0, description='TCGA-H6-8124-11A_HTSeq-FPKM.txt.gz', max=543, style=ProgressS…"
      ]
     },
     "metadata": {},
     "output_type": "display_data"
    },
    {
     "name": "stdout",
     "output_type": "stream",
     "text": [
      "\r",
      " \r"
     ]
    },
    {
     "data": {
      "application/vnd.jupyter.widget-view+json": {
       "model_id": "",
       "version_major": 2,
       "version_minor": 0
      },
      "text/plain": [
       "HBox(children=(IntProgress(value=0, description='TCGA-HZ-8001-01A_HTSeq-FPKM-UQ.txt.gz', max=532, style=Progre…"
      ]
     },
     "metadata": {},
     "output_type": "display_data"
    },
    {
     "name": "stdout",
     "output_type": "stream",
     "text": [
      "\r",
      " \r"
     ]
    },
    {
     "data": {
      "application/vnd.jupyter.widget-view+json": {
       "model_id": "",
       "version_major": 2,
       "version_minor": 0
      },
      "text/plain": [
       "HBox(children=(IntProgress(value=0, description='TCGA-FB-AAQ2-01A_HTSeq-Counts.txt.gz', max=256, style=Progres…"
      ]
     },
     "metadata": {},
     "output_type": "display_data"
    },
    {
     "name": "stdout",
     "output_type": "stream",
     "text": [
      "\r",
      " \r"
     ]
    },
    {
     "data": {
      "application/vnd.jupyter.widget-view+json": {
       "model_id": "",
       "version_major": 2,
       "version_minor": 0
      },
      "text/plain": [
       "HBox(children=(IntProgress(value=0, description='TCGA-FB-AAPU-01A_HTSeq-FPKM.txt.gz', max=532, style=ProgressS…"
      ]
     },
     "metadata": {},
     "output_type": "display_data"
    },
    {
     "name": "stdout",
     "output_type": "stream",
     "text": [
      "\r",
      " \r"
     ]
    },
    {
     "data": {
      "application/vnd.jupyter.widget-view+json": {
       "model_id": "",
       "version_major": 2,
       "version_minor": 0
      },
      "text/plain": [
       "HBox(children=(IntProgress(value=0, description='TCGA-FB-AAPP-01A_HTSeq-Counts.txt.gz', max=246, style=Progres…"
      ]
     },
     "metadata": {},
     "output_type": "display_data"
    },
    {
     "name": "stdout",
     "output_type": "stream",
     "text": [
      "\r",
      " \r"
     ]
    },
    {
     "data": {
      "application/vnd.jupyter.widget-view+json": {
       "model_id": "",
       "version_major": 2,
       "version_minor": 0
      },
      "text/plain": [
       "HBox(children=(IntProgress(value=0, description='TCGA-IB-A5SP-01A_HTSeq-FPKM-UQ.txt.gz', max=532, style=Progre…"
      ]
     },
     "metadata": {},
     "output_type": "display_data"
    },
    {
     "name": "stdout",
     "output_type": "stream",
     "text": [
      "\r",
      " \r"
     ]
    },
    {
     "data": {
      "application/vnd.jupyter.widget-view+json": {
       "model_id": "",
       "version_major": 2,
       "version_minor": 0
      },
      "text/plain": [
       "HBox(children=(IntProgress(value=0, description='TCGA-HZ-7289-01A_HTSeq-FPKM-UQ.txt.gz', max=502, style=Progre…"
      ]
     },
     "metadata": {},
     "output_type": "display_data"
    },
    {
     "name": "stdout",
     "output_type": "stream",
     "text": [
      "\r",
      " \r"
     ]
    },
    {
     "data": {
      "application/vnd.jupyter.widget-view+json": {
       "model_id": "",
       "version_major": 2,
       "version_minor": 0
      },
      "text/plain": [
       "HBox(children=(IntProgress(value=0, description='TCGA-FB-A5VM-01A_HTSeq-FPKM-UQ.txt.gz', max=522, style=Progre…"
      ]
     },
     "metadata": {},
     "output_type": "display_data"
    },
    {
     "name": "stdout",
     "output_type": "stream",
     "text": [
      "\r",
      " \r"
     ]
    },
    {
     "data": {
      "application/vnd.jupyter.widget-view+json": {
       "model_id": "",
       "version_major": 2,
       "version_minor": 0
      },
      "text/plain": [
       "HBox(children=(IntProgress(value=0, description='TCGA-XD-AAUH-01A_HTSeq-FPKM-UQ.txt.gz', max=532, style=Progre…"
      ]
     },
     "metadata": {},
     "output_type": "display_data"
    },
    {
     "name": "stdout",
     "output_type": "stream",
     "text": [
      "\r",
      " \r"
     ]
    },
    {
     "data": {
      "application/vnd.jupyter.widget-view+json": {
       "model_id": "",
       "version_major": 2,
       "version_minor": 0
      },
      "text/plain": [
       "HBox(children=(IntProgress(value=0, description='TCGA-S4-A8RM-01A_HTSeq-FPKM.txt.gz', max=543, style=ProgressS…"
      ]
     },
     "metadata": {},
     "output_type": "display_data"
    },
    {
     "name": "stdout",
     "output_type": "stream",
     "text": [
      "\r",
      " \r"
     ]
    },
    {
     "data": {
      "application/vnd.jupyter.widget-view+json": {
       "model_id": "",
       "version_major": 2,
       "version_minor": 0
      },
      "text/plain": [
       "HBox(children=(IntProgress(value=0, description='TCGA-HZ-7923-01A_HTSeq-FPKM-UQ.txt.gz', max=563, style=Progre…"
      ]
     },
     "metadata": {},
     "output_type": "display_data"
    },
    {
     "name": "stdout",
     "output_type": "stream",
     "text": [
      "\r",
      " \r"
     ]
    },
    {
     "data": {
      "application/vnd.jupyter.widget-view+json": {
       "model_id": "",
       "version_major": 2,
       "version_minor": 0
      },
      "text/plain": [
       "HBox(children=(IntProgress(value=0, description='TCGA-F2-7273-01A_HTSeq-Counts.txt.gz', max=266, style=Progres…"
      ]
     },
     "metadata": {},
     "output_type": "display_data"
    },
    {
     "name": "stdout",
     "output_type": "stream",
     "text": [
      "\r",
      " \r"
     ]
    },
    {
     "data": {
      "application/vnd.jupyter.widget-view+json": {
       "model_id": "",
       "version_major": 2,
       "version_minor": 0
      },
      "text/plain": [
       "HBox(children=(IntProgress(value=0, description='TCGA-IB-AAUQ-01A_HTSeq-FPKM.txt.gz', max=532, style=ProgressS…"
      ]
     },
     "metadata": {},
     "output_type": "display_data"
    },
    {
     "name": "stdout",
     "output_type": "stream",
     "text": [
      "\r",
      " \r"
     ]
    },
    {
     "data": {
      "application/vnd.jupyter.widget-view+json": {
       "model_id": "",
       "version_major": 2,
       "version_minor": 0
      },
      "text/plain": [
       "HBox(children=(IntProgress(value=0, description='TCGA-HZ-8001-01A_HTSeq-Counts.txt.gz', max=266, style=Progres…"
      ]
     },
     "metadata": {},
     "output_type": "display_data"
    },
    {
     "name": "stdout",
     "output_type": "stream",
     "text": [
      "\r",
      " \r"
     ]
    },
    {
     "data": {
      "application/vnd.jupyter.widget-view+json": {
       "model_id": "",
       "version_major": 2,
       "version_minor": 0
      },
      "text/plain": [
       "HBox(children=(IntProgress(value=0, description='TCGA-HZ-A4BH-01A_HTSeq-Counts.txt.gz', max=256, style=Progres…"
      ]
     },
     "metadata": {},
     "output_type": "display_data"
    },
    {
     "name": "stdout",
     "output_type": "stream",
     "text": [
      "\r",
      " \r"
     ]
    },
    {
     "data": {
      "application/vnd.jupyter.widget-view+json": {
       "model_id": "",
       "version_major": 2,
       "version_minor": 0
      },
      "text/plain": [
       "HBox(children=(IntProgress(value=0, description='TCGA-3A-A9IN-01A_HTSeq-Counts.txt.gz', max=256, style=Progres…"
      ]
     },
     "metadata": {},
     "output_type": "display_data"
    },
    {
     "name": "stdout",
     "output_type": "stream",
     "text": [
      "\r",
      " \r"
     ]
    },
    {
     "data": {
      "application/vnd.jupyter.widget-view+json": {
       "model_id": "",
       "version_major": 2,
       "version_minor": 0
      },
      "text/plain": [
       "HBox(children=(IntProgress(value=0, description='TCGA-IB-7885-01A_HTSeq-FPKM.txt.gz', max=532, style=ProgressS…"
      ]
     },
     "metadata": {},
     "output_type": "display_data"
    },
    {
     "name": "stdout",
     "output_type": "stream",
     "text": [
      "\r",
      " \r"
     ]
    },
    {
     "data": {
      "application/vnd.jupyter.widget-view+json": {
       "model_id": "",
       "version_major": 2,
       "version_minor": 0
      },
      "text/plain": [
       "HBox(children=(IntProgress(value=0, description='TCGA-HZ-7922-01A_HTSeq-Counts.txt.gz', max=256, style=Progres…"
      ]
     },
     "metadata": {},
     "output_type": "display_data"
    },
    {
     "name": "stdout",
     "output_type": "stream",
     "text": [
      "\r",
      " \r"
     ]
    },
    {
     "data": {
      "application/vnd.jupyter.widget-view+json": {
       "model_id": "",
       "version_major": 2,
       "version_minor": 0
      },
      "text/plain": [
       "HBox(children=(IntProgress(value=0, description='TCGA-IB-7888-01A_HTSeq-FPKM.txt.gz', max=522, style=ProgressS…"
      ]
     },
     "metadata": {},
     "output_type": "display_data"
    },
    {
     "name": "stdout",
     "output_type": "stream",
     "text": [
      "\r",
      " \r"
     ]
    },
    {
     "data": {
      "application/vnd.jupyter.widget-view+json": {
       "model_id": "",
       "version_major": 2,
       "version_minor": 0
      },
      "text/plain": [
       "HBox(children=(IntProgress(value=0, description='TCGA-IB-A5ST-01A_HTSeq-FPKM.txt.gz', max=532, style=ProgressS…"
      ]
     },
     "metadata": {},
     "output_type": "display_data"
    },
    {
     "name": "stdout",
     "output_type": "stream",
     "text": [
      "\r",
      " \r"
     ]
    },
    {
     "data": {
      "application/vnd.jupyter.widget-view+json": {
       "model_id": "",
       "version_major": 2,
       "version_minor": 0
      },
      "text/plain": [
       "HBox(children=(IntProgress(value=0, description='TCGA-US-A776-01A_HTSeq-Counts.txt.gz', max=256, style=Progres…"
      ]
     },
     "metadata": {},
     "output_type": "display_data"
    },
    {
     "name": "stdout",
     "output_type": "stream",
     "text": [
      "\r",
      " \r"
     ]
    },
    {
     "data": {
      "application/vnd.jupyter.widget-view+json": {
       "model_id": "",
       "version_major": 2,
       "version_minor": 0
      },
      "text/plain": [
       "HBox(children=(IntProgress(value=0, description='TCGA-3A-A9IL-01A_HTSeq-FPKM.txt.gz', max=532, style=ProgressS…"
      ]
     },
     "metadata": {},
     "output_type": "display_data"
    },
    {
     "name": "stdout",
     "output_type": "stream",
     "text": [
      "\r",
      " \r"
     ]
    },
    {
     "data": {
      "application/vnd.jupyter.widget-view+json": {
       "model_id": "",
       "version_major": 2,
       "version_minor": 0
      },
      "text/plain": [
       "HBox(children=(IntProgress(value=0, description='TCGA-IB-AAUW-01A_HTSeq-FPKM-UQ.txt.gz', max=553, style=Progre…"
      ]
     },
     "metadata": {},
     "output_type": "display_data"
    },
    {
     "name": "stdout",
     "output_type": "stream",
     "text": [
      "\r",
      " \r"
     ]
    },
    {
     "data": {
      "application/vnd.jupyter.widget-view+json": {
       "model_id": "",
       "version_major": 2,
       "version_minor": 0
      },
      "text/plain": [
       "HBox(children=(IntProgress(value=0, description='TCGA-IB-A5SO-01A_HTSeq-FPKM.txt.gz', max=543, style=ProgressS…"
      ]
     },
     "metadata": {},
     "output_type": "display_data"
    },
    {
     "name": "stdout",
     "output_type": "stream",
     "text": [
      "\r",
      " \r"
     ]
    },
    {
     "data": {
      "application/vnd.jupyter.widget-view+json": {
       "model_id": "",
       "version_major": 2,
       "version_minor": 0
      },
      "text/plain": [
       "HBox(children=(IntProgress(value=0, description='TCGA-XD-AAUG-01A_HTSeq-Counts.txt.gz', max=256, style=Progres…"
      ]
     },
     "metadata": {},
     "output_type": "display_data"
    },
    {
     "name": "stdout",
     "output_type": "stream",
     "text": [
      "\r",
      " \r"
     ]
    },
    {
     "data": {
      "application/vnd.jupyter.widget-view+json": {
       "model_id": "",
       "version_major": 2,
       "version_minor": 0
      },
      "text/plain": [
       "HBox(children=(IntProgress(value=0, description='TCGA-3A-A9IV-01A_HTSeq-FPKM-UQ.txt.gz', max=512, style=Progre…"
      ]
     },
     "metadata": {},
     "output_type": "display_data"
    },
    {
     "name": "stdout",
     "output_type": "stream",
     "text": [
      "\r",
      " \r"
     ]
    },
    {
     "data": {
      "application/vnd.jupyter.widget-view+json": {
       "model_id": "",
       "version_major": 2,
       "version_minor": 0
      },
      "text/plain": [
       "HBox(children=(IntProgress(value=0, description='TCGA-2L-AAQJ-01A_HTSeq-FPKM.txt.gz', max=522, style=ProgressS…"
      ]
     },
     "metadata": {},
     "output_type": "display_data"
    },
    {
     "name": "stdout",
     "output_type": "stream",
     "text": [
      "\r",
      " \r"
     ]
    },
    {
     "data": {
      "application/vnd.jupyter.widget-view+json": {
       "model_id": "",
       "version_major": 2,
       "version_minor": 0
      },
      "text/plain": [
       "HBox(children=(IntProgress(value=0, description='TCGA-IB-AAUQ-01A_HTSeq-FPKM-UQ.txt.gz', max=543, style=Progre…"
      ]
     },
     "metadata": {},
     "output_type": "display_data"
    },
    {
     "name": "stdout",
     "output_type": "stream",
     "text": [
      "\r",
      " \r"
     ]
    },
    {
     "data": {
      "application/vnd.jupyter.widget-view+json": {
       "model_id": "",
       "version_major": 2,
       "version_minor": 0
      },
      "text/plain": [
       "HBox(children=(IntProgress(value=0, description='TCGA-S4-A8RM-01A_HTSeq-Counts.txt.gz', max=266, style=Progres…"
      ]
     },
     "metadata": {},
     "output_type": "display_data"
    },
    {
     "name": "stdout",
     "output_type": "stream",
     "text": [
      "\r",
      " \r"
     ]
    },
    {
     "data": {
      "application/vnd.jupyter.widget-view+json": {
       "model_id": "",
       "version_major": 2,
       "version_minor": 0
      },
      "text/plain": [
       "HBox(children=(IntProgress(value=0, description='TCGA-2J-AABT-01A_HTSeq-FPKM-UQ.txt.gz', max=522, style=Progre…"
      ]
     },
     "metadata": {},
     "output_type": "display_data"
    },
    {
     "name": "stdout",
     "output_type": "stream",
     "text": [
      "\r",
      " \r"
     ]
    },
    {
     "data": {
      "application/vnd.jupyter.widget-view+json": {
       "model_id": "",
       "version_major": 2,
       "version_minor": 0
      },
      "text/plain": [
       "HBox(children=(IntProgress(value=0, description='TCGA-3E-AAAZ-01A_HTSeq-Counts.txt.gz', max=266, style=Progres…"
      ]
     },
     "metadata": {},
     "output_type": "display_data"
    },
    {
     "name": "stdout",
     "output_type": "stream",
     "text": [
      "\r",
      " \r"
     ]
    },
    {
     "data": {
      "application/vnd.jupyter.widget-view+json": {
       "model_id": "",
       "version_major": 2,
       "version_minor": 0
      },
      "text/plain": [
       "HBox(children=(IntProgress(value=0, description='TCGA-3A-A9IS-01A_HTSeq-FPKM.txt.gz', max=512, style=ProgressS…"
      ]
     },
     "metadata": {},
     "output_type": "display_data"
    },
    {
     "name": "stdout",
     "output_type": "stream",
     "text": [
      "\r",
      " \r"
     ]
    },
    {
     "data": {
      "application/vnd.jupyter.widget-view+json": {
       "model_id": "",
       "version_major": 2,
       "version_minor": 0
      },
      "text/plain": [
       "HBox(children=(IntProgress(value=0, description='TCGA-F2-A44G-01A_HTSeq-FPKM-UQ.txt.gz', max=543, style=Progre…"
      ]
     },
     "metadata": {},
     "output_type": "display_data"
    },
    {
     "name": "stdout",
     "output_type": "stream",
     "text": [
      "\r",
      " \r"
     ]
    },
    {
     "data": {
      "application/vnd.jupyter.widget-view+json": {
       "model_id": "",
       "version_major": 2,
       "version_minor": 0
      },
      "text/plain": [
       "HBox(children=(IntProgress(value=0, description='TCGA-IB-7897-01A_HTSeq-FPKM-UQ.txt.gz', max=553, style=Progre…"
      ]
     },
     "metadata": {},
     "output_type": "display_data"
    },
    {
     "name": "stdout",
     "output_type": "stream",
     "text": [
      "\r",
      " \r"
     ]
    },
    {
     "data": {
      "application/vnd.jupyter.widget-view+json": {
       "model_id": "",
       "version_major": 2,
       "version_minor": 0
      },
      "text/plain": [
       "HBox(children=(IntProgress(value=0, description='TCGA-HV-AA8V-01A_HTSeq-FPKM.txt.gz', max=543, style=ProgressS…"
      ]
     },
     "metadata": {},
     "output_type": "display_data"
    },
    {
     "name": "stdout",
     "output_type": "stream",
     "text": [
      "\r",
      " \r"
     ]
    },
    {
     "data": {
      "application/vnd.jupyter.widget-view+json": {
       "model_id": "",
       "version_major": 2,
       "version_minor": 0
      },
      "text/plain": [
       "HBox(children=(IntProgress(value=0, description='TCGA-IB-7654-01A_HTSeq-FPKM.txt.gz', max=532, style=ProgressS…"
      ]
     },
     "metadata": {},
     "output_type": "display_data"
    },
    {
     "name": "stdout",
     "output_type": "stream",
     "text": [
      "\r",
      " \r"
     ]
    },
    {
     "data": {
      "application/vnd.jupyter.widget-view+json": {
       "model_id": "",
       "version_major": 2,
       "version_minor": 0
      },
      "text/plain": [
       "HBox(children=(IntProgress(value=0, description='TCGA-2J-AABO-01A_HTSeq-FPKM-UQ.txt.gz', max=512, style=Progre…"
      ]
     },
     "metadata": {},
     "output_type": "display_data"
    },
    {
     "name": "stdout",
     "output_type": "stream",
     "text": [
      "\r",
      " \r"
     ]
    },
    {
     "data": {
      "application/vnd.jupyter.widget-view+json": {
       "model_id": "",
       "version_major": 2,
       "version_minor": 0
      },
      "text/plain": [
       "HBox(children=(IntProgress(value=0, description='TCGA-HZ-7922-01A_HTSeq-FPKM-UQ.txt.gz', max=532, style=Progre…"
      ]
     },
     "metadata": {},
     "output_type": "display_data"
    },
    {
     "name": "stdout",
     "output_type": "stream",
     "text": [
      "\r",
      " \r"
     ]
    },
    {
     "data": {
      "application/vnd.jupyter.widget-view+json": {
       "model_id": "",
       "version_major": 2,
       "version_minor": 0
      },
      "text/plain": [
       "HBox(children=(IntProgress(value=0, description='TCGA-HV-AA8X-01A_HTSeq-FPKM.txt.gz', max=532, style=ProgressS…"
      ]
     },
     "metadata": {},
     "output_type": "display_data"
    },
    {
     "name": "stdout",
     "output_type": "stream",
     "text": [
      "\r",
      " \r"
     ]
    },
    {
     "data": {
      "application/vnd.jupyter.widget-view+json": {
       "model_id": "",
       "version_major": 2,
       "version_minor": 0
      },
      "text/plain": [
       "HBox(children=(IntProgress(value=0, description='TCGA-HV-A5A5-01A_HTSeq-FPKM-UQ.txt.gz', max=522, style=Progre…"
      ]
     },
     "metadata": {},
     "output_type": "display_data"
    },
    {
     "name": "stdout",
     "output_type": "stream",
     "text": [
      "\r",
      " \r"
     ]
    },
    {
     "data": {
      "application/vnd.jupyter.widget-view+json": {
       "model_id": "",
       "version_major": 2,
       "version_minor": 0
      },
      "text/plain": [
       "HBox(children=(IntProgress(value=0, description='TCGA-F2-A44G-01A_HTSeq-FPKM.txt.gz', max=543, style=ProgressS…"
      ]
     },
     "metadata": {},
     "output_type": "display_data"
    },
    {
     "name": "stdout",
     "output_type": "stream",
     "text": [
      "\r",
      " \r"
     ]
    },
    {
     "data": {
      "application/vnd.jupyter.widget-view+json": {
       "model_id": "",
       "version_major": 2,
       "version_minor": 0
      },
      "text/plain": [
       "HBox(children=(IntProgress(value=0, description='TCGA-IB-7645-01A_HTSeq-Counts.txt.gz', max=256, style=Progres…"
      ]
     },
     "metadata": {},
     "output_type": "display_data"
    },
    {
     "name": "stdout",
     "output_type": "stream",
     "text": [
      "\r",
      " \r"
     ]
    },
    {
     "data": {
      "application/vnd.jupyter.widget-view+json": {
       "model_id": "",
       "version_major": 2,
       "version_minor": 0
      },
      "text/plain": [
       "HBox(children=(IntProgress(value=0, description='TCGA-IB-AAUP-01A_HTSeq-FPKM.txt.gz', max=543, style=ProgressS…"
      ]
     },
     "metadata": {},
     "output_type": "display_data"
    },
    {
     "name": "stdout",
     "output_type": "stream",
     "text": [
      "\r",
      " \r"
     ]
    },
    {
     "data": {
      "application/vnd.jupyter.widget-view+json": {
       "model_id": "",
       "version_major": 2,
       "version_minor": 0
      },
      "text/plain": [
       "HBox(children=(IntProgress(value=0, description='TCGA-2J-AABV-01A_HTSeq-Counts.txt.gz', max=246, style=Progres…"
      ]
     },
     "metadata": {},
     "output_type": "display_data"
    },
    {
     "name": "stdout",
     "output_type": "stream",
     "text": [
      "\r",
      " \r"
     ]
    },
    {
     "data": {
      "application/vnd.jupyter.widget-view+json": {
       "model_id": "",
       "version_major": 2,
       "version_minor": 0
      },
      "text/plain": [
       "HBox(children=(IntProgress(value=0, description='TCGA-H6-A45N-01A_HTSeq-FPKM-UQ.txt.gz', max=532, style=Progre…"
      ]
     },
     "metadata": {},
     "output_type": "display_data"
    },
    {
     "name": "stdout",
     "output_type": "stream",
     "text": [
      "\r",
      " \r"
     ]
    },
    {
     "data": {
      "application/vnd.jupyter.widget-view+json": {
       "model_id": "",
       "version_major": 2,
       "version_minor": 0
      },
      "text/plain": [
       "HBox(children=(IntProgress(value=0, description='TCGA-HZ-A77Q-01A_HTSeq-FPKM.txt.gz', max=522, style=ProgressS…"
      ]
     },
     "metadata": {},
     "output_type": "display_data"
    },
    {
     "name": "stdout",
     "output_type": "stream",
     "text": [
      "\r",
      " \r"
     ]
    },
    {
     "data": {
      "application/vnd.jupyter.widget-view+json": {
       "model_id": "",
       "version_major": 2,
       "version_minor": 0
      },
      "text/plain": [
       "HBox(children=(IntProgress(value=0, description='TCGA-IB-A5ST-01A_HTSeq-Counts.txt.gz', max=256, style=Progres…"
      ]
     },
     "metadata": {},
     "output_type": "display_data"
    },
    {
     "name": "stdout",
     "output_type": "stream",
     "text": [
      "\r",
      " \r"
     ]
    },
    {
     "data": {
      "application/vnd.jupyter.widget-view+json": {
       "model_id": "",
       "version_major": 2,
       "version_minor": 0
      },
      "text/plain": [
       "HBox(children=(IntProgress(value=0, description='TCGA-HZ-8005-01A_HTSeq-FPKM-UQ.txt.gz', max=512, style=Progre…"
      ]
     },
     "metadata": {},
     "output_type": "display_data"
    },
    {
     "name": "stdout",
     "output_type": "stream",
     "text": [
      "\r",
      " \r"
     ]
    },
    {
     "data": {
      "application/vnd.jupyter.widget-view+json": {
       "model_id": "",
       "version_major": 2,
       "version_minor": 0
      },
      "text/plain": [
       "HBox(children=(IntProgress(value=0, description='TCGA-3A-A9IB-01A_HTSeq-Counts.txt.gz', max=256, style=Progres…"
      ]
     },
     "metadata": {},
     "output_type": "display_data"
    },
    {
     "name": "stdout",
     "output_type": "stream",
     "text": [
      "\r",
      " \r"
     ]
    },
    {
     "data": {
      "application/vnd.jupyter.widget-view+json": {
       "model_id": "",
       "version_major": 2,
       "version_minor": 0
      },
      "text/plain": [
       "HBox(children=(IntProgress(value=0, description='TCGA-FB-A7DR-01A_HTSeq-FPKM-UQ.txt.gz', max=532, style=Progre…"
      ]
     },
     "metadata": {},
     "output_type": "display_data"
    },
    {
     "name": "stdout",
     "output_type": "stream",
     "text": [
      "\r",
      " \r"
     ]
    },
    {
     "data": {
      "application/vnd.jupyter.widget-view+json": {
       "model_id": "",
       "version_major": 2,
       "version_minor": 0
      },
      "text/plain": [
       "HBox(children=(IntProgress(value=0, description='TCGA-US-A77E-01A_HTSeq-Counts.txt.gz', max=256, style=Progres…"
      ]
     },
     "metadata": {},
     "output_type": "display_data"
    },
    {
     "name": "stdout",
     "output_type": "stream",
     "text": [
      "\r",
      " \r"
     ]
    },
    {
     "data": {
      "application/vnd.jupyter.widget-view+json": {
       "model_id": "",
       "version_major": 2,
       "version_minor": 0
      },
      "text/plain": [
       "HBox(children=(IntProgress(value=0, description='TCGA-US-A77J-01A_HTSeq-Counts.txt.gz', max=256, style=Progres…"
      ]
     },
     "metadata": {},
     "output_type": "display_data"
    },
    {
     "name": "stdout",
     "output_type": "stream",
     "text": [
      "\r",
      " \r"
     ]
    },
    {
     "data": {
      "application/vnd.jupyter.widget-view+json": {
       "model_id": "",
       "version_major": 2,
       "version_minor": 0
      },
      "text/plain": [
       "HBox(children=(IntProgress(value=0, description='TCGA-FB-A4P5-01A_HTSeq-Counts.txt.gz', max=256, style=Progres…"
      ]
     },
     "metadata": {},
     "output_type": "display_data"
    },
    {
     "name": "stdout",
     "output_type": "stream",
     "text": [
      "\r",
      " \r"
     ]
    },
    {
     "data": {
      "application/vnd.jupyter.widget-view+json": {
       "model_id": "",
       "version_major": 2,
       "version_minor": 0
      },
      "text/plain": [
       "HBox(children=(IntProgress(value=0, description='TCGA-HZ-A8P0-01A_HTSeq-FPKM.txt.gz', max=532, style=ProgressS…"
      ]
     },
     "metadata": {},
     "output_type": "display_data"
    },
    {
     "name": "stdout",
     "output_type": "stream",
     "text": [
      "\r",
      " \r"
     ]
    },
    {
     "data": {
      "application/vnd.jupyter.widget-view+json": {
       "model_id": "",
       "version_major": 2,
       "version_minor": 0
      },
      "text/plain": [
       "HBox(children=(IntProgress(value=0, description='TCGA-XN-A8T5-01A_HTSeq-FPKM.txt.gz', max=532, style=ProgressS…"
      ]
     },
     "metadata": {},
     "output_type": "display_data"
    },
    {
     "name": "stdout",
     "output_type": "stream",
     "text": [
      "\r",
      " \r"
     ]
    },
    {
     "data": {
      "application/vnd.jupyter.widget-view+json": {
       "model_id": "",
       "version_major": 2,
       "version_minor": 0
      },
      "text/plain": [
       "HBox(children=(IntProgress(value=0, description='TCGA-2J-AABP-01A_HTSeq-FPKM.txt.gz', max=512, style=ProgressS…"
      ]
     },
     "metadata": {},
     "output_type": "display_data"
    },
    {
     "name": "stdout",
     "output_type": "stream",
     "text": [
      "\r",
      " \r"
     ]
    },
    {
     "data": {
      "application/vnd.jupyter.widget-view+json": {
       "model_id": "",
       "version_major": 2,
       "version_minor": 0
      },
      "text/plain": [
       "HBox(children=(IntProgress(value=0, description='TCGA-IB-A6UF-01A_HTSeq-FPKM-UQ.txt.gz', max=543, style=Progre…"
      ]
     },
     "metadata": {},
     "output_type": "display_data"
    },
    {
     "name": "stdout",
     "output_type": "stream",
     "text": [
      "\r",
      " \r"
     ]
    },
    {
     "data": {
      "application/vnd.jupyter.widget-view+json": {
       "model_id": "",
       "version_major": 2,
       "version_minor": 0
      },
      "text/plain": [
       "HBox(children=(IntProgress(value=0, description='TCGA-FB-A4P5-01A_HTSeq-FPKM-UQ.txt.gz', max=522, style=Progre…"
      ]
     },
     "metadata": {},
     "output_type": "display_data"
    },
    {
     "name": "stdout",
     "output_type": "stream",
     "text": [
      "\r",
      " \r"
     ]
    },
    {
     "data": {
      "application/vnd.jupyter.widget-view+json": {
       "model_id": "",
       "version_major": 2,
       "version_minor": 0
      },
      "text/plain": [
       "HBox(children=(IntProgress(value=0, description='TCGA-2L-AAQM-01A_HTSeq-FPKM-UQ.txt.gz', max=532, style=Progre…"
      ]
     },
     "metadata": {},
     "output_type": "display_data"
    },
    {
     "name": "stdout",
     "output_type": "stream",
     "text": [
      "\r",
      " \r"
     ]
    },
    {
     "data": {
      "application/vnd.jupyter.widget-view+json": {
       "model_id": "",
       "version_major": 2,
       "version_minor": 0
      },
      "text/plain": [
       "HBox(children=(IntProgress(value=0, description='TCGA-HZ-7919-01A_HTSeq-FPKM.txt.gz', max=532, style=ProgressS…"
      ]
     },
     "metadata": {},
     "output_type": "display_data"
    },
    {
     "name": "stdout",
     "output_type": "stream",
     "text": [
      "\r",
      " \r"
     ]
    },
    {
     "data": {
      "application/vnd.jupyter.widget-view+json": {
       "model_id": "",
       "version_major": 2,
       "version_minor": 0
      },
      "text/plain": [
       "HBox(children=(IntProgress(value=0, description='TCGA-3A-A9IC-01A_HTSeq-FPKM.txt.gz', max=532, style=ProgressS…"
      ]
     },
     "metadata": {},
     "output_type": "display_data"
    },
    {
     "name": "stdout",
     "output_type": "stream",
     "text": [
      "\r",
      " \r"
     ]
    },
    {
     "data": {
      "application/vnd.jupyter.widget-view+json": {
       "model_id": "",
       "version_major": 2,
       "version_minor": 0
      },
      "text/plain": [
       "HBox(children=(IntProgress(value=0, description='TCGA-F2-A44G-01A_HTSeq-Counts.txt.gz', max=256, style=Progres…"
      ]
     },
     "metadata": {},
     "output_type": "display_data"
    },
    {
     "name": "stdout",
     "output_type": "stream",
     "text": [
      "\r",
      " \r"
     ]
    },
    {
     "data": {
      "application/vnd.jupyter.widget-view+json": {
       "model_id": "",
       "version_major": 2,
       "version_minor": 0
      },
      "text/plain": [
       "HBox(children=(IntProgress(value=0, description='TCGA-F2-A44H-01A_HTSeq-FPKM.txt.gz', max=502, style=ProgressS…"
      ]
     },
     "metadata": {},
     "output_type": "display_data"
    },
    {
     "name": "stdout",
     "output_type": "stream",
     "text": [
      "\r",
      " \r"
     ]
    },
    {
     "data": {
      "application/vnd.jupyter.widget-view+json": {
       "model_id": "",
       "version_major": 2,
       "version_minor": 0
      },
      "text/plain": [
       "HBox(children=(IntProgress(value=0, description='TCGA-IB-7886-01A_HTSeq-FPKM-UQ.txt.gz', max=543, style=Progre…"
      ]
     },
     "metadata": {},
     "output_type": "display_data"
    },
    {
     "name": "stdout",
     "output_type": "stream",
     "text": [
      "\r",
      " \r"
     ]
    },
    {
     "data": {
      "application/vnd.jupyter.widget-view+json": {
       "model_id": "",
       "version_major": 2,
       "version_minor": 0
      },
      "text/plain": [
       "HBox(children=(IntProgress(value=0, description='TCGA-HZ-A4BK-01A_HTSeq-FPKM-UQ.txt.gz', max=532, style=Progre…"
      ]
     },
     "metadata": {},
     "output_type": "display_data"
    },
    {
     "name": "stdout",
     "output_type": "stream",
     "text": [
      "\r",
      " \r"
     ]
    },
    {
     "data": {
      "application/vnd.jupyter.widget-view+json": {
       "model_id": "",
       "version_major": 2,
       "version_minor": 0
      },
      "text/plain": [
       "HBox(children=(IntProgress(value=0, description='TCGA-3E-AAAZ-01A_HTSeq-FPKM-UQ.txt.gz', max=543, style=Progre…"
      ]
     },
     "metadata": {},
     "output_type": "display_data"
    },
    {
     "name": "stdout",
     "output_type": "stream",
     "text": [
      "\r",
      " \r"
     ]
    },
    {
     "data": {
      "application/vnd.jupyter.widget-view+json": {
       "model_id": "",
       "version_major": 2,
       "version_minor": 0
      },
      "text/plain": [
       "HBox(children=(IntProgress(value=0, description='TCGA-IB-A7M4-01A_HTSeq-FPKM.txt.gz', max=532, style=ProgressS…"
      ]
     },
     "metadata": {},
     "output_type": "display_data"
    },
    {
     "name": "stdout",
     "output_type": "stream",
     "text": [
      "\r",
      " \r"
     ]
    },
    {
     "data": {
      "application/vnd.jupyter.widget-view+json": {
       "model_id": "",
       "version_major": 2,
       "version_minor": 0
      },
      "text/plain": [
       "HBox(children=(IntProgress(value=0, description='TCGA-US-A774-01A_HTSeq-Counts.txt.gz', max=256, style=Progres…"
      ]
     },
     "metadata": {},
     "output_type": "display_data"
    },
    {
     "name": "stdout",
     "output_type": "stream",
     "text": [
      "\r",
      " \r"
     ]
    },
    {
     "data": {
      "application/vnd.jupyter.widget-view+json": {
       "model_id": "",
       "version_major": 2,
       "version_minor": 0
      },
      "text/plain": [
       "HBox(children=(IntProgress(value=0, description='TCGA-XD-AAUL-01A_HTSeq-Counts.txt.gz', max=256, style=Progres…"
      ]
     },
     "metadata": {},
     "output_type": "display_data"
    },
    {
     "name": "stdout",
     "output_type": "stream",
     "text": [
      "\r",
      " \r"
     ]
    },
    {
     "data": {
      "application/vnd.jupyter.widget-view+json": {
       "model_id": "",
       "version_major": 2,
       "version_minor": 0
      },
      "text/plain": [
       "HBox(children=(IntProgress(value=0, description='TCGA-RB-A7B8-01A_HTSeq-Counts.txt.gz', max=256, style=Progres…"
      ]
     },
     "metadata": {},
     "output_type": "display_data"
    },
    {
     "name": "stdout",
     "output_type": "stream",
     "text": [
      "\r",
      " \r"
     ]
    },
    {
     "data": {
      "application/vnd.jupyter.widget-view+json": {
       "model_id": "",
       "version_major": 2,
       "version_minor": 0
      },
      "text/plain": [
       "HBox(children=(IntProgress(value=0, description='TCGA-IB-A5SO-01A_HTSeq-Counts.txt.gz', max=266, style=Progres…"
      ]
     },
     "metadata": {},
     "output_type": "display_data"
    },
    {
     "name": "stdout",
     "output_type": "stream",
     "text": [
      "\r",
      " \r"
     ]
    },
    {
     "data": {
      "application/vnd.jupyter.widget-view+json": {
       "model_id": "",
       "version_major": 2,
       "version_minor": 0
      },
      "text/plain": [
       "HBox(children=(IntProgress(value=0, description='TCGA-IB-AAUR-01A_HTSeq-FPKM-UQ.txt.gz', max=553, style=Progre…"
      ]
     },
     "metadata": {},
     "output_type": "display_data"
    },
    {
     "name": "stdout",
     "output_type": "stream",
     "text": [
      "\r",
      " \r"
     ]
    },
    {
     "data": {
      "application/vnd.jupyter.widget-view+json": {
       "model_id": "",
       "version_major": 2,
       "version_minor": 0
      },
      "text/plain": [
       "HBox(children=(IntProgress(value=0, description='TCGA-IB-7652-01A_HTSeq-Counts.txt.gz', max=266, style=Progres…"
      ]
     },
     "metadata": {},
     "output_type": "display_data"
    },
    {
     "name": "stdout",
     "output_type": "stream",
     "text": [
      "\r",
      " \r"
     ]
    },
    {
     "data": {
      "application/vnd.jupyter.widget-view+json": {
       "model_id": "",
       "version_major": 2,
       "version_minor": 0
      },
      "text/plain": [
       "HBox(children=(IntProgress(value=0, description='TCGA-2J-AABA-01A_HTSeq-FPKM-UQ.txt.gz', max=532, style=Progre…"
      ]
     },
     "metadata": {},
     "output_type": "display_data"
    },
    {
     "name": "stdout",
     "output_type": "stream",
     "text": [
      "\r",
      " \r"
     ]
    },
    {
     "data": {
      "application/vnd.jupyter.widget-view+json": {
       "model_id": "",
       "version_major": 2,
       "version_minor": 0
      },
      "text/plain": [
       "HBox(children=(IntProgress(value=0, description='TCGA-2J-AABU-01A_HTSeq-FPKM-UQ.txt.gz', max=502, style=Progre…"
      ]
     },
     "metadata": {},
     "output_type": "display_data"
    },
    {
     "name": "stdout",
     "output_type": "stream",
     "text": [
      "\r",
      " \r"
     ]
    },
    {
     "data": {
      "application/vnd.jupyter.widget-view+json": {
       "model_id": "",
       "version_major": 2,
       "version_minor": 0
      },
      "text/plain": [
       "HBox(children=(IntProgress(value=0, description='TCGA-2J-AAB8-01A_HTSeq-FPKM.txt.gz', max=512, style=ProgressS…"
      ]
     },
     "metadata": {},
     "output_type": "display_data"
    },
    {
     "name": "stdout",
     "output_type": "stream",
     "text": [
      "\r",
      " \r"
     ]
    },
    {
     "data": {
      "application/vnd.jupyter.widget-view+json": {
       "model_id": "",
       "version_major": 2,
       "version_minor": 0
      },
      "text/plain": [
       "HBox(children=(IntProgress(value=0, description='TCGA-F2-6880-01A_HTSeq-FPKM-UQ.txt.gz', max=502, style=Progre…"
      ]
     },
     "metadata": {},
     "output_type": "display_data"
    },
    {
     "name": "stdout",
     "output_type": "stream",
     "text": [
      "\r",
      " \r"
     ]
    },
    {
     "data": {
      "application/vnd.jupyter.widget-view+json": {
       "model_id": "",
       "version_major": 2,
       "version_minor": 0
      },
      "text/plain": [
       "HBox(children=(IntProgress(value=0, description='TCGA-IB-AAUO-01A_HTSeq-FPKM-UQ.txt.gz', max=553, style=Progre…"
      ]
     },
     "metadata": {},
     "output_type": "display_data"
    },
    {
     "name": "stdout",
     "output_type": "stream",
     "text": [
      "\r",
      " \r"
     ]
    },
    {
     "data": {
      "application/vnd.jupyter.widget-view+json": {
       "model_id": "",
       "version_major": 2,
       "version_minor": 0
      },
      "text/plain": [
       "HBox(children=(IntProgress(value=0, description='TCGA-HZ-A8P1-01A_HTSeq-FPKM.txt.gz', max=522, style=ProgressS…"
      ]
     },
     "metadata": {},
     "output_type": "display_data"
    },
    {
     "name": "stdout",
     "output_type": "stream",
     "text": [
      "\r",
      " \r"
     ]
    },
    {
     "data": {
      "application/vnd.jupyter.widget-view+json": {
       "model_id": "",
       "version_major": 2,
       "version_minor": 0
      },
      "text/plain": [
       "HBox(children=(IntProgress(value=0, description='TCGA-2J-AABI-01A_HTSeq-FPKM-UQ.txt.gz', max=543, style=Progre…"
      ]
     },
     "metadata": {},
     "output_type": "display_data"
    },
    {
     "name": "stdout",
     "output_type": "stream",
     "text": [
      "\r",
      " \r"
     ]
    },
    {
     "data": {
      "application/vnd.jupyter.widget-view+json": {
       "model_id": "",
       "version_major": 2,
       "version_minor": 0
      },
      "text/plain": [
       "HBox(children=(IntProgress(value=0, description='TCGA-2J-AABE-01A_HTSeq-FPKM-UQ.txt.gz', max=522, style=Progre…"
      ]
     },
     "metadata": {},
     "output_type": "display_data"
    },
    {
     "name": "stdout",
     "output_type": "stream",
     "text": [
      "\r",
      " \r"
     ]
    },
    {
     "data": {
      "application/vnd.jupyter.widget-view+json": {
       "model_id": "",
       "version_major": 2,
       "version_minor": 0
      },
      "text/plain": [
       "HBox(children=(IntProgress(value=0, description='TCGA-FB-A4P6-01A_HTSeq-FPKM-UQ.txt.gz', max=532, style=Progre…"
      ]
     },
     "metadata": {},
     "output_type": "display_data"
    },
    {
     "name": "stdout",
     "output_type": "stream",
     "text": [
      "\r",
      " \r"
     ]
    },
    {
     "data": {
      "application/vnd.jupyter.widget-view+json": {
       "model_id": "",
       "version_major": 2,
       "version_minor": 0
      },
      "text/plain": [
       "HBox(children=(IntProgress(value=0, description='TCGA-2L-AAQJ-01A_HTSeq-Counts.txt.gz', max=256, style=Progres…"
      ]
     },
     "metadata": {},
     "output_type": "display_data"
    },
    {
     "name": "stdout",
     "output_type": "stream",
     "text": [
      "\r",
      " \r"
     ]
    },
    {
     "data": {
      "application/vnd.jupyter.widget-view+json": {
       "model_id": "",
       "version_major": 2,
       "version_minor": 0
      },
      "text/plain": [
       "HBox(children=(IntProgress(value=0, description='TCGA-HZ-A8P0-01A_HTSeq-FPKM-UQ.txt.gz', max=532, style=Progre…"
      ]
     },
     "metadata": {},
     "output_type": "display_data"
    },
    {
     "name": "stdout",
     "output_type": "stream",
     "text": [
      "\r",
      " \r"
     ]
    },
    {
     "data": {
      "application/vnd.jupyter.widget-view+json": {
       "model_id": "",
       "version_major": 2,
       "version_minor": 0
      },
      "text/plain": [
       "HBox(children=(IntProgress(value=0, description='TCGA-HZ-A8P1-01A_HTSeq-Counts.txt.gz', max=256, style=Progres…"
      ]
     },
     "metadata": {},
     "output_type": "display_data"
    },
    {
     "name": "stdout",
     "output_type": "stream",
     "text": [
      "\r",
      " \r"
     ]
    },
    {
     "data": {
      "application/vnd.jupyter.widget-view+json": {
       "model_id": "",
       "version_major": 2,
       "version_minor": 0
      },
      "text/plain": [
       "HBox(children=(IntProgress(value=0, description='TCGA-HZ-7289-01A_HTSeq-FPKM.txt.gz', max=492, style=ProgressS…"
      ]
     },
     "metadata": {},
     "output_type": "display_data"
    },
    {
     "name": "stdout",
     "output_type": "stream",
     "text": [
      "\r",
      " \r"
     ]
    },
    {
     "data": {
      "application/vnd.jupyter.widget-view+json": {
       "model_id": "",
       "version_major": 2,
       "version_minor": 0
      },
      "text/plain": [
       "HBox(children=(IntProgress(value=0, description='TCGA-FB-AAPZ-01A_HTSeq-Counts.txt.gz', max=256, style=Progres…"
      ]
     },
     "metadata": {},
     "output_type": "display_data"
    },
    {
     "name": "stdout",
     "output_type": "stream",
     "text": [
      "\r",
      " \r"
     ]
    },
    {
     "data": {
      "application/vnd.jupyter.widget-view+json": {
       "model_id": "",
       "version_major": 2,
       "version_minor": 0
      },
      "text/plain": [
       "HBox(children=(IntProgress(value=0, description='TCGA-XN-A8T5-01A_HTSeq-Counts.txt.gz', max=256, style=Progres…"
      ]
     },
     "metadata": {},
     "output_type": "display_data"
    },
    {
     "name": "stdout",
     "output_type": "stream",
     "text": [
      "\r",
      " \r"
     ]
    },
    {
     "data": {
      "application/vnd.jupyter.widget-view+json": {
       "model_id": "",
       "version_major": 2,
       "version_minor": 0
      },
      "text/plain": [
       "HBox(children=(IntProgress(value=0, description='TCGA-IB-A6UF-01A_HTSeq-FPKM.txt.gz', max=543, style=ProgressS…"
      ]
     },
     "metadata": {},
     "output_type": "display_data"
    },
    {
     "name": "stdout",
     "output_type": "stream",
     "text": [
      "\r",
      " \r"
     ]
    },
    {
     "data": {
      "application/vnd.jupyter.widget-view+json": {
       "model_id": "",
       "version_major": 2,
       "version_minor": 0
      },
      "text/plain": [
       "HBox(children=(IntProgress(value=0, description='TCGA-S4-A8RP-01A_HTSeq-FPKM-UQ.txt.gz', max=543, style=Progre…"
      ]
     },
     "metadata": {},
     "output_type": "display_data"
    },
    {
     "name": "stdout",
     "output_type": "stream",
     "text": [
      "\r",
      " \r"
     ]
    },
    {
     "data": {
      "application/vnd.jupyter.widget-view+json": {
       "model_id": "",
       "version_major": 2,
       "version_minor": 0
      },
      "text/plain": [
       "HBox(children=(IntProgress(value=0, description='TCGA-2J-AABP-01A_HTSeq-Counts.txt.gz', max=256, style=Progres…"
      ]
     },
     "metadata": {},
     "output_type": "display_data"
    },
    {
     "name": "stdout",
     "output_type": "stream",
     "text": [
      "\r",
      " \r"
     ]
    },
    {
     "data": {
      "application/vnd.jupyter.widget-view+json": {
       "model_id": "",
       "version_major": 2,
       "version_minor": 0
      },
      "text/plain": [
       "HBox(children=(IntProgress(value=0, description='TCGA-2J-AAB1-01A_HTSeq-Counts.txt.gz', max=256, style=Progres…"
      ]
     },
     "metadata": {},
     "output_type": "display_data"
    },
    {
     "name": "stdout",
     "output_type": "stream",
     "text": [
      "\r",
      " \r"
     ]
    },
    {
     "data": {
      "application/vnd.jupyter.widget-view+json": {
       "model_id": "",
       "version_major": 2,
       "version_minor": 0
      },
      "text/plain": [
       "HBox(children=(IntProgress(value=0, description='TCGA-XD-AAUL-01A_HTSeq-FPKM-UQ.txt.gz', max=532, style=Progre…"
      ]
     },
     "metadata": {},
     "output_type": "display_data"
    },
    {
     "name": "stdout",
     "output_type": "stream",
     "text": [
      "\r",
      " \r"
     ]
    },
    {
     "data": {
      "application/vnd.jupyter.widget-view+json": {
       "model_id": "",
       "version_major": 2,
       "version_minor": 0
      },
      "text/plain": [
       "HBox(children=(IntProgress(value=0, description='TCGA-2J-AABR-01A_HTSeq-Counts.txt.gz', max=256, style=Progres…"
      ]
     },
     "metadata": {},
     "output_type": "display_data"
    },
    {
     "name": "stdout",
     "output_type": "stream",
     "text": [
      "\r",
      " \r"
     ]
    },
    {
     "data": {
      "application/vnd.jupyter.widget-view+json": {
       "model_id": "",
       "version_major": 2,
       "version_minor": 0
      },
      "text/plain": [
       "HBox(children=(IntProgress(value=0, description='TCGA-HV-A7OL-01A_HTSeq-Counts.txt.gz', max=256, style=Progres…"
      ]
     },
     "metadata": {},
     "output_type": "display_data"
    },
    {
     "name": "stdout",
     "output_type": "stream",
     "text": [
      "\r",
      " \r"
     ]
    },
    {
     "data": {
      "application/vnd.jupyter.widget-view+json": {
       "model_id": "",
       "version_major": 2,
       "version_minor": 0
      },
      "text/plain": [
       "HBox(children=(IntProgress(value=0, description='TCGA-HV-A5A5-01A_HTSeq-FPKM.txt.gz', max=522, style=ProgressS…"
      ]
     },
     "metadata": {},
     "output_type": "display_data"
    },
    {
     "name": "stdout",
     "output_type": "stream",
     "text": [
      "\r",
      " \r"
     ]
    },
    {
     "data": {
      "application/vnd.jupyter.widget-view+json": {
       "model_id": "",
       "version_major": 2,
       "version_minor": 0
      },
      "text/plain": [
       "HBox(children=(IntProgress(value=0, description='TCGA-FB-AAPU-01A_HTSeq-Counts.txt.gz', max=256, style=Progres…"
      ]
     },
     "metadata": {},
     "output_type": "display_data"
    },
    {
     "name": "stdout",
     "output_type": "stream",
     "text": [
      "\r",
      " \r"
     ]
    },
    {
     "data": {
      "application/vnd.jupyter.widget-view+json": {
       "model_id": "",
       "version_major": 2,
       "version_minor": 0
      },
      "text/plain": [
       "HBox(children=(IntProgress(value=0, description='TCGA-HZ-A77P-01A_HTSeq-FPKM-UQ.txt.gz', max=543, style=Progre…"
      ]
     },
     "metadata": {},
     "output_type": "display_data"
    },
    {
     "name": "stdout",
     "output_type": "stream",
     "text": [
      "\r",
      " \r"
     ]
    },
    {
     "data": {
      "application/vnd.jupyter.widget-view+json": {
       "model_id": "",
       "version_major": 2,
       "version_minor": 0
      },
      "text/plain": [
       "HBox(children=(IntProgress(value=0, description='TCGA-2J-AABK-01A_HTSeq-Counts.txt.gz', max=266, style=Progres…"
      ]
     },
     "metadata": {},
     "output_type": "display_data"
    },
    {
     "name": "stdout",
     "output_type": "stream",
     "text": [
      "\r",
      " \r"
     ]
    },
    {
     "data": {
      "application/vnd.jupyter.widget-view+json": {
       "model_id": "",
       "version_major": 2,
       "version_minor": 0
      },
      "text/plain": [
       "HBox(children=(IntProgress(value=0, description='TCGA-US-A77J-01A_HTSeq-FPKM-UQ.txt.gz', max=522, style=Progre…"
      ]
     },
     "metadata": {},
     "output_type": "display_data"
    },
    {
     "name": "stdout",
     "output_type": "stream",
     "text": [
      "\r",
      " \r"
     ]
    },
    {
     "data": {
      "application/vnd.jupyter.widget-view+json": {
       "model_id": "",
       "version_major": 2,
       "version_minor": 0
      },
      "text/plain": [
       "HBox(children=(IntProgress(value=0, description='TCGA-2L-AAQJ-01A_HTSeq-FPKM-UQ.txt.gz', max=532, style=Progre…"
      ]
     },
     "metadata": {},
     "output_type": "display_data"
    },
    {
     "name": "stdout",
     "output_type": "stream",
     "text": [
      "\r",
      " \r"
     ]
    },
    {
     "data": {
      "application/vnd.jupyter.widget-view+json": {
       "model_id": "",
       "version_major": 2,
       "version_minor": 0
      },
      "text/plain": [
       "HBox(children=(IntProgress(value=0, description='TCGA-HZ-7920-01A_HTSeq-Counts.txt.gz', max=266, style=Progres…"
      ]
     },
     "metadata": {},
     "output_type": "display_data"
    },
    {
     "name": "stdout",
     "output_type": "stream",
     "text": [
      "\r",
      " \r"
     ]
    },
    {
     "data": {
      "application/vnd.jupyter.widget-view+json": {
       "model_id": "",
       "version_major": 2,
       "version_minor": 0
      },
      "text/plain": [
       "HBox(children=(IntProgress(value=0, description='TCGA-IB-7887-01A_HTSeq-Counts.txt.gz', max=266, style=Progres…"
      ]
     },
     "metadata": {},
     "output_type": "display_data"
    },
    {
     "name": "stdout",
     "output_type": "stream",
     "text": [
      "\r",
      " \r"
     ]
    },
    {
     "data": {
      "application/vnd.jupyter.widget-view+json": {
       "model_id": "",
       "version_major": 2,
       "version_minor": 0
      },
      "text/plain": [
       "HBox(children=(IntProgress(value=0, description='TCGA-HV-A5A4-01A_HTSeq-FPKM-UQ.txt.gz', max=532, style=Progre…"
      ]
     },
     "metadata": {},
     "output_type": "display_data"
    },
    {
     "name": "stdout",
     "output_type": "stream",
     "text": [
      "\r",
      " \r"
     ]
    },
    {
     "data": {
      "application/vnd.jupyter.widget-view+json": {
       "model_id": "",
       "version_major": 2,
       "version_minor": 0
      },
      "text/plain": [
       "HBox(children=(IntProgress(value=0, description='TCGA-FB-AAPP-01A_HTSeq-FPKM.txt.gz', max=492, style=ProgressS…"
      ]
     },
     "metadata": {},
     "output_type": "display_data"
    },
    {
     "name": "stdout",
     "output_type": "stream",
     "text": [
      "\r",
      " \r"
     ]
    },
    {
     "data": {
      "application/vnd.jupyter.widget-view+json": {
       "model_id": "",
       "version_major": 2,
       "version_minor": 0
      },
      "text/plain": [
       "HBox(children=(IntProgress(value=0, description='TCGA-LB-A9Q5-01A_HTSeq-FPKM.txt.gz', max=512, style=ProgressS…"
      ]
     },
     "metadata": {},
     "output_type": "display_data"
    },
    {
     "name": "stdout",
     "output_type": "stream",
     "text": [
      "\r",
      " \r"
     ]
    },
    {
     "data": {
      "application/vnd.jupyter.widget-view+json": {
       "model_id": "",
       "version_major": 2,
       "version_minor": 0
      },
      "text/plain": [
       "HBox(children=(IntProgress(value=0, description='TCGA-HZ-A4BH-01A_HTSeq-FPKM.txt.gz', max=532, style=ProgressS…"
      ]
     },
     "metadata": {},
     "output_type": "display_data"
    },
    {
     "name": "stdout",
     "output_type": "stream",
     "text": [
      "\r",
      " \r"
     ]
    },
    {
     "data": {
      "application/vnd.jupyter.widget-view+json": {
       "model_id": "",
       "version_major": 2,
       "version_minor": 0
      },
      "text/plain": [
       "HBox(children=(IntProgress(value=0, description='TCGA-S4-A8RO-01A_HTSeq-FPKM.txt.gz', max=532, style=ProgressS…"
      ]
     },
     "metadata": {},
     "output_type": "display_data"
    },
    {
     "name": "stdout",
     "output_type": "stream",
     "text": [
      "\r",
      " \r"
     ]
    },
    {
     "data": {
      "application/vnd.jupyter.widget-view+json": {
       "model_id": "",
       "version_major": 2,
       "version_minor": 0
      },
      "text/plain": [
       "HBox(children=(IntProgress(value=0, description='TCGA-2L-AAQI-01A_HTSeq-Counts.txt.gz', max=256, style=Progres…"
      ]
     },
     "metadata": {},
     "output_type": "display_data"
    },
    {
     "name": "stdout",
     "output_type": "stream",
     "text": [
      "\r",
      " \r"
     ]
    },
    {
     "data": {
      "application/vnd.jupyter.widget-view+json": {
       "model_id": "",
       "version_major": 2,
       "version_minor": 0
      },
      "text/plain": [
       "HBox(children=(IntProgress(value=0, description='TCGA-HV-AA8V-01A_HTSeq-Counts.txt.gz', max=256, style=Progres…"
      ]
     },
     "metadata": {},
     "output_type": "display_data"
    },
    {
     "name": "stdout",
     "output_type": "stream",
     "text": [
      "\r",
      " \r"
     ]
    },
    {
     "data": {
      "application/vnd.jupyter.widget-view+json": {
       "model_id": "",
       "version_major": 2,
       "version_minor": 0
      },
      "text/plain": [
       "HBox(children=(IntProgress(value=0, description='TCGA-HZ-7924-01A_HTSeq-Counts.txt.gz', max=266, style=Progres…"
      ]
     },
     "metadata": {},
     "output_type": "display_data"
    },
    {
     "name": "stdout",
     "output_type": "stream",
     "text": [
      "\r",
      " \r"
     ]
    },
    {
     "data": {
      "application/vnd.jupyter.widget-view+json": {
       "model_id": "",
       "version_major": 2,
       "version_minor": 0
      },
      "text/plain": [
       "HBox(children=(IntProgress(value=0, description='TCGA-2J-AABI-01A_HTSeq-FPKM.txt.gz', max=543, style=ProgressS…"
      ]
     },
     "metadata": {},
     "output_type": "display_data"
    },
    {
     "name": "stdout",
     "output_type": "stream",
     "text": [
      "\r",
      " \r"
     ]
    },
    {
     "data": {
      "application/vnd.jupyter.widget-view+json": {
       "model_id": "",
       "version_major": 2,
       "version_minor": 0
      },
      "text/plain": [
       "HBox(children=(IntProgress(value=0, description='TCGA-LB-A7SX-01A_HTSeq-FPKM.txt.gz', max=553, style=ProgressS…"
      ]
     },
     "metadata": {},
     "output_type": "display_data"
    },
    {
     "name": "stdout",
     "output_type": "stream",
     "text": [
      "\r",
      " \r"
     ]
    },
    {
     "data": {
      "application/vnd.jupyter.widget-view+json": {
       "model_id": "",
       "version_major": 2,
       "version_minor": 0
      },
      "text/plain": [
       "HBox(children=(IntProgress(value=0, description='TCGA-US-A77E-01A_HTSeq-FPKM-UQ.txt.gz', max=543, style=Progre…"
      ]
     },
     "metadata": {},
     "output_type": "display_data"
    },
    {
     "name": "stdout",
     "output_type": "stream",
     "text": [
      "\r",
      " \r"
     ]
    },
    {
     "data": {
      "application/vnd.jupyter.widget-view+json": {
       "model_id": "",
       "version_major": 2,
       "version_minor": 0
      },
      "text/plain": [
       "HBox(children=(IntProgress(value=0, description='TCGA-IB-AAUS-01A_HTSeq-FPKM.txt.gz', max=532, style=ProgressS…"
      ]
     },
     "metadata": {},
     "output_type": "display_data"
    },
    {
     "name": "stdout",
     "output_type": "stream",
     "text": [
      "\r",
      " \r"
     ]
    },
    {
     "data": {
      "application/vnd.jupyter.widget-view+json": {
       "model_id": "",
       "version_major": 2,
       "version_minor": 0
      },
      "text/plain": [
       "HBox(children=(IntProgress(value=0, description='TCGA-IB-AAUP-01A_HTSeq-Counts.txt.gz', max=266, style=Progres…"
      ]
     },
     "metadata": {},
     "output_type": "display_data"
    },
    {
     "name": "stdout",
     "output_type": "stream",
     "text": [
      "\r",
      " \r"
     ]
    },
    {
     "data": {
      "application/vnd.jupyter.widget-view+json": {
       "model_id": "",
       "version_major": 2,
       "version_minor": 0
      },
      "text/plain": [
       "HBox(children=(IntProgress(value=0, description='TCGA-IB-7644-01A_HTSeq-FPKM-UQ.txt.gz', max=522, style=Progre…"
      ]
     },
     "metadata": {},
     "output_type": "display_data"
    },
    {
     "name": "stdout",
     "output_type": "stream",
     "text": [
      "\r",
      " \r"
     ]
    },
    {
     "data": {
      "application/vnd.jupyter.widget-view+json": {
       "model_id": "",
       "version_major": 2,
       "version_minor": 0
      },
      "text/plain": [
       "HBox(children=(IntProgress(value=0, description='TCGA-3A-A9IO-01A_HTSeq-Counts.txt.gz', max=256, style=Progres…"
      ]
     },
     "metadata": {},
     "output_type": "display_data"
    },
    {
     "name": "stdout",
     "output_type": "stream",
     "text": [
      "\r",
      " \r"
     ]
    },
    {
     "data": {
      "application/vnd.jupyter.widget-view+json": {
       "model_id": "",
       "version_major": 2,
       "version_minor": 0
      },
      "text/plain": [
       "HBox(children=(IntProgress(value=0, description='TCGA-FB-A78T-01A_HTSeq-Counts.txt.gz', max=266, style=Progres…"
      ]
     },
     "metadata": {},
     "output_type": "display_data"
    },
    {
     "name": "stdout",
     "output_type": "stream",
     "text": [
      "\r",
      " \r"
     ]
    },
    {
     "data": {
      "application/vnd.jupyter.widget-view+json": {
       "model_id": "",
       "version_major": 2,
       "version_minor": 0
      },
      "text/plain": [
       "HBox(children=(IntProgress(value=0, description='TCGA-IB-A5SP-01A_HTSeq-Counts.txt.gz', max=256, style=Progres…"
      ]
     },
     "metadata": {},
     "output_type": "display_data"
    },
    {
     "name": "stdout",
     "output_type": "stream",
     "text": [
      "\r",
      " \r"
     ]
    },
    {
     "data": {
      "application/vnd.jupyter.widget-view+json": {
       "model_id": "",
       "version_major": 2,
       "version_minor": 0
      },
      "text/plain": [
       "HBox(children=(IntProgress(value=0, description='TCGA-IB-AAUU-01A_HTSeq-Counts.txt.gz', max=256, style=Progres…"
      ]
     },
     "metadata": {},
     "output_type": "display_data"
    },
    {
     "name": "stdout",
     "output_type": "stream",
     "text": [
      "\r",
      " \r"
     ]
    },
    {
     "data": {
      "application/vnd.jupyter.widget-view+json": {
       "model_id": "",
       "version_major": 2,
       "version_minor": 0
      },
      "text/plain": [
       "HBox(children=(IntProgress(value=0, description='TCGA-S4-A8RO-01A_HTSeq-FPKM-UQ.txt.gz', max=532, style=Progre…"
      ]
     },
     "metadata": {},
     "output_type": "display_data"
    },
    {
     "name": "stdout",
     "output_type": "stream",
     "text": [
      "\r",
      " \r"
     ]
    },
    {
     "data": {
      "application/vnd.jupyter.widget-view+json": {
       "model_id": "",
       "version_major": 2,
       "version_minor": 0
      },
      "text/plain": [
       "HBox(children=(IntProgress(value=0, description='TCGA-HZ-A49I-01A_HTSeq-FPKM-UQ.txt.gz', max=532, style=Progre…"
      ]
     },
     "metadata": {},
     "output_type": "display_data"
    },
    {
     "name": "stdout",
     "output_type": "stream",
     "text": [
      "\r",
      " \r"
     ]
    },
    {
     "data": {
      "application/vnd.jupyter.widget-view+json": {
       "model_id": "",
       "version_major": 2,
       "version_minor": 0
      },
      "text/plain": [
       "HBox(children=(IntProgress(value=0, description='TCGA-F2-A44H-01A_HTSeq-FPKM-UQ.txt.gz', max=502, style=Progre…"
      ]
     },
     "metadata": {},
     "output_type": "display_data"
    },
    {
     "name": "stdout",
     "output_type": "stream",
     "text": [
      "\r",
      " \r"
     ]
    },
    {
     "data": {
      "application/vnd.jupyter.widget-view+json": {
       "model_id": "",
       "version_major": 2,
       "version_minor": 0
      },
      "text/plain": [
       "HBox(children=(IntProgress(value=0, description='TCGA-M8-A5N4-01A_HTSeq-Counts.txt.gz', max=256, style=Progres…"
      ]
     },
     "metadata": {},
     "output_type": "display_data"
    },
    {
     "name": "stdout",
     "output_type": "stream",
     "text": [
      "\r",
      " \r"
     ]
    },
    {
     "data": {
      "application/vnd.jupyter.widget-view+json": {
       "model_id": "",
       "version_major": 2,
       "version_minor": 0
      },
      "text/plain": [
       "HBox(children=(IntProgress(value=0, description='TCGA-IB-AAUU-01A_HTSeq-FPKM.txt.gz', max=532, style=ProgressS…"
      ]
     },
     "metadata": {},
     "output_type": "display_data"
    },
    {
     "name": "stdout",
     "output_type": "stream",
     "text": [
      "\r",
      " \r"
     ]
    },
    {
     "data": {
      "application/vnd.jupyter.widget-view+json": {
       "model_id": "",
       "version_major": 2,
       "version_minor": 0
      },
      "text/plain": [
       "HBox(children=(IntProgress(value=0, description='TCGA-HZ-7926-01A_HTSeq-FPKM.txt.gz', max=543, style=ProgressS…"
      ]
     },
     "metadata": {},
     "output_type": "display_data"
    },
    {
     "name": "stdout",
     "output_type": "stream",
     "text": [
      "\r",
      " \r"
     ]
    },
    {
     "data": {
      "application/vnd.jupyter.widget-view+json": {
       "model_id": "",
       "version_major": 2,
       "version_minor": 0
      },
      "text/plain": [
       "HBox(children=(IntProgress(value=0, description='TCGA-IB-7890-01A_HTSeq-FPKM-UQ.txt.gz', max=512, style=Progre…"
      ]
     },
     "metadata": {},
     "output_type": "display_data"
    },
    {
     "name": "stdout",
     "output_type": "stream",
     "text": [
      "\r",
      " \r"
     ]
    },
    {
     "data": {
      "application/vnd.jupyter.widget-view+json": {
       "model_id": "",
       "version_major": 2,
       "version_minor": 0
      },
      "text/plain": [
       "HBox(children=(IntProgress(value=0, description='TCGA-FB-AAPS-01A_HTSeq-Counts.txt.gz', max=256, style=Progres…"
      ]
     },
     "metadata": {},
     "output_type": "display_data"
    },
    {
     "name": "stdout",
     "output_type": "stream",
     "text": [
      "\r",
      " \r"
     ]
    },
    {
     "data": {
      "application/vnd.jupyter.widget-view+json": {
       "model_id": "",
       "version_major": 2,
       "version_minor": 0
      },
      "text/plain": [
       "HBox(children=(IntProgress(value=0, description='TCGA-IB-7885-01A_HTSeq-Counts.txt.gz', max=266, style=Progres…"
      ]
     },
     "metadata": {},
     "output_type": "display_data"
    },
    {
     "name": "stdout",
     "output_type": "stream",
     "text": [
      "\r",
      " \r"
     ]
    },
    {
     "data": {
      "application/vnd.jupyter.widget-view+json": {
       "model_id": "",
       "version_major": 2,
       "version_minor": 0
      },
      "text/plain": [
       "HBox(children=(IntProgress(value=0, description='TCGA-HZ-A77O-01A_HTSeq-FPKM-UQ.txt.gz', max=522, style=Progre…"
      ]
     },
     "metadata": {},
     "output_type": "display_data"
    },
    {
     "name": "stdout",
     "output_type": "stream",
     "text": [
      "\r",
      " \r"
     ]
    },
    {
     "data": {
      "application/vnd.jupyter.widget-view+json": {
       "model_id": "",
       "version_major": 2,
       "version_minor": 0
      },
      "text/plain": [
       "HBox(children=(IntProgress(value=0, description='TCGA-HZ-8005-01A_HTSeq-FPKM.txt.gz', max=512, style=ProgressS…"
      ]
     },
     "metadata": {},
     "output_type": "display_data"
    },
    {
     "name": "stdout",
     "output_type": "stream",
     "text": [
      "\r",
      " \r"
     ]
    },
    {
     "data": {
      "application/vnd.jupyter.widget-view+json": {
       "model_id": "",
       "version_major": 2,
       "version_minor": 0
      },
      "text/plain": [
       "HBox(children=(IntProgress(value=0, description='TCGA-FB-AAQ2-01A_HTSeq-FPKM.txt.gz', max=522, style=ProgressS…"
      ]
     },
     "metadata": {},
     "output_type": "display_data"
    },
    {
     "name": "stdout",
     "output_type": "stream",
     "text": [
      "\r",
      " \r"
     ]
    },
    {
     "data": {
      "application/vnd.jupyter.widget-view+json": {
       "model_id": "",
       "version_major": 2,
       "version_minor": 0
      },
      "text/plain": [
       "HBox(children=(IntProgress(value=0, description='TCGA-S4-A8RO-01A_HTSeq-Counts.txt.gz', max=256, style=Progres…"
      ]
     },
     "metadata": {},
     "output_type": "display_data"
    },
    {
     "name": "stdout",
     "output_type": "stream",
     "text": [
      "\r",
      " \r"
     ]
    },
    {
     "data": {
      "application/vnd.jupyter.widget-view+json": {
       "model_id": "",
       "version_major": 2,
       "version_minor": 0
      },
      "text/plain": [
       "HBox(children=(IntProgress(value=0, description='TCGA-2J-AABO-01A_HTSeq-Counts.txt.gz', max=256, style=Progres…"
      ]
     },
     "metadata": {},
     "output_type": "display_data"
    },
    {
     "name": "stdout",
     "output_type": "stream",
     "text": [
      "\r",
      " \r"
     ]
    },
    {
     "data": {
      "application/vnd.jupyter.widget-view+json": {
       "model_id": "",
       "version_major": 2,
       "version_minor": 0
      },
      "text/plain": [
       "HBox(children=(IntProgress(value=0, description='TCGA-2J-AABA-01A_HTSeq-FPKM.txt.gz', max=522, style=ProgressS…"
      ]
     },
     "metadata": {},
     "output_type": "display_data"
    },
    {
     "name": "stdout",
     "output_type": "stream",
     "text": [
      "\r",
      " \r"
     ]
    },
    {
     "data": {
      "application/vnd.jupyter.widget-view+json": {
       "model_id": "",
       "version_major": 2,
       "version_minor": 0
      },
      "text/plain": [
       "HBox(children=(IntProgress(value=0, description='TCGA-IB-7644-01A_HTSeq-FPKM.txt.gz', max=522, style=ProgressS…"
      ]
     },
     "metadata": {},
     "output_type": "display_data"
    },
    {
     "name": "stdout",
     "output_type": "stream",
     "text": [
      "\r",
      " \r"
     ]
    },
    {
     "data": {
      "application/vnd.jupyter.widget-view+json": {
       "model_id": "",
       "version_major": 2,
       "version_minor": 0
      },
      "text/plain": [
       "HBox(children=(IntProgress(value=0, description='TCGA-FB-AAPQ-01A_HTSeq-Counts.txt.gz', max=256, style=Progres…"
      ]
     },
     "metadata": {},
     "output_type": "display_data"
    },
    {
     "name": "stdout",
     "output_type": "stream",
     "text": [
      "\r",
      " \r"
     ]
    },
    {
     "data": {
      "application/vnd.jupyter.widget-view+json": {
       "model_id": "",
       "version_major": 2,
       "version_minor": 0
      },
      "text/plain": [
       "HBox(children=(IntProgress(value=0, description='TCGA-US-A77J-01A_HTSeq-FPKM.txt.gz', max=522, style=ProgressS…"
      ]
     },
     "metadata": {},
     "output_type": "display_data"
    },
    {
     "name": "stdout",
     "output_type": "stream",
     "text": [
      "\r",
      " \r"
     ]
    },
    {
     "data": {
      "application/vnd.jupyter.widget-view+json": {
       "model_id": "",
       "version_major": 2,
       "version_minor": 0
      },
      "text/plain": [
       "HBox(children=(IntProgress(value=0, description='TCGA-HZ-8636-01A_HTSeq-FPKM-UQ.txt.gz', max=563, style=Progre…"
      ]
     },
     "metadata": {},
     "output_type": "display_data"
    },
    {
     "name": "stdout",
     "output_type": "stream",
     "text": [
      "\r",
      " \r"
     ]
    },
    {
     "data": {
      "application/vnd.jupyter.widget-view+json": {
       "model_id": "",
       "version_major": 2,
       "version_minor": 0
      },
      "text/plain": [
       "HBox(children=(IntProgress(value=0, description='TCGA-FB-A4P5-01A_HTSeq-FPKM.txt.gz', max=522, style=ProgressS…"
      ]
     },
     "metadata": {},
     "output_type": "display_data"
    },
    {
     "name": "stdout",
     "output_type": "stream",
     "text": [
      "\r",
      " \r"
     ]
    },
    {
     "data": {
      "application/vnd.jupyter.widget-view+json": {
       "model_id": "",
       "version_major": 2,
       "version_minor": 0
      },
      "text/plain": [
       "HBox(children=(IntProgress(value=0, description='TCGA-RB-A7B8-01A_HTSeq-FPKM.txt.gz', max=532, style=ProgressS…"
      ]
     },
     "metadata": {},
     "output_type": "display_data"
    },
    {
     "name": "stdout",
     "output_type": "stream",
     "text": [
      "\r",
      " \r"
     ]
    },
    {
     "data": {
      "application/vnd.jupyter.widget-view+json": {
       "model_id": "",
       "version_major": 2,
       "version_minor": 0
      },
      "text/plain": [
       "HBox(children=(IntProgress(value=0, description='TCGA-3A-A9IB-01A_HTSeq-FPKM-UQ.txt.gz', max=543, style=Progre…"
      ]
     },
     "metadata": {},
     "output_type": "display_data"
    },
    {
     "name": "stdout",
     "output_type": "stream",
     "text": [
      "\r",
      " \r"
     ]
    },
    {
     "data": {
      "application/vnd.jupyter.widget-view+json": {
       "model_id": "",
       "version_major": 2,
       "version_minor": 0
      },
      "text/plain": [
       "HBox(children=(IntProgress(value=0, description='TCGA-XD-AAUG-01A_HTSeq-FPKM.txt.gz', max=532, style=ProgressS…"
      ]
     },
     "metadata": {},
     "output_type": "display_data"
    },
    {
     "name": "stdout",
     "output_type": "stream",
     "text": [
      "\r",
      " \r"
     ]
    },
    {
     "data": {
      "application/vnd.jupyter.widget-view+json": {
       "model_id": "",
       "version_major": 2,
       "version_minor": 0
      },
      "text/plain": [
       "HBox(children=(IntProgress(value=0, description='TCGA-HZ-8519-01A_HTSeq-Counts.txt.gz', max=266, style=Progres…"
      ]
     },
     "metadata": {},
     "output_type": "display_data"
    },
    {
     "name": "stdout",
     "output_type": "stream",
     "text": [
      "\r",
      " \r"
     ]
    },
    {
     "data": {
      "application/vnd.jupyter.widget-view+json": {
       "model_id": "",
       "version_major": 2,
       "version_minor": 0
      },
      "text/plain": [
       "HBox(children=(IntProgress(value=0, description='TCGA-2J-AABH-01A_HTSeq-FPKM-UQ.txt.gz', max=543, style=Progre…"
      ]
     },
     "metadata": {},
     "output_type": "display_data"
    },
    {
     "name": "stdout",
     "output_type": "stream",
     "text": [
      "\r",
      " \r"
     ]
    },
    {
     "data": {
      "application/vnd.jupyter.widget-view+json": {
       "model_id": "",
       "version_major": 2,
       "version_minor": 0
      },
      "text/plain": [
       "HBox(children=(IntProgress(value=0, description='TCGA-US-A77E-01A_HTSeq-FPKM.txt.gz', max=543, style=ProgressS…"
      ]
     },
     "metadata": {},
     "output_type": "display_data"
    },
    {
     "name": "stdout",
     "output_type": "stream",
     "text": [
      "\r",
      " \r"
     ]
    },
    {
     "data": {
      "application/vnd.jupyter.widget-view+json": {
       "model_id": "",
       "version_major": 2,
       "version_minor": 0
      },
      "text/plain": [
       "HBox(children=(IntProgress(value=0, description='TCGA-2J-AABH-01A_HTSeq-FPKM.txt.gz', max=532, style=ProgressS…"
      ]
     },
     "metadata": {},
     "output_type": "display_data"
    },
    {
     "name": "stdout",
     "output_type": "stream",
     "text": [
      "\r",
      " \r"
     ]
    },
    {
     "data": {
      "application/vnd.jupyter.widget-view+json": {
       "model_id": "",
       "version_major": 2,
       "version_minor": 0
      },
      "text/plain": [
       "HBox(children=(IntProgress(value=0, description='TCGA-HV-A5A3-01A_HTSeq-FPKM.txt.gz', max=512, style=ProgressS…"
      ]
     },
     "metadata": {},
     "output_type": "display_data"
    },
    {
     "name": "stdout",
     "output_type": "stream",
     "text": [
      "\r",
      " \r"
     ]
    },
    {
     "data": {
      "application/vnd.jupyter.widget-view+json": {
       "model_id": "",
       "version_major": 2,
       "version_minor": 0
      },
      "text/plain": [
       "HBox(children=(IntProgress(value=0, description='TCGA-RL-AAAS-01A_HTSeq-FPKM-UQ.txt.gz', max=522, style=Progre…"
      ]
     },
     "metadata": {},
     "output_type": "display_data"
    },
    {
     "name": "stdout",
     "output_type": "stream",
     "text": [
      "\r",
      " \r"
     ]
    },
    {
     "data": {
      "application/vnd.jupyter.widget-view+json": {
       "model_id": "",
       "version_major": 2,
       "version_minor": 0
      },
      "text/plain": [
       "HBox(children=(IntProgress(value=0, description='TCGA-3A-A9IX-01A_HTSeq-Counts.txt.gz', max=266, style=Progres…"
      ]
     },
     "metadata": {},
     "output_type": "display_data"
    },
    {
     "name": "stdout",
     "output_type": "stream",
     "text": [
      "\r",
      " \r"
     ]
    },
    {
     "data": {
      "application/vnd.jupyter.widget-view+json": {
       "model_id": "",
       "version_major": 2,
       "version_minor": 0
      },
      "text/plain": [
       "HBox(children=(IntProgress(value=0, description='TCGA-RB-AA9M-01A_HTSeq-FPKM.txt.gz', max=543, style=ProgressS…"
      ]
     },
     "metadata": {},
     "output_type": "display_data"
    },
    {
     "name": "stdout",
     "output_type": "stream",
     "text": [
      "\r",
      " \r"
     ]
    },
    {
     "data": {
      "application/vnd.jupyter.widget-view+json": {
       "model_id": "",
       "version_major": 2,
       "version_minor": 0
      },
      "text/plain": [
       "HBox(children=(IntProgress(value=0, description='TCGA-F2-6880-01A_HTSeq-Counts.txt.gz', max=246, style=Progres…"
      ]
     },
     "metadata": {},
     "output_type": "display_data"
    },
    {
     "name": "stdout",
     "output_type": "stream",
     "text": [
      "\r",
      " \r"
     ]
    },
    {
     "data": {
      "application/vnd.jupyter.widget-view+json": {
       "model_id": "",
       "version_major": 2,
       "version_minor": 0
      },
      "text/plain": [
       "HBox(children=(IntProgress(value=0, description='TCGA-HV-A5A6-01A_HTSeq-Counts.txt.gz', max=256, style=Progres…"
      ]
     },
     "metadata": {},
     "output_type": "display_data"
    },
    {
     "name": "stdout",
     "output_type": "stream",
     "text": [
      "\r",
      " \r"
     ]
    },
    {
     "data": {
      "application/vnd.jupyter.widget-view+json": {
       "model_id": "",
       "version_major": 2,
       "version_minor": 0
      },
      "text/plain": [
       "HBox(children=(IntProgress(value=0, description='TCGA-FB-AAQ0-01A_HTSeq-FPKM.txt.gz', max=532, style=ProgressS…"
      ]
     },
     "metadata": {},
     "output_type": "display_data"
    },
    {
     "name": "stdout",
     "output_type": "stream",
     "text": [
      "\r",
      " \r"
     ]
    },
    {
     "data": {
      "application/vnd.jupyter.widget-view+json": {
       "model_id": "",
       "version_major": 2,
       "version_minor": 0
      },
      "text/plain": [
       "HBox(children=(IntProgress(value=0, description='TCGA-OE-A75W-01A_HTSeq-FPKM.txt.gz', max=522, style=ProgressS…"
      ]
     },
     "metadata": {},
     "output_type": "display_data"
    },
    {
     "name": "stdout",
     "output_type": "stream",
     "text": [
      "\r",
      " \r"
     ]
    },
    {
     "data": {
      "application/vnd.jupyter.widget-view+json": {
       "model_id": "",
       "version_major": 2,
       "version_minor": 0
      },
      "text/plain": [
       "HBox(children=(IntProgress(value=0, description='TCGA-XN-A8T3-01A_HTSeq-FPKM-UQ.txt.gz', max=543, style=Progre…"
      ]
     },
     "metadata": {},
     "output_type": "display_data"
    },
    {
     "name": "stdout",
     "output_type": "stream",
     "text": [
      "\r",
      " \r"
     ]
    },
    {
     "data": {
      "application/vnd.jupyter.widget-view+json": {
       "model_id": "",
       "version_major": 2,
       "version_minor": 0
      },
      "text/plain": [
       "HBox(children=(IntProgress(value=0, description='TCGA-HZ-A77Q-01A_HTSeq-Counts.txt.gz', max=256, style=Progres…"
      ]
     },
     "metadata": {},
     "output_type": "display_data"
    },
    {
     "name": "stdout",
     "output_type": "stream",
     "text": [
      "\r",
      " \r"
     ]
    },
    {
     "data": {
      "application/vnd.jupyter.widget-view+json": {
       "model_id": "",
       "version_major": 2,
       "version_minor": 0
      },
      "text/plain": [
       "HBox(children=(IntProgress(value=0, description='TCGA-FB-AAQ0-01A_HTSeq-FPKM-UQ.txt.gz', max=532, style=Progre…"
      ]
     },
     "metadata": {},
     "output_type": "display_data"
    },
    {
     "name": "stdout",
     "output_type": "stream",
     "text": [
      "\r",
      " \r"
     ]
    },
    {
     "data": {
      "application/vnd.jupyter.widget-view+json": {
       "model_id": "",
       "version_major": 2,
       "version_minor": 0
      },
      "text/plain": [
       "HBox(children=(IntProgress(value=0, description='TCGA-HZ-7925-01A_HTSeq-FPKM-UQ.txt.gz', max=543, style=Progre…"
      ]
     },
     "metadata": {},
     "output_type": "display_data"
    },
    {
     "name": "stdout",
     "output_type": "stream",
     "text": [
      "\r",
      " \r"
     ]
    },
    {
     "data": {
      "application/vnd.jupyter.widget-view+json": {
       "model_id": "",
       "version_major": 2,
       "version_minor": 0
      },
      "text/plain": [
       "HBox(children=(IntProgress(value=0, description='TCGA-IB-AAUT-01A_HTSeq-FPKM.txt.gz', max=532, style=ProgressS…"
      ]
     },
     "metadata": {},
     "output_type": "display_data"
    },
    {
     "name": "stdout",
     "output_type": "stream",
     "text": [
      "\r",
      " \r"
     ]
    },
    {
     "data": {
      "application/vnd.jupyter.widget-view+json": {
       "model_id": "",
       "version_major": 2,
       "version_minor": 0
      },
      "text/plain": [
       "HBox(children=(IntProgress(value=0, description='TCGA-HZ-7926-01A_HTSeq-Counts.txt.gz', max=266, style=Progres…"
      ]
     },
     "metadata": {},
     "output_type": "display_data"
    },
    {
     "name": "stdout",
     "output_type": "stream",
     "text": [
      "\r",
      " \r"
     ]
    },
    {
     "data": {
      "application/vnd.jupyter.widget-view+json": {
       "model_id": "",
       "version_major": 2,
       "version_minor": 0
      },
      "text/plain": [
       "HBox(children=(IntProgress(value=0, description='TCGA-Q3-A5QY-01A_HTSeq-FPKM-UQ.txt.gz', max=543, style=Progre…"
      ]
     },
     "metadata": {},
     "output_type": "display_data"
    },
    {
     "name": "stdout",
     "output_type": "stream",
     "text": [
      "\r",
      " \r"
     ]
    },
    {
     "data": {
      "application/vnd.jupyter.widget-view+json": {
       "model_id": "",
       "version_major": 2,
       "version_minor": 0
      },
      "text/plain": [
       "HBox(children=(IntProgress(value=0, description='TCGA-HZ-A49H-01A_HTSeq-FPKM-UQ.txt.gz', max=522, style=Progre…"
      ]
     },
     "metadata": {},
     "output_type": "display_data"
    },
    {
     "name": "stdout",
     "output_type": "stream",
     "text": [
      "\r",
      " \r"
     ]
    },
    {
     "data": {
      "application/vnd.jupyter.widget-view+json": {
       "model_id": "",
       "version_major": 2,
       "version_minor": 0
      },
      "text/plain": [
       "HBox(children=(IntProgress(value=0, description='TCGA-PZ-A5RE-01A_HTSeq-FPKM-UQ.txt.gz', max=532, style=Progre…"
      ]
     },
     "metadata": {},
     "output_type": "display_data"
    },
    {
     "name": "stdout",
     "output_type": "stream",
     "text": [
      "\r",
      " \r"
     ]
    },
    {
     "data": {
      "application/vnd.jupyter.widget-view+json": {
       "model_id": "",
       "version_major": 2,
       "version_minor": 0
      },
      "text/plain": [
       "HBox(children=(IntProgress(value=0, description='TCGA-HZ-7918-01A_HTSeq-FPKM-UQ.txt.gz', max=532, style=Progre…"
      ]
     },
     "metadata": {},
     "output_type": "display_data"
    },
    {
     "name": "stdout",
     "output_type": "stream",
     "text": [
      "\r",
      " \r"
     ]
    },
    {
     "data": {
      "application/vnd.jupyter.widget-view+json": {
       "model_id": "",
       "version_major": 2,
       "version_minor": 0
      },
      "text/plain": [
       "HBox(children=(IntProgress(value=0, description='TCGA-F2-6879-01A_HTSeq-FPKM-UQ.txt.gz', max=543, style=Progre…"
      ]
     },
     "metadata": {},
     "output_type": "display_data"
    },
    {
     "name": "stdout",
     "output_type": "stream",
     "text": [
      "\r",
      " \r"
     ]
    },
    {
     "data": {
      "application/vnd.jupyter.widget-view+json": {
       "model_id": "",
       "version_major": 2,
       "version_minor": 0
      },
      "text/plain": [
       "HBox(children=(IntProgress(value=0, description='TCGA-HZ-7925-01A_HTSeq-FPKM.txt.gz', max=543, style=ProgressS…"
      ]
     },
     "metadata": {},
     "output_type": "display_data"
    },
    {
     "name": "stdout",
     "output_type": "stream",
     "text": [
      "\r",
      " \r"
     ]
    },
    {
     "data": {
      "application/vnd.jupyter.widget-view+json": {
       "model_id": "",
       "version_major": 2,
       "version_minor": 0
      },
      "text/plain": [
       "HBox(children=(IntProgress(value=0, description='TCGA-2J-AABH-01A_HTSeq-Counts.txt.gz', max=256, style=Progres…"
      ]
     },
     "metadata": {},
     "output_type": "display_data"
    },
    {
     "name": "stdout",
     "output_type": "stream",
     "text": [
      "\r",
      " \r"
     ]
    },
    {
     "data": {
      "application/vnd.jupyter.widget-view+json": {
       "model_id": "",
       "version_major": 2,
       "version_minor": 0
      },
      "text/plain": [
       "HBox(children=(IntProgress(value=0, description='TCGA-IB-AAUV-01A_HTSeq-FPKM-UQ.txt.gz', max=553, style=Progre…"
      ]
     },
     "metadata": {},
     "output_type": "display_data"
    },
    {
     "name": "stdout",
     "output_type": "stream",
     "text": [
      "\n"
     ]
    },
    {
     "data": {
      "text/plain": [
       "['TCGA-HZ-8005-01A_HTSeq-Counts.txt.gz',\n",
       " 'TCGA-HV-A7OL-01A_HTSeq-FPKM.txt.gz',\n",
       " 'TCGA-FB-AAPQ-01A_HTSeq-FPKM.txt.gz',\n",
       " 'TCGA-FB-AAPS-01A_HTSeq-FPKM-UQ.txt.gz',\n",
       " 'TCGA-3A-A9IB-01A_HTSeq-FPKM.txt.gz',\n",
       " 'TCGA-FB-AAQ3-01A_HTSeq-FPKM-UQ.txt.gz',\n",
       " 'TCGA-IB-AAUU-01A_HTSeq-FPKM-UQ.txt.gz',\n",
       " 'TCGA-H6-A45N-11A_HTSeq-FPKM-UQ.txt.gz',\n",
       " 'TCGA-PZ-A5RE-01A_HTSeq-Counts.txt.gz',\n",
       " 'TCGA-IB-7891-01A_HTSeq-Counts.txt.gz',\n",
       " 'TCGA-2L-AAQE-01A_HTSeq-FPKM.txt.gz',\n",
       " 'TCGA-F2-A7TX-01A_HTSeq-Counts.txt.gz',\n",
       " 'TCGA-OE-A75W-01A_HTSeq-FPKM-UQ.txt.gz',\n",
       " 'TCGA-IB-AAUM-01A_HTSeq-FPKM-UQ.txt.gz',\n",
       " 'TCGA-IB-7649-01A_HTSeq-FPKM-UQ.txt.gz',\n",
       " 'TCGA-HZ-7289-01A_HTSeq-Counts.txt.gz',\n",
       " 'TCGA-IB-AAUR-01A_HTSeq-Counts.txt.gz',\n",
       " 'TCGA-3A-A9IO-01A_HTSeq-FPKM-UQ.txt.gz',\n",
       " 'TCGA-IB-A7LX-01A_HTSeq-FPKM-UQ.txt.gz',\n",
       " 'TCGA-IB-A5SP-01A_HTSeq-FPKM.txt.gz',\n",
       " 'TCGA-2L-AAQM-01A_HTSeq-Counts.txt.gz',\n",
       " 'TCGA-HZ-8636-01A_HTSeq-FPKM.txt.gz',\n",
       " 'TCGA-3A-A9I7-01A_HTSeq-Counts.txt.gz',\n",
       " 'TCGA-3A-A9IH-01A_HTSeq-FPKM-UQ.txt.gz',\n",
       " 'TCGA-3A-A9IU-01A_HTSeq-FPKM.txt.gz',\n",
       " 'TCGA-IB-7897-01A_HTSeq-Counts.txt.gz',\n",
       " 'TCGA-H8-A6C1-01A_HTSeq-Counts.txt.gz',\n",
       " 'TCGA-IB-AAUV-01A_HTSeq-FPKM.txt.gz',\n",
       " 'TCGA-3A-A9J0-01A_HTSeq-FPKM-UQ.txt.gz',\n",
       " 'TCGA-HZ-8317-01A_HTSeq-FPKM-UQ.txt.gz',\n",
       " 'TCGA-FB-A4P6-01A_HTSeq-FPKM.txt.gz',\n",
       " 'TCGA-2J-AABV-01A_HTSeq-FPKM-UQ.txt.gz',\n",
       " 'TCGA-XD-AAUG-01A_HTSeq-FPKM-UQ.txt.gz',\n",
       " 'TCGA-IB-A6UG-01A_HTSeq-FPKM-UQ.txt.gz',\n",
       " 'TCGA-HZ-A49G-01A_HTSeq-FPKM.txt.gz',\n",
       " 'TCGA-FB-AAQ6-01A_HTSeq-FPKM.txt.gz',\n",
       " 'TCGA-3A-A9IN-01A_HTSeq-FPKM.txt.gz',\n",
       " 'TCGA-HZ-7926-01A_HTSeq-FPKM-UQ.txt.gz',\n",
       " 'TCGA-F2-6879-01A_HTSeq-FPKM.txt.gz',\n",
       " 'TCGA-IB-A7LX-01A_HTSeq-Counts.txt.gz',\n",
       " 'TCGA-2J-AAB8-01A_HTSeq-FPKM-UQ.txt.gz',\n",
       " 'TCGA-YH-A8SY-01A_HTSeq-FPKM.txt.gz',\n",
       " 'TCGA-H6-8124-01A_HTSeq-Counts.txt.gz',\n",
       " 'TCGA-YB-A89D-11A_HTSeq-FPKM-UQ.txt.gz',\n",
       " 'TCGA-2J-AAB1-01A_HTSeq-FPKM.txt.gz',\n",
       " 'TCGA-2L-AAQA-01A_HTSeq-Counts.txt.gz',\n",
       " 'TCGA-Q3-AA2A-01A_HTSeq-FPKM.txt.gz',\n",
       " 'TCGA-IB-7645-01A_HTSeq-FPKM-UQ.txt.gz',\n",
       " 'TCGA-HZ-A9TJ-06A_HTSeq-FPKM-UQ.txt.gz',\n",
       " 'TCGA-XN-A8T5-01A_HTSeq-FPKM-UQ.txt.gz',\n",
       " 'TCGA-3A-A9IL-01A_HTSeq-FPKM-UQ.txt.gz',\n",
       " 'TCGA-IB-7649-01A_HTSeq-FPKM.txt.gz',\n",
       " 'TCGA-2J-AABI-01A_HTSeq-Counts.txt.gz',\n",
       " 'TCGA-IB-A5SO-01A_HTSeq-FPKM-UQ.txt.gz',\n",
       " 'TCGA-IB-A6UG-01A_HTSeq-Counts.txt.gz',\n",
       " 'TCGA-IB-7893-01A_HTSeq-Counts.txt.gz',\n",
       " 'TCGA-2L-AAQL-01A_HTSeq-Counts.txt.gz',\n",
       " 'TCGA-3A-A9IU-01A_HTSeq-Counts.txt.gz',\n",
       " 'TCGA-HZ-8638-01A_HTSeq-FPKM.txt.gz',\n",
       " 'TCGA-3E-AAAY-01A_HTSeq-Counts.txt.gz',\n",
       " 'TCGA-2J-AAB9-01A_HTSeq-FPKM.txt.gz',\n",
       " 'TCGA-3A-A9I5-01A_HTSeq-FPKM-UQ.txt.gz',\n",
       " 'TCGA-2L-AAQA-01A_HTSeq-FPKM-UQ.txt.gz',\n",
       " 'TCGA-HZ-7919-01A_HTSeq-Counts.txt.gz',\n",
       " 'TCGA-3A-A9IH-01A_HTSeq-FPKM.txt.gz',\n",
       " 'TCGA-HZ-A9TJ-01A_HTSeq-FPKM-UQ.txt.gz',\n",
       " 'TCGA-F2-7276-01A_HTSeq-FPKM-UQ.txt.gz',\n",
       " 'TCGA-FB-AAQ3-01A_HTSeq-Counts.txt.gz',\n",
       " 'TCGA-IB-AAUO-01A_HTSeq-FPKM.txt.gz',\n",
       " 'TCGA-RB-A7B8-01A_HTSeq-FPKM-UQ.txt.gz',\n",
       " 'TCGA-RB-AA9M-01A_HTSeq-Counts.txt.gz',\n",
       " 'TCGA-FB-AAPY-01A_HTSeq-FPKM.txt.gz',\n",
       " 'TCGA-2J-AAB9-01A_HTSeq-FPKM-UQ.txt.gz',\n",
       " 'TCGA-3A-A9IO-01A_HTSeq-FPKM.txt.gz',\n",
       " 'TCGA-IB-7646-01A_HTSeq-FPKM-UQ.txt.gz',\n",
       " 'TCGA-HV-A5A3-01A_HTSeq-FPKM-UQ.txt.gz',\n",
       " 'TCGA-IB-7646-01A_HTSeq-FPKM.txt.gz',\n",
       " 'TCGA-HZ-7920-01A_HTSeq-FPKM-UQ.txt.gz',\n",
       " 'TCGA-US-A776-01A_HTSeq-FPKM.txt.gz',\n",
       " 'TCGA-3A-A9I9-01A_HTSeq-Counts.txt.gz',\n",
       " 'TCGA-3A-A9IR-01A_HTSeq-FPKM.txt.gz',\n",
       " 'TCGA-IB-7654-01A_HTSeq-FPKM-UQ.txt.gz',\n",
       " 'TCGA-HZ-7923-01A_HTSeq-Counts.txt.gz',\n",
       " 'TCGA-2L-AAQE-01A_HTSeq-Counts.txt.gz',\n",
       " 'TCGA-HZ-7918-01A_HTSeq-FPKM.txt.gz',\n",
       " 'TCGA-L1-A7W4-01A_HTSeq-Counts.txt.gz',\n",
       " 'TCGA-2J-AAB6-01A_HTSeq-FPKM.txt.gz',\n",
       " 'TCGA-HZ-8317-01A_HTSeq-FPKM.txt.gz',\n",
       " 'TCGA-H6-A45N-01A_HTSeq-FPKM.txt.gz',\n",
       " 'TCGA-2J-AABF-01A_HTSeq-Counts.txt.gz',\n",
       " 'TCGA-HZ-7922-01A_HTSeq-FPKM.txt.gz',\n",
       " 'TCGA-HV-A5A6-01A_HTSeq-FPKM-UQ.txt.gz',\n",
       " 'TCGA-XD-AAUH-01A_HTSeq-FPKM.txt.gz',\n",
       " 'TCGA-IB-7890-01A_HTSeq-FPKM.txt.gz',\n",
       " 'TCGA-US-A779-01A_HTSeq-Counts.txt.gz',\n",
       " 'TCGA-2J-AABP-01A_HTSeq-FPKM-UQ.txt.gz',\n",
       " 'TCGA-IB-A7LX-01A_HTSeq-FPKM.txt.gz',\n",
       " 'TCGA-F2-7276-01A_HTSeq-FPKM.txt.gz',\n",
       " 'TCGA-3A-A9IS-01A_HTSeq-FPKM-UQ.txt.gz',\n",
       " 'TCGA-IB-7891-01A_HTSeq-FPKM-UQ.txt.gz',\n",
       " 'TCGA-IB-7886-01A_HTSeq-Counts.txt.gz',\n",
       " 'TCGA-IB-AAUT-01A_HTSeq-FPKM-UQ.txt.gz',\n",
       " 'TCGA-3A-A9I7-01A_HTSeq-FPKM.txt.gz',\n",
       " 'TCGA-FB-A5VM-01A_HTSeq-FPKM.txt.gz',\n",
       " 'TCGA-IB-AAUO-01A_HTSeq-Counts.txt.gz',\n",
       " 'TCGA-2J-AABU-01A_HTSeq-Counts.txt.gz',\n",
       " 'TCGA-2J-AAB4-01A_HTSeq-FPKM.txt.gz',\n",
       " 'TCGA-F2-6880-01A_HTSeq-FPKM.txt.gz',\n",
       " 'TCGA-HZ-A9TJ-01A_HTSeq-Counts.txt.gz',\n",
       " 'TCGA-XD-AAUI-01A_HTSeq-FPKM-UQ.txt.gz',\n",
       " 'TCGA-3A-A9IR-01A_HTSeq-Counts.txt.gz',\n",
       " 'TCGA-HZ-8636-01A_HTSeq-Counts.txt.gz',\n",
       " 'TCGA-IB-8127-01A_HTSeq-FPKM-UQ.txt.gz',\n",
       " 'TCGA-2J-AABE-01A_HTSeq-Counts.txt.gz',\n",
       " 'TCGA-FB-AAPY-01A_HTSeq-FPKM-UQ.txt.gz',\n",
       " 'TCGA-HZ-8003-01A_HTSeq-FPKM.txt.gz',\n",
       " 'TCGA-FB-AAPZ-01A_HTSeq-FPKM.txt.gz',\n",
       " 'TCGA-IB-A5ST-01A_HTSeq-FPKM-UQ.txt.gz',\n",
       " 'TCGA-2J-AABU-01A_HTSeq-FPKM.txt.gz',\n",
       " 'TCGA-IB-AAUW-01A_HTSeq-FPKM.txt.gz',\n",
       " 'TCGA-HV-A5A6-01A_HTSeq-FPKM.txt.gz',\n",
       " 'TCGA-HZ-7920-01A_HTSeq-FPKM.txt.gz',\n",
       " 'TCGA-HZ-8637-01A_HTSeq-FPKM.txt.gz',\n",
       " 'TCGA-IB-AAUP-01A_HTSeq-FPKM-UQ.txt.gz',\n",
       " 'TCGA-M8-A5N4-01A_HTSeq-FPKM.txt.gz',\n",
       " 'TCGA-IB-A5SS-01A_HTSeq-FPKM-UQ.txt.gz',\n",
       " 'TCGA-IB-A5SQ-01A_HTSeq-Counts.txt.gz',\n",
       " 'TCGA-HV-A5A3-11A_HTSeq-FPKM-UQ.txt.gz',\n",
       " 'TCGA-3A-A9IJ-01A_HTSeq-FPKM-UQ.txt.gz',\n",
       " 'TCGA-HV-A7OP-01A_HTSeq-FPKM.txt.gz',\n",
       " 'TCGA-3E-AAAY-01A_HTSeq-FPKM.txt.gz',\n",
       " 'TCGA-3A-A9IR-01A_HTSeq-FPKM-UQ.txt.gz',\n",
       " 'TCGA-HZ-A49I-01A_HTSeq-FPKM.txt.gz',\n",
       " 'TCGA-IB-7646-01A_HTSeq-Counts.txt.gz',\n",
       " 'TCGA-HZ-8638-01A_HTSeq-Counts.txt.gz',\n",
       " 'TCGA-S4-A8RP-01A_HTSeq-Counts.txt.gz',\n",
       " 'TCGA-FB-A78T-01A_HTSeq-FPKM.txt.gz',\n",
       " 'TCGA-3A-A9I5-01A_HTSeq-FPKM.txt.gz',\n",
       " 'TCGA-HZ-A4BH-01A_HTSeq-FPKM-UQ.txt.gz',\n",
       " 'TCGA-YY-A8LH-01A_HTSeq-Counts.txt.gz',\n",
       " 'TCGA-LB-A9Q5-01A_HTSeq-FPKM-UQ.txt.gz',\n",
       " 'TCGA-RL-AAAS-01A_HTSeq-Counts.txt.gz',\n",
       " 'TCGA-US-A77G-01A_HTSeq-Counts.txt.gz',\n",
       " 'TCGA-2L-AAQE-01A_HTSeq-FPKM-UQ.txt.gz',\n",
       " 'TCGA-HZ-A49I-01A_HTSeq-Counts.txt.gz',\n",
       " 'TCGA-L1-A7W4-01A_HTSeq-FPKM.txt.gz',\n",
       " 'TCGA-FB-AAQ6-01A_HTSeq-FPKM-UQ.txt.gz',\n",
       " 'TCGA-3A-A9IC-01A_HTSeq-Counts.txt.gz',\n",
       " 'TCGA-Q3-AA2A-01A_HTSeq-FPKM-UQ.txt.gz',\n",
       " 'TCGA-IB-7649-01A_HTSeq-Counts.txt.gz',\n",
       " 'TCGA-M8-A5N4-01A_HTSeq-FPKM-UQ.txt.gz',\n",
       " 'TCGA-HV-A5A4-01A_HTSeq-FPKM.txt.gz',\n",
       " 'TCGA-YY-A8LH-01A_HTSeq-FPKM.txt.gz',\n",
       " 'TCGA-IB-7644-01A_HTSeq-Counts.txt.gz',\n",
       " 'TCGA-FB-A545-01A_HTSeq-Counts.txt.gz',\n",
       " 'TCGA-H6-8124-01A_HTSeq-FPKM-UQ.txt.gz',\n",
       " 'TCGA-HZ-8519-01A_HTSeq-FPKM.txt.gz',\n",
       " 'TCGA-HV-A5A3-11A_HTSeq-Counts.txt.gz',\n",
       " 'TCGA-HV-AA8X-01A_HTSeq-Counts.txt.gz',\n",
       " 'TCGA-FB-AAPY-01A_HTSeq-Counts.txt.gz',\n",
       " 'TCGA-2J-AABV-01A_HTSeq-FPKM.txt.gz',\n",
       " 'TCGA-IB-A5SQ-01A_HTSeq-FPKM-UQ.txt.gz',\n",
       " 'TCGA-Z5-AAPL-01A_HTSeq-FPKM.txt.gz',\n",
       " 'TCGA-IB-7652-01A_HTSeq-FPKM-UQ.txt.gz',\n",
       " 'TCGA-LB-A8F3-01A_HTSeq-Counts.txt.gz',\n",
       " 'TCGA-HZ-8315-01A_HTSeq-Counts.txt.gz',\n",
       " 'TCGA-FB-AAQ0-01A_HTSeq-Counts.txt.gz',\n",
       " 'TCGA-HV-A7OL-01A_HTSeq-FPKM-UQ.txt.gz',\n",
       " 'TCGA-HZ-8317-01A_HTSeq-Counts.txt.gz',\n",
       " 'TCGA-HZ-8315-01A_HTSeq-FPKM-UQ.txt.gz',\n",
       " 'TCGA-HZ-A49G-01A_HTSeq-FPKM-UQ.txt.gz',\n",
       " 'TCGA-IB-AAUN-01A_HTSeq-Counts.txt.gz',\n",
       " 'TCGA-2J-AAB6-01A_HTSeq-FPKM-UQ.txt.gz',\n",
       " 'TCGA-HZ-A8P1-01A_HTSeq-FPKM-UQ.txt.gz',\n",
       " 'TCGA-2J-AABO-01A_HTSeq-FPKM.txt.gz',\n",
       " 'TCGA-2L-AAQI-01A_HTSeq-FPKM.txt.gz',\n",
       " 'TCGA-IB-AAUT-01A_HTSeq-Counts.txt.gz',\n",
       " 'TCGA-HZ-8519-01A_HTSeq-FPKM-UQ.txt.gz',\n",
       " 'TCGA-IB-7889-01A_HTSeq-Counts.txt.gz',\n",
       " 'TCGA-FB-AAPZ-01A_HTSeq-FPKM-UQ.txt.gz',\n",
       " 'TCGA-2J-AABK-01A_HTSeq-FPKM-UQ.txt.gz',\n",
       " 'TCGA-3A-A9I9-01A_HTSeq-FPKM-UQ.txt.gz',\n",
       " 'TCGA-US-A774-01A_HTSeq-FPKM.txt.gz',\n",
       " 'TCGA-IB-A5SS-01A_HTSeq-FPKM.txt.gz',\n",
       " 'TCGA-FB-AAQ3-01A_HTSeq-FPKM.txt.gz',\n",
       " 'TCGA-H6-A45N-01A_HTSeq-Counts.txt.gz',\n",
       " 'TCGA-HV-A7OP-01A_HTSeq-FPKM-UQ.txt.gz',\n",
       " 'TCGA-YB-A89D-01A_HTSeq-FPKM.txt.gz',\n",
       " 'TCGA-2L-AAQA-01A_HTSeq-FPKM.txt.gz',\n",
       " 'TCGA-XD-AAUL-01A_HTSeq-FPKM.txt.gz',\n",
       " 'TCGA-HV-AA8X-01A_HTSeq-FPKM-UQ.txt.gz',\n",
       " 'TCGA-IB-7651-01A_HTSeq-Counts.txt.gz',\n",
       " 'TCGA-US-A779-01A_HTSeq-FPKM-UQ.txt.gz',\n",
       " 'TCGA-IB-A5SQ-01A_HTSeq-FPKM.txt.gz',\n",
       " 'TCGA-2J-AABA-01A_HTSeq-Counts.txt.gz',\n",
       " 'TCGA-F2-A44H-01A_HTSeq-Counts.txt.gz',\n",
       " 'TCGA-2J-AABF-01A_HTSeq-FPKM.txt.gz',\n",
       " 'TCGA-HZ-8003-01A_HTSeq-FPKM-UQ.txt.gz',\n",
       " 'TCGA-H6-A45N-11A_HTSeq-FPKM.txt.gz',\n",
       " 'TCGA-F2-7273-01A_HTSeq-FPKM-UQ.txt.gz',\n",
       " 'TCGA-IB-7897-01A_HTSeq-FPKM.txt.gz',\n",
       " 'TCGA-HZ-8315-01A_HTSeq-FPKM.txt.gz',\n",
       " 'TCGA-IB-7652-01A_HTSeq-FPKM.txt.gz',\n",
       " 'TCGA-2J-AABE-01A_HTSeq-FPKM.txt.gz',\n",
       " 'TCGA-3A-A9IN-01A_HTSeq-FPKM-UQ.txt.gz',\n",
       " 'TCGA-3A-A9IC-01A_HTSeq-FPKM-UQ.txt.gz',\n",
       " 'TCGA-2J-AAB6-01A_HTSeq-Counts.txt.gz',\n",
       " 'TCGA-FB-A5VM-01A_HTSeq-Counts.txt.gz',\n",
       " 'TCGA-3A-A9I9-01A_HTSeq-FPKM.txt.gz',\n",
       " 'TCGA-HZ-A4BK-01A_HTSeq-FPKM.txt.gz',\n",
       " 'TCGA-F2-7276-01A_HTSeq-Counts.txt.gz',\n",
       " 'TCGA-IB-8126-01A_HTSeq-FPKM-UQ.txt.gz',\n",
       " 'TCGA-2J-AAB4-01A_HTSeq-FPKM-UQ.txt.gz',\n",
       " 'TCGA-IB-A5SS-01A_HTSeq-Counts.txt.gz',\n",
       " 'TCGA-XD-AAUI-01A_HTSeq-FPKM.txt.gz',\n",
       " 'TCGA-XN-A8T3-01A_HTSeq-FPKM.txt.gz',\n",
       " 'TCGA-XD-AAUH-01A_HTSeq-Counts.txt.gz',\n",
       " 'TCGA-RL-AAAS-01A_HTSeq-FPKM.txt.gz',\n",
       " 'TCGA-HZ-8638-01A_HTSeq-FPKM-UQ.txt.gz',\n",
       " 'TCGA-IB-AAUN-01A_HTSeq-FPKM-UQ.txt.gz',\n",
       " 'TCGA-HZ-8002-01A_HTSeq-FPKM.txt.gz',\n",
       " 'TCGA-US-A774-01A_HTSeq-FPKM-UQ.txt.gz',\n",
       " 'TCGA-HZ-7923-01A_HTSeq-FPKM.txt.gz',\n",
       " 'TCGA-2J-AAB4-01A_HTSeq-Counts.txt.gz',\n",
       " 'TCGA-IB-7651-01A_HTSeq-FPKM.txt.gz',\n",
       " 'TCGA-IB-AAUS-01A_HTSeq-FPKM-UQ.txt.gz',\n",
       " 'TCGA-IB-7651-01A_HTSeq-FPKM-UQ.txt.gz',\n",
       " 'TCGA-2J-AAB1-01A_HTSeq-FPKM-UQ.txt.gz',\n",
       " 'TCGA-FB-A4P6-01A_HTSeq-Counts.txt.gz',\n",
       " 'TCGA-IB-AAUR-01A_HTSeq-FPKM.txt.gz',\n",
       " 'TCGA-IB-8126-01A_HTSeq-FPKM.txt.gz',\n",
       " 'TCGA-3E-AAAY-01A_HTSeq-FPKM-UQ.txt.gz',\n",
       " 'TCGA-3A-A9IX-01A_HTSeq-FPKM.txt.gz',\n",
       " 'TCGA-3A-A9IJ-01A_HTSeq-Counts.txt.gz',\n",
       " 'TCGA-IB-7893-01A_HTSeq-FPKM-UQ.txt.gz',\n",
       " 'TCGA-Z5-AAPL-01A_HTSeq-Counts.txt.gz',\n",
       " 'TCGA-IB-AAUN-01A_HTSeq-FPKM.txt.gz',\n",
       " 'TCGA-LB-A7SX-01A_HTSeq-Counts.txt.gz',\n",
       " 'TCGA-2L-AAQL-01A_HTSeq-FPKM-UQ.txt.gz',\n",
       " 'TCGA-F2-A7TX-01A_HTSeq-FPKM.txt.gz',\n",
       " 'TCGA-IB-7890-01A_HTSeq-Counts.txt.gz',\n",
       " 'TCGA-HZ-8003-01A_HTSeq-Counts.txt.gz',\n",
       " 'TCGA-HZ-A49G-01A_HTSeq-Counts.txt.gz',\n",
       " 'TCGA-FB-A545-01A_HTSeq-FPKM.txt.gz',\n",
       " 'TCGA-HZ-8002-01A_HTSeq-FPKM-UQ.txt.gz',\n",
       " 'TCGA-IB-7887-01A_HTSeq-FPKM-UQ.txt.gz',\n",
       " 'TCGA-Q3-A5QY-01A_HTSeq-Counts.txt.gz',\n",
       " 'TCGA-FB-AAQ2-01A_HTSeq-FPKM-UQ.txt.gz',\n",
       " 'TCGA-LB-A7SX-01A_HTSeq-FPKM-UQ.txt.gz',\n",
       " 'TCGA-IB-8127-01A_HTSeq-FPKM.txt.gz',\n",
       " 'TCGA-IB-7645-01A_HTSeq-FPKM.txt.gz',\n",
       " 'TCGA-3A-A9IX-01A_HTSeq-FPKM-UQ.txt.gz',\n",
       " 'TCGA-F2-A8YN-01A_HTSeq-FPKM-UQ.txt.gz',\n",
       " 'TCGA-YB-A89D-01A_HTSeq-Counts.txt.gz',\n",
       " 'TCGA-HV-AA8V-01A_HTSeq-FPKM-UQ.txt.gz',\n",
       " 'TCGA-F2-7273-01A_HTSeq-FPKM.txt.gz',\n",
       " 'TCGA-L1-A7W4-01A_HTSeq-FPKM-UQ.txt.gz',\n",
       " 'TCGA-LB-A8F3-01A_HTSeq-FPKM.txt.gz',\n",
       " 'TCGA-YH-A8SY-01A_HTSeq-FPKM-UQ.txt.gz',\n",
       " 'TCGA-HZ-7925-01A_HTSeq-Counts.txt.gz',\n",
       " 'TCGA-3A-A9IS-01A_HTSeq-Counts.txt.gz',\n",
       " 'TCGA-IB-7889-01A_HTSeq-FPKM-UQ.txt.gz',\n",
       " 'TCGA-HZ-8001-01A_HTSeq-FPKM.txt.gz',\n",
       " 'TCGA-HZ-A77P-01A_HTSeq-FPKM.txt.gz',\n",
       " 'TCGA-2L-AAQM-01A_HTSeq-FPKM.txt.gz',\n",
       " 'TCGA-2J-AAB9-01A_HTSeq-Counts.txt.gz',\n",
       " 'TCGA-IB-A6UG-01A_HTSeq-FPKM.txt.gz',\n",
       " 'TCGA-US-A776-01A_HTSeq-FPKM-UQ.txt.gz',\n",
       " 'TCGA-YH-A8SY-01A_HTSeq-Counts.txt.gz',\n",
       " 'TCGA-3A-A9J0-01A_HTSeq-FPKM.txt.gz',\n",
       " 'TCGA-3A-A9I5-01A_HTSeq-Counts.txt.gz',\n",
       " 'TCGA-HZ-A4BK-01A_HTSeq-Counts.txt.gz',\n",
       " 'TCGA-IB-7891-01A_HTSeq-FPKM.txt.gz',\n",
       " 'TCGA-YB-A89D-11A_HTSeq-Counts.txt.gz',\n",
       " 'TCGA-OE-A75W-01A_HTSeq-Counts.txt.gz',\n",
       " 'TCGA-LB-A8F3-01A_HTSeq-FPKM-UQ.txt.gz',\n",
       " 'TCGA-3A-A9IJ-01A_HTSeq-FPKM.txt.gz',\n",
       " 'TCGA-H8-A6C1-01A_HTSeq-FPKM-UQ.txt.gz',\n",
       " 'TCGA-F2-A7TX-01A_HTSeq-FPKM-UQ.txt.gz',\n",
       " 'TCGA-3A-A9IL-01A_HTSeq-Counts.txt.gz',\n",
       " 'TCGA-IB-7654-01A_HTSeq-Counts.txt.gz',\n",
       " 'TCGA-FB-AAQ1-01A_HTSeq-FPKM.txt.gz',\n",
       " 'TCGA-FB-A7DR-01A_HTSeq-Counts.txt.gz',\n",
       " 'TCGA-IB-AAUQ-01A_HTSeq-Counts.txt.gz',\n",
       " 'TCGA-IB-A7M4-01A_HTSeq-FPKM-UQ.txt.gz',\n",
       " 'TCGA-3A-A9IH-01A_HTSeq-Counts.txt.gz',\n",
       " 'TCGA-Q3-AA2A-01A_HTSeq-Counts.txt.gz',\n",
       " 'TCGA-HZ-A9TJ-06A_HTSeq-FPKM.txt.gz',\n",
       " 'TCGA-3E-AAAZ-01A_HTSeq-FPKM.txt.gz',\n",
       " 'TCGA-3A-A9IZ-01A_HTSeq-FPKM-UQ.txt.gz',\n",
       " 'TCGA-HZ-7918-01A_HTSeq-Counts.txt.gz',\n",
       " 'TCGA-YB-A89D-11A_HTSeq-FPKM.txt.gz',\n",
       " 'TCGA-IB-AAUM-01A_HTSeq-Counts.txt.gz',\n",
       " 'TCGA-HZ-A8P0-01A_HTSeq-Counts.txt.gz',\n",
       " 'TCGA-HZ-A9TJ-06A_HTSeq-Counts.txt.gz',\n",
       " 'TCGA-2J-AABR-01A_HTSeq-FPKM.txt.gz',\n",
       " 'TCGA-HZ-A77O-01A_HTSeq-Counts.txt.gz',\n",
       " 'TCGA-IB-7886-01A_HTSeq-FPKM.txt.gz',\n",
       " 'TCGA-FB-AAPS-01A_HTSeq-FPKM.txt.gz',\n",
       " 'TCGA-H6-A45N-11A_HTSeq-Counts.txt.gz',\n",
       " 'TCGA-FB-AAQ1-01A_HTSeq-Counts.txt.gz',\n",
       " 'TCGA-HZ-7919-01A_HTSeq-FPKM-UQ.txt.gz',\n",
       " 'TCGA-H6-8124-11A_HTSeq-FPKM-UQ.txt.gz',\n",
       " 'TCGA-2J-AABF-01A_HTSeq-FPKM-UQ.txt.gz',\n",
       " 'TCGA-H6-8124-01A_HTSeq-FPKM.txt.gz',\n",
       " 'TCGA-IB-7893-01A_HTSeq-FPKM.txt.gz',\n",
       " 'TCGA-HZ-7924-01A_HTSeq-FPKM-UQ.txt.gz',\n",
       " 'TCGA-2J-AABT-01A_HTSeq-FPKM.txt.gz',\n",
       " 'TCGA-Z5-AAPL-01A_HTSeq-FPKM-UQ.txt.gz',\n",
       " 'TCGA-US-A77G-01A_HTSeq-FPKM-UQ.txt.gz',\n",
       " 'TCGA-HZ-8637-01A_HTSeq-Counts.txt.gz',\n",
       " 'TCGA-HV-A5A3-01A_HTSeq-Counts.txt.gz',\n",
       " 'TCGA-FB-A7DR-01A_HTSeq-FPKM.txt.gz',\n",
       " 'TCGA-H8-A6C1-01A_HTSeq-FPKM.txt.gz',\n",
       " 'TCGA-FB-A545-01A_HTSeq-FPKM-UQ.txt.gz',\n",
       " 'TCGA-H6-8124-11A_HTSeq-Counts.txt.gz',\n",
       " 'TCGA-FB-AAPQ-01A_HTSeq-FPKM-UQ.txt.gz',\n",
       " 'TCGA-RB-AA9M-01A_HTSeq-FPKM-UQ.txt.gz',\n",
       " 'TCGA-2J-AABR-01A_HTSeq-FPKM-UQ.txt.gz',\n",
       " 'TCGA-HZ-A77Q-01A_HTSeq-FPKM-UQ.txt.gz',\n",
       " 'TCGA-3A-A9IZ-01A_HTSeq-FPKM.txt.gz',\n",
       " 'TCGA-3A-A9IV-01A_HTSeq-FPKM.txt.gz',\n",
       " 'TCGA-IB-A6UF-01A_HTSeq-Counts.txt.gz',\n",
       " 'TCGA-F2-A8YN-01A_HTSeq-Counts.txt.gz',\n",
       " 'TCGA-IB-7887-01A_HTSeq-FPKM.txt.gz',\n",
       " 'TCGA-IB-AAUV-01A_HTSeq-Counts.txt.gz',\n",
       " 'TCGA-3A-A9IU-01A_HTSeq-FPKM-UQ.txt.gz',\n",
       " 'TCGA-3A-A9J0-01A_HTSeq-Counts.txt.gz',\n",
       " 'TCGA-3A-A9I7-01A_HTSeq-FPKM-UQ.txt.gz',\n",
       " 'TCGA-HZ-8637-01A_HTSeq-FPKM-UQ.txt.gz',\n",
       " 'TCGA-IB-7888-01A_HTSeq-FPKM-UQ.txt.gz',\n",
       " 'TCGA-FB-AAPU-01A_HTSeq-FPKM-UQ.txt.gz',\n",
       " 'TCGA-Q3-A5QY-01A_HTSeq-FPKM.txt.gz',\n",
       " 'TCGA-IB-7888-01A_HTSeq-Counts.txt.gz',\n",
       " 'TCGA-2L-AAQL-01A_HTSeq-FPKM.txt.gz',\n",
       " 'TCGA-HZ-A49H-01A_HTSeq-Counts.txt.gz',\n",
       " 'TCGA-IB-AAUM-01A_HTSeq-FPKM.txt.gz',\n",
       " 'TCGA-S4-A8RM-01A_HTSeq-FPKM-UQ.txt.gz',\n",
       " 'TCGA-F2-6879-01A_HTSeq-Counts.txt.gz',\n",
       " 'TCGA-HV-A5A3-11A_HTSeq-FPKM.txt.gz',\n",
       " 'TCGA-IB-A7M4-01A_HTSeq-Counts.txt.gz',\n",
       " 'TCGA-3A-A9IV-01A_HTSeq-Counts.txt.gz',\n",
       " 'TCGA-YB-A89D-01A_HTSeq-FPKM-UQ.txt.gz',\n",
       " 'TCGA-HZ-A77P-01A_HTSeq-Counts.txt.gz',\n",
       " 'TCGA-IB-7889-01A_HTSeq-FPKM.txt.gz',\n",
       " 'TCGA-HZ-8002-01A_HTSeq-Counts.txt.gz',\n",
       " 'TCGA-IB-7885-01A_HTSeq-FPKM-UQ.txt.gz',\n",
       " 'TCGA-2J-AAB8-01A_HTSeq-Counts.txt.gz',\n",
       " 'TCGA-HZ-A9TJ-01A_HTSeq-FPKM.txt.gz',\n",
       " 'TCGA-XN-A8T3-01A_HTSeq-Counts.txt.gz',\n",
       " 'TCGA-FB-AAQ6-01A_HTSeq-Counts.txt.gz',\n",
       " 'TCGA-FB-A78T-01A_HTSeq-FPKM-UQ.txt.gz',\n",
       " 'TCGA-2J-AABK-01A_HTSeq-FPKM.txt.gz',\n",
       " 'TCGA-3A-A9IZ-01A_HTSeq-Counts.txt.gz',\n",
       " 'TCGA-HZ-A49H-01A_HTSeq-FPKM.txt.gz',\n",
       " 'TCGA-F2-A8YN-01A_HTSeq-FPKM.txt.gz',\n",
       " 'TCGA-US-A77G-01A_HTSeq-FPKM.txt.gz',\n",
       " 'TCGA-HZ-A77O-01A_HTSeq-FPKM.txt.gz',\n",
       " 'TCGA-IB-AAUW-01A_HTSeq-Counts.txt.gz',\n",
       " 'TCGA-HV-A5A5-01A_HTSeq-Counts.txt.gz',\n",
       " 'TCGA-XD-AAUI-01A_HTSeq-Counts.txt.gz',\n",
       " 'TCGA-S4-A8RP-01A_HTSeq-FPKM.txt.gz',\n",
       " 'TCGA-2L-AAQI-01A_HTSeq-FPKM-UQ.txt.gz',\n",
       " 'TCGA-FB-AAQ1-01A_HTSeq-FPKM-UQ.txt.gz',\n",
       " 'TCGA-IB-8126-01A_HTSeq-Counts.txt.gz',\n",
       " 'TCGA-HV-A7OP-01A_HTSeq-Counts.txt.gz',\n",
       " 'TCGA-YY-A8LH-01A_HTSeq-FPKM-UQ.txt.gz',\n",
       " 'TCGA-HZ-7924-01A_HTSeq-FPKM.txt.gz',\n",
       " 'TCGA-LB-A9Q5-01A_HTSeq-Counts.txt.gz',\n",
       " 'TCGA-US-A779-01A_HTSeq-FPKM.txt.gz',\n",
       " 'TCGA-2J-AABT-01A_HTSeq-Counts.txt.gz',\n",
       " 'TCGA-HV-A5A4-01A_HTSeq-Counts.txt.gz',\n",
       " 'TCGA-IB-AAUS-01A_HTSeq-Counts.txt.gz',\n",
       " 'TCGA-FB-AAPP-01A_HTSeq-FPKM-UQ.txt.gz',\n",
       " 'TCGA-IB-8127-01A_HTSeq-Counts.txt.gz',\n",
       " 'TCGA-PZ-A5RE-01A_HTSeq-FPKM.txt.gz',\n",
       " 'TCGA-H6-8124-11A_HTSeq-FPKM.txt.gz',\n",
       " 'TCGA-FB-AAQ2-01A_HTSeq-Counts.txt.gz',\n",
       " 'TCGA-HZ-8001-01A_HTSeq-FPKM-UQ.txt.gz',\n",
       " 'TCGA-FB-AAPP-01A_HTSeq-Counts.txt.gz',\n",
       " 'TCGA-FB-AAPU-01A_HTSeq-FPKM.txt.gz',\n",
       " 'TCGA-IB-A5SP-01A_HTSeq-FPKM-UQ.txt.gz',\n",
       " 'TCGA-HZ-7289-01A_HTSeq-FPKM-UQ.txt.gz',\n",
       " 'TCGA-FB-A5VM-01A_HTSeq-FPKM-UQ.txt.gz',\n",
       " 'TCGA-XD-AAUH-01A_HTSeq-FPKM-UQ.txt.gz',\n",
       " 'TCGA-S4-A8RM-01A_HTSeq-FPKM.txt.gz',\n",
       " 'TCGA-F2-7273-01A_HTSeq-Counts.txt.gz',\n",
       " 'TCGA-HZ-7923-01A_HTSeq-FPKM-UQ.txt.gz',\n",
       " 'TCGA-HZ-8001-01A_HTSeq-Counts.txt.gz',\n",
       " 'TCGA-IB-AAUQ-01A_HTSeq-FPKM.txt.gz',\n",
       " 'TCGA-HZ-A4BH-01A_HTSeq-Counts.txt.gz',\n",
       " 'TCGA-3A-A9IN-01A_HTSeq-Counts.txt.gz',\n",
       " 'TCGA-HZ-7922-01A_HTSeq-Counts.txt.gz',\n",
       " 'TCGA-IB-7885-01A_HTSeq-FPKM.txt.gz',\n",
       " 'TCGA-IB-7888-01A_HTSeq-FPKM.txt.gz',\n",
       " 'TCGA-US-A776-01A_HTSeq-Counts.txt.gz',\n",
       " 'TCGA-IB-A5ST-01A_HTSeq-FPKM.txt.gz',\n",
       " 'TCGA-3A-A9IL-01A_HTSeq-FPKM.txt.gz',\n",
       " 'TCGA-XD-AAUG-01A_HTSeq-Counts.txt.gz',\n",
       " 'TCGA-IB-AAUW-01A_HTSeq-FPKM-UQ.txt.gz',\n",
       " 'TCGA-IB-A5SO-01A_HTSeq-FPKM.txt.gz',\n",
       " 'TCGA-3A-A9IV-01A_HTSeq-FPKM-UQ.txt.gz',\n",
       " 'TCGA-S4-A8RM-01A_HTSeq-Counts.txt.gz',\n",
       " 'TCGA-IB-AAUQ-01A_HTSeq-FPKM-UQ.txt.gz',\n",
       " 'TCGA-2J-AABT-01A_HTSeq-FPKM-UQ.txt.gz',\n",
       " 'TCGA-2L-AAQJ-01A_HTSeq-FPKM.txt.gz',\n",
       " 'TCGA-3A-A9IS-01A_HTSeq-FPKM.txt.gz',\n",
       " 'TCGA-F2-A44G-01A_HTSeq-FPKM-UQ.txt.gz',\n",
       " 'TCGA-IB-7897-01A_HTSeq-FPKM-UQ.txt.gz',\n",
       " 'TCGA-HV-AA8V-01A_HTSeq-FPKM.txt.gz',\n",
       " 'TCGA-IB-7654-01A_HTSeq-FPKM.txt.gz',\n",
       " 'TCGA-2J-AABO-01A_HTSeq-FPKM-UQ.txt.gz',\n",
       " 'TCGA-HZ-7922-01A_HTSeq-FPKM-UQ.txt.gz',\n",
       " 'TCGA-HV-AA8X-01A_HTSeq-FPKM.txt.gz',\n",
       " 'TCGA-HV-A5A5-01A_HTSeq-FPKM-UQ.txt.gz',\n",
       " 'TCGA-3E-AAAZ-01A_HTSeq-Counts.txt.gz',\n",
       " 'TCGA-IB-7645-01A_HTSeq-Counts.txt.gz',\n",
       " 'TCGA-F2-A44G-01A_HTSeq-FPKM.txt.gz',\n",
       " 'TCGA-2J-AABV-01A_HTSeq-Counts.txt.gz',\n",
       " 'TCGA-IB-AAUP-01A_HTSeq-FPKM.txt.gz',\n",
       " 'TCGA-IB-A5ST-01A_HTSeq-Counts.txt.gz',\n",
       " 'TCGA-US-A77E-01A_HTSeq-Counts.txt.gz',\n",
       " 'TCGA-HZ-A77Q-01A_HTSeq-FPKM.txt.gz',\n",
       " 'TCGA-3A-A9IB-01A_HTSeq-Counts.txt.gz',\n",
       " 'TCGA-H6-A45N-01A_HTSeq-FPKM-UQ.txt.gz',\n",
       " 'TCGA-FB-A7DR-01A_HTSeq-FPKM-UQ.txt.gz',\n",
       " 'TCGA-US-A77J-01A_HTSeq-Counts.txt.gz',\n",
       " 'TCGA-HZ-8005-01A_HTSeq-FPKM-UQ.txt.gz',\n",
       " 'TCGA-FB-A4P5-01A_HTSeq-Counts.txt.gz',\n",
       " 'TCGA-HZ-A8P0-01A_HTSeq-FPKM.txt.gz',\n",
       " 'TCGA-XN-A8T5-01A_HTSeq-FPKM.txt.gz',\n",
       " 'TCGA-IB-A6UF-01A_HTSeq-FPKM-UQ.txt.gz',\n",
       " 'TCGA-2J-AABP-01A_HTSeq-FPKM.txt.gz',\n",
       " 'TCGA-2L-AAQM-01A_HTSeq-FPKM-UQ.txt.gz',\n",
       " 'TCGA-HZ-7919-01A_HTSeq-FPKM.txt.gz',\n",
       " 'TCGA-FB-A4P5-01A_HTSeq-FPKM-UQ.txt.gz',\n",
       " 'TCGA-3A-A9IC-01A_HTSeq-FPKM.txt.gz',\n",
       " 'TCGA-F2-A44G-01A_HTSeq-Counts.txt.gz',\n",
       " 'TCGA-F2-A44H-01A_HTSeq-FPKM.txt.gz',\n",
       " 'TCGA-IB-7886-01A_HTSeq-FPKM-UQ.txt.gz',\n",
       " 'TCGA-HZ-A4BK-01A_HTSeq-FPKM-UQ.txt.gz',\n",
       " 'TCGA-3E-AAAZ-01A_HTSeq-FPKM-UQ.txt.gz',\n",
       " 'TCGA-RB-A7B8-01A_HTSeq-Counts.txt.gz',\n",
       " 'TCGA-XD-AAUL-01A_HTSeq-Counts.txt.gz',\n",
       " 'TCGA-IB-A5SO-01A_HTSeq-Counts.txt.gz',\n",
       " 'TCGA-US-A774-01A_HTSeq-Counts.txt.gz',\n",
       " 'TCGA-IB-A7M4-01A_HTSeq-FPKM.txt.gz',\n",
       " 'TCGA-IB-AAUR-01A_HTSeq-FPKM-UQ.txt.gz',\n",
       " 'TCGA-IB-7652-01A_HTSeq-Counts.txt.gz',\n",
       " 'TCGA-2J-AABA-01A_HTSeq-FPKM-UQ.txt.gz',\n",
       " 'TCGA-2J-AABU-01A_HTSeq-FPKM-UQ.txt.gz',\n",
       " 'TCGA-2J-AAB8-01A_HTSeq-FPKM.txt.gz',\n",
       " 'TCGA-F2-6880-01A_HTSeq-FPKM-UQ.txt.gz',\n",
       " 'TCGA-IB-AAUO-01A_HTSeq-FPKM-UQ.txt.gz',\n",
       " 'TCGA-2J-AABE-01A_HTSeq-FPKM-UQ.txt.gz',\n",
       " 'TCGA-2L-AAQJ-01A_HTSeq-Counts.txt.gz',\n",
       " 'TCGA-2J-AABI-01A_HTSeq-FPKM-UQ.txt.gz',\n",
       " 'TCGA-FB-A4P6-01A_HTSeq-FPKM-UQ.txt.gz',\n",
       " 'TCGA-HZ-A8P1-01A_HTSeq-FPKM.txt.gz',\n",
       " 'TCGA-HZ-A8P1-01A_HTSeq-Counts.txt.gz',\n",
       " 'TCGA-HZ-A8P0-01A_HTSeq-FPKM-UQ.txt.gz',\n",
       " 'TCGA-HZ-7289-01A_HTSeq-FPKM.txt.gz',\n",
       " 'TCGA-FB-AAPZ-01A_HTSeq-Counts.txt.gz',\n",
       " 'TCGA-XN-A8T5-01A_HTSeq-Counts.txt.gz',\n",
       " 'TCGA-IB-A6UF-01A_HTSeq-FPKM.txt.gz',\n",
       " 'TCGA-2J-AABP-01A_HTSeq-Counts.txt.gz',\n",
       " 'TCGA-2J-AAB1-01A_HTSeq-Counts.txt.gz',\n",
       " 'TCGA-S4-A8RP-01A_HTSeq-FPKM-UQ.txt.gz',\n",
       " 'TCGA-XD-AAUL-01A_HTSeq-FPKM-UQ.txt.gz',\n",
       " 'TCGA-2J-AABR-01A_HTSeq-Counts.txt.gz',\n",
       " 'TCGA-HV-A7OL-01A_HTSeq-Counts.txt.gz',\n",
       " 'TCGA-FB-AAPU-01A_HTSeq-Counts.txt.gz',\n",
       " 'TCGA-HV-A5A5-01A_HTSeq-FPKM.txt.gz',\n",
       " 'TCGA-2J-AABK-01A_HTSeq-Counts.txt.gz',\n",
       " 'TCGA-HZ-A77P-01A_HTSeq-FPKM-UQ.txt.gz',\n",
       " 'TCGA-US-A77J-01A_HTSeq-FPKM-UQ.txt.gz',\n",
       " 'TCGA-IB-7887-01A_HTSeq-Counts.txt.gz',\n",
       " 'TCGA-HZ-7920-01A_HTSeq-Counts.txt.gz',\n",
       " 'TCGA-2L-AAQJ-01A_HTSeq-FPKM-UQ.txt.gz',\n",
       " 'TCGA-HV-A5A4-01A_HTSeq-FPKM-UQ.txt.gz',\n",
       " 'TCGA-FB-AAPP-01A_HTSeq-FPKM.txt.gz',\n",
       " 'TCGA-LB-A9Q5-01A_HTSeq-FPKM.txt.gz',\n",
       " 'TCGA-2L-AAQI-01A_HTSeq-Counts.txt.gz',\n",
       " 'TCGA-HZ-A4BH-01A_HTSeq-FPKM.txt.gz',\n",
       " 'TCGA-HV-AA8V-01A_HTSeq-Counts.txt.gz',\n",
       " 'TCGA-S4-A8RO-01A_HTSeq-FPKM.txt.gz',\n",
       " 'TCGA-HZ-7924-01A_HTSeq-Counts.txt.gz',\n",
       " 'TCGA-2J-AABI-01A_HTSeq-FPKM.txt.gz',\n",
       " 'TCGA-US-A77E-01A_HTSeq-FPKM-UQ.txt.gz',\n",
       " 'TCGA-3A-A9IO-01A_HTSeq-Counts.txt.gz',\n",
       " 'TCGA-FB-A78T-01A_HTSeq-Counts.txt.gz',\n",
       " 'TCGA-LB-A7SX-01A_HTSeq-FPKM.txt.gz',\n",
       " 'TCGA-IB-AAUS-01A_HTSeq-FPKM.txt.gz',\n",
       " 'TCGA-IB-AAUP-01A_HTSeq-Counts.txt.gz',\n",
       " 'TCGA-IB-7644-01A_HTSeq-FPKM-UQ.txt.gz',\n",
       " 'TCGA-IB-AAUU-01A_HTSeq-Counts.txt.gz',\n",
       " 'TCGA-M8-A5N4-01A_HTSeq-Counts.txt.gz',\n",
       " 'TCGA-IB-A5SP-01A_HTSeq-Counts.txt.gz',\n",
       " 'TCGA-S4-A8RO-01A_HTSeq-FPKM-UQ.txt.gz',\n",
       " 'TCGA-HZ-A49I-01A_HTSeq-FPKM-UQ.txt.gz',\n",
       " 'TCGA-F2-A44H-01A_HTSeq-FPKM-UQ.txt.gz',\n",
       " 'TCGA-HZ-7926-01A_HTSeq-FPKM.txt.gz',\n",
       " 'TCGA-IB-AAUU-01A_HTSeq-FPKM.txt.gz',\n",
       " 'TCGA-FB-AAPS-01A_HTSeq-Counts.txt.gz',\n",
       " 'TCGA-IB-7885-01A_HTSeq-Counts.txt.gz',\n",
       " 'TCGA-IB-7890-01A_HTSeq-FPKM-UQ.txt.gz',\n",
       " 'TCGA-HZ-A77O-01A_HTSeq-FPKM-UQ.txt.gz',\n",
       " 'TCGA-HZ-8005-01A_HTSeq-FPKM.txt.gz',\n",
       " 'TCGA-S4-A8RO-01A_HTSeq-Counts.txt.gz',\n",
       " 'TCGA-2J-AABO-01A_HTSeq-Counts.txt.gz',\n",
       " 'TCGA-FB-AAQ2-01A_HTSeq-FPKM.txt.gz',\n",
       " 'TCGA-FB-AAPQ-01A_HTSeq-Counts.txt.gz',\n",
       " 'TCGA-2J-AABA-01A_HTSeq-FPKM.txt.gz',\n",
       " 'TCGA-IB-7644-01A_HTSeq-FPKM.txt.gz',\n",
       " 'TCGA-US-A77J-01A_HTSeq-FPKM.txt.gz',\n",
       " 'TCGA-FB-A4P5-01A_HTSeq-FPKM.txt.gz',\n",
       " 'TCGA-HZ-8636-01A_HTSeq-FPKM-UQ.txt.gz',\n",
       " 'TCGA-RB-A7B8-01A_HTSeq-FPKM.txt.gz',\n",
       " 'TCGA-3A-A9IB-01A_HTSeq-FPKM-UQ.txt.gz',\n",
       " 'TCGA-HZ-8519-01A_HTSeq-Counts.txt.gz',\n",
       " 'TCGA-XD-AAUG-01A_HTSeq-FPKM.txt.gz',\n",
       " 'TCGA-2J-AABH-01A_HTSeq-FPKM-UQ.txt.gz',\n",
       " 'TCGA-3A-A9IX-01A_HTSeq-Counts.txt.gz',\n",
       " 'TCGA-US-A77E-01A_HTSeq-FPKM.txt.gz',\n",
       " 'TCGA-HV-A5A3-01A_HTSeq-FPKM.txt.gz',\n",
       " 'TCGA-RL-AAAS-01A_HTSeq-FPKM-UQ.txt.gz',\n",
       " 'TCGA-2J-AABH-01A_HTSeq-FPKM.txt.gz',\n",
       " 'TCGA-F2-6880-01A_HTSeq-Counts.txt.gz',\n",
       " 'TCGA-RB-AA9M-01A_HTSeq-FPKM.txt.gz',\n",
       " 'TCGA-HV-A5A6-01A_HTSeq-Counts.txt.gz',\n",
       " 'TCGA-OE-A75W-01A_HTSeq-FPKM.txt.gz',\n",
       " 'TCGA-FB-AAQ0-01A_HTSeq-FPKM.txt.gz',\n",
       " 'TCGA-HZ-A77Q-01A_HTSeq-Counts.txt.gz',\n",
       " 'TCGA-XN-A8T3-01A_HTSeq-FPKM-UQ.txt.gz',\n",
       " 'TCGA-HZ-7925-01A_HTSeq-FPKM-UQ.txt.gz',\n",
       " 'TCGA-FB-AAQ0-01A_HTSeq-FPKM-UQ.txt.gz',\n",
       " 'TCGA-HZ-7926-01A_HTSeq-Counts.txt.gz',\n",
       " 'TCGA-IB-AAUT-01A_HTSeq-FPKM.txt.gz',\n",
       " 'TCGA-Q3-A5QY-01A_HTSeq-FPKM-UQ.txt.gz',\n",
       " 'TCGA-HZ-7918-01A_HTSeq-FPKM-UQ.txt.gz',\n",
       " 'TCGA-2J-AABH-01A_HTSeq-Counts.txt.gz',\n",
       " 'TCGA-F2-6879-01A_HTSeq-FPKM-UQ.txt.gz',\n",
       " 'TCGA-PZ-A5RE-01A_HTSeq-FPKM-UQ.txt.gz',\n",
       " 'TCGA-HZ-7925-01A_HTSeq-FPKM.txt.gz',\n",
       " 'TCGA-HZ-A49H-01A_HTSeq-FPKM-UQ.txt.gz',\n",
       " 'TCGA-IB-AAUV-01A_HTSeq-FPKM-UQ.txt.gz']"
      ]
     },
     "execution_count": 39,
     "metadata": {},
     "output_type": "execute_result"
    }
   ],
   "source": [
    "files = api_download_iterative(rnaseq_df, rnaseq_path, multiprocess=8)"
   ]
  },
  {
   "cell_type": "code",
   "execution_count": 42,
   "metadata": {},
   "outputs": [],
   "source": [
    "def gunzip(source_filepath, dest_filepath):\n",
    "    with gzip.open(source_filepath, 'rb') as s_file:\n",
    "        with open(dest_filepath, 'wb') as d_file:\n",
    "            shutil.copyfileobj(s_file, d_file)"
   ]
  },
  {
   "cell_type": "code",
   "execution_count": 51,
   "metadata": {},
   "outputs": [],
   "source": [
    "for file_name in files:\n",
    "    \n",
    "    source_filepath = os.path.join(rnaseq_path, file_name)\n",
    "    dest_filepath = re.sub('\\.gz$', '', source_filepath)\n",
    "    \n",
    "    gunzip(source_filepath, dest_filepath)\n",
    "    os.remove(source_filepath)"
   ]
  },
  {
   "cell_type": "code",
   "execution_count": null,
   "metadata": {},
   "outputs": [],
   "source": []
  }
 ],
 "metadata": {
  "kernelspec": {
   "display_name": "Python 3",
   "language": "python",
   "name": "python3"
  },
  "language_info": {
   "codemirror_mode": {
    "name": "ipython",
    "version": 3
   },
   "file_extension": ".py",
   "mimetype": "text/x-python",
   "name": "python",
   "nbconvert_exporter": "python",
   "pygments_lexer": "ipython3",
   "version": "3.7.1"
  }
 },
 "nbformat": 4,
 "nbformat_minor": 2
}
