{
 "cells": [
  {
   "cell_type": "code",
   "execution_count": 90,
   "metadata": {},
   "outputs": [
    {
     "name": "stdout",
     "output_type": "stream",
     "text": [
      "The autoreload extension is already loaded. To reload it, use:\n",
      "  %reload_ext autoreload\n"
     ]
    }
   ],
   "source": [
    "%load_ext autoreload\n",
    "%autoreload 2"
   ]
  },
  {
   "cell_type": "code",
   "execution_count": 91,
   "metadata": {},
   "outputs": [],
   "source": [
    "import requests\n",
    "import yaml\n",
    "import json\n",
    "import os\n",
    "import pandas as pd\n",
    "import gzip\n",
    "import shutil"
   ]
  },
  {
   "cell_type": "code",
   "execution_count": 92,
   "metadata": {},
   "outputs": [],
   "source": [
    "from gdc.download import api_download_iterative"
   ]
  },
  {
   "cell_type": "markdown",
   "metadata": {},
   "source": [
    "Config"
   ]
  },
  {
   "cell_type": "code",
   "execution_count": 93,
   "metadata": {},
   "outputs": [
    {
     "name": "stdout",
     "output_type": "stream",
     "text": [
      "Icon?           __init__.py     user_conf.yaml\r\n"
     ]
    }
   ],
   "source": [
    "%ls conf/"
   ]
  },
  {
   "cell_type": "code",
   "execution_count": 94,
   "metadata": {},
   "outputs": [],
   "source": [
    "with open('conf/user_conf.yaml', 'r') as f:\n",
    "    conf = yaml.load(f)"
   ]
  },
  {
   "cell_type": "markdown",
   "metadata": {},
   "source": [
    "Paths"
   ]
  },
  {
   "cell_type": "code",
   "execution_count": 95,
   "metadata": {},
   "outputs": [],
   "source": [
    "slides_metadata_file = os.path.join(conf['data_path'], 'slides_metadata.csv')\n",
    "rnaseq_metadata_file = os.path.join(conf['data_path'], 'rnaseq_metadata.csv')"
   ]
  },
  {
   "cell_type": "code",
   "execution_count": 110,
   "metadata": {},
   "outputs": [],
   "source": [
    "slides_path = os.path.join(conf['data_path'], 'slides')\n",
    "if not os.path.exists(slides_path):\n",
    "    os.mkdir(slides_path)"
   ]
  },
  {
   "cell_type": "code",
   "execution_count": 111,
   "metadata": {},
   "outputs": [],
   "source": [
    "rnaseq_path = os.path.join(conf['data_path'], 'rnaseq')\n",
    "\n",
    "if not os.path.exists(rnaseq_path):\n",
    "    os.mkdir(rnaseq_path)"
   ]
  },
  {
   "cell_type": "markdown",
   "metadata": {},
   "source": [
    "# Download Files"
   ]
  },
  {
   "cell_type": "markdown",
   "metadata": {},
   "source": [
    "Read metadata"
   ]
  },
  {
   "cell_type": "code",
   "execution_count": 112,
   "metadata": {},
   "outputs": [
    {
     "data": {
      "text/html": [
       "<div>\n",
       "<style scoped>\n",
       "    .dataframe tbody tr th:only-of-type {\n",
       "        vertical-align: middle;\n",
       "    }\n",
       "\n",
       "    .dataframe tbody tr th {\n",
       "        vertical-align: top;\n",
       "    }\n",
       "\n",
       "    .dataframe thead th {\n",
       "        text-align: right;\n",
       "    }\n",
       "</style>\n",
       "<table border=\"1\" class=\"dataframe\">\n",
       "  <thead>\n",
       "    <tr style=\"text-align: right;\">\n",
       "      <th></th>\n",
       "      <th>file_name</th>\n",
       "      <th>file_id</th>\n",
       "      <th>file_size</th>\n",
       "      <th>sample_id</th>\n",
       "      <th>experimental_strategy</th>\n",
       "    </tr>\n",
       "  </thead>\n",
       "  <tbody>\n",
       "    <tr>\n",
       "      <th>0</th>\n",
       "      <td>TCGA-2L-AAQM-11A-01-TSA.svs</td>\n",
       "      <td>ddce0ab5-47b7-43c2-8d67-3d50c48d8ae7</td>\n",
       "      <td>60.99</td>\n",
       "      <td>TCGA-2L-AAQM-11A</td>\n",
       "      <td>Tissue Slide</td>\n",
       "    </tr>\n",
       "    <tr>\n",
       "      <th>1</th>\n",
       "      <td>TCGA-HZ-A49I-01A-01-TS1.svs</td>\n",
       "      <td>7ec5c9d0-8c22-4e30-bae8-605c3dcfe744</td>\n",
       "      <td>293.72</td>\n",
       "      <td>TCGA-HZ-A49I-01A</td>\n",
       "      <td>Tissue Slide</td>\n",
       "    </tr>\n",
       "    <tr>\n",
       "      <th>2</th>\n",
       "      <td>TCGA-3A-A9IZ-01A-01-TS1.svs</td>\n",
       "      <td>265adb6b-913e-490c-8cea-32d67c1440a2</td>\n",
       "      <td>166.95</td>\n",
       "      <td>TCGA-3A-A9IZ-01A</td>\n",
       "      <td>Tissue Slide</td>\n",
       "    </tr>\n",
       "  </tbody>\n",
       "</table>\n",
       "</div>"
      ],
      "text/plain": [
       "                     file_name                               file_id  \\\n",
       "0  TCGA-2L-AAQM-11A-01-TSA.svs  ddce0ab5-47b7-43c2-8d67-3d50c48d8ae7   \n",
       "1  TCGA-HZ-A49I-01A-01-TS1.svs  7ec5c9d0-8c22-4e30-bae8-605c3dcfe744   \n",
       "2  TCGA-3A-A9IZ-01A-01-TS1.svs  265adb6b-913e-490c-8cea-32d67c1440a2   \n",
       "\n",
       "   file_size         sample_id experimental_strategy  \n",
       "0      60.99  TCGA-2L-AAQM-11A          Tissue Slide  \n",
       "1     293.72  TCGA-HZ-A49I-01A          Tissue Slide  \n",
       "2     166.95  TCGA-3A-A9IZ-01A          Tissue Slide  "
      ]
     },
     "execution_count": 112,
     "metadata": {},
     "output_type": "execute_result"
    }
   ],
   "source": [
    "slides_df = pd.read_csv(slides_metadata_file, sep='|')\n",
    "slides_df = slides_df[['file_name', 'file_id', 'file_size', 'sample_id', 'experimental_strategy']]\n",
    "slides_df.head(3)"
   ]
  },
  {
   "cell_type": "code",
   "execution_count": 113,
   "metadata": {},
   "outputs": [
    {
     "data": {
      "text/html": [
       "<div>\n",
       "<style scoped>\n",
       "    .dataframe tbody tr th:only-of-type {\n",
       "        vertical-align: middle;\n",
       "    }\n",
       "\n",
       "    .dataframe tbody tr th {\n",
       "        vertical-align: top;\n",
       "    }\n",
       "\n",
       "    .dataframe thead th {\n",
       "        text-align: right;\n",
       "    }\n",
       "</style>\n",
       "<table border=\"1\" class=\"dataframe\">\n",
       "  <thead>\n",
       "    <tr style=\"text-align: right;\">\n",
       "      <th></th>\n",
       "      <th>file_name</th>\n",
       "      <th>file_id</th>\n",
       "      <th>file_size</th>\n",
       "      <th>sample_id</th>\n",
       "      <th>workflow_type</th>\n",
       "    </tr>\n",
       "  </thead>\n",
       "  <tbody>\n",
       "    <tr>\n",
       "      <th>0</th>\n",
       "      <td>TCGA-FB-AAPS-01A_HTSeq-FPKM-UQ.txt.gz</td>\n",
       "      <td>1e0be26b-da47-4e56-926c-9afc259a2bd0</td>\n",
       "      <td>0.53</td>\n",
       "      <td>TCGA-FB-AAPS-01A</td>\n",
       "      <td>HTSeq - FPKM-UQ</td>\n",
       "    </tr>\n",
       "    <tr>\n",
       "      <th>1</th>\n",
       "      <td>TCGA-FB-AAQ3-01A_HTSeq-FPKM-UQ.txt.gz</td>\n",
       "      <td>2803abb9-bf21-4b75-a3c9-687c87b75701</td>\n",
       "      <td>0.50</td>\n",
       "      <td>TCGA-FB-AAQ3-01A</td>\n",
       "      <td>HTSeq - FPKM-UQ</td>\n",
       "    </tr>\n",
       "    <tr>\n",
       "      <th>2</th>\n",
       "      <td>TCGA-HZ-8005-01A_HTSeq-Counts.txt.gz</td>\n",
       "      <td>4d98a852-c30a-437b-a214-ee81015d674b</td>\n",
       "      <td>0.25</td>\n",
       "      <td>TCGA-HZ-8005-01A</td>\n",
       "      <td>HTSeq - Counts</td>\n",
       "    </tr>\n",
       "  </tbody>\n",
       "</table>\n",
       "</div>"
      ],
      "text/plain": [
       "                               file_name  \\\n",
       "0  TCGA-FB-AAPS-01A_HTSeq-FPKM-UQ.txt.gz   \n",
       "1  TCGA-FB-AAQ3-01A_HTSeq-FPKM-UQ.txt.gz   \n",
       "2   TCGA-HZ-8005-01A_HTSeq-Counts.txt.gz   \n",
       "\n",
       "                                file_id  file_size         sample_id  \\\n",
       "0  1e0be26b-da47-4e56-926c-9afc259a2bd0       0.53  TCGA-FB-AAPS-01A   \n",
       "1  2803abb9-bf21-4b75-a3c9-687c87b75701       0.50  TCGA-FB-AAQ3-01A   \n",
       "2  4d98a852-c30a-437b-a214-ee81015d674b       0.25  TCGA-HZ-8005-01A   \n",
       "\n",
       "     workflow_type  \n",
       "0  HTSeq - FPKM-UQ  \n",
       "1  HTSeq - FPKM-UQ  \n",
       "2   HTSeq - Counts  "
      ]
     },
     "execution_count": 113,
     "metadata": {},
     "output_type": "execute_result"
    }
   ],
   "source": [
    "rnaseq_df = pd.read_csv(rnaseq_metadata_file, sep='|')\n",
    "rnaseq_df = rnaseq_df[['file_name', 'file_id', 'file_size', 'sample_id', 'workflow_type']]\n",
    "rnaseq_df.head(3)"
   ]
  },
  {
   "cell_type": "markdown",
   "metadata": {},
   "source": [
    "## Slides"
   ]
  },
  {
   "cell_type": "markdown",
   "metadata": {},
   "source": [
    "*Keep only the ones with RNASeq related data?*\n",
    "*Keep only tissue slides?*"
   ]
  },
  {
   "cell_type": "markdown",
   "metadata": {},
   "source": [
    "Number of files and count"
   ]
  },
  {
   "cell_type": "code",
   "execution_count": 114,
   "metadata": {},
   "outputs": [
    {
     "data": {
      "text/html": [
       "<div>\n",
       "<style scoped>\n",
       "    .dataframe tbody tr th:only-of-type {\n",
       "        vertical-align: middle;\n",
       "    }\n",
       "\n",
       "    .dataframe tbody tr th {\n",
       "        vertical-align: top;\n",
       "    }\n",
       "\n",
       "    .dataframe thead th {\n",
       "        text-align: right;\n",
       "    }\n",
       "</style>\n",
       "<table border=\"1\" class=\"dataframe\">\n",
       "  <thead>\n",
       "    <tr style=\"text-align: right;\">\n",
       "      <th></th>\n",
       "      <th>count</th>\n",
       "      <th>total_size (gb)</th>\n",
       "    </tr>\n",
       "    <tr>\n",
       "      <th>experimental_strategy</th>\n",
       "      <th></th>\n",
       "      <th></th>\n",
       "    </tr>\n",
       "  </thead>\n",
       "  <tbody>\n",
       "    <tr>\n",
       "      <th>Diagnostic Slide</th>\n",
       "      <td>209</td>\n",
       "      <td>244.53</td>\n",
       "    </tr>\n",
       "    <tr>\n",
       "      <th>Tissue Slide</th>\n",
       "      <td>257</td>\n",
       "      <td>57.48</td>\n",
       "    </tr>\n",
       "  </tbody>\n",
       "</table>\n",
       "</div>"
      ],
      "text/plain": [
       "                       count  total_size (gb)\n",
       "experimental_strategy                        \n",
       "Diagnostic Slide         209           244.53\n",
       "Tissue Slide             257            57.48"
      ]
     },
     "execution_count": 114,
     "metadata": {},
     "output_type": "execute_result"
    }
   ],
   "source": [
    "summary = slides_df.groupby('experimental_strategy').agg({'file_name': 'size', 'file_size': 'sum'})\n",
    "summary = summary.rename(columns={'file_name': 'count', 'file_size': 'total_size (gb)'})\n",
    "summary['total_size (gb)'] = round(summary['total_size (gb)'] / 1000, 2)\n",
    "\n",
    "summary"
   ]
  },
  {
   "cell_type": "code",
   "execution_count": 115,
   "metadata": {},
   "outputs": [],
   "source": [
    "rna_seq_samples = rnaseq_df['sample_id'].unique()"
   ]
  },
  {
   "cell_type": "code",
   "execution_count": 116,
   "metadata": {},
   "outputs": [],
   "source": [
    "slides_df = slides_df[slides_df['sample_id'].isin(rna_seq_samples)]"
   ]
  },
  {
   "cell_type": "code",
   "execution_count": 117,
   "metadata": {},
   "outputs": [
    {
     "data": {
      "text/html": [
       "<div>\n",
       "<style scoped>\n",
       "    .dataframe tbody tr th:only-of-type {\n",
       "        vertical-align: middle;\n",
       "    }\n",
       "\n",
       "    .dataframe tbody tr th {\n",
       "        vertical-align: top;\n",
       "    }\n",
       "\n",
       "    .dataframe thead th {\n",
       "        text-align: right;\n",
       "    }\n",
       "</style>\n",
       "<table border=\"1\" class=\"dataframe\">\n",
       "  <thead>\n",
       "    <tr style=\"text-align: right;\">\n",
       "      <th></th>\n",
       "      <th>count</th>\n",
       "      <th>total_size (gb)</th>\n",
       "    </tr>\n",
       "    <tr>\n",
       "      <th>experimental_strategy</th>\n",
       "      <th></th>\n",
       "      <th></th>\n",
       "    </tr>\n",
       "  </thead>\n",
       "  <tbody>\n",
       "    <tr>\n",
       "      <th>Tissue Slide</th>\n",
       "      <td>209</td>\n",
       "      <td>51.8</td>\n",
       "    </tr>\n",
       "  </tbody>\n",
       "</table>\n",
       "</div>"
      ],
      "text/plain": [
       "                       count  total_size (gb)\n",
       "experimental_strategy                        \n",
       "Tissue Slide             209             51.8"
      ]
     },
     "execution_count": 117,
     "metadata": {},
     "output_type": "execute_result"
    }
   ],
   "source": [
    "summary = slides_df.groupby('experimental_strategy').agg({'file_name': 'size', 'file_size': 'sum'})\n",
    "summary = summary.rename(columns={'file_name': 'count', 'file_size': 'total_size (gb)'})\n",
    "summary['total_size (gb)'] = round(summary['total_size (gb)'] / 1000, 2)\n",
    "\n",
    "summary"
   ]
  },
  {
   "cell_type": "code",
   "execution_count": 120,
   "metadata": {},
   "outputs": [],
   "source": [
    "# Download only failed\n",
    "files_downloaded = os.listdir(slides_path)\n",
    "slides_df = slides_df[-slides_df['file_name'].isin(files_downloaded)]"
   ]
  },
  {
   "cell_type": "code",
   "execution_count": 121,
   "metadata": {},
   "outputs": [
    {
     "data": {
      "text/html": [
       "<div>\n",
       "<style scoped>\n",
       "    .dataframe tbody tr th:only-of-type {\n",
       "        vertical-align: middle;\n",
       "    }\n",
       "\n",
       "    .dataframe tbody tr th {\n",
       "        vertical-align: top;\n",
       "    }\n",
       "\n",
       "    .dataframe thead th {\n",
       "        text-align: right;\n",
       "    }\n",
       "</style>\n",
       "<table border=\"1\" class=\"dataframe\">\n",
       "  <thead>\n",
       "    <tr style=\"text-align: right;\">\n",
       "      <th></th>\n",
       "      <th>count</th>\n",
       "      <th>total_size (gb)</th>\n",
       "    </tr>\n",
       "    <tr>\n",
       "      <th>experimental_strategy</th>\n",
       "      <th></th>\n",
       "      <th></th>\n",
       "    </tr>\n",
       "  </thead>\n",
       "  <tbody>\n",
       "    <tr>\n",
       "      <th>Tissue Slide</th>\n",
       "      <td>6</td>\n",
       "      <td>1.79</td>\n",
       "    </tr>\n",
       "  </tbody>\n",
       "</table>\n",
       "</div>"
      ],
      "text/plain": [
       "                       count  total_size (gb)\n",
       "experimental_strategy                        \n",
       "Tissue Slide               6             1.79"
      ]
     },
     "execution_count": 121,
     "metadata": {},
     "output_type": "execute_result"
    }
   ],
   "source": [
    "summary = slides_df.groupby('experimental_strategy').agg({'file_name': 'size', 'file_size': 'sum'})\n",
    "summary = summary.rename(columns={'file_name': 'count', 'file_size': 'total_size (gb)'})\n",
    "summary['total_size (gb)'] = round(summary['total_size (gb)'] / 1000, 2)\n",
    "\n",
    "summary"
   ]
  },
  {
   "cell_type": "code",
   "execution_count": 124,
   "metadata": {},
   "outputs": [
    {
     "data": {
      "application/vnd.jupyter.widget-view+json": {
       "model_id": "53f3a2ff1f554b13b53be1c1af1d2d0d",
       "version_major": 2,
       "version_minor": 0
      },
      "text/plain": [
       "HBox(children=(IntProgress(value=0, description='Files', max=6, style=ProgressStyle(description_width='initial…"
      ]
     },
     "metadata": {},
     "output_type": "display_data"
    },
    {
     "name": "stdout",
     "output_type": "stream",
     "text": [
      " \r"
     ]
    },
    {
     "data": {
      "application/vnd.jupyter.widget-view+json": {
       "model_id": "",
       "version_major": 2,
       "version_minor": 0
      },
      "text/plain": [
       "HBox(children=(IntProgress(value=0, description='TCGA-3A-A9IZ-01A-01-TS1.svs', max=170957, style=ProgressStyle…"
      ]
     },
     "metadata": {},
     "output_type": "display_data"
    },
    {
     "data": {
      "application/vnd.jupyter.widget-view+json": {
       "model_id": "",
       "version_major": 2,
       "version_minor": 0
      },
      "text/plain": [
       "HBox(children=(IntProgress(value=0, description='TCGA-HZ-7925-01A-01-TS1.svs', max=98161, style=ProgressStyle(…"
      ]
     },
     "metadata": {},
     "output_type": "display_data"
    },
    {
     "data": {
      "application/vnd.jupyter.widget-view+json": {
       "model_id": "",
       "version_major": 2,
       "version_minor": 0
      },
      "text/plain": [
       "HBox(children=(IntProgress(value=0, description='TCGA-IB-7891-01A-01-BS1.svs', max=720138, style=ProgressStyle…"
      ]
     },
     "metadata": {},
     "output_type": "display_data"
    },
    {
     "data": {
      "application/vnd.jupyter.widget-view+json": {
       "model_id": "",
       "version_major": 2,
       "version_minor": 0
      },
      "text/plain": [
       "HBox(children=(IntProgress(value=0, description='TCGA-IB-A5ST-01A-01-TSA.svs', max=374907, style=ProgressStyle…"
      ]
     },
     "metadata": {},
     "output_type": "display_data"
    },
    {
     "name": "stdout",
     "output_type": "stream",
     "text": [
      " \r"
     ]
    },
    {
     "data": {
      "application/vnd.jupyter.widget-view+json": {
       "model_id": "",
       "version_major": 2,
       "version_minor": 0
      },
      "text/plain": [
       "HBox(children=(IntProgress(value=0, description='TCGA-HZ-7925-01A-01-BS1.svs', max=400097, style=ProgressStyle…"
      ]
     },
     "metadata": {},
     "output_type": "display_data"
    },
    {
     "name": "stdout",
     "output_type": "stream",
     "text": [
      " \r"
     ]
    },
    {
     "data": {
      "application/vnd.jupyter.widget-view+json": {
       "model_id": "",
       "version_major": 2,
       "version_minor": 0
      },
      "text/plain": [
       "HBox(children=(IntProgress(value=0, description='TCGA-IB-7893-01A-01-TS1.svs', max=70134, style=ProgressStyle(…"
      ]
     },
     "metadata": {},
     "output_type": "display_data"
    },
    {
     "data": {
      "text/plain": [
       "['TCGA-HZ-7925-01A-01-TS1.svs',\n",
       " 'TCGA-3A-A9IZ-01A-01-TS1.svs',\n",
       " 'TCGA-IB-7893-01A-01-TS1.svs',\n",
       " 'TCGA-IB-A5ST-01A-01-TSA.svs',\n",
       " 'TCGA-HZ-7925-01A-01-BS1.svs',\n",
       " 'TCGA-IB-7891-01A-01-BS1.svs']"
      ]
     },
     "execution_count": 124,
     "metadata": {},
     "output_type": "execute_result"
    }
   ],
   "source": [
    "api_download_iterative(slides_df, slides_path, multiprocess=4)"
   ]
  },
  {
   "cell_type": "markdown",
   "metadata": {},
   "source": [
    "## RNA-Seq"
   ]
  },
  {
   "cell_type": "code",
   "execution_count": 119,
   "metadata": {},
   "outputs": [
    {
     "data": {
      "text/html": [
       "<div>\n",
       "<style scoped>\n",
       "    .dataframe tbody tr th:only-of-type {\n",
       "        vertical-align: middle;\n",
       "    }\n",
       "\n",
       "    .dataframe tbody tr th {\n",
       "        vertical-align: top;\n",
       "    }\n",
       "\n",
       "    .dataframe thead th {\n",
       "        text-align: right;\n",
       "    }\n",
       "</style>\n",
       "<table border=\"1\" class=\"dataframe\">\n",
       "  <thead>\n",
       "    <tr style=\"text-align: right;\">\n",
       "      <th></th>\n",
       "      <th>workflow_type</th>\n",
       "      <th>0</th>\n",
       "    </tr>\n",
       "  </thead>\n",
       "  <tbody>\n",
       "    <tr>\n",
       "      <th>0</th>\n",
       "      <td>HTSeq - Counts</td>\n",
       "      <td>182</td>\n",
       "    </tr>\n",
       "    <tr>\n",
       "      <th>1</th>\n",
       "      <td>HTSeq - FPKM</td>\n",
       "      <td>182</td>\n",
       "    </tr>\n",
       "    <tr>\n",
       "      <th>2</th>\n",
       "      <td>HTSeq - FPKM-UQ</td>\n",
       "      <td>182</td>\n",
       "    </tr>\n",
       "  </tbody>\n",
       "</table>\n",
       "</div>"
      ],
      "text/plain": [
       "     workflow_type    0\n",
       "0   HTSeq - Counts  182\n",
       "1     HTSeq - FPKM  182\n",
       "2  HTSeq - FPKM-UQ  182"
      ]
     },
     "execution_count": 119,
     "metadata": {},
     "output_type": "execute_result"
    }
   ],
   "source": [
    "summary = rnaseq_df.groupby('workflow_type').size()\n",
    "summary.reset_index()"
   ]
  },
  {
   "cell_type": "code",
   "execution_count": 32,
   "metadata": {},
   "outputs": [
    {
     "data": {
      "text/html": [
       "<div>\n",
       "<style scoped>\n",
       "    .dataframe tbody tr th:only-of-type {\n",
       "        vertical-align: middle;\n",
       "    }\n",
       "\n",
       "    .dataframe tbody tr th {\n",
       "        vertical-align: top;\n",
       "    }\n",
       "\n",
       "    .dataframe thead th {\n",
       "        text-align: right;\n",
       "    }\n",
       "</style>\n",
       "<table border=\"1\" class=\"dataframe\">\n",
       "  <thead>\n",
       "    <tr style=\"text-align: right;\">\n",
       "      <th></th>\n",
       "      <th>count</th>\n",
       "      <th>total_size (gb)</th>\n",
       "    </tr>\n",
       "    <tr>\n",
       "      <th>workflow_type</th>\n",
       "      <th></th>\n",
       "      <th></th>\n",
       "    </tr>\n",
       "  </thead>\n",
       "  <tbody>\n",
       "    <tr>\n",
       "      <th>HTSeq - Counts</th>\n",
       "      <td>182</td>\n",
       "      <td>0.05</td>\n",
       "    </tr>\n",
       "    <tr>\n",
       "      <th>HTSeq - FPKM</th>\n",
       "      <td>182</td>\n",
       "      <td>0.09</td>\n",
       "    </tr>\n",
       "    <tr>\n",
       "      <th>HTSeq - FPKM-UQ</th>\n",
       "      <td>182</td>\n",
       "      <td>0.09</td>\n",
       "    </tr>\n",
       "  </tbody>\n",
       "</table>\n",
       "</div>"
      ],
      "text/plain": [
       "                 count  total_size (gb)\n",
       "workflow_type                          \n",
       "HTSeq - Counts     182             0.05\n",
       "HTSeq - FPKM       182             0.09\n",
       "HTSeq - FPKM-UQ    182             0.09"
      ]
     },
     "execution_count": 32,
     "metadata": {},
     "output_type": "execute_result"
    }
   ],
   "source": [
    "summary = rnaseq_df.groupby('workflow_type').agg({'file_name': 'size', 'file_size': 'sum'})\n",
    "summary = summary.rename(columns={'file_name': 'count', 'file_size': 'total_size (gb)'})\n",
    "summary['total_size (gb)'] = round(summary['total_size (gb)'] / 1000, 2)\n",
    "\n",
    "summary"
   ]
  },
  {
   "cell_type": "code",
   "execution_count": 34,
   "metadata": {},
   "outputs": [],
   "source": [
    "slides_samples = slides_df['sample_id'].unique()"
   ]
  },
  {
   "cell_type": "code",
   "execution_count": 36,
   "metadata": {},
   "outputs": [],
   "source": [
    "rnaseq_df = rnaseq_df[rnaseq_df['sample_id'].isin(slides_samples)]"
   ]
  },
  {
   "cell_type": "code",
   "execution_count": 37,
   "metadata": {},
   "outputs": [
    {
     "data": {
      "text/html": [
       "<div>\n",
       "<style scoped>\n",
       "    .dataframe tbody tr th:only-of-type {\n",
       "        vertical-align: middle;\n",
       "    }\n",
       "\n",
       "    .dataframe tbody tr th {\n",
       "        vertical-align: top;\n",
       "    }\n",
       "\n",
       "    .dataframe thead th {\n",
       "        text-align: right;\n",
       "    }\n",
       "</style>\n",
       "<table border=\"1\" class=\"dataframe\">\n",
       "  <thead>\n",
       "    <tr style=\"text-align: right;\">\n",
       "      <th></th>\n",
       "      <th>count</th>\n",
       "      <th>total_size (gb)</th>\n",
       "    </tr>\n",
       "    <tr>\n",
       "      <th>workflow_type</th>\n",
       "      <th></th>\n",
       "      <th></th>\n",
       "    </tr>\n",
       "  </thead>\n",
       "  <tbody>\n",
       "    <tr>\n",
       "      <th>HTSeq - Counts</th>\n",
       "      <td>182</td>\n",
       "      <td>0.05</td>\n",
       "    </tr>\n",
       "    <tr>\n",
       "      <th>HTSeq - FPKM</th>\n",
       "      <td>182</td>\n",
       "      <td>0.09</td>\n",
       "    </tr>\n",
       "    <tr>\n",
       "      <th>HTSeq - FPKM-UQ</th>\n",
       "      <td>182</td>\n",
       "      <td>0.09</td>\n",
       "    </tr>\n",
       "  </tbody>\n",
       "</table>\n",
       "</div>"
      ],
      "text/plain": [
       "                 count  total_size (gb)\n",
       "workflow_type                          \n",
       "HTSeq - Counts     182             0.05\n",
       "HTSeq - FPKM       182             0.09\n",
       "HTSeq - FPKM-UQ    182             0.09"
      ]
     },
     "execution_count": 37,
     "metadata": {},
     "output_type": "execute_result"
    }
   ],
   "source": [
    "summary = rnaseq_df.groupby('workflow_type').agg({'file_name': 'size', 'file_size': 'sum'})\n",
    "summary = summary.rename(columns={'file_name': 'count', 'file_size': 'total_size (gb)'})\n",
    "summary['total_size (gb)'] = round(summary['total_size (gb)'] / 1000, 2)\n",
    "\n",
    "summary"
   ]
  },
  {
   "cell_type": "code",
   "execution_count": 39,
   "metadata": {
    "collapsed": true
   },
   "outputs": [
    {
     "data": {
      "application/vnd.jupyter.widget-view+json": {
       "model_id": "ed37c40abce14e45a828ed076fbb9dbb",
       "version_major": 2,
       "version_minor": 0
      },
      "text/plain": [
       "HBox(children=(IntProgress(value=0, description='Files', max=546, style=ProgressStyle(description_width='initi…"
      ]
     },
     "metadata": {},
     "output_type": "display_data"
    },
    {
     "name": "stdout",
     "output_type": "stream",
     "text": [
      " \r"
     ]
    },
    {
     "data": {
      "application/vnd.jupyter.widget-view+json": {
       "model_id": "",
       "version_major": 2,
       "version_minor": 0
      },
      "text/plain": [
       "HBox(children=(IntProgress(value=0, description='TCGA-HZ-8005-01A_HTSeq-Counts.txt.gz', max=256, style=Progres…"
      ]
     },
     "metadata": {},
     "output_type": "display_data"
    },
    {
     "data": {
      "application/vnd.jupyter.widget-view+json": {
       "model_id": "",
       "version_major": 2,
       "version_minor": 0
      },
      "text/plain": [
       "HBox(children=(IntProgress(value=0, description='TCGA-HV-A7OL-01A_HTSeq-FPKM.txt.gz', max=512, style=ProgressS…"
      ]
     },
     "metadata": {},
     "output_type": "display_data"
    },
    {
     "name": "stdout",
     "output_type": "stream",
     "text": [
      " \r"
     ]
    },
    {
     "data": {
      "application/vnd.jupyter.widget-view+json": {
       "model_id": "",
       "version_major": 2,
       "version_minor": 0
      },
      "text/plain": [
       "HBox(children=(IntProgress(value=0, description='TCGA-FB-AAPQ-01A_HTSeq-FPKM.txt.gz', max=502, style=ProgressS…"
      ]
     },
     "metadata": {},
     "output_type": "display_data"
    },
    {
     "name": "stdout",
     "output_type": "stream",
     "text": [
      " \r"
     ]
    },
    {
     "data": {
      "application/vnd.jupyter.widget-view+json": {
       "model_id": "",
       "version_major": 2,
       "version_minor": 0
      },
      "text/plain": [
       "HBox(children=(IntProgress(value=0, description='TCGA-FB-AAPS-01A_HTSeq-FPKM-UQ.txt.gz', max=543, style=Progre…"
      ]
     },
     "metadata": {},
     "output_type": "display_data"
    },
    {
     "data": {
      "application/vnd.jupyter.widget-view+json": {
       "model_id": "",
       "version_major": 2,
       "version_minor": 0
      },
      "text/plain": [
       "HBox(children=(IntProgress(value=0, description='TCGA-3A-A9IB-01A_HTSeq-FPKM.txt.gz', max=543, style=ProgressS…"
      ]
     },
     "metadata": {},
     "output_type": "display_data"
    },
    {
     "name": "stdout",
     "output_type": "stream",
     "text": [
      " \r"
     ]
    },
    {
     "data": {
      "application/vnd.jupyter.widget-view+json": {
       "model_id": "",
       "version_major": 2,
       "version_minor": 0
      },
      "text/plain": [
       "HBox(children=(IntProgress(value=0, description='TCGA-FB-AAQ3-01A_HTSeq-FPKM-UQ.txt.gz', max=512, style=Progre…"
      ]
     },
     "metadata": {},
     "output_type": "display_data"
    },
    {
     "data": {
      "application/vnd.jupyter.widget-view+json": {
       "model_id": "",
       "version_major": 2,
       "version_minor": 0
      },
      "text/plain": [
       "HBox(children=(IntProgress(value=0, description='TCGA-H6-A45N-11A_HTSeq-FPKM-UQ.txt.gz', max=584, style=Progre…"
      ]
     },
     "metadata": {},
     "output_type": "display_data"
    },
    {
     "name": "stdout",
     "output_type": "stream",
     "text": [
      " \r"
     ]
    },
    {
     "data": {
      "application/vnd.jupyter.widget-view+json": {
       "model_id": "",
       "version_major": 2,
       "version_minor": 0
      },
      "text/plain": [
       "HBox(children=(IntProgress(value=0, description='TCGA-IB-AAUU-01A_HTSeq-FPKM-UQ.txt.gz', max=543, style=Progre…"
      ]
     },
     "metadata": {},
     "output_type": "display_data"
    },
    {
     "name": "stdout",
     "output_type": "stream",
     "text": [
      "\r",
      " \r"
     ]
    },
    {
     "data": {
      "application/vnd.jupyter.widget-view+json": {
       "model_id": "",
       "version_major": 2,
       "version_minor": 0
      },
      "text/plain": [
       "HBox(children=(IntProgress(value=0, description='TCGA-PZ-A5RE-01A_HTSeq-Counts.txt.gz', max=256, style=Progres…"
      ]
     },
     "metadata": {},
     "output_type": "display_data"
    },
    {
     "name": "stdout",
     "output_type": "stream",
     "text": [
      "\r",
      " \r"
     ]
    },
    {
     "data": {
      "application/vnd.jupyter.widget-view+json": {
       "model_id": "",
       "version_major": 2,
       "version_minor": 0
      },
      "text/plain": [
       "HBox(children=(IntProgress(value=0, description='TCGA-IB-7891-01A_HTSeq-Counts.txt.gz', max=256, style=Progres…"
      ]
     },
     "metadata": {},
     "output_type": "display_data"
    },
    {
     "name": "stdout",
     "output_type": "stream",
     "text": [
      "\r",
      " \r"
     ]
    },
    {
     "data": {
      "application/vnd.jupyter.widget-view+json": {
       "model_id": "",
       "version_major": 2,
       "version_minor": 0
      },
      "text/plain": [
       "HBox(children=(IntProgress(value=0, description='TCGA-OE-A75W-01A_HTSeq-FPKM-UQ.txt.gz', max=522, style=Progre…"
      ]
     },
     "metadata": {},
     "output_type": "display_data"
    },
    {
     "name": "stdout",
     "output_type": "stream",
     "text": [
      "\r",
      " \r"
     ]
    },
    {
     "data": {
      "application/vnd.jupyter.widget-view+json": {
       "model_id": "",
       "version_major": 2,
       "version_minor": 0
      },
      "text/plain": [
       "HBox(children=(IntProgress(value=0, description='TCGA-2L-AAQE-01A_HTSeq-FPKM.txt.gz', max=522, style=ProgressS…"
      ]
     },
     "metadata": {},
     "output_type": "display_data"
    },
    {
     "name": "stdout",
     "output_type": "stream",
     "text": [
      "\r",
      " \r"
     ]
    },
    {
     "data": {
      "application/vnd.jupyter.widget-view+json": {
       "model_id": "",
       "version_major": 2,
       "version_minor": 0
      },
      "text/plain": [
       "HBox(children=(IntProgress(value=0, description='TCGA-F2-A7TX-01A_HTSeq-Counts.txt.gz', max=256, style=Progres…"
      ]
     },
     "metadata": {},
     "output_type": "display_data"
    },
    {
     "name": "stdout",
     "output_type": "stream",
     "text": [
      "\r",
      " \r"
     ]
    },
    {
     "data": {
      "application/vnd.jupyter.widget-view+json": {
       "model_id": "",
       "version_major": 2,
       "version_minor": 0
      },
      "text/plain": [
       "HBox(children=(IntProgress(value=0, description='TCGA-HZ-7289-01A_HTSeq-Counts.txt.gz', max=256, style=Progres…"
      ]
     },
     "metadata": {},
     "output_type": "display_data"
    },
    {
     "name": "stdout",
     "output_type": "stream",
     "text": [
      "\r",
      " \r"
     ]
    },
    {
     "data": {
      "application/vnd.jupyter.widget-view+json": {
       "model_id": "",
       "version_major": 2,
       "version_minor": 0
      },
      "text/plain": [
       "HBox(children=(IntProgress(value=0, description='TCGA-IB-AAUM-01A_HTSeq-FPKM-UQ.txt.gz', max=543, style=Progre…"
      ]
     },
     "metadata": {},
     "output_type": "display_data"
    },
    {
     "name": "stdout",
     "output_type": "stream",
     "text": [
      "\r",
      " \r"
     ]
    },
    {
     "data": {
      "application/vnd.jupyter.widget-view+json": {
       "model_id": "",
       "version_major": 2,
       "version_minor": 0
      },
      "text/plain": [
       "HBox(children=(IntProgress(value=0, description='TCGA-IB-7649-01A_HTSeq-FPKM-UQ.txt.gz', max=512, style=Progre…"
      ]
     },
     "metadata": {},
     "output_type": "display_data"
    },
    {
     "name": "stdout",
     "output_type": "stream",
     "text": [
      "\r",
      " \r"
     ]
    },
    {
     "data": {
      "application/vnd.jupyter.widget-view+json": {
       "model_id": "",
       "version_major": 2,
       "version_minor": 0
      },
      "text/plain": [
       "HBox(children=(IntProgress(value=0, description='TCGA-3A-A9IO-01A_HTSeq-FPKM-UQ.txt.gz', max=522, style=Progre…"
      ]
     },
     "metadata": {},
     "output_type": "display_data"
    },
    {
     "name": "stdout",
     "output_type": "stream",
     "text": [
      "\r",
      " \r"
     ]
    },
    {
     "data": {
      "application/vnd.jupyter.widget-view+json": {
       "model_id": "",
       "version_major": 2,
       "version_minor": 0
      },
      "text/plain": [
       "HBox(children=(IntProgress(value=0, description='TCGA-IB-A7LX-01A_HTSeq-FPKM-UQ.txt.gz', max=543, style=Progre…"
      ]
     },
     "metadata": {},
     "output_type": "display_data"
    },
    {
     "name": "stdout",
     "output_type": "stream",
     "text": [
      "\r",
      " \r"
     ]
    },
    {
     "data": {
      "application/vnd.jupyter.widget-view+json": {
       "model_id": "",
       "version_major": 2,
       "version_minor": 0
      },
      "text/plain": [
       "HBox(children=(IntProgress(value=0, description='TCGA-IB-A5SP-01A_HTSeq-FPKM.txt.gz', max=532, style=ProgressS…"
      ]
     },
     "metadata": {},
     "output_type": "display_data"
    },
    {
     "name": "stdout",
     "output_type": "stream",
     "text": [
      "\r",
      " \r"
     ]
    },
    {
     "data": {
      "application/vnd.jupyter.widget-view+json": {
       "model_id": "",
       "version_major": 2,
       "version_minor": 0
      },
      "text/plain": [
       "HBox(children=(IntProgress(value=0, description='TCGA-IB-AAUR-01A_HTSeq-Counts.txt.gz', max=266, style=Progres…"
      ]
     },
     "metadata": {},
     "output_type": "display_data"
    },
    {
     "name": "stdout",
     "output_type": "stream",
     "text": [
      "\r",
      " \r"
     ]
    },
    {
     "data": {
      "application/vnd.jupyter.widget-view+json": {
       "model_id": "",
       "version_major": 2,
       "version_minor": 0
      },
      "text/plain": [
       "HBox(children=(IntProgress(value=0, description='TCGA-HZ-8636-01A_HTSeq-FPKM.txt.gz', max=563, style=ProgressS…"
      ]
     },
     "metadata": {},
     "output_type": "display_data"
    },
    {
     "name": "stdout",
     "output_type": "stream",
     "text": [
      "\r",
      " \r"
     ]
    },
    {
     "data": {
      "application/vnd.jupyter.widget-view+json": {
       "model_id": "",
       "version_major": 2,
       "version_minor": 0
      },
      "text/plain": [
       "HBox(children=(IntProgress(value=0, description='TCGA-3A-A9I7-01A_HTSeq-Counts.txt.gz', max=256, style=Progres…"
      ]
     },
     "metadata": {},
     "output_type": "display_data"
    },
    {
     "name": "stdout",
     "output_type": "stream",
     "text": [
      "\r",
      " \r"
     ]
    },
    {
     "data": {
      "application/vnd.jupyter.widget-view+json": {
       "model_id": "",
       "version_major": 2,
       "version_minor": 0
      },
      "text/plain": [
       "HBox(children=(IntProgress(value=0, description='TCGA-2L-AAQM-01A_HTSeq-Counts.txt.gz', max=256, style=Progres…"
      ]
     },
     "metadata": {},
     "output_type": "display_data"
    },
    {
     "name": "stdout",
     "output_type": "stream",
     "text": [
      "\r",
      " \r"
     ]
    },
    {
     "data": {
      "application/vnd.jupyter.widget-view+json": {
       "model_id": "",
       "version_major": 2,
       "version_minor": 0
      },
      "text/plain": [
       "HBox(children=(IntProgress(value=0, description='TCGA-3A-A9IH-01A_HTSeq-FPKM-UQ.txt.gz', max=532, style=Progre…"
      ]
     },
     "metadata": {},
     "output_type": "display_data"
    },
    {
     "name": "stdout",
     "output_type": "stream",
     "text": [
      "\r",
      " \r"
     ]
    },
    {
     "data": {
      "application/vnd.jupyter.widget-view+json": {
       "model_id": "",
       "version_major": 2,
       "version_minor": 0
      },
      "text/plain": [
       "HBox(children=(IntProgress(value=0, description='TCGA-IB-AAUV-01A_HTSeq-FPKM.txt.gz', max=553, style=ProgressS…"
      ]
     },
     "metadata": {},
     "output_type": "display_data"
    },
    {
     "name": "stdout",
     "output_type": "stream",
     "text": [
      "\r",
      " \r"
     ]
    },
    {
     "data": {
      "application/vnd.jupyter.widget-view+json": {
       "model_id": "",
       "version_major": 2,
       "version_minor": 0
      },
      "text/plain": [
       "HBox(children=(IntProgress(value=0, description='TCGA-3A-A9IU-01A_HTSeq-FPKM.txt.gz', max=532, style=ProgressS…"
      ]
     },
     "metadata": {},
     "output_type": "display_data"
    },
    {
     "name": "stdout",
     "output_type": "stream",
     "text": [
      "\r",
      " \r"
     ]
    },
    {
     "data": {
      "application/vnd.jupyter.widget-view+json": {
       "model_id": "",
       "version_major": 2,
       "version_minor": 0
      },
      "text/plain": [
       "HBox(children=(IntProgress(value=0, description='TCGA-HZ-8317-01A_HTSeq-FPKM-UQ.txt.gz', max=543, style=Progre…"
      ]
     },
     "metadata": {},
     "output_type": "display_data"
    },
    {
     "name": "stdout",
     "output_type": "stream",
     "text": [
      "\r",
      " \r"
     ]
    },
    {
     "data": {
      "application/vnd.jupyter.widget-view+json": {
       "model_id": "",
       "version_major": 2,
       "version_minor": 0
      },
      "text/plain": [
       "HBox(children=(IntProgress(value=0, description='TCGA-IB-7897-01A_HTSeq-Counts.txt.gz', max=266, style=Progres…"
      ]
     },
     "metadata": {},
     "output_type": "display_data"
    },
    {
     "name": "stdout",
     "output_type": "stream",
     "text": [
      "\r",
      " \r"
     ]
    },
    {
     "data": {
      "application/vnd.jupyter.widget-view+json": {
       "model_id": "",
       "version_major": 2,
       "version_minor": 0
      },
      "text/plain": [
       "HBox(children=(IntProgress(value=0, description='TCGA-IB-A6UG-01A_HTSeq-FPKM-UQ.txt.gz', max=543, style=Progre…"
      ]
     },
     "metadata": {},
     "output_type": "display_data"
    },
    {
     "name": "stdout",
     "output_type": "stream",
     "text": [
      "\r",
      " \r"
     ]
    },
    {
     "data": {
      "application/vnd.jupyter.widget-view+json": {
       "model_id": "",
       "version_major": 2,
       "version_minor": 0
      },
      "text/plain": [
       "HBox(children=(IntProgress(value=0, description='TCGA-3A-A9J0-01A_HTSeq-FPKM-UQ.txt.gz', max=522, style=Progre…"
      ]
     },
     "metadata": {},
     "output_type": "display_data"
    },
    {
     "name": "stdout",
     "output_type": "stream",
     "text": [
      "\r",
      " \r"
     ]
    },
    {
     "data": {
      "application/vnd.jupyter.widget-view+json": {
       "model_id": "",
       "version_major": 2,
       "version_minor": 0
      },
      "text/plain": [
       "HBox(children=(IntProgress(value=0, description='TCGA-H8-A6C1-01A_HTSeq-Counts.txt.gz', max=256, style=Progres…"
      ]
     },
     "metadata": {},
     "output_type": "display_data"
    },
    {
     "name": "stdout",
     "output_type": "stream",
     "text": [
      "\r",
      " \r"
     ]
    },
    {
     "data": {
      "application/vnd.jupyter.widget-view+json": {
       "model_id": "",
       "version_major": 2,
       "version_minor": 0
      },
      "text/plain": [
       "HBox(children=(IntProgress(value=0, description='TCGA-XD-AAUG-01A_HTSeq-FPKM-UQ.txt.gz', max=532, style=Progre…"
      ]
     },
     "metadata": {},
     "output_type": "display_data"
    },
    {
     "name": "stdout",
     "output_type": "stream",
     "text": [
      "\r",
      " \r"
     ]
    },
    {
     "data": {
      "application/vnd.jupyter.widget-view+json": {
       "model_id": "",
       "version_major": 2,
       "version_minor": 0
      },
      "text/plain": [
       "HBox(children=(IntProgress(value=0, description='TCGA-FB-A4P6-01A_HTSeq-FPKM.txt.gz', max=532, style=ProgressS…"
      ]
     },
     "metadata": {},
     "output_type": "display_data"
    },
    {
     "name": "stdout",
     "output_type": "stream",
     "text": [
      "\r",
      " \r"
     ]
    },
    {
     "data": {
      "application/vnd.jupyter.widget-view+json": {
       "model_id": "",
       "version_major": 2,
       "version_minor": 0
      },
      "text/plain": [
       "HBox(children=(IntProgress(value=0, description='TCGA-2J-AABV-01A_HTSeq-FPKM-UQ.txt.gz', max=492, style=Progre…"
      ]
     },
     "metadata": {},
     "output_type": "display_data"
    },
    {
     "name": "stdout",
     "output_type": "stream",
     "text": [
      "\r",
      " \r"
     ]
    },
    {
     "data": {
      "application/vnd.jupyter.widget-view+json": {
       "model_id": "",
       "version_major": 2,
       "version_minor": 0
      },
      "text/plain": [
       "HBox(children=(IntProgress(value=0, description='TCGA-HZ-7926-01A_HTSeq-FPKM-UQ.txt.gz', max=543, style=Progre…"
      ]
     },
     "metadata": {},
     "output_type": "display_data"
    },
    {
     "name": "stdout",
     "output_type": "stream",
     "text": [
      "\r",
      " \r"
     ]
    },
    {
     "data": {
      "application/vnd.jupyter.widget-view+json": {
       "model_id": "",
       "version_major": 2,
       "version_minor": 0
      },
      "text/plain": [
       "HBox(children=(IntProgress(value=0, description='TCGA-3A-A9IN-01A_HTSeq-FPKM.txt.gz', max=543, style=ProgressS…"
      ]
     },
     "metadata": {},
     "output_type": "display_data"
    },
    {
     "name": "stdout",
     "output_type": "stream",
     "text": [
      "\r",
      " \r"
     ]
    },
    {
     "data": {
      "application/vnd.jupyter.widget-view+json": {
       "model_id": "",
       "version_major": 2,
       "version_minor": 0
      },
      "text/plain": [
       "HBox(children=(IntProgress(value=0, description='TCGA-FB-AAQ6-01A_HTSeq-FPKM.txt.gz', max=502, style=ProgressS…"
      ]
     },
     "metadata": {},
     "output_type": "display_data"
    },
    {
     "name": "stdout",
     "output_type": "stream",
     "text": [
      "\r",
      " \r"
     ]
    },
    {
     "data": {
      "application/vnd.jupyter.widget-view+json": {
       "model_id": "",
       "version_major": 2,
       "version_minor": 0
      },
      "text/plain": [
       "HBox(children=(IntProgress(value=0, description='TCGA-HZ-A49G-01A_HTSeq-FPKM.txt.gz', max=532, style=ProgressS…"
      ]
     },
     "metadata": {},
     "output_type": "display_data"
    },
    {
     "name": "stdout",
     "output_type": "stream",
     "text": [
      "\r",
      " \r"
     ]
    },
    {
     "data": {
      "application/vnd.jupyter.widget-view+json": {
       "model_id": "",
       "version_major": 2,
       "version_minor": 0
      },
      "text/plain": [
       "HBox(children=(IntProgress(value=0, description='TCGA-F2-6879-01A_HTSeq-FPKM.txt.gz', max=543, style=ProgressS…"
      ]
     },
     "metadata": {},
     "output_type": "display_data"
    },
    {
     "name": "stdout",
     "output_type": "stream",
     "text": [
      "\r",
      " \r"
     ]
    },
    {
     "data": {
      "application/vnd.jupyter.widget-view+json": {
       "model_id": "",
       "version_major": 2,
       "version_minor": 0
      },
      "text/plain": [
       "HBox(children=(IntProgress(value=0, description='TCGA-2J-AAB8-01A_HTSeq-FPKM-UQ.txt.gz', max=512, style=Progre…"
      ]
     },
     "metadata": {},
     "output_type": "display_data"
    },
    {
     "name": "stdout",
     "output_type": "stream",
     "text": [
      "\r",
      " \r"
     ]
    },
    {
     "data": {
      "application/vnd.jupyter.widget-view+json": {
       "model_id": "",
       "version_major": 2,
       "version_minor": 0
      },
      "text/plain": [
       "HBox(children=(IntProgress(value=0, description='TCGA-IB-A7LX-01A_HTSeq-Counts.txt.gz', max=266, style=Progres…"
      ]
     },
     "metadata": {},
     "output_type": "display_data"
    },
    {
     "name": "stdout",
     "output_type": "stream",
     "text": [
      "\r",
      " \r"
     ]
    },
    {
     "data": {
      "application/vnd.jupyter.widget-view+json": {
       "model_id": "",
       "version_major": 2,
       "version_minor": 0
      },
      "text/plain": [
       "HBox(children=(IntProgress(value=0, description='TCGA-YH-A8SY-01A_HTSeq-FPKM.txt.gz', max=522, style=ProgressS…"
      ]
     },
     "metadata": {},
     "output_type": "display_data"
    },
    {
     "name": "stdout",
     "output_type": "stream",
     "text": [
      "\r",
      " \r"
     ]
    },
    {
     "data": {
      "application/vnd.jupyter.widget-view+json": {
       "model_id": "",
       "version_major": 2,
       "version_minor": 0
      },
      "text/plain": [
       "HBox(children=(IntProgress(value=0, description='TCGA-2J-AAB1-01A_HTSeq-FPKM.txt.gz', max=522, style=ProgressS…"
      ]
     },
     "metadata": {},
     "output_type": "display_data"
    },
    {
     "name": "stdout",
     "output_type": "stream",
     "text": [
      "\r",
      " \r"
     ]
    },
    {
     "data": {
      "application/vnd.jupyter.widget-view+json": {
       "model_id": "",
       "version_major": 2,
       "version_minor": 0
      },
      "text/plain": [
       "HBox(children=(IntProgress(value=0, description='TCGA-H6-8124-01A_HTSeq-Counts.txt.gz', max=266, style=Progres…"
      ]
     },
     "metadata": {},
     "output_type": "display_data"
    },
    {
     "name": "stdout",
     "output_type": "stream",
     "text": [
      "\r",
      " \r"
     ]
    },
    {
     "data": {
      "application/vnd.jupyter.widget-view+json": {
       "model_id": "",
       "version_major": 2,
       "version_minor": 0
      },
      "text/plain": [
       "HBox(children=(IntProgress(value=0, description='TCGA-YB-A89D-11A_HTSeq-FPKM-UQ.txt.gz', max=532, style=Progre…"
      ]
     },
     "metadata": {},
     "output_type": "display_data"
    },
    {
     "name": "stdout",
     "output_type": "stream",
     "text": [
      "\r",
      " \r"
     ]
    },
    {
     "data": {
      "application/vnd.jupyter.widget-view+json": {
       "model_id": "",
       "version_major": 2,
       "version_minor": 0
      },
      "text/plain": [
       "HBox(children=(IntProgress(value=0, description='TCGA-2L-AAQA-01A_HTSeq-Counts.txt.gz', max=266, style=Progres…"
      ]
     },
     "metadata": {},
     "output_type": "display_data"
    },
    {
     "name": "stdout",
     "output_type": "stream",
     "text": [
      "\r",
      " \r"
     ]
    },
    {
     "data": {
      "application/vnd.jupyter.widget-view+json": {
       "model_id": "",
       "version_major": 2,
       "version_minor": 0
      },
      "text/plain": [
       "HBox(children=(IntProgress(value=0, description='TCGA-XN-A8T5-01A_HTSeq-FPKM-UQ.txt.gz', max=532, style=Progre…"
      ]
     },
     "metadata": {},
     "output_type": "display_data"
    },
    {
     "name": "stdout",
     "output_type": "stream",
     "text": [
      "\r",
      " \r"
     ]
    },
    {
     "data": {
      "application/vnd.jupyter.widget-view+json": {
       "model_id": "",
       "version_major": 2,
       "version_minor": 0
      },
      "text/plain": [
       "HBox(children=(IntProgress(value=0, description='TCGA-HZ-A9TJ-06A_HTSeq-FPKM-UQ.txt.gz', max=532, style=Progre…"
      ]
     },
     "metadata": {},
     "output_type": "display_data"
    },
    {
     "name": "stdout",
     "output_type": "stream",
     "text": [
      "\r",
      " \r"
     ]
    },
    {
     "data": {
      "application/vnd.jupyter.widget-view+json": {
       "model_id": "",
       "version_major": 2,
       "version_minor": 0
      },
      "text/plain": [
       "HBox(children=(IntProgress(value=0, description='TCGA-Q3-AA2A-01A_HTSeq-FPKM.txt.gz', max=522, style=ProgressS…"
      ]
     },
     "metadata": {},
     "output_type": "display_data"
    },
    {
     "name": "stdout",
     "output_type": "stream",
     "text": [
      "\r",
      " \r"
     ]
    },
    {
     "data": {
      "application/vnd.jupyter.widget-view+json": {
       "model_id": "",
       "version_major": 2,
       "version_minor": 0
      },
      "text/plain": [
       "HBox(children=(IntProgress(value=0, description='TCGA-IB-7645-01A_HTSeq-FPKM-UQ.txt.gz', max=532, style=Progre…"
      ]
     },
     "metadata": {},
     "output_type": "display_data"
    },
    {
     "name": "stdout",
     "output_type": "stream",
     "text": [
      "\r",
      " \r"
     ]
    },
    {
     "data": {
      "application/vnd.jupyter.widget-view+json": {
       "model_id": "",
       "version_major": 2,
       "version_minor": 0
      },
      "text/plain": [
       "HBox(children=(IntProgress(value=0, description='TCGA-3A-A9IL-01A_HTSeq-FPKM-UQ.txt.gz', max=543, style=Progre…"
      ]
     },
     "metadata": {},
     "output_type": "display_data"
    },
    {
     "name": "stdout",
     "output_type": "stream",
     "text": [
      "\r",
      " \r"
     ]
    },
    {
     "data": {
      "application/vnd.jupyter.widget-view+json": {
       "model_id": "",
       "version_major": 2,
       "version_minor": 0
      },
      "text/plain": [
       "HBox(children=(IntProgress(value=0, description='TCGA-IB-7649-01A_HTSeq-FPKM.txt.gz', max=512, style=ProgressS…"
      ]
     },
     "metadata": {},
     "output_type": "display_data"
    },
    {
     "name": "stdout",
     "output_type": "stream",
     "text": [
      "\r",
      " \r"
     ]
    },
    {
     "data": {
      "application/vnd.jupyter.widget-view+json": {
       "model_id": "",
       "version_major": 2,
       "version_minor": 0
      },
      "text/plain": [
       "HBox(children=(IntProgress(value=0, description='TCGA-IB-A5SO-01A_HTSeq-FPKM-UQ.txt.gz', max=553, style=Progre…"
      ]
     },
     "metadata": {},
     "output_type": "display_data"
    },
    {
     "name": "stdout",
     "output_type": "stream",
     "text": [
      "\r",
      " \r"
     ]
    },
    {
     "data": {
      "application/vnd.jupyter.widget-view+json": {
       "model_id": "",
       "version_major": 2,
       "version_minor": 0
      },
      "text/plain": [
       "HBox(children=(IntProgress(value=0, description='TCGA-2J-AABI-01A_HTSeq-Counts.txt.gz', max=266, style=Progres…"
      ]
     },
     "metadata": {},
     "output_type": "display_data"
    },
    {
     "name": "stdout",
     "output_type": "stream",
     "text": [
      "\r",
      " \r"
     ]
    },
    {
     "data": {
      "application/vnd.jupyter.widget-view+json": {
       "model_id": "",
       "version_major": 2,
       "version_minor": 0
      },
      "text/plain": [
       "HBox(children=(IntProgress(value=0, description='TCGA-IB-A6UG-01A_HTSeq-Counts.txt.gz', max=256, style=Progres…"
      ]
     },
     "metadata": {},
     "output_type": "display_data"
    },
    {
     "name": "stdout",
     "output_type": "stream",
     "text": [
      "\r",
      " \r"
     ]
    },
    {
     "data": {
      "application/vnd.jupyter.widget-view+json": {
       "model_id": "",
       "version_major": 2,
       "version_minor": 0
      },
      "text/plain": [
       "HBox(children=(IntProgress(value=0, description='TCGA-IB-7893-01A_HTSeq-Counts.txt.gz', max=256, style=Progres…"
      ]
     },
     "metadata": {},
     "output_type": "display_data"
    },
    {
     "name": "stdout",
     "output_type": "stream",
     "text": [
      "\r",
      " \r"
     ]
    },
    {
     "data": {
      "application/vnd.jupyter.widget-view+json": {
       "model_id": "",
       "version_major": 2,
       "version_minor": 0
      },
      "text/plain": [
       "HBox(children=(IntProgress(value=0, description='TCGA-2L-AAQL-01A_HTSeq-Counts.txt.gz', max=256, style=Progres…"
      ]
     },
     "metadata": {},
     "output_type": "display_data"
    },
    {
     "name": "stdout",
     "output_type": "stream",
     "text": [
      "\r",
      " \r"
     ]
    },
    {
     "data": {
      "application/vnd.jupyter.widget-view+json": {
       "model_id": "",
       "version_major": 2,
       "version_minor": 0
      },
      "text/plain": [
       "HBox(children=(IntProgress(value=0, description='TCGA-HZ-8638-01A_HTSeq-FPKM.txt.gz', max=553, style=ProgressS…"
      ]
     },
     "metadata": {},
     "output_type": "display_data"
    },
    {
     "name": "stdout",
     "output_type": "stream",
     "text": [
      "\r",
      " \r"
     ]
    },
    {
     "data": {
      "application/vnd.jupyter.widget-view+json": {
       "model_id": "",
       "version_major": 2,
       "version_minor": 0
      },
      "text/plain": [
       "HBox(children=(IntProgress(value=0, description='TCGA-3A-A9I5-01A_HTSeq-FPKM-UQ.txt.gz', max=522, style=Progre…"
      ]
     },
     "metadata": {},
     "output_type": "display_data"
    },
    {
     "name": "stdout",
     "output_type": "stream",
     "text": [
      "\r",
      " \r"
     ]
    },
    {
     "data": {
      "application/vnd.jupyter.widget-view+json": {
       "model_id": "",
       "version_major": 2,
       "version_minor": 0
      },
      "text/plain": [
       "HBox(children=(IntProgress(value=0, description='TCGA-2L-AAQA-01A_HTSeq-FPKM-UQ.txt.gz', max=543, style=Progre…"
      ]
     },
     "metadata": {},
     "output_type": "display_data"
    },
    {
     "name": "stdout",
     "output_type": "stream",
     "text": [
      "\r",
      " \r"
     ]
    },
    {
     "data": {
      "application/vnd.jupyter.widget-view+json": {
       "model_id": "",
       "version_major": 2,
       "version_minor": 0
      },
      "text/plain": [
       "HBox(children=(IntProgress(value=0, description='TCGA-2J-AAB9-01A_HTSeq-FPKM.txt.gz', max=502, style=ProgressS…"
      ]
     },
     "metadata": {},
     "output_type": "display_data"
    },
    {
     "name": "stdout",
     "output_type": "stream",
     "text": [
      "\r",
      " \r"
     ]
    },
    {
     "data": {
      "application/vnd.jupyter.widget-view+json": {
       "model_id": "",
       "version_major": 2,
       "version_minor": 0
      },
      "text/plain": [
       "HBox(children=(IntProgress(value=0, description='TCGA-3A-A9IU-01A_HTSeq-Counts.txt.gz', max=256, style=Progres…"
      ]
     },
     "metadata": {},
     "output_type": "display_data"
    },
    {
     "name": "stdout",
     "output_type": "stream",
     "text": [
      "\r",
      " \r"
     ]
    },
    {
     "data": {
      "application/vnd.jupyter.widget-view+json": {
       "model_id": "",
       "version_major": 2,
       "version_minor": 0
      },
      "text/plain": [
       "HBox(children=(IntProgress(value=0, description='TCGA-3E-AAAY-01A_HTSeq-Counts.txt.gz', max=266, style=Progres…"
      ]
     },
     "metadata": {},
     "output_type": "display_data"
    },
    {
     "name": "stdout",
     "output_type": "stream",
     "text": [
      "\r",
      " \r"
     ]
    },
    {
     "data": {
      "application/vnd.jupyter.widget-view+json": {
       "model_id": "",
       "version_major": 2,
       "version_minor": 0
      },
      "text/plain": [
       "HBox(children=(IntProgress(value=0, description='TCGA-HZ-7919-01A_HTSeq-Counts.txt.gz', max=256, style=Progres…"
      ]
     },
     "metadata": {},
     "output_type": "display_data"
    },
    {
     "name": "stdout",
     "output_type": "stream",
     "text": [
      "\r",
      " \r"
     ]
    },
    {
     "data": {
      "application/vnd.jupyter.widget-view+json": {
       "model_id": "",
       "version_major": 2,
       "version_minor": 0
      },
      "text/plain": [
       "HBox(children=(IntProgress(value=0, description='TCGA-3A-A9IH-01A_HTSeq-FPKM.txt.gz', max=543, style=ProgressS…"
      ]
     },
     "metadata": {},
     "output_type": "display_data"
    },
    {
     "name": "stdout",
     "output_type": "stream",
     "text": [
      "\r",
      " \r"
     ]
    },
    {
     "data": {
      "application/vnd.jupyter.widget-view+json": {
       "model_id": "",
       "version_major": 2,
       "version_minor": 0
      },
      "text/plain": [
       "HBox(children=(IntProgress(value=0, description='TCGA-HZ-A9TJ-01A_HTSeq-FPKM-UQ.txt.gz', max=522, style=Progre…"
      ]
     },
     "metadata": {},
     "output_type": "display_data"
    },
    {
     "name": "stdout",
     "output_type": "stream",
     "text": [
      "\r",
      " \r"
     ]
    },
    {
     "data": {
      "application/vnd.jupyter.widget-view+json": {
       "model_id": "",
       "version_major": 2,
       "version_minor": 0
      },
      "text/plain": [
       "HBox(children=(IntProgress(value=0, description='TCGA-F2-7276-01A_HTSeq-FPKM-UQ.txt.gz', max=543, style=Progre…"
      ]
     },
     "metadata": {},
     "output_type": "display_data"
    },
    {
     "name": "stdout",
     "output_type": "stream",
     "text": [
      "\r",
      " \r"
     ]
    },
    {
     "data": {
      "application/vnd.jupyter.widget-view+json": {
       "model_id": "",
       "version_major": 2,
       "version_minor": 0
      },
      "text/plain": [
       "HBox(children=(IntProgress(value=0, description='TCGA-IB-AAUO-01A_HTSeq-FPKM.txt.gz', max=543, style=ProgressS…"
      ]
     },
     "metadata": {},
     "output_type": "display_data"
    },
    {
     "name": "stdout",
     "output_type": "stream",
     "text": [
      "\r",
      " \r"
     ]
    },
    {
     "data": {
      "application/vnd.jupyter.widget-view+json": {
       "model_id": "",
       "version_major": 2,
       "version_minor": 0
      },
      "text/plain": [
       "HBox(children=(IntProgress(value=0, description='TCGA-FB-AAQ3-01A_HTSeq-Counts.txt.gz', max=256, style=Progres…"
      ]
     },
     "metadata": {},
     "output_type": "display_data"
    },
    {
     "name": "stdout",
     "output_type": "stream",
     "text": [
      "\r",
      " \r"
     ]
    },
    {
     "data": {
      "application/vnd.jupyter.widget-view+json": {
       "model_id": "",
       "version_major": 2,
       "version_minor": 0
      },
      "text/plain": [
       "HBox(children=(IntProgress(value=0, description='TCGA-RB-A7B8-01A_HTSeq-FPKM-UQ.txt.gz', max=543, style=Progre…"
      ]
     },
     "metadata": {},
     "output_type": "display_data"
    },
    {
     "name": "stdout",
     "output_type": "stream",
     "text": [
      "\r",
      " \r"
     ]
    },
    {
     "data": {
      "application/vnd.jupyter.widget-view+json": {
       "model_id": "",
       "version_major": 2,
       "version_minor": 0
      },
      "text/plain": [
       "HBox(children=(IntProgress(value=0, description='TCGA-RB-AA9M-01A_HTSeq-Counts.txt.gz', max=266, style=Progres…"
      ]
     },
     "metadata": {},
     "output_type": "display_data"
    },
    {
     "name": "stdout",
     "output_type": "stream",
     "text": [
      "\r",
      " \r"
     ]
    },
    {
     "data": {
      "application/vnd.jupyter.widget-view+json": {
       "model_id": "",
       "version_major": 2,
       "version_minor": 0
      },
      "text/plain": [
       "HBox(children=(IntProgress(value=0, description='TCGA-FB-AAPY-01A_HTSeq-FPKM.txt.gz', max=532, style=ProgressS…"
      ]
     },
     "metadata": {},
     "output_type": "display_data"
    },
    {
     "name": "stdout",
     "output_type": "stream",
     "text": [
      "\r",
      " \r"
     ]
    },
    {
     "data": {
      "application/vnd.jupyter.widget-view+json": {
       "model_id": "",
       "version_major": 2,
       "version_minor": 0
      },
      "text/plain": [
       "HBox(children=(IntProgress(value=0, description='TCGA-2J-AAB9-01A_HTSeq-FPKM-UQ.txt.gz', max=502, style=Progre…"
      ]
     },
     "metadata": {},
     "output_type": "display_data"
    },
    {
     "name": "stdout",
     "output_type": "stream",
     "text": [
      "\r",
      " \r"
     ]
    },
    {
     "data": {
      "application/vnd.jupyter.widget-view+json": {
       "model_id": "",
       "version_major": 2,
       "version_minor": 0
      },
      "text/plain": [
       "HBox(children=(IntProgress(value=0, description='TCGA-3A-A9IO-01A_HTSeq-FPKM.txt.gz', max=522, style=ProgressS…"
      ]
     },
     "metadata": {},
     "output_type": "display_data"
    },
    {
     "name": "stdout",
     "output_type": "stream",
     "text": [
      "\r",
      " \r"
     ]
    },
    {
     "data": {
      "application/vnd.jupyter.widget-view+json": {
       "model_id": "",
       "version_major": 2,
       "version_minor": 0
      },
      "text/plain": [
       "HBox(children=(IntProgress(value=0, description='TCGA-3A-A9IR-01A_HTSeq-FPKM.txt.gz', max=532, style=ProgressS…"
      ]
     },
     "metadata": {},
     "output_type": "display_data"
    },
    {
     "name": "stdout",
     "output_type": "stream",
     "text": [
      "\r",
      " \r"
     ]
    },
    {
     "data": {
      "application/vnd.jupyter.widget-view+json": {
       "model_id": "",
       "version_major": 2,
       "version_minor": 0
      },
      "text/plain": [
       "HBox(children=(IntProgress(value=0, description='TCGA-US-A776-01A_HTSeq-FPKM.txt.gz', max=532, style=ProgressS…"
      ]
     },
     "metadata": {},
     "output_type": "display_data"
    },
    {
     "name": "stdout",
     "output_type": "stream",
     "text": [
      "\r",
      " \r"
     ]
    },
    {
     "data": {
      "application/vnd.jupyter.widget-view+json": {
       "model_id": "",
       "version_major": 2,
       "version_minor": 0
      },
      "text/plain": [
       "HBox(children=(IntProgress(value=0, description='TCGA-IB-7646-01A_HTSeq-FPKM.txt.gz', max=512, style=ProgressS…"
      ]
     },
     "metadata": {},
     "output_type": "display_data"
    },
    {
     "name": "stdout",
     "output_type": "stream",
     "text": [
      "\r",
      " \r"
     ]
    },
    {
     "data": {
      "application/vnd.jupyter.widget-view+json": {
       "model_id": "",
       "version_major": 2,
       "version_minor": 0
      },
      "text/plain": [
       "HBox(children=(IntProgress(value=0, description='TCGA-IB-7646-01A_HTSeq-FPKM-UQ.txt.gz', max=512, style=Progre…"
      ]
     },
     "metadata": {},
     "output_type": "display_data"
    },
    {
     "name": "stdout",
     "output_type": "stream",
     "text": [
      "\r",
      " \r"
     ]
    },
    {
     "data": {
      "application/vnd.jupyter.widget-view+json": {
       "model_id": "",
       "version_major": 2,
       "version_minor": 0
      },
      "text/plain": [
       "HBox(children=(IntProgress(value=0, description='TCGA-HV-A5A3-01A_HTSeq-FPKM-UQ.txt.gz', max=512, style=Progre…"
      ]
     },
     "metadata": {},
     "output_type": "display_data"
    },
    {
     "name": "stdout",
     "output_type": "stream",
     "text": [
      "\r",
      " \r"
     ]
    },
    {
     "data": {
      "application/vnd.jupyter.widget-view+json": {
       "model_id": "",
       "version_major": 2,
       "version_minor": 0
      },
      "text/plain": [
       "HBox(children=(IntProgress(value=0, description='TCGA-HZ-7920-01A_HTSeq-FPKM-UQ.txt.gz', max=553, style=Progre…"
      ]
     },
     "metadata": {},
     "output_type": "display_data"
    },
    {
     "name": "stdout",
     "output_type": "stream",
     "text": [
      "\r",
      " \r"
     ]
    },
    {
     "data": {
      "application/vnd.jupyter.widget-view+json": {
       "model_id": "",
       "version_major": 2,
       "version_minor": 0
      },
      "text/plain": [
       "HBox(children=(IntProgress(value=0, description='TCGA-3A-A9I9-01A_HTSeq-Counts.txt.gz', max=256, style=Progres…"
      ]
     },
     "metadata": {},
     "output_type": "display_data"
    },
    {
     "name": "stdout",
     "output_type": "stream",
     "text": [
      "\r",
      " \r"
     ]
    },
    {
     "data": {
      "application/vnd.jupyter.widget-view+json": {
       "model_id": "",
       "version_major": 2,
       "version_minor": 0
      },
      "text/plain": [
       "HBox(children=(IntProgress(value=0, description='TCGA-IB-7654-01A_HTSeq-FPKM-UQ.txt.gz', max=532, style=Progre…"
      ]
     },
     "metadata": {},
     "output_type": "display_data"
    },
    {
     "name": "stdout",
     "output_type": "stream",
     "text": [
      "\r",
      " \r"
     ]
    },
    {
     "data": {
      "application/vnd.jupyter.widget-view+json": {
       "model_id": "",
       "version_major": 2,
       "version_minor": 0
      },
      "text/plain": [
       "HBox(children=(IntProgress(value=0, description='TCGA-HZ-7918-01A_HTSeq-FPKM.txt.gz', max=522, style=ProgressS…"
      ]
     },
     "metadata": {},
     "output_type": "display_data"
    },
    {
     "name": "stdout",
     "output_type": "stream",
     "text": [
      "\r",
      " \r"
     ]
    },
    {
     "data": {
      "application/vnd.jupyter.widget-view+json": {
       "model_id": "",
       "version_major": 2,
       "version_minor": 0
      },
      "text/plain": [
       "HBox(children=(IntProgress(value=0, description='TCGA-2L-AAQE-01A_HTSeq-Counts.txt.gz', max=256, style=Progres…"
      ]
     },
     "metadata": {},
     "output_type": "display_data"
    },
    {
     "name": "stdout",
     "output_type": "stream",
     "text": [
      "\r",
      " \r"
     ]
    },
    {
     "data": {
      "application/vnd.jupyter.widget-view+json": {
       "model_id": "",
       "version_major": 2,
       "version_minor": 0
      },
      "text/plain": [
       "HBox(children=(IntProgress(value=0, description='TCGA-2J-AAB6-01A_HTSeq-FPKM.txt.gz', max=512, style=ProgressS…"
      ]
     },
     "metadata": {},
     "output_type": "display_data"
    },
    {
     "name": "stdout",
     "output_type": "stream",
     "text": [
      "\r",
      " \r"
     ]
    },
    {
     "data": {
      "application/vnd.jupyter.widget-view+json": {
       "model_id": "",
       "version_major": 2,
       "version_minor": 0
      },
      "text/plain": [
       "HBox(children=(IntProgress(value=0, description='TCGA-HZ-8317-01A_HTSeq-FPKM.txt.gz', max=532, style=ProgressS…"
      ]
     },
     "metadata": {},
     "output_type": "display_data"
    },
    {
     "name": "stdout",
     "output_type": "stream",
     "text": [
      "\r",
      " \r"
     ]
    },
    {
     "data": {
      "application/vnd.jupyter.widget-view+json": {
       "model_id": "",
       "version_major": 2,
       "version_minor": 0
      },
      "text/plain": [
       "HBox(children=(IntProgress(value=0, description='TCGA-HZ-7923-01A_HTSeq-Counts.txt.gz', max=266, style=Progres…"
      ]
     },
     "metadata": {},
     "output_type": "display_data"
    },
    {
     "name": "stdout",
     "output_type": "stream",
     "text": [
      "\r",
      " \r"
     ]
    },
    {
     "data": {
      "application/vnd.jupyter.widget-view+json": {
       "model_id": "",
       "version_major": 2,
       "version_minor": 0
      },
      "text/plain": [
       "HBox(children=(IntProgress(value=0, description='TCGA-H6-A45N-01A_HTSeq-FPKM.txt.gz', max=532, style=ProgressS…"
      ]
     },
     "metadata": {},
     "output_type": "display_data"
    },
    {
     "name": "stdout",
     "output_type": "stream",
     "text": [
      "\r",
      " \r"
     ]
    },
    {
     "data": {
      "application/vnd.jupyter.widget-view+json": {
       "model_id": "",
       "version_major": 2,
       "version_minor": 0
      },
      "text/plain": [
       "HBox(children=(IntProgress(value=0, description='TCGA-L1-A7W4-01A_HTSeq-Counts.txt.gz', max=256, style=Progres…"
      ]
     },
     "metadata": {},
     "output_type": "display_data"
    },
    {
     "name": "stdout",
     "output_type": "stream",
     "text": [
      "\r",
      " \r"
     ]
    },
    {
     "data": {
      "application/vnd.jupyter.widget-view+json": {
       "model_id": "",
       "version_major": 2,
       "version_minor": 0
      },
      "text/plain": [
       "HBox(children=(IntProgress(value=0, description='TCGA-2J-AABF-01A_HTSeq-Counts.txt.gz', max=266, style=Progres…"
      ]
     },
     "metadata": {},
     "output_type": "display_data"
    },
    {
     "name": "stdout",
     "output_type": "stream",
     "text": [
      "\r",
      " \r"
     ]
    },
    {
     "data": {
      "application/vnd.jupyter.widget-view+json": {
       "model_id": "",
       "version_major": 2,
       "version_minor": 0
      },
      "text/plain": [
       "HBox(children=(IntProgress(value=0, description='TCGA-HV-A5A6-01A_HTSeq-FPKM-UQ.txt.gz', max=522, style=Progre…"
      ]
     },
     "metadata": {},
     "output_type": "display_data"
    },
    {
     "name": "stdout",
     "output_type": "stream",
     "text": [
      "\r",
      " \r"
     ]
    },
    {
     "data": {
      "application/vnd.jupyter.widget-view+json": {
       "model_id": "",
       "version_major": 2,
       "version_minor": 0
      },
      "text/plain": [
       "HBox(children=(IntProgress(value=0, description='TCGA-XD-AAUH-01A_HTSeq-FPKM.txt.gz', max=532, style=ProgressS…"
      ]
     },
     "metadata": {},
     "output_type": "display_data"
    },
    {
     "name": "stdout",
     "output_type": "stream",
     "text": [
      "\r",
      " \r"
     ]
    },
    {
     "data": {
      "application/vnd.jupyter.widget-view+json": {
       "model_id": "",
       "version_major": 2,
       "version_minor": 0
      },
      "text/plain": [
       "HBox(children=(IntProgress(value=0, description='TCGA-HZ-7922-01A_HTSeq-FPKM.txt.gz', max=532, style=ProgressS…"
      ]
     },
     "metadata": {},
     "output_type": "display_data"
    },
    {
     "name": "stdout",
     "output_type": "stream",
     "text": [
      "\r",
      " \r"
     ]
    },
    {
     "data": {
      "application/vnd.jupyter.widget-view+json": {
       "model_id": "",
       "version_major": 2,
       "version_minor": 0
      },
      "text/plain": [
       "HBox(children=(IntProgress(value=0, description='TCGA-2J-AABP-01A_HTSeq-FPKM-UQ.txt.gz', max=522, style=Progre…"
      ]
     },
     "metadata": {},
     "output_type": "display_data"
    },
    {
     "name": "stdout",
     "output_type": "stream",
     "text": [
      "\r",
      " \r"
     ]
    },
    {
     "data": {
      "application/vnd.jupyter.widget-view+json": {
       "model_id": "",
       "version_major": 2,
       "version_minor": 0
      },
      "text/plain": [
       "HBox(children=(IntProgress(value=0, description='TCGA-IB-A7LX-01A_HTSeq-FPKM.txt.gz', max=543, style=ProgressS…"
      ]
     },
     "metadata": {},
     "output_type": "display_data"
    },
    {
     "name": "stdout",
     "output_type": "stream",
     "text": [
      "\r",
      " \r"
     ]
    },
    {
     "data": {
      "application/vnd.jupyter.widget-view+json": {
       "model_id": "",
       "version_major": 2,
       "version_minor": 0
      },
      "text/plain": [
       "HBox(children=(IntProgress(value=0, description='TCGA-IB-7890-01A_HTSeq-FPKM.txt.gz', max=512, style=ProgressS…"
      ]
     },
     "metadata": {},
     "output_type": "display_data"
    },
    {
     "name": "stdout",
     "output_type": "stream",
     "text": [
      "\r",
      " \r"
     ]
    },
    {
     "data": {
      "application/vnd.jupyter.widget-view+json": {
       "model_id": "",
       "version_major": 2,
       "version_minor": 0
      },
      "text/plain": [
       "HBox(children=(IntProgress(value=0, description='TCGA-US-A779-01A_HTSeq-Counts.txt.gz', max=256, style=Progres…"
      ]
     },
     "metadata": {},
     "output_type": "display_data"
    },
    {
     "name": "stdout",
     "output_type": "stream",
     "text": [
      "\r",
      " \r"
     ]
    },
    {
     "data": {
      "application/vnd.jupyter.widget-view+json": {
       "model_id": "",
       "version_major": 2,
       "version_minor": 0
      },
      "text/plain": [
       "HBox(children=(IntProgress(value=0, description='TCGA-F2-7276-01A_HTSeq-FPKM.txt.gz', max=543, style=ProgressS…"
      ]
     },
     "metadata": {},
     "output_type": "display_data"
    },
    {
     "name": "stdout",
     "output_type": "stream",
     "text": [
      "\r",
      " \r"
     ]
    },
    {
     "data": {
      "application/vnd.jupyter.widget-view+json": {
       "model_id": "",
       "version_major": 2,
       "version_minor": 0
      },
      "text/plain": [
       "HBox(children=(IntProgress(value=0, description='TCGA-IB-7891-01A_HTSeq-FPKM-UQ.txt.gz', max=522, style=Progre…"
      ]
     },
     "metadata": {},
     "output_type": "display_data"
    },
    {
     "name": "stdout",
     "output_type": "stream",
     "text": [
      "\r",
      " \r"
     ]
    },
    {
     "data": {
      "application/vnd.jupyter.widget-view+json": {
       "model_id": "",
       "version_major": 2,
       "version_minor": 0
      },
      "text/plain": [
       "HBox(children=(IntProgress(value=0, description='TCGA-3A-A9IS-01A_HTSeq-FPKM-UQ.txt.gz', max=512, style=Progre…"
      ]
     },
     "metadata": {},
     "output_type": "display_data"
    },
    {
     "name": "stdout",
     "output_type": "stream",
     "text": [
      "\r",
      " \r"
     ]
    },
    {
     "data": {
      "application/vnd.jupyter.widget-view+json": {
       "model_id": "",
       "version_major": 2,
       "version_minor": 0
      },
      "text/plain": [
       "HBox(children=(IntProgress(value=0, description='TCGA-3A-A9I7-01A_HTSeq-FPKM.txt.gz', max=543, style=ProgressS…"
      ]
     },
     "metadata": {},
     "output_type": "display_data"
    },
    {
     "name": "stdout",
     "output_type": "stream",
     "text": [
      "\r",
      " \r"
     ]
    },
    {
     "data": {
      "application/vnd.jupyter.widget-view+json": {
       "model_id": "",
       "version_major": 2,
       "version_minor": 0
      },
      "text/plain": [
       "HBox(children=(IntProgress(value=0, description='TCGA-IB-AAUT-01A_HTSeq-FPKM-UQ.txt.gz', max=532, style=Progre…"
      ]
     },
     "metadata": {},
     "output_type": "display_data"
    },
    {
     "name": "stdout",
     "output_type": "stream",
     "text": [
      "\r",
      " \r"
     ]
    },
    {
     "data": {
      "application/vnd.jupyter.widget-view+json": {
       "model_id": "",
       "version_major": 2,
       "version_minor": 0
      },
      "text/plain": [
       "HBox(children=(IntProgress(value=0, description='TCGA-FB-A5VM-01A_HTSeq-FPKM.txt.gz', max=522, style=ProgressS…"
      ]
     },
     "metadata": {},
     "output_type": "display_data"
    },
    {
     "name": "stdout",
     "output_type": "stream",
     "text": [
      "\r",
      " \r"
     ]
    },
    {
     "data": {
      "application/vnd.jupyter.widget-view+json": {
       "model_id": "",
       "version_major": 2,
       "version_minor": 0
      },
      "text/plain": [
       "HBox(children=(IntProgress(value=0, description='TCGA-IB-AAUO-01A_HTSeq-Counts.txt.gz', max=266, style=Progres…"
      ]
     },
     "metadata": {},
     "output_type": "display_data"
    },
    {
     "name": "stdout",
     "output_type": "stream",
     "text": [
      "\r",
      " \r"
     ]
    },
    {
     "data": {
      "application/vnd.jupyter.widget-view+json": {
       "model_id": "",
       "version_major": 2,
       "version_minor": 0
      },
      "text/plain": [
       "HBox(children=(IntProgress(value=0, description='TCGA-IB-7886-01A_HTSeq-Counts.txt.gz', max=256, style=Progres…"
      ]
     },
     "metadata": {},
     "output_type": "display_data"
    },
    {
     "name": "stdout",
     "output_type": "stream",
     "text": [
      "\r",
      " \r"
     ]
    },
    {
     "data": {
      "application/vnd.jupyter.widget-view+json": {
       "model_id": "",
       "version_major": 2,
       "version_minor": 0
      },
      "text/plain": [
       "HBox(children=(IntProgress(value=0, description='TCGA-2J-AAB4-01A_HTSeq-FPKM.txt.gz', max=532, style=ProgressS…"
      ]
     },
     "metadata": {},
     "output_type": "display_data"
    },
    {
     "name": "stdout",
     "output_type": "stream",
     "text": [
      "\r",
      " \r"
     ]
    },
    {
     "data": {
      "application/vnd.jupyter.widget-view+json": {
       "model_id": "",
       "version_major": 2,
       "version_minor": 0
      },
      "text/plain": [
       "HBox(children=(IntProgress(value=0, description='TCGA-F2-6880-01A_HTSeq-FPKM.txt.gz', max=502, style=ProgressS…"
      ]
     },
     "metadata": {},
     "output_type": "display_data"
    },
    {
     "name": "stdout",
     "output_type": "stream",
     "text": [
      "\r",
      " \r"
     ]
    },
    {
     "data": {
      "application/vnd.jupyter.widget-view+json": {
       "model_id": "",
       "version_major": 2,
       "version_minor": 0
      },
      "text/plain": [
       "HBox(children=(IntProgress(value=0, description='TCGA-2J-AABU-01A_HTSeq-Counts.txt.gz', max=246, style=Progres…"
      ]
     },
     "metadata": {},
     "output_type": "display_data"
    },
    {
     "name": "stdout",
     "output_type": "stream",
     "text": [
      "\r",
      " \r"
     ]
    },
    {
     "data": {
      "application/vnd.jupyter.widget-view+json": {
       "model_id": "",
       "version_major": 2,
       "version_minor": 0
      },
      "text/plain": [
       "HBox(children=(IntProgress(value=0, description='TCGA-XD-AAUI-01A_HTSeq-FPKM-UQ.txt.gz', max=543, style=Progre…"
      ]
     },
     "metadata": {},
     "output_type": "display_data"
    },
    {
     "name": "stdout",
     "output_type": "stream",
     "text": [
      "\r",
      " \r"
     ]
    },
    {
     "data": {
      "application/vnd.jupyter.widget-view+json": {
       "model_id": "",
       "version_major": 2,
       "version_minor": 0
      },
      "text/plain": [
       "HBox(children=(IntProgress(value=0, description='TCGA-3A-A9IR-01A_HTSeq-Counts.txt.gz', max=266, style=Progres…"
      ]
     },
     "metadata": {},
     "output_type": "display_data"
    },
    {
     "name": "stdout",
     "output_type": "stream",
     "text": [
      "\r",
      " \r"
     ]
    },
    {
     "data": {
      "application/vnd.jupyter.widget-view+json": {
       "model_id": "",
       "version_major": 2,
       "version_minor": 0
      },
      "text/plain": [
       "HBox(children=(IntProgress(value=0, description='TCGA-HZ-A9TJ-01A_HTSeq-Counts.txt.gz', max=256, style=Progres…"
      ]
     },
     "metadata": {},
     "output_type": "display_data"
    },
    {
     "name": "stdout",
     "output_type": "stream",
     "text": [
      "\r",
      " \r"
     ]
    },
    {
     "data": {
      "application/vnd.jupyter.widget-view+json": {
       "model_id": "",
       "version_major": 2,
       "version_minor": 0
      },
      "text/plain": [
       "HBox(children=(IntProgress(value=0, description='TCGA-HZ-8636-01A_HTSeq-Counts.txt.gz', max=266, style=Progres…"
      ]
     },
     "metadata": {},
     "output_type": "display_data"
    },
    {
     "name": "stdout",
     "output_type": "stream",
     "text": [
      "\r",
      " \r"
     ]
    },
    {
     "data": {
      "application/vnd.jupyter.widget-view+json": {
       "model_id": "",
       "version_major": 2,
       "version_minor": 0
      },
      "text/plain": [
       "HBox(children=(IntProgress(value=0, description='TCGA-IB-8127-01A_HTSeq-FPKM-UQ.txt.gz', max=563, style=Progre…"
      ]
     },
     "metadata": {},
     "output_type": "display_data"
    },
    {
     "name": "stdout",
     "output_type": "stream",
     "text": [
      "\r",
      " \r"
     ]
    },
    {
     "data": {
      "application/vnd.jupyter.widget-view+json": {
       "model_id": "",
       "version_major": 2,
       "version_minor": 0
      },
      "text/plain": [
       "HBox(children=(IntProgress(value=0, description='TCGA-FB-AAPY-01A_HTSeq-FPKM-UQ.txt.gz', max=543, style=Progre…"
      ]
     },
     "metadata": {},
     "output_type": "display_data"
    },
    {
     "name": "stdout",
     "output_type": "stream",
     "text": [
      "\r",
      " \r"
     ]
    },
    {
     "data": {
      "application/vnd.jupyter.widget-view+json": {
       "model_id": "",
       "version_major": 2,
       "version_minor": 0
      },
      "text/plain": [
       "HBox(children=(IntProgress(value=0, description='TCGA-2J-AABE-01A_HTSeq-Counts.txt.gz', max=256, style=Progres…"
      ]
     },
     "metadata": {},
     "output_type": "display_data"
    },
    {
     "name": "stdout",
     "output_type": "stream",
     "text": [
      "\r",
      " \r"
     ]
    },
    {
     "data": {
      "application/vnd.jupyter.widget-view+json": {
       "model_id": "",
       "version_major": 2,
       "version_minor": 0
      },
      "text/plain": [
       "HBox(children=(IntProgress(value=0, description='TCGA-HZ-8003-01A_HTSeq-FPKM.txt.gz', max=532, style=ProgressS…"
      ]
     },
     "metadata": {},
     "output_type": "display_data"
    },
    {
     "name": "stdout",
     "output_type": "stream",
     "text": [
      "\r",
      " \r"
     ]
    },
    {
     "data": {
      "application/vnd.jupyter.widget-view+json": {
       "model_id": "",
       "version_major": 2,
       "version_minor": 0
      },
      "text/plain": [
       "HBox(children=(IntProgress(value=0, description='TCGA-HZ-7920-01A_HTSeq-FPKM.txt.gz', max=543, style=ProgressS…"
      ]
     },
     "metadata": {},
     "output_type": "display_data"
    },
    {
     "name": "stdout",
     "output_type": "stream",
     "text": [
      "\r",
      " \r"
     ]
    },
    {
     "data": {
      "application/vnd.jupyter.widget-view+json": {
       "model_id": "",
       "version_major": 2,
       "version_minor": 0
      },
      "text/plain": [
       "HBox(children=(IntProgress(value=0, description='TCGA-FB-AAPZ-01A_HTSeq-FPKM.txt.gz', max=512, style=ProgressS…"
      ]
     },
     "metadata": {},
     "output_type": "display_data"
    },
    {
     "name": "stdout",
     "output_type": "stream",
     "text": [
      "\r",
      " \r"
     ]
    },
    {
     "data": {
      "application/vnd.jupyter.widget-view+json": {
       "model_id": "",
       "version_major": 2,
       "version_minor": 0
      },
      "text/plain": [
       "HBox(children=(IntProgress(value=0, description='TCGA-2J-AABU-01A_HTSeq-FPKM.txt.gz', max=492, style=ProgressS…"
      ]
     },
     "metadata": {},
     "output_type": "display_data"
    },
    {
     "name": "stdout",
     "output_type": "stream",
     "text": [
      "\r",
      " \r"
     ]
    },
    {
     "data": {
      "application/vnd.jupyter.widget-view+json": {
       "model_id": "",
       "version_major": 2,
       "version_minor": 0
      },
      "text/plain": [
       "HBox(children=(IntProgress(value=0, description='TCGA-IB-A5ST-01A_HTSeq-FPKM-UQ.txt.gz', max=543, style=Progre…"
      ]
     },
     "metadata": {},
     "output_type": "display_data"
    },
    {
     "name": "stdout",
     "output_type": "stream",
     "text": [
      "\r",
      " \r"
     ]
    },
    {
     "data": {
      "application/vnd.jupyter.widget-view+json": {
       "model_id": "",
       "version_major": 2,
       "version_minor": 0
      },
      "text/plain": [
       "HBox(children=(IntProgress(value=0, description='TCGA-IB-AAUW-01A_HTSeq-FPKM.txt.gz', max=553, style=ProgressS…"
      ]
     },
     "metadata": {},
     "output_type": "display_data"
    },
    {
     "name": "stdout",
     "output_type": "stream",
     "text": [
      "\r",
      " \r"
     ]
    },
    {
     "data": {
      "application/vnd.jupyter.widget-view+json": {
       "model_id": "",
       "version_major": 2,
       "version_minor": 0
      },
      "text/plain": [
       "HBox(children=(IntProgress(value=0, description='TCGA-HV-A5A6-01A_HTSeq-FPKM.txt.gz', max=522, style=ProgressS…"
      ]
     },
     "metadata": {},
     "output_type": "display_data"
    },
    {
     "name": "stdout",
     "output_type": "stream",
     "text": [
      "\r",
      " \r"
     ]
    },
    {
     "data": {
      "application/vnd.jupyter.widget-view+json": {
       "model_id": "",
       "version_major": 2,
       "version_minor": 0
      },
      "text/plain": [
       "HBox(children=(IntProgress(value=0, description='TCGA-HZ-8637-01A_HTSeq-FPKM.txt.gz', max=563, style=ProgressS…"
      ]
     },
     "metadata": {},
     "output_type": "display_data"
    },
    {
     "name": "stdout",
     "output_type": "stream",
     "text": [
      "\r",
      " \r"
     ]
    },
    {
     "data": {
      "application/vnd.jupyter.widget-view+json": {
       "model_id": "",
       "version_major": 2,
       "version_minor": 0
      },
      "text/plain": [
       "HBox(children=(IntProgress(value=0, description='TCGA-IB-AAUP-01A_HTSeq-FPKM-UQ.txt.gz', max=553, style=Progre…"
      ]
     },
     "metadata": {},
     "output_type": "display_data"
    },
    {
     "name": "stdout",
     "output_type": "stream",
     "text": [
      "\r",
      " \r"
     ]
    },
    {
     "data": {
      "application/vnd.jupyter.widget-view+json": {
       "model_id": "",
       "version_major": 2,
       "version_minor": 0
      },
      "text/plain": [
       "HBox(children=(IntProgress(value=0, description='TCGA-M8-A5N4-01A_HTSeq-FPKM.txt.gz', max=522, style=ProgressS…"
      ]
     },
     "metadata": {},
     "output_type": "display_data"
    },
    {
     "name": "stdout",
     "output_type": "stream",
     "text": [
      "\r",
      " \r"
     ]
    },
    {
     "data": {
      "application/vnd.jupyter.widget-view+json": {
       "model_id": "",
       "version_major": 2,
       "version_minor": 0
      },
      "text/plain": [
       "HBox(children=(IntProgress(value=0, description='TCGA-IB-A5SS-01A_HTSeq-FPKM-UQ.txt.gz', max=522, style=Progre…"
      ]
     },
     "metadata": {},
     "output_type": "display_data"
    },
    {
     "name": "stdout",
     "output_type": "stream",
     "text": [
      "\r",
      " \r"
     ]
    },
    {
     "data": {
      "application/vnd.jupyter.widget-view+json": {
       "model_id": "",
       "version_major": 2,
       "version_minor": 0
      },
      "text/plain": [
       "HBox(children=(IntProgress(value=0, description='TCGA-HV-A7OP-01A_HTSeq-FPKM.txt.gz', max=512, style=ProgressS…"
      ]
     },
     "metadata": {},
     "output_type": "display_data"
    },
    {
     "name": "stdout",
     "output_type": "stream",
     "text": [
      "\r",
      " \r"
     ]
    },
    {
     "data": {
      "application/vnd.jupyter.widget-view+json": {
       "model_id": "",
       "version_major": 2,
       "version_minor": 0
      },
      "text/plain": [
       "HBox(children=(IntProgress(value=0, description='TCGA-HV-A5A3-11A_HTSeq-FPKM-UQ.txt.gz', max=522, style=Progre…"
      ]
     },
     "metadata": {},
     "output_type": "display_data"
    },
    {
     "name": "stdout",
     "output_type": "stream",
     "text": [
      "\r",
      " \r"
     ]
    },
    {
     "data": {
      "application/vnd.jupyter.widget-view+json": {
       "model_id": "",
       "version_major": 2,
       "version_minor": 0
      },
      "text/plain": [
       "HBox(children=(IntProgress(value=0, description='TCGA-3E-AAAY-01A_HTSeq-FPKM.txt.gz', max=553, style=ProgressS…"
      ]
     },
     "metadata": {},
     "output_type": "display_data"
    },
    {
     "name": "stdout",
     "output_type": "stream",
     "text": [
      "\r",
      " \r"
     ]
    },
    {
     "data": {
      "application/vnd.jupyter.widget-view+json": {
       "model_id": "",
       "version_major": 2,
       "version_minor": 0
      },
      "text/plain": [
       "HBox(children=(IntProgress(value=0, description='TCGA-3A-A9IJ-01A_HTSeq-FPKM-UQ.txt.gz', max=512, style=Progre…"
      ]
     },
     "metadata": {},
     "output_type": "display_data"
    },
    {
     "name": "stdout",
     "output_type": "stream",
     "text": [
      "\r",
      " \r"
     ]
    },
    {
     "data": {
      "application/vnd.jupyter.widget-view+json": {
       "model_id": "",
       "version_major": 2,
       "version_minor": 0
      },
      "text/plain": [
       "HBox(children=(IntProgress(value=0, description='TCGA-HZ-A49I-01A_HTSeq-FPKM.txt.gz', max=532, style=ProgressS…"
      ]
     },
     "metadata": {},
     "output_type": "display_data"
    },
    {
     "name": "stdout",
     "output_type": "stream",
     "text": [
      "\r",
      " \r"
     ]
    },
    {
     "data": {
      "application/vnd.jupyter.widget-view+json": {
       "model_id": "",
       "version_major": 2,
       "version_minor": 0
      },
      "text/plain": [
       "HBox(children=(IntProgress(value=0, description='TCGA-IB-A5SQ-01A_HTSeq-Counts.txt.gz', max=256, style=Progres…"
      ]
     },
     "metadata": {},
     "output_type": "display_data"
    },
    {
     "name": "stdout",
     "output_type": "stream",
     "text": [
      "\r",
      " \r"
     ]
    },
    {
     "data": {
      "application/vnd.jupyter.widget-view+json": {
       "model_id": "",
       "version_major": 2,
       "version_minor": 0
      },
      "text/plain": [
       "HBox(children=(IntProgress(value=0, description='TCGA-3A-A9IR-01A_HTSeq-FPKM-UQ.txt.gz', max=532, style=Progre…"
      ]
     },
     "metadata": {},
     "output_type": "display_data"
    },
    {
     "name": "stdout",
     "output_type": "stream",
     "text": [
      " \r"
     ]
    },
    {
     "data": {
      "application/vnd.jupyter.widget-view+json": {
       "model_id": "",
       "version_major": 2,
       "version_minor": 0
      },
      "text/plain": [
       "HBox(children=(IntProgress(value=0, description='TCGA-S4-A8RP-01A_HTSeq-Counts.txt.gz', max=266, style=Progres…"
      ]
     },
     "metadata": {},
     "output_type": "display_data"
    },
    {
     "data": {
      "application/vnd.jupyter.widget-view+json": {
       "model_id": "",
       "version_major": 2,
       "version_minor": 0
      },
      "text/plain": [
       "HBox(children=(IntProgress(value=0, description='TCGA-HZ-A4BH-01A_HTSeq-FPKM-UQ.txt.gz', max=532, style=Progre…"
      ]
     },
     "metadata": {},
     "output_type": "display_data"
    },
    {
     "data": {
      "application/vnd.jupyter.widget-view+json": {
       "model_id": "",
       "version_major": 2,
       "version_minor": 0
      },
      "text/plain": [
       "HBox(children=(IntProgress(value=0, description='TCGA-3A-A9I5-01A_HTSeq-FPKM.txt.gz', max=522, style=ProgressS…"
      ]
     },
     "metadata": {},
     "output_type": "display_data"
    },
    {
     "name": "stdout",
     "output_type": "stream",
     "text": [
      "\r",
      " \r"
     ]
    },
    {
     "data": {
      "application/vnd.jupyter.widget-view+json": {
       "model_id": "",
       "version_major": 2,
       "version_minor": 0
      },
      "text/plain": [
       "HBox(children=(IntProgress(value=0, description='TCGA-IB-7646-01A_HTSeq-Counts.txt.gz', max=256, style=Progres…"
      ]
     },
     "metadata": {},
     "output_type": "display_data"
    },
    {
     "name": "stdout",
     "output_type": "stream",
     "text": [
      "\r",
      " \r"
     ]
    },
    {
     "data": {
      "application/vnd.jupyter.widget-view+json": {
       "model_id": "",
       "version_major": 2,
       "version_minor": 0
      },
      "text/plain": [
       "HBox(children=(IntProgress(value=0, description='TCGA-LB-A9Q5-01A_HTSeq-FPKM-UQ.txt.gz', max=512, style=Progre…"
      ]
     },
     "metadata": {},
     "output_type": "display_data"
    },
    {
     "name": "stdout",
     "output_type": "stream",
     "text": [
      "\r",
      " \r"
     ]
    },
    {
     "data": {
      "application/vnd.jupyter.widget-view+json": {
       "model_id": "",
       "version_major": 2,
       "version_minor": 0
      },
      "text/plain": [
       "HBox(children=(IntProgress(value=0, description='TCGA-HZ-8638-01A_HTSeq-Counts.txt.gz', max=266, style=Progres…"
      ]
     },
     "metadata": {},
     "output_type": "display_data"
    },
    {
     "name": "stdout",
     "output_type": "stream",
     "text": [
      "\r",
      " \r"
     ]
    },
    {
     "data": {
      "application/vnd.jupyter.widget-view+json": {
       "model_id": "",
       "version_major": 2,
       "version_minor": 0
      },
      "text/plain": [
       "HBox(children=(IntProgress(value=0, description='TCGA-FB-A78T-01A_HTSeq-FPKM.txt.gz', max=543, style=ProgressS…"
      ]
     },
     "metadata": {},
     "output_type": "display_data"
    },
    {
     "name": "stdout",
     "output_type": "stream",
     "text": [
      "\r",
      " \r"
     ]
    },
    {
     "data": {
      "application/vnd.jupyter.widget-view+json": {
       "model_id": "",
       "version_major": 2,
       "version_minor": 0
      },
      "text/plain": [
       "HBox(children=(IntProgress(value=0, description='TCGA-YY-A8LH-01A_HTSeq-Counts.txt.gz', max=256, style=Progres…"
      ]
     },
     "metadata": {},
     "output_type": "display_data"
    },
    {
     "name": "stdout",
     "output_type": "stream",
     "text": [
      "\r",
      " \r"
     ]
    },
    {
     "data": {
      "application/vnd.jupyter.widget-view+json": {
       "model_id": "",
       "version_major": 2,
       "version_minor": 0
      },
      "text/plain": [
       "HBox(children=(IntProgress(value=0, description='TCGA-2L-AAQE-01A_HTSeq-FPKM-UQ.txt.gz', max=522, style=Progre…"
      ]
     },
     "metadata": {},
     "output_type": "display_data"
    },
    {
     "name": "stdout",
     "output_type": "stream",
     "text": [
      "\r",
      " \r"
     ]
    },
    {
     "data": {
      "application/vnd.jupyter.widget-view+json": {
       "model_id": "",
       "version_major": 2,
       "version_minor": 0
      },
      "text/plain": [
       "HBox(children=(IntProgress(value=0, description='TCGA-L1-A7W4-01A_HTSeq-FPKM.txt.gz', max=532, style=ProgressS…"
      ]
     },
     "metadata": {},
     "output_type": "display_data"
    },
    {
     "name": "stdout",
     "output_type": "stream",
     "text": [
      "\r",
      " \r"
     ]
    },
    {
     "data": {
      "application/vnd.jupyter.widget-view+json": {
       "model_id": "",
       "version_major": 2,
       "version_minor": 0
      },
      "text/plain": [
       "HBox(children=(IntProgress(value=0, description='TCGA-US-A77G-01A_HTSeq-Counts.txt.gz', max=256, style=Progres…"
      ]
     },
     "metadata": {},
     "output_type": "display_data"
    },
    {
     "name": "stdout",
     "output_type": "stream",
     "text": [
      " \r"
     ]
    },
    {
     "data": {
      "application/vnd.jupyter.widget-view+json": {
       "model_id": "",
       "version_major": 2,
       "version_minor": 0
      },
      "text/plain": [
       "HBox(children=(IntProgress(value=0, description='TCGA-RL-AAAS-01A_HTSeq-Counts.txt.gz', max=256, style=Progres…"
      ]
     },
     "metadata": {},
     "output_type": "display_data"
    },
    {
     "data": {
      "application/vnd.jupyter.widget-view+json": {
       "model_id": "",
       "version_major": 2,
       "version_minor": 0
      },
      "text/plain": [
       "HBox(children=(IntProgress(value=0, description='TCGA-HZ-A49I-01A_HTSeq-Counts.txt.gz', max=256, style=Progres…"
      ]
     },
     "metadata": {},
     "output_type": "display_data"
    },
    {
     "name": "stdout",
     "output_type": "stream",
     "text": [
      "\r",
      " \r"
     ]
    },
    {
     "data": {
      "application/vnd.jupyter.widget-view+json": {
       "model_id": "",
       "version_major": 2,
       "version_minor": 0
      },
      "text/plain": [
       "HBox(children=(IntProgress(value=0, description='TCGA-Q3-AA2A-01A_HTSeq-FPKM-UQ.txt.gz', max=522, style=Progre…"
      ]
     },
     "metadata": {},
     "output_type": "display_data"
    },
    {
     "name": "stdout",
     "output_type": "stream",
     "text": [
      "\r",
      " \r"
     ]
    },
    {
     "data": {
      "application/vnd.jupyter.widget-view+json": {
       "model_id": "",
       "version_major": 2,
       "version_minor": 0
      },
      "text/plain": [
       "HBox(children=(IntProgress(value=0, description='TCGA-FB-AAQ6-01A_HTSeq-FPKM-UQ.txt.gz', max=502, style=Progre…"
      ]
     },
     "metadata": {},
     "output_type": "display_data"
    },
    {
     "name": "stdout",
     "output_type": "stream",
     "text": [
      "\r",
      " \r"
     ]
    },
    {
     "data": {
      "application/vnd.jupyter.widget-view+json": {
       "model_id": "",
       "version_major": 2,
       "version_minor": 0
      },
      "text/plain": [
       "HBox(children=(IntProgress(value=0, description='TCGA-3A-A9IC-01A_HTSeq-Counts.txt.gz', max=256, style=Progres…"
      ]
     },
     "metadata": {},
     "output_type": "display_data"
    },
    {
     "name": "stdout",
     "output_type": "stream",
     "text": [
      "\r",
      " \r"
     ]
    },
    {
     "data": {
      "application/vnd.jupyter.widget-view+json": {
       "model_id": "",
       "version_major": 2,
       "version_minor": 0
      },
      "text/plain": [
       "HBox(children=(IntProgress(value=0, description='TCGA-M8-A5N4-01A_HTSeq-FPKM-UQ.txt.gz', max=532, style=Progre…"
      ]
     },
     "metadata": {},
     "output_type": "display_data"
    },
    {
     "name": "stdout",
     "output_type": "stream",
     "text": [
      "\r",
      " \r"
     ]
    },
    {
     "data": {
      "application/vnd.jupyter.widget-view+json": {
       "model_id": "",
       "version_major": 2,
       "version_minor": 0
      },
      "text/plain": [
       "HBox(children=(IntProgress(value=0, description='TCGA-YY-A8LH-01A_HTSeq-FPKM.txt.gz', max=532, style=ProgressS…"
      ]
     },
     "metadata": {},
     "output_type": "display_data"
    },
    {
     "name": "stdout",
     "output_type": "stream",
     "text": [
      "\r",
      " \r"
     ]
    },
    {
     "data": {
      "application/vnd.jupyter.widget-view+json": {
       "model_id": "",
       "version_major": 2,
       "version_minor": 0
      },
      "text/plain": [
       "HBox(children=(IntProgress(value=0, description='TCGA-IB-7649-01A_HTSeq-Counts.txt.gz', max=256, style=Progres…"
      ]
     },
     "metadata": {},
     "output_type": "display_data"
    },
    {
     "name": "stdout",
     "output_type": "stream",
     "text": [
      "\r",
      " \r"
     ]
    },
    {
     "data": {
      "application/vnd.jupyter.widget-view+json": {
       "model_id": "",
       "version_major": 2,
       "version_minor": 0
      },
      "text/plain": [
       "HBox(children=(IntProgress(value=0, description='TCGA-HV-A5A4-01A_HTSeq-FPKM.txt.gz', max=532, style=ProgressS…"
      ]
     },
     "metadata": {},
     "output_type": "display_data"
    },
    {
     "name": "stdout",
     "output_type": "stream",
     "text": [
      "\r",
      " \r"
     ]
    },
    {
     "data": {
      "application/vnd.jupyter.widget-view+json": {
       "model_id": "",
       "version_major": 2,
       "version_minor": 0
      },
      "text/plain": [
       "HBox(children=(IntProgress(value=0, description='TCGA-FB-A545-01A_HTSeq-Counts.txt.gz', max=256, style=Progres…"
      ]
     },
     "metadata": {},
     "output_type": "display_data"
    },
    {
     "name": "stdout",
     "output_type": "stream",
     "text": [
      "\r",
      " \r"
     ]
    },
    {
     "data": {
      "application/vnd.jupyter.widget-view+json": {
       "model_id": "",
       "version_major": 2,
       "version_minor": 0
      },
      "text/plain": [
       "HBox(children=(IntProgress(value=0, description='TCGA-H6-8124-01A_HTSeq-FPKM-UQ.txt.gz', max=543, style=Progre…"
      ]
     },
     "metadata": {},
     "output_type": "display_data"
    },
    {
     "name": "stdout",
     "output_type": "stream",
     "text": [
      "\r",
      " \r"
     ]
    },
    {
     "data": {
      "application/vnd.jupyter.widget-view+json": {
       "model_id": "",
       "version_major": 2,
       "version_minor": 0
      },
      "text/plain": [
       "HBox(children=(IntProgress(value=0, description='TCGA-IB-7644-01A_HTSeq-Counts.txt.gz', max=256, style=Progres…"
      ]
     },
     "metadata": {},
     "output_type": "display_data"
    },
    {
     "name": "stdout",
     "output_type": "stream",
     "text": [
      "\r",
      " \r"
     ]
    },
    {
     "data": {
      "application/vnd.jupyter.widget-view+json": {
       "model_id": "",
       "version_major": 2,
       "version_minor": 0
      },
      "text/plain": [
       "HBox(children=(IntProgress(value=0, description='TCGA-HZ-8519-01A_HTSeq-FPKM.txt.gz', max=563, style=ProgressS…"
      ]
     },
     "metadata": {},
     "output_type": "display_data"
    },
    {
     "name": "stdout",
     "output_type": "stream",
     "text": [
      "\r",
      " \r"
     ]
    },
    {
     "data": {
      "application/vnd.jupyter.widget-view+json": {
       "model_id": "",
       "version_major": 2,
       "version_minor": 0
      },
      "text/plain": [
       "HBox(children=(IntProgress(value=0, description='TCGA-HV-A5A3-11A_HTSeq-Counts.txt.gz', max=256, style=Progres…"
      ]
     },
     "metadata": {},
     "output_type": "display_data"
    },
    {
     "name": "stdout",
     "output_type": "stream",
     "text": [
      "\r",
      " \r"
     ]
    },
    {
     "data": {
      "application/vnd.jupyter.widget-view+json": {
       "model_id": "",
       "version_major": 2,
       "version_minor": 0
      },
      "text/plain": [
       "HBox(children=(IntProgress(value=0, description='TCGA-HV-AA8X-01A_HTSeq-Counts.txt.gz', max=256, style=Progres…"
      ]
     },
     "metadata": {},
     "output_type": "display_data"
    },
    {
     "name": "stdout",
     "output_type": "stream",
     "text": [
      "\r",
      " \r"
     ]
    },
    {
     "data": {
      "application/vnd.jupyter.widget-view+json": {
       "model_id": "",
       "version_major": 2,
       "version_minor": 0
      },
      "text/plain": [
       "HBox(children=(IntProgress(value=0, description='TCGA-2J-AABV-01A_HTSeq-FPKM.txt.gz', max=481, style=ProgressS…"
      ]
     },
     "metadata": {},
     "output_type": "display_data"
    },
    {
     "name": "stdout",
     "output_type": "stream",
     "text": [
      "\r",
      " \r"
     ]
    },
    {
     "data": {
      "application/vnd.jupyter.widget-view+json": {
       "model_id": "",
       "version_major": 2,
       "version_minor": 0
      },
      "text/plain": [
       "HBox(children=(IntProgress(value=0, description='TCGA-Z5-AAPL-01A_HTSeq-FPKM.txt.gz', max=522, style=ProgressS…"
      ]
     },
     "metadata": {},
     "output_type": "display_data"
    },
    {
     "name": "stdout",
     "output_type": "stream",
     "text": [
      "\r",
      " \r"
     ]
    },
    {
     "data": {
      "application/vnd.jupyter.widget-view+json": {
       "model_id": "",
       "version_major": 2,
       "version_minor": 0
      },
      "text/plain": [
       "HBox(children=(IntProgress(value=0, description='TCGA-FB-AAPY-01A_HTSeq-Counts.txt.gz', max=256, style=Progres…"
      ]
     },
     "metadata": {},
     "output_type": "display_data"
    },
    {
     "name": "stdout",
     "output_type": "stream",
     "text": [
      "\r",
      " \r"
     ]
    },
    {
     "data": {
      "application/vnd.jupyter.widget-view+json": {
       "model_id": "",
       "version_major": 2,
       "version_minor": 0
      },
      "text/plain": [
       "HBox(children=(IntProgress(value=0, description='TCGA-IB-A5SQ-01A_HTSeq-FPKM-UQ.txt.gz', max=532, style=Progre…"
      ]
     },
     "metadata": {},
     "output_type": "display_data"
    },
    {
     "name": "stdout",
     "output_type": "stream",
     "text": [
      "\r",
      " \r"
     ]
    },
    {
     "data": {
      "application/vnd.jupyter.widget-view+json": {
       "model_id": "",
       "version_major": 2,
       "version_minor": 0
      },
      "text/plain": [
       "HBox(children=(IntProgress(value=0, description='TCGA-IB-7652-01A_HTSeq-FPKM-UQ.txt.gz', max=543, style=Progre…"
      ]
     },
     "metadata": {},
     "output_type": "display_data"
    },
    {
     "name": "stdout",
     "output_type": "stream",
     "text": [
      "\r",
      " \r"
     ]
    },
    {
     "data": {
      "application/vnd.jupyter.widget-view+json": {
       "model_id": "",
       "version_major": 2,
       "version_minor": 0
      },
      "text/plain": [
       "HBox(children=(IntProgress(value=0, description='TCGA-LB-A8F3-01A_HTSeq-Counts.txt.gz', max=256, style=Progres…"
      ]
     },
     "metadata": {},
     "output_type": "display_data"
    },
    {
     "name": "stdout",
     "output_type": "stream",
     "text": [
      "\r",
      " \r"
     ]
    },
    {
     "data": {
      "application/vnd.jupyter.widget-view+json": {
       "model_id": "",
       "version_major": 2,
       "version_minor": 0
      },
      "text/plain": [
       "HBox(children=(IntProgress(value=0, description='TCGA-HZ-8315-01A_HTSeq-Counts.txt.gz', max=266, style=Progres…"
      ]
     },
     "metadata": {},
     "output_type": "display_data"
    },
    {
     "name": "stdout",
     "output_type": "stream",
     "text": [
      "\r",
      " \r"
     ]
    },
    {
     "data": {
      "application/vnd.jupyter.widget-view+json": {
       "model_id": "",
       "version_major": 2,
       "version_minor": 0
      },
      "text/plain": [
       "HBox(children=(IntProgress(value=0, description='TCGA-FB-AAQ0-01A_HTSeq-Counts.txt.gz', max=256, style=Progres…"
      ]
     },
     "metadata": {},
     "output_type": "display_data"
    },
    {
     "name": "stdout",
     "output_type": "stream",
     "text": [
      "\r",
      " \r"
     ]
    },
    {
     "data": {
      "application/vnd.jupyter.widget-view+json": {
       "model_id": "",
       "version_major": 2,
       "version_minor": 0
      },
      "text/plain": [
       "HBox(children=(IntProgress(value=0, description='TCGA-HV-A7OL-01A_HTSeq-FPKM-UQ.txt.gz', max=522, style=Progre…"
      ]
     },
     "metadata": {},
     "output_type": "display_data"
    },
    {
     "name": "stdout",
     "output_type": "stream",
     "text": [
      "\r",
      " \r"
     ]
    },
    {
     "data": {
      "application/vnd.jupyter.widget-view+json": {
       "model_id": "",
       "version_major": 2,
       "version_minor": 0
      },
      "text/plain": [
       "HBox(children=(IntProgress(value=0, description='TCGA-HZ-8315-01A_HTSeq-FPKM-UQ.txt.gz', max=553, style=Progre…"
      ]
     },
     "metadata": {},
     "output_type": "display_data"
    },
    {
     "name": "stdout",
     "output_type": "stream",
     "text": [
      "\r",
      " \r"
     ]
    },
    {
     "data": {
      "application/vnd.jupyter.widget-view+json": {
       "model_id": "",
       "version_major": 2,
       "version_minor": 0
      },
      "text/plain": [
       "HBox(children=(IntProgress(value=0, description='TCGA-HZ-8317-01A_HTSeq-Counts.txt.gz', max=256, style=Progres…"
      ]
     },
     "metadata": {},
     "output_type": "display_data"
    },
    {
     "name": "stdout",
     "output_type": "stream",
     "text": [
      "\r",
      " \r"
     ]
    },
    {
     "data": {
      "application/vnd.jupyter.widget-view+json": {
       "model_id": "",
       "version_major": 2,
       "version_minor": 0
      },
      "text/plain": [
       "HBox(children=(IntProgress(value=0, description='TCGA-HZ-A49G-01A_HTSeq-FPKM-UQ.txt.gz', max=532, style=Progre…"
      ]
     },
     "metadata": {},
     "output_type": "display_data"
    },
    {
     "name": "stdout",
     "output_type": "stream",
     "text": [
      "\r",
      " \r"
     ]
    },
    {
     "data": {
      "application/vnd.jupyter.widget-view+json": {
       "model_id": "",
       "version_major": 2,
       "version_minor": 0
      },
      "text/plain": [
       "HBox(children=(IntProgress(value=0, description='TCGA-2J-AAB6-01A_HTSeq-FPKM-UQ.txt.gz', max=512, style=Progre…"
      ]
     },
     "metadata": {},
     "output_type": "display_data"
    },
    {
     "name": "stdout",
     "output_type": "stream",
     "text": [
      "\r",
      " \r"
     ]
    },
    {
     "data": {
      "application/vnd.jupyter.widget-view+json": {
       "model_id": "",
       "version_major": 2,
       "version_minor": 0
      },
      "text/plain": [
       "HBox(children=(IntProgress(value=0, description='TCGA-HZ-A8P1-01A_HTSeq-FPKM-UQ.txt.gz', max=532, style=Progre…"
      ]
     },
     "metadata": {},
     "output_type": "display_data"
    },
    {
     "name": "stdout",
     "output_type": "stream",
     "text": [
      "\r",
      " \r"
     ]
    },
    {
     "data": {
      "application/vnd.jupyter.widget-view+json": {
       "model_id": "",
       "version_major": 2,
       "version_minor": 0
      },
      "text/plain": [
       "HBox(children=(IntProgress(value=0, description='TCGA-IB-AAUN-01A_HTSeq-Counts.txt.gz', max=256, style=Progres…"
      ]
     },
     "metadata": {},
     "output_type": "display_data"
    },
    {
     "name": "stdout",
     "output_type": "stream",
     "text": [
      "\r",
      " \r"
     ]
    },
    {
     "data": {
      "application/vnd.jupyter.widget-view+json": {
       "model_id": "",
       "version_major": 2,
       "version_minor": 0
      },
      "text/plain": [
       "HBox(children=(IntProgress(value=0, description='TCGA-2J-AABO-01A_HTSeq-FPKM.txt.gz', max=512, style=ProgressS…"
      ]
     },
     "metadata": {},
     "output_type": "display_data"
    },
    {
     "name": "stdout",
     "output_type": "stream",
     "text": [
      "\r",
      " \r"
     ]
    },
    {
     "data": {
      "application/vnd.jupyter.widget-view+json": {
       "model_id": "",
       "version_major": 2,
       "version_minor": 0
      },
      "text/plain": [
       "HBox(children=(IntProgress(value=0, description='TCGA-HZ-8519-01A_HTSeq-FPKM-UQ.txt.gz', max=573, style=Progre…"
      ]
     },
     "metadata": {},
     "output_type": "display_data"
    },
    {
     "name": "stdout",
     "output_type": "stream",
     "text": [
      "\r",
      " \r"
     ]
    },
    {
     "data": {
      "application/vnd.jupyter.widget-view+json": {
       "model_id": "",
       "version_major": 2,
       "version_minor": 0
      },
      "text/plain": [
       "HBox(children=(IntProgress(value=0, description='TCGA-2L-AAQI-01A_HTSeq-FPKM.txt.gz', max=532, style=ProgressS…"
      ]
     },
     "metadata": {},
     "output_type": "display_data"
    },
    {
     "name": "stdout",
     "output_type": "stream",
     "text": [
      "\r",
      " \r"
     ]
    },
    {
     "data": {
      "application/vnd.jupyter.widget-view+json": {
       "model_id": "",
       "version_major": 2,
       "version_minor": 0
      },
      "text/plain": [
       "HBox(children=(IntProgress(value=0, description='TCGA-FB-AAPZ-01A_HTSeq-FPKM-UQ.txt.gz', max=522, style=Progre…"
      ]
     },
     "metadata": {},
     "output_type": "display_data"
    },
    {
     "name": "stdout",
     "output_type": "stream",
     "text": [
      "\r",
      " \r"
     ]
    },
    {
     "data": {
      "application/vnd.jupyter.widget-view+json": {
       "model_id": "",
       "version_major": 2,
       "version_minor": 0
      },
      "text/plain": [
       "HBox(children=(IntProgress(value=0, description='TCGA-3A-A9I9-01A_HTSeq-FPKM-UQ.txt.gz', max=532, style=Progre…"
      ]
     },
     "metadata": {},
     "output_type": "display_data"
    },
    {
     "name": "stdout",
     "output_type": "stream",
     "text": [
      "\r",
      " \r"
     ]
    },
    {
     "data": {
      "application/vnd.jupyter.widget-view+json": {
       "model_id": "",
       "version_major": 2,
       "version_minor": 0
      },
      "text/plain": [
       "HBox(children=(IntProgress(value=0, description='TCGA-IB-7889-01A_HTSeq-Counts.txt.gz', max=256, style=Progres…"
      ]
     },
     "metadata": {},
     "output_type": "display_data"
    },
    {
     "name": "stdout",
     "output_type": "stream",
     "text": [
      "\r",
      " \r"
     ]
    },
    {
     "data": {
      "application/vnd.jupyter.widget-view+json": {
       "model_id": "",
       "version_major": 2,
       "version_minor": 0
      },
      "text/plain": [
       "HBox(children=(IntProgress(value=0, description='TCGA-2J-AABK-01A_HTSeq-FPKM-UQ.txt.gz', max=553, style=Progre…"
      ]
     },
     "metadata": {},
     "output_type": "display_data"
    },
    {
     "name": "stdout",
     "output_type": "stream",
     "text": [
      "\r",
      " \r"
     ]
    },
    {
     "data": {
      "application/vnd.jupyter.widget-view+json": {
       "model_id": "",
       "version_major": 2,
       "version_minor": 0
      },
      "text/plain": [
       "HBox(children=(IntProgress(value=0, description='TCGA-IB-AAUT-01A_HTSeq-Counts.txt.gz', max=256, style=Progres…"
      ]
     },
     "metadata": {},
     "output_type": "display_data"
    },
    {
     "name": "stdout",
     "output_type": "stream",
     "text": [
      "\r",
      " \r"
     ]
    },
    {
     "data": {
      "application/vnd.jupyter.widget-view+json": {
       "model_id": "",
       "version_major": 2,
       "version_minor": 0
      },
      "text/plain": [
       "HBox(children=(IntProgress(value=0, description='TCGA-US-A774-01A_HTSeq-FPKM.txt.gz', max=532, style=ProgressS…"
      ]
     },
     "metadata": {},
     "output_type": "display_data"
    },
    {
     "name": "stdout",
     "output_type": "stream",
     "text": [
      "\r",
      " \r"
     ]
    },
    {
     "data": {
      "application/vnd.jupyter.widget-view+json": {
       "model_id": "",
       "version_major": 2,
       "version_minor": 0
      },
      "text/plain": [
       "HBox(children=(IntProgress(value=0, description='TCGA-IB-A5SS-01A_HTSeq-FPKM.txt.gz', max=522, style=ProgressS…"
      ]
     },
     "metadata": {},
     "output_type": "display_data"
    },
    {
     "name": "stdout",
     "output_type": "stream",
     "text": [
      "\r",
      " \r"
     ]
    },
    {
     "data": {
      "application/vnd.jupyter.widget-view+json": {
       "model_id": "",
       "version_major": 2,
       "version_minor": 0
      },
      "text/plain": [
       "HBox(children=(IntProgress(value=0, description='TCGA-FB-AAQ3-01A_HTSeq-FPKM.txt.gz', max=512, style=ProgressS…"
      ]
     },
     "metadata": {},
     "output_type": "display_data"
    },
    {
     "name": "stdout",
     "output_type": "stream",
     "text": [
      "\r",
      " \r"
     ]
    },
    {
     "data": {
      "application/vnd.jupyter.widget-view+json": {
       "model_id": "",
       "version_major": 2,
       "version_minor": 0
      },
      "text/plain": [
       "HBox(children=(IntProgress(value=0, description='TCGA-2L-AAQA-01A_HTSeq-FPKM.txt.gz', max=543, style=ProgressS…"
      ]
     },
     "metadata": {},
     "output_type": "display_data"
    },
    {
     "name": "stdout",
     "output_type": "stream",
     "text": [
      "\r",
      " \r"
     ]
    },
    {
     "data": {
      "application/vnd.jupyter.widget-view+json": {
       "model_id": "",
       "version_major": 2,
       "version_minor": 0
      },
      "text/plain": [
       "HBox(children=(IntProgress(value=0, description='TCGA-HV-A7OP-01A_HTSeq-FPKM-UQ.txt.gz', max=522, style=Progre…"
      ]
     },
     "metadata": {},
     "output_type": "display_data"
    },
    {
     "name": "stdout",
     "output_type": "stream",
     "text": [
      "\r",
      " \r"
     ]
    },
    {
     "data": {
      "application/vnd.jupyter.widget-view+json": {
       "model_id": "",
       "version_major": 2,
       "version_minor": 0
      },
      "text/plain": [
       "HBox(children=(IntProgress(value=0, description='TCGA-HV-AA8X-01A_HTSeq-FPKM-UQ.txt.gz', max=532, style=Progre…"
      ]
     },
     "metadata": {},
     "output_type": "display_data"
    },
    {
     "name": "stdout",
     "output_type": "stream",
     "text": [
      "\r",
      " \r"
     ]
    },
    {
     "data": {
      "application/vnd.jupyter.widget-view+json": {
       "model_id": "",
       "version_major": 2,
       "version_minor": 0
      },
      "text/plain": [
       "HBox(children=(IntProgress(value=0, description='TCGA-H6-A45N-01A_HTSeq-Counts.txt.gz', max=256, style=Progres…"
      ]
     },
     "metadata": {},
     "output_type": "display_data"
    },
    {
     "name": "stdout",
     "output_type": "stream",
     "text": [
      "\r",
      " \r"
     ]
    },
    {
     "data": {
      "application/vnd.jupyter.widget-view+json": {
       "model_id": "",
       "version_major": 2,
       "version_minor": 0
      },
      "text/plain": [
       "HBox(children=(IntProgress(value=0, description='TCGA-XD-AAUL-01A_HTSeq-FPKM.txt.gz', max=532, style=ProgressS…"
      ]
     },
     "metadata": {},
     "output_type": "display_data"
    },
    {
     "name": "stdout",
     "output_type": "stream",
     "text": [
      "\r",
      " \r"
     ]
    },
    {
     "data": {
      "application/vnd.jupyter.widget-view+json": {
       "model_id": "",
       "version_major": 2,
       "version_minor": 0
      },
      "text/plain": [
       "HBox(children=(IntProgress(value=0, description='TCGA-YB-A89D-01A_HTSeq-FPKM.txt.gz', max=532, style=ProgressS…"
      ]
     },
     "metadata": {},
     "output_type": "display_data"
    },
    {
     "name": "stdout",
     "output_type": "stream",
     "text": [
      "\r",
      " \r"
     ]
    },
    {
     "data": {
      "application/vnd.jupyter.widget-view+json": {
       "model_id": "",
       "version_major": 2,
       "version_minor": 0
      },
      "text/plain": [
       "HBox(children=(IntProgress(value=0, description='TCGA-US-A779-01A_HTSeq-FPKM-UQ.txt.gz', max=532, style=Progre…"
      ]
     },
     "metadata": {},
     "output_type": "display_data"
    },
    {
     "name": "stdout",
     "output_type": "stream",
     "text": [
      "\r",
      " \r"
     ]
    },
    {
     "data": {
      "application/vnd.jupyter.widget-view+json": {
       "model_id": "",
       "version_major": 2,
       "version_minor": 0
      },
      "text/plain": [
       "HBox(children=(IntProgress(value=0, description='TCGA-IB-A5SQ-01A_HTSeq-FPKM.txt.gz', max=532, style=ProgressS…"
      ]
     },
     "metadata": {},
     "output_type": "display_data"
    },
    {
     "name": "stdout",
     "output_type": "stream",
     "text": [
      "\r",
      " \r"
     ]
    },
    {
     "data": {
      "application/vnd.jupyter.widget-view+json": {
       "model_id": "",
       "version_major": 2,
       "version_minor": 0
      },
      "text/plain": [
       "HBox(children=(IntProgress(value=0, description='TCGA-IB-7651-01A_HTSeq-Counts.txt.gz', max=266, style=Progres…"
      ]
     },
     "metadata": {},
     "output_type": "display_data"
    },
    {
     "name": "stdout",
     "output_type": "stream",
     "text": [
      "\r",
      " \r"
     ]
    },
    {
     "data": {
      "application/vnd.jupyter.widget-view+json": {
       "model_id": "",
       "version_major": 2,
       "version_minor": 0
      },
      "text/plain": [
       "HBox(children=(IntProgress(value=0, description='TCGA-2J-AABA-01A_HTSeq-Counts.txt.gz', max=256, style=Progres…"
      ]
     },
     "metadata": {},
     "output_type": "display_data"
    },
    {
     "name": "stdout",
     "output_type": "stream",
     "text": [
      "\r",
      " \r"
     ]
    },
    {
     "data": {
      "application/vnd.jupyter.widget-view+json": {
       "model_id": "",
       "version_major": 2,
       "version_minor": 0
      },
      "text/plain": [
       "HBox(children=(IntProgress(value=0, description='TCGA-2J-AABF-01A_HTSeq-FPKM.txt.gz', max=553, style=ProgressS…"
      ]
     },
     "metadata": {},
     "output_type": "display_data"
    },
    {
     "name": "stdout",
     "output_type": "stream",
     "text": [
      "\r",
      " \r"
     ]
    },
    {
     "data": {
      "application/vnd.jupyter.widget-view+json": {
       "model_id": "",
       "version_major": 2,
       "version_minor": 0
      },
      "text/plain": [
       "HBox(children=(IntProgress(value=0, description='TCGA-F2-A44H-01A_HTSeq-Counts.txt.gz', max=246, style=Progres…"
      ]
     },
     "metadata": {},
     "output_type": "display_data"
    },
    {
     "name": "stdout",
     "output_type": "stream",
     "text": [
      "\r",
      " \r"
     ]
    },
    {
     "data": {
      "application/vnd.jupyter.widget-view+json": {
       "model_id": "",
       "version_major": 2,
       "version_minor": 0
      },
      "text/plain": [
       "HBox(children=(IntProgress(value=0, description='TCGA-3A-A9IN-01A_HTSeq-FPKM-UQ.txt.gz', max=543, style=Progre…"
      ]
     },
     "metadata": {},
     "output_type": "display_data"
    },
    {
     "name": "stdout",
     "output_type": "stream",
     "text": [
      "\r",
      " \r"
     ]
    },
    {
     "data": {
      "application/vnd.jupyter.widget-view+json": {
       "model_id": "",
       "version_major": 2,
       "version_minor": 0
      },
      "text/plain": [
       "HBox(children=(IntProgress(value=0, description='TCGA-F2-7273-01A_HTSeq-FPKM-UQ.txt.gz', max=543, style=Progre…"
      ]
     },
     "metadata": {},
     "output_type": "display_data"
    },
    {
     "name": "stdout",
     "output_type": "stream",
     "text": [
      "\r",
      " \r"
     ]
    },
    {
     "data": {
      "application/vnd.jupyter.widget-view+json": {
       "model_id": "",
       "version_major": 2,
       "version_minor": 0
      },
      "text/plain": [
       "HBox(children=(IntProgress(value=0, description='TCGA-HZ-8003-01A_HTSeq-FPKM-UQ.txt.gz', max=543, style=Progre…"
      ]
     },
     "metadata": {},
     "output_type": "display_data"
    },
    {
     "name": "stdout",
     "output_type": "stream",
     "text": [
      "\r",
      " \r"
     ]
    },
    {
     "data": {
      "application/vnd.jupyter.widget-view+json": {
       "model_id": "",
       "version_major": 2,
       "version_minor": 0
      },
      "text/plain": [
       "HBox(children=(IntProgress(value=0, description='TCGA-2J-AABE-01A_HTSeq-FPKM.txt.gz', max=522, style=ProgressS…"
      ]
     },
     "metadata": {},
     "output_type": "display_data"
    },
    {
     "name": "stdout",
     "output_type": "stream",
     "text": [
      "\r",
      " \r"
     ]
    },
    {
     "data": {
      "application/vnd.jupyter.widget-view+json": {
       "model_id": "",
       "version_major": 2,
       "version_minor": 0
      },
      "text/plain": [
       "HBox(children=(IntProgress(value=0, description='TCGA-HZ-8315-01A_HTSeq-FPKM.txt.gz', max=553, style=ProgressS…"
      ]
     },
     "metadata": {},
     "output_type": "display_data"
    },
    {
     "name": "stdout",
     "output_type": "stream",
     "text": [
      "\r",
      " \r"
     ]
    },
    {
     "data": {
      "application/vnd.jupyter.widget-view+json": {
       "model_id": "",
       "version_major": 2,
       "version_minor": 0
      },
      "text/plain": [
       "HBox(children=(IntProgress(value=0, description='TCGA-IB-7652-01A_HTSeq-FPKM.txt.gz', max=543, style=ProgressS…"
      ]
     },
     "metadata": {},
     "output_type": "display_data"
    },
    {
     "name": "stdout",
     "output_type": "stream",
     "text": [
      "\r",
      " \r"
     ]
    },
    {
     "data": {
      "application/vnd.jupyter.widget-view+json": {
       "model_id": "",
       "version_major": 2,
       "version_minor": 0
      },
      "text/plain": [
       "HBox(children=(IntProgress(value=0, description='TCGA-H6-A45N-11A_HTSeq-FPKM.txt.gz', max=573, style=ProgressS…"
      ]
     },
     "metadata": {},
     "output_type": "display_data"
    },
    {
     "name": "stdout",
     "output_type": "stream",
     "text": [
      "\r",
      " \r"
     ]
    },
    {
     "data": {
      "application/vnd.jupyter.widget-view+json": {
       "model_id": "",
       "version_major": 2,
       "version_minor": 0
      },
      "text/plain": [
       "HBox(children=(IntProgress(value=0, description='TCGA-IB-7897-01A_HTSeq-FPKM.txt.gz', max=553, style=ProgressS…"
      ]
     },
     "metadata": {},
     "output_type": "display_data"
    },
    {
     "name": "stdout",
     "output_type": "stream",
     "text": [
      "\r",
      " \r"
     ]
    },
    {
     "data": {
      "application/vnd.jupyter.widget-view+json": {
       "model_id": "",
       "version_major": 2,
       "version_minor": 0
      },
      "text/plain": [
       "HBox(children=(IntProgress(value=0, description='TCGA-3A-A9IC-01A_HTSeq-FPKM-UQ.txt.gz', max=532, style=Progre…"
      ]
     },
     "metadata": {},
     "output_type": "display_data"
    },
    {
     "name": "stdout",
     "output_type": "stream",
     "text": [
      "\r",
      " \r"
     ]
    },
    {
     "data": {
      "application/vnd.jupyter.widget-view+json": {
       "model_id": "",
       "version_major": 2,
       "version_minor": 0
      },
      "text/plain": [
       "HBox(children=(IntProgress(value=0, description='TCGA-3A-A9I9-01A_HTSeq-FPKM.txt.gz', max=532, style=ProgressS…"
      ]
     },
     "metadata": {},
     "output_type": "display_data"
    },
    {
     "name": "stdout",
     "output_type": "stream",
     "text": [
      "\r",
      " \r"
     ]
    },
    {
     "data": {
      "application/vnd.jupyter.widget-view+json": {
       "model_id": "",
       "version_major": 2,
       "version_minor": 0
      },
      "text/plain": [
       "HBox(children=(IntProgress(value=0, description='TCGA-FB-A5VM-01A_HTSeq-Counts.txt.gz', max=256, style=Progres…"
      ]
     },
     "metadata": {},
     "output_type": "display_data"
    },
    {
     "name": "stdout",
     "output_type": "stream",
     "text": [
      "\r",
      " \r"
     ]
    },
    {
     "data": {
      "application/vnd.jupyter.widget-view+json": {
       "model_id": "",
       "version_major": 2,
       "version_minor": 0
      },
      "text/plain": [
       "HBox(children=(IntProgress(value=0, description='TCGA-2J-AAB6-01A_HTSeq-Counts.txt.gz', max=256, style=Progres…"
      ]
     },
     "metadata": {},
     "output_type": "display_data"
    },
    {
     "name": "stdout",
     "output_type": "stream",
     "text": [
      "\r",
      " \r"
     ]
    },
    {
     "data": {
      "application/vnd.jupyter.widget-view+json": {
       "model_id": "",
       "version_major": 2,
       "version_minor": 0
      },
      "text/plain": [
       "HBox(children=(IntProgress(value=0, description='TCGA-F2-7276-01A_HTSeq-Counts.txt.gz', max=266, style=Progres…"
      ]
     },
     "metadata": {},
     "output_type": "display_data"
    },
    {
     "name": "stdout",
     "output_type": "stream",
     "text": [
      "\r",
      " \r"
     ]
    },
    {
     "data": {
      "application/vnd.jupyter.widget-view+json": {
       "model_id": "",
       "version_major": 2,
       "version_minor": 0
      },
      "text/plain": [
       "HBox(children=(IntProgress(value=0, description='TCGA-IB-8126-01A_HTSeq-FPKM-UQ.txt.gz', max=532, style=Progre…"
      ]
     },
     "metadata": {},
     "output_type": "display_data"
    },
    {
     "name": "stdout",
     "output_type": "stream",
     "text": [
      "\r",
      " \r"
     ]
    },
    {
     "data": {
      "application/vnd.jupyter.widget-view+json": {
       "model_id": "",
       "version_major": 2,
       "version_minor": 0
      },
      "text/plain": [
       "HBox(children=(IntProgress(value=0, description='TCGA-HZ-A4BK-01A_HTSeq-FPKM.txt.gz', max=532, style=ProgressS…"
      ]
     },
     "metadata": {},
     "output_type": "display_data"
    },
    {
     "name": "stdout",
     "output_type": "stream",
     "text": [
      "\r",
      " \r"
     ]
    },
    {
     "data": {
      "application/vnd.jupyter.widget-view+json": {
       "model_id": "",
       "version_major": 2,
       "version_minor": 0
      },
      "text/plain": [
       "HBox(children=(IntProgress(value=0, description='TCGA-2J-AAB4-01A_HTSeq-FPKM-UQ.txt.gz', max=543, style=Progre…"
      ]
     },
     "metadata": {},
     "output_type": "display_data"
    },
    {
     "name": "stdout",
     "output_type": "stream",
     "text": [
      "\r",
      " \r"
     ]
    },
    {
     "data": {
      "application/vnd.jupyter.widget-view+json": {
       "model_id": "",
       "version_major": 2,
       "version_minor": 0
      },
      "text/plain": [
       "HBox(children=(IntProgress(value=0, description='TCGA-IB-A5SS-01A_HTSeq-Counts.txt.gz', max=256, style=Progres…"
      ]
     },
     "metadata": {},
     "output_type": "display_data"
    },
    {
     "name": "stdout",
     "output_type": "stream",
     "text": [
      "\r",
      " \r"
     ]
    },
    {
     "data": {
      "application/vnd.jupyter.widget-view+json": {
       "model_id": "",
       "version_major": 2,
       "version_minor": 0
      },
      "text/plain": [
       "HBox(children=(IntProgress(value=0, description='TCGA-XD-AAUI-01A_HTSeq-FPKM.txt.gz', max=543, style=ProgressS…"
      ]
     },
     "metadata": {},
     "output_type": "display_data"
    },
    {
     "name": "stdout",
     "output_type": "stream",
     "text": [
      "\r",
      " \r"
     ]
    },
    {
     "data": {
      "application/vnd.jupyter.widget-view+json": {
       "model_id": "",
       "version_major": 2,
       "version_minor": 0
      },
      "text/plain": [
       "HBox(children=(IntProgress(value=0, description='TCGA-XN-A8T3-01A_HTSeq-FPKM.txt.gz', max=543, style=ProgressS…"
      ]
     },
     "metadata": {},
     "output_type": "display_data"
    },
    {
     "name": "stdout",
     "output_type": "stream",
     "text": [
      "\r",
      " \r"
     ]
    },
    {
     "data": {
      "application/vnd.jupyter.widget-view+json": {
       "model_id": "",
       "version_major": 2,
       "version_minor": 0
      },
      "text/plain": [
       "HBox(children=(IntProgress(value=0, description='TCGA-HZ-8638-01A_HTSeq-FPKM-UQ.txt.gz', max=563, style=Progre…"
      ]
     },
     "metadata": {},
     "output_type": "display_data"
    },
    {
     "name": "stdout",
     "output_type": "stream",
     "text": [
      "\r",
      " \r"
     ]
    },
    {
     "data": {
      "application/vnd.jupyter.widget-view+json": {
       "model_id": "",
       "version_major": 2,
       "version_minor": 0
      },
      "text/plain": [
       "HBox(children=(IntProgress(value=0, description='TCGA-RL-AAAS-01A_HTSeq-FPKM.txt.gz', max=522, style=ProgressS…"
      ]
     },
     "metadata": {},
     "output_type": "display_data"
    },
    {
     "name": "stdout",
     "output_type": "stream",
     "text": [
      "\r",
      " \r"
     ]
    },
    {
     "data": {
      "application/vnd.jupyter.widget-view+json": {
       "model_id": "",
       "version_major": 2,
       "version_minor": 0
      },
      "text/plain": [
       "HBox(children=(IntProgress(value=0, description='TCGA-IB-AAUN-01A_HTSeq-FPKM-UQ.txt.gz', max=532, style=Progre…"
      ]
     },
     "metadata": {},
     "output_type": "display_data"
    },
    {
     "name": "stdout",
     "output_type": "stream",
     "text": [
      "\r",
      " \r"
     ]
    },
    {
     "data": {
      "application/vnd.jupyter.widget-view+json": {
       "model_id": "",
       "version_major": 2,
       "version_minor": 0
      },
      "text/plain": [
       "HBox(children=(IntProgress(value=0, description='TCGA-XD-AAUH-01A_HTSeq-Counts.txt.gz', max=256, style=Progres…"
      ]
     },
     "metadata": {},
     "output_type": "display_data"
    },
    {
     "name": "stdout",
     "output_type": "stream",
     "text": [
      "\r",
      " \r"
     ]
    },
    {
     "data": {
      "application/vnd.jupyter.widget-view+json": {
       "model_id": "",
       "version_major": 2,
       "version_minor": 0
      },
      "text/plain": [
       "HBox(children=(IntProgress(value=0, description='TCGA-2J-AAB4-01A_HTSeq-Counts.txt.gz', max=266, style=Progres…"
      ]
     },
     "metadata": {},
     "output_type": "display_data"
    },
    {
     "name": "stdout",
     "output_type": "stream",
     "text": [
      "\r",
      " \r"
     ]
    },
    {
     "data": {
      "application/vnd.jupyter.widget-view+json": {
       "model_id": "",
       "version_major": 2,
       "version_minor": 0
      },
      "text/plain": [
       "HBox(children=(IntProgress(value=0, description='TCGA-HZ-8002-01A_HTSeq-FPKM.txt.gz', max=543, style=ProgressS…"
      ]
     },
     "metadata": {},
     "output_type": "display_data"
    },
    {
     "name": "stdout",
     "output_type": "stream",
     "text": [
      "\r",
      " \r"
     ]
    },
    {
     "data": {
      "application/vnd.jupyter.widget-view+json": {
       "model_id": "",
       "version_major": 2,
       "version_minor": 0
      },
      "text/plain": [
       "HBox(children=(IntProgress(value=0, description='TCGA-US-A774-01A_HTSeq-FPKM-UQ.txt.gz', max=543, style=Progre…"
      ]
     },
     "metadata": {},
     "output_type": "display_data"
    },
    {
     "name": "stdout",
     "output_type": "stream",
     "text": [
      "\r",
      " \r"
     ]
    },
    {
     "data": {
      "application/vnd.jupyter.widget-view+json": {
       "model_id": "",
       "version_major": 2,
       "version_minor": 0
      },
      "text/plain": [
       "HBox(children=(IntProgress(value=0, description='TCGA-HZ-7923-01A_HTSeq-FPKM.txt.gz', max=563, style=ProgressS…"
      ]
     },
     "metadata": {},
     "output_type": "display_data"
    },
    {
     "name": "stdout",
     "output_type": "stream",
     "text": [
      "\r",
      " \r"
     ]
    },
    {
     "data": {
      "application/vnd.jupyter.widget-view+json": {
       "model_id": "",
       "version_major": 2,
       "version_minor": 0
      },
      "text/plain": [
       "HBox(children=(IntProgress(value=0, description='TCGA-IB-7651-01A_HTSeq-FPKM.txt.gz', max=543, style=ProgressS…"
      ]
     },
     "metadata": {},
     "output_type": "display_data"
    },
    {
     "name": "stdout",
     "output_type": "stream",
     "text": [
      "\r",
      " \r"
     ]
    },
    {
     "data": {
      "application/vnd.jupyter.widget-view+json": {
       "model_id": "",
       "version_major": 2,
       "version_minor": 0
      },
      "text/plain": [
       "HBox(children=(IntProgress(value=0, description='TCGA-IB-AAUS-01A_HTSeq-FPKM-UQ.txt.gz', max=543, style=Progre…"
      ]
     },
     "metadata": {},
     "output_type": "display_data"
    },
    {
     "name": "stdout",
     "output_type": "stream",
     "text": [
      "\r",
      " \r"
     ]
    },
    {
     "data": {
      "application/vnd.jupyter.widget-view+json": {
       "model_id": "",
       "version_major": 2,
       "version_minor": 0
      },
      "text/plain": [
       "HBox(children=(IntProgress(value=0, description='TCGA-IB-7651-01A_HTSeq-FPKM-UQ.txt.gz', max=543, style=Progre…"
      ]
     },
     "metadata": {},
     "output_type": "display_data"
    },
    {
     "name": "stdout",
     "output_type": "stream",
     "text": [
      "\r",
      " \r"
     ]
    },
    {
     "data": {
      "application/vnd.jupyter.widget-view+json": {
       "model_id": "",
       "version_major": 2,
       "version_minor": 0
      },
      "text/plain": [
       "HBox(children=(IntProgress(value=0, description='TCGA-2J-AAB1-01A_HTSeq-FPKM-UQ.txt.gz', max=522, style=Progre…"
      ]
     },
     "metadata": {},
     "output_type": "display_data"
    },
    {
     "name": "stdout",
     "output_type": "stream",
     "text": [
      "\r",
      " \r"
     ]
    },
    {
     "data": {
      "application/vnd.jupyter.widget-view+json": {
       "model_id": "",
       "version_major": 2,
       "version_minor": 0
      },
      "text/plain": [
       "HBox(children=(IntProgress(value=0, description='TCGA-FB-A4P6-01A_HTSeq-Counts.txt.gz', max=256, style=Progres…"
      ]
     },
     "metadata": {},
     "output_type": "display_data"
    },
    {
     "name": "stdout",
     "output_type": "stream",
     "text": [
      "\r",
      " \r"
     ]
    },
    {
     "data": {
      "application/vnd.jupyter.widget-view+json": {
       "model_id": "",
       "version_major": 2,
       "version_minor": 0
      },
      "text/plain": [
       "HBox(children=(IntProgress(value=0, description='TCGA-IB-AAUR-01A_HTSeq-FPKM.txt.gz', max=553, style=ProgressS…"
      ]
     },
     "metadata": {},
     "output_type": "display_data"
    },
    {
     "name": "stdout",
     "output_type": "stream",
     "text": [
      "\r",
      " \r"
     ]
    },
    {
     "data": {
      "application/vnd.jupyter.widget-view+json": {
       "model_id": "",
       "version_major": 2,
       "version_minor": 0
      },
      "text/plain": [
       "HBox(children=(IntProgress(value=0, description='TCGA-3E-AAAY-01A_HTSeq-FPKM-UQ.txt.gz', max=553, style=Progre…"
      ]
     },
     "metadata": {},
     "output_type": "display_data"
    },
    {
     "name": "stdout",
     "output_type": "stream",
     "text": [
      "\r",
      " \r"
     ]
    },
    {
     "data": {
      "application/vnd.jupyter.widget-view+json": {
       "model_id": "",
       "version_major": 2,
       "version_minor": 0
      },
      "text/plain": [
       "HBox(children=(IntProgress(value=0, description='TCGA-IB-8126-01A_HTSeq-FPKM.txt.gz', max=532, style=ProgressS…"
      ]
     },
     "metadata": {},
     "output_type": "display_data"
    },
    {
     "name": "stdout",
     "output_type": "stream",
     "text": [
      "\r",
      " \r"
     ]
    },
    {
     "data": {
      "application/vnd.jupyter.widget-view+json": {
       "model_id": "",
       "version_major": 2,
       "version_minor": 0
      },
      "text/plain": [
       "HBox(children=(IntProgress(value=0, description='TCGA-3A-A9IX-01A_HTSeq-FPKM.txt.gz', max=532, style=ProgressS…"
      ]
     },
     "metadata": {},
     "output_type": "display_data"
    },
    {
     "name": "stdout",
     "output_type": "stream",
     "text": [
      "\r",
      " \r"
     ]
    },
    {
     "data": {
      "application/vnd.jupyter.widget-view+json": {
       "model_id": "",
       "version_major": 2,
       "version_minor": 0
      },
      "text/plain": [
       "HBox(children=(IntProgress(value=0, description='TCGA-IB-7893-01A_HTSeq-FPKM-UQ.txt.gz', max=522, style=Progre…"
      ]
     },
     "metadata": {},
     "output_type": "display_data"
    },
    {
     "name": "stdout",
     "output_type": "stream",
     "text": [
      "\r",
      " \r"
     ]
    },
    {
     "data": {
      "application/vnd.jupyter.widget-view+json": {
       "model_id": "",
       "version_major": 2,
       "version_minor": 0
      },
      "text/plain": [
       "HBox(children=(IntProgress(value=0, description='TCGA-IB-AAUN-01A_HTSeq-FPKM.txt.gz', max=532, style=ProgressS…"
      ]
     },
     "metadata": {},
     "output_type": "display_data"
    },
    {
     "name": "stdout",
     "output_type": "stream",
     "text": [
      "\r",
      " \r"
     ]
    },
    {
     "data": {
      "application/vnd.jupyter.widget-view+json": {
       "model_id": "",
       "version_major": 2,
       "version_minor": 0
      },
      "text/plain": [
       "HBox(children=(IntProgress(value=0, description='TCGA-3A-A9IJ-01A_HTSeq-Counts.txt.gz', max=256, style=Progres…"
      ]
     },
     "metadata": {},
     "output_type": "display_data"
    },
    {
     "name": "stdout",
     "output_type": "stream",
     "text": [
      "\r",
      " \r"
     ]
    },
    {
     "data": {
      "application/vnd.jupyter.widget-view+json": {
       "model_id": "",
       "version_major": 2,
       "version_minor": 0
      },
      "text/plain": [
       "HBox(children=(IntProgress(value=0, description='TCGA-Z5-AAPL-01A_HTSeq-Counts.txt.gz', max=256, style=Progres…"
      ]
     },
     "metadata": {},
     "output_type": "display_data"
    },
    {
     "name": "stdout",
     "output_type": "stream",
     "text": [
      "\r",
      " \r"
     ]
    },
    {
     "data": {
      "application/vnd.jupyter.widget-view+json": {
       "model_id": "",
       "version_major": 2,
       "version_minor": 0
      },
      "text/plain": [
       "HBox(children=(IntProgress(value=0, description='TCGA-2L-AAQL-01A_HTSeq-FPKM-UQ.txt.gz', max=512, style=Progre…"
      ]
     },
     "metadata": {},
     "output_type": "display_data"
    },
    {
     "name": "stdout",
     "output_type": "stream",
     "text": [
      "\r",
      " \r"
     ]
    },
    {
     "data": {
      "application/vnd.jupyter.widget-view+json": {
       "model_id": "",
       "version_major": 2,
       "version_minor": 0
      },
      "text/plain": [
       "HBox(children=(IntProgress(value=0, description='TCGA-LB-A7SX-01A_HTSeq-Counts.txt.gz', max=266, style=Progres…"
      ]
     },
     "metadata": {},
     "output_type": "display_data"
    },
    {
     "name": "stdout",
     "output_type": "stream",
     "text": [
      "\r",
      " \r"
     ]
    },
    {
     "data": {
      "application/vnd.jupyter.widget-view+json": {
       "model_id": "",
       "version_major": 2,
       "version_minor": 0
      },
      "text/plain": [
       "HBox(children=(IntProgress(value=0, description='TCGA-F2-A7TX-01A_HTSeq-FPKM.txt.gz', max=522, style=ProgressS…"
      ]
     },
     "metadata": {},
     "output_type": "display_data"
    },
    {
     "name": "stdout",
     "output_type": "stream",
     "text": [
      "\r",
      " \r"
     ]
    },
    {
     "data": {
      "application/vnd.jupyter.widget-view+json": {
       "model_id": "",
       "version_major": 2,
       "version_minor": 0
      },
      "text/plain": [
       "HBox(children=(IntProgress(value=0, description='TCGA-HZ-8003-01A_HTSeq-Counts.txt.gz', max=256, style=Progres…"
      ]
     },
     "metadata": {},
     "output_type": "display_data"
    },
    {
     "name": "stdout",
     "output_type": "stream",
     "text": [
      "\r",
      " \r"
     ]
    },
    {
     "data": {
      "application/vnd.jupyter.widget-view+json": {
       "model_id": "",
       "version_major": 2,
       "version_minor": 0
      },
      "text/plain": [
       "HBox(children=(IntProgress(value=0, description='TCGA-IB-7890-01A_HTSeq-Counts.txt.gz', max=256, style=Progres…"
      ]
     },
     "metadata": {},
     "output_type": "display_data"
    },
    {
     "name": "stdout",
     "output_type": "stream",
     "text": [
      "\r",
      " \r"
     ]
    },
    {
     "data": {
      "application/vnd.jupyter.widget-view+json": {
       "model_id": "",
       "version_major": 2,
       "version_minor": 0
      },
      "text/plain": [
       "HBox(children=(IntProgress(value=0, description='TCGA-FB-A545-01A_HTSeq-FPKM.txt.gz', max=522, style=ProgressS…"
      ]
     },
     "metadata": {},
     "output_type": "display_data"
    },
    {
     "name": "stdout",
     "output_type": "stream",
     "text": [
      "\r",
      " \r"
     ]
    },
    {
     "data": {
      "application/vnd.jupyter.widget-view+json": {
       "model_id": "",
       "version_major": 2,
       "version_minor": 0
      },
      "text/plain": [
       "HBox(children=(IntProgress(value=0, description='TCGA-HZ-A49G-01A_HTSeq-Counts.txt.gz', max=256, style=Progres…"
      ]
     },
     "metadata": {},
     "output_type": "display_data"
    },
    {
     "name": "stdout",
     "output_type": "stream",
     "text": [
      "\r",
      " \r"
     ]
    },
    {
     "data": {
      "application/vnd.jupyter.widget-view+json": {
       "model_id": "",
       "version_major": 2,
       "version_minor": 0
      },
      "text/plain": [
       "HBox(children=(IntProgress(value=0, description='TCGA-IB-7887-01A_HTSeq-FPKM-UQ.txt.gz', max=543, style=Progre…"
      ]
     },
     "metadata": {},
     "output_type": "display_data"
    },
    {
     "name": "stdout",
     "output_type": "stream",
     "text": [
      "\r",
      " \r"
     ]
    },
    {
     "data": {
      "application/vnd.jupyter.widget-view+json": {
       "model_id": "",
       "version_major": 2,
       "version_minor": 0
      },
      "text/plain": [
       "HBox(children=(IntProgress(value=0, description='TCGA-HZ-8002-01A_HTSeq-FPKM-UQ.txt.gz', max=543, style=Progre…"
      ]
     },
     "metadata": {},
     "output_type": "display_data"
    },
    {
     "name": "stdout",
     "output_type": "stream",
     "text": [
      "\r",
      " \r"
     ]
    },
    {
     "data": {
      "application/vnd.jupyter.widget-view+json": {
       "model_id": "",
       "version_major": 2,
       "version_minor": 0
      },
      "text/plain": [
       "HBox(children=(IntProgress(value=0, description='TCGA-LB-A7SX-01A_HTSeq-FPKM-UQ.txt.gz', max=553, style=Progre…"
      ]
     },
     "metadata": {},
     "output_type": "display_data"
    },
    {
     "name": "stdout",
     "output_type": "stream",
     "text": [
      "\r",
      " \r"
     ]
    },
    {
     "data": {
      "application/vnd.jupyter.widget-view+json": {
       "model_id": "",
       "version_major": 2,
       "version_minor": 0
      },
      "text/plain": [
       "HBox(children=(IntProgress(value=0, description='TCGA-FB-AAQ2-01A_HTSeq-FPKM-UQ.txt.gz', max=532, style=Progre…"
      ]
     },
     "metadata": {},
     "output_type": "display_data"
    },
    {
     "name": "stdout",
     "output_type": "stream",
     "text": [
      "\r",
      " \r"
     ]
    },
    {
     "data": {
      "application/vnd.jupyter.widget-view+json": {
       "model_id": "",
       "version_major": 2,
       "version_minor": 0
      },
      "text/plain": [
       "HBox(children=(IntProgress(value=0, description='TCGA-IB-8127-01A_HTSeq-FPKM.txt.gz', max=553, style=ProgressS…"
      ]
     },
     "metadata": {},
     "output_type": "display_data"
    },
    {
     "name": "stdout",
     "output_type": "stream",
     "text": [
      "\r",
      " \r"
     ]
    },
    {
     "data": {
      "application/vnd.jupyter.widget-view+json": {
       "model_id": "",
       "version_major": 2,
       "version_minor": 0
      },
      "text/plain": [
       "HBox(children=(IntProgress(value=0, description='TCGA-IB-7645-01A_HTSeq-FPKM.txt.gz', max=532, style=ProgressS…"
      ]
     },
     "metadata": {},
     "output_type": "display_data"
    },
    {
     "name": "stdout",
     "output_type": "stream",
     "text": [
      "\r",
      " \r"
     ]
    },
    {
     "data": {
      "application/vnd.jupyter.widget-view+json": {
       "model_id": "",
       "version_major": 2,
       "version_minor": 0
      },
      "text/plain": [
       "HBox(children=(IntProgress(value=0, description='TCGA-Q3-A5QY-01A_HTSeq-Counts.txt.gz', max=256, style=Progres…"
      ]
     },
     "metadata": {},
     "output_type": "display_data"
    },
    {
     "name": "stdout",
     "output_type": "stream",
     "text": [
      "\r",
      " \r"
     ]
    },
    {
     "data": {
      "application/vnd.jupyter.widget-view+json": {
       "model_id": "",
       "version_major": 2,
       "version_minor": 0
      },
      "text/plain": [
       "HBox(children=(IntProgress(value=0, description='TCGA-F2-7273-01A_HTSeq-FPKM.txt.gz', max=543, style=ProgressS…"
      ]
     },
     "metadata": {},
     "output_type": "display_data"
    },
    {
     "name": "stdout",
     "output_type": "stream",
     "text": [
      "\r",
      " \r"
     ]
    },
    {
     "data": {
      "application/vnd.jupyter.widget-view+json": {
       "model_id": "",
       "version_major": 2,
       "version_minor": 0
      },
      "text/plain": [
       "HBox(children=(IntProgress(value=0, description='TCGA-3A-A9IX-01A_HTSeq-FPKM-UQ.txt.gz', max=543, style=Progre…"
      ]
     },
     "metadata": {},
     "output_type": "display_data"
    },
    {
     "name": "stdout",
     "output_type": "stream",
     "text": [
      "\r",
      " \r"
     ]
    },
    {
     "data": {
      "application/vnd.jupyter.widget-view+json": {
       "model_id": "",
       "version_major": 2,
       "version_minor": 0
      },
      "text/plain": [
       "HBox(children=(IntProgress(value=0, description='TCGA-F2-A8YN-01A_HTSeq-FPKM-UQ.txt.gz', max=522, style=Progre…"
      ]
     },
     "metadata": {},
     "output_type": "display_data"
    },
    {
     "name": "stdout",
     "output_type": "stream",
     "text": [
      "\r",
      " \r"
     ]
    },
    {
     "data": {
      "application/vnd.jupyter.widget-view+json": {
       "model_id": "",
       "version_major": 2,
       "version_minor": 0
      },
      "text/plain": [
       "HBox(children=(IntProgress(value=0, description='TCGA-YB-A89D-01A_HTSeq-Counts.txt.gz', max=256, style=Progres…"
      ]
     },
     "metadata": {},
     "output_type": "display_data"
    },
    {
     "name": "stdout",
     "output_type": "stream",
     "text": [
      "\r",
      " \r"
     ]
    },
    {
     "data": {
      "application/vnd.jupyter.widget-view+json": {
       "model_id": "",
       "version_major": 2,
       "version_minor": 0
      },
      "text/plain": [
       "HBox(children=(IntProgress(value=0, description='TCGA-HV-AA8V-01A_HTSeq-FPKM-UQ.txt.gz', max=543, style=Progre…"
      ]
     },
     "metadata": {},
     "output_type": "display_data"
    },
    {
     "name": "stdout",
     "output_type": "stream",
     "text": [
      "\r",
      " \r"
     ]
    },
    {
     "data": {
      "application/vnd.jupyter.widget-view+json": {
       "model_id": "",
       "version_major": 2,
       "version_minor": 0
      },
      "text/plain": [
       "HBox(children=(IntProgress(value=0, description='TCGA-L1-A7W4-01A_HTSeq-FPKM-UQ.txt.gz', max=543, style=Progre…"
      ]
     },
     "metadata": {},
     "output_type": "display_data"
    },
    {
     "name": "stdout",
     "output_type": "stream",
     "text": [
      "\r",
      " \r"
     ]
    },
    {
     "data": {
      "application/vnd.jupyter.widget-view+json": {
       "model_id": "",
       "version_major": 2,
       "version_minor": 0
      },
      "text/plain": [
       "HBox(children=(IntProgress(value=0, description='TCGA-LB-A8F3-01A_HTSeq-FPKM.txt.gz', max=522, style=ProgressS…"
      ]
     },
     "metadata": {},
     "output_type": "display_data"
    },
    {
     "name": "stdout",
     "output_type": "stream",
     "text": [
      "\r",
      " \r"
     ]
    },
    {
     "data": {
      "application/vnd.jupyter.widget-view+json": {
       "model_id": "",
       "version_major": 2,
       "version_minor": 0
      },
      "text/plain": [
       "HBox(children=(IntProgress(value=0, description='TCGA-YH-A8SY-01A_HTSeq-FPKM-UQ.txt.gz', max=532, style=Progre…"
      ]
     },
     "metadata": {},
     "output_type": "display_data"
    },
    {
     "name": "stdout",
     "output_type": "stream",
     "text": [
      "\r",
      " \r"
     ]
    },
    {
     "data": {
      "application/vnd.jupyter.widget-view+json": {
       "model_id": "",
       "version_major": 2,
       "version_minor": 0
      },
      "text/plain": [
       "HBox(children=(IntProgress(value=0, description='TCGA-HZ-7925-01A_HTSeq-Counts.txt.gz', max=266, style=Progres…"
      ]
     },
     "metadata": {},
     "output_type": "display_data"
    },
    {
     "name": "stdout",
     "output_type": "stream",
     "text": [
      "\r",
      " \r"
     ]
    },
    {
     "data": {
      "application/vnd.jupyter.widget-view+json": {
       "model_id": "",
       "version_major": 2,
       "version_minor": 0
      },
      "text/plain": [
       "HBox(children=(IntProgress(value=0, description='TCGA-IB-7889-01A_HTSeq-FPKM-UQ.txt.gz', max=522, style=Progre…"
      ]
     },
     "metadata": {},
     "output_type": "display_data"
    },
    {
     "name": "stdout",
     "output_type": "stream",
     "text": [
      "\r",
      " \r"
     ]
    },
    {
     "data": {
      "application/vnd.jupyter.widget-view+json": {
       "model_id": "",
       "version_major": 2,
       "version_minor": 0
      },
      "text/plain": [
       "HBox(children=(IntProgress(value=0, description='TCGA-3A-A9IS-01A_HTSeq-Counts.txt.gz', max=256, style=Progres…"
      ]
     },
     "metadata": {},
     "output_type": "display_data"
    },
    {
     "name": "stdout",
     "output_type": "stream",
     "text": [
      "\r",
      " \r"
     ]
    },
    {
     "data": {
      "application/vnd.jupyter.widget-view+json": {
       "model_id": "",
       "version_major": 2,
       "version_minor": 0
      },
      "text/plain": [
       "HBox(children=(IntProgress(value=0, description='TCGA-HZ-8001-01A_HTSeq-FPKM.txt.gz', max=532, style=ProgressS…"
      ]
     },
     "metadata": {},
     "output_type": "display_data"
    },
    {
     "name": "stdout",
     "output_type": "stream",
     "text": [
      "\r",
      " \r"
     ]
    },
    {
     "data": {
      "application/vnd.jupyter.widget-view+json": {
       "model_id": "",
       "version_major": 2,
       "version_minor": 0
      },
      "text/plain": [
       "HBox(children=(IntProgress(value=0, description='TCGA-HZ-A77P-01A_HTSeq-FPKM.txt.gz', max=543, style=ProgressS…"
      ]
     },
     "metadata": {},
     "output_type": "display_data"
    },
    {
     "name": "stdout",
     "output_type": "stream",
     "text": [
      "\r",
      " \r"
     ]
    },
    {
     "data": {
      "application/vnd.jupyter.widget-view+json": {
       "model_id": "",
       "version_major": 2,
       "version_minor": 0
      },
      "text/plain": [
       "HBox(children=(IntProgress(value=0, description='TCGA-2L-AAQM-01A_HTSeq-FPKM.txt.gz', max=522, style=ProgressS…"
      ]
     },
     "metadata": {},
     "output_type": "display_data"
    },
    {
     "name": "stdout",
     "output_type": "stream",
     "text": [
      "\r",
      " \r"
     ]
    },
    {
     "data": {
      "application/vnd.jupyter.widget-view+json": {
       "model_id": "",
       "version_major": 2,
       "version_minor": 0
      },
      "text/plain": [
       "HBox(children=(IntProgress(value=0, description='TCGA-IB-A6UG-01A_HTSeq-FPKM.txt.gz', max=543, style=ProgressS…"
      ]
     },
     "metadata": {},
     "output_type": "display_data"
    },
    {
     "name": "stdout",
     "output_type": "stream",
     "text": [
      "\r",
      " \r"
     ]
    },
    {
     "data": {
      "application/vnd.jupyter.widget-view+json": {
       "model_id": "",
       "version_major": 2,
       "version_minor": 0
      },
      "text/plain": [
       "HBox(children=(IntProgress(value=0, description='TCGA-2J-AAB9-01A_HTSeq-Counts.txt.gz', max=246, style=Progres…"
      ]
     },
     "metadata": {},
     "output_type": "display_data"
    },
    {
     "name": "stdout",
     "output_type": "stream",
     "text": [
      "\r",
      " \r"
     ]
    },
    {
     "data": {
      "application/vnd.jupyter.widget-view+json": {
       "model_id": "",
       "version_major": 2,
       "version_minor": 0
      },
      "text/plain": [
       "HBox(children=(IntProgress(value=0, description='TCGA-US-A776-01A_HTSeq-FPKM-UQ.txt.gz', max=532, style=Progre…"
      ]
     },
     "metadata": {},
     "output_type": "display_data"
    },
    {
     "name": "stdout",
     "output_type": "stream",
     "text": [
      "\r",
      " \r"
     ]
    },
    {
     "data": {
      "application/vnd.jupyter.widget-view+json": {
       "model_id": "",
       "version_major": 2,
       "version_minor": 0
      },
      "text/plain": [
       "HBox(children=(IntProgress(value=0, description='TCGA-3A-A9J0-01A_HTSeq-FPKM.txt.gz', max=522, style=ProgressS…"
      ]
     },
     "metadata": {},
     "output_type": "display_data"
    },
    {
     "name": "stdout",
     "output_type": "stream",
     "text": [
      "\r",
      " \r"
     ]
    },
    {
     "data": {
      "application/vnd.jupyter.widget-view+json": {
       "model_id": "",
       "version_major": 2,
       "version_minor": 0
      },
      "text/plain": [
       "HBox(children=(IntProgress(value=0, description='TCGA-YH-A8SY-01A_HTSeq-Counts.txt.gz', max=256, style=Progres…"
      ]
     },
     "metadata": {},
     "output_type": "display_data"
    },
    {
     "name": "stdout",
     "output_type": "stream",
     "text": [
      "\r",
      " \r"
     ]
    },
    {
     "data": {
      "application/vnd.jupyter.widget-view+json": {
       "model_id": "",
       "version_major": 2,
       "version_minor": 0
      },
      "text/plain": [
       "HBox(children=(IntProgress(value=0, description='TCGA-HZ-A4BK-01A_HTSeq-Counts.txt.gz', max=256, style=Progres…"
      ]
     },
     "metadata": {},
     "output_type": "display_data"
    },
    {
     "name": "stdout",
     "output_type": "stream",
     "text": [
      "\r",
      " \r"
     ]
    },
    {
     "data": {
      "application/vnd.jupyter.widget-view+json": {
       "model_id": "",
       "version_major": 2,
       "version_minor": 0
      },
      "text/plain": [
       "HBox(children=(IntProgress(value=0, description='TCGA-3A-A9I5-01A_HTSeq-Counts.txt.gz', max=256, style=Progres…"
      ]
     },
     "metadata": {},
     "output_type": "display_data"
    },
    {
     "name": "stdout",
     "output_type": "stream",
     "text": [
      "\r",
      " \r"
     ]
    },
    {
     "data": {
      "application/vnd.jupyter.widget-view+json": {
       "model_id": "",
       "version_major": 2,
       "version_minor": 0
      },
      "text/plain": [
       "HBox(children=(IntProgress(value=0, description='TCGA-IB-7891-01A_HTSeq-FPKM.txt.gz', max=522, style=ProgressS…"
      ]
     },
     "metadata": {},
     "output_type": "display_data"
    },
    {
     "name": "stdout",
     "output_type": "stream",
     "text": [
      "\r",
      " \r"
     ]
    },
    {
     "data": {
      "application/vnd.jupyter.widget-view+json": {
       "model_id": "",
       "version_major": 2,
       "version_minor": 0
      },
      "text/plain": [
       "HBox(children=(IntProgress(value=0, description='TCGA-LB-A8F3-01A_HTSeq-FPKM-UQ.txt.gz', max=522, style=Progre…"
      ]
     },
     "metadata": {},
     "output_type": "display_data"
    },
    {
     "name": "stdout",
     "output_type": "stream",
     "text": [
      "\r",
      " \r"
     ]
    },
    {
     "data": {
      "application/vnd.jupyter.widget-view+json": {
       "model_id": "",
       "version_major": 2,
       "version_minor": 0
      },
      "text/plain": [
       "HBox(children=(IntProgress(value=0, description='TCGA-YB-A89D-11A_HTSeq-Counts.txt.gz', max=256, style=Progres…"
      ]
     },
     "metadata": {},
     "output_type": "display_data"
    },
    {
     "name": "stdout",
     "output_type": "stream",
     "text": [
      "\r",
      " \r"
     ]
    },
    {
     "data": {
      "application/vnd.jupyter.widget-view+json": {
       "model_id": "",
       "version_major": 2,
       "version_minor": 0
      },
      "text/plain": [
       "HBox(children=(IntProgress(value=0, description='TCGA-OE-A75W-01A_HTSeq-Counts.txt.gz', max=256, style=Progres…"
      ]
     },
     "metadata": {},
     "output_type": "display_data"
    },
    {
     "name": "stdout",
     "output_type": "stream",
     "text": [
      "\r",
      " \r"
     ]
    },
    {
     "data": {
      "application/vnd.jupyter.widget-view+json": {
       "model_id": "",
       "version_major": 2,
       "version_minor": 0
      },
      "text/plain": [
       "HBox(children=(IntProgress(value=0, description='TCGA-3A-A9IJ-01A_HTSeq-FPKM.txt.gz', max=512, style=ProgressS…"
      ]
     },
     "metadata": {},
     "output_type": "display_data"
    },
    {
     "name": "stdout",
     "output_type": "stream",
     "text": [
      "\r",
      " \r"
     ]
    },
    {
     "data": {
      "application/vnd.jupyter.widget-view+json": {
       "model_id": "",
       "version_major": 2,
       "version_minor": 0
      },
      "text/plain": [
       "HBox(children=(IntProgress(value=0, description='TCGA-H8-A6C1-01A_HTSeq-FPKM-UQ.txt.gz', max=543, style=Progre…"
      ]
     },
     "metadata": {},
     "output_type": "display_data"
    },
    {
     "name": "stdout",
     "output_type": "stream",
     "text": [
      "\r",
      " \r"
     ]
    },
    {
     "data": {
      "application/vnd.jupyter.widget-view+json": {
       "model_id": "",
       "version_major": 2,
       "version_minor": 0
      },
      "text/plain": [
       "HBox(children=(IntProgress(value=0, description='TCGA-F2-A7TX-01A_HTSeq-FPKM-UQ.txt.gz', max=532, style=Progre…"
      ]
     },
     "metadata": {},
     "output_type": "display_data"
    },
    {
     "name": "stdout",
     "output_type": "stream",
     "text": [
      "\r",
      " \r"
     ]
    },
    {
     "data": {
      "application/vnd.jupyter.widget-view+json": {
       "model_id": "",
       "version_major": 2,
       "version_minor": 0
      },
      "text/plain": [
       "HBox(children=(IntProgress(value=0, description='TCGA-FB-AAQ1-01A_HTSeq-FPKM.txt.gz', max=522, style=ProgressS…"
      ]
     },
     "metadata": {},
     "output_type": "display_data"
    },
    {
     "name": "stdout",
     "output_type": "stream",
     "text": [
      "\r",
      " \r"
     ]
    },
    {
     "data": {
      "application/vnd.jupyter.widget-view+json": {
       "model_id": "",
       "version_major": 2,
       "version_minor": 0
      },
      "text/plain": [
       "HBox(children=(IntProgress(value=0, description='TCGA-3A-A9IL-01A_HTSeq-Counts.txt.gz', max=256, style=Progres…"
      ]
     },
     "metadata": {},
     "output_type": "display_data"
    },
    {
     "name": "stdout",
     "output_type": "stream",
     "text": [
      "\r",
      " \r"
     ]
    },
    {
     "data": {
      "application/vnd.jupyter.widget-view+json": {
       "model_id": "",
       "version_major": 2,
       "version_minor": 0
      },
      "text/plain": [
       "HBox(children=(IntProgress(value=0, description='TCGA-IB-7654-01A_HTSeq-Counts.txt.gz', max=256, style=Progres…"
      ]
     },
     "metadata": {},
     "output_type": "display_data"
    },
    {
     "name": "stdout",
     "output_type": "stream",
     "text": [
      "\r",
      " \r"
     ]
    },
    {
     "data": {
      "application/vnd.jupyter.widget-view+json": {
       "model_id": "",
       "version_major": 2,
       "version_minor": 0
      },
      "text/plain": [
       "HBox(children=(IntProgress(value=0, description='TCGA-FB-A7DR-01A_HTSeq-Counts.txt.gz', max=256, style=Progres…"
      ]
     },
     "metadata": {},
     "output_type": "display_data"
    },
    {
     "name": "stdout",
     "output_type": "stream",
     "text": [
      "\r",
      " \r"
     ]
    },
    {
     "data": {
      "application/vnd.jupyter.widget-view+json": {
       "model_id": "",
       "version_major": 2,
       "version_minor": 0
      },
      "text/plain": [
       "HBox(children=(IntProgress(value=0, description='TCGA-IB-AAUQ-01A_HTSeq-Counts.txt.gz', max=256, style=Progres…"
      ]
     },
     "metadata": {},
     "output_type": "display_data"
    },
    {
     "name": "stdout",
     "output_type": "stream",
     "text": [
      "\r",
      " \r"
     ]
    },
    {
     "data": {
      "application/vnd.jupyter.widget-view+json": {
       "model_id": "",
       "version_major": 2,
       "version_minor": 0
      },
      "text/plain": [
       "HBox(children=(IntProgress(value=0, description='TCGA-IB-A7M4-01A_HTSeq-FPKM-UQ.txt.gz', max=532, style=Progre…"
      ]
     },
     "metadata": {},
     "output_type": "display_data"
    },
    {
     "name": "stdout",
     "output_type": "stream",
     "text": [
      "\r",
      " \r"
     ]
    },
    {
     "data": {
      "application/vnd.jupyter.widget-view+json": {
       "model_id": "",
       "version_major": 2,
       "version_minor": 0
      },
      "text/plain": [
       "HBox(children=(IntProgress(value=0, description='TCGA-3A-A9IH-01A_HTSeq-Counts.txt.gz', max=256, style=Progres…"
      ]
     },
     "metadata": {},
     "output_type": "display_data"
    },
    {
     "name": "stdout",
     "output_type": "stream",
     "text": [
      "\r",
      " \r"
     ]
    },
    {
     "data": {
      "application/vnd.jupyter.widget-view+json": {
       "model_id": "",
       "version_major": 2,
       "version_minor": 0
      },
      "text/plain": [
       "HBox(children=(IntProgress(value=0, description='TCGA-3A-A9IZ-01A_HTSeq-FPKM-UQ.txt.gz', max=522, style=Progre…"
      ]
     },
     "metadata": {},
     "output_type": "display_data"
    },
    {
     "name": "stdout",
     "output_type": "stream",
     "text": [
      "\r",
      " \r"
     ]
    },
    {
     "data": {
      "application/vnd.jupyter.widget-view+json": {
       "model_id": "",
       "version_major": 2,
       "version_minor": 0
      },
      "text/plain": [
       "HBox(children=(IntProgress(value=0, description='TCGA-HZ-A9TJ-06A_HTSeq-FPKM.txt.gz', max=532, style=ProgressS…"
      ]
     },
     "metadata": {},
     "output_type": "display_data"
    },
    {
     "name": "stdout",
     "output_type": "stream",
     "text": [
      "\r",
      " \r"
     ]
    },
    {
     "data": {
      "application/vnd.jupyter.widget-view+json": {
       "model_id": "",
       "version_major": 2,
       "version_minor": 0
      },
      "text/plain": [
       "HBox(children=(IntProgress(value=0, description='TCGA-YB-A89D-11A_HTSeq-FPKM.txt.gz', max=532, style=ProgressS…"
      ]
     },
     "metadata": {},
     "output_type": "display_data"
    },
    {
     "name": "stdout",
     "output_type": "stream",
     "text": [
      "\r",
      " \r"
     ]
    },
    {
     "data": {
      "application/vnd.jupyter.widget-view+json": {
       "model_id": "",
       "version_major": 2,
       "version_minor": 0
      },
      "text/plain": [
       "HBox(children=(IntProgress(value=0, description='TCGA-HZ-A77O-01A_HTSeq-Counts.txt.gz', max=256, style=Progres…"
      ]
     },
     "metadata": {},
     "output_type": "display_data"
    },
    {
     "name": "stdout",
     "output_type": "stream",
     "text": [
      "\r",
      " \r"
     ]
    },
    {
     "data": {
      "application/vnd.jupyter.widget-view+json": {
       "model_id": "",
       "version_major": 2,
       "version_minor": 0
      },
      "text/plain": [
       "HBox(children=(IntProgress(value=0, description='TCGA-Q3-AA2A-01A_HTSeq-Counts.txt.gz', max=256, style=Progres…"
      ]
     },
     "metadata": {},
     "output_type": "display_data"
    },
    {
     "name": "stdout",
     "output_type": "stream",
     "text": [
      "\r",
      " \r"
     ]
    },
    {
     "data": {
      "application/vnd.jupyter.widget-view+json": {
       "model_id": "",
       "version_major": 2,
       "version_minor": 0
      },
      "text/plain": [
       "HBox(children=(IntProgress(value=0, description='TCGA-3E-AAAZ-01A_HTSeq-FPKM.txt.gz', max=543, style=ProgressS…"
      ]
     },
     "metadata": {},
     "output_type": "display_data"
    },
    {
     "name": "stdout",
     "output_type": "stream",
     "text": [
      "\r",
      " \r"
     ]
    },
    {
     "data": {
      "application/vnd.jupyter.widget-view+json": {
       "model_id": "",
       "version_major": 2,
       "version_minor": 0
      },
      "text/plain": [
       "HBox(children=(IntProgress(value=0, description='TCGA-HZ-7918-01A_HTSeq-Counts.txt.gz', max=256, style=Progres…"
      ]
     },
     "metadata": {},
     "output_type": "display_data"
    },
    {
     "name": "stdout",
     "output_type": "stream",
     "text": [
      "\r",
      " \r"
     ]
    },
    {
     "data": {
      "application/vnd.jupyter.widget-view+json": {
       "model_id": "",
       "version_major": 2,
       "version_minor": 0
      },
      "text/plain": [
       "HBox(children=(IntProgress(value=0, description='TCGA-IB-AAUM-01A_HTSeq-Counts.txt.gz', max=256, style=Progres…"
      ]
     },
     "metadata": {},
     "output_type": "display_data"
    },
    {
     "name": "stdout",
     "output_type": "stream",
     "text": [
      "\r",
      " \r"
     ]
    },
    {
     "data": {
      "application/vnd.jupyter.widget-view+json": {
       "model_id": "",
       "version_major": 2,
       "version_minor": 0
      },
      "text/plain": [
       "HBox(children=(IntProgress(value=0, description='TCGA-2J-AABR-01A_HTSeq-FPKM.txt.gz', max=522, style=ProgressS…"
      ]
     },
     "metadata": {},
     "output_type": "display_data"
    },
    {
     "name": "stdout",
     "output_type": "stream",
     "text": [
      "\r",
      " \r"
     ]
    },
    {
     "data": {
      "application/vnd.jupyter.widget-view+json": {
       "model_id": "",
       "version_major": 2,
       "version_minor": 0
      },
      "text/plain": [
       "HBox(children=(IntProgress(value=0, description='TCGA-HZ-A8P0-01A_HTSeq-Counts.txt.gz', max=256, style=Progres…"
      ]
     },
     "metadata": {},
     "output_type": "display_data"
    },
    {
     "name": "stdout",
     "output_type": "stream",
     "text": [
      "\r",
      " \r"
     ]
    },
    {
     "data": {
      "application/vnd.jupyter.widget-view+json": {
       "model_id": "",
       "version_major": 2,
       "version_minor": 0
      },
      "text/plain": [
       "HBox(children=(IntProgress(value=0, description='TCGA-FB-AAPS-01A_HTSeq-FPKM.txt.gz', max=532, style=ProgressS…"
      ]
     },
     "metadata": {},
     "output_type": "display_data"
    },
    {
     "name": "stdout",
     "output_type": "stream",
     "text": [
      "\r",
      " \r"
     ]
    },
    {
     "data": {
      "application/vnd.jupyter.widget-view+json": {
       "model_id": "",
       "version_major": 2,
       "version_minor": 0
      },
      "text/plain": [
       "HBox(children=(IntProgress(value=0, description='TCGA-IB-7886-01A_HTSeq-FPKM.txt.gz', max=543, style=ProgressS…"
      ]
     },
     "metadata": {},
     "output_type": "display_data"
    },
    {
     "name": "stdout",
     "output_type": "stream",
     "text": [
      "\r",
      " \r"
     ]
    },
    {
     "data": {
      "application/vnd.jupyter.widget-view+json": {
       "model_id": "",
       "version_major": 2,
       "version_minor": 0
      },
      "text/plain": [
       "HBox(children=(IntProgress(value=0, description='TCGA-HZ-A9TJ-06A_HTSeq-Counts.txt.gz', max=256, style=Progres…"
      ]
     },
     "metadata": {},
     "output_type": "display_data"
    },
    {
     "name": "stdout",
     "output_type": "stream",
     "text": [
      "\r",
      " \r"
     ]
    },
    {
     "data": {
      "application/vnd.jupyter.widget-view+json": {
       "model_id": "",
       "version_major": 2,
       "version_minor": 0
      },
      "text/plain": [
       "HBox(children=(IntProgress(value=0, description='TCGA-H6-A45N-11A_HTSeq-Counts.txt.gz', max=266, style=Progres…"
      ]
     },
     "metadata": {},
     "output_type": "display_data"
    },
    {
     "name": "stdout",
     "output_type": "stream",
     "text": [
      "\r",
      " \r"
     ]
    },
    {
     "data": {
      "application/vnd.jupyter.widget-view+json": {
       "model_id": "",
       "version_major": 2,
       "version_minor": 0
      },
      "text/plain": [
       "HBox(children=(IntProgress(value=0, description='TCGA-HZ-7919-01A_HTSeq-FPKM-UQ.txt.gz', max=532, style=Progre…"
      ]
     },
     "metadata": {},
     "output_type": "display_data"
    },
    {
     "name": "stdout",
     "output_type": "stream",
     "text": [
      "\r",
      " \r"
     ]
    },
    {
     "data": {
      "application/vnd.jupyter.widget-view+json": {
       "model_id": "",
       "version_major": 2,
       "version_minor": 0
      },
      "text/plain": [
       "HBox(children=(IntProgress(value=0, description='TCGA-FB-AAQ1-01A_HTSeq-Counts.txt.gz', max=256, style=Progres…"
      ]
     },
     "metadata": {},
     "output_type": "display_data"
    },
    {
     "name": "stdout",
     "output_type": "stream",
     "text": [
      "\r",
      " \r"
     ]
    },
    {
     "data": {
      "application/vnd.jupyter.widget-view+json": {
       "model_id": "",
       "version_major": 2,
       "version_minor": 0
      },
      "text/plain": [
       "HBox(children=(IntProgress(value=0, description='TCGA-H6-8124-01A_HTSeq-FPKM.txt.gz', max=543, style=ProgressS…"
      ]
     },
     "metadata": {},
     "output_type": "display_data"
    },
    {
     "name": "stdout",
     "output_type": "stream",
     "text": [
      "\r",
      " \r"
     ]
    },
    {
     "data": {
      "application/vnd.jupyter.widget-view+json": {
       "model_id": "",
       "version_major": 2,
       "version_minor": 0
      },
      "text/plain": [
       "HBox(children=(IntProgress(value=0, description='TCGA-H6-8124-11A_HTSeq-FPKM-UQ.txt.gz', max=543, style=Progre…"
      ]
     },
     "metadata": {},
     "output_type": "display_data"
    },
    {
     "name": "stdout",
     "output_type": "stream",
     "text": [
      "\r",
      " \r"
     ]
    },
    {
     "data": {
      "application/vnd.jupyter.widget-view+json": {
       "model_id": "",
       "version_major": 2,
       "version_minor": 0
      },
      "text/plain": [
       "HBox(children=(IntProgress(value=0, description='TCGA-2J-AABF-01A_HTSeq-FPKM-UQ.txt.gz', max=553, style=Progre…"
      ]
     },
     "metadata": {},
     "output_type": "display_data"
    },
    {
     "name": "stdout",
     "output_type": "stream",
     "text": [
      "\r",
      " \r"
     ]
    },
    {
     "data": {
      "application/vnd.jupyter.widget-view+json": {
       "model_id": "",
       "version_major": 2,
       "version_minor": 0
      },
      "text/plain": [
       "HBox(children=(IntProgress(value=0, description='TCGA-IB-7893-01A_HTSeq-FPKM.txt.gz', max=522, style=ProgressS…"
      ]
     },
     "metadata": {},
     "output_type": "display_data"
    },
    {
     "name": "stdout",
     "output_type": "stream",
     "text": [
      "\r",
      " \r"
     ]
    },
    {
     "data": {
      "application/vnd.jupyter.widget-view+json": {
       "model_id": "",
       "version_major": 2,
       "version_minor": 0
      },
      "text/plain": [
       "HBox(children=(IntProgress(value=0, description='TCGA-HZ-7924-01A_HTSeq-FPKM-UQ.txt.gz', max=553, style=Progre…"
      ]
     },
     "metadata": {},
     "output_type": "display_data"
    },
    {
     "name": "stdout",
     "output_type": "stream",
     "text": [
      "\r",
      " \r"
     ]
    },
    {
     "data": {
      "application/vnd.jupyter.widget-view+json": {
       "model_id": "",
       "version_major": 2,
       "version_minor": 0
      },
      "text/plain": [
       "HBox(children=(IntProgress(value=0, description='TCGA-US-A77G-01A_HTSeq-FPKM-UQ.txt.gz', max=532, style=Progre…"
      ]
     },
     "metadata": {},
     "output_type": "display_data"
    },
    {
     "name": "stdout",
     "output_type": "stream",
     "text": [
      "\r",
      " \r"
     ]
    },
    {
     "data": {
      "application/vnd.jupyter.widget-view+json": {
       "model_id": "",
       "version_major": 2,
       "version_minor": 0
      },
      "text/plain": [
       "HBox(children=(IntProgress(value=0, description='TCGA-2J-AABT-01A_HTSeq-FPKM.txt.gz', max=522, style=ProgressS…"
      ]
     },
     "metadata": {},
     "output_type": "display_data"
    },
    {
     "name": "stdout",
     "output_type": "stream",
     "text": [
      "\r",
      " \r"
     ]
    },
    {
     "data": {
      "application/vnd.jupyter.widget-view+json": {
       "model_id": "",
       "version_major": 2,
       "version_minor": 0
      },
      "text/plain": [
       "HBox(children=(IntProgress(value=0, description='TCGA-Z5-AAPL-01A_HTSeq-FPKM-UQ.txt.gz', max=532, style=Progre…"
      ]
     },
     "metadata": {},
     "output_type": "display_data"
    },
    {
     "name": "stdout",
     "output_type": "stream",
     "text": [
      "\r",
      " \r"
     ]
    },
    {
     "data": {
      "application/vnd.jupyter.widget-view+json": {
       "model_id": "",
       "version_major": 2,
       "version_minor": 0
      },
      "text/plain": [
       "HBox(children=(IntProgress(value=0, description='TCGA-HZ-8637-01A_HTSeq-Counts.txt.gz', max=266, style=Progres…"
      ]
     },
     "metadata": {},
     "output_type": "display_data"
    },
    {
     "name": "stdout",
     "output_type": "stream",
     "text": [
      "\r",
      " \r"
     ]
    },
    {
     "data": {
      "application/vnd.jupyter.widget-view+json": {
       "model_id": "",
       "version_major": 2,
       "version_minor": 0
      },
      "text/plain": [
       "HBox(children=(IntProgress(value=0, description='TCGA-HV-A5A3-01A_HTSeq-Counts.txt.gz', max=256, style=Progres…"
      ]
     },
     "metadata": {},
     "output_type": "display_data"
    },
    {
     "name": "stdout",
     "output_type": "stream",
     "text": [
      "\r",
      " \r"
     ]
    },
    {
     "data": {
      "application/vnd.jupyter.widget-view+json": {
       "model_id": "",
       "version_major": 2,
       "version_minor": 0
      },
      "text/plain": [
       "HBox(children=(IntProgress(value=0, description='TCGA-HZ-A77Q-01A_HTSeq-FPKM-UQ.txt.gz', max=532, style=Progre…"
      ]
     },
     "metadata": {},
     "output_type": "display_data"
    },
    {
     "name": "stdout",
     "output_type": "stream",
     "text": [
      "\r",
      " \r"
     ]
    },
    {
     "data": {
      "application/vnd.jupyter.widget-view+json": {
       "model_id": "",
       "version_major": 2,
       "version_minor": 0
      },
      "text/plain": [
       "HBox(children=(IntProgress(value=0, description='TCGA-H8-A6C1-01A_HTSeq-FPKM.txt.gz', max=543, style=ProgressS…"
      ]
     },
     "metadata": {},
     "output_type": "display_data"
    },
    {
     "name": "stdout",
     "output_type": "stream",
     "text": [
      "\r",
      " \r"
     ]
    },
    {
     "data": {
      "application/vnd.jupyter.widget-view+json": {
       "model_id": "",
       "version_major": 2,
       "version_minor": 0
      },
      "text/plain": [
       "HBox(children=(IntProgress(value=0, description='TCGA-FB-A7DR-01A_HTSeq-FPKM.txt.gz', max=532, style=ProgressS…"
      ]
     },
     "metadata": {},
     "output_type": "display_data"
    },
    {
     "name": "stdout",
     "output_type": "stream",
     "text": [
      "\r",
      " \r"
     ]
    },
    {
     "data": {
      "application/vnd.jupyter.widget-view+json": {
       "model_id": "",
       "version_major": 2,
       "version_minor": 0
      },
      "text/plain": [
       "HBox(children=(IntProgress(value=0, description='TCGA-FB-A545-01A_HTSeq-FPKM-UQ.txt.gz', max=522, style=Progre…"
      ]
     },
     "metadata": {},
     "output_type": "display_data"
    },
    {
     "name": "stdout",
     "output_type": "stream",
     "text": [
      "\r",
      " \r"
     ]
    },
    {
     "data": {
      "application/vnd.jupyter.widget-view+json": {
       "model_id": "",
       "version_major": 2,
       "version_minor": 0
      },
      "text/plain": [
       "HBox(children=(IntProgress(value=0, description='TCGA-FB-AAPQ-01A_HTSeq-FPKM-UQ.txt.gz', max=512, style=Progre…"
      ]
     },
     "metadata": {},
     "output_type": "display_data"
    },
    {
     "name": "stdout",
     "output_type": "stream",
     "text": [
      "\r",
      " \r"
     ]
    },
    {
     "data": {
      "application/vnd.jupyter.widget-view+json": {
       "model_id": "",
       "version_major": 2,
       "version_minor": 0
      },
      "text/plain": [
       "HBox(children=(IntProgress(value=0, description='TCGA-2J-AABR-01A_HTSeq-FPKM-UQ.txt.gz', max=532, style=Progre…"
      ]
     },
     "metadata": {},
     "output_type": "display_data"
    },
    {
     "name": "stdout",
     "output_type": "stream",
     "text": [
      "\r",
      " \r"
     ]
    },
    {
     "data": {
      "application/vnd.jupyter.widget-view+json": {
       "model_id": "",
       "version_major": 2,
       "version_minor": 0
      },
      "text/plain": [
       "HBox(children=(IntProgress(value=0, description='TCGA-RB-AA9M-01A_HTSeq-FPKM-UQ.txt.gz', max=543, style=Progre…"
      ]
     },
     "metadata": {},
     "output_type": "display_data"
    },
    {
     "name": "stdout",
     "output_type": "stream",
     "text": [
      "\r",
      " \r"
     ]
    },
    {
     "data": {
      "application/vnd.jupyter.widget-view+json": {
       "model_id": "",
       "version_major": 2,
       "version_minor": 0
      },
      "text/plain": [
       "HBox(children=(IntProgress(value=0, description='TCGA-H6-8124-11A_HTSeq-Counts.txt.gz', max=266, style=Progres…"
      ]
     },
     "metadata": {},
     "output_type": "display_data"
    },
    {
     "name": "stdout",
     "output_type": "stream",
     "text": [
      "\r",
      " \r"
     ]
    },
    {
     "data": {
      "application/vnd.jupyter.widget-view+json": {
       "model_id": "",
       "version_major": 2,
       "version_minor": 0
      },
      "text/plain": [
       "HBox(children=(IntProgress(value=0, description='TCGA-3A-A9IV-01A_HTSeq-FPKM.txt.gz', max=512, style=ProgressS…"
      ]
     },
     "metadata": {},
     "output_type": "display_data"
    },
    {
     "name": "stdout",
     "output_type": "stream",
     "text": [
      "\r",
      " \r"
     ]
    },
    {
     "data": {
      "application/vnd.jupyter.widget-view+json": {
       "model_id": "",
       "version_major": 2,
       "version_minor": 0
      },
      "text/plain": [
       "HBox(children=(IntProgress(value=0, description='TCGA-3A-A9IZ-01A_HTSeq-FPKM.txt.gz', max=522, style=ProgressS…"
      ]
     },
     "metadata": {},
     "output_type": "display_data"
    },
    {
     "name": "stdout",
     "output_type": "stream",
     "text": [
      "\r",
      " \r"
     ]
    },
    {
     "data": {
      "application/vnd.jupyter.widget-view+json": {
       "model_id": "",
       "version_major": 2,
       "version_minor": 0
      },
      "text/plain": [
       "HBox(children=(IntProgress(value=0, description='TCGA-IB-7887-01A_HTSeq-FPKM.txt.gz', max=543, style=ProgressS…"
      ]
     },
     "metadata": {},
     "output_type": "display_data"
    },
    {
     "name": "stdout",
     "output_type": "stream",
     "text": [
      "\r",
      " \r"
     ]
    },
    {
     "data": {
      "application/vnd.jupyter.widget-view+json": {
       "model_id": "",
       "version_major": 2,
       "version_minor": 0
      },
      "text/plain": [
       "HBox(children=(IntProgress(value=0, description='TCGA-3A-A9IU-01A_HTSeq-FPKM-UQ.txt.gz', max=543, style=Progre…"
      ]
     },
     "metadata": {},
     "output_type": "display_data"
    },
    {
     "name": "stdout",
     "output_type": "stream",
     "text": [
      "\r",
      " \r"
     ]
    },
    {
     "data": {
      "application/vnd.jupyter.widget-view+json": {
       "model_id": "",
       "version_major": 2,
       "version_minor": 0
      },
      "text/plain": [
       "HBox(children=(IntProgress(value=0, description='TCGA-IB-A6UF-01A_HTSeq-Counts.txt.gz', max=256, style=Progres…"
      ]
     },
     "metadata": {},
     "output_type": "display_data"
    },
    {
     "name": "stdout",
     "output_type": "stream",
     "text": [
      "\r",
      " \r"
     ]
    },
    {
     "data": {
      "application/vnd.jupyter.widget-view+json": {
       "model_id": "",
       "version_major": 2,
       "version_minor": 0
      },
      "text/plain": [
       "HBox(children=(IntProgress(value=0, description='TCGA-F2-A8YN-01A_HTSeq-Counts.txt.gz', max=256, style=Progres…"
      ]
     },
     "metadata": {},
     "output_type": "display_data"
    },
    {
     "name": "stdout",
     "output_type": "stream",
     "text": [
      " \r"
     ]
    },
    {
     "data": {
      "application/vnd.jupyter.widget-view+json": {
       "model_id": "",
       "version_major": 2,
       "version_minor": 0
      },
      "text/plain": [
       "HBox(children=(IntProgress(value=0, description='TCGA-3A-A9I7-01A_HTSeq-FPKM-UQ.txt.gz', max=543, style=Progre…"
      ]
     },
     "metadata": {},
     "output_type": "display_data"
    },
    {
     "data": {
      "application/vnd.jupyter.widget-view+json": {
       "model_id": "",
       "version_major": 2,
       "version_minor": 0
      },
      "text/plain": [
       "HBox(children=(IntProgress(value=0, description='TCGA-HZ-8637-01A_HTSeq-FPKM-UQ.txt.gz', max=573, style=Progre…"
      ]
     },
     "metadata": {},
     "output_type": "display_data"
    },
    {
     "name": "stdout",
     "output_type": "stream",
     "text": [
      "\r",
      " \r"
     ]
    },
    {
     "data": {
      "application/vnd.jupyter.widget-view+json": {
       "model_id": "",
       "version_major": 2,
       "version_minor": 0
      },
      "text/plain": [
       "HBox(children=(IntProgress(value=0, description='TCGA-FB-AAPU-01A_HTSeq-FPKM-UQ.txt.gz', max=532, style=Progre…"
      ]
     },
     "metadata": {},
     "output_type": "display_data"
    },
    {
     "name": "stdout",
     "output_type": "stream",
     "text": [
      "\r",
      " \r"
     ]
    },
    {
     "data": {
      "application/vnd.jupyter.widget-view+json": {
       "model_id": "",
       "version_major": 2,
       "version_minor": 0
      },
      "text/plain": [
       "HBox(children=(IntProgress(value=0, description='TCGA-IB-AAUV-01A_HTSeq-Counts.txt.gz', max=266, style=Progres…"
      ]
     },
     "metadata": {},
     "output_type": "display_data"
    },
    {
     "name": "stdout",
     "output_type": "stream",
     "text": [
      "\r",
      " \r"
     ]
    },
    {
     "data": {
      "application/vnd.jupyter.widget-view+json": {
       "model_id": "",
       "version_major": 2,
       "version_minor": 0
      },
      "text/plain": [
       "HBox(children=(IntProgress(value=0, description='TCGA-IB-7888-01A_HTSeq-FPKM-UQ.txt.gz', max=522, style=Progre…"
      ]
     },
     "metadata": {},
     "output_type": "display_data"
    },
    {
     "name": "stdout",
     "output_type": "stream",
     "text": [
      "\r",
      " \r"
     ]
    },
    {
     "data": {
      "application/vnd.jupyter.widget-view+json": {
       "model_id": "",
       "version_major": 2,
       "version_minor": 0
      },
      "text/plain": [
       "HBox(children=(IntProgress(value=0, description='TCGA-3A-A9J0-01A_HTSeq-Counts.txt.gz', max=256, style=Progres…"
      ]
     },
     "metadata": {},
     "output_type": "display_data"
    },
    {
     "name": "stdout",
     "output_type": "stream",
     "text": [
      "\r",
      " \r"
     ]
    },
    {
     "data": {
      "application/vnd.jupyter.widget-view+json": {
       "model_id": "",
       "version_major": 2,
       "version_minor": 0
      },
      "text/plain": [
       "HBox(children=(IntProgress(value=0, description='TCGA-Q3-A5QY-01A_HTSeq-FPKM.txt.gz', max=543, style=ProgressS…"
      ]
     },
     "metadata": {},
     "output_type": "display_data"
    },
    {
     "name": "stdout",
     "output_type": "stream",
     "text": [
      "\r",
      " \r"
     ]
    },
    {
     "data": {
      "application/vnd.jupyter.widget-view+json": {
       "model_id": "",
       "version_major": 2,
       "version_minor": 0
      },
      "text/plain": [
       "HBox(children=(IntProgress(value=0, description='TCGA-2L-AAQL-01A_HTSeq-FPKM.txt.gz', max=512, style=ProgressS…"
      ]
     },
     "metadata": {},
     "output_type": "display_data"
    },
    {
     "name": "stdout",
     "output_type": "stream",
     "text": [
      "\r",
      " \r"
     ]
    },
    {
     "data": {
      "application/vnd.jupyter.widget-view+json": {
       "model_id": "",
       "version_major": 2,
       "version_minor": 0
      },
      "text/plain": [
       "HBox(children=(IntProgress(value=0, description='TCGA-IB-7888-01A_HTSeq-Counts.txt.gz', max=256, style=Progres…"
      ]
     },
     "metadata": {},
     "output_type": "display_data"
    },
    {
     "name": "stdout",
     "output_type": "stream",
     "text": [
      "\r",
      " \r"
     ]
    },
    {
     "data": {
      "application/vnd.jupyter.widget-view+json": {
       "model_id": "",
       "version_major": 2,
       "version_minor": 0
      },
      "text/plain": [
       "HBox(children=(IntProgress(value=0, description='TCGA-S4-A8RM-01A_HTSeq-FPKM-UQ.txt.gz', max=553, style=Progre…"
      ]
     },
     "metadata": {},
     "output_type": "display_data"
    },
    {
     "name": "stdout",
     "output_type": "stream",
     "text": [
      "\r",
      " \r"
     ]
    },
    {
     "data": {
      "application/vnd.jupyter.widget-view+json": {
       "model_id": "",
       "version_major": 2,
       "version_minor": 0
      },
      "text/plain": [
       "HBox(children=(IntProgress(value=0, description='TCGA-IB-AAUM-01A_HTSeq-FPKM.txt.gz', max=532, style=ProgressS…"
      ]
     },
     "metadata": {},
     "output_type": "display_data"
    },
    {
     "name": "stdout",
     "output_type": "stream",
     "text": [
      "\r",
      " \r"
     ]
    },
    {
     "data": {
      "application/vnd.jupyter.widget-view+json": {
       "model_id": "",
       "version_major": 2,
       "version_minor": 0
      },
      "text/plain": [
       "HBox(children=(IntProgress(value=0, description='TCGA-HZ-A49H-01A_HTSeq-Counts.txt.gz', max=256, style=Progres…"
      ]
     },
     "metadata": {},
     "output_type": "display_data"
    },
    {
     "name": "stdout",
     "output_type": "stream",
     "text": [
      "\r",
      " \r"
     ]
    },
    {
     "data": {
      "application/vnd.jupyter.widget-view+json": {
       "model_id": "",
       "version_major": 2,
       "version_minor": 0
      },
      "text/plain": [
       "HBox(children=(IntProgress(value=0, description='TCGA-HV-A5A3-11A_HTSeq-FPKM.txt.gz', max=522, style=ProgressS…"
      ]
     },
     "metadata": {},
     "output_type": "display_data"
    },
    {
     "name": "stdout",
     "output_type": "stream",
     "text": [
      "\r",
      " \r"
     ]
    },
    {
     "data": {
      "application/vnd.jupyter.widget-view+json": {
       "model_id": "",
       "version_major": 2,
       "version_minor": 0
      },
      "text/plain": [
       "HBox(children=(IntProgress(value=0, description='TCGA-F2-6879-01A_HTSeq-Counts.txt.gz', max=266, style=Progres…"
      ]
     },
     "metadata": {},
     "output_type": "display_data"
    },
    {
     "name": "stdout",
     "output_type": "stream",
     "text": [
      "\r",
      " \r"
     ]
    },
    {
     "data": {
      "application/vnd.jupyter.widget-view+json": {
       "model_id": "",
       "version_major": 2,
       "version_minor": 0
      },
      "text/plain": [
       "HBox(children=(IntProgress(value=0, description='TCGA-YB-A89D-01A_HTSeq-FPKM-UQ.txt.gz', max=532, style=Progre…"
      ]
     },
     "metadata": {},
     "output_type": "display_data"
    },
    {
     "name": "stdout",
     "output_type": "stream",
     "text": [
      "\r",
      " \r"
     ]
    },
    {
     "data": {
      "application/vnd.jupyter.widget-view+json": {
       "model_id": "",
       "version_major": 2,
       "version_minor": 0
      },
      "text/plain": [
       "HBox(children=(IntProgress(value=0, description='TCGA-IB-A7M4-01A_HTSeq-Counts.txt.gz', max=256, style=Progres…"
      ]
     },
     "metadata": {},
     "output_type": "display_data"
    },
    {
     "name": "stdout",
     "output_type": "stream",
     "text": [
      "\r",
      " \r"
     ]
    },
    {
     "data": {
      "application/vnd.jupyter.widget-view+json": {
       "model_id": "",
       "version_major": 2,
       "version_minor": 0
      },
      "text/plain": [
       "HBox(children=(IntProgress(value=0, description='TCGA-3A-A9IV-01A_HTSeq-Counts.txt.gz', max=256, style=Progres…"
      ]
     },
     "metadata": {},
     "output_type": "display_data"
    },
    {
     "name": "stdout",
     "output_type": "stream",
     "text": [
      "\r",
      " \r"
     ]
    },
    {
     "data": {
      "application/vnd.jupyter.widget-view+json": {
       "model_id": "",
       "version_major": 2,
       "version_minor": 0
      },
      "text/plain": [
       "HBox(children=(IntProgress(value=0, description='TCGA-HZ-A77P-01A_HTSeq-Counts.txt.gz', max=266, style=Progres…"
      ]
     },
     "metadata": {},
     "output_type": "display_data"
    },
    {
     "name": "stdout",
     "output_type": "stream",
     "text": [
      "\r",
      " \r"
     ]
    },
    {
     "data": {
      "application/vnd.jupyter.widget-view+json": {
       "model_id": "",
       "version_major": 2,
       "version_minor": 0
      },
      "text/plain": [
       "HBox(children=(IntProgress(value=0, description='TCGA-IB-7885-01A_HTSeq-FPKM-UQ.txt.gz', max=532, style=Progre…"
      ]
     },
     "metadata": {},
     "output_type": "display_data"
    },
    {
     "name": "stdout",
     "output_type": "stream",
     "text": [
      "\r",
      " \r"
     ]
    },
    {
     "data": {
      "application/vnd.jupyter.widget-view+json": {
       "model_id": "",
       "version_major": 2,
       "version_minor": 0
      },
      "text/plain": [
       "HBox(children=(IntProgress(value=0, description='TCGA-IB-7889-01A_HTSeq-FPKM.txt.gz', max=522, style=ProgressS…"
      ]
     },
     "metadata": {},
     "output_type": "display_data"
    },
    {
     "name": "stdout",
     "output_type": "stream",
     "text": [
      "\r",
      " \r"
     ]
    },
    {
     "data": {
      "application/vnd.jupyter.widget-view+json": {
       "model_id": "",
       "version_major": 2,
       "version_minor": 0
      },
      "text/plain": [
       "HBox(children=(IntProgress(value=0, description='TCGA-HZ-8002-01A_HTSeq-Counts.txt.gz', max=266, style=Progres…"
      ]
     },
     "metadata": {},
     "output_type": "display_data"
    },
    {
     "name": "stdout",
     "output_type": "stream",
     "text": [
      "\r",
      " \r"
     ]
    },
    {
     "data": {
      "application/vnd.jupyter.widget-view+json": {
       "model_id": "",
       "version_major": 2,
       "version_minor": 0
      },
      "text/plain": [
       "HBox(children=(IntProgress(value=0, description='TCGA-HZ-A9TJ-01A_HTSeq-FPKM.txt.gz', max=522, style=ProgressS…"
      ]
     },
     "metadata": {},
     "output_type": "display_data"
    },
    {
     "name": "stdout",
     "output_type": "stream",
     "text": [
      "\r",
      " \r"
     ]
    },
    {
     "data": {
      "application/vnd.jupyter.widget-view+json": {
       "model_id": "",
       "version_major": 2,
       "version_minor": 0
      },
      "text/plain": [
       "HBox(children=(IntProgress(value=0, description='TCGA-2J-AAB8-01A_HTSeq-Counts.txt.gz', max=256, style=Progres…"
      ]
     },
     "metadata": {},
     "output_type": "display_data"
    },
    {
     "name": "stdout",
     "output_type": "stream",
     "text": [
      "\r",
      " \r"
     ]
    },
    {
     "data": {
      "application/vnd.jupyter.widget-view+json": {
       "model_id": "",
       "version_major": 2,
       "version_minor": 0
      },
      "text/plain": [
       "HBox(children=(IntProgress(value=0, description='TCGA-FB-AAQ6-01A_HTSeq-Counts.txt.gz', max=246, style=Progres…"
      ]
     },
     "metadata": {},
     "output_type": "display_data"
    },
    {
     "name": "stdout",
     "output_type": "stream",
     "text": [
      "\r",
      " \r"
     ]
    },
    {
     "data": {
      "application/vnd.jupyter.widget-view+json": {
       "model_id": "",
       "version_major": 2,
       "version_minor": 0
      },
      "text/plain": [
       "HBox(children=(IntProgress(value=0, description='TCGA-XN-A8T3-01A_HTSeq-Counts.txt.gz', max=256, style=Progres…"
      ]
     },
     "metadata": {},
     "output_type": "display_data"
    },
    {
     "name": "stdout",
     "output_type": "stream",
     "text": [
      "\r",
      " \r"
     ]
    },
    {
     "data": {
      "application/vnd.jupyter.widget-view+json": {
       "model_id": "",
       "version_major": 2,
       "version_minor": 0
      },
      "text/plain": [
       "HBox(children=(IntProgress(value=0, description='TCGA-FB-A78T-01A_HTSeq-FPKM-UQ.txt.gz', max=553, style=Progre…"
      ]
     },
     "metadata": {},
     "output_type": "display_data"
    },
    {
     "name": "stdout",
     "output_type": "stream",
     "text": [
      "\r",
      " \r"
     ]
    },
    {
     "data": {
      "application/vnd.jupyter.widget-view+json": {
       "model_id": "",
       "version_major": 2,
       "version_minor": 0
      },
      "text/plain": [
       "HBox(children=(IntProgress(value=0, description='TCGA-2J-AABK-01A_HTSeq-FPKM.txt.gz', max=543, style=ProgressS…"
      ]
     },
     "metadata": {},
     "output_type": "display_data"
    },
    {
     "name": "stdout",
     "output_type": "stream",
     "text": [
      "\r",
      " \r"
     ]
    },
    {
     "data": {
      "application/vnd.jupyter.widget-view+json": {
       "model_id": "",
       "version_major": 2,
       "version_minor": 0
      },
      "text/plain": [
       "HBox(children=(IntProgress(value=0, description='TCGA-HZ-A49H-01A_HTSeq-FPKM.txt.gz', max=522, style=ProgressS…"
      ]
     },
     "metadata": {},
     "output_type": "display_data"
    },
    {
     "name": "stdout",
     "output_type": "stream",
     "text": [
      "\r",
      " \r"
     ]
    },
    {
     "data": {
      "application/vnd.jupyter.widget-view+json": {
       "model_id": "",
       "version_major": 2,
       "version_minor": 0
      },
      "text/plain": [
       "HBox(children=(IntProgress(value=0, description='TCGA-HZ-A77O-01A_HTSeq-FPKM.txt.gz', max=522, style=ProgressS…"
      ]
     },
     "metadata": {},
     "output_type": "display_data"
    },
    {
     "name": "stdout",
     "output_type": "stream",
     "text": [
      "\r",
      " \r"
     ]
    },
    {
     "data": {
      "application/vnd.jupyter.widget-view+json": {
       "model_id": "",
       "version_major": 2,
       "version_minor": 0
      },
      "text/plain": [
       "HBox(children=(IntProgress(value=0, description='TCGA-F2-A8YN-01A_HTSeq-FPKM.txt.gz', max=522, style=ProgressS…"
      ]
     },
     "metadata": {},
     "output_type": "display_data"
    },
    {
     "name": "stdout",
     "output_type": "stream",
     "text": [
      "\r",
      " \r"
     ]
    },
    {
     "data": {
      "application/vnd.jupyter.widget-view+json": {
       "model_id": "",
       "version_major": 2,
       "version_minor": 0
      },
      "text/plain": [
       "HBox(children=(IntProgress(value=0, description='TCGA-3A-A9IZ-01A_HTSeq-Counts.txt.gz', max=256, style=Progres…"
      ]
     },
     "metadata": {},
     "output_type": "display_data"
    },
    {
     "name": "stdout",
     "output_type": "stream",
     "text": [
      "\r",
      " \r"
     ]
    },
    {
     "data": {
      "application/vnd.jupyter.widget-view+json": {
       "model_id": "",
       "version_major": 2,
       "version_minor": 0
      },
      "text/plain": [
       "HBox(children=(IntProgress(value=0, description='TCGA-US-A77G-01A_HTSeq-FPKM.txt.gz', max=532, style=ProgressS…"
      ]
     },
     "metadata": {},
     "output_type": "display_data"
    },
    {
     "name": "stdout",
     "output_type": "stream",
     "text": [
      "\r",
      " \r"
     ]
    },
    {
     "data": {
      "application/vnd.jupyter.widget-view+json": {
       "model_id": "",
       "version_major": 2,
       "version_minor": 0
      },
      "text/plain": [
       "HBox(children=(IntProgress(value=0, description='TCGA-IB-AAUW-01A_HTSeq-Counts.txt.gz', max=266, style=Progres…"
      ]
     },
     "metadata": {},
     "output_type": "display_data"
    },
    {
     "name": "stdout",
     "output_type": "stream",
     "text": [
      "\r",
      " \r"
     ]
    },
    {
     "data": {
      "application/vnd.jupyter.widget-view+json": {
       "model_id": "",
       "version_major": 2,
       "version_minor": 0
      },
      "text/plain": [
       "HBox(children=(IntProgress(value=0, description='TCGA-HV-A5A5-01A_HTSeq-Counts.txt.gz', max=256, style=Progres…"
      ]
     },
     "metadata": {},
     "output_type": "display_data"
    },
    {
     "name": "stdout",
     "output_type": "stream",
     "text": [
      "\r",
      " \r"
     ]
    },
    {
     "data": {
      "application/vnd.jupyter.widget-view+json": {
       "model_id": "",
       "version_major": 2,
       "version_minor": 0
      },
      "text/plain": [
       "HBox(children=(IntProgress(value=0, description='TCGA-XD-AAUI-01A_HTSeq-Counts.txt.gz', max=256, style=Progres…"
      ]
     },
     "metadata": {},
     "output_type": "display_data"
    },
    {
     "name": "stdout",
     "output_type": "stream",
     "text": [
      "\r",
      " \r"
     ]
    },
    {
     "data": {
      "application/vnd.jupyter.widget-view+json": {
       "model_id": "",
       "version_major": 2,
       "version_minor": 0
      },
      "text/plain": [
       "HBox(children=(IntProgress(value=0, description='TCGA-2L-AAQI-01A_HTSeq-FPKM-UQ.txt.gz', max=532, style=Progre…"
      ]
     },
     "metadata": {},
     "output_type": "display_data"
    },
    {
     "name": "stdout",
     "output_type": "stream",
     "text": [
      "\r",
      " \r"
     ]
    },
    {
     "data": {
      "application/vnd.jupyter.widget-view+json": {
       "model_id": "",
       "version_major": 2,
       "version_minor": 0
      },
      "text/plain": [
       "HBox(children=(IntProgress(value=0, description='TCGA-US-A779-01A_HTSeq-FPKM.txt.gz', max=532, style=ProgressS…"
      ]
     },
     "metadata": {},
     "output_type": "display_data"
    },
    {
     "name": "stdout",
     "output_type": "stream",
     "text": [
      "\r",
      " \r"
     ]
    },
    {
     "data": {
      "application/vnd.jupyter.widget-view+json": {
       "model_id": "",
       "version_major": 2,
       "version_minor": 0
      },
      "text/plain": [
       "HBox(children=(IntProgress(value=0, description='TCGA-YY-A8LH-01A_HTSeq-FPKM-UQ.txt.gz', max=543, style=Progre…"
      ]
     },
     "metadata": {},
     "output_type": "display_data"
    },
    {
     "name": "stdout",
     "output_type": "stream",
     "text": [
      "\r",
      " \r"
     ]
    },
    {
     "data": {
      "application/vnd.jupyter.widget-view+json": {
       "model_id": "",
       "version_major": 2,
       "version_minor": 0
      },
      "text/plain": [
       "HBox(children=(IntProgress(value=0, description='TCGA-IB-8126-01A_HTSeq-Counts.txt.gz', max=256, style=Progres…"
      ]
     },
     "metadata": {},
     "output_type": "display_data"
    },
    {
     "name": "stdout",
     "output_type": "stream",
     "text": [
      "\r",
      " \r"
     ]
    },
    {
     "data": {
      "application/vnd.jupyter.widget-view+json": {
       "model_id": "",
       "version_major": 2,
       "version_minor": 0
      },
      "text/plain": [
       "HBox(children=(IntProgress(value=0, description='TCGA-S4-A8RP-01A_HTSeq-FPKM.txt.gz', max=543, style=ProgressS…"
      ]
     },
     "metadata": {},
     "output_type": "display_data"
    },
    {
     "name": "stdout",
     "output_type": "stream",
     "text": [
      "\r",
      " \r"
     ]
    },
    {
     "data": {
      "application/vnd.jupyter.widget-view+json": {
       "model_id": "",
       "version_major": 2,
       "version_minor": 0
      },
      "text/plain": [
       "HBox(children=(IntProgress(value=0, description='TCGA-FB-AAQ1-01A_HTSeq-FPKM-UQ.txt.gz', max=522, style=Progre…"
      ]
     },
     "metadata": {},
     "output_type": "display_data"
    },
    {
     "name": "stdout",
     "output_type": "stream",
     "text": [
      "\r",
      " \r"
     ]
    },
    {
     "data": {
      "application/vnd.jupyter.widget-view+json": {
       "model_id": "",
       "version_major": 2,
       "version_minor": 0
      },
      "text/plain": [
       "HBox(children=(IntProgress(value=0, description='TCGA-HV-A7OP-01A_HTSeq-Counts.txt.gz', max=246, style=Progres…"
      ]
     },
     "metadata": {},
     "output_type": "display_data"
    },
    {
     "name": "stdout",
     "output_type": "stream",
     "text": [
      "\r",
      " \r"
     ]
    },
    {
     "data": {
      "application/vnd.jupyter.widget-view+json": {
       "model_id": "",
       "version_major": 2,
       "version_minor": 0
      },
      "text/plain": [
       "HBox(children=(IntProgress(value=0, description='TCGA-HZ-7924-01A_HTSeq-FPKM.txt.gz', max=543, style=ProgressS…"
      ]
     },
     "metadata": {},
     "output_type": "display_data"
    },
    {
     "name": "stdout",
     "output_type": "stream",
     "text": [
      "\r",
      " \r"
     ]
    },
    {
     "data": {
      "application/vnd.jupyter.widget-view+json": {
       "model_id": "",
       "version_major": 2,
       "version_minor": 0
      },
      "text/plain": [
       "HBox(children=(IntProgress(value=0, description='TCGA-LB-A9Q5-01A_HTSeq-Counts.txt.gz', max=256, style=Progres…"
      ]
     },
     "metadata": {},
     "output_type": "display_data"
    },
    {
     "name": "stdout",
     "output_type": "stream",
     "text": [
      "\r",
      " \r"
     ]
    },
    {
     "data": {
      "application/vnd.jupyter.widget-view+json": {
       "model_id": "",
       "version_major": 2,
       "version_minor": 0
      },
      "text/plain": [
       "HBox(children=(IntProgress(value=0, description='TCGA-2J-AABT-01A_HTSeq-Counts.txt.gz', max=256, style=Progres…"
      ]
     },
     "metadata": {},
     "output_type": "display_data"
    },
    {
     "name": "stdout",
     "output_type": "stream",
     "text": [
      "\r",
      " \r"
     ]
    },
    {
     "data": {
      "application/vnd.jupyter.widget-view+json": {
       "model_id": "",
       "version_major": 2,
       "version_minor": 0
      },
      "text/plain": [
       "HBox(children=(IntProgress(value=0, description='TCGA-HV-A5A4-01A_HTSeq-Counts.txt.gz', max=256, style=Progres…"
      ]
     },
     "metadata": {},
     "output_type": "display_data"
    },
    {
     "name": "stdout",
     "output_type": "stream",
     "text": [
      "\r",
      " \r"
     ]
    },
    {
     "data": {
      "application/vnd.jupyter.widget-view+json": {
       "model_id": "",
       "version_major": 2,
       "version_minor": 0
      },
      "text/plain": [
       "HBox(children=(IntProgress(value=0, description='TCGA-FB-AAPP-01A_HTSeq-FPKM-UQ.txt.gz', max=492, style=Progre…"
      ]
     },
     "metadata": {},
     "output_type": "display_data"
    },
    {
     "name": "stdout",
     "output_type": "stream",
     "text": [
      "\r",
      " \r"
     ]
    },
    {
     "data": {
      "application/vnd.jupyter.widget-view+json": {
       "model_id": "",
       "version_major": 2,
       "version_minor": 0
      },
      "text/plain": [
       "HBox(children=(IntProgress(value=0, description='TCGA-PZ-A5RE-01A_HTSeq-FPKM.txt.gz', max=522, style=ProgressS…"
      ]
     },
     "metadata": {},
     "output_type": "display_data"
    },
    {
     "name": "stdout",
     "output_type": "stream",
     "text": [
      "\r",
      " \r"
     ]
    },
    {
     "data": {
      "application/vnd.jupyter.widget-view+json": {
       "model_id": "",
       "version_major": 2,
       "version_minor": 0
      },
      "text/plain": [
       "HBox(children=(IntProgress(value=0, description='TCGA-IB-AAUS-01A_HTSeq-Counts.txt.gz', max=256, style=Progres…"
      ]
     },
     "metadata": {},
     "output_type": "display_data"
    },
    {
     "name": "stdout",
     "output_type": "stream",
     "text": [
      "\r",
      " \r"
     ]
    },
    {
     "data": {
      "application/vnd.jupyter.widget-view+json": {
       "model_id": "",
       "version_major": 2,
       "version_minor": 0
      },
      "text/plain": [
       "HBox(children=(IntProgress(value=0, description='TCGA-IB-8127-01A_HTSeq-Counts.txt.gz', max=266, style=Progres…"
      ]
     },
     "metadata": {},
     "output_type": "display_data"
    },
    {
     "name": "stdout",
     "output_type": "stream",
     "text": [
      "\r",
      " \r"
     ]
    },
    {
     "data": {
      "application/vnd.jupyter.widget-view+json": {
       "model_id": "",
       "version_major": 2,
       "version_minor": 0
      },
      "text/plain": [
       "HBox(children=(IntProgress(value=0, description='TCGA-H6-8124-11A_HTSeq-FPKM.txt.gz', max=543, style=ProgressS…"
      ]
     },
     "metadata": {},
     "output_type": "display_data"
    },
    {
     "name": "stdout",
     "output_type": "stream",
     "text": [
      "\r",
      " \r"
     ]
    },
    {
     "data": {
      "application/vnd.jupyter.widget-view+json": {
       "model_id": "",
       "version_major": 2,
       "version_minor": 0
      },
      "text/plain": [
       "HBox(children=(IntProgress(value=0, description='TCGA-HZ-8001-01A_HTSeq-FPKM-UQ.txt.gz', max=532, style=Progre…"
      ]
     },
     "metadata": {},
     "output_type": "display_data"
    },
    {
     "name": "stdout",
     "output_type": "stream",
     "text": [
      "\r",
      " \r"
     ]
    },
    {
     "data": {
      "application/vnd.jupyter.widget-view+json": {
       "model_id": "",
       "version_major": 2,
       "version_minor": 0
      },
      "text/plain": [
       "HBox(children=(IntProgress(value=0, description='TCGA-FB-AAQ2-01A_HTSeq-Counts.txt.gz', max=256, style=Progres…"
      ]
     },
     "metadata": {},
     "output_type": "display_data"
    },
    {
     "name": "stdout",
     "output_type": "stream",
     "text": [
      "\r",
      " \r"
     ]
    },
    {
     "data": {
      "application/vnd.jupyter.widget-view+json": {
       "model_id": "",
       "version_major": 2,
       "version_minor": 0
      },
      "text/plain": [
       "HBox(children=(IntProgress(value=0, description='TCGA-FB-AAPU-01A_HTSeq-FPKM.txt.gz', max=532, style=ProgressS…"
      ]
     },
     "metadata": {},
     "output_type": "display_data"
    },
    {
     "name": "stdout",
     "output_type": "stream",
     "text": [
      "\r",
      " \r"
     ]
    },
    {
     "data": {
      "application/vnd.jupyter.widget-view+json": {
       "model_id": "",
       "version_major": 2,
       "version_minor": 0
      },
      "text/plain": [
       "HBox(children=(IntProgress(value=0, description='TCGA-FB-AAPP-01A_HTSeq-Counts.txt.gz', max=246, style=Progres…"
      ]
     },
     "metadata": {},
     "output_type": "display_data"
    },
    {
     "name": "stdout",
     "output_type": "stream",
     "text": [
      "\r",
      " \r"
     ]
    },
    {
     "data": {
      "application/vnd.jupyter.widget-view+json": {
       "model_id": "",
       "version_major": 2,
       "version_minor": 0
      },
      "text/plain": [
       "HBox(children=(IntProgress(value=0, description='TCGA-IB-A5SP-01A_HTSeq-FPKM-UQ.txt.gz', max=532, style=Progre…"
      ]
     },
     "metadata": {},
     "output_type": "display_data"
    },
    {
     "name": "stdout",
     "output_type": "stream",
     "text": [
      "\r",
      " \r"
     ]
    },
    {
     "data": {
      "application/vnd.jupyter.widget-view+json": {
       "model_id": "",
       "version_major": 2,
       "version_minor": 0
      },
      "text/plain": [
       "HBox(children=(IntProgress(value=0, description='TCGA-HZ-7289-01A_HTSeq-FPKM-UQ.txt.gz', max=502, style=Progre…"
      ]
     },
     "metadata": {},
     "output_type": "display_data"
    },
    {
     "name": "stdout",
     "output_type": "stream",
     "text": [
      "\r",
      " \r"
     ]
    },
    {
     "data": {
      "application/vnd.jupyter.widget-view+json": {
       "model_id": "",
       "version_major": 2,
       "version_minor": 0
      },
      "text/plain": [
       "HBox(children=(IntProgress(value=0, description='TCGA-FB-A5VM-01A_HTSeq-FPKM-UQ.txt.gz', max=522, style=Progre…"
      ]
     },
     "metadata": {},
     "output_type": "display_data"
    },
    {
     "name": "stdout",
     "output_type": "stream",
     "text": [
      "\r",
      " \r"
     ]
    },
    {
     "data": {
      "application/vnd.jupyter.widget-view+json": {
       "model_id": "",
       "version_major": 2,
       "version_minor": 0
      },
      "text/plain": [
       "HBox(children=(IntProgress(value=0, description='TCGA-XD-AAUH-01A_HTSeq-FPKM-UQ.txt.gz', max=532, style=Progre…"
      ]
     },
     "metadata": {},
     "output_type": "display_data"
    },
    {
     "name": "stdout",
     "output_type": "stream",
     "text": [
      "\r",
      " \r"
     ]
    },
    {
     "data": {
      "application/vnd.jupyter.widget-view+json": {
       "model_id": "",
       "version_major": 2,
       "version_minor": 0
      },
      "text/plain": [
       "HBox(children=(IntProgress(value=0, description='TCGA-S4-A8RM-01A_HTSeq-FPKM.txt.gz', max=543, style=ProgressS…"
      ]
     },
     "metadata": {},
     "output_type": "display_data"
    },
    {
     "name": "stdout",
     "output_type": "stream",
     "text": [
      "\r",
      " \r"
     ]
    },
    {
     "data": {
      "application/vnd.jupyter.widget-view+json": {
       "model_id": "",
       "version_major": 2,
       "version_minor": 0
      },
      "text/plain": [
       "HBox(children=(IntProgress(value=0, description='TCGA-HZ-7923-01A_HTSeq-FPKM-UQ.txt.gz', max=563, style=Progre…"
      ]
     },
     "metadata": {},
     "output_type": "display_data"
    },
    {
     "name": "stdout",
     "output_type": "stream",
     "text": [
      "\r",
      " \r"
     ]
    },
    {
     "data": {
      "application/vnd.jupyter.widget-view+json": {
       "model_id": "",
       "version_major": 2,
       "version_minor": 0
      },
      "text/plain": [
       "HBox(children=(IntProgress(value=0, description='TCGA-F2-7273-01A_HTSeq-Counts.txt.gz', max=266, style=Progres…"
      ]
     },
     "metadata": {},
     "output_type": "display_data"
    },
    {
     "name": "stdout",
     "output_type": "stream",
     "text": [
      "\r",
      " \r"
     ]
    },
    {
     "data": {
      "application/vnd.jupyter.widget-view+json": {
       "model_id": "",
       "version_major": 2,
       "version_minor": 0
      },
      "text/plain": [
       "HBox(children=(IntProgress(value=0, description='TCGA-IB-AAUQ-01A_HTSeq-FPKM.txt.gz', max=532, style=ProgressS…"
      ]
     },
     "metadata": {},
     "output_type": "display_data"
    },
    {
     "name": "stdout",
     "output_type": "stream",
     "text": [
      "\r",
      " \r"
     ]
    },
    {
     "data": {
      "application/vnd.jupyter.widget-view+json": {
       "model_id": "",
       "version_major": 2,
       "version_minor": 0
      },
      "text/plain": [
       "HBox(children=(IntProgress(value=0, description='TCGA-HZ-8001-01A_HTSeq-Counts.txt.gz', max=266, style=Progres…"
      ]
     },
     "metadata": {},
     "output_type": "display_data"
    },
    {
     "name": "stdout",
     "output_type": "stream",
     "text": [
      "\r",
      " \r"
     ]
    },
    {
     "data": {
      "application/vnd.jupyter.widget-view+json": {
       "model_id": "",
       "version_major": 2,
       "version_minor": 0
      },
      "text/plain": [
       "HBox(children=(IntProgress(value=0, description='TCGA-HZ-A4BH-01A_HTSeq-Counts.txt.gz', max=256, style=Progres…"
      ]
     },
     "metadata": {},
     "output_type": "display_data"
    },
    {
     "name": "stdout",
     "output_type": "stream",
     "text": [
      "\r",
      " \r"
     ]
    },
    {
     "data": {
      "application/vnd.jupyter.widget-view+json": {
       "model_id": "",
       "version_major": 2,
       "version_minor": 0
      },
      "text/plain": [
       "HBox(children=(IntProgress(value=0, description='TCGA-3A-A9IN-01A_HTSeq-Counts.txt.gz', max=256, style=Progres…"
      ]
     },
     "metadata": {},
     "output_type": "display_data"
    },
    {
     "name": "stdout",
     "output_type": "stream",
     "text": [
      "\r",
      " \r"
     ]
    },
    {
     "data": {
      "application/vnd.jupyter.widget-view+json": {
       "model_id": "",
       "version_major": 2,
       "version_minor": 0
      },
      "text/plain": [
       "HBox(children=(IntProgress(value=0, description='TCGA-IB-7885-01A_HTSeq-FPKM.txt.gz', max=532, style=ProgressS…"
      ]
     },
     "metadata": {},
     "output_type": "display_data"
    },
    {
     "name": "stdout",
     "output_type": "stream",
     "text": [
      "\r",
      " \r"
     ]
    },
    {
     "data": {
      "application/vnd.jupyter.widget-view+json": {
       "model_id": "",
       "version_major": 2,
       "version_minor": 0
      },
      "text/plain": [
       "HBox(children=(IntProgress(value=0, description='TCGA-HZ-7922-01A_HTSeq-Counts.txt.gz', max=256, style=Progres…"
      ]
     },
     "metadata": {},
     "output_type": "display_data"
    },
    {
     "name": "stdout",
     "output_type": "stream",
     "text": [
      "\r",
      " \r"
     ]
    },
    {
     "data": {
      "application/vnd.jupyter.widget-view+json": {
       "model_id": "",
       "version_major": 2,
       "version_minor": 0
      },
      "text/plain": [
       "HBox(children=(IntProgress(value=0, description='TCGA-IB-7888-01A_HTSeq-FPKM.txt.gz', max=522, style=ProgressS…"
      ]
     },
     "metadata": {},
     "output_type": "display_data"
    },
    {
     "name": "stdout",
     "output_type": "stream",
     "text": [
      "\r",
      " \r"
     ]
    },
    {
     "data": {
      "application/vnd.jupyter.widget-view+json": {
       "model_id": "",
       "version_major": 2,
       "version_minor": 0
      },
      "text/plain": [
       "HBox(children=(IntProgress(value=0, description='TCGA-IB-A5ST-01A_HTSeq-FPKM.txt.gz', max=532, style=ProgressS…"
      ]
     },
     "metadata": {},
     "output_type": "display_data"
    },
    {
     "name": "stdout",
     "output_type": "stream",
     "text": [
      "\r",
      " \r"
     ]
    },
    {
     "data": {
      "application/vnd.jupyter.widget-view+json": {
       "model_id": "",
       "version_major": 2,
       "version_minor": 0
      },
      "text/plain": [
       "HBox(children=(IntProgress(value=0, description='TCGA-US-A776-01A_HTSeq-Counts.txt.gz', max=256, style=Progres…"
      ]
     },
     "metadata": {},
     "output_type": "display_data"
    },
    {
     "name": "stdout",
     "output_type": "stream",
     "text": [
      "\r",
      " \r"
     ]
    },
    {
     "data": {
      "application/vnd.jupyter.widget-view+json": {
       "model_id": "",
       "version_major": 2,
       "version_minor": 0
      },
      "text/plain": [
       "HBox(children=(IntProgress(value=0, description='TCGA-3A-A9IL-01A_HTSeq-FPKM.txt.gz', max=532, style=ProgressS…"
      ]
     },
     "metadata": {},
     "output_type": "display_data"
    },
    {
     "name": "stdout",
     "output_type": "stream",
     "text": [
      "\r",
      " \r"
     ]
    },
    {
     "data": {
      "application/vnd.jupyter.widget-view+json": {
       "model_id": "",
       "version_major": 2,
       "version_minor": 0
      },
      "text/plain": [
       "HBox(children=(IntProgress(value=0, description='TCGA-IB-AAUW-01A_HTSeq-FPKM-UQ.txt.gz', max=553, style=Progre…"
      ]
     },
     "metadata": {},
     "output_type": "display_data"
    },
    {
     "name": "stdout",
     "output_type": "stream",
     "text": [
      "\r",
      " \r"
     ]
    },
    {
     "data": {
      "application/vnd.jupyter.widget-view+json": {
       "model_id": "",
       "version_major": 2,
       "version_minor": 0
      },
      "text/plain": [
       "HBox(children=(IntProgress(value=0, description='TCGA-IB-A5SO-01A_HTSeq-FPKM.txt.gz', max=543, style=ProgressS…"
      ]
     },
     "metadata": {},
     "output_type": "display_data"
    },
    {
     "name": "stdout",
     "output_type": "stream",
     "text": [
      "\r",
      " \r"
     ]
    },
    {
     "data": {
      "application/vnd.jupyter.widget-view+json": {
       "model_id": "",
       "version_major": 2,
       "version_minor": 0
      },
      "text/plain": [
       "HBox(children=(IntProgress(value=0, description='TCGA-XD-AAUG-01A_HTSeq-Counts.txt.gz', max=256, style=Progres…"
      ]
     },
     "metadata": {},
     "output_type": "display_data"
    },
    {
     "name": "stdout",
     "output_type": "stream",
     "text": [
      "\r",
      " \r"
     ]
    },
    {
     "data": {
      "application/vnd.jupyter.widget-view+json": {
       "model_id": "",
       "version_major": 2,
       "version_minor": 0
      },
      "text/plain": [
       "HBox(children=(IntProgress(value=0, description='TCGA-3A-A9IV-01A_HTSeq-FPKM-UQ.txt.gz', max=512, style=Progre…"
      ]
     },
     "metadata": {},
     "output_type": "display_data"
    },
    {
     "name": "stdout",
     "output_type": "stream",
     "text": [
      "\r",
      " \r"
     ]
    },
    {
     "data": {
      "application/vnd.jupyter.widget-view+json": {
       "model_id": "",
       "version_major": 2,
       "version_minor": 0
      },
      "text/plain": [
       "HBox(children=(IntProgress(value=0, description='TCGA-2L-AAQJ-01A_HTSeq-FPKM.txt.gz', max=522, style=ProgressS…"
      ]
     },
     "metadata": {},
     "output_type": "display_data"
    },
    {
     "name": "stdout",
     "output_type": "stream",
     "text": [
      "\r",
      " \r"
     ]
    },
    {
     "data": {
      "application/vnd.jupyter.widget-view+json": {
       "model_id": "",
       "version_major": 2,
       "version_minor": 0
      },
      "text/plain": [
       "HBox(children=(IntProgress(value=0, description='TCGA-IB-AAUQ-01A_HTSeq-FPKM-UQ.txt.gz', max=543, style=Progre…"
      ]
     },
     "metadata": {},
     "output_type": "display_data"
    },
    {
     "name": "stdout",
     "output_type": "stream",
     "text": [
      "\r",
      " \r"
     ]
    },
    {
     "data": {
      "application/vnd.jupyter.widget-view+json": {
       "model_id": "",
       "version_major": 2,
       "version_minor": 0
      },
      "text/plain": [
       "HBox(children=(IntProgress(value=0, description='TCGA-S4-A8RM-01A_HTSeq-Counts.txt.gz', max=266, style=Progres…"
      ]
     },
     "metadata": {},
     "output_type": "display_data"
    },
    {
     "name": "stdout",
     "output_type": "stream",
     "text": [
      "\r",
      " \r"
     ]
    },
    {
     "data": {
      "application/vnd.jupyter.widget-view+json": {
       "model_id": "",
       "version_major": 2,
       "version_minor": 0
      },
      "text/plain": [
       "HBox(children=(IntProgress(value=0, description='TCGA-2J-AABT-01A_HTSeq-FPKM-UQ.txt.gz', max=522, style=Progre…"
      ]
     },
     "metadata": {},
     "output_type": "display_data"
    },
    {
     "name": "stdout",
     "output_type": "stream",
     "text": [
      "\r",
      " \r"
     ]
    },
    {
     "data": {
      "application/vnd.jupyter.widget-view+json": {
       "model_id": "",
       "version_major": 2,
       "version_minor": 0
      },
      "text/plain": [
       "HBox(children=(IntProgress(value=0, description='TCGA-3E-AAAZ-01A_HTSeq-Counts.txt.gz', max=266, style=Progres…"
      ]
     },
     "metadata": {},
     "output_type": "display_data"
    },
    {
     "name": "stdout",
     "output_type": "stream",
     "text": [
      "\r",
      " \r"
     ]
    },
    {
     "data": {
      "application/vnd.jupyter.widget-view+json": {
       "model_id": "",
       "version_major": 2,
       "version_minor": 0
      },
      "text/plain": [
       "HBox(children=(IntProgress(value=0, description='TCGA-3A-A9IS-01A_HTSeq-FPKM.txt.gz', max=512, style=ProgressS…"
      ]
     },
     "metadata": {},
     "output_type": "display_data"
    },
    {
     "name": "stdout",
     "output_type": "stream",
     "text": [
      "\r",
      " \r"
     ]
    },
    {
     "data": {
      "application/vnd.jupyter.widget-view+json": {
       "model_id": "",
       "version_major": 2,
       "version_minor": 0
      },
      "text/plain": [
       "HBox(children=(IntProgress(value=0, description='TCGA-F2-A44G-01A_HTSeq-FPKM-UQ.txt.gz', max=543, style=Progre…"
      ]
     },
     "metadata": {},
     "output_type": "display_data"
    },
    {
     "name": "stdout",
     "output_type": "stream",
     "text": [
      "\r",
      " \r"
     ]
    },
    {
     "data": {
      "application/vnd.jupyter.widget-view+json": {
       "model_id": "",
       "version_major": 2,
       "version_minor": 0
      },
      "text/plain": [
       "HBox(children=(IntProgress(value=0, description='TCGA-IB-7897-01A_HTSeq-FPKM-UQ.txt.gz', max=553, style=Progre…"
      ]
     },
     "metadata": {},
     "output_type": "display_data"
    },
    {
     "name": "stdout",
     "output_type": "stream",
     "text": [
      "\r",
      " \r"
     ]
    },
    {
     "data": {
      "application/vnd.jupyter.widget-view+json": {
       "model_id": "",
       "version_major": 2,
       "version_minor": 0
      },
      "text/plain": [
       "HBox(children=(IntProgress(value=0, description='TCGA-HV-AA8V-01A_HTSeq-FPKM.txt.gz', max=543, style=ProgressS…"
      ]
     },
     "metadata": {},
     "output_type": "display_data"
    },
    {
     "name": "stdout",
     "output_type": "stream",
     "text": [
      "\r",
      " \r"
     ]
    },
    {
     "data": {
      "application/vnd.jupyter.widget-view+json": {
       "model_id": "",
       "version_major": 2,
       "version_minor": 0
      },
      "text/plain": [
       "HBox(children=(IntProgress(value=0, description='TCGA-IB-7654-01A_HTSeq-FPKM.txt.gz', max=532, style=ProgressS…"
      ]
     },
     "metadata": {},
     "output_type": "display_data"
    },
    {
     "name": "stdout",
     "output_type": "stream",
     "text": [
      "\r",
      " \r"
     ]
    },
    {
     "data": {
      "application/vnd.jupyter.widget-view+json": {
       "model_id": "",
       "version_major": 2,
       "version_minor": 0
      },
      "text/plain": [
       "HBox(children=(IntProgress(value=0, description='TCGA-2J-AABO-01A_HTSeq-FPKM-UQ.txt.gz', max=512, style=Progre…"
      ]
     },
     "metadata": {},
     "output_type": "display_data"
    },
    {
     "name": "stdout",
     "output_type": "stream",
     "text": [
      "\r",
      " \r"
     ]
    },
    {
     "data": {
      "application/vnd.jupyter.widget-view+json": {
       "model_id": "",
       "version_major": 2,
       "version_minor": 0
      },
      "text/plain": [
       "HBox(children=(IntProgress(value=0, description='TCGA-HZ-7922-01A_HTSeq-FPKM-UQ.txt.gz', max=532, style=Progre…"
      ]
     },
     "metadata": {},
     "output_type": "display_data"
    },
    {
     "name": "stdout",
     "output_type": "stream",
     "text": [
      "\r",
      " \r"
     ]
    },
    {
     "data": {
      "application/vnd.jupyter.widget-view+json": {
       "model_id": "",
       "version_major": 2,
       "version_minor": 0
      },
      "text/plain": [
       "HBox(children=(IntProgress(value=0, description='TCGA-HV-AA8X-01A_HTSeq-FPKM.txt.gz', max=532, style=ProgressS…"
      ]
     },
     "metadata": {},
     "output_type": "display_data"
    },
    {
     "name": "stdout",
     "output_type": "stream",
     "text": [
      "\r",
      " \r"
     ]
    },
    {
     "data": {
      "application/vnd.jupyter.widget-view+json": {
       "model_id": "",
       "version_major": 2,
       "version_minor": 0
      },
      "text/plain": [
       "HBox(children=(IntProgress(value=0, description='TCGA-HV-A5A5-01A_HTSeq-FPKM-UQ.txt.gz', max=522, style=Progre…"
      ]
     },
     "metadata": {},
     "output_type": "display_data"
    },
    {
     "name": "stdout",
     "output_type": "stream",
     "text": [
      "\r",
      " \r"
     ]
    },
    {
     "data": {
      "application/vnd.jupyter.widget-view+json": {
       "model_id": "",
       "version_major": 2,
       "version_minor": 0
      },
      "text/plain": [
       "HBox(children=(IntProgress(value=0, description='TCGA-F2-A44G-01A_HTSeq-FPKM.txt.gz', max=543, style=ProgressS…"
      ]
     },
     "metadata": {},
     "output_type": "display_data"
    },
    {
     "name": "stdout",
     "output_type": "stream",
     "text": [
      "\r",
      " \r"
     ]
    },
    {
     "data": {
      "application/vnd.jupyter.widget-view+json": {
       "model_id": "",
       "version_major": 2,
       "version_minor": 0
      },
      "text/plain": [
       "HBox(children=(IntProgress(value=0, description='TCGA-IB-7645-01A_HTSeq-Counts.txt.gz', max=256, style=Progres…"
      ]
     },
     "metadata": {},
     "output_type": "display_data"
    },
    {
     "name": "stdout",
     "output_type": "stream",
     "text": [
      "\r",
      " \r"
     ]
    },
    {
     "data": {
      "application/vnd.jupyter.widget-view+json": {
       "model_id": "",
       "version_major": 2,
       "version_minor": 0
      },
      "text/plain": [
       "HBox(children=(IntProgress(value=0, description='TCGA-IB-AAUP-01A_HTSeq-FPKM.txt.gz', max=543, style=ProgressS…"
      ]
     },
     "metadata": {},
     "output_type": "display_data"
    },
    {
     "name": "stdout",
     "output_type": "stream",
     "text": [
      "\r",
      " \r"
     ]
    },
    {
     "data": {
      "application/vnd.jupyter.widget-view+json": {
       "model_id": "",
       "version_major": 2,
       "version_minor": 0
      },
      "text/plain": [
       "HBox(children=(IntProgress(value=0, description='TCGA-2J-AABV-01A_HTSeq-Counts.txt.gz', max=246, style=Progres…"
      ]
     },
     "metadata": {},
     "output_type": "display_data"
    },
    {
     "name": "stdout",
     "output_type": "stream",
     "text": [
      "\r",
      " \r"
     ]
    },
    {
     "data": {
      "application/vnd.jupyter.widget-view+json": {
       "model_id": "",
       "version_major": 2,
       "version_minor": 0
      },
      "text/plain": [
       "HBox(children=(IntProgress(value=0, description='TCGA-H6-A45N-01A_HTSeq-FPKM-UQ.txt.gz', max=532, style=Progre…"
      ]
     },
     "metadata": {},
     "output_type": "display_data"
    },
    {
     "name": "stdout",
     "output_type": "stream",
     "text": [
      "\r",
      " \r"
     ]
    },
    {
     "data": {
      "application/vnd.jupyter.widget-view+json": {
       "model_id": "",
       "version_major": 2,
       "version_minor": 0
      },
      "text/plain": [
       "HBox(children=(IntProgress(value=0, description='TCGA-HZ-A77Q-01A_HTSeq-FPKM.txt.gz', max=522, style=ProgressS…"
      ]
     },
     "metadata": {},
     "output_type": "display_data"
    },
    {
     "name": "stdout",
     "output_type": "stream",
     "text": [
      "\r",
      " \r"
     ]
    },
    {
     "data": {
      "application/vnd.jupyter.widget-view+json": {
       "model_id": "",
       "version_major": 2,
       "version_minor": 0
      },
      "text/plain": [
       "HBox(children=(IntProgress(value=0, description='TCGA-IB-A5ST-01A_HTSeq-Counts.txt.gz', max=256, style=Progres…"
      ]
     },
     "metadata": {},
     "output_type": "display_data"
    },
    {
     "name": "stdout",
     "output_type": "stream",
     "text": [
      "\r",
      " \r"
     ]
    },
    {
     "data": {
      "application/vnd.jupyter.widget-view+json": {
       "model_id": "",
       "version_major": 2,
       "version_minor": 0
      },
      "text/plain": [
       "HBox(children=(IntProgress(value=0, description='TCGA-HZ-8005-01A_HTSeq-FPKM-UQ.txt.gz', max=512, style=Progre…"
      ]
     },
     "metadata": {},
     "output_type": "display_data"
    },
    {
     "name": "stdout",
     "output_type": "stream",
     "text": [
      "\r",
      " \r"
     ]
    },
    {
     "data": {
      "application/vnd.jupyter.widget-view+json": {
       "model_id": "",
       "version_major": 2,
       "version_minor": 0
      },
      "text/plain": [
       "HBox(children=(IntProgress(value=0, description='TCGA-3A-A9IB-01A_HTSeq-Counts.txt.gz', max=256, style=Progres…"
      ]
     },
     "metadata": {},
     "output_type": "display_data"
    },
    {
     "name": "stdout",
     "output_type": "stream",
     "text": [
      "\r",
      " \r"
     ]
    },
    {
     "data": {
      "application/vnd.jupyter.widget-view+json": {
       "model_id": "",
       "version_major": 2,
       "version_minor": 0
      },
      "text/plain": [
       "HBox(children=(IntProgress(value=0, description='TCGA-FB-A7DR-01A_HTSeq-FPKM-UQ.txt.gz', max=532, style=Progre…"
      ]
     },
     "metadata": {},
     "output_type": "display_data"
    },
    {
     "name": "stdout",
     "output_type": "stream",
     "text": [
      "\r",
      " \r"
     ]
    },
    {
     "data": {
      "application/vnd.jupyter.widget-view+json": {
       "model_id": "",
       "version_major": 2,
       "version_minor": 0
      },
      "text/plain": [
       "HBox(children=(IntProgress(value=0, description='TCGA-US-A77E-01A_HTSeq-Counts.txt.gz', max=256, style=Progres…"
      ]
     },
     "metadata": {},
     "output_type": "display_data"
    },
    {
     "name": "stdout",
     "output_type": "stream",
     "text": [
      "\r",
      " \r"
     ]
    },
    {
     "data": {
      "application/vnd.jupyter.widget-view+json": {
       "model_id": "",
       "version_major": 2,
       "version_minor": 0
      },
      "text/plain": [
       "HBox(children=(IntProgress(value=0, description='TCGA-US-A77J-01A_HTSeq-Counts.txt.gz', max=256, style=Progres…"
      ]
     },
     "metadata": {},
     "output_type": "display_data"
    },
    {
     "name": "stdout",
     "output_type": "stream",
     "text": [
      "\r",
      " \r"
     ]
    },
    {
     "data": {
      "application/vnd.jupyter.widget-view+json": {
       "model_id": "",
       "version_major": 2,
       "version_minor": 0
      },
      "text/plain": [
       "HBox(children=(IntProgress(value=0, description='TCGA-FB-A4P5-01A_HTSeq-Counts.txt.gz', max=256, style=Progres…"
      ]
     },
     "metadata": {},
     "output_type": "display_data"
    },
    {
     "name": "stdout",
     "output_type": "stream",
     "text": [
      "\r",
      " \r"
     ]
    },
    {
     "data": {
      "application/vnd.jupyter.widget-view+json": {
       "model_id": "",
       "version_major": 2,
       "version_minor": 0
      },
      "text/plain": [
       "HBox(children=(IntProgress(value=0, description='TCGA-HZ-A8P0-01A_HTSeq-FPKM.txt.gz', max=532, style=ProgressS…"
      ]
     },
     "metadata": {},
     "output_type": "display_data"
    },
    {
     "name": "stdout",
     "output_type": "stream",
     "text": [
      "\r",
      " \r"
     ]
    },
    {
     "data": {
      "application/vnd.jupyter.widget-view+json": {
       "model_id": "",
       "version_major": 2,
       "version_minor": 0
      },
      "text/plain": [
       "HBox(children=(IntProgress(value=0, description='TCGA-XN-A8T5-01A_HTSeq-FPKM.txt.gz', max=532, style=ProgressS…"
      ]
     },
     "metadata": {},
     "output_type": "display_data"
    },
    {
     "name": "stdout",
     "output_type": "stream",
     "text": [
      "\r",
      " \r"
     ]
    },
    {
     "data": {
      "application/vnd.jupyter.widget-view+json": {
       "model_id": "",
       "version_major": 2,
       "version_minor": 0
      },
      "text/plain": [
       "HBox(children=(IntProgress(value=0, description='TCGA-2J-AABP-01A_HTSeq-FPKM.txt.gz', max=512, style=ProgressS…"
      ]
     },
     "metadata": {},
     "output_type": "display_data"
    },
    {
     "name": "stdout",
     "output_type": "stream",
     "text": [
      "\r",
      " \r"
     ]
    },
    {
     "data": {
      "application/vnd.jupyter.widget-view+json": {
       "model_id": "",
       "version_major": 2,
       "version_minor": 0
      },
      "text/plain": [
       "HBox(children=(IntProgress(value=0, description='TCGA-IB-A6UF-01A_HTSeq-FPKM-UQ.txt.gz', max=543, style=Progre…"
      ]
     },
     "metadata": {},
     "output_type": "display_data"
    },
    {
     "name": "stdout",
     "output_type": "stream",
     "text": [
      "\r",
      " \r"
     ]
    },
    {
     "data": {
      "application/vnd.jupyter.widget-view+json": {
       "model_id": "",
       "version_major": 2,
       "version_minor": 0
      },
      "text/plain": [
       "HBox(children=(IntProgress(value=0, description='TCGA-FB-A4P5-01A_HTSeq-FPKM-UQ.txt.gz', max=522, style=Progre…"
      ]
     },
     "metadata": {},
     "output_type": "display_data"
    },
    {
     "name": "stdout",
     "output_type": "stream",
     "text": [
      "\r",
      " \r"
     ]
    },
    {
     "data": {
      "application/vnd.jupyter.widget-view+json": {
       "model_id": "",
       "version_major": 2,
       "version_minor": 0
      },
      "text/plain": [
       "HBox(children=(IntProgress(value=0, description='TCGA-2L-AAQM-01A_HTSeq-FPKM-UQ.txt.gz', max=532, style=Progre…"
      ]
     },
     "metadata": {},
     "output_type": "display_data"
    },
    {
     "name": "stdout",
     "output_type": "stream",
     "text": [
      "\r",
      " \r"
     ]
    },
    {
     "data": {
      "application/vnd.jupyter.widget-view+json": {
       "model_id": "",
       "version_major": 2,
       "version_minor": 0
      },
      "text/plain": [
       "HBox(children=(IntProgress(value=0, description='TCGA-HZ-7919-01A_HTSeq-FPKM.txt.gz', max=532, style=ProgressS…"
      ]
     },
     "metadata": {},
     "output_type": "display_data"
    },
    {
     "name": "stdout",
     "output_type": "stream",
     "text": [
      "\r",
      " \r"
     ]
    },
    {
     "data": {
      "application/vnd.jupyter.widget-view+json": {
       "model_id": "",
       "version_major": 2,
       "version_minor": 0
      },
      "text/plain": [
       "HBox(children=(IntProgress(value=0, description='TCGA-3A-A9IC-01A_HTSeq-FPKM.txt.gz', max=532, style=ProgressS…"
      ]
     },
     "metadata": {},
     "output_type": "display_data"
    },
    {
     "name": "stdout",
     "output_type": "stream",
     "text": [
      "\r",
      " \r"
     ]
    },
    {
     "data": {
      "application/vnd.jupyter.widget-view+json": {
       "model_id": "",
       "version_major": 2,
       "version_minor": 0
      },
      "text/plain": [
       "HBox(children=(IntProgress(value=0, description='TCGA-F2-A44G-01A_HTSeq-Counts.txt.gz', max=256, style=Progres…"
      ]
     },
     "metadata": {},
     "output_type": "display_data"
    },
    {
     "name": "stdout",
     "output_type": "stream",
     "text": [
      "\r",
      " \r"
     ]
    },
    {
     "data": {
      "application/vnd.jupyter.widget-view+json": {
       "model_id": "",
       "version_major": 2,
       "version_minor": 0
      },
      "text/plain": [
       "HBox(children=(IntProgress(value=0, description='TCGA-F2-A44H-01A_HTSeq-FPKM.txt.gz', max=502, style=ProgressS…"
      ]
     },
     "metadata": {},
     "output_type": "display_data"
    },
    {
     "name": "stdout",
     "output_type": "stream",
     "text": [
      "\r",
      " \r"
     ]
    },
    {
     "data": {
      "application/vnd.jupyter.widget-view+json": {
       "model_id": "",
       "version_major": 2,
       "version_minor": 0
      },
      "text/plain": [
       "HBox(children=(IntProgress(value=0, description='TCGA-IB-7886-01A_HTSeq-FPKM-UQ.txt.gz', max=543, style=Progre…"
      ]
     },
     "metadata": {},
     "output_type": "display_data"
    },
    {
     "name": "stdout",
     "output_type": "stream",
     "text": [
      "\r",
      " \r"
     ]
    },
    {
     "data": {
      "application/vnd.jupyter.widget-view+json": {
       "model_id": "",
       "version_major": 2,
       "version_minor": 0
      },
      "text/plain": [
       "HBox(children=(IntProgress(value=0, description='TCGA-HZ-A4BK-01A_HTSeq-FPKM-UQ.txt.gz', max=532, style=Progre…"
      ]
     },
     "metadata": {},
     "output_type": "display_data"
    },
    {
     "name": "stdout",
     "output_type": "stream",
     "text": [
      "\r",
      " \r"
     ]
    },
    {
     "data": {
      "application/vnd.jupyter.widget-view+json": {
       "model_id": "",
       "version_major": 2,
       "version_minor": 0
      },
      "text/plain": [
       "HBox(children=(IntProgress(value=0, description='TCGA-3E-AAAZ-01A_HTSeq-FPKM-UQ.txt.gz', max=543, style=Progre…"
      ]
     },
     "metadata": {},
     "output_type": "display_data"
    },
    {
     "name": "stdout",
     "output_type": "stream",
     "text": [
      "\r",
      " \r"
     ]
    },
    {
     "data": {
      "application/vnd.jupyter.widget-view+json": {
       "model_id": "",
       "version_major": 2,
       "version_minor": 0
      },
      "text/plain": [
       "HBox(children=(IntProgress(value=0, description='TCGA-IB-A7M4-01A_HTSeq-FPKM.txt.gz', max=532, style=ProgressS…"
      ]
     },
     "metadata": {},
     "output_type": "display_data"
    },
    {
     "name": "stdout",
     "output_type": "stream",
     "text": [
      "\r",
      " \r"
     ]
    },
    {
     "data": {
      "application/vnd.jupyter.widget-view+json": {
       "model_id": "",
       "version_major": 2,
       "version_minor": 0
      },
      "text/plain": [
       "HBox(children=(IntProgress(value=0, description='TCGA-US-A774-01A_HTSeq-Counts.txt.gz', max=256, style=Progres…"
      ]
     },
     "metadata": {},
     "output_type": "display_data"
    },
    {
     "name": "stdout",
     "output_type": "stream",
     "text": [
      "\r",
      " \r"
     ]
    },
    {
     "data": {
      "application/vnd.jupyter.widget-view+json": {
       "model_id": "",
       "version_major": 2,
       "version_minor": 0
      },
      "text/plain": [
       "HBox(children=(IntProgress(value=0, description='TCGA-XD-AAUL-01A_HTSeq-Counts.txt.gz', max=256, style=Progres…"
      ]
     },
     "metadata": {},
     "output_type": "display_data"
    },
    {
     "name": "stdout",
     "output_type": "stream",
     "text": [
      "\r",
      " \r"
     ]
    },
    {
     "data": {
      "application/vnd.jupyter.widget-view+json": {
       "model_id": "",
       "version_major": 2,
       "version_minor": 0
      },
      "text/plain": [
       "HBox(children=(IntProgress(value=0, description='TCGA-RB-A7B8-01A_HTSeq-Counts.txt.gz', max=256, style=Progres…"
      ]
     },
     "metadata": {},
     "output_type": "display_data"
    },
    {
     "name": "stdout",
     "output_type": "stream",
     "text": [
      "\r",
      " \r"
     ]
    },
    {
     "data": {
      "application/vnd.jupyter.widget-view+json": {
       "model_id": "",
       "version_major": 2,
       "version_minor": 0
      },
      "text/plain": [
       "HBox(children=(IntProgress(value=0, description='TCGA-IB-A5SO-01A_HTSeq-Counts.txt.gz', max=266, style=Progres…"
      ]
     },
     "metadata": {},
     "output_type": "display_data"
    },
    {
     "name": "stdout",
     "output_type": "stream",
     "text": [
      "\r",
      " \r"
     ]
    },
    {
     "data": {
      "application/vnd.jupyter.widget-view+json": {
       "model_id": "",
       "version_major": 2,
       "version_minor": 0
      },
      "text/plain": [
       "HBox(children=(IntProgress(value=0, description='TCGA-IB-AAUR-01A_HTSeq-FPKM-UQ.txt.gz', max=553, style=Progre…"
      ]
     },
     "metadata": {},
     "output_type": "display_data"
    },
    {
     "name": "stdout",
     "output_type": "stream",
     "text": [
      "\r",
      " \r"
     ]
    },
    {
     "data": {
      "application/vnd.jupyter.widget-view+json": {
       "model_id": "",
       "version_major": 2,
       "version_minor": 0
      },
      "text/plain": [
       "HBox(children=(IntProgress(value=0, description='TCGA-IB-7652-01A_HTSeq-Counts.txt.gz', max=266, style=Progres…"
      ]
     },
     "metadata": {},
     "output_type": "display_data"
    },
    {
     "name": "stdout",
     "output_type": "stream",
     "text": [
      "\r",
      " \r"
     ]
    },
    {
     "data": {
      "application/vnd.jupyter.widget-view+json": {
       "model_id": "",
       "version_major": 2,
       "version_minor": 0
      },
      "text/plain": [
       "HBox(children=(IntProgress(value=0, description='TCGA-2J-AABA-01A_HTSeq-FPKM-UQ.txt.gz', max=532, style=Progre…"
      ]
     },
     "metadata": {},
     "output_type": "display_data"
    },
    {
     "name": "stdout",
     "output_type": "stream",
     "text": [
      "\r",
      " \r"
     ]
    },
    {
     "data": {
      "application/vnd.jupyter.widget-view+json": {
       "model_id": "",
       "version_major": 2,
       "version_minor": 0
      },
      "text/plain": [
       "HBox(children=(IntProgress(value=0, description='TCGA-2J-AABU-01A_HTSeq-FPKM-UQ.txt.gz', max=502, style=Progre…"
      ]
     },
     "metadata": {},
     "output_type": "display_data"
    },
    {
     "name": "stdout",
     "output_type": "stream",
     "text": [
      "\r",
      " \r"
     ]
    },
    {
     "data": {
      "application/vnd.jupyter.widget-view+json": {
       "model_id": "",
       "version_major": 2,
       "version_minor": 0
      },
      "text/plain": [
       "HBox(children=(IntProgress(value=0, description='TCGA-2J-AAB8-01A_HTSeq-FPKM.txt.gz', max=512, style=ProgressS…"
      ]
     },
     "metadata": {},
     "output_type": "display_data"
    },
    {
     "name": "stdout",
     "output_type": "stream",
     "text": [
      "\r",
      " \r"
     ]
    },
    {
     "data": {
      "application/vnd.jupyter.widget-view+json": {
       "model_id": "",
       "version_major": 2,
       "version_minor": 0
      },
      "text/plain": [
       "HBox(children=(IntProgress(value=0, description='TCGA-F2-6880-01A_HTSeq-FPKM-UQ.txt.gz', max=502, style=Progre…"
      ]
     },
     "metadata": {},
     "output_type": "display_data"
    },
    {
     "name": "stdout",
     "output_type": "stream",
     "text": [
      "\r",
      " \r"
     ]
    },
    {
     "data": {
      "application/vnd.jupyter.widget-view+json": {
       "model_id": "",
       "version_major": 2,
       "version_minor": 0
      },
      "text/plain": [
       "HBox(children=(IntProgress(value=0, description='TCGA-IB-AAUO-01A_HTSeq-FPKM-UQ.txt.gz', max=553, style=Progre…"
      ]
     },
     "metadata": {},
     "output_type": "display_data"
    },
    {
     "name": "stdout",
     "output_type": "stream",
     "text": [
      "\r",
      " \r"
     ]
    },
    {
     "data": {
      "application/vnd.jupyter.widget-view+json": {
       "model_id": "",
       "version_major": 2,
       "version_minor": 0
      },
      "text/plain": [
       "HBox(children=(IntProgress(value=0, description='TCGA-HZ-A8P1-01A_HTSeq-FPKM.txt.gz', max=522, style=ProgressS…"
      ]
     },
     "metadata": {},
     "output_type": "display_data"
    },
    {
     "name": "stdout",
     "output_type": "stream",
     "text": [
      "\r",
      " \r"
     ]
    },
    {
     "data": {
      "application/vnd.jupyter.widget-view+json": {
       "model_id": "",
       "version_major": 2,
       "version_minor": 0
      },
      "text/plain": [
       "HBox(children=(IntProgress(value=0, description='TCGA-2J-AABI-01A_HTSeq-FPKM-UQ.txt.gz', max=543, style=Progre…"
      ]
     },
     "metadata": {},
     "output_type": "display_data"
    },
    {
     "name": "stdout",
     "output_type": "stream",
     "text": [
      "\r",
      " \r"
     ]
    },
    {
     "data": {
      "application/vnd.jupyter.widget-view+json": {
       "model_id": "",
       "version_major": 2,
       "version_minor": 0
      },
      "text/plain": [
       "HBox(children=(IntProgress(value=0, description='TCGA-2J-AABE-01A_HTSeq-FPKM-UQ.txt.gz', max=522, style=Progre…"
      ]
     },
     "metadata": {},
     "output_type": "display_data"
    },
    {
     "name": "stdout",
     "output_type": "stream",
     "text": [
      "\r",
      " \r"
     ]
    },
    {
     "data": {
      "application/vnd.jupyter.widget-view+json": {
       "model_id": "",
       "version_major": 2,
       "version_minor": 0
      },
      "text/plain": [
       "HBox(children=(IntProgress(value=0, description='TCGA-FB-A4P6-01A_HTSeq-FPKM-UQ.txt.gz', max=532, style=Progre…"
      ]
     },
     "metadata": {},
     "output_type": "display_data"
    },
    {
     "name": "stdout",
     "output_type": "stream",
     "text": [
      "\r",
      " \r"
     ]
    },
    {
     "data": {
      "application/vnd.jupyter.widget-view+json": {
       "model_id": "",
       "version_major": 2,
       "version_minor": 0
      },
      "text/plain": [
       "HBox(children=(IntProgress(value=0, description='TCGA-2L-AAQJ-01A_HTSeq-Counts.txt.gz', max=256, style=Progres…"
      ]
     },
     "metadata": {},
     "output_type": "display_data"
    },
    {
     "name": "stdout",
     "output_type": "stream",
     "text": [
      "\r",
      " \r"
     ]
    },
    {
     "data": {
      "application/vnd.jupyter.widget-view+json": {
       "model_id": "",
       "version_major": 2,
       "version_minor": 0
      },
      "text/plain": [
       "HBox(children=(IntProgress(value=0, description='TCGA-HZ-A8P0-01A_HTSeq-FPKM-UQ.txt.gz', max=532, style=Progre…"
      ]
     },
     "metadata": {},
     "output_type": "display_data"
    },
    {
     "name": "stdout",
     "output_type": "stream",
     "text": [
      "\r",
      " \r"
     ]
    },
    {
     "data": {
      "application/vnd.jupyter.widget-view+json": {
       "model_id": "",
       "version_major": 2,
       "version_minor": 0
      },
      "text/plain": [
       "HBox(children=(IntProgress(value=0, description='TCGA-HZ-A8P1-01A_HTSeq-Counts.txt.gz', max=256, style=Progres…"
      ]
     },
     "metadata": {},
     "output_type": "display_data"
    },
    {
     "name": "stdout",
     "output_type": "stream",
     "text": [
      "\r",
      " \r"
     ]
    },
    {
     "data": {
      "application/vnd.jupyter.widget-view+json": {
       "model_id": "",
       "version_major": 2,
       "version_minor": 0
      },
      "text/plain": [
       "HBox(children=(IntProgress(value=0, description='TCGA-HZ-7289-01A_HTSeq-FPKM.txt.gz', max=492, style=ProgressS…"
      ]
     },
     "metadata": {},
     "output_type": "display_data"
    },
    {
     "name": "stdout",
     "output_type": "stream",
     "text": [
      "\r",
      " \r"
     ]
    },
    {
     "data": {
      "application/vnd.jupyter.widget-view+json": {
       "model_id": "",
       "version_major": 2,
       "version_minor": 0
      },
      "text/plain": [
       "HBox(children=(IntProgress(value=0, description='TCGA-FB-AAPZ-01A_HTSeq-Counts.txt.gz', max=256, style=Progres…"
      ]
     },
     "metadata": {},
     "output_type": "display_data"
    },
    {
     "name": "stdout",
     "output_type": "stream",
     "text": [
      "\r",
      " \r"
     ]
    },
    {
     "data": {
      "application/vnd.jupyter.widget-view+json": {
       "model_id": "",
       "version_major": 2,
       "version_minor": 0
      },
      "text/plain": [
       "HBox(children=(IntProgress(value=0, description='TCGA-XN-A8T5-01A_HTSeq-Counts.txt.gz', max=256, style=Progres…"
      ]
     },
     "metadata": {},
     "output_type": "display_data"
    },
    {
     "name": "stdout",
     "output_type": "stream",
     "text": [
      "\r",
      " \r"
     ]
    },
    {
     "data": {
      "application/vnd.jupyter.widget-view+json": {
       "model_id": "",
       "version_major": 2,
       "version_minor": 0
      },
      "text/plain": [
       "HBox(children=(IntProgress(value=0, description='TCGA-IB-A6UF-01A_HTSeq-FPKM.txt.gz', max=543, style=ProgressS…"
      ]
     },
     "metadata": {},
     "output_type": "display_data"
    },
    {
     "name": "stdout",
     "output_type": "stream",
     "text": [
      "\r",
      " \r"
     ]
    },
    {
     "data": {
      "application/vnd.jupyter.widget-view+json": {
       "model_id": "",
       "version_major": 2,
       "version_minor": 0
      },
      "text/plain": [
       "HBox(children=(IntProgress(value=0, description='TCGA-S4-A8RP-01A_HTSeq-FPKM-UQ.txt.gz', max=543, style=Progre…"
      ]
     },
     "metadata": {},
     "output_type": "display_data"
    },
    {
     "name": "stdout",
     "output_type": "stream",
     "text": [
      "\r",
      " \r"
     ]
    },
    {
     "data": {
      "application/vnd.jupyter.widget-view+json": {
       "model_id": "",
       "version_major": 2,
       "version_minor": 0
      },
      "text/plain": [
       "HBox(children=(IntProgress(value=0, description='TCGA-2J-AABP-01A_HTSeq-Counts.txt.gz', max=256, style=Progres…"
      ]
     },
     "metadata": {},
     "output_type": "display_data"
    },
    {
     "name": "stdout",
     "output_type": "stream",
     "text": [
      "\r",
      " \r"
     ]
    },
    {
     "data": {
      "application/vnd.jupyter.widget-view+json": {
       "model_id": "",
       "version_major": 2,
       "version_minor": 0
      },
      "text/plain": [
       "HBox(children=(IntProgress(value=0, description='TCGA-2J-AAB1-01A_HTSeq-Counts.txt.gz', max=256, style=Progres…"
      ]
     },
     "metadata": {},
     "output_type": "display_data"
    },
    {
     "name": "stdout",
     "output_type": "stream",
     "text": [
      "\r",
      " \r"
     ]
    },
    {
     "data": {
      "application/vnd.jupyter.widget-view+json": {
       "model_id": "",
       "version_major": 2,
       "version_minor": 0
      },
      "text/plain": [
       "HBox(children=(IntProgress(value=0, description='TCGA-XD-AAUL-01A_HTSeq-FPKM-UQ.txt.gz', max=532, style=Progre…"
      ]
     },
     "metadata": {},
     "output_type": "display_data"
    },
    {
     "name": "stdout",
     "output_type": "stream",
     "text": [
      "\r",
      " \r"
     ]
    },
    {
     "data": {
      "application/vnd.jupyter.widget-view+json": {
       "model_id": "",
       "version_major": 2,
       "version_minor": 0
      },
      "text/plain": [
       "HBox(children=(IntProgress(value=0, description='TCGA-2J-AABR-01A_HTSeq-Counts.txt.gz', max=256, style=Progres…"
      ]
     },
     "metadata": {},
     "output_type": "display_data"
    },
    {
     "name": "stdout",
     "output_type": "stream",
     "text": [
      "\r",
      " \r"
     ]
    },
    {
     "data": {
      "application/vnd.jupyter.widget-view+json": {
       "model_id": "",
       "version_major": 2,
       "version_minor": 0
      },
      "text/plain": [
       "HBox(children=(IntProgress(value=0, description='TCGA-HV-A7OL-01A_HTSeq-Counts.txt.gz', max=256, style=Progres…"
      ]
     },
     "metadata": {},
     "output_type": "display_data"
    },
    {
     "name": "stdout",
     "output_type": "stream",
     "text": [
      "\r",
      " \r"
     ]
    },
    {
     "data": {
      "application/vnd.jupyter.widget-view+json": {
       "model_id": "",
       "version_major": 2,
       "version_minor": 0
      },
      "text/plain": [
       "HBox(children=(IntProgress(value=0, description='TCGA-HV-A5A5-01A_HTSeq-FPKM.txt.gz', max=522, style=ProgressS…"
      ]
     },
     "metadata": {},
     "output_type": "display_data"
    },
    {
     "name": "stdout",
     "output_type": "stream",
     "text": [
      "\r",
      " \r"
     ]
    },
    {
     "data": {
      "application/vnd.jupyter.widget-view+json": {
       "model_id": "",
       "version_major": 2,
       "version_minor": 0
      },
      "text/plain": [
       "HBox(children=(IntProgress(value=0, description='TCGA-FB-AAPU-01A_HTSeq-Counts.txt.gz', max=256, style=Progres…"
      ]
     },
     "metadata": {},
     "output_type": "display_data"
    },
    {
     "name": "stdout",
     "output_type": "stream",
     "text": [
      "\r",
      " \r"
     ]
    },
    {
     "data": {
      "application/vnd.jupyter.widget-view+json": {
       "model_id": "",
       "version_major": 2,
       "version_minor": 0
      },
      "text/plain": [
       "HBox(children=(IntProgress(value=0, description='TCGA-HZ-A77P-01A_HTSeq-FPKM-UQ.txt.gz', max=543, style=Progre…"
      ]
     },
     "metadata": {},
     "output_type": "display_data"
    },
    {
     "name": "stdout",
     "output_type": "stream",
     "text": [
      "\r",
      " \r"
     ]
    },
    {
     "data": {
      "application/vnd.jupyter.widget-view+json": {
       "model_id": "",
       "version_major": 2,
       "version_minor": 0
      },
      "text/plain": [
       "HBox(children=(IntProgress(value=0, description='TCGA-2J-AABK-01A_HTSeq-Counts.txt.gz', max=266, style=Progres…"
      ]
     },
     "metadata": {},
     "output_type": "display_data"
    },
    {
     "name": "stdout",
     "output_type": "stream",
     "text": [
      "\r",
      " \r"
     ]
    },
    {
     "data": {
      "application/vnd.jupyter.widget-view+json": {
       "model_id": "",
       "version_major": 2,
       "version_minor": 0
      },
      "text/plain": [
       "HBox(children=(IntProgress(value=0, description='TCGA-US-A77J-01A_HTSeq-FPKM-UQ.txt.gz', max=522, style=Progre…"
      ]
     },
     "metadata": {},
     "output_type": "display_data"
    },
    {
     "name": "stdout",
     "output_type": "stream",
     "text": [
      "\r",
      " \r"
     ]
    },
    {
     "data": {
      "application/vnd.jupyter.widget-view+json": {
       "model_id": "",
       "version_major": 2,
       "version_minor": 0
      },
      "text/plain": [
       "HBox(children=(IntProgress(value=0, description='TCGA-2L-AAQJ-01A_HTSeq-FPKM-UQ.txt.gz', max=532, style=Progre…"
      ]
     },
     "metadata": {},
     "output_type": "display_data"
    },
    {
     "name": "stdout",
     "output_type": "stream",
     "text": [
      "\r",
      " \r"
     ]
    },
    {
     "data": {
      "application/vnd.jupyter.widget-view+json": {
       "model_id": "",
       "version_major": 2,
       "version_minor": 0
      },
      "text/plain": [
       "HBox(children=(IntProgress(value=0, description='TCGA-HZ-7920-01A_HTSeq-Counts.txt.gz', max=266, style=Progres…"
      ]
     },
     "metadata": {},
     "output_type": "display_data"
    },
    {
     "name": "stdout",
     "output_type": "stream",
     "text": [
      "\r",
      " \r"
     ]
    },
    {
     "data": {
      "application/vnd.jupyter.widget-view+json": {
       "model_id": "",
       "version_major": 2,
       "version_minor": 0
      },
      "text/plain": [
       "HBox(children=(IntProgress(value=0, description='TCGA-IB-7887-01A_HTSeq-Counts.txt.gz', max=266, style=Progres…"
      ]
     },
     "metadata": {},
     "output_type": "display_data"
    },
    {
     "name": "stdout",
     "output_type": "stream",
     "text": [
      "\r",
      " \r"
     ]
    },
    {
     "data": {
      "application/vnd.jupyter.widget-view+json": {
       "model_id": "",
       "version_major": 2,
       "version_minor": 0
      },
      "text/plain": [
       "HBox(children=(IntProgress(value=0, description='TCGA-HV-A5A4-01A_HTSeq-FPKM-UQ.txt.gz', max=532, style=Progre…"
      ]
     },
     "metadata": {},
     "output_type": "display_data"
    },
    {
     "name": "stdout",
     "output_type": "stream",
     "text": [
      "\r",
      " \r"
     ]
    },
    {
     "data": {
      "application/vnd.jupyter.widget-view+json": {
       "model_id": "",
       "version_major": 2,
       "version_minor": 0
      },
      "text/plain": [
       "HBox(children=(IntProgress(value=0, description='TCGA-FB-AAPP-01A_HTSeq-FPKM.txt.gz', max=492, style=ProgressS…"
      ]
     },
     "metadata": {},
     "output_type": "display_data"
    },
    {
     "name": "stdout",
     "output_type": "stream",
     "text": [
      "\r",
      " \r"
     ]
    },
    {
     "data": {
      "application/vnd.jupyter.widget-view+json": {
       "model_id": "",
       "version_major": 2,
       "version_minor": 0
      },
      "text/plain": [
       "HBox(children=(IntProgress(value=0, description='TCGA-LB-A9Q5-01A_HTSeq-FPKM.txt.gz', max=512, style=ProgressS…"
      ]
     },
     "metadata": {},
     "output_type": "display_data"
    },
    {
     "name": "stdout",
     "output_type": "stream",
     "text": [
      "\r",
      " \r"
     ]
    },
    {
     "data": {
      "application/vnd.jupyter.widget-view+json": {
       "model_id": "",
       "version_major": 2,
       "version_minor": 0
      },
      "text/plain": [
       "HBox(children=(IntProgress(value=0, description='TCGA-HZ-A4BH-01A_HTSeq-FPKM.txt.gz', max=532, style=ProgressS…"
      ]
     },
     "metadata": {},
     "output_type": "display_data"
    },
    {
     "name": "stdout",
     "output_type": "stream",
     "text": [
      "\r",
      " \r"
     ]
    },
    {
     "data": {
      "application/vnd.jupyter.widget-view+json": {
       "model_id": "",
       "version_major": 2,
       "version_minor": 0
      },
      "text/plain": [
       "HBox(children=(IntProgress(value=0, description='TCGA-S4-A8RO-01A_HTSeq-FPKM.txt.gz', max=532, style=ProgressS…"
      ]
     },
     "metadata": {},
     "output_type": "display_data"
    },
    {
     "name": "stdout",
     "output_type": "stream",
     "text": [
      "\r",
      " \r"
     ]
    },
    {
     "data": {
      "application/vnd.jupyter.widget-view+json": {
       "model_id": "",
       "version_major": 2,
       "version_minor": 0
      },
      "text/plain": [
       "HBox(children=(IntProgress(value=0, description='TCGA-2L-AAQI-01A_HTSeq-Counts.txt.gz', max=256, style=Progres…"
      ]
     },
     "metadata": {},
     "output_type": "display_data"
    },
    {
     "name": "stdout",
     "output_type": "stream",
     "text": [
      "\r",
      " \r"
     ]
    },
    {
     "data": {
      "application/vnd.jupyter.widget-view+json": {
       "model_id": "",
       "version_major": 2,
       "version_minor": 0
      },
      "text/plain": [
       "HBox(children=(IntProgress(value=0, description='TCGA-HV-AA8V-01A_HTSeq-Counts.txt.gz', max=256, style=Progres…"
      ]
     },
     "metadata": {},
     "output_type": "display_data"
    },
    {
     "name": "stdout",
     "output_type": "stream",
     "text": [
      "\r",
      " \r"
     ]
    },
    {
     "data": {
      "application/vnd.jupyter.widget-view+json": {
       "model_id": "",
       "version_major": 2,
       "version_minor": 0
      },
      "text/plain": [
       "HBox(children=(IntProgress(value=0, description='TCGA-HZ-7924-01A_HTSeq-Counts.txt.gz', max=266, style=Progres…"
      ]
     },
     "metadata": {},
     "output_type": "display_data"
    },
    {
     "name": "stdout",
     "output_type": "stream",
     "text": [
      "\r",
      " \r"
     ]
    },
    {
     "data": {
      "application/vnd.jupyter.widget-view+json": {
       "model_id": "",
       "version_major": 2,
       "version_minor": 0
      },
      "text/plain": [
       "HBox(children=(IntProgress(value=0, description='TCGA-2J-AABI-01A_HTSeq-FPKM.txt.gz', max=543, style=ProgressS…"
      ]
     },
     "metadata": {},
     "output_type": "display_data"
    },
    {
     "name": "stdout",
     "output_type": "stream",
     "text": [
      "\r",
      " \r"
     ]
    },
    {
     "data": {
      "application/vnd.jupyter.widget-view+json": {
       "model_id": "",
       "version_major": 2,
       "version_minor": 0
      },
      "text/plain": [
       "HBox(children=(IntProgress(value=0, description='TCGA-LB-A7SX-01A_HTSeq-FPKM.txt.gz', max=553, style=ProgressS…"
      ]
     },
     "metadata": {},
     "output_type": "display_data"
    },
    {
     "name": "stdout",
     "output_type": "stream",
     "text": [
      "\r",
      " \r"
     ]
    },
    {
     "data": {
      "application/vnd.jupyter.widget-view+json": {
       "model_id": "",
       "version_major": 2,
       "version_minor": 0
      },
      "text/plain": [
       "HBox(children=(IntProgress(value=0, description='TCGA-US-A77E-01A_HTSeq-FPKM-UQ.txt.gz', max=543, style=Progre…"
      ]
     },
     "metadata": {},
     "output_type": "display_data"
    },
    {
     "name": "stdout",
     "output_type": "stream",
     "text": [
      "\r",
      " \r"
     ]
    },
    {
     "data": {
      "application/vnd.jupyter.widget-view+json": {
       "model_id": "",
       "version_major": 2,
       "version_minor": 0
      },
      "text/plain": [
       "HBox(children=(IntProgress(value=0, description='TCGA-IB-AAUS-01A_HTSeq-FPKM.txt.gz', max=532, style=ProgressS…"
      ]
     },
     "metadata": {},
     "output_type": "display_data"
    },
    {
     "name": "stdout",
     "output_type": "stream",
     "text": [
      "\r",
      " \r"
     ]
    },
    {
     "data": {
      "application/vnd.jupyter.widget-view+json": {
       "model_id": "",
       "version_major": 2,
       "version_minor": 0
      },
      "text/plain": [
       "HBox(children=(IntProgress(value=0, description='TCGA-IB-AAUP-01A_HTSeq-Counts.txt.gz', max=266, style=Progres…"
      ]
     },
     "metadata": {},
     "output_type": "display_data"
    },
    {
     "name": "stdout",
     "output_type": "stream",
     "text": [
      "\r",
      " \r"
     ]
    },
    {
     "data": {
      "application/vnd.jupyter.widget-view+json": {
       "model_id": "",
       "version_major": 2,
       "version_minor": 0
      },
      "text/plain": [
       "HBox(children=(IntProgress(value=0, description='TCGA-IB-7644-01A_HTSeq-FPKM-UQ.txt.gz', max=522, style=Progre…"
      ]
     },
     "metadata": {},
     "output_type": "display_data"
    },
    {
     "name": "stdout",
     "output_type": "stream",
     "text": [
      "\r",
      " \r"
     ]
    },
    {
     "data": {
      "application/vnd.jupyter.widget-view+json": {
       "model_id": "",
       "version_major": 2,
       "version_minor": 0
      },
      "text/plain": [
       "HBox(children=(IntProgress(value=0, description='TCGA-3A-A9IO-01A_HTSeq-Counts.txt.gz', max=256, style=Progres…"
      ]
     },
     "metadata": {},
     "output_type": "display_data"
    },
    {
     "name": "stdout",
     "output_type": "stream",
     "text": [
      "\r",
      " \r"
     ]
    },
    {
     "data": {
      "application/vnd.jupyter.widget-view+json": {
       "model_id": "",
       "version_major": 2,
       "version_minor": 0
      },
      "text/plain": [
       "HBox(children=(IntProgress(value=0, description='TCGA-FB-A78T-01A_HTSeq-Counts.txt.gz', max=266, style=Progres…"
      ]
     },
     "metadata": {},
     "output_type": "display_data"
    },
    {
     "name": "stdout",
     "output_type": "stream",
     "text": [
      "\r",
      " \r"
     ]
    },
    {
     "data": {
      "application/vnd.jupyter.widget-view+json": {
       "model_id": "",
       "version_major": 2,
       "version_minor": 0
      },
      "text/plain": [
       "HBox(children=(IntProgress(value=0, description='TCGA-IB-A5SP-01A_HTSeq-Counts.txt.gz', max=256, style=Progres…"
      ]
     },
     "metadata": {},
     "output_type": "display_data"
    },
    {
     "name": "stdout",
     "output_type": "stream",
     "text": [
      "\r",
      " \r"
     ]
    },
    {
     "data": {
      "application/vnd.jupyter.widget-view+json": {
       "model_id": "",
       "version_major": 2,
       "version_minor": 0
      },
      "text/plain": [
       "HBox(children=(IntProgress(value=0, description='TCGA-IB-AAUU-01A_HTSeq-Counts.txt.gz', max=256, style=Progres…"
      ]
     },
     "metadata": {},
     "output_type": "display_data"
    },
    {
     "name": "stdout",
     "output_type": "stream",
     "text": [
      "\r",
      " \r"
     ]
    },
    {
     "data": {
      "application/vnd.jupyter.widget-view+json": {
       "model_id": "",
       "version_major": 2,
       "version_minor": 0
      },
      "text/plain": [
       "HBox(children=(IntProgress(value=0, description='TCGA-S4-A8RO-01A_HTSeq-FPKM-UQ.txt.gz', max=532, style=Progre…"
      ]
     },
     "metadata": {},
     "output_type": "display_data"
    },
    {
     "name": "stdout",
     "output_type": "stream",
     "text": [
      "\r",
      " \r"
     ]
    },
    {
     "data": {
      "application/vnd.jupyter.widget-view+json": {
       "model_id": "",
       "version_major": 2,
       "version_minor": 0
      },
      "text/plain": [
       "HBox(children=(IntProgress(value=0, description='TCGA-HZ-A49I-01A_HTSeq-FPKM-UQ.txt.gz', max=532, style=Progre…"
      ]
     },
     "metadata": {},
     "output_type": "display_data"
    },
    {
     "name": "stdout",
     "output_type": "stream",
     "text": [
      "\r",
      " \r"
     ]
    },
    {
     "data": {
      "application/vnd.jupyter.widget-view+json": {
       "model_id": "",
       "version_major": 2,
       "version_minor": 0
      },
      "text/plain": [
       "HBox(children=(IntProgress(value=0, description='TCGA-F2-A44H-01A_HTSeq-FPKM-UQ.txt.gz', max=502, style=Progre…"
      ]
     },
     "metadata": {},
     "output_type": "display_data"
    },
    {
     "name": "stdout",
     "output_type": "stream",
     "text": [
      "\r",
      " \r"
     ]
    },
    {
     "data": {
      "application/vnd.jupyter.widget-view+json": {
       "model_id": "",
       "version_major": 2,
       "version_minor": 0
      },
      "text/plain": [
       "HBox(children=(IntProgress(value=0, description='TCGA-M8-A5N4-01A_HTSeq-Counts.txt.gz', max=256, style=Progres…"
      ]
     },
     "metadata": {},
     "output_type": "display_data"
    },
    {
     "name": "stdout",
     "output_type": "stream",
     "text": [
      "\r",
      " \r"
     ]
    },
    {
     "data": {
      "application/vnd.jupyter.widget-view+json": {
       "model_id": "",
       "version_major": 2,
       "version_minor": 0
      },
      "text/plain": [
       "HBox(children=(IntProgress(value=0, description='TCGA-IB-AAUU-01A_HTSeq-FPKM.txt.gz', max=532, style=ProgressS…"
      ]
     },
     "metadata": {},
     "output_type": "display_data"
    },
    {
     "name": "stdout",
     "output_type": "stream",
     "text": [
      "\r",
      " \r"
     ]
    },
    {
     "data": {
      "application/vnd.jupyter.widget-view+json": {
       "model_id": "",
       "version_major": 2,
       "version_minor": 0
      },
      "text/plain": [
       "HBox(children=(IntProgress(value=0, description='TCGA-HZ-7926-01A_HTSeq-FPKM.txt.gz', max=543, style=ProgressS…"
      ]
     },
     "metadata": {},
     "output_type": "display_data"
    },
    {
     "name": "stdout",
     "output_type": "stream",
     "text": [
      "\r",
      " \r"
     ]
    },
    {
     "data": {
      "application/vnd.jupyter.widget-view+json": {
       "model_id": "",
       "version_major": 2,
       "version_minor": 0
      },
      "text/plain": [
       "HBox(children=(IntProgress(value=0, description='TCGA-IB-7890-01A_HTSeq-FPKM-UQ.txt.gz', max=512, style=Progre…"
      ]
     },
     "metadata": {},
     "output_type": "display_data"
    },
    {
     "name": "stdout",
     "output_type": "stream",
     "text": [
      "\r",
      " \r"
     ]
    },
    {
     "data": {
      "application/vnd.jupyter.widget-view+json": {
       "model_id": "",
       "version_major": 2,
       "version_minor": 0
      },
      "text/plain": [
       "HBox(children=(IntProgress(value=0, description='TCGA-FB-AAPS-01A_HTSeq-Counts.txt.gz', max=256, style=Progres…"
      ]
     },
     "metadata": {},
     "output_type": "display_data"
    },
    {
     "name": "stdout",
     "output_type": "stream",
     "text": [
      "\r",
      " \r"
     ]
    },
    {
     "data": {
      "application/vnd.jupyter.widget-view+json": {
       "model_id": "",
       "version_major": 2,
       "version_minor": 0
      },
      "text/plain": [
       "HBox(children=(IntProgress(value=0, description='TCGA-IB-7885-01A_HTSeq-Counts.txt.gz', max=266, style=Progres…"
      ]
     },
     "metadata": {},
     "output_type": "display_data"
    },
    {
     "name": "stdout",
     "output_type": "stream",
     "text": [
      "\r",
      " \r"
     ]
    },
    {
     "data": {
      "application/vnd.jupyter.widget-view+json": {
       "model_id": "",
       "version_major": 2,
       "version_minor": 0
      },
      "text/plain": [
       "HBox(children=(IntProgress(value=0, description='TCGA-HZ-A77O-01A_HTSeq-FPKM-UQ.txt.gz', max=522, style=Progre…"
      ]
     },
     "metadata": {},
     "output_type": "display_data"
    },
    {
     "name": "stdout",
     "output_type": "stream",
     "text": [
      "\r",
      " \r"
     ]
    },
    {
     "data": {
      "application/vnd.jupyter.widget-view+json": {
       "model_id": "",
       "version_major": 2,
       "version_minor": 0
      },
      "text/plain": [
       "HBox(children=(IntProgress(value=0, description='TCGA-HZ-8005-01A_HTSeq-FPKM.txt.gz', max=512, style=ProgressS…"
      ]
     },
     "metadata": {},
     "output_type": "display_data"
    },
    {
     "name": "stdout",
     "output_type": "stream",
     "text": [
      "\r",
      " \r"
     ]
    },
    {
     "data": {
      "application/vnd.jupyter.widget-view+json": {
       "model_id": "",
       "version_major": 2,
       "version_minor": 0
      },
      "text/plain": [
       "HBox(children=(IntProgress(value=0, description='TCGA-FB-AAQ2-01A_HTSeq-FPKM.txt.gz', max=522, style=ProgressS…"
      ]
     },
     "metadata": {},
     "output_type": "display_data"
    },
    {
     "name": "stdout",
     "output_type": "stream",
     "text": [
      "\r",
      " \r"
     ]
    },
    {
     "data": {
      "application/vnd.jupyter.widget-view+json": {
       "model_id": "",
       "version_major": 2,
       "version_minor": 0
      },
      "text/plain": [
       "HBox(children=(IntProgress(value=0, description='TCGA-S4-A8RO-01A_HTSeq-Counts.txt.gz', max=256, style=Progres…"
      ]
     },
     "metadata": {},
     "output_type": "display_data"
    },
    {
     "name": "stdout",
     "output_type": "stream",
     "text": [
      "\r",
      " \r"
     ]
    },
    {
     "data": {
      "application/vnd.jupyter.widget-view+json": {
       "model_id": "",
       "version_major": 2,
       "version_minor": 0
      },
      "text/plain": [
       "HBox(children=(IntProgress(value=0, description='TCGA-2J-AABO-01A_HTSeq-Counts.txt.gz', max=256, style=Progres…"
      ]
     },
     "metadata": {},
     "output_type": "display_data"
    },
    {
     "name": "stdout",
     "output_type": "stream",
     "text": [
      "\r",
      " \r"
     ]
    },
    {
     "data": {
      "application/vnd.jupyter.widget-view+json": {
       "model_id": "",
       "version_major": 2,
       "version_minor": 0
      },
      "text/plain": [
       "HBox(children=(IntProgress(value=0, description='TCGA-2J-AABA-01A_HTSeq-FPKM.txt.gz', max=522, style=ProgressS…"
      ]
     },
     "metadata": {},
     "output_type": "display_data"
    },
    {
     "name": "stdout",
     "output_type": "stream",
     "text": [
      "\r",
      " \r"
     ]
    },
    {
     "data": {
      "application/vnd.jupyter.widget-view+json": {
       "model_id": "",
       "version_major": 2,
       "version_minor": 0
      },
      "text/plain": [
       "HBox(children=(IntProgress(value=0, description='TCGA-IB-7644-01A_HTSeq-FPKM.txt.gz', max=522, style=ProgressS…"
      ]
     },
     "metadata": {},
     "output_type": "display_data"
    },
    {
     "name": "stdout",
     "output_type": "stream",
     "text": [
      "\r",
      " \r"
     ]
    },
    {
     "data": {
      "application/vnd.jupyter.widget-view+json": {
       "model_id": "",
       "version_major": 2,
       "version_minor": 0
      },
      "text/plain": [
       "HBox(children=(IntProgress(value=0, description='TCGA-FB-AAPQ-01A_HTSeq-Counts.txt.gz', max=256, style=Progres…"
      ]
     },
     "metadata": {},
     "output_type": "display_data"
    },
    {
     "name": "stdout",
     "output_type": "stream",
     "text": [
      "\r",
      " \r"
     ]
    },
    {
     "data": {
      "application/vnd.jupyter.widget-view+json": {
       "model_id": "",
       "version_major": 2,
       "version_minor": 0
      },
      "text/plain": [
       "HBox(children=(IntProgress(value=0, description='TCGA-US-A77J-01A_HTSeq-FPKM.txt.gz', max=522, style=ProgressS…"
      ]
     },
     "metadata": {},
     "output_type": "display_data"
    },
    {
     "name": "stdout",
     "output_type": "stream",
     "text": [
      "\r",
      " \r"
     ]
    },
    {
     "data": {
      "application/vnd.jupyter.widget-view+json": {
       "model_id": "",
       "version_major": 2,
       "version_minor": 0
      },
      "text/plain": [
       "HBox(children=(IntProgress(value=0, description='TCGA-HZ-8636-01A_HTSeq-FPKM-UQ.txt.gz', max=563, style=Progre…"
      ]
     },
     "metadata": {},
     "output_type": "display_data"
    },
    {
     "name": "stdout",
     "output_type": "stream",
     "text": [
      "\r",
      " \r"
     ]
    },
    {
     "data": {
      "application/vnd.jupyter.widget-view+json": {
       "model_id": "",
       "version_major": 2,
       "version_minor": 0
      },
      "text/plain": [
       "HBox(children=(IntProgress(value=0, description='TCGA-FB-A4P5-01A_HTSeq-FPKM.txt.gz', max=522, style=ProgressS…"
      ]
     },
     "metadata": {},
     "output_type": "display_data"
    },
    {
     "name": "stdout",
     "output_type": "stream",
     "text": [
      "\r",
      " \r"
     ]
    },
    {
     "data": {
      "application/vnd.jupyter.widget-view+json": {
       "model_id": "",
       "version_major": 2,
       "version_minor": 0
      },
      "text/plain": [
       "HBox(children=(IntProgress(value=0, description='TCGA-RB-A7B8-01A_HTSeq-FPKM.txt.gz', max=532, style=ProgressS…"
      ]
     },
     "metadata": {},
     "output_type": "display_data"
    },
    {
     "name": "stdout",
     "output_type": "stream",
     "text": [
      "\r",
      " \r"
     ]
    },
    {
     "data": {
      "application/vnd.jupyter.widget-view+json": {
       "model_id": "",
       "version_major": 2,
       "version_minor": 0
      },
      "text/plain": [
       "HBox(children=(IntProgress(value=0, description='TCGA-3A-A9IB-01A_HTSeq-FPKM-UQ.txt.gz', max=543, style=Progre…"
      ]
     },
     "metadata": {},
     "output_type": "display_data"
    },
    {
     "name": "stdout",
     "output_type": "stream",
     "text": [
      "\r",
      " \r"
     ]
    },
    {
     "data": {
      "application/vnd.jupyter.widget-view+json": {
       "model_id": "",
       "version_major": 2,
       "version_minor": 0
      },
      "text/plain": [
       "HBox(children=(IntProgress(value=0, description='TCGA-XD-AAUG-01A_HTSeq-FPKM.txt.gz', max=532, style=ProgressS…"
      ]
     },
     "metadata": {},
     "output_type": "display_data"
    },
    {
     "name": "stdout",
     "output_type": "stream",
     "text": [
      "\r",
      " \r"
     ]
    },
    {
     "data": {
      "application/vnd.jupyter.widget-view+json": {
       "model_id": "",
       "version_major": 2,
       "version_minor": 0
      },
      "text/plain": [
       "HBox(children=(IntProgress(value=0, description='TCGA-HZ-8519-01A_HTSeq-Counts.txt.gz', max=266, style=Progres…"
      ]
     },
     "metadata": {},
     "output_type": "display_data"
    },
    {
     "name": "stdout",
     "output_type": "stream",
     "text": [
      "\r",
      " \r"
     ]
    },
    {
     "data": {
      "application/vnd.jupyter.widget-view+json": {
       "model_id": "",
       "version_major": 2,
       "version_minor": 0
      },
      "text/plain": [
       "HBox(children=(IntProgress(value=0, description='TCGA-2J-AABH-01A_HTSeq-FPKM-UQ.txt.gz', max=543, style=Progre…"
      ]
     },
     "metadata": {},
     "output_type": "display_data"
    },
    {
     "name": "stdout",
     "output_type": "stream",
     "text": [
      "\r",
      " \r"
     ]
    },
    {
     "data": {
      "application/vnd.jupyter.widget-view+json": {
       "model_id": "",
       "version_major": 2,
       "version_minor": 0
      },
      "text/plain": [
       "HBox(children=(IntProgress(value=0, description='TCGA-US-A77E-01A_HTSeq-FPKM.txt.gz', max=543, style=ProgressS…"
      ]
     },
     "metadata": {},
     "output_type": "display_data"
    },
    {
     "name": "stdout",
     "output_type": "stream",
     "text": [
      "\r",
      " \r"
     ]
    },
    {
     "data": {
      "application/vnd.jupyter.widget-view+json": {
       "model_id": "",
       "version_major": 2,
       "version_minor": 0
      },
      "text/plain": [
       "HBox(children=(IntProgress(value=0, description='TCGA-2J-AABH-01A_HTSeq-FPKM.txt.gz', max=532, style=ProgressS…"
      ]
     },
     "metadata": {},
     "output_type": "display_data"
    },
    {
     "name": "stdout",
     "output_type": "stream",
     "text": [
      "\r",
      " \r"
     ]
    },
    {
     "data": {
      "application/vnd.jupyter.widget-view+json": {
       "model_id": "",
       "version_major": 2,
       "version_minor": 0
      },
      "text/plain": [
       "HBox(children=(IntProgress(value=0, description='TCGA-HV-A5A3-01A_HTSeq-FPKM.txt.gz', max=512, style=ProgressS…"
      ]
     },
     "metadata": {},
     "output_type": "display_data"
    },
    {
     "name": "stdout",
     "output_type": "stream",
     "text": [
      "\r",
      " \r"
     ]
    },
    {
     "data": {
      "application/vnd.jupyter.widget-view+json": {
       "model_id": "",
       "version_major": 2,
       "version_minor": 0
      },
      "text/plain": [
       "HBox(children=(IntProgress(value=0, description='TCGA-RL-AAAS-01A_HTSeq-FPKM-UQ.txt.gz', max=522, style=Progre…"
      ]
     },
     "metadata": {},
     "output_type": "display_data"
    },
    {
     "name": "stdout",
     "output_type": "stream",
     "text": [
      "\r",
      " \r"
     ]
    },
    {
     "data": {
      "application/vnd.jupyter.widget-view+json": {
       "model_id": "",
       "version_major": 2,
       "version_minor": 0
      },
      "text/plain": [
       "HBox(children=(IntProgress(value=0, description='TCGA-3A-A9IX-01A_HTSeq-Counts.txt.gz', max=266, style=Progres…"
      ]
     },
     "metadata": {},
     "output_type": "display_data"
    },
    {
     "name": "stdout",
     "output_type": "stream",
     "text": [
      "\r",
      " \r"
     ]
    },
    {
     "data": {
      "application/vnd.jupyter.widget-view+json": {
       "model_id": "",
       "version_major": 2,
       "version_minor": 0
      },
      "text/plain": [
       "HBox(children=(IntProgress(value=0, description='TCGA-RB-AA9M-01A_HTSeq-FPKM.txt.gz', max=543, style=ProgressS…"
      ]
     },
     "metadata": {},
     "output_type": "display_data"
    },
    {
     "name": "stdout",
     "output_type": "stream",
     "text": [
      "\r",
      " \r"
     ]
    },
    {
     "data": {
      "application/vnd.jupyter.widget-view+json": {
       "model_id": "",
       "version_major": 2,
       "version_minor": 0
      },
      "text/plain": [
       "HBox(children=(IntProgress(value=0, description='TCGA-F2-6880-01A_HTSeq-Counts.txt.gz', max=246, style=Progres…"
      ]
     },
     "metadata": {},
     "output_type": "display_data"
    },
    {
     "name": "stdout",
     "output_type": "stream",
     "text": [
      "\r",
      " \r"
     ]
    },
    {
     "data": {
      "application/vnd.jupyter.widget-view+json": {
       "model_id": "",
       "version_major": 2,
       "version_minor": 0
      },
      "text/plain": [
       "HBox(children=(IntProgress(value=0, description='TCGA-HV-A5A6-01A_HTSeq-Counts.txt.gz', max=256, style=Progres…"
      ]
     },
     "metadata": {},
     "output_type": "display_data"
    },
    {
     "name": "stdout",
     "output_type": "stream",
     "text": [
      "\r",
      " \r"
     ]
    },
    {
     "data": {
      "application/vnd.jupyter.widget-view+json": {
       "model_id": "",
       "version_major": 2,
       "version_minor": 0
      },
      "text/plain": [
       "HBox(children=(IntProgress(value=0, description='TCGA-FB-AAQ0-01A_HTSeq-FPKM.txt.gz', max=532, style=ProgressS…"
      ]
     },
     "metadata": {},
     "output_type": "display_data"
    },
    {
     "name": "stdout",
     "output_type": "stream",
     "text": [
      "\r",
      " \r"
     ]
    },
    {
     "data": {
      "application/vnd.jupyter.widget-view+json": {
       "model_id": "",
       "version_major": 2,
       "version_minor": 0
      },
      "text/plain": [
       "HBox(children=(IntProgress(value=0, description='TCGA-OE-A75W-01A_HTSeq-FPKM.txt.gz', max=522, style=ProgressS…"
      ]
     },
     "metadata": {},
     "output_type": "display_data"
    },
    {
     "name": "stdout",
     "output_type": "stream",
     "text": [
      "\r",
      " \r"
     ]
    },
    {
     "data": {
      "application/vnd.jupyter.widget-view+json": {
       "model_id": "",
       "version_major": 2,
       "version_minor": 0
      },
      "text/plain": [
       "HBox(children=(IntProgress(value=0, description='TCGA-XN-A8T3-01A_HTSeq-FPKM-UQ.txt.gz', max=543, style=Progre…"
      ]
     },
     "metadata": {},
     "output_type": "display_data"
    },
    {
     "name": "stdout",
     "output_type": "stream",
     "text": [
      "\r",
      " \r"
     ]
    },
    {
     "data": {
      "application/vnd.jupyter.widget-view+json": {
       "model_id": "",
       "version_major": 2,
       "version_minor": 0
      },
      "text/plain": [
       "HBox(children=(IntProgress(value=0, description='TCGA-HZ-A77Q-01A_HTSeq-Counts.txt.gz', max=256, style=Progres…"
      ]
     },
     "metadata": {},
     "output_type": "display_data"
    },
    {
     "name": "stdout",
     "output_type": "stream",
     "text": [
      "\r",
      " \r"
     ]
    },
    {
     "data": {
      "application/vnd.jupyter.widget-view+json": {
       "model_id": "",
       "version_major": 2,
       "version_minor": 0
      },
      "text/plain": [
       "HBox(children=(IntProgress(value=0, description='TCGA-FB-AAQ0-01A_HTSeq-FPKM-UQ.txt.gz', max=532, style=Progre…"
      ]
     },
     "metadata": {},
     "output_type": "display_data"
    },
    {
     "name": "stdout",
     "output_type": "stream",
     "text": [
      "\r",
      " \r"
     ]
    },
    {
     "data": {
      "application/vnd.jupyter.widget-view+json": {
       "model_id": "",
       "version_major": 2,
       "version_minor": 0
      },
      "text/plain": [
       "HBox(children=(IntProgress(value=0, description='TCGA-HZ-7925-01A_HTSeq-FPKM-UQ.txt.gz', max=543, style=Progre…"
      ]
     },
     "metadata": {},
     "output_type": "display_data"
    },
    {
     "name": "stdout",
     "output_type": "stream",
     "text": [
      "\r",
      " \r"
     ]
    },
    {
     "data": {
      "application/vnd.jupyter.widget-view+json": {
       "model_id": "",
       "version_major": 2,
       "version_minor": 0
      },
      "text/plain": [
       "HBox(children=(IntProgress(value=0, description='TCGA-IB-AAUT-01A_HTSeq-FPKM.txt.gz', max=532, style=ProgressS…"
      ]
     },
     "metadata": {},
     "output_type": "display_data"
    },
    {
     "name": "stdout",
     "output_type": "stream",
     "text": [
      "\r",
      " \r"
     ]
    },
    {
     "data": {
      "application/vnd.jupyter.widget-view+json": {
       "model_id": "",
       "version_major": 2,
       "version_minor": 0
      },
      "text/plain": [
       "HBox(children=(IntProgress(value=0, description='TCGA-HZ-7926-01A_HTSeq-Counts.txt.gz', max=266, style=Progres…"
      ]
     },
     "metadata": {},
     "output_type": "display_data"
    },
    {
     "name": "stdout",
     "output_type": "stream",
     "text": [
      "\r",
      " \r"
     ]
    },
    {
     "data": {
      "application/vnd.jupyter.widget-view+json": {
       "model_id": "",
       "version_major": 2,
       "version_minor": 0
      },
      "text/plain": [
       "HBox(children=(IntProgress(value=0, description='TCGA-Q3-A5QY-01A_HTSeq-FPKM-UQ.txt.gz', max=543, style=Progre…"
      ]
     },
     "metadata": {},
     "output_type": "display_data"
    },
    {
     "name": "stdout",
     "output_type": "stream",
     "text": [
      "\r",
      " \r"
     ]
    },
    {
     "data": {
      "application/vnd.jupyter.widget-view+json": {
       "model_id": "",
       "version_major": 2,
       "version_minor": 0
      },
      "text/plain": [
       "HBox(children=(IntProgress(value=0, description='TCGA-HZ-A49H-01A_HTSeq-FPKM-UQ.txt.gz', max=522, style=Progre…"
      ]
     },
     "metadata": {},
     "output_type": "display_data"
    },
    {
     "name": "stdout",
     "output_type": "stream",
     "text": [
      "\r",
      " \r"
     ]
    },
    {
     "data": {
      "application/vnd.jupyter.widget-view+json": {
       "model_id": "",
       "version_major": 2,
       "version_minor": 0
      },
      "text/plain": [
       "HBox(children=(IntProgress(value=0, description='TCGA-PZ-A5RE-01A_HTSeq-FPKM-UQ.txt.gz', max=532, style=Progre…"
      ]
     },
     "metadata": {},
     "output_type": "display_data"
    },
    {
     "name": "stdout",
     "output_type": "stream",
     "text": [
      "\r",
      " \r"
     ]
    },
    {
     "data": {
      "application/vnd.jupyter.widget-view+json": {
       "model_id": "",
       "version_major": 2,
       "version_minor": 0
      },
      "text/plain": [
       "HBox(children=(IntProgress(value=0, description='TCGA-HZ-7918-01A_HTSeq-FPKM-UQ.txt.gz', max=532, style=Progre…"
      ]
     },
     "metadata": {},
     "output_type": "display_data"
    },
    {
     "name": "stdout",
     "output_type": "stream",
     "text": [
      "\r",
      " \r"
     ]
    },
    {
     "data": {
      "application/vnd.jupyter.widget-view+json": {
       "model_id": "",
       "version_major": 2,
       "version_minor": 0
      },
      "text/plain": [
       "HBox(children=(IntProgress(value=0, description='TCGA-F2-6879-01A_HTSeq-FPKM-UQ.txt.gz', max=543, style=Progre…"
      ]
     },
     "metadata": {},
     "output_type": "display_data"
    },
    {
     "name": "stdout",
     "output_type": "stream",
     "text": [
      "\r",
      " \r"
     ]
    },
    {
     "data": {
      "application/vnd.jupyter.widget-view+json": {
       "model_id": "",
       "version_major": 2,
       "version_minor": 0
      },
      "text/plain": [
       "HBox(children=(IntProgress(value=0, description='TCGA-HZ-7925-01A_HTSeq-FPKM.txt.gz', max=543, style=ProgressS…"
      ]
     },
     "metadata": {},
     "output_type": "display_data"
    },
    {
     "name": "stdout",
     "output_type": "stream",
     "text": [
      "\r",
      " \r"
     ]
    },
    {
     "data": {
      "application/vnd.jupyter.widget-view+json": {
       "model_id": "",
       "version_major": 2,
       "version_minor": 0
      },
      "text/plain": [
       "HBox(children=(IntProgress(value=0, description='TCGA-2J-AABH-01A_HTSeq-Counts.txt.gz', max=256, style=Progres…"
      ]
     },
     "metadata": {},
     "output_type": "display_data"
    },
    {
     "name": "stdout",
     "output_type": "stream",
     "text": [
      "\r",
      " \r"
     ]
    },
    {
     "data": {
      "application/vnd.jupyter.widget-view+json": {
       "model_id": "",
       "version_major": 2,
       "version_minor": 0
      },
      "text/plain": [
       "HBox(children=(IntProgress(value=0, description='TCGA-IB-AAUV-01A_HTSeq-FPKM-UQ.txt.gz', max=553, style=Progre…"
      ]
     },
     "metadata": {},
     "output_type": "display_data"
    },
    {
     "name": "stdout",
     "output_type": "stream",
     "text": [
      "\n"
     ]
    },
    {
     "data": {
      "text/plain": [
       "['TCGA-HZ-8005-01A_HTSeq-Counts.txt.gz',\n",
       " 'TCGA-HV-A7OL-01A_HTSeq-FPKM.txt.gz',\n",
       " 'TCGA-FB-AAPQ-01A_HTSeq-FPKM.txt.gz',\n",
       " 'TCGA-FB-AAPS-01A_HTSeq-FPKM-UQ.txt.gz',\n",
       " 'TCGA-3A-A9IB-01A_HTSeq-FPKM.txt.gz',\n",
       " 'TCGA-FB-AAQ3-01A_HTSeq-FPKM-UQ.txt.gz',\n",
       " 'TCGA-IB-AAUU-01A_HTSeq-FPKM-UQ.txt.gz',\n",
       " 'TCGA-H6-A45N-11A_HTSeq-FPKM-UQ.txt.gz',\n",
       " 'TCGA-PZ-A5RE-01A_HTSeq-Counts.txt.gz',\n",
       " 'TCGA-IB-7891-01A_HTSeq-Counts.txt.gz',\n",
       " 'TCGA-2L-AAQE-01A_HTSeq-FPKM.txt.gz',\n",
       " 'TCGA-F2-A7TX-01A_HTSeq-Counts.txt.gz',\n",
       " 'TCGA-OE-A75W-01A_HTSeq-FPKM-UQ.txt.gz',\n",
       " 'TCGA-IB-AAUM-01A_HTSeq-FPKM-UQ.txt.gz',\n",
       " 'TCGA-IB-7649-01A_HTSeq-FPKM-UQ.txt.gz',\n",
       " 'TCGA-HZ-7289-01A_HTSeq-Counts.txt.gz',\n",
       " 'TCGA-IB-AAUR-01A_HTSeq-Counts.txt.gz',\n",
       " 'TCGA-3A-A9IO-01A_HTSeq-FPKM-UQ.txt.gz',\n",
       " 'TCGA-IB-A7LX-01A_HTSeq-FPKM-UQ.txt.gz',\n",
       " 'TCGA-IB-A5SP-01A_HTSeq-FPKM.txt.gz',\n",
       " 'TCGA-2L-AAQM-01A_HTSeq-Counts.txt.gz',\n",
       " 'TCGA-HZ-8636-01A_HTSeq-FPKM.txt.gz',\n",
       " 'TCGA-3A-A9I7-01A_HTSeq-Counts.txt.gz',\n",
       " 'TCGA-3A-A9IH-01A_HTSeq-FPKM-UQ.txt.gz',\n",
       " 'TCGA-3A-A9IU-01A_HTSeq-FPKM.txt.gz',\n",
       " 'TCGA-IB-7897-01A_HTSeq-Counts.txt.gz',\n",
       " 'TCGA-H8-A6C1-01A_HTSeq-Counts.txt.gz',\n",
       " 'TCGA-IB-AAUV-01A_HTSeq-FPKM.txt.gz',\n",
       " 'TCGA-3A-A9J0-01A_HTSeq-FPKM-UQ.txt.gz',\n",
       " 'TCGA-HZ-8317-01A_HTSeq-FPKM-UQ.txt.gz',\n",
       " 'TCGA-FB-A4P6-01A_HTSeq-FPKM.txt.gz',\n",
       " 'TCGA-2J-AABV-01A_HTSeq-FPKM-UQ.txt.gz',\n",
       " 'TCGA-XD-AAUG-01A_HTSeq-FPKM-UQ.txt.gz',\n",
       " 'TCGA-IB-A6UG-01A_HTSeq-FPKM-UQ.txt.gz',\n",
       " 'TCGA-HZ-A49G-01A_HTSeq-FPKM.txt.gz',\n",
       " 'TCGA-FB-AAQ6-01A_HTSeq-FPKM.txt.gz',\n",
       " 'TCGA-3A-A9IN-01A_HTSeq-FPKM.txt.gz',\n",
       " 'TCGA-HZ-7926-01A_HTSeq-FPKM-UQ.txt.gz',\n",
       " 'TCGA-F2-6879-01A_HTSeq-FPKM.txt.gz',\n",
       " 'TCGA-IB-A7LX-01A_HTSeq-Counts.txt.gz',\n",
       " 'TCGA-2J-AAB8-01A_HTSeq-FPKM-UQ.txt.gz',\n",
       " 'TCGA-YH-A8SY-01A_HTSeq-FPKM.txt.gz',\n",
       " 'TCGA-H6-8124-01A_HTSeq-Counts.txt.gz',\n",
       " 'TCGA-YB-A89D-11A_HTSeq-FPKM-UQ.txt.gz',\n",
       " 'TCGA-2J-AAB1-01A_HTSeq-FPKM.txt.gz',\n",
       " 'TCGA-2L-AAQA-01A_HTSeq-Counts.txt.gz',\n",
       " 'TCGA-Q3-AA2A-01A_HTSeq-FPKM.txt.gz',\n",
       " 'TCGA-IB-7645-01A_HTSeq-FPKM-UQ.txt.gz',\n",
       " 'TCGA-HZ-A9TJ-06A_HTSeq-FPKM-UQ.txt.gz',\n",
       " 'TCGA-XN-A8T5-01A_HTSeq-FPKM-UQ.txt.gz',\n",
       " 'TCGA-3A-A9IL-01A_HTSeq-FPKM-UQ.txt.gz',\n",
       " 'TCGA-IB-7649-01A_HTSeq-FPKM.txt.gz',\n",
       " 'TCGA-2J-AABI-01A_HTSeq-Counts.txt.gz',\n",
       " 'TCGA-IB-A5SO-01A_HTSeq-FPKM-UQ.txt.gz',\n",
       " 'TCGA-IB-A6UG-01A_HTSeq-Counts.txt.gz',\n",
       " 'TCGA-IB-7893-01A_HTSeq-Counts.txt.gz',\n",
       " 'TCGA-2L-AAQL-01A_HTSeq-Counts.txt.gz',\n",
       " 'TCGA-3A-A9IU-01A_HTSeq-Counts.txt.gz',\n",
       " 'TCGA-HZ-8638-01A_HTSeq-FPKM.txt.gz',\n",
       " 'TCGA-3E-AAAY-01A_HTSeq-Counts.txt.gz',\n",
       " 'TCGA-2J-AAB9-01A_HTSeq-FPKM.txt.gz',\n",
       " 'TCGA-3A-A9I5-01A_HTSeq-FPKM-UQ.txt.gz',\n",
       " 'TCGA-2L-AAQA-01A_HTSeq-FPKM-UQ.txt.gz',\n",
       " 'TCGA-HZ-7919-01A_HTSeq-Counts.txt.gz',\n",
       " 'TCGA-3A-A9IH-01A_HTSeq-FPKM.txt.gz',\n",
       " 'TCGA-HZ-A9TJ-01A_HTSeq-FPKM-UQ.txt.gz',\n",
       " 'TCGA-F2-7276-01A_HTSeq-FPKM-UQ.txt.gz',\n",
       " 'TCGA-FB-AAQ3-01A_HTSeq-Counts.txt.gz',\n",
       " 'TCGA-IB-AAUO-01A_HTSeq-FPKM.txt.gz',\n",
       " 'TCGA-RB-A7B8-01A_HTSeq-FPKM-UQ.txt.gz',\n",
       " 'TCGA-RB-AA9M-01A_HTSeq-Counts.txt.gz',\n",
       " 'TCGA-FB-AAPY-01A_HTSeq-FPKM.txt.gz',\n",
       " 'TCGA-2J-AAB9-01A_HTSeq-FPKM-UQ.txt.gz',\n",
       " 'TCGA-3A-A9IO-01A_HTSeq-FPKM.txt.gz',\n",
       " 'TCGA-IB-7646-01A_HTSeq-FPKM-UQ.txt.gz',\n",
       " 'TCGA-HV-A5A3-01A_HTSeq-FPKM-UQ.txt.gz',\n",
       " 'TCGA-IB-7646-01A_HTSeq-FPKM.txt.gz',\n",
       " 'TCGA-HZ-7920-01A_HTSeq-FPKM-UQ.txt.gz',\n",
       " 'TCGA-US-A776-01A_HTSeq-FPKM.txt.gz',\n",
       " 'TCGA-3A-A9I9-01A_HTSeq-Counts.txt.gz',\n",
       " 'TCGA-3A-A9IR-01A_HTSeq-FPKM.txt.gz',\n",
       " 'TCGA-IB-7654-01A_HTSeq-FPKM-UQ.txt.gz',\n",
       " 'TCGA-HZ-7923-01A_HTSeq-Counts.txt.gz',\n",
       " 'TCGA-2L-AAQE-01A_HTSeq-Counts.txt.gz',\n",
       " 'TCGA-HZ-7918-01A_HTSeq-FPKM.txt.gz',\n",
       " 'TCGA-L1-A7W4-01A_HTSeq-Counts.txt.gz',\n",
       " 'TCGA-2J-AAB6-01A_HTSeq-FPKM.txt.gz',\n",
       " 'TCGA-HZ-8317-01A_HTSeq-FPKM.txt.gz',\n",
       " 'TCGA-H6-A45N-01A_HTSeq-FPKM.txt.gz',\n",
       " 'TCGA-2J-AABF-01A_HTSeq-Counts.txt.gz',\n",
       " 'TCGA-HZ-7922-01A_HTSeq-FPKM.txt.gz',\n",
       " 'TCGA-HV-A5A6-01A_HTSeq-FPKM-UQ.txt.gz',\n",
       " 'TCGA-XD-AAUH-01A_HTSeq-FPKM.txt.gz',\n",
       " 'TCGA-IB-7890-01A_HTSeq-FPKM.txt.gz',\n",
       " 'TCGA-US-A779-01A_HTSeq-Counts.txt.gz',\n",
       " 'TCGA-2J-AABP-01A_HTSeq-FPKM-UQ.txt.gz',\n",
       " 'TCGA-IB-A7LX-01A_HTSeq-FPKM.txt.gz',\n",
       " 'TCGA-F2-7276-01A_HTSeq-FPKM.txt.gz',\n",
       " 'TCGA-3A-A9IS-01A_HTSeq-FPKM-UQ.txt.gz',\n",
       " 'TCGA-IB-7891-01A_HTSeq-FPKM-UQ.txt.gz',\n",
       " 'TCGA-IB-7886-01A_HTSeq-Counts.txt.gz',\n",
       " 'TCGA-IB-AAUT-01A_HTSeq-FPKM-UQ.txt.gz',\n",
       " 'TCGA-3A-A9I7-01A_HTSeq-FPKM.txt.gz',\n",
       " 'TCGA-FB-A5VM-01A_HTSeq-FPKM.txt.gz',\n",
       " 'TCGA-IB-AAUO-01A_HTSeq-Counts.txt.gz',\n",
       " 'TCGA-2J-AABU-01A_HTSeq-Counts.txt.gz',\n",
       " 'TCGA-2J-AAB4-01A_HTSeq-FPKM.txt.gz',\n",
       " 'TCGA-F2-6880-01A_HTSeq-FPKM.txt.gz',\n",
       " 'TCGA-HZ-A9TJ-01A_HTSeq-Counts.txt.gz',\n",
       " 'TCGA-XD-AAUI-01A_HTSeq-FPKM-UQ.txt.gz',\n",
       " 'TCGA-3A-A9IR-01A_HTSeq-Counts.txt.gz',\n",
       " 'TCGA-HZ-8636-01A_HTSeq-Counts.txt.gz',\n",
       " 'TCGA-IB-8127-01A_HTSeq-FPKM-UQ.txt.gz',\n",
       " 'TCGA-2J-AABE-01A_HTSeq-Counts.txt.gz',\n",
       " 'TCGA-FB-AAPY-01A_HTSeq-FPKM-UQ.txt.gz',\n",
       " 'TCGA-HZ-8003-01A_HTSeq-FPKM.txt.gz',\n",
       " 'TCGA-FB-AAPZ-01A_HTSeq-FPKM.txt.gz',\n",
       " 'TCGA-IB-A5ST-01A_HTSeq-FPKM-UQ.txt.gz',\n",
       " 'TCGA-2J-AABU-01A_HTSeq-FPKM.txt.gz',\n",
       " 'TCGA-IB-AAUW-01A_HTSeq-FPKM.txt.gz',\n",
       " 'TCGA-HV-A5A6-01A_HTSeq-FPKM.txt.gz',\n",
       " 'TCGA-HZ-7920-01A_HTSeq-FPKM.txt.gz',\n",
       " 'TCGA-HZ-8637-01A_HTSeq-FPKM.txt.gz',\n",
       " 'TCGA-IB-AAUP-01A_HTSeq-FPKM-UQ.txt.gz',\n",
       " 'TCGA-M8-A5N4-01A_HTSeq-FPKM.txt.gz',\n",
       " 'TCGA-IB-A5SS-01A_HTSeq-FPKM-UQ.txt.gz',\n",
       " 'TCGA-IB-A5SQ-01A_HTSeq-Counts.txt.gz',\n",
       " 'TCGA-HV-A5A3-11A_HTSeq-FPKM-UQ.txt.gz',\n",
       " 'TCGA-3A-A9IJ-01A_HTSeq-FPKM-UQ.txt.gz',\n",
       " 'TCGA-HV-A7OP-01A_HTSeq-FPKM.txt.gz',\n",
       " 'TCGA-3E-AAAY-01A_HTSeq-FPKM.txt.gz',\n",
       " 'TCGA-3A-A9IR-01A_HTSeq-FPKM-UQ.txt.gz',\n",
       " 'TCGA-HZ-A49I-01A_HTSeq-FPKM.txt.gz',\n",
       " 'TCGA-IB-7646-01A_HTSeq-Counts.txt.gz',\n",
       " 'TCGA-HZ-8638-01A_HTSeq-Counts.txt.gz',\n",
       " 'TCGA-S4-A8RP-01A_HTSeq-Counts.txt.gz',\n",
       " 'TCGA-FB-A78T-01A_HTSeq-FPKM.txt.gz',\n",
       " 'TCGA-3A-A9I5-01A_HTSeq-FPKM.txt.gz',\n",
       " 'TCGA-HZ-A4BH-01A_HTSeq-FPKM-UQ.txt.gz',\n",
       " 'TCGA-YY-A8LH-01A_HTSeq-Counts.txt.gz',\n",
       " 'TCGA-LB-A9Q5-01A_HTSeq-FPKM-UQ.txt.gz',\n",
       " 'TCGA-RL-AAAS-01A_HTSeq-Counts.txt.gz',\n",
       " 'TCGA-US-A77G-01A_HTSeq-Counts.txt.gz',\n",
       " 'TCGA-2L-AAQE-01A_HTSeq-FPKM-UQ.txt.gz',\n",
       " 'TCGA-HZ-A49I-01A_HTSeq-Counts.txt.gz',\n",
       " 'TCGA-L1-A7W4-01A_HTSeq-FPKM.txt.gz',\n",
       " 'TCGA-FB-AAQ6-01A_HTSeq-FPKM-UQ.txt.gz',\n",
       " 'TCGA-3A-A9IC-01A_HTSeq-Counts.txt.gz',\n",
       " 'TCGA-Q3-AA2A-01A_HTSeq-FPKM-UQ.txt.gz',\n",
       " 'TCGA-IB-7649-01A_HTSeq-Counts.txt.gz',\n",
       " 'TCGA-M8-A5N4-01A_HTSeq-FPKM-UQ.txt.gz',\n",
       " 'TCGA-HV-A5A4-01A_HTSeq-FPKM.txt.gz',\n",
       " 'TCGA-YY-A8LH-01A_HTSeq-FPKM.txt.gz',\n",
       " 'TCGA-IB-7644-01A_HTSeq-Counts.txt.gz',\n",
       " 'TCGA-FB-A545-01A_HTSeq-Counts.txt.gz',\n",
       " 'TCGA-H6-8124-01A_HTSeq-FPKM-UQ.txt.gz',\n",
       " 'TCGA-HZ-8519-01A_HTSeq-FPKM.txt.gz',\n",
       " 'TCGA-HV-A5A3-11A_HTSeq-Counts.txt.gz',\n",
       " 'TCGA-HV-AA8X-01A_HTSeq-Counts.txt.gz',\n",
       " 'TCGA-FB-AAPY-01A_HTSeq-Counts.txt.gz',\n",
       " 'TCGA-2J-AABV-01A_HTSeq-FPKM.txt.gz',\n",
       " 'TCGA-IB-A5SQ-01A_HTSeq-FPKM-UQ.txt.gz',\n",
       " 'TCGA-Z5-AAPL-01A_HTSeq-FPKM.txt.gz',\n",
       " 'TCGA-IB-7652-01A_HTSeq-FPKM-UQ.txt.gz',\n",
       " 'TCGA-LB-A8F3-01A_HTSeq-Counts.txt.gz',\n",
       " 'TCGA-HZ-8315-01A_HTSeq-Counts.txt.gz',\n",
       " 'TCGA-FB-AAQ0-01A_HTSeq-Counts.txt.gz',\n",
       " 'TCGA-HV-A7OL-01A_HTSeq-FPKM-UQ.txt.gz',\n",
       " 'TCGA-HZ-8317-01A_HTSeq-Counts.txt.gz',\n",
       " 'TCGA-HZ-8315-01A_HTSeq-FPKM-UQ.txt.gz',\n",
       " 'TCGA-HZ-A49G-01A_HTSeq-FPKM-UQ.txt.gz',\n",
       " 'TCGA-IB-AAUN-01A_HTSeq-Counts.txt.gz',\n",
       " 'TCGA-2J-AAB6-01A_HTSeq-FPKM-UQ.txt.gz',\n",
       " 'TCGA-HZ-A8P1-01A_HTSeq-FPKM-UQ.txt.gz',\n",
       " 'TCGA-2J-AABO-01A_HTSeq-FPKM.txt.gz',\n",
       " 'TCGA-2L-AAQI-01A_HTSeq-FPKM.txt.gz',\n",
       " 'TCGA-IB-AAUT-01A_HTSeq-Counts.txt.gz',\n",
       " 'TCGA-HZ-8519-01A_HTSeq-FPKM-UQ.txt.gz',\n",
       " 'TCGA-IB-7889-01A_HTSeq-Counts.txt.gz',\n",
       " 'TCGA-FB-AAPZ-01A_HTSeq-FPKM-UQ.txt.gz',\n",
       " 'TCGA-2J-AABK-01A_HTSeq-FPKM-UQ.txt.gz',\n",
       " 'TCGA-3A-A9I9-01A_HTSeq-FPKM-UQ.txt.gz',\n",
       " 'TCGA-US-A774-01A_HTSeq-FPKM.txt.gz',\n",
       " 'TCGA-IB-A5SS-01A_HTSeq-FPKM.txt.gz',\n",
       " 'TCGA-FB-AAQ3-01A_HTSeq-FPKM.txt.gz',\n",
       " 'TCGA-H6-A45N-01A_HTSeq-Counts.txt.gz',\n",
       " 'TCGA-HV-A7OP-01A_HTSeq-FPKM-UQ.txt.gz',\n",
       " 'TCGA-YB-A89D-01A_HTSeq-FPKM.txt.gz',\n",
       " 'TCGA-2L-AAQA-01A_HTSeq-FPKM.txt.gz',\n",
       " 'TCGA-XD-AAUL-01A_HTSeq-FPKM.txt.gz',\n",
       " 'TCGA-HV-AA8X-01A_HTSeq-FPKM-UQ.txt.gz',\n",
       " 'TCGA-IB-7651-01A_HTSeq-Counts.txt.gz',\n",
       " 'TCGA-US-A779-01A_HTSeq-FPKM-UQ.txt.gz',\n",
       " 'TCGA-IB-A5SQ-01A_HTSeq-FPKM.txt.gz',\n",
       " 'TCGA-2J-AABA-01A_HTSeq-Counts.txt.gz',\n",
       " 'TCGA-F2-A44H-01A_HTSeq-Counts.txt.gz',\n",
       " 'TCGA-2J-AABF-01A_HTSeq-FPKM.txt.gz',\n",
       " 'TCGA-HZ-8003-01A_HTSeq-FPKM-UQ.txt.gz',\n",
       " 'TCGA-H6-A45N-11A_HTSeq-FPKM.txt.gz',\n",
       " 'TCGA-F2-7273-01A_HTSeq-FPKM-UQ.txt.gz',\n",
       " 'TCGA-IB-7897-01A_HTSeq-FPKM.txt.gz',\n",
       " 'TCGA-HZ-8315-01A_HTSeq-FPKM.txt.gz',\n",
       " 'TCGA-IB-7652-01A_HTSeq-FPKM.txt.gz',\n",
       " 'TCGA-2J-AABE-01A_HTSeq-FPKM.txt.gz',\n",
       " 'TCGA-3A-A9IN-01A_HTSeq-FPKM-UQ.txt.gz',\n",
       " 'TCGA-3A-A9IC-01A_HTSeq-FPKM-UQ.txt.gz',\n",
       " 'TCGA-2J-AAB6-01A_HTSeq-Counts.txt.gz',\n",
       " 'TCGA-FB-A5VM-01A_HTSeq-Counts.txt.gz',\n",
       " 'TCGA-3A-A9I9-01A_HTSeq-FPKM.txt.gz',\n",
       " 'TCGA-HZ-A4BK-01A_HTSeq-FPKM.txt.gz',\n",
       " 'TCGA-F2-7276-01A_HTSeq-Counts.txt.gz',\n",
       " 'TCGA-IB-8126-01A_HTSeq-FPKM-UQ.txt.gz',\n",
       " 'TCGA-2J-AAB4-01A_HTSeq-FPKM-UQ.txt.gz',\n",
       " 'TCGA-IB-A5SS-01A_HTSeq-Counts.txt.gz',\n",
       " 'TCGA-XD-AAUI-01A_HTSeq-FPKM.txt.gz',\n",
       " 'TCGA-XN-A8T3-01A_HTSeq-FPKM.txt.gz',\n",
       " 'TCGA-XD-AAUH-01A_HTSeq-Counts.txt.gz',\n",
       " 'TCGA-RL-AAAS-01A_HTSeq-FPKM.txt.gz',\n",
       " 'TCGA-HZ-8638-01A_HTSeq-FPKM-UQ.txt.gz',\n",
       " 'TCGA-IB-AAUN-01A_HTSeq-FPKM-UQ.txt.gz',\n",
       " 'TCGA-HZ-8002-01A_HTSeq-FPKM.txt.gz',\n",
       " 'TCGA-US-A774-01A_HTSeq-FPKM-UQ.txt.gz',\n",
       " 'TCGA-HZ-7923-01A_HTSeq-FPKM.txt.gz',\n",
       " 'TCGA-2J-AAB4-01A_HTSeq-Counts.txt.gz',\n",
       " 'TCGA-IB-7651-01A_HTSeq-FPKM.txt.gz',\n",
       " 'TCGA-IB-AAUS-01A_HTSeq-FPKM-UQ.txt.gz',\n",
       " 'TCGA-IB-7651-01A_HTSeq-FPKM-UQ.txt.gz',\n",
       " 'TCGA-2J-AAB1-01A_HTSeq-FPKM-UQ.txt.gz',\n",
       " 'TCGA-FB-A4P6-01A_HTSeq-Counts.txt.gz',\n",
       " 'TCGA-IB-AAUR-01A_HTSeq-FPKM.txt.gz',\n",
       " 'TCGA-IB-8126-01A_HTSeq-FPKM.txt.gz',\n",
       " 'TCGA-3E-AAAY-01A_HTSeq-FPKM-UQ.txt.gz',\n",
       " 'TCGA-3A-A9IX-01A_HTSeq-FPKM.txt.gz',\n",
       " 'TCGA-3A-A9IJ-01A_HTSeq-Counts.txt.gz',\n",
       " 'TCGA-IB-7893-01A_HTSeq-FPKM-UQ.txt.gz',\n",
       " 'TCGA-Z5-AAPL-01A_HTSeq-Counts.txt.gz',\n",
       " 'TCGA-IB-AAUN-01A_HTSeq-FPKM.txt.gz',\n",
       " 'TCGA-LB-A7SX-01A_HTSeq-Counts.txt.gz',\n",
       " 'TCGA-2L-AAQL-01A_HTSeq-FPKM-UQ.txt.gz',\n",
       " 'TCGA-F2-A7TX-01A_HTSeq-FPKM.txt.gz',\n",
       " 'TCGA-IB-7890-01A_HTSeq-Counts.txt.gz',\n",
       " 'TCGA-HZ-8003-01A_HTSeq-Counts.txt.gz',\n",
       " 'TCGA-HZ-A49G-01A_HTSeq-Counts.txt.gz',\n",
       " 'TCGA-FB-A545-01A_HTSeq-FPKM.txt.gz',\n",
       " 'TCGA-HZ-8002-01A_HTSeq-FPKM-UQ.txt.gz',\n",
       " 'TCGA-IB-7887-01A_HTSeq-FPKM-UQ.txt.gz',\n",
       " 'TCGA-Q3-A5QY-01A_HTSeq-Counts.txt.gz',\n",
       " 'TCGA-FB-AAQ2-01A_HTSeq-FPKM-UQ.txt.gz',\n",
       " 'TCGA-LB-A7SX-01A_HTSeq-FPKM-UQ.txt.gz',\n",
       " 'TCGA-IB-8127-01A_HTSeq-FPKM.txt.gz',\n",
       " 'TCGA-IB-7645-01A_HTSeq-FPKM.txt.gz',\n",
       " 'TCGA-3A-A9IX-01A_HTSeq-FPKM-UQ.txt.gz',\n",
       " 'TCGA-F2-A8YN-01A_HTSeq-FPKM-UQ.txt.gz',\n",
       " 'TCGA-YB-A89D-01A_HTSeq-Counts.txt.gz',\n",
       " 'TCGA-HV-AA8V-01A_HTSeq-FPKM-UQ.txt.gz',\n",
       " 'TCGA-F2-7273-01A_HTSeq-FPKM.txt.gz',\n",
       " 'TCGA-L1-A7W4-01A_HTSeq-FPKM-UQ.txt.gz',\n",
       " 'TCGA-LB-A8F3-01A_HTSeq-FPKM.txt.gz',\n",
       " 'TCGA-YH-A8SY-01A_HTSeq-FPKM-UQ.txt.gz',\n",
       " 'TCGA-HZ-7925-01A_HTSeq-Counts.txt.gz',\n",
       " 'TCGA-3A-A9IS-01A_HTSeq-Counts.txt.gz',\n",
       " 'TCGA-IB-7889-01A_HTSeq-FPKM-UQ.txt.gz',\n",
       " 'TCGA-HZ-8001-01A_HTSeq-FPKM.txt.gz',\n",
       " 'TCGA-HZ-A77P-01A_HTSeq-FPKM.txt.gz',\n",
       " 'TCGA-2L-AAQM-01A_HTSeq-FPKM.txt.gz',\n",
       " 'TCGA-2J-AAB9-01A_HTSeq-Counts.txt.gz',\n",
       " 'TCGA-IB-A6UG-01A_HTSeq-FPKM.txt.gz',\n",
       " 'TCGA-US-A776-01A_HTSeq-FPKM-UQ.txt.gz',\n",
       " 'TCGA-YH-A8SY-01A_HTSeq-Counts.txt.gz',\n",
       " 'TCGA-3A-A9J0-01A_HTSeq-FPKM.txt.gz',\n",
       " 'TCGA-3A-A9I5-01A_HTSeq-Counts.txt.gz',\n",
       " 'TCGA-HZ-A4BK-01A_HTSeq-Counts.txt.gz',\n",
       " 'TCGA-IB-7891-01A_HTSeq-FPKM.txt.gz',\n",
       " 'TCGA-YB-A89D-11A_HTSeq-Counts.txt.gz',\n",
       " 'TCGA-OE-A75W-01A_HTSeq-Counts.txt.gz',\n",
       " 'TCGA-LB-A8F3-01A_HTSeq-FPKM-UQ.txt.gz',\n",
       " 'TCGA-3A-A9IJ-01A_HTSeq-FPKM.txt.gz',\n",
       " 'TCGA-H8-A6C1-01A_HTSeq-FPKM-UQ.txt.gz',\n",
       " 'TCGA-F2-A7TX-01A_HTSeq-FPKM-UQ.txt.gz',\n",
       " 'TCGA-3A-A9IL-01A_HTSeq-Counts.txt.gz',\n",
       " 'TCGA-IB-7654-01A_HTSeq-Counts.txt.gz',\n",
       " 'TCGA-FB-AAQ1-01A_HTSeq-FPKM.txt.gz',\n",
       " 'TCGA-FB-A7DR-01A_HTSeq-Counts.txt.gz',\n",
       " 'TCGA-IB-AAUQ-01A_HTSeq-Counts.txt.gz',\n",
       " 'TCGA-IB-A7M4-01A_HTSeq-FPKM-UQ.txt.gz',\n",
       " 'TCGA-3A-A9IH-01A_HTSeq-Counts.txt.gz',\n",
       " 'TCGA-Q3-AA2A-01A_HTSeq-Counts.txt.gz',\n",
       " 'TCGA-HZ-A9TJ-06A_HTSeq-FPKM.txt.gz',\n",
       " 'TCGA-3E-AAAZ-01A_HTSeq-FPKM.txt.gz',\n",
       " 'TCGA-3A-A9IZ-01A_HTSeq-FPKM-UQ.txt.gz',\n",
       " 'TCGA-HZ-7918-01A_HTSeq-Counts.txt.gz',\n",
       " 'TCGA-YB-A89D-11A_HTSeq-FPKM.txt.gz',\n",
       " 'TCGA-IB-AAUM-01A_HTSeq-Counts.txt.gz',\n",
       " 'TCGA-HZ-A8P0-01A_HTSeq-Counts.txt.gz',\n",
       " 'TCGA-HZ-A9TJ-06A_HTSeq-Counts.txt.gz',\n",
       " 'TCGA-2J-AABR-01A_HTSeq-FPKM.txt.gz',\n",
       " 'TCGA-HZ-A77O-01A_HTSeq-Counts.txt.gz',\n",
       " 'TCGA-IB-7886-01A_HTSeq-FPKM.txt.gz',\n",
       " 'TCGA-FB-AAPS-01A_HTSeq-FPKM.txt.gz',\n",
       " 'TCGA-H6-A45N-11A_HTSeq-Counts.txt.gz',\n",
       " 'TCGA-FB-AAQ1-01A_HTSeq-Counts.txt.gz',\n",
       " 'TCGA-HZ-7919-01A_HTSeq-FPKM-UQ.txt.gz',\n",
       " 'TCGA-H6-8124-11A_HTSeq-FPKM-UQ.txt.gz',\n",
       " 'TCGA-2J-AABF-01A_HTSeq-FPKM-UQ.txt.gz',\n",
       " 'TCGA-H6-8124-01A_HTSeq-FPKM.txt.gz',\n",
       " 'TCGA-IB-7893-01A_HTSeq-FPKM.txt.gz',\n",
       " 'TCGA-HZ-7924-01A_HTSeq-FPKM-UQ.txt.gz',\n",
       " 'TCGA-2J-AABT-01A_HTSeq-FPKM.txt.gz',\n",
       " 'TCGA-Z5-AAPL-01A_HTSeq-FPKM-UQ.txt.gz',\n",
       " 'TCGA-US-A77G-01A_HTSeq-FPKM-UQ.txt.gz',\n",
       " 'TCGA-HZ-8637-01A_HTSeq-Counts.txt.gz',\n",
       " 'TCGA-HV-A5A3-01A_HTSeq-Counts.txt.gz',\n",
       " 'TCGA-FB-A7DR-01A_HTSeq-FPKM.txt.gz',\n",
       " 'TCGA-H8-A6C1-01A_HTSeq-FPKM.txt.gz',\n",
       " 'TCGA-FB-A545-01A_HTSeq-FPKM-UQ.txt.gz',\n",
       " 'TCGA-H6-8124-11A_HTSeq-Counts.txt.gz',\n",
       " 'TCGA-FB-AAPQ-01A_HTSeq-FPKM-UQ.txt.gz',\n",
       " 'TCGA-RB-AA9M-01A_HTSeq-FPKM-UQ.txt.gz',\n",
       " 'TCGA-2J-AABR-01A_HTSeq-FPKM-UQ.txt.gz',\n",
       " 'TCGA-HZ-A77Q-01A_HTSeq-FPKM-UQ.txt.gz',\n",
       " 'TCGA-3A-A9IZ-01A_HTSeq-FPKM.txt.gz',\n",
       " 'TCGA-3A-A9IV-01A_HTSeq-FPKM.txt.gz',\n",
       " 'TCGA-IB-A6UF-01A_HTSeq-Counts.txt.gz',\n",
       " 'TCGA-F2-A8YN-01A_HTSeq-Counts.txt.gz',\n",
       " 'TCGA-IB-7887-01A_HTSeq-FPKM.txt.gz',\n",
       " 'TCGA-IB-AAUV-01A_HTSeq-Counts.txt.gz',\n",
       " 'TCGA-3A-A9IU-01A_HTSeq-FPKM-UQ.txt.gz',\n",
       " 'TCGA-3A-A9J0-01A_HTSeq-Counts.txt.gz',\n",
       " 'TCGA-3A-A9I7-01A_HTSeq-FPKM-UQ.txt.gz',\n",
       " 'TCGA-HZ-8637-01A_HTSeq-FPKM-UQ.txt.gz',\n",
       " 'TCGA-IB-7888-01A_HTSeq-FPKM-UQ.txt.gz',\n",
       " 'TCGA-FB-AAPU-01A_HTSeq-FPKM-UQ.txt.gz',\n",
       " 'TCGA-Q3-A5QY-01A_HTSeq-FPKM.txt.gz',\n",
       " 'TCGA-IB-7888-01A_HTSeq-Counts.txt.gz',\n",
       " 'TCGA-2L-AAQL-01A_HTSeq-FPKM.txt.gz',\n",
       " 'TCGA-HZ-A49H-01A_HTSeq-Counts.txt.gz',\n",
       " 'TCGA-IB-AAUM-01A_HTSeq-FPKM.txt.gz',\n",
       " 'TCGA-S4-A8RM-01A_HTSeq-FPKM-UQ.txt.gz',\n",
       " 'TCGA-F2-6879-01A_HTSeq-Counts.txt.gz',\n",
       " 'TCGA-HV-A5A3-11A_HTSeq-FPKM.txt.gz',\n",
       " 'TCGA-IB-A7M4-01A_HTSeq-Counts.txt.gz',\n",
       " 'TCGA-3A-A9IV-01A_HTSeq-Counts.txt.gz',\n",
       " 'TCGA-YB-A89D-01A_HTSeq-FPKM-UQ.txt.gz',\n",
       " 'TCGA-HZ-A77P-01A_HTSeq-Counts.txt.gz',\n",
       " 'TCGA-IB-7889-01A_HTSeq-FPKM.txt.gz',\n",
       " 'TCGA-HZ-8002-01A_HTSeq-Counts.txt.gz',\n",
       " 'TCGA-IB-7885-01A_HTSeq-FPKM-UQ.txt.gz',\n",
       " 'TCGA-2J-AAB8-01A_HTSeq-Counts.txt.gz',\n",
       " 'TCGA-HZ-A9TJ-01A_HTSeq-FPKM.txt.gz',\n",
       " 'TCGA-XN-A8T3-01A_HTSeq-Counts.txt.gz',\n",
       " 'TCGA-FB-AAQ6-01A_HTSeq-Counts.txt.gz',\n",
       " 'TCGA-FB-A78T-01A_HTSeq-FPKM-UQ.txt.gz',\n",
       " 'TCGA-2J-AABK-01A_HTSeq-FPKM.txt.gz',\n",
       " 'TCGA-3A-A9IZ-01A_HTSeq-Counts.txt.gz',\n",
       " 'TCGA-HZ-A49H-01A_HTSeq-FPKM.txt.gz',\n",
       " 'TCGA-F2-A8YN-01A_HTSeq-FPKM.txt.gz',\n",
       " 'TCGA-US-A77G-01A_HTSeq-FPKM.txt.gz',\n",
       " 'TCGA-HZ-A77O-01A_HTSeq-FPKM.txt.gz',\n",
       " 'TCGA-IB-AAUW-01A_HTSeq-Counts.txt.gz',\n",
       " 'TCGA-HV-A5A5-01A_HTSeq-Counts.txt.gz',\n",
       " 'TCGA-XD-AAUI-01A_HTSeq-Counts.txt.gz',\n",
       " 'TCGA-S4-A8RP-01A_HTSeq-FPKM.txt.gz',\n",
       " 'TCGA-2L-AAQI-01A_HTSeq-FPKM-UQ.txt.gz',\n",
       " 'TCGA-FB-AAQ1-01A_HTSeq-FPKM-UQ.txt.gz',\n",
       " 'TCGA-IB-8126-01A_HTSeq-Counts.txt.gz',\n",
       " 'TCGA-HV-A7OP-01A_HTSeq-Counts.txt.gz',\n",
       " 'TCGA-YY-A8LH-01A_HTSeq-FPKM-UQ.txt.gz',\n",
       " 'TCGA-HZ-7924-01A_HTSeq-FPKM.txt.gz',\n",
       " 'TCGA-LB-A9Q5-01A_HTSeq-Counts.txt.gz',\n",
       " 'TCGA-US-A779-01A_HTSeq-FPKM.txt.gz',\n",
       " 'TCGA-2J-AABT-01A_HTSeq-Counts.txt.gz',\n",
       " 'TCGA-HV-A5A4-01A_HTSeq-Counts.txt.gz',\n",
       " 'TCGA-IB-AAUS-01A_HTSeq-Counts.txt.gz',\n",
       " 'TCGA-FB-AAPP-01A_HTSeq-FPKM-UQ.txt.gz',\n",
       " 'TCGA-IB-8127-01A_HTSeq-Counts.txt.gz',\n",
       " 'TCGA-PZ-A5RE-01A_HTSeq-FPKM.txt.gz',\n",
       " 'TCGA-H6-8124-11A_HTSeq-FPKM.txt.gz',\n",
       " 'TCGA-FB-AAQ2-01A_HTSeq-Counts.txt.gz',\n",
       " 'TCGA-HZ-8001-01A_HTSeq-FPKM-UQ.txt.gz',\n",
       " 'TCGA-FB-AAPP-01A_HTSeq-Counts.txt.gz',\n",
       " 'TCGA-FB-AAPU-01A_HTSeq-FPKM.txt.gz',\n",
       " 'TCGA-IB-A5SP-01A_HTSeq-FPKM-UQ.txt.gz',\n",
       " 'TCGA-HZ-7289-01A_HTSeq-FPKM-UQ.txt.gz',\n",
       " 'TCGA-FB-A5VM-01A_HTSeq-FPKM-UQ.txt.gz',\n",
       " 'TCGA-XD-AAUH-01A_HTSeq-FPKM-UQ.txt.gz',\n",
       " 'TCGA-S4-A8RM-01A_HTSeq-FPKM.txt.gz',\n",
       " 'TCGA-F2-7273-01A_HTSeq-Counts.txt.gz',\n",
       " 'TCGA-HZ-7923-01A_HTSeq-FPKM-UQ.txt.gz',\n",
       " 'TCGA-HZ-8001-01A_HTSeq-Counts.txt.gz',\n",
       " 'TCGA-IB-AAUQ-01A_HTSeq-FPKM.txt.gz',\n",
       " 'TCGA-HZ-A4BH-01A_HTSeq-Counts.txt.gz',\n",
       " 'TCGA-3A-A9IN-01A_HTSeq-Counts.txt.gz',\n",
       " 'TCGA-HZ-7922-01A_HTSeq-Counts.txt.gz',\n",
       " 'TCGA-IB-7885-01A_HTSeq-FPKM.txt.gz',\n",
       " 'TCGA-IB-7888-01A_HTSeq-FPKM.txt.gz',\n",
       " 'TCGA-US-A776-01A_HTSeq-Counts.txt.gz',\n",
       " 'TCGA-IB-A5ST-01A_HTSeq-FPKM.txt.gz',\n",
       " 'TCGA-3A-A9IL-01A_HTSeq-FPKM.txt.gz',\n",
       " 'TCGA-XD-AAUG-01A_HTSeq-Counts.txt.gz',\n",
       " 'TCGA-IB-AAUW-01A_HTSeq-FPKM-UQ.txt.gz',\n",
       " 'TCGA-IB-A5SO-01A_HTSeq-FPKM.txt.gz',\n",
       " 'TCGA-3A-A9IV-01A_HTSeq-FPKM-UQ.txt.gz',\n",
       " 'TCGA-S4-A8RM-01A_HTSeq-Counts.txt.gz',\n",
       " 'TCGA-IB-AAUQ-01A_HTSeq-FPKM-UQ.txt.gz',\n",
       " 'TCGA-2J-AABT-01A_HTSeq-FPKM-UQ.txt.gz',\n",
       " 'TCGA-2L-AAQJ-01A_HTSeq-FPKM.txt.gz',\n",
       " 'TCGA-3A-A9IS-01A_HTSeq-FPKM.txt.gz',\n",
       " 'TCGA-F2-A44G-01A_HTSeq-FPKM-UQ.txt.gz',\n",
       " 'TCGA-IB-7897-01A_HTSeq-FPKM-UQ.txt.gz',\n",
       " 'TCGA-HV-AA8V-01A_HTSeq-FPKM.txt.gz',\n",
       " 'TCGA-IB-7654-01A_HTSeq-FPKM.txt.gz',\n",
       " 'TCGA-2J-AABO-01A_HTSeq-FPKM-UQ.txt.gz',\n",
       " 'TCGA-HZ-7922-01A_HTSeq-FPKM-UQ.txt.gz',\n",
       " 'TCGA-HV-AA8X-01A_HTSeq-FPKM.txt.gz',\n",
       " 'TCGA-HV-A5A5-01A_HTSeq-FPKM-UQ.txt.gz',\n",
       " 'TCGA-3E-AAAZ-01A_HTSeq-Counts.txt.gz',\n",
       " 'TCGA-IB-7645-01A_HTSeq-Counts.txt.gz',\n",
       " 'TCGA-F2-A44G-01A_HTSeq-FPKM.txt.gz',\n",
       " 'TCGA-2J-AABV-01A_HTSeq-Counts.txt.gz',\n",
       " 'TCGA-IB-AAUP-01A_HTSeq-FPKM.txt.gz',\n",
       " 'TCGA-IB-A5ST-01A_HTSeq-Counts.txt.gz',\n",
       " 'TCGA-US-A77E-01A_HTSeq-Counts.txt.gz',\n",
       " 'TCGA-HZ-A77Q-01A_HTSeq-FPKM.txt.gz',\n",
       " 'TCGA-3A-A9IB-01A_HTSeq-Counts.txt.gz',\n",
       " 'TCGA-H6-A45N-01A_HTSeq-FPKM-UQ.txt.gz',\n",
       " 'TCGA-FB-A7DR-01A_HTSeq-FPKM-UQ.txt.gz',\n",
       " 'TCGA-US-A77J-01A_HTSeq-Counts.txt.gz',\n",
       " 'TCGA-HZ-8005-01A_HTSeq-FPKM-UQ.txt.gz',\n",
       " 'TCGA-FB-A4P5-01A_HTSeq-Counts.txt.gz',\n",
       " 'TCGA-HZ-A8P0-01A_HTSeq-FPKM.txt.gz',\n",
       " 'TCGA-XN-A8T5-01A_HTSeq-FPKM.txt.gz',\n",
       " 'TCGA-IB-A6UF-01A_HTSeq-FPKM-UQ.txt.gz',\n",
       " 'TCGA-2J-AABP-01A_HTSeq-FPKM.txt.gz',\n",
       " 'TCGA-2L-AAQM-01A_HTSeq-FPKM-UQ.txt.gz',\n",
       " 'TCGA-HZ-7919-01A_HTSeq-FPKM.txt.gz',\n",
       " 'TCGA-FB-A4P5-01A_HTSeq-FPKM-UQ.txt.gz',\n",
       " 'TCGA-3A-A9IC-01A_HTSeq-FPKM.txt.gz',\n",
       " 'TCGA-F2-A44G-01A_HTSeq-Counts.txt.gz',\n",
       " 'TCGA-F2-A44H-01A_HTSeq-FPKM.txt.gz',\n",
       " 'TCGA-IB-7886-01A_HTSeq-FPKM-UQ.txt.gz',\n",
       " 'TCGA-HZ-A4BK-01A_HTSeq-FPKM-UQ.txt.gz',\n",
       " 'TCGA-3E-AAAZ-01A_HTSeq-FPKM-UQ.txt.gz',\n",
       " 'TCGA-RB-A7B8-01A_HTSeq-Counts.txt.gz',\n",
       " 'TCGA-XD-AAUL-01A_HTSeq-Counts.txt.gz',\n",
       " 'TCGA-IB-A5SO-01A_HTSeq-Counts.txt.gz',\n",
       " 'TCGA-US-A774-01A_HTSeq-Counts.txt.gz',\n",
       " 'TCGA-IB-A7M4-01A_HTSeq-FPKM.txt.gz',\n",
       " 'TCGA-IB-AAUR-01A_HTSeq-FPKM-UQ.txt.gz',\n",
       " 'TCGA-IB-7652-01A_HTSeq-Counts.txt.gz',\n",
       " 'TCGA-2J-AABA-01A_HTSeq-FPKM-UQ.txt.gz',\n",
       " 'TCGA-2J-AABU-01A_HTSeq-FPKM-UQ.txt.gz',\n",
       " 'TCGA-2J-AAB8-01A_HTSeq-FPKM.txt.gz',\n",
       " 'TCGA-F2-6880-01A_HTSeq-FPKM-UQ.txt.gz',\n",
       " 'TCGA-IB-AAUO-01A_HTSeq-FPKM-UQ.txt.gz',\n",
       " 'TCGA-2J-AABE-01A_HTSeq-FPKM-UQ.txt.gz',\n",
       " 'TCGA-2L-AAQJ-01A_HTSeq-Counts.txt.gz',\n",
       " 'TCGA-2J-AABI-01A_HTSeq-FPKM-UQ.txt.gz',\n",
       " 'TCGA-FB-A4P6-01A_HTSeq-FPKM-UQ.txt.gz',\n",
       " 'TCGA-HZ-A8P1-01A_HTSeq-FPKM.txt.gz',\n",
       " 'TCGA-HZ-A8P1-01A_HTSeq-Counts.txt.gz',\n",
       " 'TCGA-HZ-A8P0-01A_HTSeq-FPKM-UQ.txt.gz',\n",
       " 'TCGA-HZ-7289-01A_HTSeq-FPKM.txt.gz',\n",
       " 'TCGA-FB-AAPZ-01A_HTSeq-Counts.txt.gz',\n",
       " 'TCGA-XN-A8T5-01A_HTSeq-Counts.txt.gz',\n",
       " 'TCGA-IB-A6UF-01A_HTSeq-FPKM.txt.gz',\n",
       " 'TCGA-2J-AABP-01A_HTSeq-Counts.txt.gz',\n",
       " 'TCGA-2J-AAB1-01A_HTSeq-Counts.txt.gz',\n",
       " 'TCGA-S4-A8RP-01A_HTSeq-FPKM-UQ.txt.gz',\n",
       " 'TCGA-XD-AAUL-01A_HTSeq-FPKM-UQ.txt.gz',\n",
       " 'TCGA-2J-AABR-01A_HTSeq-Counts.txt.gz',\n",
       " 'TCGA-HV-A7OL-01A_HTSeq-Counts.txt.gz',\n",
       " 'TCGA-FB-AAPU-01A_HTSeq-Counts.txt.gz',\n",
       " 'TCGA-HV-A5A5-01A_HTSeq-FPKM.txt.gz',\n",
       " 'TCGA-2J-AABK-01A_HTSeq-Counts.txt.gz',\n",
       " 'TCGA-HZ-A77P-01A_HTSeq-FPKM-UQ.txt.gz',\n",
       " 'TCGA-US-A77J-01A_HTSeq-FPKM-UQ.txt.gz',\n",
       " 'TCGA-IB-7887-01A_HTSeq-Counts.txt.gz',\n",
       " 'TCGA-HZ-7920-01A_HTSeq-Counts.txt.gz',\n",
       " 'TCGA-2L-AAQJ-01A_HTSeq-FPKM-UQ.txt.gz',\n",
       " 'TCGA-HV-A5A4-01A_HTSeq-FPKM-UQ.txt.gz',\n",
       " 'TCGA-FB-AAPP-01A_HTSeq-FPKM.txt.gz',\n",
       " 'TCGA-LB-A9Q5-01A_HTSeq-FPKM.txt.gz',\n",
       " 'TCGA-2L-AAQI-01A_HTSeq-Counts.txt.gz',\n",
       " 'TCGA-HZ-A4BH-01A_HTSeq-FPKM.txt.gz',\n",
       " 'TCGA-HV-AA8V-01A_HTSeq-Counts.txt.gz',\n",
       " 'TCGA-S4-A8RO-01A_HTSeq-FPKM.txt.gz',\n",
       " 'TCGA-HZ-7924-01A_HTSeq-Counts.txt.gz',\n",
       " 'TCGA-2J-AABI-01A_HTSeq-FPKM.txt.gz',\n",
       " 'TCGA-US-A77E-01A_HTSeq-FPKM-UQ.txt.gz',\n",
       " 'TCGA-3A-A9IO-01A_HTSeq-Counts.txt.gz',\n",
       " 'TCGA-FB-A78T-01A_HTSeq-Counts.txt.gz',\n",
       " 'TCGA-LB-A7SX-01A_HTSeq-FPKM.txt.gz',\n",
       " 'TCGA-IB-AAUS-01A_HTSeq-FPKM.txt.gz',\n",
       " 'TCGA-IB-AAUP-01A_HTSeq-Counts.txt.gz',\n",
       " 'TCGA-IB-7644-01A_HTSeq-FPKM-UQ.txt.gz',\n",
       " 'TCGA-IB-AAUU-01A_HTSeq-Counts.txt.gz',\n",
       " 'TCGA-M8-A5N4-01A_HTSeq-Counts.txt.gz',\n",
       " 'TCGA-IB-A5SP-01A_HTSeq-Counts.txt.gz',\n",
       " 'TCGA-S4-A8RO-01A_HTSeq-FPKM-UQ.txt.gz',\n",
       " 'TCGA-HZ-A49I-01A_HTSeq-FPKM-UQ.txt.gz',\n",
       " 'TCGA-F2-A44H-01A_HTSeq-FPKM-UQ.txt.gz',\n",
       " 'TCGA-HZ-7926-01A_HTSeq-FPKM.txt.gz',\n",
       " 'TCGA-IB-AAUU-01A_HTSeq-FPKM.txt.gz',\n",
       " 'TCGA-FB-AAPS-01A_HTSeq-Counts.txt.gz',\n",
       " 'TCGA-IB-7885-01A_HTSeq-Counts.txt.gz',\n",
       " 'TCGA-IB-7890-01A_HTSeq-FPKM-UQ.txt.gz',\n",
       " 'TCGA-HZ-A77O-01A_HTSeq-FPKM-UQ.txt.gz',\n",
       " 'TCGA-HZ-8005-01A_HTSeq-FPKM.txt.gz',\n",
       " 'TCGA-S4-A8RO-01A_HTSeq-Counts.txt.gz',\n",
       " 'TCGA-2J-AABO-01A_HTSeq-Counts.txt.gz',\n",
       " 'TCGA-FB-AAQ2-01A_HTSeq-FPKM.txt.gz',\n",
       " 'TCGA-FB-AAPQ-01A_HTSeq-Counts.txt.gz',\n",
       " 'TCGA-2J-AABA-01A_HTSeq-FPKM.txt.gz',\n",
       " 'TCGA-IB-7644-01A_HTSeq-FPKM.txt.gz',\n",
       " 'TCGA-US-A77J-01A_HTSeq-FPKM.txt.gz',\n",
       " 'TCGA-FB-A4P5-01A_HTSeq-FPKM.txt.gz',\n",
       " 'TCGA-HZ-8636-01A_HTSeq-FPKM-UQ.txt.gz',\n",
       " 'TCGA-RB-A7B8-01A_HTSeq-FPKM.txt.gz',\n",
       " 'TCGA-3A-A9IB-01A_HTSeq-FPKM-UQ.txt.gz',\n",
       " 'TCGA-HZ-8519-01A_HTSeq-Counts.txt.gz',\n",
       " 'TCGA-XD-AAUG-01A_HTSeq-FPKM.txt.gz',\n",
       " 'TCGA-2J-AABH-01A_HTSeq-FPKM-UQ.txt.gz',\n",
       " 'TCGA-3A-A9IX-01A_HTSeq-Counts.txt.gz',\n",
       " 'TCGA-US-A77E-01A_HTSeq-FPKM.txt.gz',\n",
       " 'TCGA-HV-A5A3-01A_HTSeq-FPKM.txt.gz',\n",
       " 'TCGA-RL-AAAS-01A_HTSeq-FPKM-UQ.txt.gz',\n",
       " 'TCGA-2J-AABH-01A_HTSeq-FPKM.txt.gz',\n",
       " 'TCGA-F2-6880-01A_HTSeq-Counts.txt.gz',\n",
       " 'TCGA-RB-AA9M-01A_HTSeq-FPKM.txt.gz',\n",
       " 'TCGA-HV-A5A6-01A_HTSeq-Counts.txt.gz',\n",
       " 'TCGA-OE-A75W-01A_HTSeq-FPKM.txt.gz',\n",
       " 'TCGA-FB-AAQ0-01A_HTSeq-FPKM.txt.gz',\n",
       " 'TCGA-HZ-A77Q-01A_HTSeq-Counts.txt.gz',\n",
       " 'TCGA-XN-A8T3-01A_HTSeq-FPKM-UQ.txt.gz',\n",
       " 'TCGA-HZ-7925-01A_HTSeq-FPKM-UQ.txt.gz',\n",
       " 'TCGA-FB-AAQ0-01A_HTSeq-FPKM-UQ.txt.gz',\n",
       " 'TCGA-HZ-7926-01A_HTSeq-Counts.txt.gz',\n",
       " 'TCGA-IB-AAUT-01A_HTSeq-FPKM.txt.gz',\n",
       " 'TCGA-Q3-A5QY-01A_HTSeq-FPKM-UQ.txt.gz',\n",
       " 'TCGA-HZ-7918-01A_HTSeq-FPKM-UQ.txt.gz',\n",
       " 'TCGA-2J-AABH-01A_HTSeq-Counts.txt.gz',\n",
       " 'TCGA-F2-6879-01A_HTSeq-FPKM-UQ.txt.gz',\n",
       " 'TCGA-PZ-A5RE-01A_HTSeq-FPKM-UQ.txt.gz',\n",
       " 'TCGA-HZ-7925-01A_HTSeq-FPKM.txt.gz',\n",
       " 'TCGA-HZ-A49H-01A_HTSeq-FPKM-UQ.txt.gz',\n",
       " 'TCGA-IB-AAUV-01A_HTSeq-FPKM-UQ.txt.gz']"
      ]
     },
     "execution_count": 39,
     "metadata": {},
     "output_type": "execute_result"
    }
   ],
   "source": [
    "files = api_download_iterative(rnaseq_df, rnaseq_path, multiprocess=8)"
   ]
  },
  {
   "cell_type": "code",
   "execution_count": 42,
   "metadata": {},
   "outputs": [],
   "source": [
    "def gunzip(source_filepath, dest_filepath):\n",
    "    with gzip.open(source_filepath, 'rb') as s_file:\n",
    "        with open(dest_filepath, 'wb') as d_file:\n",
    "            shutil.copyfileobj(s_file, d_file)"
   ]
  },
  {
   "cell_type": "code",
   "execution_count": 51,
   "metadata": {},
   "outputs": [],
   "source": [
    "for file_name in files:\n",
    "    \n",
    "    source_filepath = os.path.join(rnaseq_path, file_name)\n",
    "    dest_filepath = re.sub('\\.gz$', '', source_filepath)\n",
    "    \n",
    "    gunzip(source_filepath, dest_filepath)\n",
    "    os.remove(source_filepath)"
   ]
  }
 ],
 "metadata": {
  "kernelspec": {
   "display_name": "Python 3",
   "language": "python",
   "name": "python3"
  },
  "language_info": {
   "codemirror_mode": {
    "name": "ipython",
    "version": 3
   },
   "file_extension": ".py",
   "mimetype": "text/x-python",
   "name": "python",
   "nbconvert_exporter": "python",
   "pygments_lexer": "ipython3",
   "version": "3.7.1"
  }
 },
 "nbformat": 4,
 "nbformat_minor": 2
}
