{
 "cells": [
  {
   "cell_type": "code",
   "execution_count": 18,
   "metadata": {},
   "outputs": [
    {
     "name": "stdout",
     "output_type": "stream",
     "text": [
      "The autoreload extension is already loaded. To reload it, use:\n",
      "  %reload_ext autoreload\n"
     ]
    }
   ],
   "source": [
    "%load_ext autoreload\n",
    "%autoreload 2"
   ]
  },
  {
   "cell_type": "code",
   "execution_count": 19,
   "metadata": {},
   "outputs": [],
   "source": [
    "%matplotlib inline"
   ]
  },
  {
   "cell_type": "markdown",
   "metadata": {},
   "source": [
    "# Obtención de patches"
   ]
  },
  {
   "cell_type": "markdown",
   "metadata": {},
   "source": [
    "Las imágenes en formato _svs_ son muy útiles para los médicos en ayuda al diagnóstico y para análisis individualizados debido a su alta resolución pero este formato no es válido como entrada a una red neuronal. \n",
    "\n",
    "Por un lado es necesaria la conversión a un formato de una única capa como _png_ o _jpg_ en lugar del formato piramidal _svs_. \n",
    "\n",
    "El otro problema es la resolución, de miles por miles de pixeles, una resolución de 1024x1024 ya significa que la capa de entrada de la red neuronal tiene más de un millón de neuronas; en en el caso de imágenes en blanco y negro, a color habría que multiplicar por 3 al tener 3 canales. Para solucionar este problema se divive cada imagen en *patches* (parches), cuadrados más pequeños sobre imagen original. \n",
    "\n",
    "En este Notebook se realizará el parcheado de cada una de las imágenes descargadas anteriormente, guardando en formato .png cada uno de los *patches* obtenidos.\n",
    "\n",
    "Para entender bien este concepto de _patching_ sobre una imagen SVS se recomienda ver el ejemplo en el notebook *wsi_patching_example.ipynb* o su correspondiente html *wsi_patching_example.html*"
   ]
  },
  {
   "cell_type": "markdown",
   "metadata": {},
   "source": [
    "**Librerías**"
   ]
  },
  {
   "cell_type": "code",
   "execution_count": 138,
   "metadata": {},
   "outputs": [],
   "source": [
    "import yaml\n",
    "import os\n",
    "import openslide\n",
    "import pandas as pd\n",
    "pd.set_option('display.max_colwidth', -1)\n",
    "\n",
    "import matplotlib.image as mpimg\n",
    "from matplotlib import pyplot as plt\n",
    "\n",
    "try:\n",
    "    get_ipython()\n",
    "    from tqdm import tqdm_notebook as tqdm\n",
    "except:\n",
    "    from tqdm import tqdm"
   ]
  },
  {
   "cell_type": "code",
   "execution_count": 131,
   "metadata": {},
   "outputs": [],
   "source": [
    "from wsi.slide import thumbnail\n",
    "from wsi.patch import patch_slides"
   ]
  },
  {
   "cell_type": "markdown",
   "metadata": {},
   "source": [
    "**Config**"
   ]
  },
  {
   "cell_type": "code",
   "execution_count": 133,
   "metadata": {},
   "outputs": [],
   "source": [
    "with open('conf/user_conf.yaml', 'r') as f:\n",
    "    conf = yaml.load(f)"
   ]
  },
  {
   "cell_type": "markdown",
   "metadata": {},
   "source": [
    "__Creación de rutas__\n",
    "\n",
    "Se crean los directorios para guardar las imágenes de salida."
   ]
  },
  {
   "cell_type": "code",
   "execution_count": 9,
   "metadata": {},
   "outputs": [],
   "source": [
    "slides_path = os.path.join(conf['data_path'], 'slides', 'svs')"
   ]
  },
  {
   "cell_type": "code",
   "execution_count": 10,
   "metadata": {},
   "outputs": [],
   "source": [
    "patches_path = os.path.join(conf['data_path'], 'slides', 'patches')\n",
    "\n",
    "if not os.path.exists(patches_path):\n",
    "    os.mkdir(patches_path)"
   ]
  },
  {
   "cell_type": "code",
   "execution_count": 11,
   "metadata": {},
   "outputs": [],
   "source": [
    "thumbnails_path = os.path.join(conf['data_path'], 'slides', 'thumbnail')\n",
    "\n",
    "if not os.path.exists(thumbnails_path):\n",
    "    os.mkdir(thumbnails_path)"
   ]
  },
  {
   "cell_type": "markdown",
   "metadata": {},
   "source": [
    "**Lectura de DataFrame de slides**\n",
    "\n",
    "Se lee el DataFrame de slides para obtener el nombre de todas las imágenes descargadas. Se filtra por imágenes contenidas en el directorio por si alguna no hubiera podido ser descargada."
   ]
  },
  {
   "cell_type": "code",
   "execution_count": 13,
   "metadata": {},
   "outputs": [],
   "source": [
    "slides_df = pd.read_csv(os.path.join(conf['data_path'], 'slides_metadata.csv'), sep='|')\n",
    "slides_df = slides_df[slides_df['file_name'].isin(os.listdir(slides_path))]"
   ]
  },
  {
   "cell_type": "code",
   "execution_count": 140,
   "metadata": {},
   "outputs": [
    {
     "data": {
      "text/html": [
       "<div>\n",
       "<style scoped>\n",
       "    .dataframe tbody tr th:only-of-type {\n",
       "        vertical-align: middle;\n",
       "    }\n",
       "\n",
       "    .dataframe tbody tr th {\n",
       "        vertical-align: top;\n",
       "    }\n",
       "\n",
       "    .dataframe thead th {\n",
       "        text-align: right;\n",
       "    }\n",
       "</style>\n",
       "<table border=\"1\" class=\"dataframe\">\n",
       "  <thead>\n",
       "    <tr style=\"text-align: right;\">\n",
       "      <th></th>\n",
       "      <th>file_id</th>\n",
       "      <th>case_id</th>\n",
       "      <th>sample_id</th>\n",
       "      <th>slide_id</th>\n",
       "      <th>data_type</th>\n",
       "      <th>experimental_strategy</th>\n",
       "      <th>data_format</th>\n",
       "      <th>file_size</th>\n",
       "      <th>file_name</th>\n",
       "      <th>primary_site</th>\n",
       "      <th>disease_type</th>\n",
       "      <th>sample_type</th>\n",
       "      <th>is_ffpe</th>\n",
       "      <th>percent_normal_cells</th>\n",
       "      <th>percent_stromal_cells</th>\n",
       "      <th>percent_tumor_cells</th>\n",
       "      <th>percent_tumor_nuclei</th>\n",
       "    </tr>\n",
       "  </thead>\n",
       "  <tbody>\n",
       "    <tr>\n",
       "      <th>0</th>\n",
       "      <td>e1daa3de-3f76-44fb-ba6b-f60af4943ef3</td>\n",
       "      <td>TCGA-2J-AABR</td>\n",
       "      <td>TCGA-2J-AABR-01A</td>\n",
       "      <td>TCGA-2J-AABR-01A-01-TS1</td>\n",
       "      <td>Slide Image</td>\n",
       "      <td>Tissue Slide</td>\n",
       "      <td>SVS</td>\n",
       "      <td>381.90</td>\n",
       "      <td>TCGA-2J-AABR-01A-01-TS1.svs</td>\n",
       "      <td>Pancreas</td>\n",
       "      <td>Ductal and Lobular Neoplasms</td>\n",
       "      <td>Primary Tumor</td>\n",
       "      <td>False</td>\n",
       "      <td>65.0</td>\n",
       "      <td>0.0</td>\n",
       "      <td>35.0</td>\n",
       "      <td>20.0</td>\n",
       "    </tr>\n",
       "    <tr>\n",
       "      <th>1</th>\n",
       "      <td>dfa7125a-e250-4abf-a528-608dded99751</td>\n",
       "      <td>TCGA-US-A77G</td>\n",
       "      <td>TCGA-US-A77G-11A</td>\n",
       "      <td>TCGA-US-A77G-11A-01-TSA</td>\n",
       "      <td>Slide Image</td>\n",
       "      <td>Tissue Slide</td>\n",
       "      <td>SVS</td>\n",
       "      <td>24.74</td>\n",
       "      <td>TCGA-US-A77G-11A-01-TSA.svs</td>\n",
       "      <td>Pancreas</td>\n",
       "      <td>Ductal and Lobular Neoplasms</td>\n",
       "      <td>Solid Tissue Normal</td>\n",
       "      <td>False</td>\n",
       "      <td>15.0</td>\n",
       "      <td>85.0</td>\n",
       "      <td>0.0</td>\n",
       "      <td>0.0</td>\n",
       "    </tr>\n",
       "  </tbody>\n",
       "</table>\n",
       "</div>"
      ],
      "text/plain": [
       "                                file_id       case_id         sample_id  \\\n",
       "0  e1daa3de-3f76-44fb-ba6b-f60af4943ef3  TCGA-2J-AABR  TCGA-2J-AABR-01A   \n",
       "1  dfa7125a-e250-4abf-a528-608dded99751  TCGA-US-A77G  TCGA-US-A77G-11A   \n",
       "\n",
       "                  slide_id    data_type experimental_strategy data_format  \\\n",
       "0  TCGA-2J-AABR-01A-01-TS1  Slide Image  Tissue Slide          SVS          \n",
       "1  TCGA-US-A77G-11A-01-TSA  Slide Image  Tissue Slide          SVS          \n",
       "\n",
       "   file_size                    file_name primary_site  \\\n",
       "0  381.90     TCGA-2J-AABR-01A-01-TS1.svs  Pancreas      \n",
       "1  24.74      TCGA-US-A77G-11A-01-TSA.svs  Pancreas      \n",
       "\n",
       "                   disease_type          sample_type  is_ffpe  \\\n",
       "0  Ductal and Lobular Neoplasms  Primary Tumor        False     \n",
       "1  Ductal and Lobular Neoplasms  Solid Tissue Normal  False     \n",
       "\n",
       "   percent_normal_cells  percent_stromal_cells  percent_tumor_cells  \\\n",
       "0  65.0                  0.0                    35.0                  \n",
       "1  15.0                  85.0                   0.0                   \n",
       "\n",
       "   percent_tumor_nuclei  \n",
       "0  20.0                  \n",
       "1  0.0                   "
      ]
     },
     "execution_count": 140,
     "metadata": {},
     "output_type": "execute_result"
    }
   ],
   "source": [
    "slides_df.head(2)"
   ]
  },
  {
   "cell_type": "code",
   "execution_count": 15,
   "metadata": {},
   "outputs": [
    {
     "data": {
      "text/plain": [
       "experimental_strategy  sample_type        \n",
       "Tissue Slide           Metastatic               1\n",
       "                       Primary Tumor          219\n",
       "                       Solid Tissue Normal     37\n",
       "dtype: int64"
      ]
     },
     "execution_count": 15,
     "metadata": {},
     "output_type": "execute_result"
    }
   ],
   "source": [
    "slides_df.groupby(['experimental_strategy', 'sample_type']).size()"
   ]
  },
  {
   "cell_type": "markdown",
   "metadata": {},
   "source": [
    "## Guarda miniaturas"
   ]
  },
  {
   "cell_type": "markdown",
   "metadata": {},
   "source": [
    "Para facilitar el trabajo cuando se quiera visualizar una imagen al completo se guardará en formato .png una una imágen en baja resolución de la imagen SVS original. De esta manera no será necesario utilizar herramientas de lectura de imágenes SVS para hacerse una idea de la estructura completa de una lámina.\n",
    "\n",
    "La resolución de esta imagen de sale se selecciona en el fichero de configuración bajo el parámetro *thumbnail_size*."
   ]
  },
  {
   "cell_type": "code",
   "execution_count": 135,
   "metadata": {},
   "outputs": [
    {
     "data": {
      "text/plain": [
       "1024"
      ]
     },
     "execution_count": 135,
     "metadata": {},
     "output_type": "execute_result"
    }
   ],
   "source": [
    "conf['wsi']['thumbnail_size']"
   ]
  },
  {
   "cell_type": "code",
   "execution_count": null,
   "metadata": {},
   "outputs": [],
   "source": [
    "for file in tqdm(slides_df['file_name'].values, unit='file'):\n",
    "    \n",
    "    os_img = openslide.open_slide(os.path.join(slides_path, file))\n",
    "    img = thumbnail(os_img, max_size=conf['wsi']['thumbnail_size'])\n",
    "    \n",
    "    img.save(os.path.join(thumbnails_path, file.replace('.svs', '.png')))"
   ]
  },
  {
   "cell_type": "markdown",
   "metadata": {},
   "source": [
    "## Patching"
   ]
  },
  {
   "cell_type": "markdown",
   "metadata": {},
   "source": [
    "Finalmente se realiza el parcheado de cada una de las imágenes. La función *patch_slides* recibe una lista de nombres de ficheros y almacena todos los *patches* generados en un directorio. Los parámetros que se pueden modificar sobre el parcheado son los siguienes:\n",
    "* _patch_size_: tamaño en píxeles de cada uno de los cuadrados.\n",
    "* _magnification_: nivel de aumento microscópico sobre el que realizar el parcheado. A mayor aumento mayor resolución de la imágen original y por tanto mayor número de parches.\n",
    "* *white_pixel_threshold*: es el umbral del porcentaje máximo de píxeles blancos que puede tener un parche para ser aceptado (ver notebook the ejemplo).\n",
    "* sampling: tasa de muestreo de los parches. Cuando se utilizan niveles de aumento elevados el número de parches es muy alto y se recomienda hacer un muestreo."
   ]
  },
  {
   "cell_type": "code",
   "execution_count": 151,
   "metadata": {},
   "outputs": [
    {
     "data": {
      "text/plain": [
       "{'magnification': 10,\n",
       " 'patch_size': 128,\n",
       " 'thumbnail_size': 1024,\n",
       " 'white_pixel_threshold': 20,\n",
       " 'sampling': 0.2}"
      ]
     },
     "execution_count": 151,
     "metadata": {},
     "output_type": "execute_result"
    }
   ],
   "source": [
    "conf['wsi']"
   ]
  },
  {
   "cell_type": "code",
   "execution_count": 141,
   "metadata": {},
   "outputs": [
    {
     "data": {
      "text/plain": [
       "0    /Users/portizdegalisteo/TFM_Data/slides/svs/TCGA-2J-AABR-01A-01-TS1.svs\n",
       "1    /Users/portizdegalisteo/TFM_Data/slides/svs/TCGA-US-A77G-11A-01-TSA.svs\n",
       "2    /Users/portizdegalisteo/TFM_Data/slides/svs/TCGA-S4-A8RM-01A-01-TSA.svs\n",
       "3    /Users/portizdegalisteo/TFM_Data/slides/svs/TCGA-FZ-5926-01A-01-TS1.svs\n",
       "4    /Users/portizdegalisteo/TFM_Data/slides/svs/TCGA-IB-A7LX-01A-01-TSA.svs\n",
       "Name: file_name, dtype: object"
      ]
     },
     "execution_count": 141,
     "metadata": {},
     "output_type": "execute_result"
    }
   ],
   "source": [
    "slide_files = slides_df['file_name'].map(lambda x: os.path.join(slides_path, x))\n",
    "slide_files.iloc[:5]"
   ]
  },
  {
   "cell_type": "code",
   "execution_count": null,
   "metadata": {},
   "outputs": [],
   "source": [
    "results = patch_slides(slide_files, patches_path, conf['wsi']['patch_size'],  conf['wsi']['magnification'], \n",
    "                       conf['wsi']['white_pixel_threshold'], conf['wsi']['sampling'])"
   ]
  },
  {
   "cell_type": "markdown",
   "metadata": {},
   "source": [
    "Además de guardar los parches la función también devolverá un DataFrame con un resumen de los resultados para cada imágen, indicando el total de parches generados y cuántos de ellos fueron guardados."
   ]
  },
  {
   "cell_type": "code",
   "execution_count": 146,
   "metadata": {},
   "outputs": [
    {
     "data": {
      "text/html": [
       "<div>\n",
       "<style scoped>\n",
       "    .dataframe tbody tr th:only-of-type {\n",
       "        vertical-align: middle;\n",
       "    }\n",
       "\n",
       "    .dataframe tbody tr th {\n",
       "        vertical-align: top;\n",
       "    }\n",
       "\n",
       "    .dataframe thead th {\n",
       "        text-align: right;\n",
       "    }\n",
       "</style>\n",
       "<table border=\"1\" class=\"dataframe\">\n",
       "  <thead>\n",
       "    <tr style=\"text-align: right;\">\n",
       "      <th></th>\n",
       "      <th>file</th>\n",
       "      <th>total_patches</th>\n",
       "      <th>saved_patches</th>\n",
       "      <th>perc_saved_patches</th>\n",
       "    </tr>\n",
       "  </thead>\n",
       "  <tbody>\n",
       "    <tr>\n",
       "      <th>0</th>\n",
       "      <td>TCGA-2J-AABR-01A-01-TS1.svs</td>\n",
       "      <td>106</td>\n",
       "      <td>8</td>\n",
       "      <td>0.08</td>\n",
       "    </tr>\n",
       "    <tr>\n",
       "      <th>1</th>\n",
       "      <td>TCGA-US-A77G-11A-01-TSA.svs</td>\n",
       "      <td>25</td>\n",
       "      <td>0</td>\n",
       "      <td>0.00</td>\n",
       "    </tr>\n",
       "    <tr>\n",
       "      <th>2</th>\n",
       "      <td>TCGA-S4-A8RM-01A-01-TSA.svs</td>\n",
       "      <td>59</td>\n",
       "      <td>5</td>\n",
       "      <td>0.08</td>\n",
       "    </tr>\n",
       "    <tr>\n",
       "      <th>3</th>\n",
       "      <td>TCGA-FZ-5926-01A-01-TS1.svs</td>\n",
       "      <td>33</td>\n",
       "      <td>9</td>\n",
       "      <td>0.27</td>\n",
       "    </tr>\n",
       "    <tr>\n",
       "      <th>4</th>\n",
       "      <td>TCGA-IB-A7LX-01A-01-TSA.svs</td>\n",
       "      <td>59</td>\n",
       "      <td>12</td>\n",
       "      <td>0.20</td>\n",
       "    </tr>\n",
       "  </tbody>\n",
       "</table>\n",
       "</div>"
      ],
      "text/plain": [
       "                          file  total_patches  saved_patches  \\\n",
       "0  TCGA-2J-AABR-01A-01-TS1.svs  106            8               \n",
       "1  TCGA-US-A77G-11A-01-TSA.svs  25             0               \n",
       "2  TCGA-S4-A8RM-01A-01-TSA.svs  59             5               \n",
       "3  TCGA-FZ-5926-01A-01-TS1.svs  33             9               \n",
       "4  TCGA-IB-A7LX-01A-01-TSA.svs  59             12              \n",
       "\n",
       "   perc_saved_patches  \n",
       "0  0.08                \n",
       "1  0.00                \n",
       "2  0.08                \n",
       "3  0.27                \n",
       "4  0.20                "
      ]
     },
     "execution_count": 146,
     "metadata": {},
     "output_type": "execute_result"
    }
   ],
   "source": [
    "results.head(5)"
   ]
  },
  {
   "cell_type": "code",
   "execution_count": 156,
   "metadata": {},
   "outputs": [
    {
     "data": {
      "text/plain": [
       "150529"
      ]
     },
     "execution_count": 156,
     "metadata": {},
     "output_type": "execute_result"
    }
   ],
   "source": [
    "results['total_patches'].sum()"
   ]
  },
  {
   "cell_type": "code",
   "execution_count": 158,
   "metadata": {},
   "outputs": [
    {
     "data": {
      "text/plain": [
       "22299"
      ]
     },
     "execution_count": 158,
     "metadata": {},
     "output_type": "execute_result"
    }
   ],
   "source": [
    "results['saved_patches'].sum()"
   ]
  },
  {
   "cell_type": "code",
   "execution_count": 160,
   "metadata": {},
   "outputs": [
    {
     "data": {
      "text/plain": [
       "0.17"
      ]
     },
     "execution_count": 160,
     "metadata": {},
     "output_type": "execute_result"
    }
   ],
   "source": [
    "round(results['perc_saved_patches'].mean(), 2)"
   ]
  },
  {
   "cell_type": "code",
   "execution_count": 20,
   "metadata": {},
   "outputs": [],
   "source": [
    "results.to_csv(os.path.join(conf['data_path'], 'patching_results.csv'), sep='|', index=False)"
   ]
  }
 ],
 "metadata": {
  "kernelspec": {
   "display_name": "Python 3",
   "language": "python",
   "name": "python3"
  },
  "language_info": {
   "codemirror_mode": {
    "name": "ipython",
    "version": 3
   },
   "file_extension": ".py",
   "mimetype": "text/x-python",
   "name": "python",
   "nbconvert_exporter": "python",
   "pygments_lexer": "ipython3",
   "version": "3.7.1"
  }
 },
 "nbformat": 4,
 "nbformat_minor": 2
}
