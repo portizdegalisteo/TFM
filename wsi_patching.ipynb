{
 "cells": [
  {
   "cell_type": "code",
   "execution_count": 1,
   "metadata": {},
   "outputs": [],
   "source": [
    "%load_ext autoreload\n",
    "%autoreload 2"
   ]
  },
  {
   "cell_type": "code",
   "execution_count": 2,
   "metadata": {},
   "outputs": [],
   "source": [
    "%matplotlib inline"
   ]
  },
  {
   "cell_type": "code",
   "execution_count": 3,
   "metadata": {},
   "outputs": [],
   "source": [
    "import yaml\n",
    "import os\n",
    "import openslide\n",
    "import pandas as pd\n",
    "\n",
    "import matplotlib.image as mpimg\n",
    "from matplotlib import pyplot as plt\n",
    "\n",
    "try:\n",
    "    get_ipython()\n",
    "    from tqdm import tqdm_notebook as tqdm\n",
    "except:\n",
    "    from tqdm import tqdm"
   ]
  },
  {
   "cell_type": "code",
   "execution_count": 4,
   "metadata": {},
   "outputs": [],
   "source": [
    "from wsi.slide import thumbnail\n",
    "from wsi.patch import patch_slides"
   ]
  },
  {
   "cell_type": "code",
   "execution_count": 5,
   "metadata": {},
   "outputs": [
    {
     "name": "stderr",
     "output_type": "stream",
     "text": [
      "/home/jupyter/anaconda3/lib/python3.7/site-packages/ipykernel_launcher.py:2: YAMLLoadWarning: calling yaml.load() without Loader=... is deprecated, as the default Loader is unsafe. Please read https://msg.pyyaml.org/load for full details.\n",
      "  \n"
     ]
    }
   ],
   "source": [
    "with open('conf/user_conf.yaml', 'r') as f:\n",
    "    conf = yaml.load(f)"
   ]
  },
  {
   "cell_type": "markdown",
   "metadata": {},
   "source": [
    "**Config**"
   ]
  },
  {
   "cell_type": "code",
   "execution_count": 6,
   "metadata": {},
   "outputs": [],
   "source": [
    "slides_path = os.path.join(conf['data_path'], 'slides', 'svs')"
   ]
  },
  {
   "cell_type": "code",
   "execution_count": 7,
   "metadata": {},
   "outputs": [],
   "source": [
    "patches_path = os.path.join(conf['data_path'], 'slides', 'patches')\n",
    "\n",
    "if not os.path.exists(patches_path):\n",
    "    os.mkdir(patches_path)"
   ]
  },
  {
   "cell_type": "code",
   "execution_count": 8,
   "metadata": {},
   "outputs": [],
   "source": [
    "thumbnails_path = os.path.join(conf['data_path'], 'slides', 'thumbnail')\n",
    "\n",
    "if not os.path.exists(thumbnails_path):\n",
    "    os.mkdir(thumbnails_path)"
   ]
  },
  {
   "cell_type": "code",
   "execution_count": 9,
   "metadata": {},
   "outputs": [],
   "source": [
    "slides_df = pd.read_csv(os.path.join(conf['data_path'], 'slides_metadata.csv'), sep='|')"
   ]
  },
  {
   "cell_type": "code",
   "execution_count": 10,
   "metadata": {},
   "outputs": [],
   "source": [
    "slides_df = pd.read_csv(os.path.join(conf['data_path'], 'slides_metadata.csv'), sep='|')\n",
    "slides_df = slides_df[slides_df['file_name'].isin(os.listdir(slides_path))]"
   ]
  },
  {
   "cell_type": "code",
   "execution_count": 11,
   "metadata": {},
   "outputs": [
    {
     "data": {
      "text/html": [
       "<div>\n",
       "<style scoped>\n",
       "    .dataframe tbody tr th:only-of-type {\n",
       "        vertical-align: middle;\n",
       "    }\n",
       "\n",
       "    .dataframe tbody tr th {\n",
       "        vertical-align: top;\n",
       "    }\n",
       "\n",
       "    .dataframe thead th {\n",
       "        text-align: right;\n",
       "    }\n",
       "</style>\n",
       "<table border=\"1\" class=\"dataframe\">\n",
       "  <thead>\n",
       "    <tr style=\"text-align: right;\">\n",
       "      <th></th>\n",
       "      <th>file_id</th>\n",
       "      <th>case_id</th>\n",
       "      <th>sample_id</th>\n",
       "      <th>slide_id</th>\n",
       "      <th>data_type</th>\n",
       "      <th>experimental_strategy</th>\n",
       "      <th>data_format</th>\n",
       "      <th>file_size</th>\n",
       "      <th>file_name</th>\n",
       "      <th>primary_site</th>\n",
       "      <th>disease_type</th>\n",
       "      <th>sample_type</th>\n",
       "      <th>is_ffpe</th>\n",
       "      <th>percent_normal_cells</th>\n",
       "      <th>percent_stromal_cells</th>\n",
       "      <th>percent_tumor_cells</th>\n",
       "      <th>percent_tumor_nuclei</th>\n",
       "    </tr>\n",
       "  </thead>\n",
       "  <tbody>\n",
       "    <tr>\n",
       "      <th>0</th>\n",
       "      <td>ddce0ab5-47b7-43c2-8d67-3d50c48d8ae7</td>\n",
       "      <td>TCGA-2L-AAQM</td>\n",
       "      <td>TCGA-2L-AAQM-11A</td>\n",
       "      <td>TCGA-2L-AAQM-11A-01-TSA</td>\n",
       "      <td>Slide Image</td>\n",
       "      <td>Tissue Slide</td>\n",
       "      <td>SVS</td>\n",
       "      <td>60.99</td>\n",
       "      <td>TCGA-2L-AAQM-11A-01-TSA.svs</td>\n",
       "      <td>Pancreas</td>\n",
       "      <td>Adenomas and Adenocarcinomas</td>\n",
       "      <td>Solid Tissue Normal</td>\n",
       "      <td>False</td>\n",
       "      <td>60.0</td>\n",
       "      <td>40.0</td>\n",
       "      <td>0.0</td>\n",
       "      <td>0.0</td>\n",
       "    </tr>\n",
       "    <tr>\n",
       "      <th>1</th>\n",
       "      <td>7ec5c9d0-8c22-4e30-bae8-605c3dcfe744</td>\n",
       "      <td>TCGA-HZ-A49I</td>\n",
       "      <td>TCGA-HZ-A49I-01A</td>\n",
       "      <td>TCGA-HZ-A49I-01A-01-TS1</td>\n",
       "      <td>Slide Image</td>\n",
       "      <td>Tissue Slide</td>\n",
       "      <td>SVS</td>\n",
       "      <td>293.72</td>\n",
       "      <td>TCGA-HZ-A49I-01A-01-TS1.svs</td>\n",
       "      <td>Pancreas</td>\n",
       "      <td>Ductal and Lobular Neoplasms</td>\n",
       "      <td>Primary Tumor</td>\n",
       "      <td>False</td>\n",
       "      <td>40.0</td>\n",
       "      <td>55.0</td>\n",
       "      <td>5.0</td>\n",
       "      <td>5.0</td>\n",
       "    </tr>\n",
       "  </tbody>\n",
       "</table>\n",
       "</div>"
      ],
      "text/plain": [
       "                                file_id       case_id         sample_id  \\\n",
       "0  ddce0ab5-47b7-43c2-8d67-3d50c48d8ae7  TCGA-2L-AAQM  TCGA-2L-AAQM-11A   \n",
       "1  7ec5c9d0-8c22-4e30-bae8-605c3dcfe744  TCGA-HZ-A49I  TCGA-HZ-A49I-01A   \n",
       "\n",
       "                  slide_id    data_type experimental_strategy data_format  \\\n",
       "0  TCGA-2L-AAQM-11A-01-TSA  Slide Image          Tissue Slide         SVS   \n",
       "1  TCGA-HZ-A49I-01A-01-TS1  Slide Image          Tissue Slide         SVS   \n",
       "\n",
       "   file_size                    file_name primary_site  \\\n",
       "0      60.99  TCGA-2L-AAQM-11A-01-TSA.svs     Pancreas   \n",
       "1     293.72  TCGA-HZ-A49I-01A-01-TS1.svs     Pancreas   \n",
       "\n",
       "                   disease_type          sample_type  is_ffpe  \\\n",
       "0  Adenomas and Adenocarcinomas  Solid Tissue Normal    False   \n",
       "1  Ductal and Lobular Neoplasms        Primary Tumor    False   \n",
       "\n",
       "   percent_normal_cells  percent_stromal_cells  percent_tumor_cells  \\\n",
       "0                  60.0                   40.0                  0.0   \n",
       "1                  40.0                   55.0                  5.0   \n",
       "\n",
       "   percent_tumor_nuclei  \n",
       "0                   0.0  \n",
       "1                   5.0  "
      ]
     },
     "execution_count": 11,
     "metadata": {},
     "output_type": "execute_result"
    }
   ],
   "source": [
    "slides_df.head(2)"
   ]
  },
  {
   "cell_type": "code",
   "execution_count": 12,
   "metadata": {},
   "outputs": [
    {
     "data": {
      "text/plain": [
       "experimental_strategy  sample_type        \n",
       "Tissue Slide           Metastatic               1\n",
       "                       Primary Tumor          219\n",
       "                       Solid Tissue Normal     37\n",
       "dtype: int64"
      ]
     },
     "execution_count": 12,
     "metadata": {},
     "output_type": "execute_result"
    }
   ],
   "source": [
    "slides_df.groupby(['experimental_strategy', 'sample_type']).size()"
   ]
  },
  {
   "cell_type": "markdown",
   "metadata": {},
   "source": [
    "## Save slide thumbnails"
   ]
  },
  {
   "cell_type": "code",
   "execution_count": 13,
   "metadata": {},
   "outputs": [
    {
     "data": {
      "application/vnd.jupyter.widget-view+json": {
       "model_id": "0c7454d2f6f842f2843a1f0f13a90642",
       "version_major": 2,
       "version_minor": 0
      },
      "text/plain": [
       "HBox(children=(IntProgress(value=0, max=257), HTML(value='')))"
      ]
     },
     "metadata": {},
     "output_type": "display_data"
    },
    {
     "name": "stdout",
     "output_type": "stream",
     "text": [
      "\n"
     ]
    }
   ],
   "source": [
    "for file in tqdm(slides_df['file_name'].values, unit='file'):\n",
    "    \n",
    "    os_img = openslide.open_slide(os.path.join(slides_path, file))\n",
    "    img = thumbnail(os_img, max_size=conf['wsi']['thumbnail_size'])\n",
    "    \n",
    "    img.save(os.path.join(thumbnails_path, file.replace('.svs', '.png')))"
   ]
  },
  {
   "cell_type": "markdown",
   "metadata": {},
   "source": [
    "## Patching"
   ]
  },
  {
   "cell_type": "code",
   "execution_count": 14,
   "metadata": {},
   "outputs": [],
   "source": [
    "slide_files = slides_df['file_name'].map(lambda x: os.path.join(slides_path, x))"
   ]
  },
  {
   "cell_type": "code",
   "execution_count": 15,
   "metadata": {},
   "outputs": [
    {
     "data": {
      "application/vnd.jupyter.widget-view+json": {
       "model_id": "9ef91a46b8eb4cb89271c327699109c2",
       "version_major": 2,
       "version_minor": 0
      },
      "text/plain": [
       "HBox(children=(IntProgress(value=0, max=257), HTML(value='')))"
      ]
     },
     "metadata": {},
     "output_type": "display_data"
    },
    {
     "name": "stdout",
     "output_type": "stream",
     "text": [
      "\n"
     ]
    }
   ],
   "source": [
    "results = patch_slides(slide_files, patches_path, conf['wsi']['patch_size'],  conf['wsi']['magnification'], \n",
    "                       conf['wsi']['white_pixel_threshold'], conf['wsi']['sampling'])"
   ]
  },
  {
   "cell_type": "code",
   "execution_count": 16,
   "metadata": {},
   "outputs": [
    {
     "data": {
      "text/html": [
       "<div>\n",
       "<style scoped>\n",
       "    .dataframe tbody tr th:only-of-type {\n",
       "        vertical-align: middle;\n",
       "    }\n",
       "\n",
       "    .dataframe tbody tr th {\n",
       "        vertical-align: top;\n",
       "    }\n",
       "\n",
       "    .dataframe thead th {\n",
       "        text-align: right;\n",
       "    }\n",
       "</style>\n",
       "<table border=\"1\" class=\"dataframe\">\n",
       "  <thead>\n",
       "    <tr style=\"text-align: right;\">\n",
       "      <th></th>\n",
       "      <th>file</th>\n",
       "      <th>perc_valid_patches</th>\n",
       "      <th>total_patches</th>\n",
       "      <th>valid_patches</th>\n",
       "    </tr>\n",
       "  </thead>\n",
       "  <tbody>\n",
       "    <tr>\n",
       "      <th>0</th>\n",
       "      <td>TCGA-2L-AAQM-11A-01-TSA.svs</td>\n",
       "      <td>0.07</td>\n",
       "      <td>602</td>\n",
       "      <td>42</td>\n",
       "    </tr>\n",
       "    <tr>\n",
       "      <th>1</th>\n",
       "      <td>TCGA-HZ-A49I-01A-01-TS1.svs</td>\n",
       "      <td>0.18</td>\n",
       "      <td>690</td>\n",
       "      <td>125</td>\n",
       "    </tr>\n",
       "    <tr>\n",
       "      <th>2</th>\n",
       "      <td>TCGA-3A-A9IZ-01A-01-TS1.svs</td>\n",
       "      <td>0.16</td>\n",
       "      <td>414</td>\n",
       "      <td>68</td>\n",
       "    </tr>\n",
       "    <tr>\n",
       "      <th>3</th>\n",
       "      <td>TCGA-IB-7891-01A-01-BS1.svs</td>\n",
       "      <td>0.32</td>\n",
       "      <td>527</td>\n",
       "      <td>168</td>\n",
       "    </tr>\n",
       "    <tr>\n",
       "      <th>4</th>\n",
       "      <td>TCGA-IB-A5ST-01A-01-TSA.svs</td>\n",
       "      <td>0.16</td>\n",
       "      <td>912</td>\n",
       "      <td>142</td>\n",
       "    </tr>\n",
       "  </tbody>\n",
       "</table>\n",
       "</div>"
      ],
      "text/plain": [
       "                          file  perc_valid_patches  total_patches  \\\n",
       "0  TCGA-2L-AAQM-11A-01-TSA.svs                0.07            602   \n",
       "1  TCGA-HZ-A49I-01A-01-TS1.svs                0.18            690   \n",
       "2  TCGA-3A-A9IZ-01A-01-TS1.svs                0.16            414   \n",
       "3  TCGA-IB-7891-01A-01-BS1.svs                0.32            527   \n",
       "4  TCGA-IB-A5ST-01A-01-TSA.svs                0.16            912   \n",
       "\n",
       "   valid_patches  \n",
       "0             42  \n",
       "1            125  \n",
       "2             68  \n",
       "3            168  \n",
       "4            142  "
      ]
     },
     "execution_count": 16,
     "metadata": {},
     "output_type": "execute_result"
    }
   ],
   "source": [
    "results.head(5)"
   ]
  },
  {
   "cell_type": "code",
   "execution_count": 17,
   "metadata": {},
   "outputs": [
    {
     "data": {
      "text/plain": [
       "150529"
      ]
     },
     "execution_count": 17,
     "metadata": {},
     "output_type": "execute_result"
    }
   ],
   "source": [
    "results['total_patches'].sum()"
   ]
  },
  {
   "cell_type": "code",
   "execution_count": 18,
   "metadata": {},
   "outputs": [
    {
     "data": {
      "text/plain": [
       "22299"
      ]
     },
     "execution_count": 18,
     "metadata": {},
     "output_type": "execute_result"
    }
   ],
   "source": [
    "results['valid_patches'].sum()"
   ]
  },
  {
   "cell_type": "code",
   "execution_count": 19,
   "metadata": {},
   "outputs": [
    {
     "data": {
      "text/plain": [
       "0.16937743190661472"
      ]
     },
     "execution_count": 19,
     "metadata": {},
     "output_type": "execute_result"
    }
   ],
   "source": [
    "results['perc_valid_patches'].mean()"
   ]
  },
  {
   "cell_type": "code",
   "execution_count": 20,
   "metadata": {},
   "outputs": [],
   "source": [
    "results.to_csv(os.path.join(conf['data_path'], 'patching_results.csv'), sep='|', index=False)"
   ]
  }
 ],
 "metadata": {
  "kernelspec": {
   "display_name": "base",
   "language": "python",
   "name": "base"
  },
  "language_info": {
   "codemirror_mode": {
    "name": "ipython",
    "version": 3
   },
   "file_extension": ".py",
   "mimetype": "text/x-python",
   "name": "python",
   "nbconvert_exporter": "python",
   "pygments_lexer": "ipython3",
   "version": "3.7.3"
  }
 },
 "nbformat": 4,
 "nbformat_minor": 2
}
