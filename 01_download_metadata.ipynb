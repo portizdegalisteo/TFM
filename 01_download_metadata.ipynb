{
 "cells": [
  {
   "cell_type": "code",
   "execution_count": 38,
   "metadata": {},
   "outputs": [
    {
     "name": "stdout",
     "output_type": "stream",
     "text": [
      "The autoreload extension is already loaded. To reload it, use:\n",
      "  %reload_ext autoreload\n"
     ]
    }
   ],
   "source": [
    "%load_ext autoreload\n",
    "%autoreload 2\n",
    "\n",
    "%matplotlib inline"
   ]
  },
  {
   "cell_type": "markdown",
   "metadata": {},
   "source": [
    "# Descarga de Metadatos"
   ]
  },
  {
   "cell_type": "markdown",
   "metadata": {},
   "source": [
    "Primer _Notebook_ a ejecutar para hacer una descarga de datos del servidor de Genomic Data Commons (GDC). Se obtiene información de todos los casos que cumplan el filtro indicado en el fichero de configuración llamado 'cases info'. Para cada uno de esos casos se obtienen los metadatos de las imágenes histólogicas disponibles y de ficheros de datos ómicos. Los datos se guardarán en la ruta indicada en la configuración (*data_path*). Los ficheros de salida son:\n",
    "\n",
    "\n",
    "* cases.csv\n",
    "\n",
    "* slides_metadata.csv\n",
    "\n",
    "* rnaseq_metadata.csv"
   ]
  },
  {
   "cell_type": "markdown",
   "metadata": {},
   "source": [
    "__Packages__"
   ]
  },
  {
   "cell_type": "code",
   "execution_count": 6,
   "metadata": {},
   "outputs": [],
   "source": [
    "from gdc.metadata import get_rnaseq_metadata\n",
    "from gdc.metadata import get_slides_metadata\n",
    "from gdc.metadata import get_cases"
   ]
  },
  {
   "cell_type": "code",
   "execution_count": 7,
   "metadata": {},
   "outputs": [],
   "source": [
    "import requests\n",
    "import json\n",
    "import yaml\n",
    "import pandas as pd\n",
    "import io\n",
    "import os"
   ]
  },
  {
   "cell_type": "code",
   "execution_count": 8,
   "metadata": {},
   "outputs": [],
   "source": [
    "pd.options.display.max_columns = 100"
   ]
  },
  {
   "cell_type": "markdown",
   "metadata": {},
   "source": [
    "__Config__"
   ]
  },
  {
   "cell_type": "code",
   "execution_count": 27,
   "metadata": {},
   "outputs": [],
   "source": [
    "with open('conf/user_conf.yaml', 'r') as f:\n",
    "    conf = yaml.load(f)"
   ]
  },
  {
   "cell_type": "markdown",
   "metadata": {},
   "source": [
    "## Cases Data"
   ]
  },
  {
   "cell_type": "markdown",
   "metadata": {},
   "source": [
    "Descarga la información indicada para cada uno de los casos. Se ha seleccionado utilizar todos los datos del proyecto TCGA-PAAD (Pancreatic Adenocarcinoma)."
   ]
  },
  {
   "cell_type": "code",
   "execution_count": 16,
   "metadata": {},
   "outputs": [
    {
     "data": {
      "text/plain": [
       "{'project_id': 'TCGA-PAAD'}"
      ]
     },
     "execution_count": 16,
     "metadata": {},
     "output_type": "execute_result"
    }
   ],
   "source": [
    "conf['cases_info']"
   ]
  },
  {
   "cell_type": "markdown",
   "metadata": {},
   "source": [
    "Los campos a obtener para cada uno de los pacientes también son configurables. Se puede ver una lista de los campos disponibles en la siguiente URL: https://docs.gdc.cancer.gov/API/Users_Guide/Appendix_A_Available_Fields/. Se puede obtener información demográfica del paciente, su consumo de alcohol y/o cigarrillos asi como datos del diagnóstico."
   ]
  },
  {
   "cell_type": "code",
   "execution_count": 20,
   "metadata": {},
   "outputs": [
    {
     "data": {
      "text/plain": [
       "{'cases': ['primary_site', 'disease_type'],\n",
       " 'project': ['program.name', 'project_id'],\n",
       " 'demographic': ['gender', 'race'],\n",
       " 'diagnoses': ['age_at_diagnosis',\n",
       "  'tissue_or_organ_of_origin',\n",
       "  'primary_diagnosis',\n",
       "  'tumor_stage',\n",
       "  'morphology'],\n",
       " 'exposures': ['height', 'weight', 'alcohol_history', 'cigarettes_per_day']}"
      ]
     },
     "execution_count": 20,
     "metadata": {},
     "output_type": "execute_result"
    }
   ],
   "source": [
    "conf['fields']['cases']"
   ]
  },
  {
   "cell_type": "markdown",
   "metadata": {},
   "source": [
    "La función *get_cases* obtiene un DataFrame con todos los casos y las columnas indicadas mediante una llamada a la API de GDC."
   ]
  },
  {
   "cell_type": "code",
   "execution_count": 17,
   "metadata": {},
   "outputs": [],
   "source": [
    "cases_df = get_cases(conf['cases_info'], conf['fields']['cases'])"
   ]
  },
  {
   "cell_type": "markdown",
   "metadata": {},
   "source": [
    "Guarda la salida en un CSV"
   ]
  },
  {
   "cell_type": "code",
   "execution_count": 10,
   "metadata": {},
   "outputs": [],
   "source": [
    "cases_df.to_csv(os.path.join(conf['data_path'], 'cases.csv'), sep='|', index=False)"
   ]
  },
  {
   "cell_type": "markdown",
   "metadata": {},
   "source": [
    "Muestra de la salida:"
   ]
  },
  {
   "cell_type": "code",
   "execution_count": 18,
   "metadata": {},
   "outputs": [
    {
     "data": {
      "text/html": [
       "<div>\n",
       "<style scoped>\n",
       "    .dataframe tbody tr th:only-of-type {\n",
       "        vertical-align: middle;\n",
       "    }\n",
       "\n",
       "    .dataframe tbody tr th {\n",
       "        vertical-align: top;\n",
       "    }\n",
       "\n",
       "    .dataframe thead th {\n",
       "        text-align: right;\n",
       "    }\n",
       "</style>\n",
       "<table border=\"1\" class=\"dataframe\">\n",
       "  <thead>\n",
       "    <tr style=\"text-align: right;\">\n",
       "      <th></th>\n",
       "      <th>case_id</th>\n",
       "      <th>primary_site</th>\n",
       "      <th>disease_type</th>\n",
       "      <th>program_name</th>\n",
       "      <th>project_id</th>\n",
       "      <th>gender</th>\n",
       "      <th>race</th>\n",
       "      <th>age_at_diagnosis</th>\n",
       "      <th>tissue_or_organ_of_origin</th>\n",
       "      <th>primary_diagnosis</th>\n",
       "      <th>tumor_stage</th>\n",
       "      <th>morphology</th>\n",
       "      <th>height</th>\n",
       "      <th>weight</th>\n",
       "      <th>alcohol_history</th>\n",
       "      <th>cigarettes_per_day</th>\n",
       "    </tr>\n",
       "  </thead>\n",
       "  <tbody>\n",
       "    <tr>\n",
       "      <th>142</th>\n",
       "      <td>TCGA-IB-7889</td>\n",
       "      <td>Pancreas</td>\n",
       "      <td>Ductal and Lobular Neoplasms</td>\n",
       "      <td>TCGA</td>\n",
       "      <td>TCGA-PAAD</td>\n",
       "      <td>female</td>\n",
       "      <td>white</td>\n",
       "      <td>31393</td>\n",
       "      <td>Pancreas, NOS</td>\n",
       "      <td>Infiltrating duct carcinoma, NOS</td>\n",
       "      <td>stage iib</td>\n",
       "      <td>8500/3</td>\n",
       "      <td>NaN</td>\n",
       "      <td>NaN</td>\n",
       "      <td>No</td>\n",
       "      <td>NaN</td>\n",
       "    </tr>\n",
       "    <tr>\n",
       "      <th>171</th>\n",
       "      <td>TCGA-HZ-7289</td>\n",
       "      <td>Pancreas</td>\n",
       "      <td>Adenomas and Adenocarcinomas</td>\n",
       "      <td>TCGA</td>\n",
       "      <td>TCGA-PAAD</td>\n",
       "      <td>male</td>\n",
       "      <td>white</td>\n",
       "      <td>28174</td>\n",
       "      <td>Head of pancreas</td>\n",
       "      <td>Adenocarcinoma, NOS</td>\n",
       "      <td>stage iib</td>\n",
       "      <td>8140/3</td>\n",
       "      <td>NaN</td>\n",
       "      <td>NaN</td>\n",
       "      <td>No</td>\n",
       "      <td>NaN</td>\n",
       "    </tr>\n",
       "    <tr>\n",
       "      <th>86</th>\n",
       "      <td>TCGA-HZ-8003</td>\n",
       "      <td>Pancreas</td>\n",
       "      <td>Ductal and Lobular Neoplasms</td>\n",
       "      <td>TCGA</td>\n",
       "      <td>TCGA-PAAD</td>\n",
       "      <td>female</td>\n",
       "      <td>white</td>\n",
       "      <td>23868</td>\n",
       "      <td>Head of pancreas</td>\n",
       "      <td>Infiltrating duct carcinoma, NOS</td>\n",
       "      <td>stage iib</td>\n",
       "      <td>8500/3</td>\n",
       "      <td>NaN</td>\n",
       "      <td>NaN</td>\n",
       "      <td>Not Reported</td>\n",
       "      <td>NaN</td>\n",
       "    </tr>\n",
       "    <tr>\n",
       "      <th>143</th>\n",
       "      <td>TCGA-Z5-AAPL</td>\n",
       "      <td>Pancreas</td>\n",
       "      <td>Ductal and Lobular Neoplasms</td>\n",
       "      <td>TCGA</td>\n",
       "      <td>TCGA-PAAD</td>\n",
       "      <td>female</td>\n",
       "      <td>white</td>\n",
       "      <td>27152</td>\n",
       "      <td>Pancreas, NOS</td>\n",
       "      <td>Infiltrating duct carcinoma, NOS</td>\n",
       "      <td>stage iia</td>\n",
       "      <td>8500/3</td>\n",
       "      <td>NaN</td>\n",
       "      <td>NaN</td>\n",
       "      <td>Not Reported</td>\n",
       "      <td>NaN</td>\n",
       "    </tr>\n",
       "    <tr>\n",
       "      <th>19</th>\n",
       "      <td>TCGA-FB-AAPP</td>\n",
       "      <td>Pancreas</td>\n",
       "      <td>Ductal and Lobular Neoplasms</td>\n",
       "      <td>TCGA</td>\n",
       "      <td>TCGA-PAAD</td>\n",
       "      <td>male</td>\n",
       "      <td>white</td>\n",
       "      <td>26239</td>\n",
       "      <td>Head of pancreas</td>\n",
       "      <td>Infiltrating duct carcinoma, NOS</td>\n",
       "      <td>stage iib</td>\n",
       "      <td>8500/3</td>\n",
       "      <td>NaN</td>\n",
       "      <td>NaN</td>\n",
       "      <td>Yes</td>\n",
       "      <td>NaN</td>\n",
       "    </tr>\n",
       "  </tbody>\n",
       "</table>\n",
       "</div>"
      ],
      "text/plain": [
       "          case_id primary_site                  disease_type program_name  \\\n",
       "142  TCGA-IB-7889     Pancreas  Ductal and Lobular Neoplasms         TCGA   \n",
       "171  TCGA-HZ-7289     Pancreas  Adenomas and Adenocarcinomas         TCGA   \n",
       "86   TCGA-HZ-8003     Pancreas  Ductal and Lobular Neoplasms         TCGA   \n",
       "143  TCGA-Z5-AAPL     Pancreas  Ductal and Lobular Neoplasms         TCGA   \n",
       "19   TCGA-FB-AAPP     Pancreas  Ductal and Lobular Neoplasms         TCGA   \n",
       "\n",
       "    project_id  gender   race  age_at_diagnosis tissue_or_organ_of_origin  \\\n",
       "142  TCGA-PAAD  female  white             31393             Pancreas, NOS   \n",
       "171  TCGA-PAAD    male  white             28174          Head of pancreas   \n",
       "86   TCGA-PAAD  female  white             23868          Head of pancreas   \n",
       "143  TCGA-PAAD  female  white             27152             Pancreas, NOS   \n",
       "19   TCGA-PAAD    male  white             26239          Head of pancreas   \n",
       "\n",
       "                    primary_diagnosis tumor_stage morphology  height  weight  \\\n",
       "142  Infiltrating duct carcinoma, NOS   stage iib     8500/3     NaN     NaN   \n",
       "171               Adenocarcinoma, NOS   stage iib     8140/3     NaN     NaN   \n",
       "86   Infiltrating duct carcinoma, NOS   stage iib     8500/3     NaN     NaN   \n",
       "143  Infiltrating duct carcinoma, NOS   stage iia     8500/3     NaN     NaN   \n",
       "19   Infiltrating duct carcinoma, NOS   stage iib     8500/3     NaN     NaN   \n",
       "\n",
       "    alcohol_history  cigarettes_per_day  \n",
       "142              No                 NaN  \n",
       "171              No                 NaN  \n",
       "86     Not Reported                 NaN  \n",
       "143    Not Reported                 NaN  \n",
       "19              Yes                 NaN  "
      ]
     },
     "execution_count": 18,
     "metadata": {},
     "output_type": "execute_result"
    }
   ],
   "source": [
    "cases_df.sample(5)"
   ]
  },
  {
   "cell_type": "markdown",
   "metadata": {},
   "source": [
    "## Files Metadata"
   ]
  },
  {
   "cell_type": "markdown",
   "metadata": {},
   "source": [
    "### Slides Metadata"
   ]
  },
  {
   "cell_type": "markdown",
   "metadata": {},
   "source": [
    "A continuación se obienen los metadatos de las imágenes histológicas. Además del filtro de pacientes que se aplica en los casos también se puede filtrar el tipo de _slide_. Las opciones diponibles son:\n",
    "\n",
    "* _Tissue Slide_: muestras almezandas mediante congelación.\n",
    "\n",
    "* _Diagnostic Slide_: tejidos embebidos en parafina y fijados con formalina (FFPE).\n",
    "\n",
    "Las muestras FFPE son las más utlizadas por los médicos para el diagnóstico y el tejido se converva mejor, sin embargo los químicos en los que se almacenan afectan a los ácididos nucleicos, no siendo válidos para anális de ADN o RNA. \n",
    "\n",
    "Las muestras congeladas son más baratas de almacenar y suelen ser utilizar después de la cirujía para determinar si los bordes del tumor están limpios, es decir, si el tumor ha sido completamente eliminado. Por tanto sobre estas muestras se recogen datos sobre el porcentaje de las células afectadas por el tumor. Otra ventaja de estas imágenes es que es muy común que se haya recogido también su información genética, lo que permitiría un análisis de correlación entre la morfología del tejido tumoral y la experesión genética.\n",
    "\n",
    "En este caso se han seleccionado ambos tipos para mostrar la diferencia de los datos disonibles pero para el proyecto se utilarán únicamente tejidos congelados por los motivos expuestos."
   ]
  },
  {
   "cell_type": "code",
   "execution_count": 61,
   "metadata": {},
   "outputs": [
    {
     "data": {
      "text/plain": [
       "['Tissue Slide', 'Diagnostic Slide']"
      ]
     },
     "execution_count": 61,
     "metadata": {},
     "output_type": "execute_result"
    }
   ],
   "source": [
    "conf['slide_types']"
   ]
  },
  {
   "cell_type": "code",
   "execution_count": 33,
   "metadata": {},
   "outputs": [],
   "source": [
    "slides_df = get_slides_metadata(conf['cases_info'], conf['fields']['slides'], experimental_strategies=conf['slide_types'])"
   ]
  },
  {
   "cell_type": "code",
   "execution_count": 24,
   "metadata": {},
   "outputs": [],
   "source": [
    "slides_df.to_csv(os.path.join(conf['data_path'], 'slides_metadata.csv'), sep='|', index=False)"
   ]
  },
  {
   "cell_type": "markdown",
   "metadata": {},
   "source": [
    "Muestra de tejidos congelados"
   ]
  },
  {
   "cell_type": "code",
   "execution_count": 34,
   "metadata": {},
   "outputs": [
    {
     "data": {
      "text/html": [
       "<div>\n",
       "<style scoped>\n",
       "    .dataframe tbody tr th:only-of-type {\n",
       "        vertical-align: middle;\n",
       "    }\n",
       "\n",
       "    .dataframe tbody tr th {\n",
       "        vertical-align: top;\n",
       "    }\n",
       "\n",
       "    .dataframe thead th {\n",
       "        text-align: right;\n",
       "    }\n",
       "</style>\n",
       "<table border=\"1\" class=\"dataframe\">\n",
       "  <thead>\n",
       "    <tr style=\"text-align: right;\">\n",
       "      <th></th>\n",
       "      <th>file_id</th>\n",
       "      <th>case_id</th>\n",
       "      <th>sample_id</th>\n",
       "      <th>slide_id</th>\n",
       "      <th>data_type</th>\n",
       "      <th>experimental_strategy</th>\n",
       "      <th>data_format</th>\n",
       "      <th>file_size</th>\n",
       "      <th>file_name</th>\n",
       "      <th>primary_site</th>\n",
       "      <th>disease_type</th>\n",
       "      <th>sample_type</th>\n",
       "      <th>is_ffpe</th>\n",
       "      <th>percent_normal_cells</th>\n",
       "      <th>percent_stromal_cells</th>\n",
       "      <th>percent_tumor_cells</th>\n",
       "      <th>percent_tumor_nuclei</th>\n",
       "    </tr>\n",
       "  </thead>\n",
       "  <tbody>\n",
       "    <tr>\n",
       "      <th>264</th>\n",
       "      <td>9ab2c9cf-0170-47c3-9857-fc8f65270835</td>\n",
       "      <td>TCGA-IB-A5SO</td>\n",
       "      <td>TCGA-IB-A5SO-01A</td>\n",
       "      <td>TCGA-IB-A5SO-01A-01-TSA</td>\n",
       "      <td>Slide Image</td>\n",
       "      <td>Tissue Slide</td>\n",
       "      <td>SVS</td>\n",
       "      <td>366.10</td>\n",
       "      <td>TCGA-IB-A5SO-01A-01-TSA.svs</td>\n",
       "      <td>Pancreas</td>\n",
       "      <td>Ductal and Lobular Neoplasms</td>\n",
       "      <td>Primary Tumor</td>\n",
       "      <td>False</td>\n",
       "      <td>8.0</td>\n",
       "      <td>65.0</td>\n",
       "      <td>25.0</td>\n",
       "      <td>50.0</td>\n",
       "    </tr>\n",
       "    <tr>\n",
       "      <th>138</th>\n",
       "      <td>38cd9f74-9697-4ae7-a7c4-b25eb921610b</td>\n",
       "      <td>TCGA-HV-A7OP</td>\n",
       "      <td>TCGA-HV-A7OP-01A</td>\n",
       "      <td>TCGA-HV-A7OP-01A-01-TS1</td>\n",
       "      <td>Slide Image</td>\n",
       "      <td>Tissue Slide</td>\n",
       "      <td>SVS</td>\n",
       "      <td>207.88</td>\n",
       "      <td>TCGA-HV-A7OP-01A-01-TS1.svs</td>\n",
       "      <td>Pancreas</td>\n",
       "      <td>Ductal and Lobular Neoplasms</td>\n",
       "      <td>Primary Tumor</td>\n",
       "      <td>False</td>\n",
       "      <td>0.0</td>\n",
       "      <td>25.0</td>\n",
       "      <td>70.0</td>\n",
       "      <td>70.0</td>\n",
       "    </tr>\n",
       "    <tr>\n",
       "      <th>413</th>\n",
       "      <td>8ceee345-b355-4b2a-a08b-097beca25d84</td>\n",
       "      <td>TCGA-HZ-A77O</td>\n",
       "      <td>TCGA-HZ-A77O-01A</td>\n",
       "      <td>TCGA-HZ-A77O-01A-01-TS1</td>\n",
       "      <td>Slide Image</td>\n",
       "      <td>Tissue Slide</td>\n",
       "      <td>SVS</td>\n",
       "      <td>160.72</td>\n",
       "      <td>TCGA-HZ-A77O-01A-01-TS1.svs</td>\n",
       "      <td>Pancreas</td>\n",
       "      <td>Ductal and Lobular Neoplasms</td>\n",
       "      <td>Primary Tumor</td>\n",
       "      <td>False</td>\n",
       "      <td>0.0</td>\n",
       "      <td>0.0</td>\n",
       "      <td>100.0</td>\n",
       "      <td>75.0</td>\n",
       "    </tr>\n",
       "  </tbody>\n",
       "</table>\n",
       "</div>"
      ],
      "text/plain": [
       "                                  file_id       case_id         sample_id  \\\n",
       "264  9ab2c9cf-0170-47c3-9857-fc8f65270835  TCGA-IB-A5SO  TCGA-IB-A5SO-01A   \n",
       "138  38cd9f74-9697-4ae7-a7c4-b25eb921610b  TCGA-HV-A7OP  TCGA-HV-A7OP-01A   \n",
       "413  8ceee345-b355-4b2a-a08b-097beca25d84  TCGA-HZ-A77O  TCGA-HZ-A77O-01A   \n",
       "\n",
       "                    slide_id    data_type experimental_strategy data_format  \\\n",
       "264  TCGA-IB-A5SO-01A-01-TSA  Slide Image          Tissue Slide         SVS   \n",
       "138  TCGA-HV-A7OP-01A-01-TS1  Slide Image          Tissue Slide         SVS   \n",
       "413  TCGA-HZ-A77O-01A-01-TS1  Slide Image          Tissue Slide         SVS   \n",
       "\n",
       "     file_size                    file_name primary_site  \\\n",
       "264     366.10  TCGA-IB-A5SO-01A-01-TSA.svs     Pancreas   \n",
       "138     207.88  TCGA-HV-A7OP-01A-01-TS1.svs     Pancreas   \n",
       "413     160.72  TCGA-HZ-A77O-01A-01-TS1.svs     Pancreas   \n",
       "\n",
       "                     disease_type    sample_type  is_ffpe  \\\n",
       "264  Ductal and Lobular Neoplasms  Primary Tumor    False   \n",
       "138  Ductal and Lobular Neoplasms  Primary Tumor    False   \n",
       "413  Ductal and Lobular Neoplasms  Primary Tumor    False   \n",
       "\n",
       "     percent_normal_cells  percent_stromal_cells  percent_tumor_cells  \\\n",
       "264                   8.0                   65.0                 25.0   \n",
       "138                   0.0                   25.0                 70.0   \n",
       "413                   0.0                    0.0                100.0   \n",
       "\n",
       "     percent_tumor_nuclei  \n",
       "264                  50.0  \n",
       "138                  70.0  \n",
       "413                  75.0  "
      ]
     },
     "execution_count": 34,
     "metadata": {},
     "output_type": "execute_result"
    }
   ],
   "source": [
    "slides_df[slides_df['experimental_strategy'] == 'Tissue Side'].sample(3)"
   ]
  },
  {
   "cell_type": "markdown",
   "metadata": {},
   "source": [
    "Muestra de tejidos FFPE\n",
    "\n",
    "Se observa que no las columnas *percent_normal_cells, percent_stromal_cells, percent_tumor_cells, percent_tumor_nuclei* están siempre a nulo ya que no se recogen estos datos."
   ]
  },
  {
   "cell_type": "code",
   "execution_count": 36,
   "metadata": {},
   "outputs": [
    {
     "data": {
      "text/html": [
       "<div>\n",
       "<style scoped>\n",
       "    .dataframe tbody tr th:only-of-type {\n",
       "        vertical-align: middle;\n",
       "    }\n",
       "\n",
       "    .dataframe tbody tr th {\n",
       "        vertical-align: top;\n",
       "    }\n",
       "\n",
       "    .dataframe thead th {\n",
       "        text-align: right;\n",
       "    }\n",
       "</style>\n",
       "<table border=\"1\" class=\"dataframe\">\n",
       "  <thead>\n",
       "    <tr style=\"text-align: right;\">\n",
       "      <th></th>\n",
       "      <th>file_id</th>\n",
       "      <th>case_id</th>\n",
       "      <th>sample_id</th>\n",
       "      <th>slide_id</th>\n",
       "      <th>data_type</th>\n",
       "      <th>experimental_strategy</th>\n",
       "      <th>data_format</th>\n",
       "      <th>file_size</th>\n",
       "      <th>file_name</th>\n",
       "      <th>primary_site</th>\n",
       "      <th>disease_type</th>\n",
       "      <th>sample_type</th>\n",
       "      <th>is_ffpe</th>\n",
       "      <th>percent_normal_cells</th>\n",
       "      <th>percent_stromal_cells</th>\n",
       "      <th>percent_tumor_cells</th>\n",
       "      <th>percent_tumor_nuclei</th>\n",
       "    </tr>\n",
       "  </thead>\n",
       "  <tbody>\n",
       "    <tr>\n",
       "      <th>151</th>\n",
       "      <td>928a0146-f9ab-4f05-8bb4-08c5af116755</td>\n",
       "      <td>TCGA-HV-AA8X</td>\n",
       "      <td>TCGA-HV-AA8X-01Z</td>\n",
       "      <td>TCGA-HV-AA8X-01Z-00-DX1</td>\n",
       "      <td>Slide Image</td>\n",
       "      <td>Diagnostic Slide</td>\n",
       "      <td>SVS</td>\n",
       "      <td>242.98</td>\n",
       "      <td>TCGA-HV-AA8X-01Z-00-DX1.svs</td>\n",
       "      <td>Pancreas</td>\n",
       "      <td>Ductal and Lobular Neoplasms</td>\n",
       "      <td>Primary Tumor</td>\n",
       "      <td>True</td>\n",
       "      <td>NaN</td>\n",
       "      <td>NaN</td>\n",
       "      <td>NaN</td>\n",
       "      <td>NaN</td>\n",
       "    </tr>\n",
       "    <tr>\n",
       "      <th>93</th>\n",
       "      <td>1571f1c2-e6b5-41cf-a61d-69faac8ffea6</td>\n",
       "      <td>TCGA-HZ-7924</td>\n",
       "      <td>TCGA-HZ-7924-01Z</td>\n",
       "      <td>TCGA-HZ-7924-01Z-00-DX1</td>\n",
       "      <td>Slide Image</td>\n",
       "      <td>Diagnostic Slide</td>\n",
       "      <td>SVS</td>\n",
       "      <td>61.94</td>\n",
       "      <td>TCGA-HZ-7924-01Z-00-DX1.svs</td>\n",
       "      <td>Pancreas</td>\n",
       "      <td>Ductal and Lobular Neoplasms</td>\n",
       "      <td>Primary Tumor</td>\n",
       "      <td>True</td>\n",
       "      <td>NaN</td>\n",
       "      <td>NaN</td>\n",
       "      <td>NaN</td>\n",
       "      <td>NaN</td>\n",
       "    </tr>\n",
       "    <tr>\n",
       "      <th>419</th>\n",
       "      <td>c5ccbe59-3312-4522-ba7d-d57999499844</td>\n",
       "      <td>TCGA-RB-A7B8</td>\n",
       "      <td>TCGA-RB-A7B8-01Z</td>\n",
       "      <td>TCGA-RB-A7B8-01Z-00-DX1</td>\n",
       "      <td>Slide Image</td>\n",
       "      <td>Diagnostic Slide</td>\n",
       "      <td>SVS</td>\n",
       "      <td>2578.13</td>\n",
       "      <td>TCGA-RB-A7B8-01Z-00-DX1.svs</td>\n",
       "      <td>Pancreas</td>\n",
       "      <td>Adenomas and Adenocarcinomas</td>\n",
       "      <td>Primary Tumor</td>\n",
       "      <td>True</td>\n",
       "      <td>NaN</td>\n",
       "      <td>NaN</td>\n",
       "      <td>NaN</td>\n",
       "      <td>NaN</td>\n",
       "    </tr>\n",
       "  </tbody>\n",
       "</table>\n",
       "</div>"
      ],
      "text/plain": [
       "                                  file_id       case_id         sample_id  \\\n",
       "151  928a0146-f9ab-4f05-8bb4-08c5af116755  TCGA-HV-AA8X  TCGA-HV-AA8X-01Z   \n",
       "93   1571f1c2-e6b5-41cf-a61d-69faac8ffea6  TCGA-HZ-7924  TCGA-HZ-7924-01Z   \n",
       "419  c5ccbe59-3312-4522-ba7d-d57999499844  TCGA-RB-A7B8  TCGA-RB-A7B8-01Z   \n",
       "\n",
       "                    slide_id    data_type experimental_strategy data_format  \\\n",
       "151  TCGA-HV-AA8X-01Z-00-DX1  Slide Image      Diagnostic Slide         SVS   \n",
       "93   TCGA-HZ-7924-01Z-00-DX1  Slide Image      Diagnostic Slide         SVS   \n",
       "419  TCGA-RB-A7B8-01Z-00-DX1  Slide Image      Diagnostic Slide         SVS   \n",
       "\n",
       "     file_size                    file_name primary_site  \\\n",
       "151     242.98  TCGA-HV-AA8X-01Z-00-DX1.svs     Pancreas   \n",
       "93       61.94  TCGA-HZ-7924-01Z-00-DX1.svs     Pancreas   \n",
       "419    2578.13  TCGA-RB-A7B8-01Z-00-DX1.svs     Pancreas   \n",
       "\n",
       "                     disease_type    sample_type  is_ffpe  \\\n",
       "151  Ductal and Lobular Neoplasms  Primary Tumor     True   \n",
       "93   Ductal and Lobular Neoplasms  Primary Tumor     True   \n",
       "419  Adenomas and Adenocarcinomas  Primary Tumor     True   \n",
       "\n",
       "     percent_normal_cells  percent_stromal_cells  percent_tumor_cells  \\\n",
       "151                   NaN                    NaN                  NaN   \n",
       "93                    NaN                    NaN                  NaN   \n",
       "419                   NaN                    NaN                  NaN   \n",
       "\n",
       "     percent_tumor_nuclei  \n",
       "151                   NaN  \n",
       "93                    NaN  \n",
       "419                   NaN  "
      ]
     },
     "execution_count": 36,
     "metadata": {},
     "output_type": "execute_result"
    }
   ],
   "source": [
    "slides_df[slides_df['experimental_strategy'] == 'Diagnostic Slide'].sample(3)"
   ]
  },
  {
   "cell_type": "markdown",
   "metadata": {},
   "source": [
    "El 97% de las muestras FFPE pertenecen a tejidos tumorales."
   ]
  },
  {
   "cell_type": "code",
   "execution_count": 37,
   "metadata": {},
   "outputs": [
    {
     "data": {
      "text/plain": [
       "experimental_strategy  sample_type        \n",
       "Diagnostic Slide       Primary Tumor          203\n",
       "                       Solid Tissue Normal      6\n",
       "Tissue Slide           Metastatic               1\n",
       "                       Primary Tumor          219\n",
       "                       Solid Tissue Normal     37\n",
       "dtype: int64"
      ]
     },
     "execution_count": 37,
     "metadata": {},
     "output_type": "execute_result"
    }
   ],
   "source": [
    "slides_df.groupby(['experimental_strategy', 'sample_type']).size()"
   ]
  },
  {
   "cell_type": "markdown",
   "metadata": {},
   "source": [
    "### RNA-Seq Metadata"
   ]
  },
  {
   "cell_type": "markdown",
   "metadata": {},
   "source": [
    "Por último se obtienen los nombres de los ficheros de expresión genética, en ese caso también se puede seleccionar qué tipo de fichero queremos, las opciones son:\n",
    "\n",
    "* HTSeq - Counts\n",
    "\n",
    "* HTSeq - FPKM\n",
    "\n",
    "* HTSeq - FPKM-UQ\n",
    "\n",
    "El primero tiene la cuenta en bruto de las lecturas mapeadas a cada gen. Los otros dos están normalizados respecto al número de cuentas, la diferencia entre ellos es que _UQ_ utiliza el percentil 75% mientras que el otro la cuenta total."
   ]
  },
  {
   "cell_type": "code",
   "execution_count": 66,
   "metadata": {},
   "outputs": [
    {
     "data": {
      "text/plain": [
       "['HTSeq - Counts', 'HTSeq - FPKM-UQ', 'HTSeq - FPKM']"
      ]
     },
     "execution_count": 66,
     "metadata": {},
     "output_type": "execute_result"
    }
   ],
   "source": [
    "conf['rnaseq_types']"
   ]
  },
  {
   "cell_type": "code",
   "execution_count": 68,
   "metadata": {},
   "outputs": [],
   "source": [
    "rnaseq_df = get_rnaseq_metadata(conf['cases_info'], conf['fields']['rnaseq'], workflow_types=conf['rnaseq_types'])"
   ]
  },
  {
   "cell_type": "code",
   "execution_count": 69,
   "metadata": {},
   "outputs": [],
   "source": [
    "rnaseq_df.to_csv(os.path.join(conf['data_path'], 'rnaseq_metadata.csv'), sep='|', index=False)"
   ]
  },
  {
   "cell_type": "markdown",
   "metadata": {},
   "source": [
    "Observar que para cada una de las muestras se obtienen los 3 ficheros de RNA-Seq."
   ]
  },
  {
   "cell_type": "code",
   "execution_count": 76,
   "metadata": {},
   "outputs": [
    {
     "data": {
      "text/html": [
       "<div>\n",
       "<style scoped>\n",
       "    .dataframe tbody tr th:only-of-type {\n",
       "        vertical-align: middle;\n",
       "    }\n",
       "\n",
       "    .dataframe tbody tr th {\n",
       "        vertical-align: top;\n",
       "    }\n",
       "\n",
       "    .dataframe thead th {\n",
       "        text-align: right;\n",
       "    }\n",
       "</style>\n",
       "<table border=\"1\" class=\"dataframe\">\n",
       "  <thead>\n",
       "    <tr style=\"text-align: right;\">\n",
       "      <th></th>\n",
       "      <th>file_id</th>\n",
       "      <th>case_id</th>\n",
       "      <th>sample_id</th>\n",
       "      <th>rnaseq_id</th>\n",
       "      <th>data_type</th>\n",
       "      <th>experimental_strategy</th>\n",
       "      <th>data_format</th>\n",
       "      <th>file_size</th>\n",
       "      <th>file_name</th>\n",
       "      <th>workflow_type</th>\n",
       "      <th>primary_site</th>\n",
       "      <th>disease_type</th>\n",
       "      <th>sample_type</th>\n",
       "    </tr>\n",
       "  </thead>\n",
       "  <tbody>\n",
       "    <tr>\n",
       "      <th>71</th>\n",
       "      <td>e2567946-b4e5-408a-950b-3bb6c130b2a1</td>\n",
       "      <td>TCGA-2J-AAB1</td>\n",
       "      <td>TCGA-2J-AAB1-01A</td>\n",
       "      <td>caf9cab4-f98f-46bd-a75d-0eb1e9c6c9ea_count</td>\n",
       "      <td>Gene Expression Quantification</td>\n",
       "      <td>RNA-Seq</td>\n",
       "      <td>TXT</td>\n",
       "      <td>0.25</td>\n",
       "      <td>TCGA-2J-AAB1-01A_HTSeq-Counts.txt.gz</td>\n",
       "      <td>HTSeq - Counts</td>\n",
       "      <td>Pancreas</td>\n",
       "      <td>Cystic, Mucinous and Serous Neoplasms</td>\n",
       "      <td>Primary Tumor</td>\n",
       "    </tr>\n",
       "    <tr>\n",
       "      <th>184</th>\n",
       "      <td>6deb2016-8321-465d-b4ab-05d92a4c04c0</td>\n",
       "      <td>TCGA-2J-AAB1</td>\n",
       "      <td>TCGA-2J-AAB1-01A</td>\n",
       "      <td>caf9cab4-f98f-46bd-a75d-0eb1e9c6c9ea_fpkm</td>\n",
       "      <td>Gene Expression Quantification</td>\n",
       "      <td>RNA-Seq</td>\n",
       "      <td>TXT</td>\n",
       "      <td>0.51</td>\n",
       "      <td>TCGA-2J-AAB1-01A_HTSeq-FPKM.txt.gz</td>\n",
       "      <td>HTSeq - FPKM</td>\n",
       "      <td>Pancreas</td>\n",
       "      <td>Cystic, Mucinous and Serous Neoplasms</td>\n",
       "      <td>Primary Tumor</td>\n",
       "    </tr>\n",
       "    <tr>\n",
       "      <th>216</th>\n",
       "      <td>012007d2-bc82-4a37-a123-ff30e18629b8</td>\n",
       "      <td>TCGA-2J-AAB1</td>\n",
       "      <td>TCGA-2J-AAB1-01A</td>\n",
       "      <td>caf9cab4-f98f-46bd-a75d-0eb1e9c6c9ea_uqfpkm</td>\n",
       "      <td>Gene Expression Quantification</td>\n",
       "      <td>RNA-Seq</td>\n",
       "      <td>TXT</td>\n",
       "      <td>0.51</td>\n",
       "      <td>TCGA-2J-AAB1-01A_HTSeq-FPKM-UQ.txt.gz</td>\n",
       "      <td>HTSeq - FPKM-UQ</td>\n",
       "      <td>Pancreas</td>\n",
       "      <td>Cystic, Mucinous and Serous Neoplasms</td>\n",
       "      <td>Primary Tumor</td>\n",
       "    </tr>\n",
       "    <tr>\n",
       "      <th>396</th>\n",
       "      <td>53aaf772-2876-46eb-8efe-1bbd4c5b6df6</td>\n",
       "      <td>TCGA-2J-AAB4</td>\n",
       "      <td>TCGA-2J-AAB4-01A</td>\n",
       "      <td>057aa9ac-f22c-4c11-a44d-ad52ae59b4cf_fpkm</td>\n",
       "      <td>Gene Expression Quantification</td>\n",
       "      <td>RNA-Seq</td>\n",
       "      <td>TXT</td>\n",
       "      <td>0.52</td>\n",
       "      <td>TCGA-2J-AAB4-01A_HTSeq-FPKM.txt.gz</td>\n",
       "      <td>HTSeq - FPKM</td>\n",
       "      <td>Pancreas</td>\n",
       "      <td>Adenomas and Adenocarcinomas</td>\n",
       "      <td>Primary Tumor</td>\n",
       "    </tr>\n",
       "    <tr>\n",
       "      <th>350</th>\n",
       "      <td>0fed1108-f65c-45e0-9695-66fb085119c7</td>\n",
       "      <td>TCGA-2J-AAB4</td>\n",
       "      <td>TCGA-2J-AAB4-01A</td>\n",
       "      <td>057aa9ac-f22c-4c11-a44d-ad52ae59b4cf_count</td>\n",
       "      <td>Gene Expression Quantification</td>\n",
       "      <td>RNA-Seq</td>\n",
       "      <td>TXT</td>\n",
       "      <td>0.26</td>\n",
       "      <td>TCGA-2J-AAB4-01A_HTSeq-Counts.txt.gz</td>\n",
       "      <td>HTSeq - Counts</td>\n",
       "      <td>Pancreas</td>\n",
       "      <td>Adenomas and Adenocarcinomas</td>\n",
       "      <td>Primary Tumor</td>\n",
       "    </tr>\n",
       "    <tr>\n",
       "      <th>479</th>\n",
       "      <td>9f2e5dd4-df50-4efe-bcbb-a919a02f1114</td>\n",
       "      <td>TCGA-2J-AAB4</td>\n",
       "      <td>TCGA-2J-AAB4-01A</td>\n",
       "      <td>057aa9ac-f22c-4c11-a44d-ad52ae59b4cf_uqfpkm</td>\n",
       "      <td>Gene Expression Quantification</td>\n",
       "      <td>RNA-Seq</td>\n",
       "      <td>TXT</td>\n",
       "      <td>0.53</td>\n",
       "      <td>TCGA-2J-AAB4-01A_HTSeq-FPKM-UQ.txt.gz</td>\n",
       "      <td>HTSeq - FPKM-UQ</td>\n",
       "      <td>Pancreas</td>\n",
       "      <td>Adenomas and Adenocarcinomas</td>\n",
       "      <td>Primary Tumor</td>\n",
       "    </tr>\n",
       "  </tbody>\n",
       "</table>\n",
       "</div>"
      ],
      "text/plain": [
       "                                  file_id       case_id         sample_id  \\\n",
       "71   e2567946-b4e5-408a-950b-3bb6c130b2a1  TCGA-2J-AAB1  TCGA-2J-AAB1-01A   \n",
       "184  6deb2016-8321-465d-b4ab-05d92a4c04c0  TCGA-2J-AAB1  TCGA-2J-AAB1-01A   \n",
       "216  012007d2-bc82-4a37-a123-ff30e18629b8  TCGA-2J-AAB1  TCGA-2J-AAB1-01A   \n",
       "396  53aaf772-2876-46eb-8efe-1bbd4c5b6df6  TCGA-2J-AAB4  TCGA-2J-AAB4-01A   \n",
       "350  0fed1108-f65c-45e0-9695-66fb085119c7  TCGA-2J-AAB4  TCGA-2J-AAB4-01A   \n",
       "479  9f2e5dd4-df50-4efe-bcbb-a919a02f1114  TCGA-2J-AAB4  TCGA-2J-AAB4-01A   \n",
       "\n",
       "                                       rnaseq_id  \\\n",
       "71    caf9cab4-f98f-46bd-a75d-0eb1e9c6c9ea_count   \n",
       "184    caf9cab4-f98f-46bd-a75d-0eb1e9c6c9ea_fpkm   \n",
       "216  caf9cab4-f98f-46bd-a75d-0eb1e9c6c9ea_uqfpkm   \n",
       "396    057aa9ac-f22c-4c11-a44d-ad52ae59b4cf_fpkm   \n",
       "350   057aa9ac-f22c-4c11-a44d-ad52ae59b4cf_count   \n",
       "479  057aa9ac-f22c-4c11-a44d-ad52ae59b4cf_uqfpkm   \n",
       "\n",
       "                          data_type experimental_strategy data_format  \\\n",
       "71   Gene Expression Quantification               RNA-Seq         TXT   \n",
       "184  Gene Expression Quantification               RNA-Seq         TXT   \n",
       "216  Gene Expression Quantification               RNA-Seq         TXT   \n",
       "396  Gene Expression Quantification               RNA-Seq         TXT   \n",
       "350  Gene Expression Quantification               RNA-Seq         TXT   \n",
       "479  Gene Expression Quantification               RNA-Seq         TXT   \n",
       "\n",
       "     file_size                              file_name    workflow_type  \\\n",
       "71        0.25   TCGA-2J-AAB1-01A_HTSeq-Counts.txt.gz   HTSeq - Counts   \n",
       "184       0.51     TCGA-2J-AAB1-01A_HTSeq-FPKM.txt.gz     HTSeq - FPKM   \n",
       "216       0.51  TCGA-2J-AAB1-01A_HTSeq-FPKM-UQ.txt.gz  HTSeq - FPKM-UQ   \n",
       "396       0.52     TCGA-2J-AAB4-01A_HTSeq-FPKM.txt.gz     HTSeq - FPKM   \n",
       "350       0.26   TCGA-2J-AAB4-01A_HTSeq-Counts.txt.gz   HTSeq - Counts   \n",
       "479       0.53  TCGA-2J-AAB4-01A_HTSeq-FPKM-UQ.txt.gz  HTSeq - FPKM-UQ   \n",
       "\n",
       "    primary_site                           disease_type    sample_type  \n",
       "71      Pancreas  Cystic, Mucinous and Serous Neoplasms  Primary Tumor  \n",
       "184     Pancreas  Cystic, Mucinous and Serous Neoplasms  Primary Tumor  \n",
       "216     Pancreas  Cystic, Mucinous and Serous Neoplasms  Primary Tumor  \n",
       "396     Pancreas           Adenomas and Adenocarcinomas  Primary Tumor  \n",
       "350     Pancreas           Adenomas and Adenocarcinomas  Primary Tumor  \n",
       "479     Pancreas           Adenomas and Adenocarcinomas  Primary Tumor  "
      ]
     },
     "execution_count": 76,
     "metadata": {},
     "output_type": "execute_result"
    }
   ],
   "source": [
    "rnaseq_df.sort_values('sample_id').head(6)"
   ]
  }
 ],
 "metadata": {
  "kernelspec": {
   "display_name": "Python 3",
   "language": "python",
   "name": "python3"
  },
  "language_info": {
   "codemirror_mode": {
    "name": "ipython",
    "version": 3
   },
   "file_extension": ".py",
   "mimetype": "text/x-python",
   "name": "python",
   "nbconvert_exporter": "python",
   "pygments_lexer": "ipython3",
   "version": "3.7.1"
  }
 },
 "nbformat": 4,
 "nbformat_minor": 2
}
