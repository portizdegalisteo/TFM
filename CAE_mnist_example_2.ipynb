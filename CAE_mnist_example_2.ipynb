{
 "cells": [
  {
   "cell_type": "code",
   "execution_count": 3,
   "metadata": {},
   "outputs": [
    {
     "name": "stdout",
     "output_type": "stream",
     "text": [
      "The autoreload extension is already loaded. To reload it, use:\n",
      "  %reload_ext autoreload\n"
     ]
    }
   ],
   "source": [
    "%load_ext autoreload\n",
    "%autoreload 2"
   ]
  },
  {
   "cell_type": "code",
   "execution_count": 4,
   "metadata": {},
   "outputs": [],
   "source": [
    "%matplotlib inline"
   ]
  },
  {
   "cell_type": "markdown",
   "metadata": {},
   "source": [
    "# Ejemplo de entrenamiento de CAE sobre MNIST 2"
   ]
  },
  {
   "cell_type": "markdown",
   "metadata": {},
   "source": [
    "Este notebook tiene dos objetivos:\n",
    "\n",
    "* _Entrenamiento a partir de imágenes PNG_: uno de los problemas encontrados a la hora de entrenar una red con imágenes es el tamaño del conjunto de entrenamiento. Una gran cantidad de imágenes de resolución media pueden saturar la memoria RAM de la máquina y parar el programa. Para evitar esto _Keras_ tiene métodos implentados que hacen el entrenamiento por _batches_ leyendo únicamente un subconjunto de imágenes en cada momento. El primer objetivo es analizar esta posibilidad.\n",
    "\n",
    "* _Error de reconstrucción como predicción:_ además de para extraer variables latentes se le pueden dar otros usos al Autoencoder Convolucional. En este caso se pretende entrenar dos CAE con subconjuntos de dígitos distintos (eg. 0,1,2,3,4 vs 5,6,7,8,9), y sobre el conjunto de test calcular el error de reconstrucción de cada imagen en ambas redes. Conceptualmente un número del primer conjunto tendrá un menor error de reconstrucción con el primer modelo que con el segundo."
   ]
  },
  {
   "cell_type": "code",
   "execution_count": 7,
   "metadata": {},
   "outputs": [],
   "source": [
    "from model.cae import CAE\n",
    "\n",
    "from utils import plot_paired_imgs\n",
    "from utils import plot_sample_imgs\n",
    "from utils import read_images\n",
    "\n",
    "import os\n",
    "\n",
    "import numpy as np\n",
    "import pandas as pd\n",
    "\n",
    "from tqdm import tqdm_notebook"
   ]
  },
  {
   "cell_type": "code",
   "execution_count": 8,
   "metadata": {},
   "outputs": [],
   "source": [
    "from datetime import datetime"
   ]
  },
  {
   "cell_type": "code",
   "execution_count": 9,
   "metadata": {},
   "outputs": [],
   "source": [
    "from keras.callbacks import TensorBoard\n",
    "from keras.preprocessing.image import ImageDataGenerator"
   ]
  },
  {
   "cell_type": "code",
   "execution_count": 19,
   "metadata": {},
   "outputs": [],
   "source": [
    "DATA_PATH = '/Users/portizdegalisteo/TFM_Data/mnist'\n",
    "PNG_PATH = os.path.join(DATA_PATH, 'png')"
   ]
  },
  {
   "cell_type": "markdown",
   "metadata": {},
   "source": [
    "__Lectura de datos__"
   ]
  },
  {
   "cell_type": "markdown",
   "metadata": {},
   "source": [
    "Se leen DataFrames que contienen el nomnbre de cada fichero .png de su imagen correspondiente."
   ]
  },
  {
   "cell_type": "code",
   "execution_count": 16,
   "metadata": {},
   "outputs": [],
   "source": [
    "train_df = pd.read_csv(os.path.join(DATA_PATH, 'train.csv'), sep='|')\n",
    "test_df = pd.read_csv(os.path.join(DATA_PATH, 'test.csv'), sep='|')"
   ]
  },
  {
   "cell_type": "code",
   "execution_count": 20,
   "metadata": {},
   "outputs": [
    {
     "data": {
      "text/html": [
       "<div>\n",
       "<style scoped>\n",
       "    .dataframe tbody tr th:only-of-type {\n",
       "        vertical-align: middle;\n",
       "    }\n",
       "\n",
       "    .dataframe tbody tr th {\n",
       "        vertical-align: top;\n",
       "    }\n",
       "\n",
       "    .dataframe thead th {\n",
       "        text-align: right;\n",
       "    }\n",
       "</style>\n",
       "<table border=\"1\" class=\"dataframe\">\n",
       "  <thead>\n",
       "    <tr style=\"text-align: right;\">\n",
       "      <th></th>\n",
       "      <th>label</th>\n",
       "      <th>filename</th>\n",
       "    </tr>\n",
       "  </thead>\n",
       "  <tbody>\n",
       "    <tr>\n",
       "      <th>0</th>\n",
       "      <td>5</td>\n",
       "      <td>train_00000.png</td>\n",
       "    </tr>\n",
       "    <tr>\n",
       "      <th>1</th>\n",
       "      <td>0</td>\n",
       "      <td>train_00001.png</td>\n",
       "    </tr>\n",
       "    <tr>\n",
       "      <th>2</th>\n",
       "      <td>4</td>\n",
       "      <td>train_00002.png</td>\n",
       "    </tr>\n",
       "  </tbody>\n",
       "</table>\n",
       "</div>"
      ],
      "text/plain": [
       "   label         filename\n",
       "0      5  train_00000.png\n",
       "1      0  train_00001.png\n",
       "2      4  train_00002.png"
      ]
     },
     "execution_count": 20,
     "metadata": {},
     "output_type": "execute_result"
    }
   ],
   "source": [
    "train_df.head(3)"
   ]
  },
  {
   "cell_type": "code",
   "execution_count": 21,
   "metadata": {},
   "outputs": [
    {
     "data": {
      "text/html": [
       "<div>\n",
       "<style scoped>\n",
       "    .dataframe tbody tr th:only-of-type {\n",
       "        vertical-align: middle;\n",
       "    }\n",
       "\n",
       "    .dataframe tbody tr th {\n",
       "        vertical-align: top;\n",
       "    }\n",
       "\n",
       "    .dataframe thead th {\n",
       "        text-align: right;\n",
       "    }\n",
       "</style>\n",
       "<table border=\"1\" class=\"dataframe\">\n",
       "  <thead>\n",
       "    <tr style=\"text-align: right;\">\n",
       "      <th></th>\n",
       "      <th>label</th>\n",
       "      <th>filename</th>\n",
       "    </tr>\n",
       "  </thead>\n",
       "  <tbody>\n",
       "    <tr>\n",
       "      <th>0</th>\n",
       "      <td>7</td>\n",
       "      <td>test_00000.png</td>\n",
       "    </tr>\n",
       "    <tr>\n",
       "      <th>1</th>\n",
       "      <td>2</td>\n",
       "      <td>test_00001.png</td>\n",
       "    </tr>\n",
       "    <tr>\n",
       "      <th>2</th>\n",
       "      <td>1</td>\n",
       "      <td>test_00002.png</td>\n",
       "    </tr>\n",
       "  </tbody>\n",
       "</table>\n",
       "</div>"
      ],
      "text/plain": [
       "   label        filename\n",
       "0      7  test_00000.png\n",
       "1      2  test_00001.png\n",
       "2      1  test_00002.png"
      ]
     },
     "execution_count": 21,
     "metadata": {},
     "output_type": "execute_result"
    }
   ],
   "source": [
    "test_df.head(3)"
   ]
  },
  {
   "cell_type": "markdown",
   "metadata": {},
   "source": [
    "__División de conjuntos__"
   ]
  },
  {
   "cell_type": "markdown",
   "metadata": {},
   "source": [
    "Se subdividen los conjuntos de train/test en dos conjuntos, los de los dígitos menores que 5 y los mayores o iguales que 5. Se puede comprobar que ambos conjuntos tienen  un número similar de muestras, si no fuera el caso sería recomentable ya que la calidad de los modelos se puede ver influenciada por la cantidad de muestras de entrenamiento."
   ]
  },
  {
   "cell_type": "code",
   "execution_count": 31,
   "metadata": {},
   "outputs": [],
   "source": [
    "train_sub_5_df = train_df[train_df['label'] < 5]\n",
    "train_over_5_df = train_df[train_df['label'] >= 5]"
   ]
  },
  {
   "cell_type": "code",
   "execution_count": 32,
   "metadata": {},
   "outputs": [],
   "source": [
    "test_sub_5_df = test_df[test_df['label'] < 5]\n",
    "test_over_5_df = test_df[test_df['label'] >= 5]"
   ]
  },
  {
   "cell_type": "code",
   "execution_count": 33,
   "metadata": {},
   "outputs": [
    {
     "data": {
      "text/plain": [
       "(25538, 5139)"
      ]
     },
     "execution_count": 33,
     "metadata": {},
     "output_type": "execute_result"
    }
   ],
   "source": [
    "len(train_sub_5_df), len(test_sub_5_df)"
   ]
  },
  {
   "cell_type": "code",
   "execution_count": 34,
   "metadata": {},
   "outputs": [
    {
     "data": {
      "text/plain": [
       "(24462, 4861)"
      ]
     },
     "execution_count": 34,
     "metadata": {},
     "output_type": "execute_result"
    }
   ],
   "source": [
    "len(train_over_5_df), len(test_over_5_df)"
   ]
  },
  {
   "cell_type": "markdown",
   "metadata": {},
   "source": [
    "## Generador de Imágenes"
   ]
  },
  {
   "cell_type": "markdown",
   "metadata": {},
   "source": [
    "Para realizar el entrenamiento por _batches_ que se menciona al incicio de este notebook se utiliza la clase _ImageDataGenerator_, esta sirve para crear un lector de imágenes y evitar cargar todas a la vez en memoria. Esta clase tiene un método *flow_from_dataframe* donde se crea el lector de imágenes a partir de los nombres de ficheros que haya en un DataFrame.\n",
    "\n",
    "También permite crear un lector de imágenes para el conjunto de validación o, por ejemplo, redimensionar todas las imágenes al un tamaño concreto *target_size*, esto sería muy util si las imagenes disponibles no tuviesen dimensiones constantes. En este caso mantenemos las originales 28x28.\n",
    "\n",
    "**IMPORTANTE**: es necesario reescalar el rango de valores de imágenes entre 255 ya que por defecto cuando see leen las imágenes RGB los valores de los píxeles van de 0 a 255, el nivel en la escala de 8 bits. Con esos rangos de valores y los *learning rate* que hay por defecto el modelo sería incapaz de aprender."
   ]
  },
  {
   "cell_type": "markdown",
   "metadata": {},
   "source": [
    "__Train__"
   ]
  },
  {
   "cell_type": "code",
   "execution_count": 37,
   "metadata": {},
   "outputs": [
    {
     "data": {
      "text/plain": [
       "25538"
      ]
     },
     "execution_count": 37,
     "metadata": {},
     "output_type": "execute_result"
    }
   ],
   "source": [
    "len(train_sub_5_df)"
   ]
  },
  {
   "cell_type": "code",
   "execution_count": 41,
   "metadata": {},
   "outputs": [
    {
     "name": "stdout",
     "output_type": "stream",
     "text": [
      "Found 20431 images.\n",
      "Found 5107 images.\n",
      "Found 19570 images.\n",
      "Found 4892 images.\n"
     ]
    }
   ],
   "source": [
    "train_datagen = ImageDataGenerator(validation_split=0.2, rescale=1/255)\n",
    "\n",
    "# Sub 5\n",
    "train_sub_5_generator = train_datagen.flow_from_dataframe(train_sub_5_df, directory=PNG_PATH + '/', x_col='filename', \n",
    "                                                          target_size=(28, 28), color_mode='rgb', class_mode='input',\n",
    "                                                          batch_size=32, subset='training', seed=1993)\n",
    "\n",
    "valid_sub_5_generator = train_datagen.flow_from_dataframe(train_sub_5_df, directory=PNG_PATH, x_col='filename', \n",
    "                                                          target_size=(28, 28), color_mode='rgb', class_mode='input', \n",
    "                                                          batch_size=32, subset='validation', seed=1993)\n",
    "\n",
    "# Over 5\n",
    "train_over_5_generator = train_datagen.flow_from_dataframe(train_over_5_df, directory=PNG_PATH + '/', x_col='filename', \n",
    "                                                           target_size=(28, 28), color_mode='rgb', class_mode='input', \n",
    "                                                           batch_size=32, subset='training', seed=1993)\n",
    "\n",
    "valid_over_5_generator = train_datagen.flow_from_dataframe(train_over_5_df, directory=PNG_PATH, x_col='filename', \n",
    "                                                           target_size=(28, 28), color_mode='rgb', class_mode='input', \n",
    "                                                           batch_size=32, subset='validation', seed=1993)"
   ]
  },
  {
   "cell_type": "markdown",
   "metadata": {},
   "source": [
    "__Test__"
   ]
  },
  {
   "cell_type": "code",
   "execution_count": 42,
   "metadata": {},
   "outputs": [
    {
     "name": "stdout",
     "output_type": "stream",
     "text": [
      "Found 5139 images.\n",
      "Found 4861 images.\n"
     ]
    }
   ],
   "source": [
    "test_datagen = ImageDataGenerator(rescale=1/255)\n",
    "\n",
    "# Sub 5\n",
    "test_sub_5_generator = test_datagen.flow_from_dataframe(test_sub_5_df, directory=PNG_PATH, x_col='filename', \n",
    "                                                        target_size=(28, 28), color_mode='rgb', class_mode='input', \n",
    "                                                        batch_size=1, seed=1993)\n",
    "# Over 5\n",
    "test_over_5_generator = test_datagen.flow_from_dataframe(test_over_5_df, directory=PNG_PATH, x_col='filename', \n",
    "                                                         target_size=(28, 28), color_mode='rgb', class_mode='input', \n",
    "                                                         batch_size=1, seed=1993)"
   ]
  },
  {
   "cell_type": "markdown",
   "metadata": {},
   "source": [
    "## Entrenamiento"
   ]
  },
  {
   "cell_type": "markdown",
   "metadata": {},
   "source": [
    "El diseño de la arquitectura del CAE se utiliza un número bajo de variables latentes. La idea detrás de esto es que todas las imágenes de dígitos tienen propiedades muy similares (bordes, color...) que podrían hacer que un CAE entrenado con unos dígitos sea válido para otros. Al un número pequeño de variables latentes el error de reconstrucción será mayor pero se está forzando al modelo a ser más específico. En este caso lo importante no es minimizar el error de reconstrucción si no maximizar la diferencia de error de un modelo respecto del otro."
   ]
  },
  {
   "cell_type": "code",
   "execution_count": 87,
   "metadata": {},
   "outputs": [],
   "source": [
    "cae_sub_5 = CAE(input_shape=(28, 28, 3), latent_features=10, filters=[8,16], path='/tmp/model_ov5')\n",
    "cae_over_5 = CAE(input_shape=(28, 28, 3), latent_features=10, filters=[8,16], path='/tmp/model_sub5')"
   ]
  },
  {
   "cell_type": "code",
   "execution_count": 88,
   "metadata": {},
   "outputs": [
    {
     "name": "stdout",
     "output_type": "stream",
     "text": [
      "Epoch 1/10\n",
      "639/639 [==============================] - 28s 43ms/step - loss: 0.0592 - val_loss: 0.0376\n",
      "Epoch 2/10\n",
      "639/639 [==============================] - 27s 43ms/step - loss: 0.0342 - val_loss: 0.0313\n",
      "Epoch 3/10\n",
      "639/639 [==============================] - 26s 41ms/step - loss: 0.0308 - val_loss: 0.0296\n",
      "Epoch 4/10\n",
      "639/639 [==============================] - 28s 44ms/step - loss: 0.0291 - val_loss: 0.0284\n",
      "Epoch 5/10\n",
      "639/639 [==============================] - 27s 43ms/step - loss: 0.0281 - val_loss: 0.0275\n",
      "Epoch 6/10\n",
      "639/639 [==============================] - 28s 44ms/step - loss: 0.0272 - val_loss: 0.0270\n",
      "Epoch 7/10\n",
      "639/639 [==============================] - 27s 43ms/step - loss: 0.0266 - val_loss: 0.0262\n",
      "Epoch 8/10\n",
      "639/639 [==============================] - 27s 43ms/step - loss: 0.0261 - val_loss: 0.0260\n",
      "Epoch 9/10\n",
      "639/639 [==============================] - 28s 44ms/step - loss: 0.0257 - val_loss: 0.0251\n",
      "Epoch 10/10\n",
      "639/639 [==============================] - 28s 43ms/step - loss: 0.0253 - val_loss: 0.0251\n"
     ]
    }
   ],
   "source": [
    "tb = TensorBoard(log_dir='../logs/mnist_sub_5',\n",
    "                 write_grads=True, write_images=True, histogram_freq=0)\n",
    "\n",
    "cae_sub_5.model.fit_generator(generator = train_sub_5_generator, \n",
    "                              validation_data = valid_sub_5_generator,\n",
    "                              steps_per_epoch = len(train_sub_5_generator),\n",
    "                              validation_steps = len(valid_sub_5_generator),\n",
    "                              epochs = 10, \n",
    "                              callbacks = [tb])\n",
    "\n",
    "cae_sub_5.save()"
   ]
  },
  {
   "cell_type": "code",
   "execution_count": 89,
   "metadata": {},
   "outputs": [
    {
     "name": "stdout",
     "output_type": "stream",
     "text": [
      "Epoch 1/10\n",
      "612/612 [==============================] - 27s 44ms/step - loss: 0.0610 - val_loss: 0.0443\n",
      "Epoch 2/10\n",
      "612/612 [==============================] - 26s 42ms/step - loss: 0.0384 - val_loss: 0.0343\n",
      "Epoch 3/10\n",
      "612/612 [==============================] - 26s 42ms/step - loss: 0.0332 - val_loss: 0.0315\n",
      "Epoch 4/10\n",
      "612/612 [==============================] - 26s 43ms/step - loss: 0.0311 - val_loss: 0.0300\n",
      "Epoch 5/10\n",
      "612/612 [==============================] - 29s 47ms/step - loss: 0.0298 - val_loss: 0.0285\n",
      "Epoch 6/10\n",
      "612/612 [==============================] - 25s 42ms/step - loss: 0.0288 - val_loss: 0.0283\n",
      "Epoch 7/10\n",
      "612/612 [==============================] - 25s 41ms/step - loss: 0.0280 - val_loss: 0.0272\n",
      "Epoch 8/10\n",
      "612/612 [==============================] - 25s 41ms/step - loss: 0.0273 - val_loss: 0.0269\n",
      "Epoch 9/10\n",
      "612/612 [==============================] - 25s 41ms/step - loss: 0.0268 - val_loss: 0.0264\n",
      "Epoch 10/10\n",
      "612/612 [==============================] - 25s 42ms/step - loss: 0.0264 - val_loss: 0.0259\n"
     ]
    }
   ],
   "source": [
    "tb = TensorBoard(log_dir='../logs/mnist_over_5', \n",
    "                 write_grads=True, write_images=True, histogram_freq=0)\n",
    "\n",
    "cae_over_5.model.fit_generator(generator = train_over_5_generator, \n",
    "                              validation_data = valid_over_5_generator,\n",
    "                              steps_per_epoch = len(train_over_5_generator),\n",
    "                              validation_steps = len(valid_over_5_generator),\n",
    "                              epochs = 10, \n",
    "                              callbacks = [tb])\n",
    "\n",
    "cae_over_5.save()"
   ]
  },
  {
   "cell_type": "markdown",
   "metadata": {},
   "source": [
    "## Evaluación"
   ]
  },
  {
   "cell_type": "markdown",
   "metadata": {},
   "source": [
    "Se comprueba como los errores de reconstrucción son aproximadamente dos veces más cuando se utiliza el CAE que no corresponde, esto demuestra la validez de la idea. Es ahora es posible predecir si un número es mayor o igual que 5 comparando los errores de reconstrucción de ambos CAE."
   ]
  },
  {
   "cell_type": "markdown",
   "metadata": {},
   "source": [
    "**CAE < 5** vs **Digitos < 5**"
   ]
  },
  {
   "cell_type": "code",
   "execution_count": 248,
   "metadata": {},
   "outputs": [
    {
     "data": {
      "text/plain": [
       "0.024958572241026957"
      ]
     },
     "execution_count": 248,
     "metadata": {},
     "output_type": "execute_result"
    }
   ],
   "source": [
    "cae_sub_5.model.evaluate_generator(test_sub_5_generator, steps=len(test_sub_5_generator))"
   ]
  },
  {
   "cell_type": "markdown",
   "metadata": {},
   "source": [
    "**CAE < 5** vs **Digitos >= 5**"
   ]
  },
  {
   "cell_type": "code",
   "execution_count": 250,
   "metadata": {},
   "outputs": [
    {
     "data": {
      "text/plain": [
       "0.04827071048416668"
      ]
     },
     "execution_count": 250,
     "metadata": {},
     "output_type": "execute_result"
    }
   ],
   "source": [
    "cae_sub_5.model.evaluate_generator(test_over_5_generator, steps=len(test_over_5_generator))"
   ]
  },
  {
   "cell_type": "markdown",
   "metadata": {},
   "source": [
    "**CAE >= 5** vs **Digitos >= 5**"
   ]
  },
  {
   "cell_type": "code",
   "execution_count": 90,
   "metadata": {},
   "outputs": [
    {
     "data": {
      "text/plain": [
       "0.02619810340317942"
      ]
     },
     "execution_count": 90,
     "metadata": {},
     "output_type": "execute_result"
    }
   ],
   "source": [
    "cae_over_5.model.evaluate_generator(test_over_5_generator, steps=len(test_over_5_generator))"
   ]
  },
  {
   "cell_type": "markdown",
   "metadata": {},
   "source": [
    "**CAE >= 5** vs **Digitos < 5**"
   ]
  },
  {
   "cell_type": "code",
   "execution_count": 93,
   "metadata": {},
   "outputs": [
    {
     "data": {
      "text/plain": [
       "0.048301321839635154"
      ]
     },
     "execution_count": 93,
     "metadata": {},
     "output_type": "execute_result"
    }
   ],
   "source": [
    "cae_over_5.model.evaluate_generator(test_sub_5_generator, steps=len(test_sub_5_generator))"
   ]
  },
  {
   "cell_type": "markdown",
   "metadata": {},
   "source": [
    "__Ejemplos__"
   ]
  },
  {
   "cell_type": "markdown",
   "metadata": {},
   "source": [
    "Las siguientes figuras muestran ejemplos de las imágenes originales y sus reconstrucciones con cada uno de los dos CAEs. Se puede obvervar a simple vista cómo cada dígito se reconstruye mejor con su modelo correspondiente. Es más, se observa que cada modelo genera dígitos de su conjunto, por ejemplo el modelo '>=5' genera el dígito 8 cada vez que recibe un 3."
   ]
  },
  {
   "cell_type": "code",
   "execution_count": 258,
   "metadata": {},
   "outputs": [
    {
     "data": {
      "image/png": "[encoded data removed]",
      "text/plain": [
       "<Figure size 1080x324 with 30 Axes>"
      ]
     },
     "metadata": {
      "needs_background": "light"
     },
     "output_type": "display_data"
    }
   ],
   "source": [
    "N = 10\n",
    "i = 0\n",
    "f, ax = plt.subplots(ncols=N, nrows=3, figsize=(1.5*N, 4.5))\n",
    "f.suptitle('Muestras de dígitos < 5', fontsize=18)\n",
    "\n",
    "for data in test_sub_5_generator:\n",
    "\n",
    "    img = data[0][0]\n",
    "    img_pred_over_5 = cae_over_5.model.predict(data[0])[0]\n",
    "    err_over_5 = cae_over_5.model.evaluate(data[0], data[0], verbose=0)\n",
    "    \n",
    "    img_pred_sub_5 = cae_sub_5.model.predict(data[0])[0]\n",
    "    err_sub_5 = cae_sub_5.model.evaluate(data[0], data[0], verbose=0)\n",
    "\n",
    "    \n",
    "    ax[0][i].imshow(img), ax[0][i].axis('off')\n",
    "    ax[1][i].imshow(img_pred_sub_5), ax[1][i].axis('off')\n",
    "    ax[2][i].imshow(img_pred_over_5), ax[2][i].axis('off')\n",
    "    \n",
    "    ax[0][0].text(-32, 16, 'Orginal', fontsize=16)\n",
    "    ax[1][0].text(-32, 16, 'CAE < 5', fontsize=16)\n",
    "    ax[2][0].text(-32, 16, 'CAE >= 5', fontsize=16)\n",
    "\n",
    "\n",
    "    i += 1\n",
    "    if i >= N:\n",
    "        break"
   ]
  },
  {
   "cell_type": "code",
   "execution_count": 257,
   "metadata": {},
   "outputs": [
    {
     "data": {
      "image/png": "[encoded data removed]",
      "text/plain": [
       "<Figure size 1080x324 with 30 Axes>"
      ]
     },
     "metadata": {
      "needs_background": "light"
     },
     "output_type": "display_data"
    }
   ],
   "source": [
    "N = 10\n",
    "i = 0\n",
    "f, ax = plt.subplots(ncols=N, nrows=3, figsize=(1.5*N, 4.5))\n",
    "f.suptitle('Muestras de dígitos >= 5', fontsize=18)\n",
    "\n",
    "for data in test_over_5_generator:\n",
    "\n",
    "    img = data[0][0]\n",
    "    img_pred_over_5 = cae_over_5.model.predict(data[0])[0]\n",
    "    err_over_5 = cae_over_5.model.evaluate(data[0], data[0], verbose=0)\n",
    "    \n",
    "    img_pred_sub_5 = cae_sub_5.model.predict(data[0])[0]\n",
    "    err_sub_5 = cae_sub_5.model.evaluate(data[0], data[0], verbose=0)\n",
    "\n",
    "    \n",
    "    ax[0][i].imshow(img), ax[0][i].axis('off')\n",
    "    ax[1][i].imshow(img_pred_sub_5), ax[1][i].axis('off')\n",
    "    ax[2][i].imshow(img_pred_over_5), ax[2][i].axis('off')\n",
    "\n",
    "    ax[0][0].text(-32, 16, 'Orginal', fontsize=16)\n",
    "    ax[1][0].text(-32, 16, 'CAE < 5', fontsize=16)\n",
    "    ax[2][0].text(-32, 16, 'CAE >= 5', fontsize=16)\n",
    "\n",
    "\n",
    "    i += 1\n",
    "    if i >= N:\n",
    "        break"
   ]
  }
 ],
 "metadata": {
  "kernelspec": {
   "display_name": "Python 3",
   "language": "python",
   "name": "python3"
  },
  "language_info": {
   "codemirror_mode": {
    "name": "ipython",
    "version": 3
   },
   "file_extension": ".py",
   "mimetype": "text/x-python",
   "name": "python",
   "nbconvert_exporter": "python",
   "pygments_lexer": "ipython3",
   "version": "3.7.1"
  }
 },
 "nbformat": 4,
 "nbformat_minor": 2
}
