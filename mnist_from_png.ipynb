{
 "cells": [
  {
   "cell_type": "code",
   "execution_count": 227,
   "metadata": {},
   "outputs": [
    {
     "name": "stdout",
     "output_type": "stream",
     "text": [
      "The autoreload extension is already loaded. To reload it, use:\n",
      "  %reload_ext autoreload\n"
     ]
    }
   ],
   "source": [
    "%load_ext autoreload\n",
    "%autoreload 2"
   ]
  },
  {
   "cell_type": "code",
   "execution_count": 228,
   "metadata": {},
   "outputs": [],
   "source": [
    "%matplotlib inline"
   ]
  },
  {
   "cell_type": "code",
   "execution_count": 265,
   "metadata": {},
   "outputs": [],
   "source": [
    "from model.cae import CAE\n",
    "\n",
    "from utils import plot_paired_imgs\n",
    "from utils import plot_sample_imgs\n",
    "from utils import read_images\n",
    "\n",
    "import os\n",
    "\n",
    "import numpy as np\n",
    "import pandas as pd\n",
    "\n",
    "from tqdm import tqdm_notebook"
   ]
  },
  {
   "cell_type": "code",
   "execution_count": 230,
   "metadata": {},
   "outputs": [],
   "source": [
    "from datetime import datetime"
   ]
  },
  {
   "cell_type": "code",
   "execution_count": 231,
   "metadata": {},
   "outputs": [],
   "source": [
    "from keras.callbacks import TensorBoard\n",
    "from keras.preprocessing.image import ImageDataGenerator"
   ]
  },
  {
   "cell_type": "markdown",
   "metadata": {},
   "source": [
    "__Read data__"
   ]
  },
  {
   "cell_type": "code",
   "execution_count": 234,
   "metadata": {},
   "outputs": [],
   "source": [
    "DATA_PATH = '/home/jupyter/data/mnist'\n",
    "PNG_PATH = os.path.join(DATA_PATH, 'png')"
   ]
  },
  {
   "cell_type": "code",
   "execution_count": 235,
   "metadata": {},
   "outputs": [],
   "source": [
    "train_df = pd.read_csv(os.path.join(DATA_PATH, 'train.csv'), sep='|')\n",
    "test_df = pd.read_csv(os.path.join(DATA_PATH, 'test.csv'), sep='|')"
   ]
  },
  {
   "cell_type": "code",
   "execution_count": 236,
   "metadata": {},
   "outputs": [
    {
     "data": {
      "text/html": [
       "<div>\n",
       "<style scoped>\n",
       "    .dataframe tbody tr th:only-of-type {\n",
       "        vertical-align: middle;\n",
       "    }\n",
       "\n",
       "    .dataframe tbody tr th {\n",
       "        vertical-align: top;\n",
       "    }\n",
       "\n",
       "    .dataframe thead th {\n",
       "        text-align: right;\n",
       "    }\n",
       "</style>\n",
       "<table border=\"1\" class=\"dataframe\">\n",
       "  <thead>\n",
       "    <tr style=\"text-align: right;\">\n",
       "      <th></th>\n",
       "      <th>label</th>\n",
       "      <th>filename</th>\n",
       "    </tr>\n",
       "  </thead>\n",
       "  <tbody>\n",
       "    <tr>\n",
       "      <th>0</th>\n",
       "      <td>5</td>\n",
       "      <td>train_00000.png</td>\n",
       "    </tr>\n",
       "    <tr>\n",
       "      <th>1</th>\n",
       "      <td>0</td>\n",
       "      <td>train_00001.png</td>\n",
       "    </tr>\n",
       "    <tr>\n",
       "      <th>2</th>\n",
       "      <td>4</td>\n",
       "      <td>train_00002.png</td>\n",
       "    </tr>\n",
       "    <tr>\n",
       "      <th>3</th>\n",
       "      <td>1</td>\n",
       "      <td>train_00003.png</td>\n",
       "    </tr>\n",
       "    <tr>\n",
       "      <th>4</th>\n",
       "      <td>9</td>\n",
       "      <td>train_00004.png</td>\n",
       "    </tr>\n",
       "  </tbody>\n",
       "</table>\n",
       "</div>"
      ],
      "text/plain": [
       "   label         filename\n",
       "0      5  train_00000.png\n",
       "1      0  train_00001.png\n",
       "2      4  train_00002.png\n",
       "3      1  train_00003.png\n",
       "4      9  train_00004.png"
      ]
     },
     "execution_count": 236,
     "metadata": {},
     "output_type": "execute_result"
    }
   ],
   "source": [
    "train_df.head(5)"
   ]
  },
  {
   "cell_type": "code",
   "execution_count": 237,
   "metadata": {},
   "outputs": [
    {
     "data": {
      "text/html": [
       "<div>\n",
       "<style scoped>\n",
       "    .dataframe tbody tr th:only-of-type {\n",
       "        vertical-align: middle;\n",
       "    }\n",
       "\n",
       "    .dataframe tbody tr th {\n",
       "        vertical-align: top;\n",
       "    }\n",
       "\n",
       "    .dataframe thead th {\n",
       "        text-align: right;\n",
       "    }\n",
       "</style>\n",
       "<table border=\"1\" class=\"dataframe\">\n",
       "  <thead>\n",
       "    <tr style=\"text-align: right;\">\n",
       "      <th></th>\n",
       "      <th>label</th>\n",
       "      <th>filename</th>\n",
       "    </tr>\n",
       "  </thead>\n",
       "  <tbody>\n",
       "    <tr>\n",
       "      <th>0</th>\n",
       "      <td>7</td>\n",
       "      <td>test_00000.png</td>\n",
       "    </tr>\n",
       "    <tr>\n",
       "      <th>1</th>\n",
       "      <td>2</td>\n",
       "      <td>test_00001.png</td>\n",
       "    </tr>\n",
       "    <tr>\n",
       "      <th>2</th>\n",
       "      <td>1</td>\n",
       "      <td>test_00002.png</td>\n",
       "    </tr>\n",
       "    <tr>\n",
       "      <th>3</th>\n",
       "      <td>0</td>\n",
       "      <td>test_00003.png</td>\n",
       "    </tr>\n",
       "    <tr>\n",
       "      <th>4</th>\n",
       "      <td>4</td>\n",
       "      <td>test_00004.png</td>\n",
       "    </tr>\n",
       "  </tbody>\n",
       "</table>\n",
       "</div>"
      ],
      "text/plain": [
       "   label        filename\n",
       "0      7  test_00000.png\n",
       "1      2  test_00001.png\n",
       "2      1  test_00002.png\n",
       "3      0  test_00003.png\n",
       "4      4  test_00004.png"
      ]
     },
     "execution_count": 237,
     "metadata": {},
     "output_type": "execute_result"
    }
   ],
   "source": [
    "test_df.head(5)"
   ]
  },
  {
   "cell_type": "code",
   "execution_count": 277,
   "metadata": {},
   "outputs": [
    {
     "name": "stderr",
     "output_type": "stream",
     "text": [
      "100%|██████████| 100/100 [00:00<00:00, 10276.88imgs/s]\n"
     ]
    }
   ],
   "source": [
    "images_train_sample = read_images(train_df['filename'].iloc[:100], PNG_PATH)"
   ]
  },
  {
   "cell_type": "code",
   "execution_count": 278,
   "metadata": {},
   "outputs": [
    {
     "data": {
      "image/png": "[encoded data removed]",
      "text/plain": [
       "<Figure size 1296x432 with 12 Axes>"
      ]
     },
     "metadata": {
      "needs_background": "light"
     },
     "output_type": "display_data"
    }
   ],
   "source": [
    "plot_sample_imgs(images_train_sample, 2, 6)"
   ]
  },
  {
   "cell_type": "markdown",
   "metadata": {},
   "source": [
    "**Prepare data**"
   ]
  },
  {
   "cell_type": "code",
   "execution_count": 279,
   "metadata": {},
   "outputs": [],
   "source": [
    "BATCH_SIZE = 32\n",
    "EPOCHS = 20\n",
    "IMAGE_SIZE = 28\n",
    "SEED = 1993"
   ]
  },
  {
   "cell_type": "code",
   "execution_count": 280,
   "metadata": {},
   "outputs": [
    {
     "name": "stdout",
     "output_type": "stream",
     "text": [
      "Found 40000 images.\n",
      "Found 10000 images.\n"
     ]
    }
   ],
   "source": [
    "train_datagen = ImageDataGenerator(validation_split=0.2, rescale=1/255)\n",
    "\n",
    "train_generator = train_datagen.flow_from_dataframe(train_df, directory=PNG_PATH + '/', x_col='filename', \n",
    "                                                    target_size=(IMAGE_SIZE, IMAGE_SIZE), color_mode='rgb', class_mode='input', \n",
    "                                                    batch_size=BATCH_SIZE, subset='training', seed=SEED)\n",
    "\n",
    "validation_generator = train_datagen.flow_from_dataframe(train_df, directory=PNG_PATH, x_col='filename', \n",
    "                                                         target_size=(IMAGE_SIZE, IMAGE_SIZE), color_mode='rgb', class_mode='input', \n",
    "                                                         batch_size=BATCH_SIZE, subset='validation', seed=SEED)"
   ]
  },
  {
   "cell_type": "code",
   "execution_count": 255,
   "metadata": {},
   "outputs": [],
   "source": [
    "test_df = test_df.iloc[:1000]"
   ]
  },
  {
   "cell_type": "code",
   "execution_count": 256,
   "metadata": {},
   "outputs": [
    {
     "name": "stdout",
     "output_type": "stream",
     "text": [
      "Found 1000 images.\n"
     ]
    }
   ],
   "source": [
    "test_datagen = ImageDataGenerator(rescale=1/255)\n",
    "\n",
    "test_generator = test_datagen.flow_from_dataframe(test_df, directory=PNG_PATH, x_col='filename', \n",
    "                                                  target_size=(IMAGE_SIZE, IMAGE_SIZE), color_mode='rgb', class_mode='input', \n",
    "                                                  batch_size=1, seed=SEED)"
   ]
  },
  {
   "cell_type": "markdown",
   "metadata": {},
   "source": [
    "__Train model__"
   ]
  },
  {
   "cell_type": "code",
   "execution_count": 16,
   "metadata": {},
   "outputs": [
    {
     "name": "stdout",
     "output_type": "stream",
     "text": [
      "WARNING:tensorflow:From /usr/local/lib/python3.5/dist-packages/tensorflow/python/framework/op_def_library.py:263: colocate_with (from tensorflow.python.framework.ops) is deprecated and will be removed in a future version.\n",
      "Instructions for updating:\n",
      "Colocations handled automatically by placer.\n"
     ]
    }
   ],
   "source": [
    "# initialize ConvAutoEncoder model\n",
    "cae = CAE(input_shape=(IMAGE_SIZE, IMAGE_SIZE, 3), output_dim=20, filters=[8,16], \n",
    "          path='/home/jupyter/data/model')"
   ]
  },
  {
   "cell_type": "code",
   "execution_count": 17,
   "metadata": {},
   "outputs": [],
   "source": [
    "tb = TensorBoard(log_dir='./logs/mnist' + datetime.now().strftime('%Y%m%d_%H%M'), \n",
    "                 write_grads=True, write_images=True, histogram_freq=0)"
   ]
  },
  {
   "cell_type": "code",
   "execution_count": 18,
   "metadata": {},
   "outputs": [
    {
     "name": "stdout",
     "output_type": "stream",
     "text": [
      "WARNING:tensorflow:From /usr/local/lib/python3.5/dist-packages/tensorflow/python/ops/math_ops.py:3066: to_int32 (from tensorflow.python.ops.math_ops) is deprecated and will be removed in a future version.\n",
      "Instructions for updating:\n",
      "Use tf.cast instead.\n",
      "Epoch 1/20\n",
      "1250/1250 [==============================] - 71s 57ms/step - loss: 0.0438 - val_loss: 0.0240\n",
      "Epoch 2/20\n",
      "1250/1250 [==============================] - 54s 43ms/step - loss: 0.0218 - val_loss: 0.0196\n",
      "Epoch 3/20\n",
      "1250/1250 [==============================] - 53s 43ms/step - loss: 0.0189 - val_loss: 0.0176\n",
      "Epoch 4/20\n",
      "1250/1250 [==============================] - 54s 43ms/step - loss: 0.0174 - val_loss: 0.0165\n",
      "Epoch 5/20\n",
      "1250/1250 [==============================] - 54s 43ms/step - loss: 0.0164 - val_loss: 0.0158\n",
      "Epoch 6/20\n",
      "1250/1250 [==============================] - 53s 42ms/step - loss: 0.0157 - val_loss: 0.0152\n",
      "Epoch 7/20\n",
      "1250/1250 [==============================] - 53s 43ms/step - loss: 0.0152 - val_loss: 0.0149\n",
      "Epoch 8/20\n",
      "1250/1250 [==============================] - 54s 43ms/step - loss: 0.0147 - val_loss: 0.0143\n",
      "Epoch 9/20\n",
      "1250/1250 [==============================] - 53s 43ms/step - loss: 0.0144 - val_loss: 0.0141\n",
      "Epoch 10/20\n",
      "1250/1250 [==============================] - 53s 43ms/step - loss: 0.0141 - val_loss: 0.0139\n",
      "Epoch 11/20\n",
      "1250/1250 [==============================] - 53s 42ms/step - loss: 0.0138 - val_loss: 0.0135\n",
      "Epoch 12/20\n",
      "1250/1250 [==============================] - 53s 42ms/step - loss: 0.0136 - val_loss: 0.0131\n",
      "Epoch 13/20\n",
      "1250/1250 [==============================] - 53s 43ms/step - loss: 0.0129 - val_loss: 0.0127\n",
      "Epoch 14/20\n",
      "1250/1250 [==============================] - 53s 42ms/step - loss: 0.0126 - val_loss: 0.0125\n",
      "Epoch 15/20\n",
      "1250/1250 [==============================] - 52s 42ms/step - loss: 0.0124 - val_loss: 0.0124\n",
      "Epoch 16/20\n",
      "1250/1250 [==============================] - 53s 43ms/step - loss: 0.0122 - val_loss: 0.0120\n",
      "Epoch 17/20\n",
      "1250/1250 [==============================] - 53s 43ms/step - loss: 0.0121 - val_loss: 0.0119\n",
      "Epoch 18/20\n",
      "1250/1250 [==============================] - 52s 42ms/step - loss: 0.0117 - val_loss: 0.0114\n",
      "Epoch 19/20\n",
      "1250/1250 [==============================] - 54s 43ms/step - loss: 0.0114 - val_loss: 0.0113\n",
      "Epoch 20/20\n",
      "1250/1250 [==============================] - 53s 42ms/step - loss: 0.0113 - val_loss: 0.0111\n"
     ]
    },
    {
     "data": {
      "text/plain": [
       "<keras.callbacks.History at 0x7f84366e6cc0>"
      ]
     },
     "execution_count": 18,
     "metadata": {},
     "output_type": "execute_result"
    }
   ],
   "source": [
    "cae.model.fit_generator(generator = train_generator, \n",
    "                        validation_data = validation_generator,\n",
    "                        steps_per_epoch = len(train_generator),\n",
    "                        validation_steps = len(validation_generator),\n",
    "                        epochs = EPOCHS, \n",
    "                        callbacks = [tb])"
   ]
  },
  {
   "cell_type": "markdown",
   "metadata": {},
   "source": [
    "__Run Predictions__"
   ]
  },
  {
   "cell_type": "code",
   "execution_count": 258,
   "metadata": {},
   "outputs": [
    {
     "name": "stdout",
     "output_type": "stream",
     "text": [
      "CPU times: user 4.03 s, sys: 364 ms, total: 4.4 s\n",
      "Wall time: 1.93 s\n"
     ]
    },
    {
     "data": {
      "text/plain": [
       "0.010934267574455588"
      ]
     },
     "execution_count": 258,
     "metadata": {},
     "output_type": "execute_result"
    }
   ],
   "source": [
    "%%time\n",
    "cae.model.evaluate_generator(test_generator, len(test_generator))"
   ]
  },
  {
   "cell_type": "code",
   "execution_count": 260,
   "metadata": {},
   "outputs": [
    {
     "name": "stdout",
     "output_type": "stream",
     "text": [
      "CPU times: user 3.26 s, sys: 340 ms, total: 3.6 s\n",
      "Wall time: 1.79 s\n"
     ]
    }
   ],
   "source": [
    "%%time\n",
    "X_test_enc = cae.encoder.predict_generator(test_generator, len(test_generator))"
   ]
  },
  {
   "cell_type": "code",
   "execution_count": 284,
   "metadata": {},
   "outputs": [
    {
     "data": {
      "text/plain": [
       "array([[ 7.1119413,  2.2488925,  8.896568 ,  8.092659 ,  0.       ,\n",
       "        11.685453 ,  1.0150276, 10.145022 ,  4.2573028,  0.       ,\n",
       "         3.7214804,  8.481744 ,  2.755852 , 11.382693 ,  9.281883 ,\n",
       "         2.8407373,  5.00479  ,  3.4740176,  1.0237017,  0.       ],\n",
       "       [ 9.366047 ,  8.778297 ,  3.9923596,  6.008081 ,  0.       ,\n",
       "         7.1506047,  5.020612 ,  1.1689605,  5.7982187,  0.       ,\n",
       "         5.950869 ,  2.7156963,  4.262079 ,  3.2129347,  9.791313 ,\n",
       "         7.003344 ,  3.1389635,  4.073145 ,  3.582332 ,  0.       ],\n",
       "       [ 8.681977 ,  6.252889 ,  1.3877904,  6.824855 ,  0.       ,\n",
       "         5.76086  ,  8.179815 ,  0.       ,  2.0679357,  0.       ,\n",
       "         4.8355904,  6.6277266,  0.3629095,  2.8757715,  7.785982 ,\n",
       "         6.2500205,  2.335654 ,  3.6849444,  1.2520776,  0.       ],\n",
       "       [ 7.1616855,  7.00179  ,  7.0483665,  3.444038 ,  0.       ,\n",
       "         4.774093 , 10.231929 ,  1.840922 ,  1.7121958,  0.       ,\n",
       "         6.132911 ,  5.6907444,  3.56074  ,  2.2779787,  6.7511115,\n",
       "         8.446045 ,  3.0532544,  2.855753 ,  1.9920008,  0.       ]],\n",
       "      dtype=float32)"
      ]
     },
     "execution_count": 284,
     "metadata": {},
     "output_type": "execute_result"
    }
   ],
   "source": [
    "X_test_enc[:4]"
   ]
  },
  {
   "cell_type": "code",
   "execution_count": 262,
   "metadata": {},
   "outputs": [
    {
     "data": {
      "text/plain": [
       "(1000, 20)"
      ]
     },
     "execution_count": 262,
     "metadata": {},
     "output_type": "execute_result"
    }
   ],
   "source": [
    "X_test_enc.shape"
   ]
  },
  {
   "cell_type": "code",
   "execution_count": 281,
   "metadata": {},
   "outputs": [
    {
     "name": "stderr",
     "output_type": "stream",
     "text": [
      "100%|██████████| 1000/1000 [00:00<00:00, 14235.93imgs/s]\n"
     ]
    }
   ],
   "source": [
    "X_test = read_images(test_df['filename'].values, PNG_PATH)"
   ]
  },
  {
   "cell_type": "code",
   "execution_count": 282,
   "metadata": {},
   "outputs": [],
   "source": [
    "X_test_pred = cae.model.predict(X_test)"
   ]
  },
  {
   "cell_type": "code",
   "execution_count": 283,
   "metadata": {},
   "outputs": [
    {
     "data": {
      "image/png": "[encoded data removed]",
      "text/plain": [
       "<Figure size 1296x432 with 12 Axes>"
      ]
     },
     "metadata": {
      "needs_background": "light"
     },
     "output_type": "display_data"
    }
   ],
   "source": [
    "plot_paired_imgs(X_test, X_test_pred, N=6, orient='h')"
   ]
  }
 ],
 "metadata": {
  "kernelspec": {
   "display_name": "Python 3",
   "language": "python",
   "name": "python3"
  },
  "language_info": {
   "codemirror_mode": {
    "name": "ipython",
    "version": 3
   },
   "file_extension": ".py",
   "mimetype": "text/x-python",
   "name": "python",
   "nbconvert_exporter": "python",
   "pygments_lexer": "ipython3",
   "version": "3.5.3"
  }
 },
 "nbformat": 4,
 "nbformat_minor": 2
}
